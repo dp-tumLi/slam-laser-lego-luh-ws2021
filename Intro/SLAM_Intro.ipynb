{
 "cells": [
  {
   "cell_type": "markdown",
   "metadata": {
    "deletable": false,
    "editable": false,
    "nbgrader": {
     "cell_type": "markdown",
     "checksum": "4e4bc5b85d9c910a428955c8eabe0cfa",
     "grade": false,
     "grade_id": "cell-8aea67ab7f7833c7",
     "locked": true,
     "schema_version": 3,
     "solution": false,
     "task": false
    }
   },
   "source": [
    "# SLAM Intro\n",
    "\n",
    "## About the lecture\n",
    "- There will be no regular lecture, neither a presence event, nor an online event.\n",
    "- However, should such an event become necessary, it will be announced via Stud.IP and the preferred time slot will be **Fridays at 2 PM**.\n",
    "- In case you have questions w.r.t. the **lecture topic**, or you are stuck when trying to solve an assignment, feel free to contact __[Claus Brenner](mailto:claus.brenner@ikg.uni-hannover.de)__.\n",
    "- In case you encounter **technical problems**, contact __[Artem Leichter](mailto:artem.leichter@ikg.uni-hannover.de)__.\n",
    "- The course is about *SLAM*, *Simultaneous Localization and Mapping*, and covers several topics in a number of units.\n",
    "- In intervals of about 10 days, we will provide a new unit, in the form of one or more *Jupyter Notebooks* which contain text, videos, and programming assignments. Each such release will be announced via Stud.IP.\n",
    "- You can work on those assignments independently from any schedule, on any device.\n",
    "- However, **each assignment will have a deadline by which you will have to submit your solution**.\n",
    "- To **be admitted to the exam, you will have to obtain at least 80% of the points (overall sum of all assignments)**.\n",
    "\n",
    "## Fetch and submit procedure\n",
    "- Once a new unit is announced, you can *fetch* it, and start working on it.\n",
    "- After you are happy with your solution, you can *submit* it.\n",
    "- You may *re-submit* your solution, as long as the deadline has not passed. Only the last submitted solution is retained.\n",
    "- The solution you submitted will be graded when the deadline has passed.\n",
    "- See __[fetching, submitting, and running Python on your own computer](#Fetching,-submitting,-and-running-Python-on-your-own-computer)__ at the end of this document for a more detailled treatment."
   ]
  },
  {
   "cell_type": "markdown",
   "metadata": {
    "deletable": false,
    "editable": false,
    "nbgrader": {
     "cell_type": "markdown",
     "checksum": "e30449bca701c7f01ae7e1c96397c7ed",
     "grade": false,
     "grade_id": "cell-0c1ce41c8c692bb0",
     "locked": true,
     "schema_version": 3,
     "solution": false,
     "task": false
    }
   },
   "source": [
    "# The Jupyter Notebook\n",
    "- What you look at right now is a Juypter Notebook, which mixes text-based explanations, video tutorials, and code, which can be executed right here.\n",
    "- The content is organized in cells, which you can select and run.\n",
    "- Most often, you will like to run a cell and jump right to the next cell below it. For that, you can simply press *Shift-Enter* (press *Enter* while holding *Shift*). Or, while developing, you will like to just run a cell (and keep it selected), in this case you would use *Ctrl-Enter*.\n",
    "- Maybe it is other keys with your OS. You can check the keys in the *Cell* menu item above.\n",
    "- You can also run cells by pressing the *Run* button in the toolbar above.\n",
    "- For a quick intro you can use *Help*->*User Interface Tour* from the menu above.\n",
    "- Don't get confused by the *Mode*. You are either in *Edit Mode*, or in *Command Mode*, which changes what happens when you press keys. The mode is also indicated by the colour of the selected cell (usually, blue for command, and greed for edit mode).\n",
    "- In the right top corner, note the *Kernel Indicator* (the small circle right next to *Python 3*) which tells you if the kernel is busy. More on that in a moment."
   ]
  },
  {
   "cell_type": "markdown",
   "metadata": {
    "deletable": false,
    "editable": false,
    "nbgrader": {
     "cell_type": "markdown",
     "checksum": "da5d021ad2b5a19aacba447a694fb1f7",
     "grade": false,
     "grade_id": "cell-0a2899ed04e3e159",
     "locked": true,
     "schema_version": 3,
     "solution": false,
     "task": false
    }
   },
   "source": [
    "## Watching videos\n",
    "- Most of the explanations will be given using video tutorials.\n",
    "- Actually, this runs a bit of code, which we will cover in a minute.\n",
    "- For now, it is important that when you run a \"video cell\", it will generate a frame with an embedded video inside.\n",
    "- You may also use the controls inside the video to switch to full screen or open a new tab at the video stream provider.\n",
    "- Just as a demonstration, the following cell is the video describing the contents of the course."
   ]
  },
  {
   "cell_type": "code",
   "execution_count": 1,
   "metadata": {
    "deletable": false,
    "editable": false,
    "nbgrader": {
     "cell_type": "code",
     "checksum": "431b7bcf6adec360ad2ea66256f99883",
     "grade": false,
     "grade_id": "cell-4dc76d87563e5bb7",
     "locked": true,
     "schema_version": 3,
     "solution": false,
     "task": false
    }
   },
   "outputs": [
    {
     "data": {
      "text/html": [
       "\n",
       "        <iframe\n",
       "            width=\"560\"\n",
       "            height=\"315\"\n",
       "            src=\"https://www.youtube.com/embed/B2qzYCeT9oQ\"\n",
       "            frameborder=\"0\"\n",
       "            allowfullscreen\n",
       "        ></iframe>\n",
       "        "
      ],
      "text/plain": [
       "<IPython.lib.display.IFrame at 0x7ffb3457de10>"
      ]
     },
     "execution_count": 1,
     "metadata": {},
     "output_type": "execute_result"
    }
   ],
   "source": [
    "# If you don't see a video below, run this cell (e.g. press Enter while holding Shift).\n",
    "from IPython.display import IFrame\n",
    "IFrame(\"https://www.youtube.com/embed/B2qzYCeT9oQ\", width=560, height=315)"
   ]
  },
  {
   "cell_type": "markdown",
   "metadata": {
    "deletable": false,
    "editable": false,
    "nbgrader": {
     "cell_type": "markdown",
     "checksum": "101495147db45e5a569acedefc49bc0b",
     "grade": false,
     "grade_id": "cell-edfeaea1507856ec",
     "locked": true,
     "schema_version": 3,
     "solution": false,
     "task": false
    }
   },
   "source": [
    "## Python code cells and the kernel\n",
    "- The Jupyter Notebook you are looking at right now is connected to a server which runs a kernel.\n",
    "- This allows you to execute your own code in a cell.\n",
    "- What happens is that the code will be executed on the server and the output (if any) is sent to your notebook, giving you the impression that the code is executed right in the browser.\n",
    "- In our case, we use the programming language Python, so you are connected to a kernel running Python.\n",
    "- If you don't know Python, this is not a problem, since its basic ingredients are very easy to grasp.\n",
    "- However, in this case, we recommend that you invest a bit of time into learning Python.\n",
    "- We will actually use Python version 3, and you can find the official tutorial __[here](https://docs.python.org/3/tutorial/index.html)__.\n",
    "- The cells below will give you a first impression of Python."
   ]
  },
  {
   "cell_type": "code",
   "execution_count": null,
   "metadata": {},
   "outputs": [],
   "source": [
    "# This is a comment. It starts with a hash sign.\n",
    "\n",
    "# We add two numbers, in this case, integers. You may change the numbers and re-execute.\n",
    "2 + 3"
   ]
  },
  {
   "cell_type": "code",
   "execution_count": null,
   "metadata": {},
   "outputs": [],
   "source": [
    "# Now, we add the same numbers, but using floating point numbers, or float's.\n",
    "# The result is a float.\n",
    "2.0 + 3.0"
   ]
  },
  {
   "cell_type": "code",
   "execution_count": null,
   "metadata": {},
   "outputs": [],
   "source": [
    "# Floats can be specified in numerous ways.\n",
    "a = 2000.0\n",
    "b = 2000.\n",
    "c = 2e3\n",
    "d = 2.e3\n",
    "e = 2.0e3\n",
    "f = .2e4\n",
    "\n",
    "# Here, we use the print function to print all numbers.\n",
    "# The result will print right below this cell, and there will be no Out[...] below it.\n",
    "print(a, b, c, d, e, f)"
   ]
  },
  {
   "cell_type": "code",
   "execution_count": null,
   "metadata": {},
   "outputs": [],
   "source": [
    "# If you perform operations using integers, the result will be an integer.\n",
    "a = 5\n",
    "b = 3\n",
    "print( a+b, a-b, a*b)"
   ]
  },
  {
   "cell_type": "code",
   "execution_count": null,
   "metadata": {},
   "outputs": [],
   "source": [
    "# Except for division, which will yield a float.\n",
    "print(a/b)"
   ]
  },
  {
   "cell_type": "code",
   "execution_count": null,
   "metadata": {},
   "outputs": [],
   "source": [
    "# If you want an integer result, use the integer division \"//\" (note it's two slashes).\n",
    "print(a//b)"
   ]
  },
  {
   "cell_type": "code",
   "execution_count": null,
   "metadata": {},
   "outputs": [],
   "source": [
    "# Python has very useful data structures, the most simple of them being a list.\n",
    "[1, 2, 3]"
   ]
  },
  {
   "cell_type": "code",
   "execution_count": null,
   "metadata": {},
   "outputs": [],
   "source": [
    "# You can put about anything into a list.\n",
    "l = [1, 2.0, \"a string\", [\"a\", 7, \"element\", \"sub-list\", \"in\", \"the\", \"list\"]]\n",
    "print(l)"
   ]
  },
  {
   "cell_type": "code",
   "execution_count": null,
   "metadata": {},
   "outputs": [],
   "source": [
    "# You can also concatenate lists, by adding them.\n",
    "l2 = l + [\"these\", \"items\", \"appended\"]\n",
    "print(l2)"
   ]
  },
  {
   "cell_type": "code",
   "execution_count": null,
   "metadata": {},
   "outputs": [],
   "source": [
    "# The following introduces a for loop, which outputs each element of our list on a separate line.\n",
    "# Note that in Python, the indent of a line is significant. Since the print() function is in\n",
    "# the body of the loop, it has to be indented.\n",
    "for element in l2:\n",
    "    print(element)"
   ]
  },
  {
   "cell_type": "code",
   "execution_count": null,
   "metadata": {},
   "outputs": [],
   "source": [
    "# Often, for loops run over a range of integers.\n",
    "# The following for loop generates a table of squared numbers.\n",
    "for i in [0,1,2,3,4]:\n",
    "    print(i, \"raised to the power of two is\", i*i)"
   ]
  },
  {
   "cell_type": "code",
   "execution_count": null,
   "metadata": {},
   "outputs": [],
   "source": [
    "# As you may have noticed, the range of integers is simply a list, namely [0,1,2,3,4].\n",
    "# To define a range of numbers such as this, you will normally use the range() class.\n",
    "for i in range(5):\n",
    "    print(i, \"raised to the power of two is\", i*i)"
   ]
  },
  {
   "cell_type": "code",
   "execution_count": null,
   "metadata": {},
   "outputs": [],
   "source": [
    "# range(stop) actually starts at zero and counts up, until it reaches stop-1 (including).\n",
    "# To see the actual values, we will convert the range to a list.\n",
    "list(range(5))"
   ]
  },
  {
   "cell_type": "code",
   "execution_count": null,
   "metadata": {},
   "outputs": [],
   "source": [
    "# Instead of range(stop), you can use range(start, stop), or range(start, stop, step) to have\n",
    "# more control over the generated sequence. Here are some examples.\n",
    "print(list(range(10)))         # from 0 to 10 (not including).\n",
    "print(list(range(0, 10)))      # also from 0 to 10.\n",
    "print(list(range(3, 10)))      # from 3 to 10.\n",
    "print(list(range(3, 10, 2)))   # from 3 to 10 in steps of two.\n",
    "print(list(range(10, 0, -1)))  # from 10 to 0 (not including) in steps of -1."
   ]
  },
  {
   "cell_type": "code",
   "execution_count": null,
   "metadata": {},
   "outputs": [],
   "source": [
    "# As a last example, we will show how functions are defined.\n",
    "# The following defines a new function which returns two times the value of its argument.\n",
    "# Note that we do not have to declare a data type for x.\n",
    "def two_times(x):\n",
    "    return x * 2\n",
    "\n",
    "# After we defined the function, we may call it with varying arguments.\n",
    "print(two_times(10))\n",
    "print(two_times(123))"
   ]
  },
  {
   "cell_type": "code",
   "execution_count": null,
   "metadata": {},
   "outputs": [],
   "source": [
    "# The function two_times() can be called with any datatype which makes sense (that is called polymorphism).\n",
    "print(two_times(10))            # As before, calling it on an integer returns an integer as well.\n",
    "print(two_times(1.2))           # Calling it on a float returns a float.\n",
    "print(two_times(\"two times \"))  # Calling it on a sequence, such as a string, will duplicate the sequence.\n",
    "print(two_times([1,2,3]))       # A list is also a sequence, so it will also be duplicated."
   ]
  },
  {
   "cell_type": "markdown",
   "metadata": {
    "deletable": false,
    "editable": false,
    "nbgrader": {
     "cell_type": "markdown",
     "checksum": "15c7701b5526e28be3fd418ab2d98468",
     "grade": false,
     "grade_id": "cell-5aeaa81d25c666a6",
     "locked": true,
     "schema_version": 3,
     "solution": false,
     "task": false
    }
   },
   "source": [
    "## Emergency! How to interrupt the kernel\n",
    "- When you run a cell, you may notice that the *Kernel Indicator* (remember: the small empty or filled circle next to *Python 3* in the upper right corner) flickers as you execute the following cells. This shows you that the kernel is busy for a short amount of time, in order to execute the code snippet.\n",
    "- If you run a program that does not stop (\"hangs\"), the *Kernel Indicator* will stay busy. In that case, you cannot start executing another cell.\n",
    "- If that happens, you may try to interrupt the kernel using the *Stop* button in the toolbar, or the menu item *Kernel*->*Interrupt*.\n",
    "- When you interrupt the kernel, it will print an error message, usually mentioning `KeyboardInterrupt`, and print a trace of the code where it happened."
   ]
  },
  {
   "cell_type": "code",
   "execution_count": null,
   "metadata": {},
   "outputs": [],
   "source": [
    "# This code will seem to \"hang\" for 10 seconds, as the kernel waits for the sleep() call to return.\n",
    "# The \"Kernel Indicator\" in the upper right corner will light up and stay busy.\n",
    "# You may try to interrupt the sleep by using the menu item Kernel->Interrupt.\n",
    "from time import sleep\n",
    "sleep(10)\n",
    "print(\"Not interrupted! I just woke up by myself.\")"
   ]
  },
  {
   "cell_type": "markdown",
   "metadata": {
    "deletable": false,
    "editable": false,
    "nbgrader": {
     "cell_type": "markdown",
     "checksum": "5aec17ecd38a776ae122acffeb3a20fb",
     "grade": false,
     "grade_id": "cell-0d674a3f36665d33",
     "locked": true,
     "schema_version": 3,
     "solution": false,
     "task": false
    }
   },
   "source": [
    "## The numpy library\n",
    "- Later in the course we will work with matrices and vectors.\n",
    "- For that we will use the __[numpy](https://numpy.org/)__ library.\n",
    "- If you have used MATLAB before, __[here](https://numpy.org/doc/stable/user/numpy-for-matlab-users.html)__ are some hints on the numpy equivalents.\n",
    "- We will generally import numpy under the short name `np`.\n",
    "- For example, to create a vector or matrix, we will use np.array()."
   ]
  },
  {
   "cell_type": "code",
   "execution_count": 4,
   "metadata": {},
   "outputs": [
    {
     "name": "stdout",
     "output_type": "stream",
     "text": [
      "[10 20 30]\n"
     ]
    }
   ],
   "source": [
    "import numpy as np\n",
    "# We define a 1-dimensional vector by putting the values into a list, then calling np.array() on the list.\n",
    "vl = [10, 20, 30]\n",
    "v = np.array(vl)\n",
    "print(v)"
   ]
  },
  {
   "cell_type": "code",
   "execution_count": 5,
   "metadata": {},
   "outputs": [
    {
     "name": "stdout",
     "output_type": "stream",
     "text": [
      "[[1 2 3]\n",
      " [4 5 6]]\n"
     ]
    }
   ],
   "source": [
    "# Similarly, in order to define a matrix, we will use a list of lists, where each\n",
    "# sub-list represents one row.\n",
    "ml = [[1, 2, 3], [4, 5, 6]]\n",
    "# Here, we convert it into a numpy array. Since the list consists of two sublists\n",
    "# of three elements each, the result is a 2-by-3 matrix.\n",
    "m = np.array(ml)\n",
    "print(m)"
   ]
  },
  {
   "cell_type": "markdown",
   "metadata": {},
   "source": [
    "Here is what happens in math notation if we multiply the matrix `m`, which is $2\\times3$, by the vector `v`, which is a 3-element column vector. In math notation:\n",
    "\n",
    "$m\\cdot v$ = $\\begin{bmatrix}1 & 2 & 3\\\\4 & 5 & 6\\end{bmatrix}\\cdot\\begin{bmatrix}10\\\\20\\\\30\\end{bmatrix}$ = $\\begin{bmatrix}1\\cdot 10 + 2\\cdot 20 + 3\\cdot 30\\\\4\\cdot 10 + 5\\cdot 20 + 6\\cdot 30\\end{bmatrix}$ = $\\begin{bmatrix}140\\\\320\\end{bmatrix}$\n"
   ]
  },
  {
   "cell_type": "code",
   "execution_count": 6,
   "metadata": {},
   "outputs": [
    {
     "name": "stdout",
     "output_type": "stream",
     "text": [
      "[140 320]\n"
     ]
    }
   ],
   "source": [
    "# Now let's run this.\n",
    "print(m @ v)"
   ]
  },
  {
   "cell_type": "code",
   "execution_count": 7,
   "metadata": {},
   "outputs": [
    {
     "name": "stdout",
     "output_type": "stream",
     "text": [
      "[[ 1  4  9]\n",
      " [16 25 36]]\n"
     ]
    }
   ],
   "source": [
    "# Note that the \"*\" operator performs an element-wise multiplication instead.\n",
    "# For example, m * m multiplies each element by itself, leading to a\n",
    "# 2 x 3 matrix with squared elements.\n",
    "print(m * m)"
   ]
  },
  {
   "cell_type": "code",
   "execution_count": 8,
   "metadata": {},
   "outputs": [
    {
     "name": "stdout",
     "output_type": "stream",
     "text": [
      "[[14 32]\n",
      " [32 77]]\n"
     ]
    }
   ],
   "source": [
    "# To show the difference, we will show a matrix multiplication.\n",
    "# We cannot compute m @ m, since the matrix is not square, and (2 x 3) @ (2 x 3) does not make sense.\n",
    "# However if we transpose the second operand, it is (2 x 3) @ (3 x 2), which yields a (2 x 2) result.\n",
    "# Transpose is done by appending \".T\" to the matrix.\n",
    "print(m @ m.T)"
   ]
  },
  {
   "cell_type": "code",
   "execution_count": 9,
   "metadata": {},
   "outputs": [
    {
     "name": "stdout",
     "output_type": "stream",
     "text": [
      "[[17 22 27]\n",
      " [22 29 36]\n",
      " [27 36 45]]\n"
     ]
    }
   ],
   "source": [
    "# We could also transpose the first operand, then it will be (3 x 2) @ (2 x 3), which yields a (3 x 3) result.\n",
    "print(m.T @ m)"
   ]
  },
  {
   "cell_type": "markdown",
   "metadata": {
    "deletable": false,
    "editable": false,
    "nbgrader": {
     "cell_type": "markdown",
     "checksum": "a1177f3587b164bff22b9bd9773b3fa3",
     "grade": false,
     "grade_id": "cell-179ede3fe8f98230",
     "locked": true,
     "schema_version": 3,
     "solution": false,
     "task": false
    }
   },
   "source": [
    "## Plotting: matplotlib\n",
    "- Occasionally, we will plot some results. We will use __[matplotlib](https://matplotlib.org/)__ for that.\n",
    "- It is easy to visualize results quickly using matplotlib and a few lines of code.\n",
    "- However, it is a very powerful tool which you can use to generate very specialized and complicated graphics. If you have some visualization in mind, it may be useful to browse the __[matplotlib gallery](https://matplotlib.org/stable/gallery/index.html)__ to get some inspiration.\n",
    "- We will usually import matplotlib.pyplot using the short name `plt`."
   ]
  },
  {
   "cell_type": "code",
   "execution_count": 10,
   "metadata": {},
   "outputs": [
    {
     "data": {
      "text/plain": [
       "[<matplotlib.lines.Line2D at 0x220ff416e80>]"
      ]
     },
     "execution_count": 10,
     "metadata": {},
     "output_type": "execute_result"
    },
    {
     "data": {
      "image/png": "[encoded data removed]",
      "text/plain": [
       "<Figure size 432x288 with 1 Axes>"
      ]
     },
     "metadata": {
      "needs_background": "light"
     },
     "output_type": "display_data"
    }
   ],
   "source": [
    "import matplotlib.pyplot as plt\n",
    "x = np.array(range(101)) / 100 * 2 * np.pi  # Values for abscissa (x-axis), from 0 to 2*pi.\n",
    "y = np.sin(x)  # Values for ordinate (y-axis): the sine.\n",
    "plt.plot(x,y)  # Now plot... that's all there is to do."
   ]
  },
  {
   "cell_type": "code",
   "execution_count": 11,
   "metadata": {},
   "outputs": [
    {
     "data": {
      "text/plain": [
       "[<matplotlib.lines.Line2D at 0x220ff513a90>]"
      ]
     },
     "execution_count": 11,
     "metadata": {},
     "output_type": "execute_result"
    },
    {
     "data": {
      "image/png": "[encoded data removed]",
      "text/plain": [
       "<Figure size 432x288 with 1 Axes>"
      ]
     },
     "metadata": {
      "needs_background": "light"
     },
     "output_type": "display_data"
    }
   ],
   "source": [
    "# We can also draw multiple curves, say the first 3 frequencies of the sine.\n",
    "plt.plot(x, np.sin(x))\n",
    "plt.plot(x, np.sin(2 * x))\n",
    "plt.plot(x, np.sin(3 * x))"
   ]
  },
  {
   "cell_type": "markdown",
   "metadata": {
    "deletable": false,
    "editable": false,
    "nbgrader": {
     "cell_type": "markdown",
     "checksum": "3148c97da3eb3f736843221a0d4c446c",
     "grade": false,
     "grade_id": "cell-2385c5a2c991c671",
     "locked": true,
     "schema_version": 3,
     "solution": false,
     "task": false
    }
   },
   "source": [
    "## Interactive plotting\n",
    "- Sometimes it is instructive if we can vary parameters of the plot while watching the effect.\n",
    "- We will use interactive graphics inside the Jupyter Notebook to do so.\n",
    "- For example, instead of plotting the sine curve for three fixed frequencies, as in the previous plot, we want to vary the frequency interactively between 1 and 3, using the slider.\n",
    "- As the computations are done in the kernel, therefore you may notice a lag, which may get worse when you play with the slider for a while."
   ]
  },
  {
   "cell_type": "code",
   "execution_count": 12,
   "metadata": {},
   "outputs": [
    {
     "ename": "ModuleNotFoundError",
     "evalue": "No module named 'ipywidgets'",
     "output_type": "error",
     "traceback": [
      "\u001b[1;31m---------------------------------------------------------------------------\u001b[0m",
      "\u001b[1;31mModuleNotFoundError\u001b[0m                       Traceback (most recent call last)",
      "\u001b[1;32m<ipython-input-12-3b530cd301d3>\u001b[0m in \u001b[0;36m<module>\u001b[1;34m\u001b[0m\n\u001b[1;32m----> 1\u001b[1;33m \u001b[1;32mfrom\u001b[0m \u001b[0mipywidgets\u001b[0m \u001b[1;32mimport\u001b[0m \u001b[0minteract\u001b[0m\u001b[1;33m\u001b[0m\u001b[1;33m\u001b[0m\u001b[0m\n\u001b[0m\u001b[0;32m      2\u001b[0m \u001b[0minteract\u001b[0m\u001b[1;33m(\u001b[0m\u001b[1;32mlambda\u001b[0m \u001b[0mfreq\u001b[0m\u001b[1;33m:\u001b[0m \u001b[0mplt\u001b[0m\u001b[1;33m.\u001b[0m\u001b[0mplot\u001b[0m\u001b[1;33m(\u001b[0m\u001b[0mx\u001b[0m\u001b[1;33m,\u001b[0m \u001b[0mnp\u001b[0m\u001b[1;33m.\u001b[0m\u001b[0msin\u001b[0m\u001b[1;33m(\u001b[0m\u001b[0mfreq\u001b[0m \u001b[1;33m*\u001b[0m \u001b[0mx\u001b[0m\u001b[1;33m)\u001b[0m\u001b[1;33m)\u001b[0m\u001b[1;33m,\u001b[0m \u001b[0mfreq\u001b[0m\u001b[1;33m=\u001b[0m\u001b[1;33m(\u001b[0m\u001b[1;36m1.0\u001b[0m\u001b[1;33m,\u001b[0m \u001b[1;36m3.0\u001b[0m\u001b[1;33m,\u001b[0m \u001b[1;36m0.1\u001b[0m\u001b[1;33m)\u001b[0m\u001b[1;33m)\u001b[0m\u001b[1;33m;\u001b[0m\u001b[1;33m\u001b[0m\u001b[1;33m\u001b[0m\u001b[0m\n",
      "\u001b[1;31mModuleNotFoundError\u001b[0m: No module named 'ipywidgets'"
     ]
    }
   ],
   "source": [
    "from ipywidgets import interact\n",
    "interact(lambda freq: plt.plot(x, np.sin(freq * x)), freq=(1.0, 3.0, 0.1));"
   ]
  },
  {
   "cell_type": "markdown",
   "metadata": {
    "deletable": false,
    "editable": false,
    "nbgrader": {
     "cell_type": "markdown",
     "checksum": "c187f796af58712a174c22c3fcf5dc53",
     "grade": false,
     "grade_id": "cell-a6be8a7e9a9d5232",
     "locked": true,
     "schema_version": 3,
     "solution": false,
     "task": false
    }
   },
   "source": [
    "## Grading\n",
    "- This course is lots of fun, but still, in real life we will have to do some grading.\n",
    "- This works as follows:\n",
    " - You will be asked to implement a certain functionality inside a code cell.\n",
    " - After the cell, there will be a cell which tests your solution. This is the so-called **public test**.\n",
    " - While developing your code, you typically will want to run the public test against it to figure out if you code is deemed to be correct, and if not, to get hints what may be wrong with it.\n",
    " - Once you are done with one unit of the course, you will submit it, and the instructor will then run additional tests on it. These are called **private tests**. Only if these tests pass, you will get points for your solution.\n",
    " - For this reason, it does not make sense if you try to outwit the public test cell. **The public test cell you see is not the final (private) test run by the instructor.**\n",
    "- Let's do a step-by-step example."
   ]
  },
  {
   "cell_type": "markdown",
   "metadata": {
    "deletable": false,
    "editable": false,
    "nbgrader": {
     "cell_type": "markdown",
     "checksum": "caad652f9ead986d9c02fd9a06284c1d",
     "grade": false,
     "grade_id": "cell-54e1fb7de48ff011",
     "locked": true,
     "schema_version": 3,
     "solution": false,
     "task": false
    }
   },
   "source": [
    "### A small programming test!\n",
    "- Your task is to write a function which takes two arguments and returns their sum.\n",
    "- We will give a small *code snippet* in the cell below, where you just have to insert your code at the indicated location."
   ]
  },
  {
   "cell_type": "code",
   "execution_count": 13,
   "metadata": {},
   "outputs": [],
   "source": [
    "# Please implement a function which takes two arguments and returns their sum.\n",
    "def the_sum(a, b):\n",
    "    s = a + b  # This line is wrong so far. Please replace this line by the correct code.\n",
    "    return s"
   ]
  },
  {
   "cell_type": "code",
   "execution_count": 14,
   "metadata": {},
   "outputs": [],
   "source": [
    "# Here is the test cell. We will figure out if your function works by testing certain values.\n",
    "# The error message will show which of the tests went wrong.\n",
    "# When you run this test with the original (wrong) code snippet implementation \"s = 2*a + b\",\n",
    "# you will see that the first test passes, but the test in the second line fails.\n",
    "assert(the_sum(0,0) == 0)  # 0+0 should be 0.\n",
    "assert(the_sum(1, 1) == 2)  # 1+1 should be 2.\n",
    "assert(the_sum(-1, 1) == 0)  # Check if it works if the first operand is negative."
   ]
  },
  {
   "cell_type": "markdown",
   "metadata": {
    "deletable": false,
    "editable": false,
    "nbgrader": {
     "cell_type": "markdown",
     "checksum": "1ce672abc3a752140f1f751e70784e70",
     "grade": false,
     "grade_id": "cell-5639a7639e0dfece",
     "locked": true,
     "schema_version": 3,
     "solution": false,
     "task": false
    }
   },
   "source": [
    "### Why trying to outwit the public test does not make sense\n",
    "- Let us repeat this, and assume that you implement your code around the public test, which is easy since the public test is visible to you."
   ]
  },
  {
   "cell_type": "code",
   "execution_count": 15,
   "metadata": {},
   "outputs": [],
   "source": [
    "# Please implement a function which takes two arguments and returns their sum.\n",
    "def the_sum(a, b):\n",
    "    # Say by looking at the public test, you figure out that you can outwit it using the following code.\n",
    "    if a == 0 and b == 0: return 0\n",
    "    elif a == 1 and b == 1: return 2\n",
    "    elif a == -1 and b == 1: return 0\n",
    "    else: return \"I have no idea\""
   ]
  },
  {
   "cell_type": "code",
   "execution_count": 16,
   "metadata": {},
   "outputs": [],
   "source": [
    "# Then, your code will pass the public test.\n",
    "assert(the_sum(0,0) == 0)  # 0+0 should be 0.\n",
    "assert(the_sum(1, 1) == 2)  # 1+1 should be 2.\n",
    "assert(the_sum(-1, 1) == 0)  # Check if it works if the first operand is negative."
   ]
  },
  {
   "cell_type": "code",
   "execution_count": 32,
   "metadata": {},
   "outputs": [
    {
     "ename": "NotImplementedError",
     "evalue": "",
     "output_type": "error",
     "traceback": [
      "\u001b[1;31m---------------------------------------------------------------------------\u001b[0m",
      "\u001b[1;31mNotImplementedError\u001b[0m                       Traceback (most recent call last)",
      "\u001b[1;32m<ipython-input-32-3f7c2f9013e8>\u001b[0m in \u001b[0;36m<module>\u001b[1;34m\u001b[0m\n\u001b[0;32m      6\u001b[0m     \u001b[0mb\u001b[0m \u001b[1;33m=\u001b[0m \u001b[0mnp\u001b[0m\u001b[1;33m.\u001b[0m\u001b[0mrandom\u001b[0m\u001b[1;33m.\u001b[0m\u001b[0mrandint\u001b[0m\u001b[1;33m(\u001b[0m\u001b[1;33m-\u001b[0m\u001b[1;36m100\u001b[0m\u001b[1;33m,\u001b[0m \u001b[1;36m100\u001b[0m\u001b[1;33m)\u001b[0m\u001b[1;33m\u001b[0m\u001b[1;33m\u001b[0m\u001b[0m\n\u001b[0;32m      7\u001b[0m     \u001b[0mreference_solution\u001b[0m \u001b[1;33m=\u001b[0m \u001b[0ma\u001b[0m\u001b[1;33m+\u001b[0m\u001b[0mb\u001b[0m\u001b[1;33m\u001b[0m\u001b[1;33m\u001b[0m\u001b[0m\n\u001b[1;32m----> 8\u001b[1;33m     \u001b[0mstudent_solution\u001b[0m \u001b[1;33m=\u001b[0m \u001b[0mthe_sum\u001b[0m\u001b[1;33m(\u001b[0m\u001b[0ma\u001b[0m\u001b[1;33m,\u001b[0m \u001b[0mb\u001b[0m\u001b[1;33m)\u001b[0m\u001b[1;33m\u001b[0m\u001b[1;33m\u001b[0m\u001b[0m\n\u001b[0m\u001b[0;32m      9\u001b[0m     \u001b[0mprint\u001b[0m\u001b[1;33m(\u001b[0m\u001b[1;34m\"The sum of\"\u001b[0m\u001b[1;33m,\u001b[0m \u001b[0ma\u001b[0m\u001b[1;33m,\u001b[0m \u001b[1;34m\"and\"\u001b[0m\u001b[1;33m,\u001b[0m \u001b[0mb\u001b[0m\u001b[1;33m,\u001b[0m \u001b[1;34m\"should be\"\u001b[0m\u001b[1;33m,\u001b[0m \u001b[0mreference_solution\u001b[0m\u001b[1;33m,\u001b[0m \u001b[1;34m\"and it is:\"\u001b[0m\u001b[1;33m,\u001b[0m \u001b[0mstudent_solution\u001b[0m\u001b[1;33m)\u001b[0m\u001b[1;33m\u001b[0m\u001b[1;33m\u001b[0m\u001b[0m\n\u001b[0;32m     10\u001b[0m     \u001b[1;32massert\u001b[0m\u001b[1;33m(\u001b[0m\u001b[0mstudent_solution\u001b[0m \u001b[1;33m==\u001b[0m \u001b[0mreference_solution\u001b[0m\u001b[1;33m)\u001b[0m\u001b[1;33m\u001b[0m\u001b[1;33m\u001b[0m\u001b[0m\n",
      "\u001b[1;32m<ipython-input-31-78347eda9e92>\u001b[0m in \u001b[0;36mthe_sum\u001b[1;34m(a, b)\u001b[0m\n\u001b[0;32m     13\u001b[0m     \u001b[1;31m# YOUR CODE HERE\u001b[0m\u001b[1;33m\u001b[0m\u001b[1;33m\u001b[0m\u001b[1;33m\u001b[0m\u001b[0m\n\u001b[0;32m     14\u001b[0m     \u001b[0ms\u001b[0m\u001b[1;33m=\u001b[0m \u001b[0ma\u001b[0m \u001b[1;33m+\u001b[0m \u001b[0mb\u001b[0m\u001b[1;33m\u001b[0m\u001b[1;33m\u001b[0m\u001b[0m\n\u001b[1;32m---> 15\u001b[1;33m     \u001b[1;32mraise\u001b[0m \u001b[0mNotImplementedError\u001b[0m\u001b[1;33m(\u001b[0m\u001b[1;33m)\u001b[0m\u001b[1;33m\u001b[0m\u001b[1;33m\u001b[0m\u001b[0m\n\u001b[0m\u001b[0;32m     16\u001b[0m     \u001b[1;32mreturn\u001b[0m \u001b[0ms\u001b[0m\u001b[1;33m\u001b[0m\u001b[1;33m\u001b[0m\u001b[0m\n",
      "\u001b[1;31mNotImplementedError\u001b[0m: "
     ]
    }
   ],
   "source": [
    "# However, the private test, not visible to you, will do other tests, your code will fail,\n",
    "# and your submission will not get any points.\n",
    "# For example, the private test may run your code 10 times, using random arguments.\n",
    "for test_no in range(10):\n",
    "    a = np.random.randint(-100, 100)\n",
    "    b = np.random.randint(-100, 100)\n",
    "    reference_solution = a+b\n",
    "    student_solution = the_sum(a, b)\n",
    "    print(\"The sum of\", a, \"and\", b, \"should be\", reference_solution, \"and it is:\", student_solution)\n",
    "    assert(student_solution == reference_solution)\n",
    "    print (\"OK\")"
   ]
  },
  {
   "cell_type": "markdown",
   "metadata": {
    "deletable": false,
    "editable": false,
    "nbgrader": {
     "cell_type": "markdown",
     "checksum": "16a321c0cb3d9034e7cbb316f8f3992f",
     "grade": false,
     "grade_id": "cell-b9f38bcfff8b9016",
     "locked": true,
     "schema_version": 3,
     "solution": false,
     "task": false
    }
   },
   "source": [
    "### Summary of how grading works.\n",
    "In general, there will be three successive cells involved.\n",
    "\n",
    "1. A first markdown cell will describe the task to be implemented and announce how many points are given for the task.\n",
    "2. Then, there will be a code cell where you have to implement your solution.\n",
    "3. This will be followed by a second code cell which does the tests. This test cell will contain the public tests, visible to you. It will also do private tests, not visible to you.\n",
    "\n",
    "Let's try this step by step:\n",
    "\n",
    "### Please implement a function which takes two arguments and returns their sum (1 Point)."
   ]
  },
  {
   "cell_type": "code",
   "execution_count": 33,
   "metadata": {
    "deletable": false,
    "nbgrader": {
     "cell_type": "code",
     "checksum": "d73e4cb2411f3e76c43634f99bd412f5",
     "grade": false,
     "grade_id": "cell-18cd2ae7d6918446",
     "locked": false,
     "schema_version": 3,
     "solution": true,
     "task": false
    }
   },
   "outputs": [],
   "source": [
    "# Please implement the body of this function so that it returns the sum of the two function arguments.\n",
    "def the_sum(a, b):\n",
    "    # Sometimes, there will be a (wrong) default implementation given, which will be indicated\n",
    "    # by a comment, as in the following line.\n",
    "    s = 2*a + b  # This line is wrong so far. Please replace this line by the correct code.\n",
    "    \n",
    "    # Also, you will usually encounter the following lines, which you'll have to remove after\n",
    "    # you implemented your own solution.\n",
    "    #     # YOUR CODE HERE\n",
    "    #     raise NotImplementedError()\n",
    "    # The 'raise' will throw an exception, so that the code fails. This minimizes the risk that\n",
    "    # the implementation is overlooked.\n",
    "    # YOUR CODE HERE\n",
    "    s= a + b\n",
    "    #raise NotImplementedError()\n",
    "    return s"
   ]
  },
  {
   "cell_type": "code",
   "execution_count": 34,
   "metadata": {
    "deletable": false,
    "editable": false,
    "nbgrader": {
     "cell_type": "code",
     "checksum": "2d9ff8aa75011383047626c8afd1b7c3",
     "grade": true,
     "grade_id": "cell-52eb705d471f8976",
     "locked": true,
     "points": 1,
     "schema_version": 3,
     "solution": false,
     "task": false
    }
   },
   "outputs": [],
   "source": [
    "# Here are some public tests which are intended to help you with your implementation.\n",
    "assert(the_sum(0,0) == 0)  # 0+0 should be 0.\n",
    "assert(the_sum(1, 1) == 2)  # 1+1 should be 2.\n",
    "assert(the_sum(-1, 1) == 0)  # Check if it works if the first operand is negative.\n",
    "\n",
    "# Here, there is the private test, actually the one with the random numbers from above.\n",
    "# You can't see it, but it will be used to grade your answer."
   ]
  },
  {
   "cell_type": "markdown",
   "metadata": {
    "deletable": false,
    "editable": false,
    "nbgrader": {
     "cell_type": "markdown",
     "checksum": "a7bb52715818a4920b515a497711ea50",
     "grade": false,
     "grade_id": "cell-8a148be244c9b360",
     "locked": true,
     "schema_version": 3,
     "solution": false,
     "task": false
    }
   },
   "source": [
    "## That concludes our little tour around working with a notebook.\n",
    "Remember, if you don't know Python, you may have a look at the __[tutorial](https://docs.python.org/3/tutorial/index.html)__."
   ]
  },
  {
   "cell_type": "markdown",
   "metadata": {
    "deletable": false,
    "editable": false,
    "nbgrader": {
     "cell_type": "markdown",
     "checksum": "f630b1e5a1ed0bf4c7453b61b00b26ef",
     "grade": false,
     "grade_id": "cell-98679b56967ff58f",
     "locked": true,
     "schema_version": 3,
     "solution": false,
     "task": false
    }
   },
   "source": [
    "# Fetching, submitting, and running Python on your own computer\n",
    "In this section, we will describe the two main options you have to run Python notebooks.\n",
    "\n",
    "## Option 1: running notebooks on our server.\n",
    "- This is what you most probably do currently.\n",
    "- In terms of installation requirements, this is the easiest way for you to do. If you have an internet browser, you won't have to install anything, and you can access the course from any device, including a pad or phone.\n",
    "- To work on an assignment, do the following:\n",
    "  - Log into our server, `hub.icaml.org`, using the credentials we have sent to you.\n",
    "  - Go to the *Assignments* tab.\n",
    "  - In the section *Released assignments* there should be the currently released assignments which you did not download so far. If there is an entry, press the *Fetch* button next to it.\n",
    "  - This will download the assignment, which will then appear under *Downloaded assignments*. When you click on the downloaded assignment, one or more notebooks will appear. (If there are several, they will usually be named *..._Part_1*, *..._Part_2*, etc.)\n",
    "  - When you click on one notebook, it will open in a new tab and you can start working on it.\n",
    "  - As you have learned above, the notebook will have some cells which test the validity of your solution. They are usually placed right after the cells which contain your implementation.\n",
    "  - You can also test the entire notebook by pressing the *Validate* button in the toolbar.\n",
    "  - Once you have finalized your assignment, go back to the page where you downloaded the assignment, and press the *Submit* button. **Make sure there appears a new line in the section *Submitted assignments*, which has a time stamp.**\n",
    "  - If you improved your solution before the deadline, you can re-submit it. The latest submitted version will be graded.\n",
    "  - Once the deadline has passed, you cannot submit further solutions. You can fetch feedback using the *Fetch Feedback* button.\n",
    "- **How to restore the original files in case of an emergency:**\n",
    "  - It may happen to you that, while working on a unit, you mess it up so badly that you feel you should start afresh.\n",
    "  - To do so, got to the *Files* tab, and select the affected unit, e.g. `Intro`. Select the checkbox in front of it, then press *Rename* and give it another name, e.g. `old_Intro`.\n",
    "  - Then, go to the *Assignments* tab.\n",
    "  - You will notice that `Intro` has disappeared from the *Downloaded assignments*, and has re-appeared in the *Released assignments* section.\n",
    "  - By pressing *Fetch* you can download a new copy of `Intro`.\n",
    "- The downside of this option 1 is that if our servers or your internet connection fails, you cannot go on working on the assignment. We observed that our servers may be overloaded sometimes, especially shortly before the deadlines.\n",
    "- To be independent of server and network, you can run Python on your own computer, which requires installing it. The following option 2 describes how to do this.\n",
    "\n",
    "## Option 2: running notebooks on your own computer.\n",
    "- Using this method, you can work independently of our server.\n",
    "- First, do the same as above in option 1 to fetch your assignment.\n",
    "- Then, make a new directory on your own computer, where you want to put the assignment to, e.g. `university_lectures/this_semester/slam/intro` for the current introduction. We will refer to this directory as `intro` in the following.\n",
    "- Download all files of the current unit from our server to the `intro` directory on your own computer. For the current unit, this will be just the file `SLAM_Intro.ipynb`. (Normally, this works by selecting the checkboxes in front of the files, then pressing the *Download* button, which appears as soon as you select at least one file.)\n",
    "- Next, you will have to install Python on your computer, which is quite easy nowadays, using a distribution.\n",
    "- The distribution we have tested is *Anaconda*. Download and install the *free* version of *Anaconda* from __[here](https://www.anaconda.com/products/individual)__. **Note you don't have to create an account and it is free of charge, for individuals.**\n",
    "- This will install a version of Python 3 (Python 3.8 or later) plus a large number of useful libraries, including numpy and matplotlib, and also Jupyter Notebooks.\n",
    "- After installation, run Jupyter Notebook on your computer. (E.g. on MS Windows, use the search box in the lower left corner to search for *Jupyter Notebook*, then run the *Jupyter Notebook App* by clicking on it. You may also run the *Anaconda Navigator* first and start the Jupyter Notebook from there.)\n",
    "- This will run a local server and open a tab in your default browser. (If it doesn't open a tab in your browser, follow the instructions printed in the execution window, i.e., start your favourite browser manually, and paste the `http://localhost:*/?token=*` address shown in the execution window to the address line of your browser.)\n",
    "- When the tab in the browser opens, it will show a *Files* view. Select your directory `intro`, where you will find the Jupyter Notebook files downloaded earlier.\n",
    "- Click on a file to work on it. Working on this file will be as in option 1, the only difference being that the kernel is run on your own machine.\n",
    "- Once you are done with it, you have to upload the files back to our server. Use the *Upload* button on our server to upload your Jupyter Notebooks (the `*.ipynb` files). There is no need to upload the other files, e.g. the text files that were created while you executed the notebooks.\n",
    "- After you have uploaded the files, the remaining steps are exactly as in option 1. You may use the *Validate* button on our server, and finally the *Submit* button.\n",
    "- After submission, **make sure you check that your submitted assignment appears in the *Submitted assignments* section, with a time stamp.**"
   ]
  }
 ],
 "metadata": {
  "copyright": "(c) Claus Brenner 2020-2021",
  "kernelspec": {
   "display_name": "Python 3",
   "language": "python",
   "name": "python3"
  },
  "language_info": {
   "codemirror_mode": {
    "name": "ipython",
    "version": 3
   },
   "file_extension": ".py",
   "mimetype": "text/x-python",
   "name": "python",
   "nbconvert_exporter": "python",
   "pygments_lexer": "ipython3",
   "version": "3.8.5"
  }
 },
 "nbformat": 4,
 "nbformat_minor": 4
}
