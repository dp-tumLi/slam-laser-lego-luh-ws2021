{
 "cells": [
  {
   "cell_type": "markdown",
   "metadata": {
    "deletable": false,
    "editable": false,
    "nbgrader": {
     "cell_type": "markdown",
     "checksum": "bd0e76cb3238ba58f3829de2a2bc7180",
     "grade": false,
     "grade_id": "cell-aa83106e43b11bd8",
     "locked": true,
     "schema_version": 3,
     "solution": false,
     "task": false
    }
   },
   "source": [
    "# SLAM Unit A - Part 2\n",
    "In this part of Unit A, we will work on the motion model."
   ]
  },
  {
   "cell_type": "code",
   "execution_count": 1,
   "metadata": {},
   "outputs": [],
   "source": [
    "# You can modify the following to adjust the (width, height) of the plots (supposed to be in inches).\n",
    "from pylab import *\n",
    "plt.rcParams['figure.figsize'] = (12, 6)\n",
    "# YouTube = True  # Uncomment to get YouTube videos instead of TIB AV."
   ]
  },
  {
   "cell_type": "markdown",
   "metadata": {
    "deletable": false,
    "editable": false,
    "nbgrader": {
     "cell_type": "markdown",
     "checksum": "9acee2fe1c730757c60cb4f2a51167a9",
     "grade": false,
     "grade_id": "cell-7edaa7c72e853f6d",
     "locked": true,
     "schema_version": 3,
     "solution": false,
     "task": false
    }
   },
   "source": [
    "## The motion model\n",
    "The motion model lets us convert the left and right motor movements into a progression of poses (positions and orientations) of the robot."
   ]
  },
  {
   "cell_type": "code",
   "execution_count": 2,
   "metadata": {
    "deletable": false,
    "editable": false,
    "nbgrader": {
     "cell_type": "code",
     "checksum": "0fb8ca9c58fae736587a1a9a41fbd665",
     "grade": false,
     "grade_id": "cell-878033285583999e",
     "locked": true,
     "schema_version": 3,
     "solution": false,
     "task": false
    }
   },
   "outputs": [
    {
     "data": {
      "text/html": [
       "\n",
       "        <iframe\n",
       "            width=\"560\"\n",
       "            height=\"315\"\n",
       "            src=\"//av.tib.eu/player/49051\"\n",
       "            frameborder=\"0\"\n",
       "            allowfullscreen\n",
       "        ></iframe>\n",
       "        "
      ],
      "text/plain": [
       "<IPython.lib.display.IFrame at 0x15b30486df0>"
      ]
     },
     "execution_count": 2,
     "metadata": {},
     "output_type": "execute_result"
    }
   ],
   "source": [
    "# If you don't see a video below, run this cell.\n",
    "from IPython.display import IFrame\n",
    "IFrame(\"https://www.youtube.com/embed/HPeBhArNpzY\" if \"YouTube\" in globals() else \"//av.tib.eu/player/49051\",\n",
    "       width=560, height=315)"
   ]
  },
  {
   "cell_type": "markdown",
   "metadata": {
    "deletable": false,
    "editable": false,
    "nbgrader": {
     "cell_type": "markdown",
     "checksum": "349998942955c754089fa0220b211351",
     "grade": false,
     "grade_id": "cell-d4a12694665d08d2",
     "locked": true,
     "schema_version": 3,
     "solution": false,
     "task": false
    }
   },
   "source": [
    "### After viewing the video, it is easy to answer the following question (1 point).\n",
    "In our motion model, we guarantee that the heading angle $\\theta$ is always in the range:\n",
    "- A: from $0$ to $\\pi$\n",
    "- B: from $-\\pi$ to $\\pi$\n",
    "- C: from $0$ to $2 \\pi$."
   ]
  },
  {
   "cell_type": "code",
   "execution_count": 3,
   "metadata": {
    "deletable": false,
    "nbgrader": {
     "cell_type": "code",
     "checksum": "2725c6950178fd621b036a1dec886179",
     "grade": false,
     "grade_id": "cell-dbebfbb6be43e2cd",
     "locked": false,
     "schema_version": 3,
     "solution": true,
     "task": false
    }
   },
   "outputs": [],
   "source": [
    "# Enter your selection as a string, i.e., \"A\", \"B\", or \"C\". Then delete any lines below.\n",
    "the_theta_range = \"C\"\n",
    "# YOUR CODE HERE\n",
    "#raise NotImplementedError()"
   ]
  },
  {
   "cell_type": "code",
   "execution_count": 4,
   "metadata": {
    "deletable": false,
    "editable": false,
    "nbgrader": {
     "cell_type": "code",
     "checksum": "bd9b147961c54773d0e5b92d37a705b3",
     "grade": true,
     "grade_id": "cell-63247ba2b705daa8",
     "locked": true,
     "points": 1,
     "schema_version": 3,
     "solution": false,
     "task": false
    }
   },
   "outputs": [],
   "source": [
    "# Let us test this.\n",
    "assert(the_theta_range in \"ABC\")  # Needs to be one of the proposed solutions."
   ]
  },
  {
   "cell_type": "code",
   "execution_count": 5,
   "metadata": {
    "deletable": false,
    "editable": false,
    "nbgrader": {
     "cell_type": "code",
     "checksum": "9bdf406a115a5bd8938db511864a1076",
     "grade": false,
     "grade_id": "cell-d0748692f3765238",
     "locked": true,
     "schema_version": 3,
     "solution": false,
     "task": false
    }
   },
   "outputs": [
    {
     "data": {
      "text/html": [
       "\n",
       "        <iframe\n",
       "            width=\"560\"\n",
       "            height=\"315\"\n",
       "            src=\"//av.tib.eu/player/49052\"\n",
       "            frameborder=\"0\"\n",
       "            allowfullscreen\n",
       "        ></iframe>\n",
       "        "
      ],
      "text/plain": [
       "<IPython.lib.display.IFrame at 0x15b314f8d60>"
      ]
     },
     "execution_count": 5,
     "metadata": {},
     "output_type": "execute_result"
    }
   ],
   "source": [
    "# If you don't see a video below, run this cell.\n",
    "from IPython.display import IFrame\n",
    "IFrame(\"https://www.youtube.com/embed/7zpz7f73MOU\" if \"YouTube\" in globals() else \"//av.tib.eu/player/49052\",\n",
    "       width=560, height=315)"
   ]
  },
  {
   "cell_type": "markdown",
   "metadata": {
    "deletable": false,
    "editable": false,
    "nbgrader": {
     "cell_type": "markdown",
     "checksum": "dd8766fa423a702e4d720ad38b849f8a",
     "grade": false,
     "grade_id": "cell-b51c2ac1a9c88a0d",
     "locked": true,
     "schema_version": 3,
     "solution": false,
     "task": false
    }
   },
   "source": [
    "### Your first programming assignment: implement the motion model (20 points).\n",
    "Carefully watch the video above and implement the shown equations as Python3 code. Insert them into the indicated sections below.\n",
    "After you run this, a list of poses should be output in the cell, followed by a plot of the positions."
   ]
  },
  {
   "cell_type": "code",
   "execution_count": 6,
   "metadata": {
    "deletable": false,
    "nbgrader": {
     "cell_type": "code",
     "checksum": "5ec862ba9557e724dbe3e34ec570ddd0",
     "grade": false,
     "grade_id": "cell-e31226ad0dc4ed26",
     "locked": false,
     "schema_version": 3,
     "solution": true,
     "task": false
    }
   },
   "outputs": [
    {
     "name": "stdout",
     "output_type": "stream",
     "text": [
      "(0.0, 0.0, 0.0)\n",
      "(0.0, 0.0, 0.0)\n",
      "(0.0, 0.0, 0.0)\n",
      "(0.0, 0.0, 0.0)\n",
      "(0.0, 0.0, 0.0)\n",
      "(0.0, 0.0, 0.0)\n",
      "(0.0, 0.0, 0.0)\n",
      "(0.0, 0.0, 0.0)\n",
      "(0.0, 0.0, 0.0)\n",
      "(0.0, 0.0, 0.0)\n",
      "(0.0, 0.0, 0.0)\n",
      "(0.0, 0.0, 0.0)\n",
      "(0.0, 0.0, 0.0)\n",
      "(24.779, 0.0, 0.0)\n",
      "(69.102, 0.0, 0.0)\n",
      "(113.94845953817779, -0.052171404797263676, 6.280858640512919)\n",
      "(158.9693376803923, -0.15692017028978156, 6.280858640512919)\n",
      "(158.9693376803923, -0.15692017028978156, 6.280858640512919)\n",
      "(203.6412167672408, -0.26085692984824893, 6.280858640512919)\n",
      "(248.48767630541857, -0.31302833464724245, 0.0)\n",
      "(293.33413584359636, -0.3651997394445061, 6.280858640512919)\n",
      "(338.18059538177414, -0.4173711442417698, 0.0)\n",
      "(338.18059538177414, -0.4173711442417698, 0.0)\n",
      "(383.0270549199519, -0.4695425490390335, 6.280858640512919)\n",
      "(427.8735144581297, -0.5217139538362972, 0.0)\n",
      "(427.8735144581297, -0.5217139538362972, 0.0)\n",
      "(472.7199739963075, -0.5738853586335608, 6.280858640512919)\n",
      "(517.5664335344852, -0.6260567634308245, 0.0)\n",
      "(562.412893072663, -0.6782281682280882, 6.280858640512919)\n",
      "(607.2593526108408, -0.7303995730253519, 0.0)\n",
      "(652.1058121490186, -0.7825709778226155, 6.280858640512919)\n",
      "(652.1058121490186, -0.7825709778226155, 6.280858640512919)\n",
      "(696.9522716871963, -0.8347423826198792, 0.0)\n",
      "(741.7987312253741, -0.8869137874171429, 6.280858640512919)\n",
      "(786.8196093675887, -0.9916625529096608, 6.280858640512919)\n",
      "(786.8196093675887, -0.9916625529096608, 6.280858640512919)\n",
      "(831.4914884544372, -1.0955993124681283, 6.280858640512919)\n",
      "(876.337947992615, -1.1477707172671217, 0.0)\n",
      "(921.1844075307928, -1.1999421220643853, 6.280858640512919)\n",
      "(966.2052856730073, -1.3046908875569032, 6.280858640512919)\n",
      "(966.2052856730073, -1.3046908875569032, 6.280858640512919)\n",
      "(1010.8771647598559, -1.4086276471153707, 6.280858640512919)\n",
      "(1055.7236242980337, -1.460799051914364, 0.0)\n",
      "(1100.5700838362113, -1.5129704567116278, 6.280858640512919)\n",
      "(1100.5700838362113, -1.5129704567116278, 6.280858640512919)\n",
      "(1145.416543374389, -1.5651418615088915, 0.0)\n",
      "(1190.2630029125667, -1.6173132663061551, 6.280858640512919)\n",
      "(1235.2838810547812, -1.722062031798673, 6.280858640512919)\n",
      "(1280.6537582523617, -1.8276228032252415, 6.280858640512919)\n",
      "(1280.6537582523617, -1.8276228032252415, 6.280858640512919)\n",
      "(1325.5002177905394, -1.879794208023668, 0.0)\n",
      "(1370.346677328717, -1.9319656128209317, 6.280858640512919)\n",
      "(1415.1931368668947, -1.9841370176181954, 0.0)\n",
      "(1415.1931368668947, -1.9841370176181954, 0.0)\n",
      "(1460.0395964050724, -2.036308422415459, 6.280858640512919)\n",
      "(1504.88605594325, -2.0884798272127227, 0.0)\n",
      "(1549.7325154814278, -2.1406512320099864, 6.280858640512919)\n",
      "(1549.7325154814278, -2.1406512320099864, 6.280858640512919)\n",
      "(1594.5789750196054, -2.19282263680725, 0.0)\n",
      "(1639.425434557783, -2.2449940416045138, 6.280858640512919)\n",
      "(1684.270680252878, -1.9841412539412886, 0.013959999999999972)\n",
      "(1728.6586102573704, 0.8598284716808848, 0.11400666666666663)\n",
      "(1728.6586102573704, 0.8598284716808848, 0.11400666666666663)\n",
      "(1773.0661516073922, 8.15697133623172, 0.2117266666666666)\n",
      "(1816.3670532147673, 19.757120907572187, 0.31177333333333324)\n",
      "(1858.1488321992847, 35.51411974830671, 0.40949333333333326)\n",
      "(1898.1939541378306, 55.272365533420725, 0.5072133333333333)\n",
      "(1898.1939541378306, 55.272365533420725, 0.5072133333333333)\n",
      "(1935.9441113136663, 78.79474056409418, 0.6072599999999999)\n",
      "(1971.7084324656485, 106.39625026390331, 0.7073066666666665)\n",
      "(2003.7765704672984, 136.7129018214648, 0.8073533333333331)\n",
      "(2033.1928253471915, 170.54140793552847, 0.9027466666666665)\n",
      "(2033.1928253471915, 170.54140793552847, 0.9027466666666665)\n",
      "(2057.9703921038804, 208.67984307162823, 1.0865533333333333)\n",
      "(2074.6694214832582, 249.84687865974914, 1.28432)\n",
      "(2083.1260336985856, 292.75942835957085, 1.4681266666666666)\n",
      "(2083.1260336985856, 292.75942835957085, 1.4681266666666666)\n",
      "(2084.138868975655, 333.71289727487977, 1.6240133333333333)\n",
      "(2078.5478050890715, 375.3485280900152, 1.7845533333333332)\n",
      "(2066.757888352872, 414.94777760042797, 1.9357866666666665)\n",
      "(2066.757888352872, 414.94777760042797, 1.9357866666666665)\n",
      "(2049.1682091235366, 452.13958148376247, 2.0893466666666667)\n",
      "(2026.7182542154874, 485.7891554112931, 2.228946666666667)\n",
      "(1998.2881816586485, 516.9513281008549, 2.3918133333333333)\n",
      "(1965.8446819214107, 542.813589658971, 2.5453733333333335)\n",
      "(1965.8446819214107, 542.813589658971, 2.5453733333333335)\n",
      "(1930.1298001858393, 563.2359870231758, 2.6989333333333336)\n",
      "(1891.353762850536, 577.9888845439077, 2.857146666666667)\n",
      "(1850.7549816500505, 586.5431941674638, 3.010706666666667)\n",
      "(1850.7549816500505, 586.5431941674638, 3.010706666666667)\n",
      "(1806.5457092628567, 591.5797381176781, 3.045606666666667)\n",
      "(1761.9006832792381, 595.8258316030442, 3.047933333333334)\n",
      "(1717.2556572956194, 600.0719250884104, 3.045606666666667)\n",
      "(1673.1366813413033, 604.319782164924, 3.045606666666667)\n",
      "(1673.1366813413033, 604.319782164924, 3.045606666666667)\n",
      "(1628.4916553576847, 608.565875650289, 3.047933333333334)\n",
      "(1583.6679746956513, 612.7763498406925, 3.047933333333334)\n",
      "(1538.496823640889, 617.0194633659055, 3.047933333333334)\n",
      "(1493.8517976572705, 621.265556851271, 3.045606666666667)\n",
      "(1493.8517976572705, 621.265556851271, 3.045606666666667)\n",
      "(1449.206771673652, 625.5116503366371, 3.047933333333334)\n",
      "(1405.0780317970764, 629.656845857422, 3.047933333333334)\n",
      "(1360.254351135043, 633.8673200478256, 3.047933333333334)\n",
      "(1360.254351135043, 633.8673200478256, 3.047933333333334)\n",
      "(1315.7781408657386, 638.0451549034199, 3.047933333333334)\n",
      "(1270.9544602037051, 642.2556290938235, 3.047933333333334)\n",
      "(1226.4782499344008, 646.4334639494177, 3.047933333333334)\n",
      "(1181.6545692723673, 650.6439381398213, 3.047933333333334)\n",
      "(1181.6545692723673, 650.6439381398213, 3.047933333333334)\n",
      "(1137.3117623079613, 654.3413192434955, 3.068873333333334)\n",
      "(1092.146743912543, 655.3665599529293, 3.1689200000000004)\n",
      "(1047.8314085607471, 650.2144466042558, 3.345746666666667)\n",
      "(1047.8314085607471, 650.2144466042558, 3.345746666666667)\n",
      "(1005.0980823462834, 636.8531296100091, 3.5435133333333333)\n",
      "(968.2348392804383, 617.4495671350057, 3.7087066666666666)\n",
      "(934.9926465551358, 592.6182186635655, 3.857613333333333)\n",
      "(934.9926465551358, 592.6182186635655, 3.857613333333333)\n",
      "(906.204896497751, 563.4689844676583, 4.008846666666666)\n",
      "(882.1866767074047, 530.7051982201101, 4.1507733333333325)\n",
      "(862.8496284237096, 493.99667316427883, 4.304333333333332)\n",
      "(851.3226921947943, 458.8977588884075, 4.485813333333332)\n",
      "(851.3226921947943, 458.8977588884075, 4.485813333333332)\n",
      "(846.5365586646793, 422.6226901775544, 4.676599999999999)\n",
      "(848.6313249943371, 386.0905748918205, 4.862733333333332)\n",
      "(857.4505569497534, 350.57713179005157, 5.048866666666665)\n",
      "(857.4505569497534, 350.57713179005157, 5.048866666666665)\n",
      "(873.4727447894983, 316.33867296290697, 5.251286666666665)\n",
      "(895.567347534239, 286.5254365186581, 5.449053333333332)\n",
      "(922.6186027875641, 261.8877159795202, 5.639839999999999)\n",
      "(955.5731375838882, 240.27219398192335, 5.765479999999998)\n",
      "(955.5731375838882, 240.27219398192335, 5.765479999999998)\n",
      "(994.8200320128362, 217.85984077055036, 5.763153333333332)\n",
      "(1033.4607967980937, 195.79362428831155, 5.765479999999998)\n",
      "(1072.278847527764, 173.68601198963157, 5.765479999999998)\n",
      "(1072.278847527764, 173.68601198963157, 5.765479999999998)\n",
      "(1111.828806778558, 151.10059041369095, 5.763153333333332)\n",
      "(1150.7726363856618, 128.86130556688659, 5.765479999999998)\n",
      "(1189.7164659927657, 106.62202072008222, 5.763153333333332)\n",
      "(1189.7164659927657, 106.62202072008222, 5.763153333333332)\n",
      "(1228.1801113069591, 84.59757252849471, 5.763153333333332)\n",
      "(1267.1239409140635, 62.358287681690854, 5.765479999999998)\n",
      "(1306.0677705211674, 40.11900283488649, 5.763153333333332)\n",
      "(1345.0116001282713, 17.87971798808212, 5.765479999999998)\n",
      "(1383.9554297353752, -4.359566858722246, 5.763153333333332)\n",
      "(1383.9554297353752, -4.359566858722246, 5.763153333333332)\n",
      "(1423.02480174743, -26.730856754114274, 5.763153333333332)\n",
      "(1461.7913104105542, -48.928725797604045, 5.763153333333332)\n",
      "(1500.860682422609, -71.30001569299607, 5.763153333333332)\n",
      "(1500.860682422609, -71.30001569299607, 5.763153333333332)\n",
      "(1540.033590761982, -93.4891811462594, 5.772459999999998)\n",
      "(1580.7278116068424, -111.77506666294761, 5.949286666666665)\n",
      "(1620.7030153181552, -119.3519959285511, 6.242446666666665)\n",
      "(1653.6707511051889, -116.70070655026188, 0.20123469282041206)\n",
      "(1653.6707511051889, -116.70070655026188, 0.20123469282041206)\n",
      "(1685.675198493732, -105.93298482419048, 0.4478613594870787)\n",
      "(1713.1657790074723, -88.49189260680382, 0.6828546928204121)\n",
      "(1736.117467711594, -64.67759177893589, 0.9248280261537454)\n",
      "(1736.117467711594, -64.67759177893589, 0.9248280261537454)\n",
      "(1752.903750494513, -35.38204884791239, 1.1761080261537453)\n",
      "(1761.8236147836926, -3.8919244107487785, 1.4134280261537453)\n",
      "(1763.1213505151761, 28.638670368459525, 1.6484213594870787)\n",
      "(1757.0885604958635, 59.928170950400585, 1.8741080261537453)\n",
      "(1757.0885604958635, 59.928170950400585, 1.8741080261537453)\n",
      "(1743.8942080568381, 89.50218285017965, 2.106774692820412)\n",
      "(1724.025030105259, 115.51377846501202, 2.3394413594870787)\n",
      "(1692.9287812992904, 145.85248345110983, 2.3976080261537454)\n",
      "(1692.9287812992904, 145.85248345110983, 2.3976080261537454)\n",
      "(1660.1535651301438, 175.94919121286694, 2.399934692820412)\n",
      "(1627.2146837375851, 206.12563362424063, 2.399934692820412)\n",
      "(1594.018467334147, 236.53782949195318, 2.399934692820412)\n",
      "(1561.3369209524678, 266.478518446988, 2.399934692820412)\n",
      "(1561.3369209524678, 266.478518446988, 2.399934692820412)\n",
      "(1528.1407045490298, 296.8907143147006, 2.399934692820412)\n",
      "(1494.9444881455918, 327.30291018241314, 2.399934692820412)\n",
      "(1462.0056067530331, 357.4793525937868, 2.399934692820412)\n",
      "(1428.809390349595, 387.8915484614994, 2.399934692820412)\n",
      "(1428.809390349595, 387.8915484614994, 2.399934692820412)\n",
      "(1393.9789883157475, 416.9396925819013, 2.493001359487079)\n",
      "(1356.9448000148802, 442.19836331068194, 2.5930480261537454)\n",
      "(1317.572968731011, 463.6317590156, 2.693094692820412)\n",
      "(1317.572968731011, 463.6317590156, 2.693094692820412)\n",
      "(1276.4374083451423, 481.0060428661219, 2.790814692820412)\n",
      "(1233.4699019052846, 494.3877995923645, 2.8885346928204116)\n",
      "(1189.9045915667898, 503.3566472883954, 2.9885813594870783)\n",
      "(1189.9045915667898, 503.3566472883954, 2.9885813594870783)\n",
      "(1145.466430214796, 507.68840338086835, 3.100261359487078)\n",
      "(1100.767108374667, 505.1130222042094, 3.2980280261537445)\n",
      "(1057.7822207215718, 493.8933147758615, 3.4957946928204113)\n",
      "(1020.1287549376349, 476.4736255953984, 3.6540080261537446)\n",
      "(1020.1287549376349, 476.4736255953984, 3.6540080261537446)\n",
      "(986.0508209883074, 454.0387800944851, 3.793608026153745)\n",
      "(955.8505766266103, 427.3915404367727, 3.9355346928204114)\n",
      "(929.1194943259392, 395.6600657289169, 4.089094692820411)\n",
      "(905.1316457576607, 360.06865423333545, 4.149588026153745)\n",
      "(905.1316457576607, 360.06865423333545, 4.149588026153745)\n",
      "(881.2965770031935, 322.2866865573419, 4.149588026153745)\n",
      "(857.4615082487263, 284.50471888134837, 4.149588026153745)\n",
      "(833.8126509689034, 247.0179228278235, 4.149588026153745)\n",
      "(833.8126509689034, 247.0179228278235, 4.149588026153745)\n",
      "(809.742754835992, 208.76517914923897, 4.151914692820411)\n",
      "(786.1811807663655, 171.22346160246832, 4.151914692820411)\n",
      "(762.2485582861938, 133.09053590535484, 4.151914692820411)\n",
      "(738.315935806022, 94.95761020824136, 4.151914692820411)\n",
      "(738.315935806022, 94.95761020824136, 4.151914692820411)\n",
      "(714.5688375311229, 57.1202885862993, 4.151914692820411)\n",
      "(692.1278002316806, 17.904162775867945, 4.233348026153744)\n",
      "(673.5054119473032, -22.68163180997024, 4.331068026153744)\n",
      "(673.5054119473032, -22.68163180997024, 4.331068026153744)\n",
      "(659.0377297137518, -64.74185844598505, 4.431114692820411)\n",
      "(648.6834505310344, -108.71592930344734, 4.531161359487077)\n",
      "(642.8359653282739, -152.63372111304597, 4.628881359487077)\n",
      "(642.8359653282739, -152.63372111304597, 4.628881359487077)\n",
      "(642.951933057368, -197.59898437698376, 4.8010546928204105)\n",
      "(651.2168623731883, -241.42745140791192, 4.99649469282041)\n",
      "(666.4938511389378, -280.9287433962936, 5.166341359487077)\n",
      "(687.0045501280167, -317.415295091649, 5.28267469282041)\n",
      "(687.0045501280167, -317.415295091649, 5.28267469282041)\n",
      "(711.3101530247052, -355.3115760282857, 5.28267469282041)\n",
      "(735.2389248687318, -392.62031772559465, 5.28267469282041)\n",
      "(760.7901121246213, -429.46422687514996, 5.354801359487077)\n",
      "(789.1074278110009, -463.76664794944213, 5.45019469282041)\n",
      "(789.1074278110009, -463.76664794944213, 5.45019469282041)\n",
      "(821.0423473721216, -495.4728266905771, 5.552568026153743)\n",
      "(856.153602190658, -523.9004504083377, 5.65261469282041)\n",
      "(893.4632798985535, -548.4358945027682, 5.7503346928204095)\n",
      "(893.4632798985535, -548.4358945027682, 5.7503346928204095)\n",
      "(933.1666247849286, -569.248774046998, 5.850381359487076)\n",
      "(974.2463182797208, -585.8446862847054, 5.948101359487076)\n",
      "(1017.9346263851371, -598.6471701849217, 6.048148026153743)\n",
      "(1061.1315201422622, -606.7836775206617, 6.145868026153742)\n",
      "(1061.1315201422622, -606.7836775206617, 6.145868026153742)\n",
      "(1105.9586563309522, -610.7593389574802, 6.243588026153742)\n",
      "(1151.3058012481713, -610.2337698767096, 0.0627760523074894)\n",
      "(1196.0287534687066, -605.2202314636435, 0.16049605230748937)\n",
      "(1196.0287534687066, -605.2202314636435, 0.16049605230748937)\n",
      "(1239.5257144839893, -595.9255622216033, 0.26054271897415604)\n",
      "(1282.2089845316839, -582.2262918715214, 0.3605893856408227)\n",
      "(1323.492125599068, -564.3103691671215, 0.4583093856408227)\n",
      "(1362.2204590729482, -542.7910358372133, 0.5560293856408226)\n",
      "(1362.2204590729482, -542.7910358372133, 0.5560293856408226)\n",
      "(1399.3683625915774, -517.9935528895879, 0.6211760523074893)\n",
      "(1435.8676231393492, -491.9357012047276, 0.6188493856408226)\n",
      "(1472.5393195473932, -465.81909492526904, 0.6188493856408226)\n",
      "(1472.5393195473932, -465.81909492526904, 0.6188493856408226)\n",
      "(1508.9267392390957, -439.90494295805433, 0.6188493856408226)\n",
      "(1545.4259997868685, -413.84709127319366, 0.6211760523074893)\n",
      "(1581.9252603346413, -387.78923958833366, 0.6188493856408226)\n",
      "(1618.8812334590266, -361.4701789966312, 0.6188493856408226)\n",
      "(1618.8812334590266, -361.4701789966312, 0.6188493856408226)\n",
      "(1654.181174845726, -333.8342766761958, 0.7095893856408226)\n",
      "(1686.0893512687583, -303.60113824755143, 0.8073093856408227)\n",
      "(1715.6555067668155, -269.4430871580137, 0.9073560523074893)\n",
      "(1715.6555067668155, -269.4430871580137, 0.9073560523074893)\n",
      "(1741.6049922399707, -232.6748641057899, 1.0050760523074893)\n",
      "(1764.3953339395964, -194.2615926778674, 1.0655693856408226)\n",
      "(1786.146944624532, -155.04329226115988, 1.063242718974156)\n",
      "(1807.729282074568, -116.13019262590751, 1.0655693856408226)\n",
      "(1807.729282074568, -116.13019262590751, 1.0655693856408226)\n",
      "(1829.3507999367307, -77.03930430987953, 1.0655693856408226)\n",
      "(1851.1024106216682, -37.82100389317202, 1.063242718974156)\n",
      "(1872.8540213066044, 1.3972965235352603, 1.0655693856408226)\n",
      "(1872.8540213066044, 1.3972965235352603, 1.0655693856408226)\n",
      "(1894.9441784613446, 41.22599850314873, 1.063242718974156)\n",
      "(1916.4869609767848, 79.96147127027061, 1.063242718974156)\n",
      "(1938.238571661721, 119.17977168697871, 1.0655693856408226)\n",
      "(1938.238571661721, 119.17977168697871, 1.0655693856408226)\n",
      "(1960.029007632182, 158.57605756797568, 1.0655693856408226)\n",
      "(1981.7806183171197, 197.7943579846833, 1.063242718974156)\n",
      "(2003.5322290020558, 237.01265840139058, 1.0655693856408226)\n",
      "(2024.4374735124784, 274.7049549108324, 1.063242718974156)\n",
      "(2027.5690283581694, 280.3511693677124, 1.0655693856408226)\n",
      "(2027.5690283581694, 280.3511693677124, 1.0655693856408226)\n",
      "(2027.5690283581694, 280.3511693677124, 1.0655693856408226)\n",
      "(2027.5690283581694, 280.3511693677124, 1.0655693856408226)\n",
      "(2027.5690283581694, 280.3511693677124, 1.0655693856408226)\n",
      "(2027.5690283581694, 280.3511693677124, 1.0655693856408226)\n",
      "(2027.5690283581694, 280.3511693677124, 1.0655693856408226)\n",
      "(2027.5690283581694, 280.3511693677124, 1.0655693856408226)\n"
     ]
    },
    {
     "data": {
      "image/png": "[encoded data removed]",
      "text/plain": [
       "<Figure size 864x432 with 1 Axes>"
      ]
     },
     "metadata": {
      "needs_background": "light"
     },
     "output_type": "display_data"
    }
   ],
   "source": [
    "# Implement the first move model for the Lego robot.\n",
    "# 02_a_filter_motor\n",
    "from math import sin, cos, pi\n",
    "from pylab import *\n",
    "from lego_robot import *\n",
    "\n",
    "# This function takes the old (x, y, heading) pose and the motor ticks\n",
    "# (ticks_left, ticks_right) and returns the new (x, y, heading).\n",
    "def filter_step(old_pose, motor_ticks, ticks_to_mm, robot_width):\n",
    "\n",
    "    # Find out if there is a turn at all.\n",
    "    if motor_ticks[0] == motor_ticks[1]:\n",
    "        # No turn. Just drive straight.\n",
    "        # YOUR CODE HERE\n",
    "        \n",
    "        new_x=old_pose[0]+motor_ticks[0]*ticks_to_mm*cos(old_pose[2]%(2*pi))\n",
    "        new_y=old_pose[1]+motor_ticks[1]*ticks_to_mm*sin(old_pose[2]%(2*pi))\n",
    "        new_theta=old_pose[2]%(2*pi)\n",
    "        \n",
    "        \n",
    "        #raise NotImplementedError()\n",
    "        return (new_x, new_y, new_theta)\n",
    "\n",
    "    else:\n",
    "        # vehicle parameter\n",
    "        l=motor_ticks[0]*ticks_to_mm\n",
    "        r=motor_ticks[1]*ticks_to_mm\n",
    "        alpha=(r-l)/robot_width\n",
    "        R=l/alpha\n",
    "        \n",
    "        # position generation\n",
    "        # centre position\n",
    "        cx=old_pose[0]-(R+robot_width/2)*sin(old_pose[2]%(2*pi))\n",
    "        cy=old_pose[1]-(R+robot_width/2)*(-cos(old_pose[2]%(2*pi)))\n",
    "        # new heading angle\n",
    "        new_theta=(old_pose[2]+alpha)%(2*pi)\n",
    "        # new position\n",
    "        new_x=cx+(R+robot_width/2)*sin(new_theta)\n",
    "        new_y=cy+(R+robot_width/2)*(-cos(new_theta))\n",
    "        \n",
    "       \n",
    "        # Turn. Compute alpha, R, etc.\n",
    "        # YOUR CODE HERE\n",
    "       # raise NotImplementedError()\n",
    "        return (new_x, new_y, new_theta)\n",
    "\n",
    "if __name__ == '__main__':\n",
    "    # Empirically derived conversion from ticks to mm.\n",
    "    ticks_to_mm = 0.349\n",
    "\n",
    "    # Measured width of the robot (wheel gauge), in mm.\n",
    "    robot_width = 150.0\n",
    "\n",
    "    # Read data.\n",
    "    logfile = LegoLogfile()\n",
    "    logfile.read(\"robot4_motors.txt\")\n",
    "\n",
    "    # Start at origin (0,0), looking along x axis (alpha = 0).\n",
    "    pose = (0.0, 0.0, 0.0)\n",
    "\n",
    "    # Loop over all motor tick records generate filtered position list.\n",
    "    filtered = []\n",
    "    for ticks in logfile.motor_ticks:\n",
    "        pose = filter_step(pose, ticks, ticks_to_mm, robot_width)\n",
    "        filtered.append(pose)\n",
    "\n",
    "    # Draw result.\n",
    "    for pose in filtered:\n",
    "        print(pose)\n",
    "        plot([p[0] for p in filtered], [p[1] for p in filtered], 'bo')\n",
    "    show()"
   ]
  },
  {
   "cell_type": "code",
   "execution_count": 7,
   "metadata": {
    "deletable": false,
    "editable": false,
    "nbgrader": {
     "cell_type": "code",
     "checksum": "c12e0cd3b556dd92b0c77db262caaa3b",
     "grade": true,
     "grade_id": "cell-0de56220b95dd8b5",
     "locked": true,
     "points": 20,
     "schema_version": 3,
     "solution": false,
     "task": false
    }
   },
   "outputs": [],
   "source": [
    "# Let us test two simple cases.\n",
    "from math import isclose, sqrt\n",
    "\n",
    "def public_test(the_filter_step):\n",
    "    # Check what happens if we go straight.\n",
    "    # Say the robot sits at (10,12), looks to the upper right\n",
    "    # (45 degrees = pi/4), then runs for 5 ticks where each tick corresponds\n",
    "    # to two millimetres.\n",
    "    # The width should play no role in this case, so we set it to 1.\n",
    "    # Then, the robot should keep its heading, and should move straight by a\n",
    "    # distance of 10 * sqrt(1/2).\n",
    "    new_x, new_y, new_theta = the_filter_step((10, 12, pi/4.0), (5,5), 2, 1)\n",
    "    if new_x != 10 + 10.0 * sqrt(0.5) or \\\n",
    "       new_y != 12 + 10.0 * sqrt(0.5) or \\\n",
    "       new_theta != pi/4.0:\n",
    "        print(\"The test case for going straight went wrong.\")\n",
    "        return False\n",
    "\n",
    "    # Check a simple arc.\n",
    "    # Say the robot turns, with a radius of 10, by pi/4.\n",
    "    # Say it has a width of 2, so the left wheel travels 9/4 pi, and the right wheel 11/4 pi.\n",
    "    # To make it easier, we put it at (10,0) in the beginning, looking upward.\n",
    "    # Then, after the move, it should be at x = y = 10 * sqrt(1/2), and\n",
    "    # look towards the upper left (at 135 degrees heading).\n",
    "    new_x, new_y, new_theta = the_filter_step(\n",
    "        (10, 0, pi/2.0), (9, 11), pi/4.0, 2)\n",
    "    if not isclose(new_x, 10.0 * sqrt(0.5)) or \\\n",
    "       not isclose(new_y, 10.0 * sqrt(0.5)) or \\\n",
    "       not isclose(new_theta, 3*pi/4.0):\n",
    "        print(\"The test case for a turn went wrong.\")\n",
    "        return False\n",
    "\n",
    "    return True\n",
    "\n",
    "assert(public_test(filter_step))"
   ]
  },
  {
   "cell_type": "markdown",
   "metadata": {
    "deletable": false,
    "editable": false,
    "nbgrader": {
     "cell_type": "markdown",
     "checksum": "3164a0194a050beb3dd0b3233933f4d2",
     "grade": false,
     "grade_id": "cell-2197696599fcbada",
     "locked": true,
     "schema_version": 3,
     "solution": false,
     "task": false
    }
   },
   "source": [
    "## Modifying the motion model and generating file output"
   ]
  },
  {
   "cell_type": "code",
   "execution_count": 8,
   "metadata": {
    "deletable": false,
    "editable": false,
    "nbgrader": {
     "cell_type": "code",
     "checksum": "45dc3a955824d786fd6bef8d219e6742",
     "grade": false,
     "grade_id": "cell-a1787b18312986fc",
     "locked": true,
     "schema_version": 3,
     "solution": false,
     "task": false
    }
   },
   "outputs": [
    {
     "data": {
      "text/html": [
       "\n",
       "        <iframe\n",
       "            width=\"560\"\n",
       "            height=\"315\"\n",
       "            src=\"//av.tib.eu/player/49053\"\n",
       "            frameborder=\"0\"\n",
       "            allowfullscreen\n",
       "        ></iframe>\n",
       "        "
      ],
      "text/plain": [
       "<IPython.lib.display.IFrame at 0x15b73566280>"
      ]
     },
     "execution_count": 8,
     "metadata": {},
     "output_type": "execute_result"
    }
   ],
   "source": [
    "# If you don't see a video below, run this cell.\n",
    "from IPython.display import IFrame\n",
    "IFrame(\"https://www.youtube.com/embed/wNmCSF0Pk4w\" if \"YouTube\" in globals() else \"//av.tib.eu/player/49053\",\n",
    "       width=560, height=315)"
   ]
  },
  {
   "cell_type": "markdown",
   "metadata": {
    "deletable": false,
    "editable": false,
    "nbgrader": {
     "cell_type": "markdown",
     "checksum": "c55afbee010c2d571436e7a27f8eb3e1",
     "grade": false,
     "grade_id": "cell-fb45f6ba258a126c",
     "locked": true,
     "schema_version": 3,
     "solution": false,
     "task": false
    }
   },
   "source": [
    "### Your second programming assignment: modify the motion model (5 points):\n",
    "Carefully watch the video above and implement the shown equations as Python3 code. Insert them into the indicated sections below."
   ]
  },
  {
   "cell_type": "code",
   "execution_count": 9,
   "metadata": {
    "deletable": false,
    "nbgrader": {
     "cell_type": "code",
     "checksum": "f77b55dae7cef5c75a9425418f9342e5",
     "grade": false,
     "grade_id": "cell-35ce00c180c976b2",
     "locked": false,
     "schema_version": 3,
     "solution": true,
     "task": false
    }
   },
   "outputs": [],
   "source": [
    "# Implement the second move model for the Lego robot.\n",
    "# The difference to the first implementation is:\n",
    "# - added a scanner displacement\n",
    "# - added a different start pose (measured in the real world)\n",
    "# - result is now output to a file, as \"F\" (\"filtered\") records.\n",
    "#\n",
    "# 02_b_filter_motor_file\n",
    "from math import sin, cos, pi\n",
    "from lego_robot import *\n",
    "\n",
    "# This function takes the old (x, y, heading) pose and the motor ticks\n",
    "# (ticks_left, ticks_right) and returns the new (x, y, heading).\n",
    "def filter_step(old_pose, motor_ticks, ticks_to_mm, robot_width,\n",
    "                scanner_displacement):\n",
    "\n",
    "    # Find out if there is a turn at all.\n",
    "    if motor_ticks[0] == motor_ticks[1]:\n",
    "        # No turn. Just drive straight.\n",
    "        # --->>> Use your previous implementation.\n",
    "        # Think about how you need to modify your old code due to the\n",
    "        # scanner displacement?\n",
    "        # YOUR CODE HERE\n",
    "        new_x=old_pose[0]+motor_ticks[0]*ticks_to_mm*cos(old_pose[2]%(2*pi))\n",
    "        new_y=old_pose[1]+motor_ticks[1]*ticks_to_mm*sin(old_pose[2]%(2*pi))\n",
    "        new_theta=old_pose[2]%(2*pi)\n",
    "        \n",
    "        \n",
    "        #raise NotImplementedError()\n",
    "        return (new_x, new_y, new_theta)\n",
    "\n",
    "    else:\n",
    "        # Turn. Compute alpha, R, etc.\n",
    "        # --->>> Modify your previous implementation.\n",
    "        # First modify the the old pose to get the center (because the\n",
    "        #   old pose is the LiDAR's pose, not the robot's center pose).\n",
    "        # Second, execute your old code, which implements the motion model\n",
    "        #   for the center of the robot.\n",
    "        # Third, modify the result to get back the LiDAR pose from\n",
    "        #   your computed center. This is the value you have to return.\n",
    "        old_x=old_pose[0]-cos(old_pose[2])*scanner_displacement\n",
    "        old_y=old_pose[1]-sin(old_pose[2])*scanner_displacement\n",
    "        \n",
    "        l=motor_ticks[0]*ticks_to_mm\n",
    "        r=motor_ticks[1]*ticks_to_mm\n",
    "        alpha=(r-l)/robot_width\n",
    "        R=l/alpha\n",
    "        \n",
    "        # position generation\n",
    "        # centre position\n",
    "        cx=old_x-(R+robot_width/2)*sin(old_pose[2]%(2*pi))\n",
    "        cy=old_y-(R+robot_width/2)*(-cos(old_pose[2]%(2*pi)))\n",
    "        # new heading angle\n",
    "        new_theta=(old_pose[2]+alpha)%(2*pi)\n",
    "        # new position\n",
    "        new_x=cx+(R+robot_width/2)*sin(new_theta%(2*pi))\n",
    "        new_y=cy+(R+robot_width/2)*(-cos(new_theta%(2*pi)))\n",
    "        \n",
    "        new_x=new_x+cos(new_theta)*scanner_displacement\n",
    "        new_y=new_y+sin(new_theta)*scanner_displacement\n",
    "        # YOUR CODE HERE\n",
    "        #raise NotImplementedError()\n",
    "        return (new_x, new_y, new_theta)\n",
    "\n",
    "if __name__ == '__main__':\n",
    "    # Empirically derived distance between scanner and assumed\n",
    "    # center of robot.\n",
    "    scanner_displacement = 30.0\n",
    "\n",
    "    # Empirically derived conversion from ticks to mm.\n",
    "    ticks_to_mm = 0.349\n",
    "\n",
    "    # Measured width of the robot (wheel gauge), in mm.\n",
    "    robot_width = 150.0\n",
    "\n",
    "    # Measured start position.\n",
    "    pose = (1850.0, 1897.0, 213.0 / 180.0 * pi)\n",
    "\n",
    "    # Read data.\n",
    "    logfile = LegoLogfile()\n",
    "    logfile.read(\"robot4_motors.txt\")\n",
    "\n",
    "    # Loop over all motor tick records generate filtered position list.\n",
    "    filtered = []\n",
    "    for ticks in logfile.motor_ticks:\n",
    "        pose = filter_step(pose, ticks, ticks_to_mm, robot_width,\n",
    "                           scanner_displacement)\n",
    "        filtered.append(pose)\n",
    "\n",
    "    # Write all filtered positions to file.\n",
    "    f = open(\"poses_from_ticks.txt\", \"w\")\n",
    "    for pose in filtered:\n",
    "        print(\"F %f %f %f\" % pose, file=f)\n",
    "    f.close()"
   ]
  },
  {
   "cell_type": "markdown",
   "metadata": {
    "deletable": false,
    "editable": false,
    "nbgrader": {
     "cell_type": "markdown",
     "checksum": "fbbbedbc765daa1995a755636e5c5035",
     "grade": false,
     "grade_id": "cell-f1fa9255c3ee7457",
     "locked": true,
     "schema_version": 3,
     "solution": false,
     "task": false
    }
   },
   "source": [
    "### Use the logfile viewer to evaluate your result: introducing the notebook version of the viewer.\n",
    "- In the previous video, the logfile_viewer.py was presented, which you can use on your computer to look at the generated result file, \"poses_from_ticks.txt\". The logfile_viewer.py is a stand-alone Python program.\n",
    "- To make things easier, there is a ipy_logfile_viewer, which can be run interactively, in this notebook. It has a quite similar visualization and interface.\n",
    "- To use it, just run the following cell.\n",
    "- Note that, in contrast to the logfile_viewer shown in the video, there is no file selector in the notebook version (ipy_logfile_viewer). Just enter the names of all the files you want to view using the \"files\" parameter.\n",
    "- Note also that the graphics will be updated only after you release the slider. Alternatively, use the **cursor-left** and **cursor-right** keys on your keyboard. Also see the comments in the cell below."
   ]
  },
  {
   "cell_type": "code",
   "execution_count": 10,
   "metadata": {},
   "outputs": [
    {
     "data": {
      "application/vnd.jupyter.widget-view+json": {
       "model_id": "2de62b0cd35b4c5fae6211c06dfca8c1",
       "version_major": 2,
       "version_minor": 0
      },
      "text/plain": [
       "VBox(children=(HBox(children=(Output(layout=Layout(width='600px')), Output(layout=Layout(width='600px')))), Ou…"
      ]
     },
     "metadata": {},
     "output_type": "display_data"
    }
   ],
   "source": [
    "# To run the logfile viewer, we import it and instantiate it, specifying all files we want to view.\n",
    "import ipy_logfile_viewer as lfv\n",
    "v = lfv.IPYLogfileViewer(files=[\"poses_from_ticks.txt\", \"robot4_motors.txt\"], continuous_update=True)\n",
    "# You may also try out the following options (by adding them to the list of arguments):\n",
    "#- continuous_update=True (the graphics are updated while the slider moves, default: False)\n",
    "# - matplotlib_format=\"png\" (default: \"svg\"). Vector graphics such as \"svg\" allow you to zoom into the graphics\n",
    "#   (e.g. using the zoom button in the browser) without a loss in quality. Alternatively, you can also use\n",
    "#   pixel graphics, e.g. \"png\", or \"jpg\". Example:\n",
    "#     v = lfv.IPYLogfileViewer(files=[\"poses_from_ticks.txt\"], continuous_update=True, matplotlib_format=\"png\")\n",
    "# You may also add a list of files to load after the instantiation. Example:\n",
    "     #v.load([\"robot4_reference.txt\"])\n",
    "     #v.load([\"robot_arena_landmarks.txt\"]).\n",
    "       "
   ]
  },
  {
   "cell_type": "markdown",
   "metadata": {
    "deletable": false,
    "editable": false,
    "nbgrader": {
     "cell_type": "markdown",
     "checksum": "7116d26b4c0d9a8ef1bce978fe0c32ce",
     "grade": false,
     "grade_id": "cell-975687d87697c53a",
     "locked": true,
     "schema_version": 3,
     "solution": false,
     "task": false
    }
   },
   "source": [
    "### Still missing: the test."
   ]
  },
  {
   "cell_type": "code",
   "execution_count": 11,
   "metadata": {
    "deletable": false,
    "editable": false,
    "nbgrader": {
     "cell_type": "code",
     "checksum": "0cc5d9fbaf04c1c076bbd744c9207492",
     "grade": true,
     "grade_id": "cell-28b0092f0e6dff6b",
     "locked": true,
     "points": 5,
     "schema_version": 3,
     "solution": false,
     "task": false
    }
   },
   "outputs": [],
   "source": [
    "# Let us use the same two cases as above.\n",
    "from math import isclose, sqrt\n",
    "\n",
    "def public_test(the_filter_step):\n",
    "    # Check what happens if we go straight.\n",
    "    # Say the robot sits at (10,12), looks to the upper right\n",
    "    # (45 degrees = pi/4), then runs for 5 ticks where each tick corresponds\n",
    "    # to two millimetres.\n",
    "    # The width should play no role in this case, so we set it to 1.\n",
    "    # Then, the robot should keep its heading, and should move straight by a\n",
    "    # distance of 10 * sqrt(1/2).\n",
    "    # If we drive straight, there should be no difference, so we can re-use\n",
    "    # our previous test.\n",
    "    new_x, new_y, new_theta = the_filter_step(\n",
    "        (10, 12, pi/4.0), (5,5), 2, 1, 3.0)\n",
    "    if new_x != 10 + 10.0 * sqrt(0.5) or \\\n",
    "       new_y != 12 + 10.0 * sqrt(0.5) or \\\n",
    "       new_theta != pi/4.0:\n",
    "        print(\"The test case for going straight went wrong.\")\n",
    "        return False\n",
    "\n",
    "    # Check a simple arc.\n",
    "    # Say the robot turns, with a radius of 10, by pi/4.\n",
    "    # Say it has a width of 2, so the left wheel travels 9/4 pi, and the\n",
    "    # right wheel 11/4 pi. To make it easier, we put it at (10,0) in the\n",
    "    # beginning, looking upward. If we assume a displacement of 3, this means\n",
    "    # the scanner is at (10,3) instead.\n",
    "    # After the move, the body should be at x = y = 10 * sqrt(1/2), and\n",
    "    # look towards the upper left (at 135 degrees heading). Then, due to this\n",
    "    # heading, the scanner would be at the body plus the unit vector pointing\n",
    "    # towards the upper left, (-sqrt(0.5), +sqrt(0.5)), times the displacement,\n",
    "    # which is 3.\n",
    "    new_x, new_y, new_theta = the_filter_step(\n",
    "        (10, 0+3, pi/2.0), (9, 11), pi/4.0, 2, 3.0)\n",
    "    if not isclose(new_x, (10.0 - 3) * sqrt(0.5)) or \\\n",
    "       not isclose(new_y, (10.0 + 3) * sqrt(0.5)) or \\\n",
    "       not isclose(new_theta, 3*pi/4.0):\n",
    "        print(\"The test case for a turn went wrong.\")\n",
    "        return False\n",
    "\n",
    "    return True\n",
    "\n",
    "assert(public_test(filter_step))"
   ]
  },
  {
   "cell_type": "code",
   "execution_count": null,
   "metadata": {},
   "outputs": [],
   "source": []
  }
 ],
 "metadata": {
  "copyright": "(c) Claus Brenner 2020",
  "interpreter": {
   "hash": "ecf5722fdaf1897a315d257d89d94520bfcaa453217d5becf09b39e73618b0de"
  },
  "kernelspec": {
   "display_name": "Python 3.8.5 64-bit ('base': conda)",
   "name": "python3"
  },
  "language_info": {
   "codemirror_mode": {
    "name": "ipython",
    "version": 3
   },
   "file_extension": ".py",
   "mimetype": "text/x-python",
   "name": "python",
   "nbconvert_exporter": "python",
   "pygments_lexer": "ipython3",
   "version": "3.8.5"
  }
 },
 "nbformat": 4,
 "nbformat_minor": 4
}
