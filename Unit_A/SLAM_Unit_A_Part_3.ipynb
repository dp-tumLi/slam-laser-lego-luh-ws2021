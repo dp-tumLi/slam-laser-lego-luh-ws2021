{
 "cells": [
  {
   "cell_type": "markdown",
   "metadata": {
    "deletable": false,
    "editable": false,
    "nbgrader": {
     "cell_type": "markdown",
     "checksum": "b643dde9ef4f422dee71808838779905",
     "grade": false,
     "grade_id": "cell-aa83106e43b11bd8",
     "locked": true,
     "schema_version": 3,
     "solution": false,
     "task": false
    }
   },
   "source": [
    "# SLAM Unit A - Part 3\n",
    "In this part 3 of Unit A, we will start to work with the laser scanner."
   ]
  },
  {
   "cell_type": "code",
   "execution_count": 86,
   "metadata": {},
   "outputs": [],
   "source": [
    "# You can modify the following to adjust the (width, height) of the plots (supposed to be in inches).\n",
    "from pylab import *\n",
    "plt.rcParams['figure.figsize'] = (12, 6)\n",
    "# YouTube = True  # Uncomment to get YouTube videos instead of TIB AV."
   ]
  },
  {
   "cell_type": "markdown",
   "metadata": {
    "deletable": false,
    "editable": false,
    "nbgrader": {
     "cell_type": "markdown",
     "checksum": "22b08d358a7d57d84d8cd89641e54b11",
     "grade": false,
     "grade_id": "cell-c40cf0a8a458a658",
     "locked": true,
     "schema_version": 3,
     "solution": false,
     "task": false
    }
   },
   "source": [
    "## Sensor data: laser scanner (LiDAR) data and its derivative"
   ]
  },
  {
   "cell_type": "code",
   "execution_count": 87,
   "metadata": {
    "deletable": false,
    "editable": false,
    "nbgrader": {
     "cell_type": "code",
     "checksum": "e01946192a8510f3defdf4d62f48ba8c",
     "grade": false,
     "grade_id": "cell-0b253fd69e0e2dcf",
     "locked": true,
     "schema_version": 3,
     "solution": false,
     "task": false
    }
   },
   "outputs": [
    {
     "data": {
      "text/html": [
       "\n",
       "        <iframe\n",
       "            width=\"560\"\n",
       "            height=\"315\"\n",
       "            src=\"//av.tib.eu/player/49054\"\n",
       "            frameborder=\"0\"\n",
       "            allowfullscreen\n",
       "        ></iframe>\n",
       "        "
      ],
      "text/plain": [
       "<IPython.lib.display.IFrame at 0x27cda85a400>"
      ]
     },
     "execution_count": 87,
     "metadata": {},
     "output_type": "execute_result"
    }
   ],
   "source": [
    "# If you don't see a video below, run this cell.\n",
    "from IPython.display import IFrame\n",
    "IFrame(\"https://www.youtube.com/embed/_rGseGPtS7g\" if \"YouTube\" in globals() else \"//av.tib.eu/player/49054\",\n",
    "       width=560, height=315)"
   ]
  },
  {
   "cell_type": "markdown",
   "metadata": {
    "deletable": false,
    "editable": false,
    "nbgrader": {
     "cell_type": "markdown",
     "checksum": "d2efdb8f957cfbda6dc26876454c5b92",
     "grade": false,
     "grade_id": "cell-c25f1f0a017fd454",
     "locked": true,
     "schema_version": 3,
     "solution": false,
     "task": false
    }
   },
   "source": [
    "### First look at the motor ticks vs. reference trajectory by yourself!"
   ]
  },
  {
   "cell_type": "code",
   "execution_count": 88,
   "metadata": {},
   "outputs": [
    {
     "data": {
      "application/vnd.jupyter.widget-view+json": {
       "model_id": "65f0b7cbf95a4edd8f5999bba6da6ea1",
       "version_major": 2,
       "version_minor": 0
      },
      "text/plain": [
       "VBox(children=(HBox(children=(Output(layout=Layout(width='600px')), Output(layout=Layout(width='600px')))), Ou…"
      ]
     },
     "metadata": {},
     "output_type": "display_data"
    }
   ],
   "source": [
    "# Execute this to run the interactive viewer.\n",
    "import ipy_logfile_viewer as lfv\n",
    "\n",
    "v = lfv.IPYLogfileViewer(files=[\"poses_from_ticks.txt\", \"robot4_reference.txt\", \"robot4_scan.txt\"])"
   ]
  },
  {
   "cell_type": "markdown",
   "metadata": {
    "deletable": false,
    "editable": false,
    "nbgrader": {
     "cell_type": "markdown",
     "checksum": "6db7aa4f1a78ef608988cd1dedc8656d",
     "grade": false,
     "grade_id": "cell-0a5977d6571f2636",
     "locked": true,
     "schema_version": 3,
     "solution": false,
     "task": false
    }
   },
   "source": [
    "### Plot a scan.\n",
    "Just as in the video, we plot one scan, i.e. a graph that shows the measured distance for every scan ray that was emitted during one scanner revolution."
   ]
  },
  {
   "cell_type": "code",
   "execution_count": 89,
   "metadata": {},
   "outputs": [
    {
     "data": {
      "image/svg+xml": "<?xml version=\"1.0\" encoding=\"utf-8\" standalone=\"no\"?>\r\n<!DOCTYPE svg PUBLIC \"-//W3C//DTD SVG 1.1//EN\"\r\n  \"http://www.w3.org/Graphics/SVG/1.1/DTD/svg11.dtd\">\r\n<!-- Created with matplotlib (https://matplotlib.org/) -->\r\n<svg height=\"357.238125pt\" version=\"1.1\" viewBox=\"0 0 716.45 357.238125\" width=\"716.45pt\" xmlns=\"http://www.w3.org/2000/svg\" xmlns:xlink=\"http://www.w3.org/1999/xlink\">\r\n <metadata>\r\n  <rdf:RDF xmlns:cc=\"http://creativecommons.org/ns#\" xmlns:dc=\"http://purl.org/dc/elements/1.1/\" xmlns:rdf=\"http://www.w3.org/1999/02/22-rdf-syntax-ns#\">\r\n   <cc:Work>\r\n    <dc:type rdf:resource=\"http://purl.org/dc/dcmitype/StillImage\"/>\r\n    <dc:date>2021-11-04T11:26:33.290192</dc:date>\r\n    <dc:format>image/svg+xml</dc:format>\r\n    <dc:creator>\r\n     <cc:Agent>\r\n      <dc:title>Matplotlib v3.3.4, https://matplotlib.org/</dc:title>\r\n     </cc:Agent>\r\n    </dc:creator>\r\n   </cc:Work>\r\n  </rdf:RDF>\r\n </metadata>\r\n <defs>\r\n  <style type=\"text/css\">*{stroke-linecap:butt;stroke-linejoin:round;}</style>\r\n </defs>\r\n <g id=\"figure_1\">\r\n  <g id=\"patch_1\">\r\n   <path d=\"M 0 357.238125 \r\nL 716.45 357.238125 \r\nL 716.45 0 \r\nL 0 0 \r\nz\r\n\" style=\"fill:none;\"/>\r\n  </g>\r\n  <g id=\"axes_1\">\r\n   <g id=\"patch_2\">\r\n    <path d=\"M 39.65 333.36 \r\nL 709.25 333.36 \r\nL 709.25 7.2 \r\nL 39.65 7.2 \r\nz\r\n\" style=\"fill:#ffffff;\"/>\r\n   </g>\r\n   <g id=\"matplotlib.axis_1\">\r\n    <g id=\"xtick_1\">\r\n     <g id=\"line2d_1\">\r\n      <defs>\r\n       <path d=\"M 0 0 \r\nL 0 3.5 \r\n\" id=\"mb5a38bed39\" style=\"stroke:#000000;stroke-width:0.8;\"/>\r\n      </defs>\r\n      <g>\r\n       <use style=\"stroke:#000000;stroke-width:0.8;\" x=\"70.086364\" xlink:href=\"#mb5a38bed39\" y=\"333.36\"/>\r\n      </g>\r\n     </g>\r\n     <g id=\"text_1\">\r\n      <!-- 0 -->\r\n      <g transform=\"translate(66.905114 347.958438)scale(0.1 -0.1)\">\r\n       <defs>\r\n        <path d=\"M 31.78125 66.40625 \r\nQ 24.171875 66.40625 20.328125 58.90625 \r\nQ 16.5 51.421875 16.5 36.375 \r\nQ 16.5 21.390625 20.328125 13.890625 \r\nQ 24.171875 6.390625 31.78125 6.390625 \r\nQ 39.453125 6.390625 43.28125 13.890625 \r\nQ 47.125 21.390625 47.125 36.375 \r\nQ 47.125 51.421875 43.28125 58.90625 \r\nQ 39.453125 66.40625 31.78125 66.40625 \r\nz\r\nM 31.78125 74.21875 \r\nQ 44.046875 74.21875 50.515625 64.515625 \r\nQ 56.984375 54.828125 56.984375 36.375 \r\nQ 56.984375 17.96875 50.515625 8.265625 \r\nQ 44.046875 -1.421875 31.78125 -1.421875 \r\nQ 19.53125 -1.421875 13.0625 8.265625 \r\nQ 6.59375 17.96875 6.59375 36.375 \r\nQ 6.59375 54.828125 13.0625 64.515625 \r\nQ 19.53125 74.21875 31.78125 74.21875 \r\nz\r\n\" id=\"DejaVuSans-48\"/>\r\n       </defs>\r\n       <use xlink:href=\"#DejaVuSans-48\"/>\r\n      </g>\r\n     </g>\r\n    </g>\r\n    <g id=\"xtick_2\">\r\n     <g id=\"line2d_2\">\r\n      <g>\r\n       <use style=\"stroke:#000000;stroke-width:0.8;\" x=\"162.457725\" xlink:href=\"#mb5a38bed39\" y=\"333.36\"/>\r\n      </g>\r\n     </g>\r\n     <g id=\"text_2\">\r\n      <!-- 100 -->\r\n      <g transform=\"translate(152.913975 347.958438)scale(0.1 -0.1)\">\r\n       <defs>\r\n        <path d=\"M 12.40625 8.296875 \r\nL 28.515625 8.296875 \r\nL 28.515625 63.921875 \r\nL 10.984375 60.40625 \r\nL 10.984375 69.390625 \r\nL 28.421875 72.90625 \r\nL 38.28125 72.90625 \r\nL 38.28125 8.296875 \r\nL 54.390625 8.296875 \r\nL 54.390625 0 \r\nL 12.40625 0 \r\nz\r\n\" id=\"DejaVuSans-49\"/>\r\n       </defs>\r\n       <use xlink:href=\"#DejaVuSans-49\"/>\r\n       <use x=\"63.623047\" xlink:href=\"#DejaVuSans-48\"/>\r\n       <use x=\"127.246094\" xlink:href=\"#DejaVuSans-48\"/>\r\n      </g>\r\n     </g>\r\n    </g>\r\n    <g id=\"xtick_3\">\r\n     <g id=\"line2d_3\">\r\n      <g>\r\n       <use style=\"stroke:#000000;stroke-width:0.8;\" x=\"254.829087\" xlink:href=\"#mb5a38bed39\" y=\"333.36\"/>\r\n      </g>\r\n     </g>\r\n     <g id=\"text_3\">\r\n      <!-- 200 -->\r\n      <g transform=\"translate(245.285337 347.958438)scale(0.1 -0.1)\">\r\n       <defs>\r\n        <path d=\"M 19.1875 8.296875 \r\nL 53.609375 8.296875 \r\nL 53.609375 0 \r\nL 7.328125 0 \r\nL 7.328125 8.296875 \r\nQ 12.9375 14.109375 22.625 23.890625 \r\nQ 32.328125 33.6875 34.8125 36.53125 \r\nQ 39.546875 41.84375 41.421875 45.53125 \r\nQ 43.3125 49.21875 43.3125 52.78125 \r\nQ 43.3125 58.59375 39.234375 62.25 \r\nQ 35.15625 65.921875 28.609375 65.921875 \r\nQ 23.96875 65.921875 18.8125 64.3125 \r\nQ 13.671875 62.703125 7.8125 59.421875 \r\nL 7.8125 69.390625 \r\nQ 13.765625 71.78125 18.9375 73 \r\nQ 24.125 74.21875 28.421875 74.21875 \r\nQ 39.75 74.21875 46.484375 68.546875 \r\nQ 53.21875 62.890625 53.21875 53.421875 \r\nQ 53.21875 48.921875 51.53125 44.890625 \r\nQ 49.859375 40.875 45.40625 35.40625 \r\nQ 44.1875 33.984375 37.640625 27.21875 \r\nQ 31.109375 20.453125 19.1875 8.296875 \r\nz\r\n\" id=\"DejaVuSans-50\"/>\r\n       </defs>\r\n       <use xlink:href=\"#DejaVuSans-50\"/>\r\n       <use x=\"63.623047\" xlink:href=\"#DejaVuSans-48\"/>\r\n       <use x=\"127.246094\" xlink:href=\"#DejaVuSans-48\"/>\r\n      </g>\r\n     </g>\r\n    </g>\r\n    <g id=\"xtick_4\">\r\n     <g id=\"line2d_4\">\r\n      <g>\r\n       <use style=\"stroke:#000000;stroke-width:0.8;\" x=\"347.200448\" xlink:href=\"#mb5a38bed39\" y=\"333.36\"/>\r\n      </g>\r\n     </g>\r\n     <g id=\"text_4\">\r\n      <!-- 300 -->\r\n      <g transform=\"translate(337.656698 347.958438)scale(0.1 -0.1)\">\r\n       <defs>\r\n        <path d=\"M 40.578125 39.3125 \r\nQ 47.65625 37.796875 51.625 33 \r\nQ 55.609375 28.21875 55.609375 21.1875 \r\nQ 55.609375 10.40625 48.1875 4.484375 \r\nQ 40.765625 -1.421875 27.09375 -1.421875 \r\nQ 22.515625 -1.421875 17.65625 -0.515625 \r\nQ 12.796875 0.390625 7.625 2.203125 \r\nL 7.625 11.71875 \r\nQ 11.71875 9.328125 16.59375 8.109375 \r\nQ 21.484375 6.890625 26.8125 6.890625 \r\nQ 36.078125 6.890625 40.9375 10.546875 \r\nQ 45.796875 14.203125 45.796875 21.1875 \r\nQ 45.796875 27.640625 41.28125 31.265625 \r\nQ 36.765625 34.90625 28.71875 34.90625 \r\nL 20.21875 34.90625 \r\nL 20.21875 43.015625 \r\nL 29.109375 43.015625 \r\nQ 36.375 43.015625 40.234375 45.921875 \r\nQ 44.09375 48.828125 44.09375 54.296875 \r\nQ 44.09375 59.90625 40.109375 62.90625 \r\nQ 36.140625 65.921875 28.71875 65.921875 \r\nQ 24.65625 65.921875 20.015625 65.03125 \r\nQ 15.375 64.15625 9.8125 62.3125 \r\nL 9.8125 71.09375 \r\nQ 15.4375 72.65625 20.34375 73.4375 \r\nQ 25.25 74.21875 29.59375 74.21875 \r\nQ 40.828125 74.21875 47.359375 69.109375 \r\nQ 53.90625 64.015625 53.90625 55.328125 \r\nQ 53.90625 49.265625 50.4375 45.09375 \r\nQ 46.96875 40.921875 40.578125 39.3125 \r\nz\r\n\" id=\"DejaVuSans-51\"/>\r\n       </defs>\r\n       <use xlink:href=\"#DejaVuSans-51\"/>\r\n       <use x=\"63.623047\" xlink:href=\"#DejaVuSans-48\"/>\r\n       <use x=\"127.246094\" xlink:href=\"#DejaVuSans-48\"/>\r\n      </g>\r\n     </g>\r\n    </g>\r\n    <g id=\"xtick_5\">\r\n     <g id=\"line2d_5\">\r\n      <g>\r\n       <use style=\"stroke:#000000;stroke-width:0.8;\" x=\"439.57181\" xlink:href=\"#mb5a38bed39\" y=\"333.36\"/>\r\n      </g>\r\n     </g>\r\n     <g id=\"text_5\">\r\n      <!-- 400 -->\r\n      <g transform=\"translate(430.02806 347.958438)scale(0.1 -0.1)\">\r\n       <defs>\r\n        <path d=\"M 37.796875 64.3125 \r\nL 12.890625 25.390625 \r\nL 37.796875 25.390625 \r\nz\r\nM 35.203125 72.90625 \r\nL 47.609375 72.90625 \r\nL 47.609375 25.390625 \r\nL 58.015625 25.390625 \r\nL 58.015625 17.1875 \r\nL 47.609375 17.1875 \r\nL 47.609375 0 \r\nL 37.796875 0 \r\nL 37.796875 17.1875 \r\nL 4.890625 17.1875 \r\nL 4.890625 26.703125 \r\nz\r\n\" id=\"DejaVuSans-52\"/>\r\n       </defs>\r\n       <use xlink:href=\"#DejaVuSans-52\"/>\r\n       <use x=\"63.623047\" xlink:href=\"#DejaVuSans-48\"/>\r\n       <use x=\"127.246094\" xlink:href=\"#DejaVuSans-48\"/>\r\n      </g>\r\n     </g>\r\n    </g>\r\n    <g id=\"xtick_6\">\r\n     <g id=\"line2d_6\">\r\n      <g>\r\n       <use style=\"stroke:#000000;stroke-width:0.8;\" x=\"531.943171\" xlink:href=\"#mb5a38bed39\" y=\"333.36\"/>\r\n      </g>\r\n     </g>\r\n     <g id=\"text_6\">\r\n      <!-- 500 -->\r\n      <g transform=\"translate(522.399421 347.958438)scale(0.1 -0.1)\">\r\n       <defs>\r\n        <path d=\"M 10.796875 72.90625 \r\nL 49.515625 72.90625 \r\nL 49.515625 64.59375 \r\nL 19.828125 64.59375 \r\nL 19.828125 46.734375 \r\nQ 21.96875 47.46875 24.109375 47.828125 \r\nQ 26.265625 48.1875 28.421875 48.1875 \r\nQ 40.625 48.1875 47.75 41.5 \r\nQ 54.890625 34.8125 54.890625 23.390625 \r\nQ 54.890625 11.625 47.5625 5.09375 \r\nQ 40.234375 -1.421875 26.90625 -1.421875 \r\nQ 22.3125 -1.421875 17.546875 -0.640625 \r\nQ 12.796875 0.140625 7.71875 1.703125 \r\nL 7.71875 11.625 \r\nQ 12.109375 9.234375 16.796875 8.0625 \r\nQ 21.484375 6.890625 26.703125 6.890625 \r\nQ 35.15625 6.890625 40.078125 11.328125 \r\nQ 45.015625 15.765625 45.015625 23.390625 \r\nQ 45.015625 31 40.078125 35.4375 \r\nQ 35.15625 39.890625 26.703125 39.890625 \r\nQ 22.75 39.890625 18.8125 39.015625 \r\nQ 14.890625 38.140625 10.796875 36.28125 \r\nz\r\n\" id=\"DejaVuSans-53\"/>\r\n       </defs>\r\n       <use xlink:href=\"#DejaVuSans-53\"/>\r\n       <use x=\"63.623047\" xlink:href=\"#DejaVuSans-48\"/>\r\n       <use x=\"127.246094\" xlink:href=\"#DejaVuSans-48\"/>\r\n      </g>\r\n     </g>\r\n    </g>\r\n    <g id=\"xtick_7\">\r\n     <g id=\"line2d_7\">\r\n      <g>\r\n       <use style=\"stroke:#000000;stroke-width:0.8;\" x=\"624.314533\" xlink:href=\"#mb5a38bed39\" y=\"333.36\"/>\r\n      </g>\r\n     </g>\r\n     <g id=\"text_7\">\r\n      <!-- 600 -->\r\n      <g transform=\"translate(614.770783 347.958438)scale(0.1 -0.1)\">\r\n       <defs>\r\n        <path d=\"M 33.015625 40.375 \r\nQ 26.375 40.375 22.484375 35.828125 \r\nQ 18.609375 31.296875 18.609375 23.390625 \r\nQ 18.609375 15.53125 22.484375 10.953125 \r\nQ 26.375 6.390625 33.015625 6.390625 \r\nQ 39.65625 6.390625 43.53125 10.953125 \r\nQ 47.40625 15.53125 47.40625 23.390625 \r\nQ 47.40625 31.296875 43.53125 35.828125 \r\nQ 39.65625 40.375 33.015625 40.375 \r\nz\r\nM 52.59375 71.296875 \r\nL 52.59375 62.3125 \r\nQ 48.875 64.0625 45.09375 64.984375 \r\nQ 41.3125 65.921875 37.59375 65.921875 \r\nQ 27.828125 65.921875 22.671875 59.328125 \r\nQ 17.53125 52.734375 16.796875 39.40625 \r\nQ 19.671875 43.65625 24.015625 45.921875 \r\nQ 28.375 48.1875 33.59375 48.1875 \r\nQ 44.578125 48.1875 50.953125 41.515625 \r\nQ 57.328125 34.859375 57.328125 23.390625 \r\nQ 57.328125 12.15625 50.6875 5.359375 \r\nQ 44.046875 -1.421875 33.015625 -1.421875 \r\nQ 20.359375 -1.421875 13.671875 8.265625 \r\nQ 6.984375 17.96875 6.984375 36.375 \r\nQ 6.984375 53.65625 15.1875 63.9375 \r\nQ 23.390625 74.21875 37.203125 74.21875 \r\nQ 40.921875 74.21875 44.703125 73.484375 \r\nQ 48.484375 72.75 52.59375 71.296875 \r\nz\r\n\" id=\"DejaVuSans-54\"/>\r\n       </defs>\r\n       <use xlink:href=\"#DejaVuSans-54\"/>\r\n       <use x=\"63.623047\" xlink:href=\"#DejaVuSans-48\"/>\r\n       <use x=\"127.246094\" xlink:href=\"#DejaVuSans-48\"/>\r\n      </g>\r\n     </g>\r\n    </g>\r\n   </g>\r\n   <g id=\"matplotlib.axis_2\">\r\n    <g id=\"ytick_1\">\r\n     <g id=\"line2d_8\">\r\n      <defs>\r\n       <path d=\"M 0 0 \r\nL -3.5 0 \r\n\" id=\"mb586d9f481\" style=\"stroke:#000000;stroke-width:0.8;\"/>\r\n      </defs>\r\n      <g>\r\n       <use style=\"stroke:#000000;stroke-width:0.8;\" x=\"39.65\" xlink:href=\"#mb586d9f481\" y=\"320.344735\"/>\r\n      </g>\r\n     </g>\r\n     <g id=\"text_8\">\r\n      <!-- 0 -->\r\n      <g transform=\"translate(26.2875 324.143954)scale(0.1 -0.1)\">\r\n       <use xlink:href=\"#DejaVuSans-48\"/>\r\n      </g>\r\n     </g>\r\n    </g>\r\n    <g id=\"ytick_2\">\r\n     <g id=\"line2d_9\">\r\n      <g>\r\n       <use style=\"stroke:#000000;stroke-width:0.8;\" x=\"39.65\" xlink:href=\"#mb586d9f481\" y=\"260.005075\"/>\r\n      </g>\r\n     </g>\r\n     <g id=\"text_9\">\r\n      <!-- 500 -->\r\n      <g transform=\"translate(13.5625 263.804294)scale(0.1 -0.1)\">\r\n       <use xlink:href=\"#DejaVuSans-53\"/>\r\n       <use x=\"63.623047\" xlink:href=\"#DejaVuSans-48\"/>\r\n       <use x=\"127.246094\" xlink:href=\"#DejaVuSans-48\"/>\r\n      </g>\r\n     </g>\r\n    </g>\r\n    <g id=\"ytick_3\">\r\n     <g id=\"line2d_10\">\r\n      <g>\r\n       <use style=\"stroke:#000000;stroke-width:0.8;\" x=\"39.65\" xlink:href=\"#mb586d9f481\" y=\"199.665415\"/>\r\n      </g>\r\n     </g>\r\n     <g id=\"text_10\">\r\n      <!-- 1000 -->\r\n      <g transform=\"translate(7.2 203.464633)scale(0.1 -0.1)\">\r\n       <use xlink:href=\"#DejaVuSans-49\"/>\r\n       <use x=\"63.623047\" xlink:href=\"#DejaVuSans-48\"/>\r\n       <use x=\"127.246094\" xlink:href=\"#DejaVuSans-48\"/>\r\n       <use x=\"190.869141\" xlink:href=\"#DejaVuSans-48\"/>\r\n      </g>\r\n     </g>\r\n    </g>\r\n    <g id=\"ytick_4\">\r\n     <g id=\"line2d_11\">\r\n      <g>\r\n       <use style=\"stroke:#000000;stroke-width:0.8;\" x=\"39.65\" xlink:href=\"#mb586d9f481\" y=\"139.325754\"/>\r\n      </g>\r\n     </g>\r\n     <g id=\"text_11\">\r\n      <!-- 1500 -->\r\n      <g transform=\"translate(7.2 143.124973)scale(0.1 -0.1)\">\r\n       <use xlink:href=\"#DejaVuSans-49\"/>\r\n       <use x=\"63.623047\" xlink:href=\"#DejaVuSans-53\"/>\r\n       <use x=\"127.246094\" xlink:href=\"#DejaVuSans-48\"/>\r\n       <use x=\"190.869141\" xlink:href=\"#DejaVuSans-48\"/>\r\n      </g>\r\n     </g>\r\n    </g>\r\n    <g id=\"ytick_5\">\r\n     <g id=\"line2d_12\">\r\n      <g>\r\n       <use style=\"stroke:#000000;stroke-width:0.8;\" x=\"39.65\" xlink:href=\"#mb586d9f481\" y=\"78.986094\"/>\r\n      </g>\r\n     </g>\r\n     <g id=\"text_12\">\r\n      <!-- 2000 -->\r\n      <g transform=\"translate(7.2 82.785313)scale(0.1 -0.1)\">\r\n       <use xlink:href=\"#DejaVuSans-50\"/>\r\n       <use x=\"63.623047\" xlink:href=\"#DejaVuSans-48\"/>\r\n       <use x=\"127.246094\" xlink:href=\"#DejaVuSans-48\"/>\r\n       <use x=\"190.869141\" xlink:href=\"#DejaVuSans-48\"/>\r\n      </g>\r\n     </g>\r\n    </g>\r\n    <g id=\"ytick_6\">\r\n     <g id=\"line2d_13\">\r\n      <g>\r\n       <use style=\"stroke:#000000;stroke-width:0.8;\" x=\"39.65\" xlink:href=\"#mb586d9f481\" y=\"18.646434\"/>\r\n      </g>\r\n     </g>\r\n     <g id=\"text_13\">\r\n      <!-- 2500 -->\r\n      <g transform=\"translate(7.2 22.445652)scale(0.1 -0.1)\">\r\n       <use xlink:href=\"#DejaVuSans-50\"/>\r\n       <use x=\"63.623047\" xlink:href=\"#DejaVuSans-53\"/>\r\n       <use x=\"127.246094\" xlink:href=\"#DejaVuSans-48\"/>\r\n       <use x=\"190.869141\" xlink:href=\"#DejaVuSans-48\"/>\r\n      </g>\r\n     </g>\r\n    </g>\r\n   </g>\r\n   <g id=\"line2d_14\">\r\n    <path clip-path=\"url(#pbbe2252ec8)\" d=\"M 70.086364 297.294985 \r\nL 71.933791 297.294985 \r\nL 72.857504 297.777702 \r\nL 73.781218 297.174306 \r\nL 74.704932 297.777702 \r\nL 75.628645 297.174306 \r\nL 76.552359 297.053626 \r\nL 79.3235 297.053626 \r\nL 80.247213 297.415664 \r\nL 81.170927 297.415664 \r\nL 82.094641 297.536344 \r\nL 83.018354 297.415664 \r\nL 83.942068 297.536344 \r\nL 87.636922 297.536344 \r\nL 88.560636 297.777702 \r\nL 91.331777 297.777702 \r\nL 92.25549 297.415664 \r\nL 95.026631 297.415664 \r\nL 95.950345 296.691588 \r\nL 96.874058 296.932947 \r\nL 97.797772 296.932947 \r\nL 98.721486 296.570909 \r\nL 99.645199 296.932947 \r\nL 100.568913 297.053626 \r\nL 101.492627 297.053626 \r\nL 102.41634 296.932947 \r\nL 104.263767 296.932947 \r\nL 105.187481 296.691588 \r\nL 107.034908 296.691588 \r\nL 107.958622 296.32955 \r\nL 111.653476 296.32955 \r\nL 112.57719 296.45023 \r\nL 113.500904 296.208871 \r\nL 114.424617 296.088192 \r\nL 118.119472 296.088192 \r\nL 119.966899 295.846833 \r\nL 125.509181 295.846833 \r\nL 126.432894 295.122757 \r\nL 127.356608 295.002078 \r\nL 128.280321 294.64004 \r\nL 130.127749 294.64004 \r\nL 131.051462 294.519361 \r\nL 131.975176 294.519361 \r\nL 132.89889 294.398681 \r\nL 133.822603 294.398681 \r\nL 134.746317 294.278002 \r\nL 135.67003 294.278002 \r\nL 136.593744 294.398681 \r\nL 137.517458 294.036643 \r\nL 138.441171 294.036643 \r\nL 139.364885 294.157323 \r\nL 142.136026 294.157323 \r\nL 143.059739 293.674605 \r\nL 143.983453 293.674605 \r\nL 144.907167 294.036643 \r\nL 147.678307 294.036643 \r\nL 148.602021 293.915964 \r\nL 149.525735 293.191888 \r\nL 150.449448 293.191888 \r\nL 151.373162 293.433247 \r\nL 152.296875 293.433247 \r\nL 153.220589 293.071209 \r\nL 154.144303 292.950529 \r\nL 155.068016 292.709171 \r\nL 156.915444 292.709171 \r\nL 157.839157 292.467812 \r\nL 158.762871 291.985095 \r\nL 159.686584 292.467812 \r\nL 160.610298 292.467812 \r\nL 161.534012 291.985095 \r\nL 162.457725 292.226454 \r\nL 163.381439 292.226454 \r\nL 165.228866 291.14034 \r\nL 166.15258 290.778302 \r\nL 169.847434 290.778302 \r\nL 170.771148 290.416264 \r\nL 171.694861 290.416264 \r\nL 172.618575 290.174905 \r\nL 173.542289 290.174905 \r\nL 174.466002 290.054226 \r\nL 175.389716 289.692188 \r\nL 176.313429 289.088791 \r\nL 178.160857 289.088791 \r\nL 179.08457 288.847433 \r\nL 180.931998 288.847433 \r\nL 181.855711 288.485395 \r\nL 182.779425 288.244036 \r\nL 183.703138 288.485395 \r\nL 184.626852 288.485395 \r\nL 187.397993 287.761319 \r\nL 188.321706 287.761319 \r\nL 189.24542 287.399281 \r\nL 190.169134 287.278601 \r\nL 192.940275 286.554525 \r\nL 193.863988 285.70977 \r\nL 194.787702 285.227053 \r\nL 195.711415 284.985694 \r\nL 198.482556 284.985694 \r\nL 199.40627 284.744336 \r\nL 200.329983 284.623656 \r\nL 201.253697 284.261618 \r\nL 202.177411 283.658222 \r\nL 204.024838 283.416863 \r\nL 204.948552 282.813467 \r\nL 205.872265 282.572108 \r\nL 206.795979 282.451429 \r\nL 207.719692 281.968711 \r\nL 208.643406 281.727353 \r\nL 209.56712 281.003277 \r\nL 211.414547 280.037842 \r\nL 212.33826 279.193087 \r\nL 213.261974 278.58969 \r\nL 214.185688 278.58969 \r\nL 216.033115 278.106973 \r\nL 216.956829 278.106973 \r\nL 219.727969 276.296783 \r\nL 220.651683 275.934745 \r\nL 221.575397 275.814066 \r\nL 223.422824 275.331349 \r\nL 224.346537 273.762517 \r\nL 225.270251 273.521159 \r\nL 226.193965 272.676404 \r\nL 227.117678 272.435045 \r\nL 228.041392 272.435045 \r\nL 228.965106 270.745534 \r\nL 229.888819 269.659421 \r\nL 230.812533 269.418062 \r\nL 231.736246 269.418062 \r\nL 233.583674 267.487193 \r\nL 234.507387 267.245834 \r\nL 235.431101 266.039041 \r\nL 236.354814 265.556324 \r\nL 237.278528 264.832248 \r\nL 238.202242 264.590889 \r\nL 239.125955 263.384096 \r\nL 240.049669 263.263417 \r\nL 240.973383 262.66002 \r\nL 241.897096 260.367113 \r\nL 242.82081 260.246434 \r\nL 243.744523 257.953526 \r\nL 244.668237 257.470809 \r\nL 246.515664 255.419261 \r\nL 247.439378 255.177902 \r\nL 248.363091 254.091788 \r\nL 249.286805 252.643636 \r\nL 250.210519 252.160919 \r\nL 252.057946 249.264615 \r\nL 252.98166 248.41986 \r\nL 253.905373 246.851029 \r\nL 254.829087 244.558122 \r\nL 255.7528 242.989291 \r\nL 256.676514 242.868611 \r\nL 258.523941 239.972308 \r\nL 259.447655 236.834645 \r\nL 260.371368 236.231249 \r\nL 261.295082 235.145135 \r\nL 262.218796 231.886793 \r\nL 264.066223 227.904376 \r\nL 264.989937 226.456224 \r\nL 265.91365 223.680599 \r\nL 266.837364 219.93954 \r\nL 267.761077 217.284595 \r\nL 269.608505 217.284595 \r\nL 270.532218 275.210669 \r\nL 271.455932 275.452028 \r\nL 272.379645 276.658821 \r\nL 275.150786 276.658821 \r\nL 276.0745 277.020859 \r\nL 276.998214 277.020859 \r\nL 277.921927 276.7795 \r\nL 278.845641 276.7795 \r\nL 280.693068 275.452028 \r\nL 282.540495 272.435045 \r\nL 283.464209 270.624855 \r\nL 284.387922 270.021459 \r\nL 286.23535 270.021459 \r\nL 287.159063 270.504176 \r\nL 288.082777 273.521159 \r\nL 289.006491 274.848631 \r\nL 290.853918 276.055425 \r\nL 291.777631 276.417463 \r\nL 292.701345 276.417463 \r\nL 293.625059 277.020859 \r\nL 294.548772 277.262218 \r\nL 295.472486 277.020859 \r\nL 296.396199 276.417463 \r\nL 297.319913 276.417463 \r\nL 298.243627 275.934745 \r\nL 299.16734 273.641838 \r\nL 300.091054 106.863017 \r\nL 301.014768 106.018262 \r\nL 301.938481 104.811469 \r\nL 302.862195 106.018262 \r\nL 303.785908 105.414865 \r\nL 304.709622 105.414865 \r\nL 305.633336 105.173506 \r\nL 312.099331 105.173506 \r\nL 313.023045 104.690789 \r\nL 314.870472 104.690789 \r\nL 315.794185 104.811469 \r\nL 317.641613 104.811469 \r\nL 318.565326 104.449431 \r\nL 319.48904 103.846034 \r\nL 320.412753 103.483996 \r\nL 321.336467 103.363317 \r\nL 322.260181 103.121958 \r\nL 323.183894 103.001279 \r\nL 325.031322 103.001279 \r\nL 325.955035 102.880599 \r\nL 326.878749 103.001279 \r\nL 327.802462 102.397882 \r\nL 329.64989 102.397882 \r\nL 330.573603 102.035844 \r\nL 332.42103 102.035844 \r\nL 333.344744 148.859421 \r\nL 334.268458 151.635045 \r\nL 336.115885 151.635045 \r\nL 337.039599 151.514366 \r\nL 337.963312 151.514366 \r\nL 338.887026 151.152328 \r\nL 342.58188 151.152328 \r\nL 343.505594 97.329351 \r\nL 344.429307 96.243237 \r\nL 345.353021 96.001878 \r\nL 347.200448 96.001878 \r\nL 348.124162 95.519161 \r\nL 349.971589 95.277802 \r\nL 350.895303 93.82965 \r\nL 352.74273 92.743536 \r\nL 353.666444 92.622857 \r\nL 356.437584 90.450629 \r\nL 357.361298 90.32995 \r\nL 358.285012 89.967912 \r\nL 359.208725 89.485195 \r\nL 360.132439 88.037043 \r\nL 361.056153 87.192288 \r\nL 361.979866 86.83025 \r\nL 362.90358 86.226853 \r\nL 363.827293 85.382098 \r\nL 365.674721 85.140739 \r\nL 366.598434 84.416663 \r\nL 367.522148 83.089191 \r\nL 368.445861 82.847832 \r\nL 369.369575 82.244436 \r\nL 370.293289 81.158322 \r\nL 371.217002 80.916963 \r\nL 372.140716 79.348132 \r\nL 373.06443 79.348132 \r\nL 373.988143 78.262018 \r\nL 374.911857 78.020659 \r\nL 375.83557 77.175904 \r\nL 376.759284 75.727752 \r\nL 377.682998 75.003676 \r\nL 378.606711 74.762318 \r\nL 379.530425 73.555524 \r\nL 380.454139 73.434845 \r\nL 381.377852 71.745335 \r\nL 382.301566 70.297183 \r\nL 383.225279 69.935145 \r\nL 384.148993 68.366314 \r\nL 385.072707 67.400879 \r\nL 385.99642 65.711369 \r\nL 387.843847 65.47001 \r\nL 389.691275 63.177103 \r\nL 390.614988 61.487592 \r\nL 391.538702 58.711968 \r\nL 392.462416 58.470609 \r\nL 393.386129 57.505175 \r\nL 394.309843 55.815664 \r\nL 395.233556 54.608871 \r\nL 396.15727 53.884795 \r\nL 397.080984 52.436643 \r\nL 398.004697 50.747133 \r\nL 398.928411 50.626454 \r\nL 399.852124 48.092188 \r\nL 401.699552 48.092188 \r\nL 402.623265 116.034645 \r\nL 403.546979 118.68959 \r\nL 404.470693 118.81027 \r\nL 405.394406 119.413666 \r\nL 406.31812 120.258422 \r\nL 407.241833 120.258422 \r\nL 409.089261 118.568911 \r\nL 410.012974 117.482797 \r\nL 410.936688 103.121958 \r\nL 411.860401 27.335345 \r\nL 412.784115 26.973307 \r\nL 413.707829 23.111568 \r\nL 414.631542 22.990889 \r\nL 415.555256 22.025455 \r\nL 416.47897 22.146134 \r\nL 417.402683 22.990889 \r\nL 418.326397 22.990889 \r\nL 419.25011 24.318362 \r\nL 420.173824 24.801079 \r\nL 422.021251 30.473007 \r\nL 422.944965 31.559121 \r\nL 423.868678 34.576104 \r\nL 424.792392 36.024256 \r\nL 425.716106 36.265614 \r\nL 426.639819 37.834446 \r\nL 428.487247 42.661618 \r\nL 429.41096 43.747732 \r\nL 430.334674 45.437243 \r\nL 431.258387 45.91996 \r\nL 432.182101 47.609471 \r\nL 433.105815 49.902378 \r\nL 434.029528 50.505774 \r\nL 434.953242 51.833247 \r\nL 435.876955 53.402078 \r\nL 436.800669 53.643437 \r\nL 437.724383 55.332947 \r\nL 438.648096 57.987892 \r\nL 439.57181 58.591289 \r\nL 440.495524 60.522158 \r\nL 441.419237 61.246234 \r\nL 442.342951 62.453027 \r\nL 443.266664 62.573706 \r\nL 444.190378 65.228651 \r\nL 445.114092 65.590689 \r\nL 446.037805 66.918162 \r\nL 446.961519 66.918162 \r\nL 447.885232 67.2802 \r\nL 448.808946 66.918162 \r\nL 449.73266 318.534545 \r\nL 450.656373 176.736344 \r\nL 451.580087 177.822458 \r\nL 452.503801 177.33974 \r\nL 454.351228 177.33974 \r\nL 455.274941 178.546533 \r\nL 456.198655 179.270609 \r\nL 458.046082 179.270609 \r\nL 458.969796 179.874006 \r\nL 459.893509 179.270609 \r\nL 460.817223 179.270609 \r\nL 461.740937 83.451229 \r\nL 463.588364 83.451229 \r\nL 465.435791 84.416663 \r\nL 466.359505 85.140739 \r\nL 467.283218 86.106174 \r\nL 468.206932 86.106174 \r\nL 469.130646 86.588891 \r\nL 470.054359 86.83025 \r\nL 470.978073 87.916364 \r\nL 471.901786 88.399081 \r\nL 472.8255 89.243836 \r\nL 473.749214 89.364515 \r\nL 474.672927 90.450629 \r\nL 476.520355 91.778102 \r\nL 477.444068 92.502178 \r\nL 479.291495 92.984895 \r\nL 480.215209 93.82965 \r\nL 481.138923 94.191688 \r\nL 482.062636 94.795085 \r\nL 482.98635 96.484595 \r\nL 483.910063 96.725954 \r\nL 486.681204 97.087992 \r\nL 487.604918 97.329351 \r\nL 488.528632 97.45003 \r\nL 489.452345 97.45003 \r\nL 490.376059 98.294785 \r\nL 491.299772 98.415465 \r\nL 493.1472 98.898182 \r\nL 494.070913 99.018861 \r\nL 494.994627 99.742937 \r\nL 495.91834 99.984296 \r\nL 496.842054 100.104975 \r\nL 497.765768 100.104975 \r\nL 498.689481 100.708372 \r\nL 499.613195 101.673806 \r\nL 500.536909 104.208072 \r\nL 501.460622 233.696983 \r\nL 502.384336 234.662418 \r\nL 503.308049 235.145135 \r\nL 504.231763 234.662418 \r\nL 505.155477 234.421059 \r\nL 506.07919 234.662418 \r\nL 507.926617 234.1797 \r\nL 508.850331 233.455624 \r\nL 510.697758 233.455624 \r\nL 511.621472 234.059021 \r\nL 512.545186 234.421059 \r\nL 514.392613 234.421059 \r\nL 515.316326 235.265814 \r\nL 516.24004 235.265814 \r\nL 517.163754 234.30038 \r\nL 518.087467 236.351928 \r\nL 519.011181 234.30038 \r\nL 519.934894 234.1797 \r\nL 520.858608 105.173506 \r\nL 521.782322 102.035844 \r\nL 522.706035 101.915165 \r\nL 523.629749 101.915165 \r\nL 524.553463 102.035844 \r\nL 525.477176 102.035844 \r\nL 526.40089 104.811469 \r\nL 527.324603 104.932148 \r\nL 528.248317 138.601678 \r\nL 529.172031 138.601678 \r\nL 530.095744 138.963716 \r\nL 531.019458 139.084396 \r\nL 531.943171 139.084396 \r\nL 532.866885 138.963716 \r\nL 533.790599 138.963716 \r\nL 534.714312 136.188092 \r\nL 535.638026 135.946733 \r\nL 536.56174 105.173506 \r\nL 537.485453 104.449431 \r\nL 538.409167 104.328751 \r\nL 539.33288 104.449431 \r\nL 540.256594 104.449431 \r\nL 541.180308 103.725355 \r\nL 542.104021 103.604675 \r\nL 543.027735 103.001279 \r\nL 544.875162 103.001279 \r\nL 545.798876 103.483996 \r\nL 549.49373 103.483996 \r\nL 551.341157 120.017063 \r\nL 552.264871 126.895784 \r\nL 553.188585 127.137143 \r\nL 554.112298 131.964316 \r\nL 555.036012 133.291788 \r\nL 555.959725 133.291788 \r\nL 557.807153 171.064416 \r\nL 559.65458 180.115365 \r\nL 561.502007 188.321558 \r\nL 562.425721 193.028052 \r\nL 563.349434 194.596883 \r\nL 564.273148 198.820659 \r\nL 565.196862 201.234246 \r\nL 566.120575 204.371908 \r\nL 567.044289 208.354326 \r\nL 567.968002 210.647233 \r\nL 568.891716 213.302178 \r\nL 569.81543 215.233047 \r\nL 570.739143 217.767313 \r\nL 571.662857 219.818861 \r\nL 572.586571 221.267013 \r\nL 574.433998 226.818262 \r\nL 575.357711 228.628452 \r\nL 577.205139 231.162717 \r\nL 578.128852 232.852228 \r\nL 579.052566 233.938342 \r\nL 579.976279 236.231249 \r\nL 580.899993 237.076004 \r\nL 581.823707 239.006873 \r\nL 582.74742 239.127552 \r\nL 583.671134 241.42046 \r\nL 584.594848 242.023856 \r\nL 585.518561 244.558122 \r\nL 586.442275 246.247632 \r\nL 587.365988 246.488991 \r\nL 588.289702 248.057822 \r\nL 589.213416 248.41986 \r\nL 590.137129 250.109371 \r\nL 591.060843 250.23005 \r\nL 591.984556 253.367712 \r\nL 592.90827 253.971109 \r\nL 593.831984 254.212468 \r\nL 594.755697 255.057223 \r\nL 595.679411 255.057223 \r\nL 596.603125 255.419261 \r\nL 597.526838 257.35013 \r\nL 599.374265 257.591489 \r\nL 600.297979 259.16032 \r\nL 601.221693 259.280999 \r\nL 602.145406 260.970509 \r\nL 603.06912 261.091189 \r\nL 603.992833 261.573906 \r\nL 604.916547 261.573906 \r\nL 605.840261 262.539341 \r\nL 606.763974 262.780699 \r\nL 607.687688 264.34953 \r\nL 608.611402 264.832248 \r\nL 609.535115 264.832248 \r\nL 610.458829 265.677003 \r\nL 611.382542 266.15972 \r\nL 612.306256 266.883796 \r\nL 613.22997 267.125155 \r\nL 614.153683 267.849231 \r\nL 616.00111 268.573307 \r\nL 616.924824 268.693986 \r\nL 617.848538 269.900779 \r\nL 618.772251 270.745534 \r\nL 619.695965 271.228252 \r\nL 621.543392 271.46961 \r\nL 622.467106 272.193686 \r\nL 623.390819 272.193686 \r\nL 624.314533 272.555724 \r\nL 626.16196 273.038442 \r\nL 627.085674 273.159121 \r\nL 628.009388 273.762517 \r\nL 628.933101 273.762517 \r\nL 629.856815 274.607273 \r\nL 631.704242 275.693387 \r\nL 632.627956 276.055425 \r\nL 633.551669 276.176104 \r\nL 635.399096 276.176104 \r\nL 636.32281 276.417463 \r\nL 637.246524 276.417463 \r\nL 638.170237 277.020859 \r\nL 639.093951 278.106973 \r\nL 640.017665 278.348332 \r\nL 640.941378 278.469011 \r\nL 641.865092 278.469011 \r\nL 643.712519 278.951728 \r\nL 644.636233 278.951728 \r\nL 645.559946 279.193087 \r\nL 647.407373 280.158521 \r\nL 649.254801 280.39988 \r\nL 650.178514 281.123956 \r\nL 651.102228 281.123956 \r\nL 652.025942 282.21007 \r\nL 652.949655 282.572108 \r\nL 653.873369 282.813467 \r\nL 657.568223 282.813467 \r\nL 658.491937 283.054825 \r\nL 659.41565 282.813467 \r\nL 660.339364 283.054825 \r\nL 661.263078 283.054825 \r\nL 662.186791 283.89958 \r\nL 664.957932 283.89958 \r\nL 666.805359 284.744336 \r\nL 667.729073 284.744336 \r\nL 668.652787 284.865015 \r\nL 669.5765 284.865015 \r\nL 670.500214 285.347732 \r\nL 671.423927 284.985694 \r\nL 672.347641 284.985694 \r\nL 673.271355 285.106374 \r\nL 674.195068 284.985694 \r\nL 675.118782 285.106374 \r\nL 676.966209 285.83045 \r\nL 677.889923 285.83045 \r\nL 678.813636 285.951129 \r\nL 678.813636 285.951129 \r\n\" style=\"fill:none;stroke:#1f77b4;stroke-linecap:square;stroke-width:1.5;\"/>\r\n   </g>\r\n   <g id=\"patch_3\">\r\n    <path d=\"M 39.65 333.36 \r\nL 39.65 7.2 \r\n\" style=\"fill:none;stroke:#000000;stroke-linecap:square;stroke-linejoin:miter;stroke-width:0.8;\"/>\r\n   </g>\r\n   <g id=\"patch_4\">\r\n    <path d=\"M 709.25 333.36 \r\nL 709.25 7.2 \r\n\" style=\"fill:none;stroke:#000000;stroke-linecap:square;stroke-linejoin:miter;stroke-width:0.8;\"/>\r\n   </g>\r\n   <g id=\"patch_5\">\r\n    <path d=\"M 39.65 333.36 \r\nL 709.25 333.36 \r\n\" style=\"fill:none;stroke:#000000;stroke-linecap:square;stroke-linejoin:miter;stroke-width:0.8;\"/>\r\n   </g>\r\n   <g id=\"patch_6\">\r\n    <path d=\"M 39.65 7.2 \r\nL 709.25 7.2 \r\n\" style=\"fill:none;stroke:#000000;stroke-linecap:square;stroke-linejoin:miter;stroke-width:0.8;\"/>\r\n   </g>\r\n  </g>\r\n </g>\r\n <defs>\r\n  <clipPath id=\"pbbe2252ec8\">\r\n   <rect height=\"326.16\" width=\"669.6\" x=\"39.65\" y=\"7.2\"/>\r\n  </clipPath>\r\n </defs>\r\n</svg>\r\n",
      "text/plain": [
       "<Figure size 864x432 with 1 Axes>"
      ]
     },
     "metadata": {
      "needs_background": "light"
     },
     "output_type": "display_data"
    }
   ],
   "source": [
    "# Plot a scan of the robot using matplotlib.\n",
    "# 03_a_plot_scan\n",
    "from pylab import *\n",
    "from lego_robot import *\n",
    "\n",
    "# Read the logfile which contains all scans.\n",
    "logfile = LegoLogfile()\n",
    "logfile.read(\"robot4_scan.txt\")\n",
    "\n",
    "# Plot one scan. Try to replace the scan number by another one.\n",
    "plot(logfile.scan_data[8])\n",
    "show()"
   ]
  },
  {
   "cell_type": "markdown",
   "metadata": {
    "deletable": false,
    "editable": false,
    "nbgrader": {
     "cell_type": "markdown",
     "checksum": "d91eee3999b070d95c82e30c6f8ea420",
     "grade": false,
     "grade_id": "cell-48705318bc98e29e",
     "locked": true,
     "schema_version": 3,
     "solution": false,
     "task": false
    }
   },
   "source": [
    "### Interactively step through all scans.\n",
    "Now here is something cool, execute the following cell and then move the slider which appears to select a scan.\n",
    "- Once you clicked on the slider, you can also use the 'cursor left' and 'cursor right' keys to step through all scans.\n",
    "- If you are keen on experimenting, then replace the 'continuous_update=False' by 'continuous_update=True' to see the graph change while you move the slider. (By default, I have set it to False, since the time lag may accumulate and the user interface may become unresponsive.)"
   ]
  },
  {
   "cell_type": "code",
   "execution_count": 90,
   "metadata": {},
   "outputs": [
    {
     "data": {
      "application/vnd.jupyter.widget-view+json": {
       "model_id": "c96398a036fd4292bfbc6111805362ab",
       "version_major": 2,
       "version_minor": 0
      },
      "text/plain": [
       "interactive(children=(IntSlider(value=0, continuous_update=False, description='scan_id', max=277), Output()), …"
      ]
     },
     "metadata": {},
     "output_type": "display_data"
    },
    {
     "data": {
      "text/plain": [
       "<function __main__.plot_scan(scan_id)>"
      ]
     },
     "execution_count": 90,
     "metadata": {},
     "output_type": "execute_result"
    }
   ],
   "source": [
    "import ipywidgets as ipyw\n",
    "def plot_scan(scan_id):\n",
    "    plot(logfile.scan_data[scan_id])\n",
    "    ylim(0, 2500)\n",
    "ipyw.interact(plot_scan, scan_id = ipyw.IntSlider(min=0, max=len(logfile.scan_data)-1, continuous_update=False))"
   ]
  },
  {
   "cell_type": "markdown",
   "metadata": {
    "deletable": false,
    "editable": false,
    "nbgrader": {
     "cell_type": "markdown",
     "checksum": "b9b7065739cf8b969535b8ed0f8f7ecc",
     "grade": false,
     "grade_id": "cell-69541cd4d2807cc5",
     "locked": true,
     "schema_version": 3,
     "solution": false,
     "task": false
    }
   },
   "source": [
    "### Compute the derivative of a scan (10 points).\n",
    "Next, please implement the formula for the discrete derivative (also known as difference quotient), as explained in the video above."
   ]
  },
  {
   "cell_type": "code",
   "execution_count": 91,
   "metadata": {
    "deletable": false,
    "nbgrader": {
     "cell_type": "code",
     "checksum": "3ff313849b513b8be2f49173345cfd5e",
     "grade": false,
     "grade_id": "cell-c50848926b2773c5",
     "locked": false,
     "schema_version": 3,
     "solution": true,
     "task": false
    }
   },
   "outputs": [
    {
     "data": {
      "image/svg+xml": "<?xml version=\"1.0\" encoding=\"utf-8\" standalone=\"no\"?>\r\n<!DOCTYPE svg PUBLIC \"-//W3C//DTD SVG 1.1//EN\"\r\n  \"http://www.w3.org/Graphics/SVG/1.1/DTD/svg11.dtd\">\r\n<!-- Created with matplotlib (https://matplotlib.org/) -->\r\n<svg height=\"372.35625pt\" version=\"1.1\" viewBox=\"0 0 718.467187 372.35625\" width=\"718.467187pt\" xmlns=\"http://www.w3.org/2000/svg\" xmlns:xlink=\"http://www.w3.org/1999/xlink\">\r\n <metadata>\r\n  <rdf:RDF xmlns:cc=\"http://creativecommons.org/ns#\" xmlns:dc=\"http://purl.org/dc/elements/1.1/\" xmlns:rdf=\"http://www.w3.org/1999/02/22-rdf-syntax-ns#\">\r\n   <cc:Work>\r\n    <dc:type rdf:resource=\"http://purl.org/dc/dcmitype/StillImage\"/>\r\n    <dc:date>2021-11-04T11:26:33.632250</dc:date>\r\n    <dc:format>image/svg+xml</dc:format>\r\n    <dc:creator>\r\n     <cc:Agent>\r\n      <dc:title>Matplotlib v3.3.4, https://matplotlib.org/</dc:title>\r\n     </cc:Agent>\r\n    </dc:creator>\r\n   </cc:Work>\r\n  </rdf:RDF>\r\n </metadata>\r\n <defs>\r\n  <style type=\"text/css\">*{stroke-linecap:butt;stroke-linejoin:round;}</style>\r\n </defs>\r\n <g id=\"figure_1\">\r\n  <g id=\"patch_1\">\r\n   <path d=\"M 0 372.35625 \r\nL 718.467187 372.35625 \r\nL 718.467187 0 \r\nL 0 0 \r\nz\r\n\" style=\"fill:none;\"/>\r\n  </g>\r\n  <g id=\"axes_1\">\r\n   <g id=\"patch_2\">\r\n    <path d=\"M 41.667187 348.478125 \r\nL 711.267187 348.478125 \r\nL 711.267187 22.318125 \r\nL 41.667187 22.318125 \r\nz\r\n\" style=\"fill:#ffffff;\"/>\r\n   </g>\r\n   <g id=\"matplotlib.axis_1\">\r\n    <g id=\"xtick_1\">\r\n     <g id=\"line2d_1\">\r\n      <defs>\r\n       <path d=\"M 0 0 \r\nL 0 3.5 \r\n\" id=\"m6a13c6205c\" style=\"stroke:#000000;stroke-width:0.8;\"/>\r\n      </defs>\r\n      <g>\r\n       <use style=\"stroke:#000000;stroke-width:0.8;\" x=\"72.103551\" xlink:href=\"#m6a13c6205c\" y=\"348.478125\"/>\r\n      </g>\r\n     </g>\r\n     <g id=\"text_1\">\r\n      <!-- 0 -->\r\n      <g transform=\"translate(68.922301 363.076563)scale(0.1 -0.1)\">\r\n       <defs>\r\n        <path d=\"M 31.78125 66.40625 \r\nQ 24.171875 66.40625 20.328125 58.90625 \r\nQ 16.5 51.421875 16.5 36.375 \r\nQ 16.5 21.390625 20.328125 13.890625 \r\nQ 24.171875 6.390625 31.78125 6.390625 \r\nQ 39.453125 6.390625 43.28125 13.890625 \r\nQ 47.125 21.390625 47.125 36.375 \r\nQ 47.125 51.421875 43.28125 58.90625 \r\nQ 39.453125 66.40625 31.78125 66.40625 \r\nz\r\nM 31.78125 74.21875 \r\nQ 44.046875 74.21875 50.515625 64.515625 \r\nQ 56.984375 54.828125 56.984375 36.375 \r\nQ 56.984375 17.96875 50.515625 8.265625 \r\nQ 44.046875 -1.421875 31.78125 -1.421875 \r\nQ 19.53125 -1.421875 13.0625 8.265625 \r\nQ 6.59375 17.96875 6.59375 36.375 \r\nQ 6.59375 54.828125 13.0625 64.515625 \r\nQ 19.53125 74.21875 31.78125 74.21875 \r\nz\r\n\" id=\"DejaVuSans-48\"/>\r\n       </defs>\r\n       <use xlink:href=\"#DejaVuSans-48\"/>\r\n      </g>\r\n     </g>\r\n    </g>\r\n    <g id=\"xtick_2\">\r\n     <g id=\"line2d_2\">\r\n      <g>\r\n       <use style=\"stroke:#000000;stroke-width:0.8;\" x=\"164.474913\" xlink:href=\"#m6a13c6205c\" y=\"348.478125\"/>\r\n      </g>\r\n     </g>\r\n     <g id=\"text_2\">\r\n      <!-- 100 -->\r\n      <g transform=\"translate(154.931163 363.076563)scale(0.1 -0.1)\">\r\n       <defs>\r\n        <path d=\"M 12.40625 8.296875 \r\nL 28.515625 8.296875 \r\nL 28.515625 63.921875 \r\nL 10.984375 60.40625 \r\nL 10.984375 69.390625 \r\nL 28.421875 72.90625 \r\nL 38.28125 72.90625 \r\nL 38.28125 8.296875 \r\nL 54.390625 8.296875 \r\nL 54.390625 0 \r\nL 12.40625 0 \r\nz\r\n\" id=\"DejaVuSans-49\"/>\r\n       </defs>\r\n       <use xlink:href=\"#DejaVuSans-49\"/>\r\n       <use x=\"63.623047\" xlink:href=\"#DejaVuSans-48\"/>\r\n       <use x=\"127.246094\" xlink:href=\"#DejaVuSans-48\"/>\r\n      </g>\r\n     </g>\r\n    </g>\r\n    <g id=\"xtick_3\">\r\n     <g id=\"line2d_3\">\r\n      <g>\r\n       <use style=\"stroke:#000000;stroke-width:0.8;\" x=\"256.846274\" xlink:href=\"#m6a13c6205c\" y=\"348.478125\"/>\r\n      </g>\r\n     </g>\r\n     <g id=\"text_3\">\r\n      <!-- 200 -->\r\n      <g transform=\"translate(247.302524 363.076563)scale(0.1 -0.1)\">\r\n       <defs>\r\n        <path d=\"M 19.1875 8.296875 \r\nL 53.609375 8.296875 \r\nL 53.609375 0 \r\nL 7.328125 0 \r\nL 7.328125 8.296875 \r\nQ 12.9375 14.109375 22.625 23.890625 \r\nQ 32.328125 33.6875 34.8125 36.53125 \r\nQ 39.546875 41.84375 41.421875 45.53125 \r\nQ 43.3125 49.21875 43.3125 52.78125 \r\nQ 43.3125 58.59375 39.234375 62.25 \r\nQ 35.15625 65.921875 28.609375 65.921875 \r\nQ 23.96875 65.921875 18.8125 64.3125 \r\nQ 13.671875 62.703125 7.8125 59.421875 \r\nL 7.8125 69.390625 \r\nQ 13.765625 71.78125 18.9375 73 \r\nQ 24.125 74.21875 28.421875 74.21875 \r\nQ 39.75 74.21875 46.484375 68.546875 \r\nQ 53.21875 62.890625 53.21875 53.421875 \r\nQ 53.21875 48.921875 51.53125 44.890625 \r\nQ 49.859375 40.875 45.40625 35.40625 \r\nQ 44.1875 33.984375 37.640625 27.21875 \r\nQ 31.109375 20.453125 19.1875 8.296875 \r\nz\r\n\" id=\"DejaVuSans-50\"/>\r\n       </defs>\r\n       <use xlink:href=\"#DejaVuSans-50\"/>\r\n       <use x=\"63.623047\" xlink:href=\"#DejaVuSans-48\"/>\r\n       <use x=\"127.246094\" xlink:href=\"#DejaVuSans-48\"/>\r\n      </g>\r\n     </g>\r\n    </g>\r\n    <g id=\"xtick_4\">\r\n     <g id=\"line2d_4\">\r\n      <g>\r\n       <use style=\"stroke:#000000;stroke-width:0.8;\" x=\"349.217636\" xlink:href=\"#m6a13c6205c\" y=\"348.478125\"/>\r\n      </g>\r\n     </g>\r\n     <g id=\"text_4\">\r\n      <!-- 300 -->\r\n      <g transform=\"translate(339.673886 363.076563)scale(0.1 -0.1)\">\r\n       <defs>\r\n        <path d=\"M 40.578125 39.3125 \r\nQ 47.65625 37.796875 51.625 33 \r\nQ 55.609375 28.21875 55.609375 21.1875 \r\nQ 55.609375 10.40625 48.1875 4.484375 \r\nQ 40.765625 -1.421875 27.09375 -1.421875 \r\nQ 22.515625 -1.421875 17.65625 -0.515625 \r\nQ 12.796875 0.390625 7.625 2.203125 \r\nL 7.625 11.71875 \r\nQ 11.71875 9.328125 16.59375 8.109375 \r\nQ 21.484375 6.890625 26.8125 6.890625 \r\nQ 36.078125 6.890625 40.9375 10.546875 \r\nQ 45.796875 14.203125 45.796875 21.1875 \r\nQ 45.796875 27.640625 41.28125 31.265625 \r\nQ 36.765625 34.90625 28.71875 34.90625 \r\nL 20.21875 34.90625 \r\nL 20.21875 43.015625 \r\nL 29.109375 43.015625 \r\nQ 36.375 43.015625 40.234375 45.921875 \r\nQ 44.09375 48.828125 44.09375 54.296875 \r\nQ 44.09375 59.90625 40.109375 62.90625 \r\nQ 36.140625 65.921875 28.71875 65.921875 \r\nQ 24.65625 65.921875 20.015625 65.03125 \r\nQ 15.375 64.15625 9.8125 62.3125 \r\nL 9.8125 71.09375 \r\nQ 15.4375 72.65625 20.34375 73.4375 \r\nQ 25.25 74.21875 29.59375 74.21875 \r\nQ 40.828125 74.21875 47.359375 69.109375 \r\nQ 53.90625 64.015625 53.90625 55.328125 \r\nQ 53.90625 49.265625 50.4375 45.09375 \r\nQ 46.96875 40.921875 40.578125 39.3125 \r\nz\r\n\" id=\"DejaVuSans-51\"/>\r\n       </defs>\r\n       <use xlink:href=\"#DejaVuSans-51\"/>\r\n       <use x=\"63.623047\" xlink:href=\"#DejaVuSans-48\"/>\r\n       <use x=\"127.246094\" xlink:href=\"#DejaVuSans-48\"/>\r\n      </g>\r\n     </g>\r\n    </g>\r\n    <g id=\"xtick_5\">\r\n     <g id=\"line2d_5\">\r\n      <g>\r\n       <use style=\"stroke:#000000;stroke-width:0.8;\" x=\"441.588997\" xlink:href=\"#m6a13c6205c\" y=\"348.478125\"/>\r\n      </g>\r\n     </g>\r\n     <g id=\"text_5\">\r\n      <!-- 400 -->\r\n      <g transform=\"translate(432.045247 363.076563)scale(0.1 -0.1)\">\r\n       <defs>\r\n        <path d=\"M 37.796875 64.3125 \r\nL 12.890625 25.390625 \r\nL 37.796875 25.390625 \r\nz\r\nM 35.203125 72.90625 \r\nL 47.609375 72.90625 \r\nL 47.609375 25.390625 \r\nL 58.015625 25.390625 \r\nL 58.015625 17.1875 \r\nL 47.609375 17.1875 \r\nL 47.609375 0 \r\nL 37.796875 0 \r\nL 37.796875 17.1875 \r\nL 4.890625 17.1875 \r\nL 4.890625 26.703125 \r\nz\r\n\" id=\"DejaVuSans-52\"/>\r\n       </defs>\r\n       <use xlink:href=\"#DejaVuSans-52\"/>\r\n       <use x=\"63.623047\" xlink:href=\"#DejaVuSans-48\"/>\r\n       <use x=\"127.246094\" xlink:href=\"#DejaVuSans-48\"/>\r\n      </g>\r\n     </g>\r\n    </g>\r\n    <g id=\"xtick_6\">\r\n     <g id=\"line2d_6\">\r\n      <g>\r\n       <use style=\"stroke:#000000;stroke-width:0.8;\" x=\"533.960359\" xlink:href=\"#m6a13c6205c\" y=\"348.478125\"/>\r\n      </g>\r\n     </g>\r\n     <g id=\"text_6\">\r\n      <!-- 500 -->\r\n      <g transform=\"translate(524.416609 363.076563)scale(0.1 -0.1)\">\r\n       <defs>\r\n        <path d=\"M 10.796875 72.90625 \r\nL 49.515625 72.90625 \r\nL 49.515625 64.59375 \r\nL 19.828125 64.59375 \r\nL 19.828125 46.734375 \r\nQ 21.96875 47.46875 24.109375 47.828125 \r\nQ 26.265625 48.1875 28.421875 48.1875 \r\nQ 40.625 48.1875 47.75 41.5 \r\nQ 54.890625 34.8125 54.890625 23.390625 \r\nQ 54.890625 11.625 47.5625 5.09375 \r\nQ 40.234375 -1.421875 26.90625 -1.421875 \r\nQ 22.3125 -1.421875 17.546875 -0.640625 \r\nQ 12.796875 0.140625 7.71875 1.703125 \r\nL 7.71875 11.625 \r\nQ 12.109375 9.234375 16.796875 8.0625 \r\nQ 21.484375 6.890625 26.703125 6.890625 \r\nQ 35.15625 6.890625 40.078125 11.328125 \r\nQ 45.015625 15.765625 45.015625 23.390625 \r\nQ 45.015625 31 40.078125 35.4375 \r\nQ 35.15625 39.890625 26.703125 39.890625 \r\nQ 22.75 39.890625 18.8125 39.015625 \r\nQ 14.890625 38.140625 10.796875 36.28125 \r\nz\r\n\" id=\"DejaVuSans-53\"/>\r\n       </defs>\r\n       <use xlink:href=\"#DejaVuSans-53\"/>\r\n       <use x=\"63.623047\" xlink:href=\"#DejaVuSans-48\"/>\r\n       <use x=\"127.246094\" xlink:href=\"#DejaVuSans-48\"/>\r\n      </g>\r\n     </g>\r\n    </g>\r\n    <g id=\"xtick_7\">\r\n     <g id=\"line2d_7\">\r\n      <g>\r\n       <use style=\"stroke:#000000;stroke-width:0.8;\" x=\"626.331721\" xlink:href=\"#m6a13c6205c\" y=\"348.478125\"/>\r\n      </g>\r\n     </g>\r\n     <g id=\"text_7\">\r\n      <!-- 600 -->\r\n      <g transform=\"translate(616.787971 363.076563)scale(0.1 -0.1)\">\r\n       <defs>\r\n        <path d=\"M 33.015625 40.375 \r\nQ 26.375 40.375 22.484375 35.828125 \r\nQ 18.609375 31.296875 18.609375 23.390625 \r\nQ 18.609375 15.53125 22.484375 10.953125 \r\nQ 26.375 6.390625 33.015625 6.390625 \r\nQ 39.65625 6.390625 43.53125 10.953125 \r\nQ 47.40625 15.53125 47.40625 23.390625 \r\nQ 47.40625 31.296875 43.53125 35.828125 \r\nQ 39.65625 40.375 33.015625 40.375 \r\nz\r\nM 52.59375 71.296875 \r\nL 52.59375 62.3125 \r\nQ 48.875 64.0625 45.09375 64.984375 \r\nQ 41.3125 65.921875 37.59375 65.921875 \r\nQ 27.828125 65.921875 22.671875 59.328125 \r\nQ 17.53125 52.734375 16.796875 39.40625 \r\nQ 19.671875 43.65625 24.015625 45.921875 \r\nQ 28.375 48.1875 33.59375 48.1875 \r\nQ 44.578125 48.1875 50.953125 41.515625 \r\nQ 57.328125 34.859375 57.328125 23.390625 \r\nQ 57.328125 12.15625 50.6875 5.359375 \r\nQ 44.046875 -1.421875 33.015625 -1.421875 \r\nQ 20.359375 -1.421875 13.671875 8.265625 \r\nQ 6.984375 17.96875 6.984375 36.375 \r\nQ 6.984375 53.65625 15.1875 63.9375 \r\nQ 23.390625 74.21875 37.203125 74.21875 \r\nQ 40.921875 74.21875 44.703125 73.484375 \r\nQ 48.484375 72.75 52.59375 71.296875 \r\nz\r\n\" id=\"DejaVuSans-54\"/>\r\n       </defs>\r\n       <use xlink:href=\"#DejaVuSans-54\"/>\r\n       <use x=\"63.623047\" xlink:href=\"#DejaVuSans-48\"/>\r\n       <use x=\"127.246094\" xlink:href=\"#DejaVuSans-48\"/>\r\n      </g>\r\n     </g>\r\n    </g>\r\n   </g>\r\n   <g id=\"matplotlib.axis_2\">\r\n    <g id=\"ytick_1\">\r\n     <g id=\"line2d_8\">\r\n      <defs>\r\n       <path d=\"M 0 0 \r\nL -3.5 0 \r\n\" id=\"m1738e66c47\" style=\"stroke:#000000;stroke-width:0.8;\"/>\r\n      </defs>\r\n      <g>\r\n       <use style=\"stroke:#000000;stroke-width:0.8;\" x=\"41.667187\" xlink:href=\"#m1738e66c47\" y=\"343.91061\"/>\r\n      </g>\r\n     </g>\r\n     <g id=\"text_8\">\r\n      <!-- −500 -->\r\n      <g transform=\"translate(7.2 347.709829)scale(0.1 -0.1)\">\r\n       <defs>\r\n        <path d=\"M 10.59375 35.5 \r\nL 73.1875 35.5 \r\nL 73.1875 27.203125 \r\nL 10.59375 27.203125 \r\nz\r\n\" id=\"DejaVuSans-8722\"/>\r\n       </defs>\r\n       <use xlink:href=\"#DejaVuSans-8722\"/>\r\n       <use x=\"83.789062\" xlink:href=\"#DejaVuSans-53\"/>\r\n       <use x=\"147.412109\" xlink:href=\"#DejaVuSans-48\"/>\r\n       <use x=\"211.035156\" xlink:href=\"#DejaVuSans-48\"/>\r\n      </g>\r\n     </g>\r\n    </g>\r\n    <g id=\"ytick_2\">\r\n     <g id=\"line2d_9\">\r\n      <g>\r\n       <use style=\"stroke:#000000;stroke-width:0.8;\" x=\"41.667187\" xlink:href=\"#m1738e66c47\" y=\"283.212741\"/>\r\n      </g>\r\n     </g>\r\n     <g id=\"text_9\">\r\n      <!-- 0 -->\r\n      <g transform=\"translate(28.304687 287.01196)scale(0.1 -0.1)\">\r\n       <use xlink:href=\"#DejaVuSans-48\"/>\r\n      </g>\r\n     </g>\r\n    </g>\r\n    <g id=\"ytick_3\">\r\n     <g id=\"line2d_10\">\r\n      <g>\r\n       <use style=\"stroke:#000000;stroke-width:0.8;\" x=\"41.667187\" xlink:href=\"#m1738e66c47\" y=\"222.514872\"/>\r\n      </g>\r\n     </g>\r\n     <g id=\"text_10\">\r\n      <!-- 500 -->\r\n      <g transform=\"translate(15.579687 226.314091)scale(0.1 -0.1)\">\r\n       <use xlink:href=\"#DejaVuSans-53\"/>\r\n       <use x=\"63.623047\" xlink:href=\"#DejaVuSans-48\"/>\r\n       <use x=\"127.246094\" xlink:href=\"#DejaVuSans-48\"/>\r\n      </g>\r\n     </g>\r\n    </g>\r\n    <g id=\"ytick_4\">\r\n     <g id=\"line2d_11\">\r\n      <g>\r\n       <use style=\"stroke:#000000;stroke-width:0.8;\" x=\"41.667187\" xlink:href=\"#m1738e66c47\" y=\"161.817003\"/>\r\n      </g>\r\n     </g>\r\n     <g id=\"text_11\">\r\n      <!-- 1000 -->\r\n      <g transform=\"translate(9.217187 165.616222)scale(0.1 -0.1)\">\r\n       <use xlink:href=\"#DejaVuSans-49\"/>\r\n       <use x=\"63.623047\" xlink:href=\"#DejaVuSans-48\"/>\r\n       <use x=\"127.246094\" xlink:href=\"#DejaVuSans-48\"/>\r\n       <use x=\"190.869141\" xlink:href=\"#DejaVuSans-48\"/>\r\n      </g>\r\n     </g>\r\n    </g>\r\n    <g id=\"ytick_5\">\r\n     <g id=\"line2d_12\">\r\n      <g>\r\n       <use style=\"stroke:#000000;stroke-width:0.8;\" x=\"41.667187\" xlink:href=\"#m1738e66c47\" y=\"101.119134\"/>\r\n      </g>\r\n     </g>\r\n     <g id=\"text_12\">\r\n      <!-- 1500 -->\r\n      <g transform=\"translate(9.217187 104.918352)scale(0.1 -0.1)\">\r\n       <use xlink:href=\"#DejaVuSans-49\"/>\r\n       <use x=\"63.623047\" xlink:href=\"#DejaVuSans-53\"/>\r\n       <use x=\"127.246094\" xlink:href=\"#DejaVuSans-48\"/>\r\n       <use x=\"190.869141\" xlink:href=\"#DejaVuSans-48\"/>\r\n      </g>\r\n     </g>\r\n    </g>\r\n    <g id=\"ytick_6\">\r\n     <g id=\"line2d_13\">\r\n      <g>\r\n       <use style=\"stroke:#000000;stroke-width:0.8;\" x=\"41.667187\" xlink:href=\"#m1738e66c47\" y=\"40.421264\"/>\r\n      </g>\r\n     </g>\r\n     <g id=\"text_13\">\r\n      <!-- 2000 -->\r\n      <g transform=\"translate(9.217187 44.220483)scale(0.1 -0.1)\">\r\n       <use xlink:href=\"#DejaVuSans-50\"/>\r\n       <use x=\"63.623047\" xlink:href=\"#DejaVuSans-48\"/>\r\n       <use x=\"127.246094\" xlink:href=\"#DejaVuSans-48\"/>\r\n       <use x=\"190.869141\" xlink:href=\"#DejaVuSans-48\"/>\r\n      </g>\r\n     </g>\r\n    </g>\r\n   </g>\r\n   <g id=\"line2d_14\">\r\n    <path clip-path=\"url(#pafeef3d41d)\" d=\"M 72.103551 205.276677 \r\nL 73.950978 205.033886 \r\nL 74.874692 205.155281 \r\nL 75.798406 205.155281 \r\nL 76.722119 205.033886 \r\nL 77.645833 204.669698 \r\nL 78.569546 204.669698 \r\nL 79.49326 204.305511 \r\nL 80.416974 203.334345 \r\nL 81.340687 203.21295 \r\nL 83.188115 203.21295 \r\nL 84.111828 202.970158 \r\nL 85.035542 202.484575 \r\nL 85.959255 201.756201 \r\nL 86.882969 200.663639 \r\nL 87.806683 200.542243 \r\nL 88.730396 200.299452 \r\nL 89.65411 199.935265 \r\nL 90.577823 200.299452 \r\nL 91.501537 200.299452 \r\nL 92.425251 201.756201 \r\nL 93.348964 201.756201 \r\nL 94.272678 202.120388 \r\nL 95.196392 202.120388 \r\nL 96.120105 201.513409 \r\nL 97.043819 201.392014 \r\nL 97.967532 201.392014 \r\nL 98.891246 200.785035 \r\nL 99.81496 200.785035 \r\nL 100.738673 200.299452 \r\nL 102.5861 201.149222 \r\nL 103.509814 202.484575 \r\nL 104.433528 202.970158 \r\nL 106.280955 204.426907 \r\nL 107.204669 204.791094 \r\nL 108.128382 205.398073 \r\nL 109.052096 205.519469 \r\nL 111.823237 207.340405 \r\nL 112.74695 207.340405 \r\nL 114.594377 208.068779 \r\nL 115.518091 208.554362 \r\nL 116.441805 208.797154 \r\nL 117.365518 208.918549 \r\nL 118.289232 210.011111 \r\nL 119.212946 210.739485 \r\nL 121.060373 211.225068 \r\nL 124.755227 213.046004 \r\nL 125.678941 213.1674 \r\nL 126.602654 213.652983 \r\nL 127.526368 214.502753 \r\nL 129.373795 214.745545 \r\nL 131.221223 214.745545 \r\nL 133.06865 215.838106 \r\nL 133.992363 215.959502 \r\nL 134.916077 216.445085 \r\nL 135.839791 216.445085 \r\nL 136.763504 216.687877 \r\nL 138.610931 216.687877 \r\nL 139.534645 217.537647 \r\nL 140.458359 217.659042 \r\nL 141.382072 217.659042 \r\nL 142.305786 218.266021 \r\nL 143.2295 218.508813 \r\nL 144.153213 218.630208 \r\nL 147.848068 220.693936 \r\nL 153.390349 220.693936 \r\nL 154.314063 221.543706 \r\nL 155.237777 221.665102 \r\nL 156.16149 221.665102 \r\nL 157.085204 221.907893 \r\nL 158.008917 222.393476 \r\nL 159.856345 222.393476 \r\nL 160.780058 222.272081 \r\nL 162.627485 222.514872 \r\nL 163.551199 223.000455 \r\nL 164.474913 223.000455 \r\nL 165.398626 223.364642 \r\nL 166.32234 223.364642 \r\nL 167.246054 223.728829 \r\nL 168.169767 223.850225 \r\nL 169.093481 223.728829 \r\nL 170.017194 223.364642 \r\nL 170.940908 223.728829 \r\nL 171.864622 223.850225 \r\nL 172.788335 224.214412 \r\nL 173.712049 224.335808 \r\nL 176.48319 224.335808 \r\nL 177.406903 224.5786 \r\nL 178.330617 225.306974 \r\nL 179.254331 225.549765 \r\nL 180.178044 225.549765 \r\nL 181.101758 226.156744 \r\nL 182.949185 226.156744 \r\nL 183.872899 226.27814 \r\nL 185.720326 226.27814 \r\nL 186.644039 226.399536 \r\nL 187.567753 226.399536 \r\nL 188.491467 226.520931 \r\nL 191.262608 226.520931 \r\nL 192.186321 226.885119 \r\nL 193.110035 227.12791 \r\nL 194.033748 227.249306 \r\nL 197.728603 227.249306 \r\nL 198.652316 227.734889 \r\nL 200.499744 227.734889 \r\nL 201.423457 226.642327 \r\nL 203.270885 226.642327 \r\nL 204.194598 226.399536 \r\nL 205.118312 226.763723 \r\nL 206.042025 226.763723 \r\nL 206.965739 226.885119 \r\nL 207.889453 226.885119 \r\nL 208.813166 227.12791 \r\nL 209.73688 227.12791 \r\nL 210.660593 227.370702 \r\nL 213.431734 227.370702 \r\nL 214.355448 227.492097 \r\nL 215.279162 228.220472 \r\nL 216.202875 228.341867 \r\nL 217.126589 228.220472 \r\nL 218.050302 228.220472 \r\nL 218.974016 228.463263 \r\nL 220.821443 228.463263 \r\nL 221.745157 228.584659 \r\nL 225.440011 228.584659 \r\nL 226.363725 228.220472 \r\nL 227.287439 227.97768 \r\nL 228.211152 227.856284 \r\nL 231.906007 227.856284 \r\nL 232.82972 228.220472 \r\nL 233.753434 227.734889 \r\nL 235.600861 227.734889 \r\nL 236.524575 228.584659 \r\nL 237.448288 228.463263 \r\nL 240.219429 228.463263 \r\nL 241.143143 228.220472 \r\nL 242.066856 228.220472 \r\nL 242.99057 228.584659 \r\nL 244.837997 228.584659 \r\nL 245.761711 228.341867 \r\nL 246.685424 227.97768 \r\nL 251.303993 227.97768 \r\nL 252.227706 228.220472 \r\nL 254.075133 228.220472 \r\nL 254.998847 227.856284 \r\nL 256.846274 227.006514 \r\nL 257.769988 227.006514 \r\nL 258.693702 226.885119 \r\nL 260.541129 226.885119 \r\nL 261.464842 227.249306 \r\nL 262.388556 231.498157 \r\nL 263.31227 249.464726 \r\nL 264.235983 254.077764 \r\nL 265.159697 254.320555 \r\nL 266.08341 254.320555 \r\nL 267.007124 254.441951 \r\nL 267.930838 255.170326 \r\nL 268.854551 256.262887 \r\nL 270.701979 256.262887 \r\nL 271.625692 256.141492 \r\nL 272.549406 256.141492 \r\nL 274.396833 256.869866 \r\nL 275.320547 257.355449 \r\nL 277.167974 257.355449 \r\nL 279.015401 256.384283 \r\nL 279.939115 254.077764 \r\nL 280.862828 253.470785 \r\nL 281.786542 251.528453 \r\nL 282.710256 251.042871 \r\nL 285.481396 251.042871 \r\nL 286.40511 253.106598 \r\nL 287.328824 253.106598 \r\nL 289.176251 254.320555 \r\nL 290.099964 256.74847 \r\nL 291.023678 258.205219 \r\nL 291.947392 258.205219 \r\nL 292.871105 258.569406 \r\nL 293.794819 258.569406 \r\nL 294.718533 258.205219 \r\nL 295.642246 258.083823 \r\nL 297.489673 256.505679 \r\nL 299.337101 256.262887 \r\nL 300.260814 256.262887 \r\nL 301.184528 255.655909 \r\nL 302.108241 255.534513 \r\nL 303.031955 255.170326 \r\nL 303.955669 255.04893 \r\nL 304.879382 254.684743 \r\nL 305.803096 254.684743 \r\nL 306.72681 254.563347 \r\nL 307.650523 252.135432 \r\nL 308.574237 251.649849 \r\nL 309.49795 247.400998 \r\nL 310.421664 217.901834 \r\nL 313.192805 217.901834 \r\nL 314.116518 217.780438 \r\nL 315.040232 217.780438 \r\nL 315.963946 216.809272 \r\nL 316.887659 216.566481 \r\nL 318.735087 215.716711 \r\nL 319.6588 215.716711 \r\nL 320.582514 215.109732 \r\nL 321.506227 214.259962 \r\nL 324.277368 214.259962 \r\nL 325.201082 213.652983 \r\nL 326.124795 213.652983 \r\nL 327.048509 213.410192 \r\nL 327.972223 213.288796 \r\nL 328.895936 213.288796 \r\nL 329.81965 212.074839 \r\nL 330.743364 211.832047 \r\nL 331.667077 211.832047 \r\nL 332.590791 211.589256 \r\nL 333.514504 210.375298 \r\nL 334.438218 210.375298 \r\nL 335.361932 209.039945 \r\nL 336.285645 209.039945 \r\nL 338.133072 208.797154 \r\nL 339.056786 208.190175 \r\nL 339.9805 208.190175 \r\nL 340.904213 208.068779 \r\nL 341.827927 208.068779 \r\nL 342.751641 207.704592 \r\nL 343.675354 207.097613 \r\nL 344.599068 206.005052 \r\nL 345.522781 205.76226 \r\nL 346.446495 205.398073 \r\nL 347.370209 205.276677 \r\nL 348.293922 204.548303 \r\nL 349.217636 203.334345 \r\nL 350.141349 202.848762 \r\nL 351.065063 201.998992 \r\nL 351.988777 201.877596 \r\nL 352.91249 201.513409 \r\nL 353.836204 201.027826 \r\nL 354.759918 200.785035 \r\nL 356.607345 199.449682 \r\nL 357.531058 199.085494 \r\nL 358.454772 197.021767 \r\nL 359.378486 196.778975 \r\nL 360.302199 196.778975 \r\nL 361.225913 195.565018 \r\nL 362.149626 194.593852 \r\nL 363.07334 194.108269 \r\nL 363.997054 193.379895 \r\nL 364.920767 193.379895 \r\nL 365.844481 192.772916 \r\nL 366.768195 190.587793 \r\nL 367.691908 189.980814 \r\nL 368.615622 189.009648 \r\nL 369.539335 187.795691 \r\nL 370.463049 187.188712 \r\nL 371.386763 187.188712 \r\nL 372.310476 185.974755 \r\nL 373.23419 185.974755 \r\nL 374.157903 185.124985 \r\nL 375.081617 184.760797 \r\nL 376.005331 184.275214 \r\nL 376.929044 182.575674 \r\nL 377.852758 180.511947 \r\nL 378.776472 180.390551 \r\nL 379.700185 180.390551 \r\nL 380.623899 178.084032 \r\nL 381.547612 176.627283 \r\nL 382.471326 176.627283 \r\nL 383.39504 175.29193 \r\nL 384.318753 174.927743 \r\nL 385.242467 172.014245 \r\nL 386.16618 171.28587 \r\nL 387.089894 169.707726 \r\nL 388.013608 166.551437 \r\nL 388.937321 165.580271 \r\nL 389.861035 164.002126 \r\nL 390.784749 162.909564 \r\nL 391.708462 161.33142 \r\nL 392.632176 160.603045 \r\nL 393.555889 160.117462 \r\nL 394.479603 159.146297 \r\nL 395.403317 155.990007 \r\nL 396.32703 154.411863 \r\nL 397.250744 153.440697 \r\nL 398.174457 150.891386 \r\nL 399.098171 150.163012 \r\nL 400.021885 146.763931 \r\nL 401.869312 143.486246 \r\nL 402.793026 139.844374 \r\nL 404.640453 136.566689 \r\nL 406.48788 130.011319 \r\nL 407.411594 127.826196 \r\nL 408.335307 124.184324 \r\nL 409.259021 122.241992 \r\nL 410.182734 117.871746 \r\nL 412.030162 105.732172 \r\nL 412.953875 104.63961 \r\nL 413.877589 104.396819 \r\nL 415.725016 104.396819 \r\nL 416.64873 104.154027 \r\nL 417.572443 104.396819 \r\nL 418.496157 103.425653 \r\nL 420.343584 103.425653 \r\nL 421.267298 105.246589 \r\nL 422.191011 105.246589 \r\nL 423.114725 106.096359 \r\nL 424.038439 106.581942 \r\nL 424.962152 106.703338 \r\nL 425.885866 106.703338 \r\nL 426.80958 106.824733 \r\nL 427.733293 106.824733 \r\nL 428.657007 106.946129 \r\nL 429.58072 106.946129 \r\nL 430.504434 107.188921 \r\nL 433.275575 107.188921 \r\nL 434.199288 107.674504 \r\nL 435.123002 108.524274 \r\nL 436.046716 108.645669 \r\nL 436.970429 109.738231 \r\nL 437.894143 109.859627 \r\nL 439.74157 109.859627 \r\nL 441.588997 110.102418 \r\nL 442.512711 109.981023 \r\nL 443.436425 108.888461 \r\nL 444.360138 108.645669 \r\nL 445.283852 108.281482 \r\nL 446.207565 108.281482 \r\nL 447.131279 107.917295 \r\nL 448.054993 107.917295 \r\nL 449.90242 107.674504 \r\nL 450.826134 107.188921 \r\nL 451.749847 107.188921 \r\nL 452.673561 106.096359 \r\nL 455.444702 104.518214 \r\nL 457.292129 104.518214 \r\nL 458.215842 101.604717 \r\nL 459.139556 101.604717 \r\nL 460.06327 105.246589 \r\nL 460.986983 105.367984 \r\nL 461.910697 105.367984 \r\nL 462.834411 107.067525 \r\nL 464.681838 108.767065 \r\nL 465.605551 108.888461 \r\nL 466.529265 109.374044 \r\nL 467.452979 109.374044 \r\nL 468.376692 111.316376 \r\nL 469.300406 111.316376 \r\nL 470.224119 163.273752 \r\nL 471.147833 166.308645 \r\nL 472.071547 167.401207 \r\nL 472.99526 167.401207 \r\nL 473.918974 166.794228 \r\nL 475.766401 166.794228 \r\nL 476.690115 167.643998 \r\nL 478.537542 167.643998 \r\nL 479.461256 167.522603 \r\nL 480.384969 166.551437 \r\nL 481.308683 166.430041 \r\nL 482.232396 163.88073 \r\nL 483.15611 111.19498 \r\nL 484.079824 109.131252 \r\nL 485.003537 108.402878 \r\nL 485.927251 108.402878 \r\nL 486.850965 109.131252 \r\nL 487.774678 109.131252 \r\nL 488.698392 108.402878 \r\nL 489.622105 108.402878 \r\nL 490.545819 108.038691 \r\nL 492.393246 108.038691 \r\nL 495.164387 106.703338 \r\nL 496.088101 105.367984 \r\nL 497.011814 105.367984 \r\nL 497.935528 105.246589 \r\nL 498.859242 105.246589 \r\nL 499.782955 105.003797 \r\nL 500.706669 104.396819 \r\nL 501.630382 104.275423 \r\nL 502.554096 103.78984 \r\nL 503.47781 102.94007 \r\nL 504.401523 102.697278 \r\nL 505.325237 102.697278 \r\nL 506.248951 101.968904 \r\nL 507.172664 101.968904 \r\nL 509.020091 101.240529 \r\nL 510.867519 100.997738 \r\nL 512.714946 99.905176 \r\nL 513.638659 99.783781 \r\nL 514.562373 99.783781 \r\nL 515.486087 98.327032 \r\nL 516.4098 98.08424 \r\nL 517.333514 98.08424 \r\nL 518.257228 97.962844 \r\nL 519.180941 96.748887 \r\nL 520.104655 96.3847 \r\nL 521.028368 96.3847 \r\nL 521.952082 96.141908 \r\nL 522.875796 94.927951 \r\nL 523.799509 94.68516 \r\nL 524.723223 94.68516 \r\nL 525.646936 94.320972 \r\nL 526.57065 93.835389 \r\nL 527.494364 92.985619 \r\nL 529.341791 92.742828 \r\nL 530.265505 90.193517 \r\nL 531.189218 89.707934 \r\nL 532.112932 89.465143 \r\nL 533.036645 88.858164 \r\nL 534.884073 87.158624 \r\nL 535.807786 87.158624 \r\nL 536.7315 86.673041 \r\nL 537.655213 86.551645 \r\nL 538.578927 85.094896 \r\nL 539.502641 84.12373 \r\nL 543.197495 81.331628 \r\nL 544.121209 79.874879 \r\nL 545.044922 79.874879 \r\nL 545.968636 79.389296 \r\nL 546.89235 78.053943 \r\nL 547.816063 77.446965 \r\nL 548.739777 76.354403 \r\nL 549.66349 74.16928 \r\nL 550.587204 73.805093 \r\nL 551.510918 73.31951 \r\nL 552.434631 71.012991 \r\nL 553.358345 70.891595 \r\nL 555.205772 69.31345 \r\nL 556.129486 68.949263 \r\nL 557.053199 66.399952 \r\nL 557.976913 66.399952 \r\nL 558.900627 64.943204 \r\nL 559.82434 64.943204 \r\nL 560.748054 63.243663 \r\nL 561.671767 60.815749 \r\nL 562.595481 60.330166 \r\nL 564.442908 60.330166 \r\nL 565.366622 134.26017 \r\nL 566.290336 135.231336 \r\nL 567.214049 136.445294 \r\nL 569.061476 136.445294 \r\nL 569.98519 137.173668 \r\nL 573.680044 137.173668 \r\nL 574.603758 136.445294 \r\nL 575.527472 135.474128 \r\nL 576.451185 39.69289 \r\nL 577.374899 37.386371 \r\nL 579.222326 37.386371 \r\nL 580.14604 37.14358 \r\nL 582.917181 37.14358 \r\nL 583.840894 38.964516 \r\nL 584.764608 41.635222 \r\nL 586.612035 42.484992 \r\nL 587.535749 46.005468 \r\nL 588.459462 46.976634 \r\nL 589.383176 48.554779 \r\nL 590.30689 49.404549 \r\nL 591.230603 51.468277 \r\nL 592.154317 52.925026 \r\nL 593.07803 53.532004 \r\nL 594.001744 54.745962 \r\nL 594.925458 55.231545 \r\nL 595.849171 57.416668 \r\nL 596.772885 57.538064 \r\nL 597.696598 58.266438 \r\nL 598.620312 58.752021 \r\nL 599.544026 58.994812 \r\nL 600.467739 60.087374 \r\nL 601.391453 60.20877 \r\nL 602.315167 63.000872 \r\nL 603.23888 63.365059 \r\nL 604.162594 65.428787 \r\nL 605.086307 66.399952 \r\nL 606.010021 67.128327 \r\nL 606.933735 67.492514 \r\nL 607.857448 68.220889 \r\nL 608.781162 68.706472 \r\nL 609.704875 68.827867 \r\nL 612.476016 70.770199 \r\nL 614.323444 74.047884 \r\nL 615.247157 74.16928 \r\nL 616.170871 75.990216 \r\nL 617.094584 76.597195 \r\nL 618.018298 76.961382 \r\nL 618.942012 77.811152 \r\nL 619.865725 78.418131 \r\nL 620.789439 78.660922 \r\nL 621.713152 78.660922 \r\nL 623.56058 80.239067 \r\nL 624.484293 80.72465 \r\nL 625.408007 81.57442 \r\nL 626.331721 81.695816 \r\nL 627.255434 82.545586 \r\nL 628.179148 83.031169 \r\nL 630.026575 84.366522 \r\nL 631.874002 84.852105 \r\nL 632.797716 86.308854 \r\nL 633.721429 86.673041 \r\nL 634.645143 86.915832 \r\nL 635.568857 87.037228 \r\nL 636.49257 87.886998 \r\nL 637.416284 98.812615 \r\nL 638.339998 188.766857 \r\nL 639.263711 189.373835 \r\nL 640.187425 191.073376 \r\nL 641.111138 191.316167 \r\nL 642.034852 193.622686 \r\nL 642.958566 194.472456 \r\nL 643.882279 194.472456 \r\nL 644.805993 190.10221 \r\nL 646.65342 190.10221 \r\nL 647.577134 194.229665 \r\nL 649.424561 194.229665 \r\nL 650.348275 193.379895 \r\nL 651.271988 192.287333 \r\nL 652.195702 192.287333 \r\nL 653.119415 190.223606 \r\nL 654.043129 186.824525 \r\nL 654.966843 94.927951 \r\nL 655.890556 94.320972 \r\nL 656.81427 94.320972 \r\nL 658.661697 95.656325 \r\nL 659.585411 95.777721 \r\nL 661.432838 95.777721 \r\nL 662.356552 95.292138 \r\nL 664.203979 95.292138 \r\nL 665.127692 95.777721 \r\nL 666.97512 97.113074 \r\nL 667.898833 97.113074 \r\nL 668.822547 97.23447 \r\nL 669.74626 98.08424 \r\nL 675.288542 98.08424 \r\nL 676.212256 97.598657 \r\nL 678.983397 97.598657 \r\nL 679.90711 97.962844 \r\nL 680.830824 97.962844 \r\nL 680.830824 97.962844 \r\n\" style=\"fill:none;stroke:#1f77b4;stroke-linecap:square;stroke-width:1.5;\"/>\r\n   </g>\r\n   <g id=\"line2d_15\">\r\n    <path clip-path=\"url(#pafeef3d41d)\" d=\"M 72.103551 283.212741 \r\nL 73.027265 283.091345 \r\nL 74.874692 283.273439 \r\nL 76.722119 282.96995 \r\nL 78.569546 283.030648 \r\nL 79.49326 282.545065 \r\nL 80.416974 282.66646 \r\nL 81.340687 283.152043 \r\nL 82.264401 283.212741 \r\nL 83.188115 283.091345 \r\nL 85.959255 282.302273 \r\nL 86.882969 282.605762 \r\nL 87.806683 283.030648 \r\nL 88.730396 282.909252 \r\nL 89.65411 283.212741 \r\nL 90.577823 283.394835 \r\nL 91.501537 283.941116 \r\nL 92.425251 283.941116 \r\nL 93.348964 283.394835 \r\nL 94.272678 283.394835 \r\nL 95.196392 282.909252 \r\nL 96.120105 282.848554 \r\nL 97.043819 283.152043 \r\nL 97.967532 282.909252 \r\nL 99.81496 282.96995 \r\nL 100.738673 283.212741 \r\nL 102.5861 284.062511 \r\nL 103.509814 284.123209 \r\nL 104.433528 283.81972 \r\nL 105.357241 283.941116 \r\nL 106.280955 283.759022 \r\nL 109.052096 283.576928 \r\nL 109.975809 283.880418 \r\nL 110.899523 283.81972 \r\nL 111.823237 283.455533 \r\nL 112.74695 283.394835 \r\nL 113.670664 283.576928 \r\nL 114.594377 283.637626 \r\nL 115.518091 283.576928 \r\nL 116.441805 283.394835 \r\nL 118.289232 284.123209 \r\nL 119.212946 283.698324 \r\nL 120.136659 283.455533 \r\nL 122.9078 283.759022 \r\nL 124.755227 283.394835 \r\nL 125.678941 283.516231 \r\nL 126.602654 283.880418 \r\nL 127.526368 283.698324 \r\nL 128.450082 283.334137 \r\nL 130.297509 283.212741 \r\nL 132.144936 283.759022 \r\nL 133.06865 283.576928 \r\nL 137.687218 283.212741 \r\nL 138.610931 283.637626 \r\nL 139.534645 283.698324 \r\nL 140.458359 283.273439 \r\nL 141.382072 283.516231 \r\nL 142.305786 283.637626 \r\nL 143.2295 283.394835 \r\nL 144.153213 283.516231 \r\nL 145.076927 283.759022 \r\nL 146.00064 283.637626 \r\nL 146.924354 283.698324 \r\nL 147.848068 283.576928 \r\nL 148.771781 283.212741 \r\nL 152.466636 283.212741 \r\nL 153.390349 283.637626 \r\nL 154.314063 283.698324 \r\nL 155.237777 283.273439 \r\nL 156.16149 283.334137 \r\nL 157.085204 283.576928 \r\nL 158.008917 283.455533 \r\nL 158.932631 283.212741 \r\nL 159.856345 283.152043 \r\nL 161.703772 283.334137 \r\nL 162.627485 283.516231 \r\nL 165.398626 283.394835 \r\nL 167.246054 283.455533 \r\nL 169.093481 282.96995 \r\nL 170.940908 283.455533 \r\nL 172.788335 283.455533 \r\nL 173.712049 283.273439 \r\nL 175.559476 283.212741 \r\nL 176.48319 283.334137 \r\nL 177.406903 283.698324 \r\nL 178.330617 283.698324 \r\nL 179.254331 283.334137 \r\nL 180.178044 283.516231 \r\nL 181.101758 283.516231 \r\nL 182.025471 283.212741 \r\nL 183.872899 283.273439 \r\nL 184.796612 283.212741 \r\nL 186.644039 283.273439 \r\nL 190.338894 283.212741 \r\nL 192.186321 283.516231 \r\nL 194.957462 283.212741 \r\nL 196.804889 283.212741 \r\nL 197.728603 283.455533 \r\nL 198.652316 283.455533 \r\nL 199.57603 283.212741 \r\nL 200.499744 282.66646 \r\nL 201.423457 282.66646 \r\nL 202.347171 283.212741 \r\nL 203.270885 283.091345 \r\nL 205.118312 283.394835 \r\nL 206.042025 283.273439 \r\nL 213.431734 283.273439 \r\nL 214.355448 283.637626 \r\nL 215.279162 283.637626 \r\nL 216.202875 283.212741 \r\nL 217.126589 283.152043 \r\nL 218.050302 283.334137 \r\nL 218.974016 283.334137 \r\nL 219.89773 283.212741 \r\nL 221.745157 283.273439 \r\nL 223.592584 283.212741 \r\nL 224.516298 283.212741 \r\nL 226.363725 282.909252 \r\nL 229.134866 283.212741 \r\nL 230.982293 283.212741 \r\nL 231.906007 283.394835 \r\nL 233.753434 282.96995 \r\nL 234.677147 283.212741 \r\nL 235.600861 283.637626 \r\nL 236.524575 283.576928 \r\nL 237.448288 283.152043 \r\nL 239.295716 283.212741 \r\nL 240.219429 283.091345 \r\nL 241.143143 283.091345 \r\nL 242.066856 283.394835 \r\nL 242.99057 283.394835 \r\nL 245.761711 282.909252 \r\nL 248.532852 283.212741 \r\nL 250.380279 283.212741 \r\nL 251.303993 283.334137 \r\nL 252.227706 283.334137 \r\nL 254.075133 283.030648 \r\nL 254.998847 282.787856 \r\nL 255.922561 282.787856 \r\nL 256.846274 283.030648 \r\nL 257.769988 283.152043 \r\nL 259.617415 283.212741 \r\nL 260.541129 283.394835 \r\nL 261.464842 285.51926 \r\nL 262.388556 294.320451 \r\nL 263.31227 294.502545 \r\nL 264.235983 285.640656 \r\nL 265.159697 283.334137 \r\nL 266.08341 283.273439 \r\nL 267.007124 283.637626 \r\nL 267.930838 284.123209 \r\nL 268.854551 283.759022 \r\nL 269.778265 283.212741 \r\nL 271.625692 283.152043 \r\nL 273.473119 283.576928 \r\nL 274.396833 283.637626 \r\nL 276.24426 283.212741 \r\nL 278.091687 282.727158 \r\nL 279.015401 281.81669 \r\nL 279.939115 281.755992 \r\nL 280.862828 281.938086 \r\nL 281.786542 281.998784 \r\nL 282.710256 282.96995 \r\nL 283.633969 283.212741 \r\nL 284.557683 283.212741 \r\nL 285.481396 284.244605 \r\nL 286.40511 284.244605 \r\nL 287.328824 283.516231 \r\nL 288.252537 283.81972 \r\nL 289.176251 284.730188 \r\nL 290.099964 285.155073 \r\nL 291.023678 283.941116 \r\nL 291.947392 283.394835 \r\nL 292.871105 283.394835 \r\nL 293.794819 283.030648 \r\nL 294.718533 282.96995 \r\nL 296.56596 282.423669 \r\nL 298.413387 283.091345 \r\nL 299.337101 283.152043 \r\nL 300.260814 282.909252 \r\nL 301.184528 282.848554 \r\nL 302.108241 282.96995 \r\nL 304.879382 283.030648 \r\nL 305.803096 283.152043 \r\nL 306.72681 281.938086 \r\nL 307.650523 281.755992 \r\nL 308.574237 280.845524 \r\nL 309.49795 266.338734 \r\nL 310.421664 268.463159 \r\nL 311.345378 283.212741 \r\nL 314.116518 283.152043 \r\nL 315.040232 282.727158 \r\nL 315.963946 282.605762 \r\nL 316.887659 282.848554 \r\nL 317.811373 282.787856 \r\nL 318.735087 283.030648 \r\nL 319.6588 282.909252 \r\nL 320.582514 282.484367 \r\nL 321.506227 282.787856 \r\nL 322.429941 283.212741 \r\nL 323.353655 283.212741 \r\nL 324.277368 282.909252 \r\nL 325.201082 282.909252 \r\nL 326.124795 283.091345 \r\nL 327.048509 283.030648 \r\nL 327.972223 283.152043 \r\nL 328.895936 282.605762 \r\nL 329.81965 282.484367 \r\nL 330.743364 283.091345 \r\nL 331.667077 283.091345 \r\nL 332.590791 282.484367 \r\nL 333.514504 282.605762 \r\nL 335.361932 282.545065 \r\nL 336.285645 283.152043 \r\nL 337.209359 283.091345 \r\nL 338.133072 282.848554 \r\nL 339.056786 282.909252 \r\nL 339.9805 283.152043 \r\nL 340.904213 283.152043 \r\nL 341.827927 283.030648 \r\nL 343.675354 282.362971 \r\nL 344.599068 282.545065 \r\nL 345.522781 282.909252 \r\nL 346.446495 282.96995 \r\nL 347.370209 282.787856 \r\nL 348.293922 282.241575 \r\nL 350.141349 282.545065 \r\nL 351.988777 282.96995 \r\nL 352.91249 282.787856 \r\nL 353.836204 282.848554 \r\nL 355.683631 282.545065 \r\nL 356.607345 282.727158 \r\nL 357.531058 281.998784 \r\nL 358.454772 282.059482 \r\nL 359.378486 283.091345 \r\nL 361.225913 282.12018 \r\nL 362.149626 282.484367 \r\nL 363.07334 282.605762 \r\nL 363.997054 282.848554 \r\nL 364.920767 282.909252 \r\nL 365.844481 281.81669 \r\nL 366.768195 281.81669 \r\nL 367.691908 282.423669 \r\nL 368.615622 282.12018 \r\nL 369.539335 282.302273 \r\nL 370.463049 282.909252 \r\nL 371.386763 282.605762 \r\nL 372.310476 282.605762 \r\nL 373.23419 282.787856 \r\nL 374.157903 282.605762 \r\nL 375.081617 282.787856 \r\nL 376.929044 281.331107 \r\nL 377.852758 282.12018 \r\nL 378.776472 283.152043 \r\nL 379.700185 282.059482 \r\nL 380.623899 281.331107 \r\nL 381.547612 282.484367 \r\nL 382.471326 282.545065 \r\nL 383.39504 282.362971 \r\nL 384.318753 281.573899 \r\nL 385.242467 281.391805 \r\nL 386.16618 282.059482 \r\nL 387.089894 280.845524 \r\nL 388.013608 281.149014 \r\nL 388.937321 281.938086 \r\nL 390.784749 281.877388 \r\nL 391.708462 282.059482 \r\nL 392.632176 282.605762 \r\nL 393.555889 282.484367 \r\nL 394.479603 281.149014 \r\nL 395.403317 280.845524 \r\nL 396.32703 281.938086 \r\nL 397.250744 281.452503 \r\nL 398.174457 281.573899 \r\nL 400.021885 280.663431 \r\nL 400.945598 281.573899 \r\nL 401.869312 280.602733 \r\nL 402.793026 280.602733 \r\nL 403.716739 281.573899 \r\nL 405.564166 279.935056 \r\nL 406.48788 280.420639 \r\nL 407.411594 280.299243 \r\nL 408.335307 280.420639 \r\nL 409.259021 280.056452 \r\nL 410.182734 277.871329 \r\nL 411.106448 277.142954 \r\nL 412.953875 282.545065 \r\nL 413.877589 283.091345 \r\nL 414.801303 283.212741 \r\nL 415.725016 283.091345 \r\nL 416.64873 283.212741 \r\nL 417.572443 282.848554 \r\nL 418.496157 282.727158 \r\nL 419.419871 283.212741 \r\nL 420.343584 284.123209 \r\nL 421.267298 284.123209 \r\nL 422.191011 283.637626 \r\nL 423.114725 283.880418 \r\nL 424.038439 283.516231 \r\nL 424.962152 283.273439 \r\nL 432.351861 283.212741 \r\nL 433.275575 283.455533 \r\nL 434.199288 283.880418 \r\nL 435.123002 283.698324 \r\nL 436.046716 283.81972 \r\nL 436.970429 283.81972 \r\nL 437.894143 283.273439 \r\nL 438.817857 283.212741 \r\nL 440.665284 283.334137 \r\nL 441.588997 283.212741 \r\nL 442.512711 282.605762 \r\nL 443.436425 282.545065 \r\nL 444.360138 282.909252 \r\nL 445.283852 283.030648 \r\nL 447.131279 283.030648 \r\nL 448.054993 283.152043 \r\nL 448.978706 283.091345 \r\nL 449.90242 282.909252 \r\nL 450.826134 282.96995 \r\nL 452.673561 282.423669 \r\nL 453.597274 282.787856 \r\nL 454.520988 282.66646 \r\nL 455.444702 282.848554 \r\nL 456.368415 283.212741 \r\nL 457.292129 281.755992 \r\nL 458.215842 281.755992 \r\nL 459.139556 285.033677 \r\nL 460.06327 285.094375 \r\nL 460.986983 283.273439 \r\nL 461.910697 284.062511 \r\nL 462.834411 284.487396 \r\nL 464.681838 283.698324 \r\nL 465.605551 283.516231 \r\nL 466.529265 283.455533 \r\nL 467.452979 284.183907 \r\nL 468.376692 284.183907 \r\nL 469.300406 309.191429 \r\nL 470.224119 310.708876 \r\nL 471.147833 285.276469 \r\nL 472.071547 283.759022 \r\nL 472.99526 282.909252 \r\nL 473.918974 282.909252 \r\nL 474.842688 283.212741 \r\nL 475.766401 283.637626 \r\nL 476.690115 283.637626 \r\nL 477.613828 283.212741 \r\nL 478.537542 283.152043 \r\nL 479.461256 282.66646 \r\nL 480.384969 282.66646 \r\nL 481.308683 281.877388 \r\nL 482.232396 255.595211 \r\nL 483.15611 255.838002 \r\nL 484.079824 281.81669 \r\nL 485.003537 282.848554 \r\nL 485.927251 283.576928 \r\nL 486.850965 283.576928 \r\nL 487.774678 282.848554 \r\nL 488.698392 282.848554 \r\nL 489.622105 283.030648 \r\nL 490.545819 283.030648 \r\nL 491.469533 283.212741 \r\nL 493.31696 282.727158 \r\nL 494.240673 282.787856 \r\nL 495.164387 282.362971 \r\nL 496.088101 282.545065 \r\nL 497.011814 283.152043 \r\nL 498.859242 283.091345 \r\nL 499.782955 282.787856 \r\nL 501.630382 282.909252 \r\nL 502.554096 282.545065 \r\nL 503.47781 282.66646 \r\nL 504.401523 283.091345 \r\nL 505.325237 282.848554 \r\nL 506.248951 282.848554 \r\nL 507.172664 283.030648 \r\nL 508.096378 282.848554 \r\nL 509.943805 283.091345 \r\nL 511.791232 282.66646 \r\nL 512.714946 282.848554 \r\nL 513.638659 283.152043 \r\nL 514.562373 282.484367 \r\nL 515.486087 282.362971 \r\nL 516.4098 283.091345 \r\nL 517.333514 283.152043 \r\nL 518.257228 282.545065 \r\nL 519.180941 282.423669 \r\nL 520.104655 283.030648 \r\nL 521.028368 283.091345 \r\nL 521.952082 282.484367 \r\nL 522.875796 282.484367 \r\nL 523.799509 283.091345 \r\nL 524.723223 283.030648 \r\nL 526.57065 282.545065 \r\nL 527.494364 282.727158 \r\nL 528.418077 283.091345 \r\nL 529.341791 281.877388 \r\nL 530.265505 281.695294 \r\nL 531.189218 282.848554 \r\nL 532.112932 282.787856 \r\nL 533.036645 282.484367 \r\nL 533.960359 282.362971 \r\nL 534.884073 282.787856 \r\nL 535.807786 282.96995 \r\nL 536.7315 282.909252 \r\nL 538.578927 281.998784 \r\nL 539.502641 282.362971 \r\nL 542.273782 282.605762 \r\nL 543.197495 282.12018 \r\nL 544.121209 282.484367 \r\nL 545.044922 282.96995 \r\nL 545.968636 282.302273 \r\nL 546.89235 282.241575 \r\nL 547.816063 282.362971 \r\nL 548.739777 281.573899 \r\nL 549.66349 281.938086 \r\nL 550.587204 282.787856 \r\nL 551.510918 281.81669 \r\nL 552.434631 281.998784 \r\nL 553.358345 282.787856 \r\nL 554.282059 282.423669 \r\nL 555.205772 282.605762 \r\nL 556.129486 281.755992 \r\nL 557.053199 281.938086 \r\nL 557.976913 282.484367 \r\nL 558.900627 282.484367 \r\nL 559.82434 282.362971 \r\nL 560.748054 281.149014 \r\nL 561.671767 281.755992 \r\nL 562.595481 282.96995 \r\nL 563.519195 283.212741 \r\nL 564.442908 320.177743 \r\nL 565.366622 320.663326 \r\nL 566.290336 284.305303 \r\nL 568.137763 283.212741 \r\nL 569.061476 283.576928 \r\nL 569.98519 283.576928 \r\nL 570.908904 283.212741 \r\nL 572.756331 283.212741 \r\nL 573.680044 282.848554 \r\nL 574.603758 282.362971 \r\nL 575.527472 234.836539 \r\nL 576.451185 234.168863 \r\nL 577.374899 282.059482 \r\nL 578.298613 283.212741 \r\nL 579.222326 283.091345 \r\nL 580.14604 283.091345 \r\nL 581.069753 283.212741 \r\nL 581.993467 283.212741 \r\nL 582.917181 284.123209 \r\nL 583.840894 285.458562 \r\nL 584.764608 284.790886 \r\nL 585.688321 283.637626 \r\nL 586.612035 285.155073 \r\nL 587.535749 285.458562 \r\nL 588.459462 284.487396 \r\nL 589.383176 284.426699 \r\nL 591.230603 284.972979 \r\nL 592.154317 284.244605 \r\nL 594.001744 284.062511 \r\nL 594.925458 284.548094 \r\nL 595.849171 284.366001 \r\nL 596.772885 283.637626 \r\nL 597.696598 283.81972 \r\nL 598.620312 283.576928 \r\nL 599.544026 283.880418 \r\nL 600.467739 283.81972 \r\nL 601.391453 284.66949 \r\nL 602.315167 284.790886 \r\nL 603.23888 284.426699 \r\nL 604.162594 284.730188 \r\nL 605.086307 284.062511 \r\nL 606.010021 283.759022 \r\nL 607.857448 283.81972 \r\nL 608.781162 283.516231 \r\nL 609.704875 283.576928 \r\nL 610.628589 283.81972 \r\nL 611.552303 283.880418 \r\nL 613.39973 284.851584 \r\nL 614.323444 284.123209 \r\nL 615.247157 284.183907 \r\nL 616.170871 284.426699 \r\nL 617.094584 283.698324 \r\nL 618.942012 283.941116 \r\nL 620.789439 283.334137 \r\nL 622.636866 284.001813 \r\nL 623.56058 283.81972 \r\nL 624.484293 283.880418 \r\nL 625.408007 283.698324 \r\nL 626.331721 283.698324 \r\nL 627.255434 283.880418 \r\nL 628.179148 283.81972 \r\nL 629.102861 283.880418 \r\nL 630.950289 283.455533 \r\nL 631.874002 284.062511 \r\nL 632.797716 284.123209 \r\nL 633.721429 283.516231 \r\nL 634.645143 283.394835 \r\nL 635.568857 283.698324 \r\nL 636.49257 289.100434 \r\nL 637.416284 333.65267 \r\nL 638.339998 328.493352 \r\nL 639.263711 284.366001 \r\nL 640.187425 284.183907 \r\nL 642.034852 284.790886 \r\nL 642.958566 283.637626 \r\nL 643.882279 281.027618 \r\nL 644.805993 281.027618 \r\nL 646.65342 285.276469 \r\nL 647.577134 285.276469 \r\nL 648.500847 283.212741 \r\nL 650.348275 282.241575 \r\nL 651.271988 282.66646 \r\nL 652.195702 282.180877 \r\nL 653.119415 280.481337 \r\nL 654.043129 235.564914 \r\nL 654.966843 236.960965 \r\nL 655.890556 282.909252 \r\nL 656.81427 283.516231 \r\nL 657.737983 283.880418 \r\nL 658.661697 283.637626 \r\nL 659.585411 283.273439 \r\nL 660.509124 283.212741 \r\nL 661.432838 282.96995 \r\nL 662.356552 282.96995 \r\nL 664.203979 283.455533 \r\nL 665.127692 283.81972 \r\nL 666.051406 283.880418 \r\nL 666.97512 283.516231 \r\nL 667.898833 283.273439 \r\nL 668.822547 283.698324 \r\nL 669.74626 283.637626 \r\nL 670.669974 283.212741 \r\nL 674.364829 283.212741 \r\nL 675.288542 282.96995 \r\nL 676.212256 282.96995 \r\nL 677.135969 283.212741 \r\nL 678.059683 283.212741 \r\nL 678.983397 283.394835 \r\nL 679.90711 283.394835 \r\nL 680.830824 283.212741 \r\nL 680.830824 283.212741 \r\n\" style=\"fill:none;stroke:#ff7f0e;stroke-linecap:square;stroke-width:1.5;\"/>\r\n   </g>\r\n   <g id=\"patch_3\">\r\n    <path d=\"M 41.667187 348.478125 \r\nL 41.667187 22.318125 \r\n\" style=\"fill:none;stroke:#000000;stroke-linecap:square;stroke-linejoin:miter;stroke-width:0.8;\"/>\r\n   </g>\r\n   <g id=\"patch_4\">\r\n    <path d=\"M 711.267187 348.478125 \r\nL 711.267187 22.318125 \r\n\" style=\"fill:none;stroke:#000000;stroke-linecap:square;stroke-linejoin:miter;stroke-width:0.8;\"/>\r\n   </g>\r\n   <g id=\"patch_5\">\r\n    <path d=\"M 41.667187 348.478125 \r\nL 711.267187 348.478125 \r\n\" style=\"fill:none;stroke:#000000;stroke-linecap:square;stroke-linejoin:miter;stroke-width:0.8;\"/>\r\n   </g>\r\n   <g id=\"patch_6\">\r\n    <path d=\"M 41.667187 22.318125 \r\nL 711.267187 22.318125 \r\n\" style=\"fill:none;stroke:#000000;stroke-linecap:square;stroke-linejoin:miter;stroke-width:0.8;\"/>\r\n   </g>\r\n   <g id=\"text_14\">\r\n    <!-- Plot of scan 247 -->\r\n    <g transform=\"translate(328.298438 16.318125)scale(0.12 -0.12)\">\r\n     <defs>\r\n      <path d=\"M 19.671875 64.796875 \r\nL 19.671875 37.40625 \r\nL 32.078125 37.40625 \r\nQ 38.96875 37.40625 42.71875 40.96875 \r\nQ 46.484375 44.53125 46.484375 51.125 \r\nQ 46.484375 57.671875 42.71875 61.234375 \r\nQ 38.96875 64.796875 32.078125 64.796875 \r\nz\r\nM 9.8125 72.90625 \r\nL 32.078125 72.90625 \r\nQ 44.34375 72.90625 50.609375 67.359375 \r\nQ 56.890625 61.8125 56.890625 51.125 \r\nQ 56.890625 40.328125 50.609375 34.8125 \r\nQ 44.34375 29.296875 32.078125 29.296875 \r\nL 19.671875 29.296875 \r\nL 19.671875 0 \r\nL 9.8125 0 \r\nz\r\n\" id=\"DejaVuSans-80\"/>\r\n      <path d=\"M 9.421875 75.984375 \r\nL 18.40625 75.984375 \r\nL 18.40625 0 \r\nL 9.421875 0 \r\nz\r\n\" id=\"DejaVuSans-108\"/>\r\n      <path d=\"M 30.609375 48.390625 \r\nQ 23.390625 48.390625 19.1875 42.75 \r\nQ 14.984375 37.109375 14.984375 27.296875 \r\nQ 14.984375 17.484375 19.15625 11.84375 \r\nQ 23.34375 6.203125 30.609375 6.203125 \r\nQ 37.796875 6.203125 41.984375 11.859375 \r\nQ 46.1875 17.53125 46.1875 27.296875 \r\nQ 46.1875 37.015625 41.984375 42.703125 \r\nQ 37.796875 48.390625 30.609375 48.390625 \r\nz\r\nM 30.609375 56 \r\nQ 42.328125 56 49.015625 48.375 \r\nQ 55.71875 40.765625 55.71875 27.296875 \r\nQ 55.71875 13.875 49.015625 6.21875 \r\nQ 42.328125 -1.421875 30.609375 -1.421875 \r\nQ 18.84375 -1.421875 12.171875 6.21875 \r\nQ 5.515625 13.875 5.515625 27.296875 \r\nQ 5.515625 40.765625 12.171875 48.375 \r\nQ 18.84375 56 30.609375 56 \r\nz\r\n\" id=\"DejaVuSans-111\"/>\r\n      <path d=\"M 18.3125 70.21875 \r\nL 18.3125 54.6875 \r\nL 36.8125 54.6875 \r\nL 36.8125 47.703125 \r\nL 18.3125 47.703125 \r\nL 18.3125 18.015625 \r\nQ 18.3125 11.328125 20.140625 9.421875 \r\nQ 21.96875 7.515625 27.59375 7.515625 \r\nL 36.8125 7.515625 \r\nL 36.8125 0 \r\nL 27.59375 0 \r\nQ 17.1875 0 13.234375 3.875 \r\nQ 9.28125 7.765625 9.28125 18.015625 \r\nL 9.28125 47.703125 \r\nL 2.6875 47.703125 \r\nL 2.6875 54.6875 \r\nL 9.28125 54.6875 \r\nL 9.28125 70.21875 \r\nz\r\n\" id=\"DejaVuSans-116\"/>\r\n      <path id=\"DejaVuSans-32\"/>\r\n      <path d=\"M 37.109375 75.984375 \r\nL 37.109375 68.5 \r\nL 28.515625 68.5 \r\nQ 23.6875 68.5 21.796875 66.546875 \r\nQ 19.921875 64.59375 19.921875 59.515625 \r\nL 19.921875 54.6875 \r\nL 34.71875 54.6875 \r\nL 34.71875 47.703125 \r\nL 19.921875 47.703125 \r\nL 19.921875 0 \r\nL 10.890625 0 \r\nL 10.890625 47.703125 \r\nL 2.296875 47.703125 \r\nL 2.296875 54.6875 \r\nL 10.890625 54.6875 \r\nL 10.890625 58.5 \r\nQ 10.890625 67.625 15.140625 71.796875 \r\nQ 19.390625 75.984375 28.609375 75.984375 \r\nz\r\n\" id=\"DejaVuSans-102\"/>\r\n      <path d=\"M 44.28125 53.078125 \r\nL 44.28125 44.578125 \r\nQ 40.484375 46.53125 36.375 47.5 \r\nQ 32.28125 48.484375 27.875 48.484375 \r\nQ 21.1875 48.484375 17.84375 46.4375 \r\nQ 14.5 44.390625 14.5 40.28125 \r\nQ 14.5 37.15625 16.890625 35.375 \r\nQ 19.28125 33.59375 26.515625 31.984375 \r\nL 29.59375 31.296875 \r\nQ 39.15625 29.25 43.1875 25.515625 \r\nQ 47.21875 21.78125 47.21875 15.09375 \r\nQ 47.21875 7.46875 41.1875 3.015625 \r\nQ 35.15625 -1.421875 24.609375 -1.421875 \r\nQ 20.21875 -1.421875 15.453125 -0.5625 \r\nQ 10.6875 0.296875 5.421875 2 \r\nL 5.421875 11.28125 \r\nQ 10.40625 8.6875 15.234375 7.390625 \r\nQ 20.0625 6.109375 24.8125 6.109375 \r\nQ 31.15625 6.109375 34.5625 8.28125 \r\nQ 37.984375 10.453125 37.984375 14.40625 \r\nQ 37.984375 18.0625 35.515625 20.015625 \r\nQ 33.0625 21.96875 24.703125 23.78125 \r\nL 21.578125 24.515625 \r\nQ 13.234375 26.265625 9.515625 29.90625 \r\nQ 5.8125 33.546875 5.8125 39.890625 \r\nQ 5.8125 47.609375 11.28125 51.796875 \r\nQ 16.75 56 26.8125 56 \r\nQ 31.78125 56 36.171875 55.265625 \r\nQ 40.578125 54.546875 44.28125 53.078125 \r\nz\r\n\" id=\"DejaVuSans-115\"/>\r\n      <path d=\"M 48.78125 52.59375 \r\nL 48.78125 44.1875 \r\nQ 44.96875 46.296875 41.140625 47.34375 \r\nQ 37.3125 48.390625 33.40625 48.390625 \r\nQ 24.65625 48.390625 19.8125 42.84375 \r\nQ 14.984375 37.3125 14.984375 27.296875 \r\nQ 14.984375 17.28125 19.8125 11.734375 \r\nQ 24.65625 6.203125 33.40625 6.203125 \r\nQ 37.3125 6.203125 41.140625 7.25 \r\nQ 44.96875 8.296875 48.78125 10.40625 \r\nL 48.78125 2.09375 \r\nQ 45.015625 0.34375 40.984375 -0.53125 \r\nQ 36.96875 -1.421875 32.421875 -1.421875 \r\nQ 20.0625 -1.421875 12.78125 6.34375 \r\nQ 5.515625 14.109375 5.515625 27.296875 \r\nQ 5.515625 40.671875 12.859375 48.328125 \r\nQ 20.21875 56 33.015625 56 \r\nQ 37.15625 56 41.109375 55.140625 \r\nQ 45.0625 54.296875 48.78125 52.59375 \r\nz\r\n\" id=\"DejaVuSans-99\"/>\r\n      <path d=\"M 34.28125 27.484375 \r\nQ 23.390625 27.484375 19.1875 25 \r\nQ 14.984375 22.515625 14.984375 16.5 \r\nQ 14.984375 11.71875 18.140625 8.90625 \r\nQ 21.296875 6.109375 26.703125 6.109375 \r\nQ 34.1875 6.109375 38.703125 11.40625 \r\nQ 43.21875 16.703125 43.21875 25.484375 \r\nL 43.21875 27.484375 \r\nz\r\nM 52.203125 31.203125 \r\nL 52.203125 0 \r\nL 43.21875 0 \r\nL 43.21875 8.296875 \r\nQ 40.140625 3.328125 35.546875 0.953125 \r\nQ 30.953125 -1.421875 24.3125 -1.421875 \r\nQ 15.921875 -1.421875 10.953125 3.296875 \r\nQ 6 8.015625 6 15.921875 \r\nQ 6 25.140625 12.171875 29.828125 \r\nQ 18.359375 34.515625 30.609375 34.515625 \r\nL 43.21875 34.515625 \r\nL 43.21875 35.40625 \r\nQ 43.21875 41.609375 39.140625 45 \r\nQ 35.0625 48.390625 27.6875 48.390625 \r\nQ 23 48.390625 18.546875 47.265625 \r\nQ 14.109375 46.140625 10.015625 43.890625 \r\nL 10.015625 52.203125 \r\nQ 14.9375 54.109375 19.578125 55.046875 \r\nQ 24.21875 56 28.609375 56 \r\nQ 40.484375 56 46.34375 49.84375 \r\nQ 52.203125 43.703125 52.203125 31.203125 \r\nz\r\n\" id=\"DejaVuSans-97\"/>\r\n      <path d=\"M 54.890625 33.015625 \r\nL 54.890625 0 \r\nL 45.90625 0 \r\nL 45.90625 32.71875 \r\nQ 45.90625 40.484375 42.875 44.328125 \r\nQ 39.84375 48.1875 33.796875 48.1875 \r\nQ 26.515625 48.1875 22.3125 43.546875 \r\nQ 18.109375 38.921875 18.109375 30.90625 \r\nL 18.109375 0 \r\nL 9.078125 0 \r\nL 9.078125 54.6875 \r\nL 18.109375 54.6875 \r\nL 18.109375 46.1875 \r\nQ 21.34375 51.125 25.703125 53.5625 \r\nQ 30.078125 56 35.796875 56 \r\nQ 45.21875 56 50.046875 50.171875 \r\nQ 54.890625 44.34375 54.890625 33.015625 \r\nz\r\n\" id=\"DejaVuSans-110\"/>\r\n      <path d=\"M 8.203125 72.90625 \r\nL 55.078125 72.90625 \r\nL 55.078125 68.703125 \r\nL 28.609375 0 \r\nL 18.3125 0 \r\nL 43.21875 64.59375 \r\nL 8.203125 64.59375 \r\nz\r\n\" id=\"DejaVuSans-55\"/>\r\n     </defs>\r\n     <use xlink:href=\"#DejaVuSans-80\"/>\r\n     <use x=\"60.302734\" xlink:href=\"#DejaVuSans-108\"/>\r\n     <use x=\"88.085938\" xlink:href=\"#DejaVuSans-111\"/>\r\n     <use x=\"149.267578\" xlink:href=\"#DejaVuSans-116\"/>\r\n     <use x=\"188.476562\" xlink:href=\"#DejaVuSans-32\"/>\r\n     <use x=\"220.263672\" xlink:href=\"#DejaVuSans-111\"/>\r\n     <use x=\"281.445312\" xlink:href=\"#DejaVuSans-102\"/>\r\n     <use x=\"316.650391\" xlink:href=\"#DejaVuSans-32\"/>\r\n     <use x=\"348.4375\" xlink:href=\"#DejaVuSans-115\"/>\r\n     <use x=\"400.537109\" xlink:href=\"#DejaVuSans-99\"/>\r\n     <use x=\"455.517578\" xlink:href=\"#DejaVuSans-97\"/>\r\n     <use x=\"516.796875\" xlink:href=\"#DejaVuSans-110\"/>\r\n     <use x=\"580.175781\" xlink:href=\"#DejaVuSans-32\"/>\r\n     <use x=\"611.962891\" xlink:href=\"#DejaVuSans-50\"/>\r\n     <use x=\"675.585938\" xlink:href=\"#DejaVuSans-52\"/>\r\n     <use x=\"739.208984\" xlink:href=\"#DejaVuSans-55\"/>\r\n    </g>\r\n   </g>\r\n  </g>\r\n </g>\r\n <defs>\r\n  <clipPath id=\"pafeef3d41d\">\r\n   <rect height=\"326.16\" width=\"669.6\" x=\"41.667187\" y=\"22.318125\"/>\r\n  </clipPath>\r\n </defs>\r\n</svg>\r\n",
      "text/plain": [
       "<Figure size 864x432 with 1 Axes>"
      ]
     },
     "metadata": {
      "needs_background": "light"
     },
     "output_type": "display_data"
    }
   ],
   "source": [
    "# Compute the derivative of a scan.\n",
    "# 03_b_scan_derivative\n",
    "from pylab import *\n",
    "from lego_robot import *\n",
    "\n",
    "# Find the derivative in scan data, ignoring invalid measurements.\n",
    "def compute_derivative(scan, min_dist):\n",
    "    jumps = [ 0 ]\n",
    "        \n",
    "    for i in range(1, len(scan) - 1):\n",
    "        # Compute derivative using formula \"(f(i+1) - f(i-1)) / 2\".\n",
    "        # Do not use erroneous scan values, which are below min_dist.\n",
    "\n",
    "        # The following line is an example of how to append values.\n",
    "        # Make sure to delete it from your final solution.\n",
    "        \n",
    "#         jumps.append((scan[i+1]-scan[i-1])/2)\n",
    "          \n",
    "#         #jumps.append(i%20 * 10)\n",
    "\n",
    "#         # YOUR CODE HERE\n",
    "#         #raise NotImplementedError()\n",
    "#     jumps.append(0)\n",
    "    \n",
    "#     for j in range(1,len(scan)-1):\n",
    "#         if  abs(scan[j]-scan[j-1])>min_dist and abs(scan[j+1]-scan[j])>min_dist:\n",
    "#             jumps[j-1]=0\n",
    "#             jumps[j+1]=0\n",
    "    \n",
    "        if scan[i-1]>min_dist and scan[i+1]>min_dist:\n",
    "                derivative = (scan[i+1] - scan[i-1]) / 2.0\n",
    "                jumps.append(derivative)\n",
    "        else:\n",
    "            jumps.append(0)\n",
    "            \n",
    "    jumps.append(0)\n",
    "    return jumps\n",
    "\n",
    "\n",
    "if __name__ == '__main__':\n",
    "\n",
    "    minimum_valid_distance = 20.0\n",
    "\n",
    "    # Read the logfile which contains all scans.\n",
    "    logfile = LegoLogfile()\n",
    "    logfile.read(\"robot4_scan.txt\")\n",
    "\n",
    "    # Pick one scan.\n",
    "    scan_no = 247\n",
    "    scan = logfile.scan_data[scan_no]\n",
    "\n",
    "    # Compute derivative, (-1, 0, 1) mask.\n",
    "    der = compute_derivative(scan, minimum_valid_distance)\n",
    "\n",
    "    # Plot scan and derivative.\n",
    "    title(\"Plot of scan %d\" % scan_no)\n",
    "    plot(scan)\n",
    "    plot(der)\n",
    "    show()"
   ]
  },
  {
   "cell_type": "code",
   "execution_count": 92,
   "metadata": {},
   "outputs": [
    {
     "name": "stdout",
     "output_type": "stream",
     "text": [
      "139.0 257\n",
      "121.5 258\n",
      "-214.0 430\n",
      "-226.5 431\n",
      "227.5 444\n",
      "225.5 445\n",
      "-304.5 533\n",
      "-308.5 534\n",
      "398.5 545\n",
      "404.0 546\n",
      "-415.5 612\n",
      "-373.0 613\n",
      "392.5 630\n",
      "381.0 631\n"
     ]
    }
   ],
   "source": [
    "    minimum_valid_distance = 20.0\n",
    "\n",
    "    # Read the logfile which contains all scans.\n",
    "    logfile = LegoLogfile()\n",
    "    logfile.read(\"robot4_scan.txt\")\n",
    "\n",
    "    # Pick one scan.\n",
    "    scan_no = 247\n",
    "    scan = logfile.scan_data[scan_no]\n",
    "\n",
    "    # Compute derivative, (-1, 0, 1) mask.\n",
    "    der = compute_derivative(scan, minimum_valid_distance)\n",
    "    for i in range(len(der)-1):\n",
    "        if abs(der[i])>100:\n",
    "            t=der[i]\n",
    "            print(t,i)\n"
   ]
  },
  {
   "cell_type": "code",
   "execution_count": null,
   "metadata": {},
   "outputs": [],
   "source": []
  },
  {
   "cell_type": "markdown",
   "metadata": {
    "deletable": false,
    "editable": false,
    "nbgrader": {
     "cell_type": "markdown",
     "checksum": "23eaa971014491284ca49edafdfaa3ed",
     "grade": false,
     "grade_id": "cell-0b511e86a5d0aa19",
     "locked": true,
     "schema_version": 3,
     "solution": false,
     "task": false
    }
   },
   "source": [
    "### You may step through the scans and derivatives using the following cell."
   ]
  },
  {
   "cell_type": "code",
   "execution_count": 93,
   "metadata": {},
   "outputs": [
    {
     "data": {
      "application/vnd.jupyter.widget-view+json": {
       "model_id": "cab21aa5fca14841b711bddb7730d0ad",
       "version_major": 2,
       "version_minor": 0
      },
      "text/plain": [
       "interactive(children=(IntSlider(value=0, continuous_update=False, description='scan_id', max=277), Output()), …"
      ]
     },
     "metadata": {},
     "output_type": "display_data"
    },
    {
     "data": {
      "text/plain": [
       "<function __main__.plot_scan_and_derivative(scan_id)>"
      ]
     },
     "execution_count": 93,
     "metadata": {},
     "output_type": "execute_result"
    }
   ],
   "source": [
    "minimum_valid_distance = 20.0\n",
    "def plot_scan_and_derivative(scan_id):\n",
    "    scan = logfile.scan_data[scan_id]\n",
    "    der = compute_derivative(scan, minimum_valid_distance)\n",
    "    plot(scan)\n",
    "    plot(der)\n",
    "    ylim(-600, 2500)\n",
    "ipyw.interact(plot_scan_and_derivative,\n",
    "              scan_id = ipyw.IntSlider(min=0, max=len(logfile.scan_data)-1, continuous_update=False))"
   ]
  },
  {
   "cell_type": "markdown",
   "metadata": {
    "deletable": false,
    "editable": false,
    "nbgrader": {
     "cell_type": "markdown",
     "checksum": "c90843c364679039472df5d0c9901c64",
     "grade": false,
     "grade_id": "cell-35331e24b8d1dfa7",
     "locked": true,
     "schema_version": 3,
     "solution": false,
     "task": false
    }
   },
   "source": [
    "### Finally, some checks."
   ]
  },
  {
   "cell_type": "code",
   "execution_count": 94,
   "metadata": {
    "deletable": false,
    "editable": false,
    "nbgrader": {
     "cell_type": "code",
     "checksum": "a8fcd18f459a4b376ce38510f1227d3c",
     "grade": true,
     "grade_id": "cell-029f9abc835701a5",
     "locked": true,
     "points": 10,
     "schema_version": 3,
     "solution": false,
     "task": false
    }
   },
   "outputs": [],
   "source": [
    "# Here are two tests which your function should pass.\n",
    "def public_test(the_derivative_function):\n",
    "    # If the scan is:\n",
    "    scan = [ 201, 500, 204 ]\n",
    "    # Then, due to our approach, the first and last values will be zero,\n",
    "    # while the middle value will be (204 - 201) / 2 = 3/2 = 1.5.\n",
    "    result = [ 0, 1.5, 0 ]\n",
    "    if the_derivative_function(scan, 20.0) != result:\n",
    "        print(\"Did not work for\", scan)\n",
    "        return False\n",
    "\n",
    "    # Make a longer example. This contains an invalid value, 9.\n",
    "    # Therefore, the derivatives which would use this value, are set to zero.\n",
    "    # (These are the two values to the left and right of the value 9.)\n",
    "    scan   = [ 200, 202, 203, 207,   9, 214, 230, 219 ]\n",
    "    result = [   0, 1.5, 2.5,   0, 3.5,   0, 2.5,   0 ]\n",
    "    if the_derivative_function(scan, 20.0) != result:\n",
    "        print(\"Did not work for\", scan)\n",
    "        return False\n",
    "\n",
    "    return True\n",
    "\n",
    "assert(public_test(compute_derivative))"
   ]
  },
  {
   "cell_type": "code",
   "execution_count": 95,
   "metadata": {},
   "outputs": [
    {
     "data": {
      "text/plain": [
       "[0, 1.5, 2.5, 0, 3.5, 0, 2.5, 0]"
      ]
     },
     "execution_count": 95,
     "metadata": {},
     "output_type": "execute_result"
    }
   ],
   "source": [
    "scan = [ 200, 202, 203, 207,  9, 214, 230, 219 ]\n",
    "compute_derivative(scan, 20.0)"
   ]
  },
  {
   "cell_type": "code",
   "execution_count": 96,
   "metadata": {},
   "outputs": [
    {
     "data": {
      "text/plain": [
       "[0, 1.5, 0]"
      ]
     },
     "execution_count": 96,
     "metadata": {},
     "output_type": "execute_result"
    }
   ],
   "source": [
    "scan = [ 201, 500, 204 ]\n",
    "compute_derivative(scan, 20.0)"
   ]
  },
  {
   "cell_type": "markdown",
   "metadata": {
    "deletable": false,
    "editable": false,
    "nbgrader": {
     "cell_type": "markdown",
     "checksum": "ec5979039e70d1ec34a367b1e39884e2",
     "grade": false,
     "grade_id": "cell-47f6c79719569c4f",
     "locked": true,
     "schema_version": 3,
     "solution": false,
     "task": false
    }
   },
   "source": [
    "## Finding cylinders in the scan data"
   ]
  },
  {
   "cell_type": "code",
   "execution_count": 97,
   "metadata": {
    "deletable": false,
    "editable": false,
    "nbgrader": {
     "cell_type": "code",
     "checksum": "25c3b3ea88e9e6cc3004fdfb52fd2ca9",
     "grade": false,
     "grade_id": "cell-2fbb7c1804799c9b",
     "locked": true,
     "schema_version": 3,
     "solution": false,
     "task": false
    }
   },
   "outputs": [
    {
     "data": {
      "text/html": [
       "\n",
       "        <iframe\n",
       "            width=\"560\"\n",
       "            height=\"315\"\n",
       "            src=\"//av.tib.eu/player/49055\"\n",
       "            frameborder=\"0\"\n",
       "            allowfullscreen\n",
       "        ></iframe>\n",
       "        "
      ],
      "text/plain": [
       "<IPython.lib.display.IFrame at 0x27cdabb6940>"
      ]
     },
     "execution_count": 97,
     "metadata": {},
     "output_type": "execute_result"
    }
   ],
   "source": [
    "# If you don't see a video below, run this cell.\n",
    "from IPython.display import IFrame\n",
    "IFrame(\"https://www.youtube.com/embed/JBr3dpvvmVo\" if \"YouTube\" in globals() else \"//av.tib.eu/player/49055\",\n",
    "       width=560, height=315)"
   ]
  },
  {
   "cell_type": "markdown",
   "metadata": {
    "deletable": false,
    "editable": false,
    "nbgrader": {
     "cell_type": "markdown",
     "checksum": "ba34a6ef03200f7c53d7203310de0d20",
     "grade": false,
     "grade_id": "cell-4de66ca0f4394ee0",
     "locked": true,
     "schema_version": 3,
     "solution": false,
     "task": false
    }
   },
   "source": [
    "### Finding the ray and depth of every cylinder (20 points).\n",
    "Please implement the algorithm from the video. **Note that in order to get a more robust result, you should implement it as it is described in the following.**\n",
    "\n",
    "Since the first and last rays hitting a pole are sometimes affected by the so-called *mixed point* effect (part of the ray footprint hits the pole, part of it hits the background), we would like to discard them.\n",
    "\n",
    "That is, for the example in the video, we would like to compute the pole from the rays 8 and 9 only, and not, as shown in the video, from the rays 7, 8, 9, and 10.\n",
    "\n",
    "Therefore, your algorithm should have the following structure:\n",
    "- when encountering a strongly negative derivative, initialize the counters with zero, and do not use the values of the current ray\n",
    "- conversely, when encountering a strongly positive derivative, compute the cylinder from the current counter values, but do not include the values of the current ray\n",
    "- in all other cases, if the measurement is part of a cylinder, and the measurement is valid, update the counters."
   ]
  },
  {
   "cell_type": "code",
   "execution_count": 136,
   "metadata": {
    "deletable": false,
    "nbgrader": {
     "cell_type": "code",
     "checksum": "6a055b418cf3968c02eb6cc08b051d9c",
     "grade": false,
     "grade_id": "cell-715edf17d11c1484",
     "locked": false,
     "schema_version": 3,
     "solution": true,
     "task": false
    }
   },
   "outputs": [
    {
     "data": {
      "image/svg+xml": "<?xml version=\"1.0\" encoding=\"utf-8\" standalone=\"no\"?>\r\n<!DOCTYPE svg PUBLIC \"-//W3C//DTD SVG 1.1//EN\"\r\n  \"http://www.w3.org/Graphics/SVG/1.1/DTD/svg11.dtd\">\r\n<!-- Created with matplotlib (https://matplotlib.org/) -->\r\n<svg height=\"357.238125pt\" version=\"1.1\" viewBox=\"0 0 716.45 357.238125\" width=\"716.45pt\" xmlns=\"http://www.w3.org/2000/svg\" xmlns:xlink=\"http://www.w3.org/1999/xlink\">\r\n <metadata>\r\n  <rdf:RDF xmlns:cc=\"http://creativecommons.org/ns#\" xmlns:dc=\"http://purl.org/dc/elements/1.1/\" xmlns:rdf=\"http://www.w3.org/1999/02/22-rdf-syntax-ns#\">\r\n   <cc:Work>\r\n    <dc:type rdf:resource=\"http://purl.org/dc/dcmitype/StillImage\"/>\r\n    <dc:date>2021-11-04T12:21:44.458688</dc:date>\r\n    <dc:format>image/svg+xml</dc:format>\r\n    <dc:creator>\r\n     <cc:Agent>\r\n      <dc:title>Matplotlib v3.3.4, https://matplotlib.org/</dc:title>\r\n     </cc:Agent>\r\n    </dc:creator>\r\n   </cc:Work>\r\n  </rdf:RDF>\r\n </metadata>\r\n <defs>\r\n  <style type=\"text/css\">*{stroke-linecap:butt;stroke-linejoin:round;}</style>\r\n </defs>\r\n <g id=\"figure_1\">\r\n  <g id=\"patch_1\">\r\n   <path d=\"M 0 357.238125 \r\nL 716.45 357.238125 \r\nL 716.45 0 \r\nL 0 0 \r\nz\r\n\" style=\"fill:none;\"/>\r\n  </g>\r\n  <g id=\"axes_1\">\r\n   <g id=\"patch_2\">\r\n    <path d=\"M 39.65 333.36 \r\nL 709.25 333.36 \r\nL 709.25 7.2 \r\nL 39.65 7.2 \r\nz\r\n\" style=\"fill:#ffffff;\"/>\r\n   </g>\r\n   <g id=\"PathCollection_1\">\r\n    <defs>\r\n     <path d=\"M 0 7.071068 \r\nC 1.875269 7.071068 3.673985 6.326016 5 5 \r\nC 6.326016 3.673985 7.071068 1.875269 7.071068 0 \r\nC 7.071068 -1.875269 6.326016 -3.673985 5 -5 \r\nC 3.673985 -6.326016 1.875269 -7.071068 0 -7.071068 \r\nC -1.875269 -7.071068 -3.673985 -6.326016 -5 -5 \r\nC -6.326016 -3.673985 -7.071068 -1.875269 -7.071068 0 \r\nC -7.071068 1.875269 -6.326016 3.673985 -5 5 \r\nC -3.673985 6.326016 -1.875269 7.071068 0 7.071068 \r\nz\r\n\" id=\"m08b76dc6c8\" style=\"stroke:#ff0000;\"/>\r\n    </defs>\r\n    <g clip-path=\"url(#p0dd38427e4)\">\r\n     <use style=\"fill:#ff0000;stroke:#ff0000;\" x=\"227.579535\" xlink:href=\"#m08b76dc6c8\" y=\"313.605826\"/>\r\n     <use style=\"fill:#ff0000;stroke:#ff0000;\" x=\"485.757491\" xlink:href=\"#m08b76dc6c8\" y=\"268.515919\"/>\r\n     <use style=\"fill:#ff0000;stroke:#ff0000;\" x=\"654.335226\" xlink:href=\"#m08b76dc6c8\" y=\"259.010523\"/>\r\n    </g>\r\n   </g>\r\n   <g id=\"matplotlib.axis_1\">\r\n    <g id=\"xtick_1\">\r\n     <g id=\"line2d_1\">\r\n      <defs>\r\n       <path d=\"M 0 0 \r\nL 0 3.5 \r\n\" id=\"mf3e352789c\" style=\"stroke:#000000;stroke-width:0.8;\"/>\r\n      </defs>\r\n      <g>\r\n       <use style=\"stroke:#000000;stroke-width:0.8;\" x=\"70.086364\" xlink:href=\"#mf3e352789c\" y=\"333.36\"/>\r\n      </g>\r\n     </g>\r\n     <g id=\"text_1\">\r\n      <!-- 0 -->\r\n      <g transform=\"translate(66.905114 347.958438)scale(0.1 -0.1)\">\r\n       <defs>\r\n        <path d=\"M 31.78125 66.40625 \r\nQ 24.171875 66.40625 20.328125 58.90625 \r\nQ 16.5 51.421875 16.5 36.375 \r\nQ 16.5 21.390625 20.328125 13.890625 \r\nQ 24.171875 6.390625 31.78125 6.390625 \r\nQ 39.453125 6.390625 43.28125 13.890625 \r\nQ 47.125 21.390625 47.125 36.375 \r\nQ 47.125 51.421875 43.28125 58.90625 \r\nQ 39.453125 66.40625 31.78125 66.40625 \r\nz\r\nM 31.78125 74.21875 \r\nQ 44.046875 74.21875 50.515625 64.515625 \r\nQ 56.984375 54.828125 56.984375 36.375 \r\nQ 56.984375 17.96875 50.515625 8.265625 \r\nQ 44.046875 -1.421875 31.78125 -1.421875 \r\nQ 19.53125 -1.421875 13.0625 8.265625 \r\nQ 6.59375 17.96875 6.59375 36.375 \r\nQ 6.59375 54.828125 13.0625 64.515625 \r\nQ 19.53125 74.21875 31.78125 74.21875 \r\nz\r\n\" id=\"DejaVuSans-48\"/>\r\n       </defs>\r\n       <use xlink:href=\"#DejaVuSans-48\"/>\r\n      </g>\r\n     </g>\r\n    </g>\r\n    <g id=\"xtick_2\">\r\n     <g id=\"line2d_2\">\r\n      <g>\r\n       <use style=\"stroke:#000000;stroke-width:0.8;\" x=\"162.457725\" xlink:href=\"#mf3e352789c\" y=\"333.36\"/>\r\n      </g>\r\n     </g>\r\n     <g id=\"text_2\">\r\n      <!-- 100 -->\r\n      <g transform=\"translate(152.913975 347.958438)scale(0.1 -0.1)\">\r\n       <defs>\r\n        <path d=\"M 12.40625 8.296875 \r\nL 28.515625 8.296875 \r\nL 28.515625 63.921875 \r\nL 10.984375 60.40625 \r\nL 10.984375 69.390625 \r\nL 28.421875 72.90625 \r\nL 38.28125 72.90625 \r\nL 38.28125 8.296875 \r\nL 54.390625 8.296875 \r\nL 54.390625 0 \r\nL 12.40625 0 \r\nz\r\n\" id=\"DejaVuSans-49\"/>\r\n       </defs>\r\n       <use xlink:href=\"#DejaVuSans-49\"/>\r\n       <use x=\"63.623047\" xlink:href=\"#DejaVuSans-48\"/>\r\n       <use x=\"127.246094\" xlink:href=\"#DejaVuSans-48\"/>\r\n      </g>\r\n     </g>\r\n    </g>\r\n    <g id=\"xtick_3\">\r\n     <g id=\"line2d_3\">\r\n      <g>\r\n       <use style=\"stroke:#000000;stroke-width:0.8;\" x=\"254.829087\" xlink:href=\"#mf3e352789c\" y=\"333.36\"/>\r\n      </g>\r\n     </g>\r\n     <g id=\"text_3\">\r\n      <!-- 200 -->\r\n      <g transform=\"translate(245.285337 347.958438)scale(0.1 -0.1)\">\r\n       <defs>\r\n        <path d=\"M 19.1875 8.296875 \r\nL 53.609375 8.296875 \r\nL 53.609375 0 \r\nL 7.328125 0 \r\nL 7.328125 8.296875 \r\nQ 12.9375 14.109375 22.625 23.890625 \r\nQ 32.328125 33.6875 34.8125 36.53125 \r\nQ 39.546875 41.84375 41.421875 45.53125 \r\nQ 43.3125 49.21875 43.3125 52.78125 \r\nQ 43.3125 58.59375 39.234375 62.25 \r\nQ 35.15625 65.921875 28.609375 65.921875 \r\nQ 23.96875 65.921875 18.8125 64.3125 \r\nQ 13.671875 62.703125 7.8125 59.421875 \r\nL 7.8125 69.390625 \r\nQ 13.765625 71.78125 18.9375 73 \r\nQ 24.125 74.21875 28.421875 74.21875 \r\nQ 39.75 74.21875 46.484375 68.546875 \r\nQ 53.21875 62.890625 53.21875 53.421875 \r\nQ 53.21875 48.921875 51.53125 44.890625 \r\nQ 49.859375 40.875 45.40625 35.40625 \r\nQ 44.1875 33.984375 37.640625 27.21875 \r\nQ 31.109375 20.453125 19.1875 8.296875 \r\nz\r\n\" id=\"DejaVuSans-50\"/>\r\n       </defs>\r\n       <use xlink:href=\"#DejaVuSans-50\"/>\r\n       <use x=\"63.623047\" xlink:href=\"#DejaVuSans-48\"/>\r\n       <use x=\"127.246094\" xlink:href=\"#DejaVuSans-48\"/>\r\n      </g>\r\n     </g>\r\n    </g>\r\n    <g id=\"xtick_4\">\r\n     <g id=\"line2d_4\">\r\n      <g>\r\n       <use style=\"stroke:#000000;stroke-width:0.8;\" x=\"347.200448\" xlink:href=\"#mf3e352789c\" y=\"333.36\"/>\r\n      </g>\r\n     </g>\r\n     <g id=\"text_4\">\r\n      <!-- 300 -->\r\n      <g transform=\"translate(337.656698 347.958438)scale(0.1 -0.1)\">\r\n       <defs>\r\n        <path d=\"M 40.578125 39.3125 \r\nQ 47.65625 37.796875 51.625 33 \r\nQ 55.609375 28.21875 55.609375 21.1875 \r\nQ 55.609375 10.40625 48.1875 4.484375 \r\nQ 40.765625 -1.421875 27.09375 -1.421875 \r\nQ 22.515625 -1.421875 17.65625 -0.515625 \r\nQ 12.796875 0.390625 7.625 2.203125 \r\nL 7.625 11.71875 \r\nQ 11.71875 9.328125 16.59375 8.109375 \r\nQ 21.484375 6.890625 26.8125 6.890625 \r\nQ 36.078125 6.890625 40.9375 10.546875 \r\nQ 45.796875 14.203125 45.796875 21.1875 \r\nQ 45.796875 27.640625 41.28125 31.265625 \r\nQ 36.765625 34.90625 28.71875 34.90625 \r\nL 20.21875 34.90625 \r\nL 20.21875 43.015625 \r\nL 29.109375 43.015625 \r\nQ 36.375 43.015625 40.234375 45.921875 \r\nQ 44.09375 48.828125 44.09375 54.296875 \r\nQ 44.09375 59.90625 40.109375 62.90625 \r\nQ 36.140625 65.921875 28.71875 65.921875 \r\nQ 24.65625 65.921875 20.015625 65.03125 \r\nQ 15.375 64.15625 9.8125 62.3125 \r\nL 9.8125 71.09375 \r\nQ 15.4375 72.65625 20.34375 73.4375 \r\nQ 25.25 74.21875 29.59375 74.21875 \r\nQ 40.828125 74.21875 47.359375 69.109375 \r\nQ 53.90625 64.015625 53.90625 55.328125 \r\nQ 53.90625 49.265625 50.4375 45.09375 \r\nQ 46.96875 40.921875 40.578125 39.3125 \r\nz\r\n\" id=\"DejaVuSans-51\"/>\r\n       </defs>\r\n       <use xlink:href=\"#DejaVuSans-51\"/>\r\n       <use x=\"63.623047\" xlink:href=\"#DejaVuSans-48\"/>\r\n       <use x=\"127.246094\" xlink:href=\"#DejaVuSans-48\"/>\r\n      </g>\r\n     </g>\r\n    </g>\r\n    <g id=\"xtick_5\">\r\n     <g id=\"line2d_5\">\r\n      <g>\r\n       <use style=\"stroke:#000000;stroke-width:0.8;\" x=\"439.57181\" xlink:href=\"#mf3e352789c\" y=\"333.36\"/>\r\n      </g>\r\n     </g>\r\n     <g id=\"text_5\">\r\n      <!-- 400 -->\r\n      <g transform=\"translate(430.02806 347.958438)scale(0.1 -0.1)\">\r\n       <defs>\r\n        <path d=\"M 37.796875 64.3125 \r\nL 12.890625 25.390625 \r\nL 37.796875 25.390625 \r\nz\r\nM 35.203125 72.90625 \r\nL 47.609375 72.90625 \r\nL 47.609375 25.390625 \r\nL 58.015625 25.390625 \r\nL 58.015625 17.1875 \r\nL 47.609375 17.1875 \r\nL 47.609375 0 \r\nL 37.796875 0 \r\nL 37.796875 17.1875 \r\nL 4.890625 17.1875 \r\nL 4.890625 26.703125 \r\nz\r\n\" id=\"DejaVuSans-52\"/>\r\n       </defs>\r\n       <use xlink:href=\"#DejaVuSans-52\"/>\r\n       <use x=\"63.623047\" xlink:href=\"#DejaVuSans-48\"/>\r\n       <use x=\"127.246094\" xlink:href=\"#DejaVuSans-48\"/>\r\n      </g>\r\n     </g>\r\n    </g>\r\n    <g id=\"xtick_6\">\r\n     <g id=\"line2d_6\">\r\n      <g>\r\n       <use style=\"stroke:#000000;stroke-width:0.8;\" x=\"531.943171\" xlink:href=\"#mf3e352789c\" y=\"333.36\"/>\r\n      </g>\r\n     </g>\r\n     <g id=\"text_6\">\r\n      <!-- 500 -->\r\n      <g transform=\"translate(522.399421 347.958438)scale(0.1 -0.1)\">\r\n       <defs>\r\n        <path d=\"M 10.796875 72.90625 \r\nL 49.515625 72.90625 \r\nL 49.515625 64.59375 \r\nL 19.828125 64.59375 \r\nL 19.828125 46.734375 \r\nQ 21.96875 47.46875 24.109375 47.828125 \r\nQ 26.265625 48.1875 28.421875 48.1875 \r\nQ 40.625 48.1875 47.75 41.5 \r\nQ 54.890625 34.8125 54.890625 23.390625 \r\nQ 54.890625 11.625 47.5625 5.09375 \r\nQ 40.234375 -1.421875 26.90625 -1.421875 \r\nQ 22.3125 -1.421875 17.546875 -0.640625 \r\nQ 12.796875 0.140625 7.71875 1.703125 \r\nL 7.71875 11.625 \r\nQ 12.109375 9.234375 16.796875 8.0625 \r\nQ 21.484375 6.890625 26.703125 6.890625 \r\nQ 35.15625 6.890625 40.078125 11.328125 \r\nQ 45.015625 15.765625 45.015625 23.390625 \r\nQ 45.015625 31 40.078125 35.4375 \r\nQ 35.15625 39.890625 26.703125 39.890625 \r\nQ 22.75 39.890625 18.8125 39.015625 \r\nQ 14.890625 38.140625 10.796875 36.28125 \r\nz\r\n\" id=\"DejaVuSans-53\"/>\r\n       </defs>\r\n       <use xlink:href=\"#DejaVuSans-53\"/>\r\n       <use x=\"63.623047\" xlink:href=\"#DejaVuSans-48\"/>\r\n       <use x=\"127.246094\" xlink:href=\"#DejaVuSans-48\"/>\r\n      </g>\r\n     </g>\r\n    </g>\r\n    <g id=\"xtick_7\">\r\n     <g id=\"line2d_7\">\r\n      <g>\r\n       <use style=\"stroke:#000000;stroke-width:0.8;\" x=\"624.314533\" xlink:href=\"#mf3e352789c\" y=\"333.36\"/>\r\n      </g>\r\n     </g>\r\n     <g id=\"text_7\">\r\n      <!-- 600 -->\r\n      <g transform=\"translate(614.770783 347.958438)scale(0.1 -0.1)\">\r\n       <defs>\r\n        <path d=\"M 33.015625 40.375 \r\nQ 26.375 40.375 22.484375 35.828125 \r\nQ 18.609375 31.296875 18.609375 23.390625 \r\nQ 18.609375 15.53125 22.484375 10.953125 \r\nQ 26.375 6.390625 33.015625 6.390625 \r\nQ 39.65625 6.390625 43.53125 10.953125 \r\nQ 47.40625 15.53125 47.40625 23.390625 \r\nQ 47.40625 31.296875 43.53125 35.828125 \r\nQ 39.65625 40.375 33.015625 40.375 \r\nz\r\nM 52.59375 71.296875 \r\nL 52.59375 62.3125 \r\nQ 48.875 64.0625 45.09375 64.984375 \r\nQ 41.3125 65.921875 37.59375 65.921875 \r\nQ 27.828125 65.921875 22.671875 59.328125 \r\nQ 17.53125 52.734375 16.796875 39.40625 \r\nQ 19.671875 43.65625 24.015625 45.921875 \r\nQ 28.375 48.1875 33.59375 48.1875 \r\nQ 44.578125 48.1875 50.953125 41.515625 \r\nQ 57.328125 34.859375 57.328125 23.390625 \r\nQ 57.328125 12.15625 50.6875 5.359375 \r\nQ 44.046875 -1.421875 33.015625 -1.421875 \r\nQ 20.359375 -1.421875 13.671875 8.265625 \r\nQ 6.984375 17.96875 6.984375 36.375 \r\nQ 6.984375 53.65625 15.1875 63.9375 \r\nQ 23.390625 74.21875 37.203125 74.21875 \r\nQ 40.921875 74.21875 44.703125 73.484375 \r\nQ 48.484375 72.75 52.59375 71.296875 \r\nz\r\n\" id=\"DejaVuSans-54\"/>\r\n       </defs>\r\n       <use xlink:href=\"#DejaVuSans-54\"/>\r\n       <use x=\"63.623047\" xlink:href=\"#DejaVuSans-48\"/>\r\n       <use x=\"127.246094\" xlink:href=\"#DejaVuSans-48\"/>\r\n      </g>\r\n     </g>\r\n    </g>\r\n   </g>\r\n   <g id=\"matplotlib.axis_2\">\r\n    <g id=\"ytick_1\">\r\n     <g id=\"line2d_8\">\r\n      <defs>\r\n       <path d=\"M 0 0 \r\nL -3.5 0 \r\n\" id=\"m222d5d2829\" style=\"stroke:#000000;stroke-width:0.8;\"/>\r\n      </defs>\r\n      <g>\r\n       <use style=\"stroke:#000000;stroke-width:0.8;\" x=\"39.65\" xlink:href=\"#m222d5d2829\" y=\"293.576586\"/>\r\n      </g>\r\n     </g>\r\n     <g id=\"text_8\">\r\n      <!-- 400 -->\r\n      <g transform=\"translate(13.5625 297.375805)scale(0.1 -0.1)\">\r\n       <use xlink:href=\"#DejaVuSans-52\"/>\r\n       <use x=\"63.623047\" xlink:href=\"#DejaVuSans-48\"/>\r\n       <use x=\"127.246094\" xlink:href=\"#DejaVuSans-48\"/>\r\n      </g>\r\n     </g>\r\n    </g>\r\n    <g id=\"ytick_2\">\r\n     <g id=\"line2d_9\">\r\n      <g>\r\n       <use style=\"stroke:#000000;stroke-width:0.8;\" x=\"39.65\" xlink:href=\"#m222d5d2829\" y=\"250.913407\"/>\r\n      </g>\r\n     </g>\r\n     <g id=\"text_9\">\r\n      <!-- 600 -->\r\n      <g transform=\"translate(13.5625 254.712626)scale(0.1 -0.1)\">\r\n       <use xlink:href=\"#DejaVuSans-54\"/>\r\n       <use x=\"63.623047\" xlink:href=\"#DejaVuSans-48\"/>\r\n       <use x=\"127.246094\" xlink:href=\"#DejaVuSans-48\"/>\r\n      </g>\r\n     </g>\r\n    </g>\r\n    <g id=\"ytick_3\">\r\n     <g id=\"line2d_10\">\r\n      <g>\r\n       <use style=\"stroke:#000000;stroke-width:0.8;\" x=\"39.65\" xlink:href=\"#m222d5d2829\" y=\"208.250229\"/>\r\n      </g>\r\n     </g>\r\n     <g id=\"text_10\">\r\n      <!-- 800 -->\r\n      <g transform=\"translate(13.5625 212.049448)scale(0.1 -0.1)\">\r\n       <defs>\r\n        <path d=\"M 31.78125 34.625 \r\nQ 24.75 34.625 20.71875 30.859375 \r\nQ 16.703125 27.09375 16.703125 20.515625 \r\nQ 16.703125 13.921875 20.71875 10.15625 \r\nQ 24.75 6.390625 31.78125 6.390625 \r\nQ 38.8125 6.390625 42.859375 10.171875 \r\nQ 46.921875 13.96875 46.921875 20.515625 \r\nQ 46.921875 27.09375 42.890625 30.859375 \r\nQ 38.875 34.625 31.78125 34.625 \r\nz\r\nM 21.921875 38.8125 \r\nQ 15.578125 40.375 12.03125 44.71875 \r\nQ 8.5 49.078125 8.5 55.328125 \r\nQ 8.5 64.0625 14.71875 69.140625 \r\nQ 20.953125 74.21875 31.78125 74.21875 \r\nQ 42.671875 74.21875 48.875 69.140625 \r\nQ 55.078125 64.0625 55.078125 55.328125 \r\nQ 55.078125 49.078125 51.53125 44.71875 \r\nQ 48 40.375 41.703125 38.8125 \r\nQ 48.828125 37.15625 52.796875 32.3125 \r\nQ 56.78125 27.484375 56.78125 20.515625 \r\nQ 56.78125 9.90625 50.3125 4.234375 \r\nQ 43.84375 -1.421875 31.78125 -1.421875 \r\nQ 19.734375 -1.421875 13.25 4.234375 \r\nQ 6.78125 9.90625 6.78125 20.515625 \r\nQ 6.78125 27.484375 10.78125 32.3125 \r\nQ 14.796875 37.15625 21.921875 38.8125 \r\nz\r\nM 18.3125 54.390625 \r\nQ 18.3125 48.734375 21.84375 45.5625 \r\nQ 25.390625 42.390625 31.78125 42.390625 \r\nQ 38.140625 42.390625 41.71875 45.5625 \r\nQ 45.3125 48.734375 45.3125 54.390625 \r\nQ 45.3125 60.0625 41.71875 63.234375 \r\nQ 38.140625 66.40625 31.78125 66.40625 \r\nQ 25.390625 66.40625 21.84375 63.234375 \r\nQ 18.3125 60.0625 18.3125 54.390625 \r\nz\r\n\" id=\"DejaVuSans-56\"/>\r\n       </defs>\r\n       <use xlink:href=\"#DejaVuSans-56\"/>\r\n       <use x=\"63.623047\" xlink:href=\"#DejaVuSans-48\"/>\r\n       <use x=\"127.246094\" xlink:href=\"#DejaVuSans-48\"/>\r\n      </g>\r\n     </g>\r\n    </g>\r\n    <g id=\"ytick_4\">\r\n     <g id=\"line2d_11\">\r\n      <g>\r\n       <use style=\"stroke:#000000;stroke-width:0.8;\" x=\"39.65\" xlink:href=\"#m222d5d2829\" y=\"165.58705\"/>\r\n      </g>\r\n     </g>\r\n     <g id=\"text_11\">\r\n      <!-- 1000 -->\r\n      <g transform=\"translate(7.2 169.386269)scale(0.1 -0.1)\">\r\n       <use xlink:href=\"#DejaVuSans-49\"/>\r\n       <use x=\"63.623047\" xlink:href=\"#DejaVuSans-48\"/>\r\n       <use x=\"127.246094\" xlink:href=\"#DejaVuSans-48\"/>\r\n       <use x=\"190.869141\" xlink:href=\"#DejaVuSans-48\"/>\r\n      </g>\r\n     </g>\r\n    </g>\r\n    <g id=\"ytick_5\">\r\n     <g id=\"line2d_12\">\r\n      <g>\r\n       <use style=\"stroke:#000000;stroke-width:0.8;\" x=\"39.65\" xlink:href=\"#m222d5d2829\" y=\"122.923872\"/>\r\n      </g>\r\n     </g>\r\n     <g id=\"text_12\">\r\n      <!-- 1200 -->\r\n      <g transform=\"translate(7.2 126.723091)scale(0.1 -0.1)\">\r\n       <use xlink:href=\"#DejaVuSans-49\"/>\r\n       <use x=\"63.623047\" xlink:href=\"#DejaVuSans-50\"/>\r\n       <use x=\"127.246094\" xlink:href=\"#DejaVuSans-48\"/>\r\n       <use x=\"190.869141\" xlink:href=\"#DejaVuSans-48\"/>\r\n      </g>\r\n     </g>\r\n    </g>\r\n    <g id=\"ytick_6\">\r\n     <g id=\"line2d_13\">\r\n      <g>\r\n       <use style=\"stroke:#000000;stroke-width:0.8;\" x=\"39.65\" xlink:href=\"#m222d5d2829\" y=\"80.260693\"/>\r\n      </g>\r\n     </g>\r\n     <g id=\"text_13\">\r\n      <!-- 1400 -->\r\n      <g transform=\"translate(7.2 84.059912)scale(0.1 -0.1)\">\r\n       <use xlink:href=\"#DejaVuSans-49\"/>\r\n       <use x=\"63.623047\" xlink:href=\"#DejaVuSans-52\"/>\r\n       <use x=\"127.246094\" xlink:href=\"#DejaVuSans-48\"/>\r\n       <use x=\"190.869141\" xlink:href=\"#DejaVuSans-48\"/>\r\n      </g>\r\n     </g>\r\n    </g>\r\n    <g id=\"ytick_7\">\r\n     <g id=\"line2d_14\">\r\n      <g>\r\n       <use style=\"stroke:#000000;stroke-width:0.8;\" x=\"39.65\" xlink:href=\"#m222d5d2829\" y=\"37.597515\"/>\r\n      </g>\r\n     </g>\r\n     <g id=\"text_14\">\r\n      <!-- 1600 -->\r\n      <g transform=\"translate(7.2 41.396733)scale(0.1 -0.1)\">\r\n       <use xlink:href=\"#DejaVuSans-49\"/>\r\n       <use x=\"63.623047\" xlink:href=\"#DejaVuSans-54\"/>\r\n       <use x=\"127.246094\" xlink:href=\"#DejaVuSans-48\"/>\r\n       <use x=\"190.869141\" xlink:href=\"#DejaVuSans-48\"/>\r\n      </g>\r\n     </g>\r\n    </g>\r\n   </g>\r\n   <g id=\"line2d_15\">\r\n    <path clip-path=\"url(#p0dd38427e4)\" d=\"M 70.086364 211.663283 \r\nL 71.010077 211.876599 \r\nL 71.933791 211.663283 \r\nL 73.781218 211.663283 \r\nL 75.628645 211.236651 \r\nL 77.476073 211.236651 \r\nL 79.3235 211.663283 \r\nL 81.170927 211.663283 \r\nL 82.094641 212.303231 \r\nL 83.018354 211.663283 \r\nL 83.942068 211.876599 \r\nL 84.865781 212.303231 \r\nL 85.789495 211.876599 \r\nL 86.713209 211.236651 \r\nL 87.636922 210.383388 \r\nL 88.560636 210.383388 \r\nL 89.48435 209.530124 \r\nL 90.408063 210.383388 \r\nL 91.331777 210.383388 \r\nL 92.25549 210.81002 \r\nL 93.179204 210.383388 \r\nL 94.102918 211.876599 \r\nL 95.026631 210.383388 \r\nL 95.950345 210.81002 \r\nL 96.874058 210.383388 \r\nL 97.797772 210.383388 \r\nL 98.721486 209.530124 \r\nL 100.568913 209.530124 \r\nL 101.492627 209.956756 \r\nL 103.340054 209.956756 \r\nL 104.263767 210.170072 \r\nL 106.111195 210.170072 \r\nL 107.034908 208.890177 \r\nL 107.958622 208.036913 \r\nL 108.882335 208.036913 \r\nL 109.806049 207.823597 \r\nL 111.653476 207.823597 \r\nL 112.57719 207.610281 \r\nL 114.424617 208.036913 \r\nL 115.348331 208.676861 \r\nL 116.272044 208.036913 \r\nL 117.195758 208.036913 \r\nL 118.119472 204.837175 \r\nL 122.73804 204.837175 \r\nL 123.661753 204.410543 \r\nL 124.585467 204.410543 \r\nL 125.509181 203.770595 \r\nL 126.432894 203.557279 \r\nL 127.356608 200.570857 \r\nL 128.280321 200.570857 \r\nL 129.204035 201.210804 \r\nL 130.127749 201.42412 \r\nL 131.051462 201.42412 \r\nL 131.975176 201.210804 \r\nL 132.89889 200.570857 \r\nL 133.822603 198.437698 \r\nL 136.593744 198.437698 \r\nL 137.517458 198.224382 \r\nL 139.364885 198.651014 \r\nL 140.288598 198.437698 \r\nL 141.212312 197.584434 \r\nL 142.136026 196.304539 \r\nL 143.059739 194.811328 \r\nL 146.754594 194.811328 \r\nL 147.678307 193.958064 \r\nL 148.602021 193.958064 \r\nL 149.525735 193.104801 \r\nL 150.449448 192.464853 \r\nL 151.373162 192.464853 \r\nL 152.296875 192.251537 \r\nL 153.220589 191.398273 \r\nL 154.144303 190.758326 \r\nL 155.068016 190.331694 \r\nL 155.99173 188.838483 \r\nL 156.915444 188.838483 \r\nL 157.839157 187.558587 \r\nL 158.762871 187.345271 \r\nL 159.686584 186.91864 \r\nL 160.610298 186.91864 \r\nL 161.534012 186.492008 \r\nL 162.457725 185.425428 \r\nL 163.381439 185.425428 \r\nL 164.305152 182.652322 \r\nL 165.228866 182.652322 \r\nL 166.15258 180.732479 \r\nL 167.076293 179.879215 \r\nL 168.000007 179.879215 \r\nL 168.923721 179.665899 \r\nL 169.847434 178.812636 \r\nL 170.771148 178.812636 \r\nL 172.618575 176.679477 \r\nL 173.542289 176.679477 \r\nL 174.466002 176.466161 \r\nL 175.389716 174.333002 \r\nL 176.313429 173.479738 \r\nL 177.237143 172.199843 \r\nL 178.160857 171.346579 \r\nL 180.008284 168.360157 \r\nL 180.931998 168.146841 \r\nL 181.855711 167.506893 \r\nL 182.779425 166.226998 \r\nL 183.703138 165.800366 \r\nL 184.626852 159.827521 \r\nL 186.474279 159.827521 \r\nL 187.397993 161.107417 \r\nL 189.24542 161.107417 \r\nL 190.169134 161.96068 \r\nL 191.092847 161.96068 \r\nL 192.016561 161.107417 \r\nL 192.940275 160.680785 \r\nL 194.787702 160.680785 \r\nL 195.711415 162.387312 \r\nL 196.635129 166.65363 \r\nL 197.558843 167.080262 \r\nL 198.482556 169.853368 \r\nL 200.329983 170.28 \r\nL 201.253697 173.053107 \r\nL 202.177411 173.693054 \r\nL 203.101124 175.612897 \r\nL 204.024838 176.892793 \r\nL 207.719692 176.892793 \r\nL 208.643406 180.945795 \r\nL 209.56712 310.855173 \r\nL 210.490833 314.694859 \r\nL 211.414547 316.188071 \r\nL 212.33826 318.107914 \r\nL 213.261974 318.32123 \r\nL 216.956829 318.32123 \r\nL 217.880542 317.681282 \r\nL 218.804256 317.681282 \r\nL 219.727969 313.841596 \r\nL 220.651683 311.921753 \r\nL 221.575397 310.855173 \r\nL 222.49911 310.428542 \r\nL 223.422824 306.588855 \r\nL 224.346537 304.669012 \r\nL 226.193965 304.669012 \r\nL 227.117678 305.735592 \r\nL 228.041392 305.735592 \r\nL 228.965106 306.802171 \r\nL 229.888819 309.788594 \r\nL 231.736246 310.215226 \r\nL 232.65996 312.775016 \r\nL 233.583674 317.25465 \r\nL 234.507387 317.681282 \r\nL 235.431101 318.32123 \r\nL 236.354814 318.534545 \r\nL 237.278528 318.534545 \r\nL 238.202242 318.107914 \r\nL 239.125955 318.107914 \r\nL 240.049669 317.681282 \r\nL 240.973383 317.681282 \r\nL 241.897096 315.548123 \r\nL 242.82081 314.694859 \r\nL 243.744523 310.855173 \r\nL 244.668237 309.361962 \r\nL 245.591951 296.136377 \r\nL 246.515664 218.702708 \r\nL 247.439378 215.929601 \r\nL 248.363091 215.502969 \r\nL 249.286805 215.502969 \r\nL 250.210519 215.929601 \r\nL 251.134232 215.929601 \r\nL 252.057946 216.142917 \r\nL 252.98166 216.142917 \r\nL 253.905373 216.356233 \r\nL 254.829087 216.356233 \r\nL 255.7528 216.782865 \r\nL 256.676514 217.422812 \r\nL 257.600228 217.849444 \r\nL 258.523941 218.06276 \r\nL 259.447655 219.129339 \r\nL 260.371368 219.555971 \r\nL 262.218796 219.555971 \r\nL 263.142509 219.769287 \r\nL 264.066223 221.475814 \r\nL 264.989937 222.329078 \r\nL 266.837364 222.329078 \r\nL 267.761077 222.542394 \r\nL 268.684791 222.542394 \r\nL 269.608505 222.329078 \r\nL 271.455932 222.329078 \r\nL 272.379645 223.608973 \r\nL 273.303359 224.675553 \r\nL 274.227073 225.3155 \r\nL 276.0745 225.3155 \r\nL 276.998214 226.168764 \r\nL 277.921927 225.3155 \r\nL 278.845641 225.102184 \r\nL 279.769354 225.102184 \r\nL 280.693068 225.528816 \r\nL 281.616782 225.528816 \r\nL 282.540495 227.875291 \r\nL 283.464209 227.875291 \r\nL 284.387922 227.448659 \r\nL 287.159063 227.448659 \r\nL 288.082777 227.235343 \r\nL 289.006491 227.235343 \r\nL 289.930204 227.875291 \r\nL 290.853918 227.875291 \r\nL 291.777631 228.301923 \r\nL 294.548772 228.301923 \r\nL 295.472486 227.235343 \r\nL 298.243627 227.235343 \r\nL 299.16734 228.088607 \r\nL 300.091054 229.368502 \r\nL 303.785908 229.368502 \r\nL 304.709622 228.088607 \r\nL 306.557049 228.088607 \r\nL 307.480763 227.235343 \r\nL 308.404476 226.808712 \r\nL 311.175617 226.808712 \r\nL 312.099331 227.875291 \r\nL 313.023045 228.088607 \r\nL 315.794185 228.088607 \r\nL 317.641613 226.808712 \r\nL 319.48904 228.088607 \r\nL 320.412753 227.875291 \r\nL 321.336467 228.088607 \r\nL 322.260181 228.728555 \r\nL 323.183894 228.088607 \r\nL 324.107608 228.728555 \r\nL 325.031322 228.728555 \r\nL 325.955035 227.875291 \r\nL 326.878749 227.875291 \r\nL 327.802462 228.728555 \r\nL 329.64989 228.728555 \r\nL 330.573603 226.38208 \r\nL 332.42103 226.38208 \r\nL 333.344744 226.808712 \r\nL 334.268458 226.808712 \r\nL 335.192171 227.448659 \r\nL 337.039599 227.448659 \r\nL 337.963312 226.808712 \r\nL 339.810739 228.088607 \r\nL 340.734453 226.808712 \r\nL 343.505594 226.808712 \r\nL 344.429307 226.595396 \r\nL 345.353021 226.168764 \r\nL 346.276735 226.595396 \r\nL 347.200448 225.955448 \r\nL 348.124162 225.742132 \r\nL 349.047876 225.3155 \r\nL 349.971589 225.102184 \r\nL 350.895303 224.248921 \r\nL 352.74273 224.248921 \r\nL 353.666444 224.462237 \r\nL 355.513871 224.462237 \r\nL 356.437584 222.542394 \r\nL 358.285012 222.542394 \r\nL 359.208725 222.329078 \r\nL 360.132439 221.262498 \r\nL 361.056153 221.262498 \r\nL 361.979866 221.049182 \r\nL 364.751007 221.049182 \r\nL 365.674721 218.702708 \r\nL 368.445861 218.702708 \r\nL 369.369575 218.489392 \r\nL 370.293289 218.489392 \r\nL 371.217002 218.276076 \r\nL 373.06443 218.276076 \r\nL 373.988143 216.142917 \r\nL 374.911857 215.289653 \r\nL 375.83557 215.076337 \r\nL 377.682998 215.076337 \r\nL 378.606711 214.649706 \r\nL 379.530425 214.43639 \r\nL 381.377852 213.583126 \r\nL 383.225279 212.303231 \r\nL 384.148993 212.303231 \r\nL 385.072707 211.449967 \r\nL 385.99642 210.170072 \r\nL 386.920134 210.170072 \r\nL 387.843847 209.956756 \r\nL 388.767561 209.530124 \r\nL 389.691275 209.530124 \r\nL 391.538702 207.396965 \r\nL 392.462416 206.970334 \r\nL 393.386129 205.903754 \r\nL 394.309843 205.903754 \r\nL 395.233556 204.410543 \r\nL 396.15727 204.410543 \r\nL 397.080984 203.983911 \r\nL 398.004697 204.410543 \r\nL 398.928411 201.42412 \r\nL 399.852124 200.784173 \r\nL 400.775838 201.42412 \r\nL 401.699552 199.077646 \r\nL 402.623265 199.077646 \r\nL 403.546979 196.944487 \r\nL 405.394406 196.944487 \r\nL 406.31812 196.304539 \r\nL 407.241833 196.091223 \r\nL 408.165547 193.531432 \r\nL 409.089261 192.464853 \r\nL 410.012974 191.184957 \r\nL 410.936688 189.47843 \r\nL 412.784115 189.47843 \r\nL 413.707829 188.625167 \r\nL 414.631542 188.625167 \r\nL 416.47897 186.492008 \r\nL 417.402683 185.212112 \r\nL 418.326397 182.439006 \r\nL 419.25011 181.799058 \r\nL 420.173824 181.799058 \r\nL 421.097538 181.159111 \r\nL 422.021251 179.879215 \r\nL 422.944965 179.239267 \r\nL 423.868678 174.97295 \r\nL 424.792392 174.759634 \r\nL 425.716106 173.693054 \r\nL 426.639819 173.479738 \r\nL 427.563533 171.773211 \r\nL 429.41096 166.65363 \r\nL 430.334674 166.440314 \r\nL 432.182101 162.813944 \r\nL 434.029528 162.387312 \r\nL 434.953242 161.96068 \r\nL 435.876955 161.320733 \r\nL 436.800669 159.400889 \r\nL 437.724383 156.627783 \r\nL 438.648096 155.134572 \r\nL 439.57181 154.494624 \r\nL 440.495524 151.08157 \r\nL 441.419237 149.801674 \r\nL 442.342951 146.601936 \r\nL 443.266664 145.748672 \r\nL 444.190378 144.255461 \r\nL 445.114092 144.042145 \r\nL 446.037805 139.989143 \r\nL 446.961519 138.0693 \r\nL 447.885232 137.002721 \r\nL 448.808946 136.362773 \r\nL 449.73266 133.802982 \r\nL 450.656373 131.883139 \r\nL 451.580087 128.470085 \r\nL 452.503801 126.12361 \r\nL 453.427514 124.203767 \r\nL 454.351228 123.137188 \r\nL 455.274941 120.790713 \r\nL 456.198655 119.297502 \r\nL 457.122369 118.230922 \r\nL 458.046082 113.537973 \r\nL 458.969796 113.324657 \r\nL 459.893509 108.418391 \r\nL 460.817223 106.711864 \r\nL 461.740937 100.312387 \r\nL 462.66465 95.192806 \r\nL 463.588364 91.566436 \r\nL 465.435791 91.566436 \r\nL 466.359505 95.619438 \r\nL 468.206932 95.619438 \r\nL 469.130646 93.91291 \r\nL 470.054359 93.272963 \r\nL 470.978073 93.272963 \r\nL 471.901786 102.018914 \r\nL 472.8255 269.045258 \r\nL 474.672927 269.47189 \r\nL 476.520355 269.045258 \r\nL 477.444068 269.258574 \r\nL 478.367782 269.258574 \r\nL 479.291495 268.618627 \r\nL 480.215209 269.258574 \r\nL 481.138923 269.258574 \r\nL 482.062636 268.831942 \r\nL 482.98635 267.765363 \r\nL 483.910063 266.912099 \r\nL 484.833777 266.698784 \r\nL 486.681204 265.418888 \r\nL 489.452345 265.418888 \r\nL 490.376059 268.618627 \r\nL 491.299772 269.258574 \r\nL 492.223486 269.685206 \r\nL 494.994627 269.685206 \r\nL 495.91834 270.751785 \r\nL 496.842054 270.965101 \r\nL 498.689481 270.965101 \r\nL 499.613195 115.884447 \r\nL 501.460622 115.884447 \r\nL 503.308049 117.164343 \r\nL 505.155477 117.164343 \r\nL 506.07919 117.377659 \r\nL 507.002904 118.87087 \r\nL 507.926617 119.084186 \r\nL 508.850331 119.084186 \r\nL 509.774045 118.87087 \r\nL 510.697758 121.643976 \r\nL 511.621472 122.710556 \r\nL 512.545186 122.710556 \r\nL 513.468899 122.923872 \r\nL 514.392613 122.923872 \r\nL 516.24004 122.49724 \r\nL 517.163754 120.150765 \r\nL 520.858608 120.150765 \r\nL 521.782322 121.857292 \r\nL 522.706035 123.990451 \r\nL 523.629749 125.270347 \r\nL 524.553463 126.763558 \r\nL 525.477176 127.403506 \r\nL 526.40089 127.830137 \r\nL 527.324603 127.830137 \r\nL 528.248317 127.403506 \r\nL 529.172031 127.19019 \r\nL 530.095744 127.19019 \r\nL 531.019458 126.550242 \r\nL 531.943171 127.19019 \r\nL 532.866885 127.616821 \r\nL 533.790599 128.256769 \r\nL 534.714312 127.830137 \r\nL 539.33288 127.830137 \r\nL 540.256594 127.403506 \r\nL 541.180308 128.043453 \r\nL 542.104021 127.830137 \r\nL 544.875162 127.830137 \r\nL 545.798876 126.550242 \r\nL 546.722589 126.550242 \r\nL 547.646303 126.976874 \r\nL 548.570017 126.12361 \r\nL 549.49373 126.976874 \r\nL 550.417444 126.976874 \r\nL 551.341157 126.550242 \r\nL 552.264871 126.550242 \r\nL 553.188585 126.763558 \r\nL 554.112298 126.550242 \r\nL 555.036012 126.763558 \r\nL 555.959725 126.763558 \r\nL 556.883439 125.696978 \r\nL 557.807153 125.696978 \r\nL 560.578294 124.417083 \r\nL 561.502007 124.417083 \r\nL 562.425721 124.203767 \r\nL 563.349434 123.777135 \r\nL 564.273148 122.710556 \r\nL 565.196862 122.710556 \r\nL 566.120575 122.49724 \r\nL 567.044289 122.710556 \r\nL 567.968002 122.49724 \r\nL 568.891716 122.49724 \r\nL 569.81543 121.857292 \r\nL 571.662857 121.857292 \r\nL 572.586571 121.217345 \r\nL 573.510284 121.217345 \r\nL 574.433998 121.004029 \r\nL 575.357711 121.004029 \r\nL 576.281425 119.937449 \r\nL 577.205139 119.937449 \r\nL 578.128852 121.643976 \r\nL 579.052566 121.643976 \r\nL 579.976279 119.937449 \r\nL 580.899993 117.377659 \r\nL 582.74742 117.377659 \r\nL 583.671134 117.164343 \r\nL 584.594848 117.164343 \r\nL 585.518561 116.951027 \r\nL 586.442275 115.031184 \r\nL 588.289702 115.031184 \r\nL 589.213416 114.17792 \r\nL 590.137129 112.898025 \r\nL 591.060843 112.898025 \r\nL 591.984556 112.684709 \r\nL 592.90827 112.684709 \r\nL 593.831984 110.978182 \r\nL 594.755697 110.338234 \r\nL 595.679411 109.911602 \r\nL 596.603125 109.271655 \r\nL 597.526838 107.778443 \r\nL 598.450552 107.138496 \r\nL 599.374265 106.92518 \r\nL 600.297979 105.645284 \r\nL 601.221693 105.645284 \r\nL 603.06912 102.018914 \r\nL 603.992833 101.592283 \r\nL 604.916547 99.459124 \r\nL 605.840261 101.592283 \r\nL 606.763974 99.459124 \r\nL 607.687688 98.60586 \r\nL 610.458829 98.60586 \r\nL 612.306256 94.97949 \r\nL 613.22997 94.97949 \r\nL 614.153683 92.633015 \r\nL 615.077397 92.419699 \r\nL 616.00111 91.566436 \r\nL 616.924824 90.28654 \r\nL 617.848538 88.793329 \r\nL 618.772251 87.72675 \r\nL 619.695965 85.593591 \r\nL 620.619679 84.100379 \r\nL 621.543392 83.247116 \r\nL 622.467106 82.820484 \r\nL 623.390819 82.820484 \r\nL 624.314533 79.620746 \r\nL 625.238247 77.060955 \r\nL 627.085674 75.354428 \r\nL 628.933101 71.301426 \r\nL 629.856815 70.874794 \r\nL 630.780528 70.874794 \r\nL 631.704242 69.594899 \r\nL 632.627956 69.168267 \r\nL 633.551669 65.541897 \r\nL 634.475383 64.262001 \r\nL 635.399096 64.048685 \r\nL 636.32281 60.422315 \r\nL 637.246524 59.569052 \r\nL 638.170237 58.502472 \r\nL 639.093951 56.582629 \r\nL 640.941378 53.596207 \r\nL 641.865092 53.596207 \r\nL 642.788805 255.606357 \r\nL 643.712519 256.459621 \r\nL 644.636233 260.299307 \r\nL 645.559946 260.939254 \r\nL 646.48366 261.792518 \r\nL 647.407373 261.792518 \r\nL 648.331087 262.005834 \r\nL 650.178514 262.005834 \r\nL 651.102228 261.365886 \r\nL 652.025942 254.966409 \r\nL 652.949655 251.979987 \r\nL 654.797082 251.979987 \r\nL 655.720796 253.046566 \r\nL 656.64451 254.966409 \r\nL 657.568223 255.819673 \r\nL 658.491937 264.352309 \r\nL 661.263078 264.352309 \r\nL 662.186791 260.512623 \r\nL 663.110505 259.872675 \r\nL 664.034219 258.166148 \r\nL 664.957932 256.886252 \r\nL 665.881646 241.740824 \r\nL 666.805359 22.025455 \r\nL 668.652787 22.025455 \r\nL 669.5765 23.731982 \r\nL 670.500214 24.158613 \r\nL 671.423927 28.211615 \r\nL 672.347641 31.198038 \r\nL 673.271355 32.904565 \r\nL 674.195068 33.544513 \r\nL 675.118782 33.544513 \r\nL 676.042496 35.890988 \r\nL 676.966209 36.957567 \r\nL 677.889923 39.090726 \r\nL 678.813636 40.157305 \r\nL 678.813636 40.157305 \r\n\" style=\"fill:none;stroke:#1f77b4;stroke-linecap:square;stroke-width:1.5;\"/>\r\n   </g>\r\n   <g id=\"patch_3\">\r\n    <path d=\"M 39.65 333.36 \r\nL 39.65 7.2 \r\n\" style=\"fill:none;stroke:#000000;stroke-linecap:square;stroke-linejoin:miter;stroke-width:0.8;\"/>\r\n   </g>\r\n   <g id=\"patch_4\">\r\n    <path d=\"M 709.25 333.36 \r\nL 709.25 7.2 \r\n\" style=\"fill:none;stroke:#000000;stroke-linecap:square;stroke-linejoin:miter;stroke-width:0.8;\"/>\r\n   </g>\r\n   <g id=\"patch_5\">\r\n    <path d=\"M 39.65 333.36 \r\nL 709.25 333.36 \r\n\" style=\"fill:none;stroke:#000000;stroke-linecap:square;stroke-linejoin:miter;stroke-width:0.8;\"/>\r\n   </g>\r\n   <g id=\"patch_6\">\r\n    <path d=\"M 39.65 7.2 \r\nL 709.25 7.2 \r\n\" style=\"fill:none;stroke:#000000;stroke-linecap:square;stroke-linejoin:miter;stroke-width:0.8;\"/>\r\n   </g>\r\n  </g>\r\n </g>\r\n <defs>\r\n  <clipPath id=\"p0dd38427e4\">\r\n   <rect height=\"326.16\" width=\"669.6\" x=\"39.65\" y=\"7.2\"/>\r\n  </clipPath>\r\n </defs>\r\n</svg>\r\n",
      "text/plain": [
       "<Figure size 864x432 with 1 Axes>"
      ]
     },
     "metadata": {
      "needs_background": "light"
     },
     "output_type": "display_data"
    }
   ],
   "source": [
    "# For each cylinder in the scan, find its ray and depth.\n",
    "# 03_c_find_cylinders\n",
    "from pylab import *\n",
    "from lego_robot import *\n",
    "\n",
    "# Find the derivative in scan data, ignoring invalid measurements.\n",
    "def compute_derivative(scan, min_dist):\n",
    "    jumps = [ 0 ]\n",
    "    for i in range(1, len(scan) - 1):\n",
    "        l = scan[i-1]\n",
    "        r = scan[i+1]\n",
    "        if l > min_dist and r > min_dist:\n",
    "            derivative = (r - l) / 2.0\n",
    "            jumps.append(derivative)\n",
    "        else:\n",
    "            jumps.append(0)\n",
    "\n",
    "    jumps.append(0)\n",
    "    return jumps\n",
    "\n",
    "# For each area between a left falling edge and a right rising edge,\n",
    "# determine the average ray number and the average depth.\n",
    "def find_cylinders(scan, scan_derivative, jump, min_dist):\n",
    "    cylinder_list = []\n",
    "    on_cylinder = False\n",
    "    sum_ray, sum_depth, rays = 0.0, 0.0, 0\n",
    " \n",
    "    for i in range(len(scan_derivative)):\n",
    "        # Whenever you find a cylinder, add a tuple\n",
    "        # (average_ray, average_depth) to the cylinder_list.\n",
    "\n",
    "        # Just for fun, I'll output some cylinders.\n",
    "        # Make sure to delete the following two lines in your final solution.\n",
    "        ####if i % 100 == 0:\n",
    "            ####cylinder_list.append( (i, scan[i]) )\n",
    "#         l=scan_derivative[i-1]\n",
    "#         r=scan_derivative[i+1]    \n",
    "        \n",
    "        if on_cylinder==False:\n",
    "            if scan_derivative[i]+jump<=0:\n",
    "                on_cylinder= True\n",
    "                \n",
    "        elif on_cylinder==True :\n",
    "            \n",
    "            if scan_derivative[i]+jump<0:\n",
    "                sum_ray, sum_depth, rays = 0.0, 0.0, 0\n",
    "                \n",
    "            elif scan_derivative[i]+jump>0 and scan_derivative[i]-jump<0 and scan[i]>min_dist:\n",
    "                sum_ray+=i\n",
    "                rays+=1\n",
    "                sum_depth=sum_depth+scan[i]\n",
    "                \n",
    "            elif scan_derivative[i]-jump>=0:\n",
    "                    on_cylinder=False\n",
    "                    \n",
    "                    average_ray=sum_ray/rays\n",
    "                    average_depth=sum_depth/rays\n",
    "                    cylinder_list.append((average_ray,average_depth))\n",
    "                    sum_ray, sum_depth, rays = 0.0, 0.0, 0\n",
    "        ############################# another try\n",
    "###############################################\n",
    "    # s = [ 500,  502,  503,  100, 103, 105, 101,  15, 102,   510, 505 ]\n",
    "    # # Then the derivative is:\n",
    "    # d = [   0,  1.5, -201, -200, 2.5,  -1,   0, 0.5,   0, 201.5,   0 ]\n",
    "        # if scan[i]>min_dist:\n",
    "        #     if abs(der[i])>=jump:\n",
    "        #         if not on_cylinder and der[i]<0:\n",
    "        #             falling+=1\n",
    "        #             on_cylinder=True\n",
    "                    \n",
    "        #         elif on_cylinder and der[i]<0:\n",
    "        #             falling+=1\n",
    "        #             sum_ray, sum_depth, rays = 0.0, 0.0, 0   \n",
    "                    \n",
    "        #         elif on_cylinder and der[i]>0:\n",
    "        #             on_cylinder=False\n",
    "        #             falling=0\n",
    "\n",
    "        #             # sum_ray+=i\n",
    "        #             # rays+=1\n",
    "        #             # sum_depth=sum_depth+scan[i]\n",
    "\n",
    "        #             average_ray = sum_ray/rays\n",
    "        #             average_depth = sum_depth/rays\n",
    "        #             cylinder_list.append( (average_ray, average_depth) )\n",
    "        #             sum_ray, sum_depth, rays = 0.0, 0.0, 0\n",
    "                   \n",
    "        #     elif (falling==2 or falling ==4) and on_cylinder:\n",
    "        #         rays += 1\n",
    "        #         sum_ray += i\n",
    "        #         sum_depth += scan[i]\n",
    "\n",
    "        # YOUR CODE HERE\n",
    "        #aise NotImplementedError()\n",
    "\n",
    "    return cylinder_list\n",
    "\n",
    "\n",
    "if __name__ == '__main__':\n",
    "\n",
    "    minimum_valid_distance = 20.0\n",
    "    depth_jump = 100.0\n",
    "    \n",
    "\n",
    "    # Read the logfile which contains all scans.\n",
    "    logfile = LegoLogfile()\n",
    "    logfile.read(\"robot4_scan.txt\")\n",
    "\n",
    "    # Pick one scan.\n",
    "    scan = logfile.scan_data[158]\n",
    "\n",
    "    # Find cylinders.\n",
    "    der = compute_derivative(scan, minimum_valid_distance)\n",
    "    cylinders = find_cylinders(scan, der, depth_jump,\n",
    "                               minimum_valid_distance)\n",
    "\n",
    "    # Plot results.\n",
    "    plot(scan)\n",
    "    scatter([c[0] for c in cylinders], [c[1] for c in cylinders],\n",
    "        c='r', s=200)\n",
    "    show()"
   ]
  },
  {
   "cell_type": "markdown",
   "metadata": {
    "deletable": false,
    "editable": false,
    "nbgrader": {
     "cell_type": "markdown",
     "checksum": "12cc94c3414460bef26f15369fdd273a",
     "grade": false,
     "grade_id": "cell-c18c535a4a67261d",
     "locked": true,
     "schema_version": 3,
     "solution": false,
     "task": false
    }
   },
   "source": [
    "### Let's do an interactive plot.\n",
    "Step through the scans to see how the detection works."
   ]
  },
  {
   "cell_type": "code",
   "execution_count": 137,
   "metadata": {},
   "outputs": [
    {
     "data": {
      "application/vnd.jupyter.widget-view+json": {
       "model_id": "24d581faba1245e69a44d6bdaa5c0f98",
       "version_major": 2,
       "version_minor": 0
      },
      "text/plain": [
       "interactive(children=(IntSlider(value=0, continuous_update=False, description='scan_id', max=277), Output()), …"
      ]
     },
     "metadata": {},
     "output_type": "display_data"
    },
    {
     "data": {
      "text/plain": [
       "<function __main__.plot_scan_and_cylinders(scan_id)>"
      ]
     },
     "execution_count": 137,
     "metadata": {},
     "output_type": "execute_result"
    }
   ],
   "source": [
    "minimum_valid_distance = 20.0\n",
    "depth_jump = 100.0\n",
    "def plot_scan_and_cylinders(scan_id):\n",
    "    scan = logfile.scan_data[scan_id]\n",
    "    der = compute_derivative(scan, minimum_valid_distance)\n",
    "    cylinders = find_cylinders(scan, der, depth_jump, minimum_valid_distance)\n",
    "    plot(scan)\n",
    "    scatter([c[0] for c in cylinders], [c[1] for c in cylinders], c='r', s=200)\n",
    "    ylim(0, 2500)\n",
    "ipyw.interact(plot_scan_and_cylinders,\n",
    "              scan_id = ipyw.IntSlider(min=0, max=len(logfile.scan_data)-1, continuous_update=False))"
   ]
  },
  {
   "cell_type": "code",
   "execution_count": 135,
   "metadata": {},
   "outputs": [
    {
     "name": "stdout",
     "output_type": "stream",
     "text": [
      "[0, 1.5, -201.0, -200.0, 2.5, -1.0, 0, 0.5, 0, 201.5, 0]\n",
      "[(5.75, 102.75)]\n"
     ]
    }
   ],
   "source": [
    "minimum_valid_distance = 20.0\n",
    "depth_jump = 100.0\n",
    "\n",
    "# Say this is the scan.\n",
    "s = [ 500,  502,  503,  100, 103, 105, 101,  15, 102,   510, 505 ]\n",
    "# Then the derivative is:\n",
    "d = [   0,  1.5, -201, -200, 2.5,  -1,   0, 0.5,   0, 201.5,   0 ]\n",
    "der = compute_derivative(s, minimum_valid_distance)\n",
    "cyl = find_cylinders(s, der, depth_jump, minimum_valid_distance)\n",
    "print(der)\n",
    "print(cyl)"
   ]
  },
  {
   "cell_type": "code",
   "execution_count": 128,
   "metadata": {
    "deletable": false,
    "editable": false,
    "nbgrader": {
     "cell_type": "code",
     "checksum": "b2be7ac53cd8e2a6b978575f20470356",
     "grade": true,
     "grade_id": "cell-7263ef694d1ef3c8",
     "locked": true,
     "points": 20,
     "schema_version": 3,
     "solution": false,
     "task": false
    }
   },
   "outputs": [],
   "source": [
    "# Let us test a simple case.\n",
    "def public_test(derivative_function, find_cylinder_function):\n",
    "    minimum_valid_distance = 20.0\n",
    "    depth_jump = 100.0\n",
    "\n",
    "    # Say this is the scan.\n",
    "    s = [ 500,  502,  503,  100, 103, 105, 101,  15, 102,   510, 505 ]\n",
    "    # Then the derivative is:\n",
    "    d = [   0,  1.5, -201, -200, 2.5,  -1,   0, 0.5,   0, 201.5,   0 ]\n",
    "    # Where the two zeros in the middle are due to 15 < minimum_valid_distance.\n",
    "    # Now remember we start at a strong negative derivative --- and end at a\n",
    "    # strong positive derivative +++, but we do not include those values.\n",
    "    # Also, we do not include distances below the minimum threshold, ooo.\n",
    "    # So we only include the values marked with ***.\n",
    "    #   [   0,  1.5, -201, -200, 2.5,  -1,   0, 0.5,   0, 201.5,   0 ]\n",
    "    #                 ---   ---  ***  ***  ***  ooo  ***  +++\n",
    "    # ray   0     1     2     3    4    5    6    7    8    9     10\n",
    "    # distance                   103  105  101       102\n",
    "    #\n",
    "    # So the average ray is (4+5+6+8) / 4 = 23/4 = 5.75\n",
    "    # and the average distance is (103+105+101+102) / 4 = 411 / 4 = 102.75.\n",
    "    der = derivative_function(s, minimum_valid_distance)\n",
    "    cyl = find_cylinder_function(s, der, depth_jump, minimum_valid_distance)\n",
    "\n",
    "    return cyl == [(5.75, 102.75)]\n",
    "\n",
    "assert((public_test(compute_derivative, find_cylinders)))"
   ]
  },
  {
   "cell_type": "markdown",
   "metadata": {
    "deletable": false,
    "editable": false,
    "nbgrader": {
     "cell_type": "markdown",
     "checksum": "4b86826a866e5bfd1de017f31b4baf2e",
     "grade": false,
     "grade_id": "cell-b5cda8f87688cc33",
     "locked": true,
     "schema_version": 3,
     "solution": false,
     "task": false
    }
   },
   "source": [
    "### Computing cartesian coordinates.\n",
    "We convert the (angle, distance) pairs to (x,y) coordinates in the robot's coordinate system."
   ]
  },
  {
   "cell_type": "code",
   "execution_count": 102,
   "metadata": {
    "deletable": false,
    "editable": false,
    "nbgrader": {
     "cell_type": "code",
     "checksum": "eb49722a8c6b6598b5c14a5289a3e06a",
     "grade": false,
     "grade_id": "cell-0ee2e20bf96747fc",
     "locked": true,
     "schema_version": 3,
     "solution": false,
     "task": false
    }
   },
   "outputs": [
    {
     "data": {
      "text/html": [
       "\n",
       "        <iframe\n",
       "            width=\"560\"\n",
       "            height=\"315\"\n",
       "            src=\"//av.tib.eu/player/48981\"\n",
       "            frameborder=\"0\"\n",
       "            allowfullscreen\n",
       "        ></iframe>\n",
       "        "
      ],
      "text/plain": [
       "<IPython.lib.display.IFrame at 0x27cdf4d9130>"
      ]
     },
     "execution_count": 102,
     "metadata": {},
     "output_type": "execute_result"
    }
   ],
   "source": [
    "# If you don't see a video below, run this cell.\n",
    "from IPython.display import IFrame\n",
    "IFrame(\"https://www.youtube.com/embed/rrg9BtfxdhM\" if \"YouTube\" in globals() else \"//av.tib.eu/player/48981\",\n",
    "       width=560, height=315)"
   ]
  },
  {
   "cell_type": "markdown",
   "metadata": {
    "deletable": false,
    "editable": false,
    "nbgrader": {
     "cell_type": "markdown",
     "checksum": "1d7f26f6acfa92411a8c4b170f338f88",
     "grade": false,
     "grade_id": "cell-2f73aa880447ee23",
     "locked": true,
     "schema_version": 3,
     "solution": false,
     "task": false
    }
   },
   "source": [
    "### Programming assignment: converting to cartesian coordinates (10 points)."
   ]
  },
  {
   "cell_type": "code",
   "execution_count": 138,
   "metadata": {
    "deletable": false,
    "nbgrader": {
     "cell_type": "code",
     "checksum": "fa561839ceab059fbc39f8108697ea06",
     "grade": false,
     "grade_id": "cell-a09645d65bdd1abe",
     "locked": false,
     "schema_version": 3,
     "solution": true,
     "task": false
    }
   },
   "outputs": [],
   "source": [
    "# For each cylinder in the scan, find its cartesian coordinates,\n",
    "# in the scanner's coordinate system.\n",
    "# Write the result to a file which contains all cylinders, for all scans.\n",
    "# 03_d_find_cylinders_cartesian\n",
    "from lego_robot import *\n",
    "from math import sin, cos\n",
    "\n",
    "# Find the derivative in scan data, ignoring invalid measurements.\n",
    "def compute_derivative(scan, min_dist):\n",
    "    jumps = [ 0 ]\n",
    "    for i in range(1, len(scan) - 1):\n",
    "        l = scan[i-1]\n",
    "        r = scan[i+1]\n",
    "        if l > min_dist and r > min_dist:\n",
    "            derivative = (r - l) / 2.0\n",
    "            jumps.append(derivative)\n",
    "        else:\n",
    "            jumps.append(0)\n",
    "\n",
    "    jumps.append(0)\n",
    "    return jumps\n",
    "\n",
    "# For each area between a left falling edge and a right rising edge,\n",
    "# determine the average ray number and the average depth.\n",
    "def find_cylinders(scan, scan_derivative, jump, min_dist):\n",
    "    cylinder_list = []\n",
    "    on_cylinder = False\n",
    "    sum_ray, sum_depth, rays = 0.0, 0.0, 0\n",
    "    falling=0\n",
    "    for i in range(len(scan_derivative)):\n",
    "        # Whenever you find a cylinder, add a tuple\n",
    "        # (average_ray, average_depth) to the cylinder_list.\n",
    "\n",
    "        # Just for fun, I'll output some cylinders.\n",
    "        # Make sure to delete the following two lines in your final solution.\n",
    "        ####if i % 100 == 0:\n",
    "            ####cylinder_list.append( (i, scan[i]) )\n",
    "\n",
    "        # YOUR CODE HERE\n",
    "        if on_cylinder==False:\n",
    "            if scan_derivative[i]+jump<=0:\n",
    "                on_cylinder= True\n",
    "                \n",
    "        elif on_cylinder==True :\n",
    "            \n",
    "            if scan_derivative[i]+jump<0:\n",
    "                sum_ray, sum_depth, rays = 0.0, 0.0, 0\n",
    "                \n",
    "            elif scan_derivative[i]+jump>0 and scan_derivative[i]-jump<0 and scan[i]>min_dist:\n",
    "                sum_ray+=i\n",
    "                rays+=1\n",
    "                sum_depth=sum_depth+scan[i]\n",
    "                \n",
    "            elif scan_derivative[i]-jump>=0:\n",
    "                    on_cylinder=False\n",
    "                    \n",
    "                    average_ray=sum_ray/rays\n",
    "                    average_depth=sum_depth/rays\n",
    "                    cylinder_list.append((average_ray,average_depth))\n",
    "                    sum_ray, sum_depth, rays = 0.0, 0.0, 0\n",
    "\n",
    "\n",
    "        # raise NotImplementedError()\n",
    "\n",
    "        # --> (Just paste your solution from the previous file.)\n",
    "\n",
    "    return cylinder_list\n",
    "\n",
    "def compute_cartesian_coordinates(cylinders, cylinder_offset):\n",
    "    result = []\n",
    "    for c in cylinders:\n",
    "        # --->>> Insert here the conversion from polar to Cartesian coordinates.\n",
    "        # c is a tuple (beam_index, range).\n",
    "        # For converting the beam index to an angle, use\n",
    "        # LegoLogfile.beam_index_to_angle(beam_index)\n",
    "        # Make sure to delete the following line from your final solution.\n",
    "        ####result.append( (0,0) ) # Replace this by your (x,y).\n",
    "\n",
    "        # YOUR CODE HERE\n",
    "        #raise NotImplementedError()\n",
    "        beam_index = c[0]\n",
    "        avg_depth = c[1]\n",
    "        ray_angle = LegoLogfile.beam_index_to_angle(beam_index)\n",
    "        x=cos(ray_angle)*(avg_depth+cylinder_offset)\n",
    "        y=sin(ray_angle)*(avg_depth+cylinder_offset)\n",
    "        result.append( (x,y) )\n",
    "\n",
    "\n",
    "    return result\n",
    "        \n",
    "\n",
    "if __name__ == '__main__':\n",
    "\n",
    "    minimum_valid_distance = 20.0\n",
    "    depth_jump = 100.0\n",
    "    cylinder_offset = 90.0\n",
    "\n",
    "    # Read the logfile which contains all scans.\n",
    "    logfile = LegoLogfile()\n",
    "    logfile.read(\"robot4_scan.txt\")\n",
    "\n",
    "    # Write a result file containing all cylinder records.\n",
    "    # Format is: D C x[in mm] y[in mm] ...\n",
    "    # With zero or more points.\n",
    "    # Note \"D C\" is also written for otherwise empty lines (no\n",
    "    # cylinders in scan)\n",
    "    out_file = open(\"cylinders.txt\", \"w\")\n",
    "    for scan in logfile.scan_data:\n",
    "        # Find cylinders.\n",
    "        der = compute_derivative(scan, minimum_valid_distance)\n",
    "        cylinders = find_cylinders(scan, der, depth_jump,\n",
    "                                   minimum_valid_distance)\n",
    "        cartesian_cylinders = compute_cartesian_coordinates(cylinders,\n",
    "                                                            cylinder_offset)\n",
    "        # Write to file.\n",
    "        print(\"D C\", end=' ', file=out_file)\n",
    "        for c in cartesian_cylinders:\n",
    "            print(\"%.1f %.1f\" % c, end=' ', file=out_file)\n",
    "        print(file=out_file)\n",
    "    out_file.close()"
   ]
  },
  {
   "cell_type": "code",
   "execution_count": 142,
   "metadata": {
    "deletable": false,
    "editable": false,
    "nbgrader": {
     "cell_type": "code",
     "checksum": "787971fed827a86d567362f10fdf51b8",
     "grade": true,
     "grade_id": "cell-2b0ab4854f03c31a",
     "locked": true,
     "points": 10,
     "schema_version": 3,
     "solution": false,
     "task": false
    }
   },
   "outputs": [],
   "source": [
    "# Lets test one example.\n",
    "from math import isclose\n",
    "def public_test(derivative_function, cylinder_function, cartesian_function):\n",
    "    # For the given scan:\n",
    "    s = [ 1000, 1000, 100, 102, 104, 1000, 1000 ]\n",
    "    # We would expect this output:\n",
    "    r = [(-92.968938011221766, -167.99040616971436)]\n",
    "\n",
    "    # So lets check it.\n",
    "    minimum_valid_distance = 20.0\n",
    "    depth_jump = 100.0\n",
    "    cylinder_offset = 90.0\n",
    "    der = derivative_function(s, minimum_valid_distance)\n",
    "    cyl = cylinder_function(s, der, depth_jump, minimum_valid_distance)\n",
    "    cart = cartesian_function(cyl, cylinder_offset)\n",
    "\n",
    "    return isclose(r[0][0], cart[0][0]) and isclose(r[0][1], cart[0][1])\n",
    "assert(public_test(compute_derivative, find_cylinders, compute_cartesian_coordinates))"
   ]
  },
  {
   "cell_type": "markdown",
   "metadata": {
    "deletable": false,
    "editable": false,
    "nbgrader": {
     "cell_type": "markdown",
     "checksum": "c977c3b8aaf7a695d3bf5effa2fc928f",
     "grade": false,
     "grade_id": "cell-0cb7ae70eafd9854",
     "locked": true,
     "schema_version": 3,
     "solution": false,
     "task": false
    }
   },
   "source": [
    "## Congratulations, you finished Unit A\n",
    "Let's have a look at what you have learned!"
   ]
  },
  {
   "cell_type": "code",
   "execution_count": 140,
   "metadata": {
    "deletable": false,
    "editable": false,
    "nbgrader": {
     "cell_type": "code",
     "checksum": "d9c09048a5eb829b8b7ff208a7e5a63c",
     "grade": false,
     "grade_id": "cell-b5bb877834b625ff",
     "locked": true,
     "schema_version": 3,
     "solution": false,
     "task": false
    }
   },
   "outputs": [
    {
     "data": {
      "text/html": [
       "\n",
       "        <iframe\n",
       "            width=\"560\"\n",
       "            height=\"315\"\n",
       "            src=\"//av.tib.eu/player/48982\"\n",
       "            frameborder=\"0\"\n",
       "            allowfullscreen\n",
       "        ></iframe>\n",
       "        "
      ],
      "text/plain": [
       "<IPython.lib.display.IFrame at 0x27cdc83eeb0>"
      ]
     },
     "execution_count": 140,
     "metadata": {},
     "output_type": "execute_result"
    }
   ],
   "source": [
    "# If you don't see a video below, run this cell.\n",
    "from IPython.display import IFrame\n",
    "IFrame(\"https://www.youtube.com/embed/uz-ckOO8w9s\" if \"YouTube\" in globals() else \"//av.tib.eu/player/48982\",\n",
    "       width=560, height=315)"
   ]
  },
  {
   "cell_type": "markdown",
   "metadata": {
    "deletable": false,
    "editable": false,
    "nbgrader": {
     "cell_type": "markdown",
     "checksum": "595e8ec77d88ff061a5378b9e51b0d58",
     "grade": false,
     "grade_id": "cell-d1d21195a8112852",
     "locked": true,
     "schema_version": 3,
     "solution": false,
     "task": false
    }
   },
   "source": [
    "### Take a look by yourself, using the interactive viewer."
   ]
  },
  {
   "cell_type": "code",
   "execution_count": 141,
   "metadata": {},
   "outputs": [
    {
     "data": {
      "application/vnd.jupyter.widget-view+json": {
       "model_id": "f884c38b218c4cd4bb2774ca28048893",
       "version_major": 2,
       "version_minor": 0
      },
      "text/plain": [
       "VBox(children=(HBox(children=(Output(layout=Layout(width='600px')), Output(layout=Layout(width='600px')))), Ou…"
      ]
     },
     "metadata": {},
     "output_type": "display_data"
    }
   ],
   "source": [
    "# Execute this to run the interactive viewer.\n",
    "import ipy_logfile_viewer as lfv\n",
    "v = lfv.IPYLogfileViewer(files=[\"robot4_scan.txt\", \"cylinders.txt\", \"robot4_reference.txt\",\n",
    "                                \"robot_arena_landmarks.txt\", \"poses_from_ticks.txt\"])"
   ]
  },
  {
   "cell_type": "code",
   "execution_count": null,
   "metadata": {},
   "outputs": [],
   "source": []
  }
 ],
 "metadata": {
  "celltoolbar": "原始单元格格式",
  "copyright": "(c) Claus Brenner 2020",
  "interpreter": {
   "hash": "ecf5722fdaf1897a315d257d89d94520bfcaa453217d5becf09b39e73618b0de"
  },
  "kernelspec": {
   "display_name": "Python 3.8.5 64-bit ('base': conda)",
   "name": "python3"
  },
  "language_info": {
   "codemirror_mode": {
    "name": "ipython",
    "version": 3
   },
   "file_extension": ".py",
   "mimetype": "text/x-python",
   "name": "python",
   "nbconvert_exporter": "python",
   "pygments_lexer": "ipython3",
   "version": "3.8.5"
  }
 },
 "nbformat": 4,
 "nbformat_minor": 4
}
