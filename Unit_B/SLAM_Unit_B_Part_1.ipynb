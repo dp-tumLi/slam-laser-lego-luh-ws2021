{
 "cells": [
  {
   "cell_type": "markdown",
   "metadata": {
    "deletable": false,
    "editable": false,
    "nbgrader": {
     "cell_type": "markdown",
     "checksum": "723c82466d173ece272a4b938421f1c6",
     "grade": false,
     "grade_id": "cell-345b317c84d884ce",
     "locked": true,
     "schema_version": 3,
     "solution": false,
     "task": false
    }
   },
   "source": [
    "# SLAM Unit B - Part 1\n",
    "In this unit, Unit B, we will learn to use the sensor data to improve the robot's state.\n",
    "## Localization using *features*\n",
    "In our first approach, we will use so-called *features*, or *landmarks*, to reason about the *pose* (the position and orientation) of the robot. In our case, the features are the cylinders which are present in our arena and which we detected in Unit A, from the measurements of our laser scanner."
   ]
  },
  {
   "cell_type": "code",
   "execution_count": 19,
   "metadata": {},
   "outputs": [
    {
     "data": {
      "text/html": [
       "\n",
       "        <iframe\n",
       "            width=\"560\"\n",
       "            height=\"315\"\n",
       "            src=\"//av.tib.eu/player/48983\"\n",
       "            frameborder=\"0\"\n",
       "            allowfullscreen\n",
       "        ></iframe>\n",
       "        "
      ],
      "text/plain": [
       "<IPython.lib.display.IFrame at 0x1597fee6430>"
      ]
     },
     "execution_count": 19,
     "metadata": {},
     "output_type": "execute_result"
    }
   ],
   "source": [
    "# YouTube = True  # Uncomment this line to get YouTube videos instead of TIB AV.\n",
    "# If you don't see a video below, run this cell.\n",
    "from IPython.display import IFrame\n",
    "IFrame(\"https://www.youtube.com/embed/AbmhPu6lgUs\" if \"YouTube\" in globals() else \"//av.tib.eu/player/48983\",\n",
    "       width=560, height=315)"
   ]
  },
  {
   "cell_type": "markdown",
   "metadata": {
    "deletable": false,
    "editable": false,
    "nbgrader": {
     "cell_type": "markdown",
     "checksum": "d07183057e2f159e6be6a5ecaac43e3b",
     "grade": false,
     "grade_id": "cell-1871fc0541ad987f",
     "locked": true,
     "schema_version": 3,
     "solution": false,
     "task": false
    }
   },
   "source": [
    "### Here is the code which computes the world coordinates for the detected landmarks."
   ]
  },
  {
   "cell_type": "code",
   "execution_count": 20,
   "metadata": {},
   "outputs": [],
   "source": [
    "# For each cylinder in the scan, find its cartesian coordinates,\n",
    "# in the world coordinate system.\n",
    "# Write the result to a file which contains all cylinders, for all scans.\n",
    "# 04_a_project_landmarks\n",
    "from lego_robot import *\n",
    "from slam_b_library import filter_step, compute_derivative,\\\n",
    "     find_cylinders, compute_cartesian_coordinates\n",
    "\n",
    "# Put all cylinder extraction and position finding into one function.\n",
    "def compute_scanner_cylinders(scan, jump, min_dist, cylinder_offset):\n",
    "    der = compute_derivative(scan, min_dist)\n",
    "    cylinders = find_cylinders(scan, der, jump, min_dist)\n",
    "    scanner_cylinders = compute_cartesian_coordinates(cylinders, cylinder_offset)\n",
    "    return scanner_cylinders\n",
    "\n",
    "# Utility to write a list of cylinders to (one line of) a given file.\n",
    "# Line header defines the start of each line, e.g. \"D C\" for a detected\n",
    "# cylinder or \"W C\" for a world cylinder.\n",
    "def write_cylinders(file_desc, line_header, cylinder_list):\n",
    "    print(line_header, end=' ', file=file_desc)\n",
    "    for c in cylinder_list:\n",
    "        print(\"%.1f %.1f\" % c, end=' ', file=file_desc)\n",
    "    print(file=file_desc)\n",
    "\n",
    "if __name__ == '__main__':\n",
    "    # The constants we used for the filter_step.\n",
    "    scanner_displacement = 30.0\n",
    "    ticks_to_mm = 0.349\n",
    "    robot_width = 150.0\n",
    "\n",
    "    # The constants we used for the cylinder detection in our scan.    \n",
    "    minimum_valid_distance = 20.0\n",
    "    depth_jump = 100.0\n",
    "    cylinder_offset = 90.0\n",
    "\n",
    "    # The start pose we obtained miraculously.\n",
    "    pose = (1850.0, 1897.0, 3.717551306747922)\n",
    "\n",
    "    # Read the logfile which contains all scans.\n",
    "    logfile = LegoLogfile()\n",
    "    logfile.read(\"robot4_motors.txt\")\n",
    "    logfile.read(\"robot4_scan.txt\")\n",
    "\n",
    "    # Iterate over all positions.\n",
    "    out_file = open(\"project_landmarks.txt\", \"w\")\n",
    "    for i in range(len(logfile.scan_data)):\n",
    "        # Compute the new pose.\n",
    "        pose = filter_step(pose, logfile.motor_ticks[i],\n",
    "                           ticks_to_mm, robot_width,\n",
    "                           scanner_displacement)\n",
    "\n",
    "        # Extract cylinders, also convert them to world coordinates.\n",
    "        cartesian_cylinders = compute_scanner_cylinders(\n",
    "            logfile.scan_data[i],\n",
    "            depth_jump, minimum_valid_distance, cylinder_offset)\n",
    "        world_cylinders = [LegoLogfile.scanner_to_world(pose, c)\n",
    "                           for c in cartesian_cylinders]\n",
    "\n",
    "        # Write results to file.\n",
    "        # The pose.\n",
    "        print(\"F %f %f %f\" % pose, file=out_file)\n",
    "        # The detected cylinders in the scanner's coordinate system.\n",
    "        write_cylinders(out_file, \"D C\", cartesian_cylinders)\n",
    "        # The detected cylinders in the world coordinate system.\n",
    "        write_cylinders(out_file, \"W C\", world_cylinders)\n",
    "\n",
    "    out_file.close()"
   ]
  },
  {
   "cell_type": "markdown",
   "metadata": {
    "deletable": false,
    "editable": false,
    "nbgrader": {
     "cell_type": "markdown",
     "checksum": "bd8fc14a81e88abd447ea7134c80d9c8",
     "grade": false,
     "grade_id": "cell-50cfb508c2d89769",
     "locked": true,
     "schema_version": 3,
     "solution": false,
     "task": false
    }
   },
   "source": [
    "### Let's have a look at the produced cylinder (world) coordinates.\n",
    "This reproduces the results shown in the video.\n",
    "\n",
    "You can see that in the beginning, the detected landmarks, projected to world coordinates, fit reasonably well to the landmarks in the map. However, as the pose of the robot starts to drift away from the true pose, during the first left turn, the landmarks also drift away from their expected (map) location."
   ]
  },
  {
   "cell_type": "code",
   "execution_count": 21,
   "metadata": {},
   "outputs": [
    {
     "data": {
      "image/svg+xml": "<?xml version=\"1.0\" encoding=\"utf-8\" standalone=\"no\"?>\r\n<!DOCTYPE svg PUBLIC \"-//W3C//DTD SVG 1.1//EN\"\r\n  \"http://www.w3.org/Graphics/SVG/1.1/DTD/svg11.dtd\">\r\n<!-- Created with matplotlib (https://matplotlib.org/) -->\r\n<svg height=\"289.7pt\" version=\"1.1\" viewBox=\"0 0 289.7 289.7\" width=\"289.7pt\" xmlns=\"http://www.w3.org/2000/svg\" xmlns:xlink=\"http://www.w3.org/1999/xlink\">\r\n <metadata>\r\n  <rdf:RDF xmlns:cc=\"http://creativecommons.org/ns#\" xmlns:dc=\"http://purl.org/dc/elements/1.1/\" xmlns:rdf=\"http://www.w3.org/1999/02/22-rdf-syntax-ns#\">\r\n   <cc:Work>\r\n    <dc:type rdf:resource=\"http://purl.org/dc/dcmitype/StillImage\"/>\r\n    <dc:date>2021-11-12T21:01:55.582917</dc:date>\r\n    <dc:format>image/svg+xml</dc:format>\r\n    <dc:creator>\r\n     <cc:Agent>\r\n      <dc:title>Matplotlib v3.3.4, https://matplotlib.org/</dc:title>\r\n     </cc:Agent>\r\n    </dc:creator>\r\n   </cc:Work>\r\n  </rdf:RDF>\r\n </metadata>\r\n <defs>\r\n  <style type=\"text/css\">*{stroke-linecap:butt;stroke-linejoin:round;}</style>\r\n </defs>\r\n <g id=\"figure_1\">\r\n  <g id=\"patch_1\">\r\n   <path d=\"M 0 289.7 \r\nL 289.7 289.7 \r\nL 289.7 0 \r\nL 0 0 \r\nz\r\n\" style=\"fill:none;\"/>\r\n  </g>\r\n  <g id=\"axes_1\">\r\n   <g id=\"patch_2\">\r\n    <path d=\"M 10.7 279 \r\nL 282.5 279 \r\nL 282.5 7.2 \r\nL 10.7 7.2 \r\nz\r\n\" style=\"fill:#ffffff;\"/>\r\n   </g>\r\n   <g id=\"patch_3\">\r\n    <path clip-path=\"url(#p0194955262)\" d=\"M 181.867707 36.899122 \r\nC 183.80162 36.899122 185.656585 36.13077 187.024068 34.763287 \r\nC 188.391551 33.395805 189.159902 31.54084 189.159902 29.606927 \r\nC 189.159902 27.673014 188.391551 25.818049 187.024068 24.450566 \r\nC 185.656585 23.083083 183.80162 22.314732 181.867707 22.314732 \r\nC 179.933795 22.314732 178.07883 23.083083 176.711347 24.450566 \r\nC 175.343864 25.818049 174.575512 27.673014 174.575512 29.606927 \r\nC 174.575512 31.54084 175.343864 33.395805 176.711347 34.763287 \r\nC 178.07883 36.13077 179.933795 36.899122 181.867707 36.899122 \r\nz\r\n\" style=\"fill:#808080;stroke:#808080;stroke-linejoin:miter;\"/>\r\n   </g>\r\n   <g id=\"patch_4\">\r\n    <path clip-path=\"url(#p0194955262)\" d=\"M 74.606146 195.868976 \r\nC 76.540059 195.868976 78.395024 195.100624 79.762507 193.733141 \r\nC 81.12999 192.365658 81.898341 190.510693 81.898341 188.57678 \r\nC 81.898341 186.642868 81.12999 184.787903 79.762507 183.42042 \r\nC 78.395024 182.052937 76.540059 181.284585 74.606146 181.284585 \r\nC 72.672234 181.284585 70.817269 182.052937 69.449786 183.42042 \r\nC 68.082303 184.787903 67.313951 186.642868 67.313951 188.57678 \r\nC 67.313951 190.510693 68.082303 192.365658 69.449786 193.733141 \r\nC 70.817269 195.100624 72.672234 195.868976 74.606146 195.868976 \r\nz\r\n\" style=\"fill:#808080;stroke:#808080;stroke-linejoin:miter;\"/>\r\n   </g>\r\n   <g id=\"patch_5\">\r\n    <path clip-path=\"url(#p0194955262)\" d=\"M 168.609171 187.250927 \r\nC 170.543083 187.250927 172.398049 186.482575 173.765531 185.115092 \r\nC 175.133014 183.74761 175.901366 181.892644 175.901366 179.958732 \r\nC 175.901366 178.024819 175.133014 176.169854 173.765531 174.802371 \r\nC 172.398049 173.434888 170.543083 172.666537 168.609171 172.666537 \r\nC 166.675258 172.666537 164.820293 173.434888 163.45281 174.802371 \r\nC 162.085327 176.169854 161.316976 178.024819 161.316976 179.958732 \r\nC 161.316976 181.892644 162.085327 183.74761 163.45281 185.115092 \r\nC 164.820293 186.482575 166.675258 187.250927 168.609171 187.250927 \r\nz\r\n\" style=\"fill:#808080;stroke:#808080;stroke-linejoin:miter;\"/>\r\n   </g>\r\n   <g id=\"patch_6\">\r\n    <path clip-path=\"url(#p0194955262)\" d=\"M 235.167024 148.005659 \r\nC 237.100937 148.005659 238.955902 147.237307 240.323385 145.869824 \r\nC 241.690868 144.502341 242.45922 142.647376 242.45922 140.713463 \r\nC 242.45922 138.779551 241.690868 136.924586 240.323385 135.557103 \r\nC 238.955902 134.18962 237.100937 133.421268 235.167024 133.421268 \r\nC 233.233112 133.421268 231.378147 134.18962 230.010664 135.557103 \r\nC 228.643181 136.924586 227.874829 138.779551 227.874829 140.713463 \r\nC 227.874829 142.647376 228.643181 144.502341 230.010664 145.869824 \r\nC 231.378147 147.237307 233.233112 148.005659 235.167024 148.005659 \r\nz\r\n\" style=\"fill:#808080;stroke:#808080;stroke-linejoin:miter;\"/>\r\n   </g>\r\n   <g id=\"patch_7\">\r\n    <path clip-path=\"url(#p0194955262)\" d=\"M 61.480195 92.982732 \r\nC 63.414108 92.982732 65.269073 92.21438 66.636556 90.846897 \r\nC 68.004039 89.479414 68.77239 87.624449 68.77239 85.690537 \r\nC 68.77239 83.756624 68.004039 81.901659 66.636556 80.534176 \r\nC 65.269073 79.166693 63.414108 78.398341 61.480195 78.398341 \r\nC 59.546282 78.398341 57.691317 79.166693 56.323835 80.534176 \r\nC 54.956352 81.901659 54.188 83.756624 54.188 85.690537 \r\nC 54.188 87.624449 54.956352 89.479414 56.323835 90.846897 \r\nC 57.691317 92.21438 59.546282 92.982732 61.480195 92.982732 \r\nz\r\n\" style=\"fill:#808080;stroke:#808080;stroke-linejoin:miter;\"/>\r\n   </g>\r\n   <g id=\"patch_8\">\r\n    <path clip-path=\"url(#p0194955262)\" d=\"M 250.016585 261.100976 \r\nC 251.950498 261.100976 253.805463 260.332624 255.172946 258.965141 \r\nC 256.540429 257.597658 257.30878 255.742693 257.30878 253.80878 \r\nC 257.30878 251.874868 256.540429 250.019903 255.172946 248.65242 \r\nC 253.805463 247.284937 251.950498 246.516585 250.016585 246.516585 \r\nC 248.082673 246.516585 246.227708 247.284937 244.860225 248.65242 \r\nC 243.492742 250.019903 242.72439 251.874868 242.72439 253.80878 \r\nC 242.72439 255.742693 243.492742 257.597658 244.860225 258.965141 \r\nC 246.227708 260.332624 248.082673 261.100976 250.016585 261.100976 \r\nz\r\n\" style=\"fill:#808080;stroke:#808080;stroke-linejoin:miter;\"/>\r\n   </g>\r\n   <g id=\"matplotlib.axis_1\"/>\r\n   <g id=\"matplotlib.axis_2\"/>\r\n   <g id=\"patch_9\">\r\n    <path d=\"M 10.7 279 \r\nL 10.7 7.2 \r\n\" style=\"fill:none;stroke:#000000;stroke-linecap:square;stroke-linejoin:miter;stroke-width:0.8;\"/>\r\n   </g>\r\n   <g id=\"patch_10\">\r\n    <path d=\"M 282.5 279 \r\nL 282.5 7.2 \r\n\" style=\"fill:none;stroke:#000000;stroke-linecap:square;stroke-linejoin:miter;stroke-width:0.8;\"/>\r\n   </g>\r\n   <g id=\"patch_11\">\r\n    <path d=\"M 10.7 279 \r\nL 282.5 279 \r\n\" style=\"fill:none;stroke:#000000;stroke-linecap:square;stroke-linejoin:miter;stroke-width:0.8;\"/>\r\n   </g>\r\n   <g id=\"patch_12\">\r\n    <path d=\"M 10.7 7.2 \r\nL 282.5 7.2 \r\n\" style=\"fill:none;stroke:#000000;stroke-linecap:square;stroke-linejoin:miter;stroke-width:0.8;\"/>\r\n   </g>\r\n   <g id=\"PathCollection_1\">\r\n    <defs>\r\n     <path d=\"M 0 1 \r\nC 0.265203 1 0.51958 0.894634 0.707107 0.707107 \r\nC 0.894634 0.51958 1 0.265203 1 0 \r\nC 1 -0.265203 0.894634 -0.51958 0.707107 -0.707107 \r\nC 0.51958 -0.894634 0.265203 -1 0 -1 \r\nC -0.265203 -1 -0.51958 -0.894634 -0.707107 -0.707107 \r\nC -0.894634 -0.51958 -1 -0.265203 -1 0 \r\nC -1 0.265203 -0.894634 0.51958 -0.707107 0.707107 \r\nC -0.51958 0.894634 -0.265203 1 0 1 \r\nz\r\n\" id=\"mb8492a67f9\" style=\"stroke:#add8e6;\"/>\r\n    </defs>\r\n    <g clip-path=\"url(#p0194955262)\">\r\n     <use style=\"fill:#add8e6;stroke:#add8e6;\" x=\"255.982927\" xlink:href=\"#mb8492a67f9\" y=\"27.485561\"/>\r\n     <use style=\"fill:#add8e6;stroke:#add8e6;\" x=\"255.982927\" xlink:href=\"#mb8492a67f9\" y=\"27.485561\"/>\r\n     <use style=\"fill:#add8e6;stroke:#add8e6;\" x=\"255.982927\" xlink:href=\"#mb8492a67f9\" y=\"27.485561\"/>\r\n     <use style=\"fill:#add8e6;stroke:#add8e6;\" x=\"255.982927\" xlink:href=\"#mb8492a67f9\" y=\"27.485561\"/>\r\n     <use style=\"fill:#add8e6;stroke:#add8e6;\" x=\"255.982927\" xlink:href=\"#mb8492a67f9\" y=\"27.485561\"/>\r\n     <use style=\"fill:#add8e6;stroke:#add8e6;\" x=\"255.982927\" xlink:href=\"#mb8492a67f9\" y=\"27.485561\"/>\r\n     <use style=\"fill:#add8e6;stroke:#add8e6;\" x=\"255.982927\" xlink:href=\"#mb8492a67f9\" y=\"27.485561\"/>\r\n     <use style=\"fill:#add8e6;stroke:#add8e6;\" x=\"255.982927\" xlink:href=\"#mb8492a67f9\" y=\"27.485561\"/>\r\n     <use style=\"fill:#add8e6;stroke:#add8e6;\" x=\"255.982927\" xlink:href=\"#mb8492a67f9\" y=\"27.485561\"/>\r\n     <use style=\"fill:#add8e6;stroke:#add8e6;\" x=\"255.982927\" xlink:href=\"#mb8492a67f9\" y=\"27.485561\"/>\r\n     <use style=\"fill:#add8e6;stroke:#add8e6;\" x=\"255.982927\" xlink:href=\"#mb8492a67f9\" y=\"27.485561\"/>\r\n     <use style=\"fill:#add8e6;stroke:#add8e6;\" x=\"255.982927\" xlink:href=\"#mb8492a67f9\" y=\"27.485561\"/>\r\n     <use style=\"fill:#add8e6;stroke:#add8e6;\" x=\"255.982927\" xlink:href=\"#mb8492a67f9\" y=\"27.485561\"/>\r\n     <use style=\"fill:#add8e6;stroke:#add8e6;\" x=\"253.227615\" xlink:href=\"#mb8492a67f9\" y=\"29.274881\"/>\r\n     <use style=\"fill:#add8e6;stroke:#add8e6;\" x=\"248.299099\" xlink:href=\"#mb8492a67f9\" y=\"32.475497\"/>\r\n     <use style=\"fill:#add8e6;stroke:#add8e6;\" x=\"243.303579\" xlink:href=\"#mb8492a67f9\" y=\"35.700344\"/>\r\n     <use style=\"fill:#add8e6;stroke:#add8e6;\" x=\"238.289898\" xlink:href=\"#mb8492a67f9\" y=\"38.939706\"/>\r\n     <use style=\"fill:#add8e6;stroke:#add8e6;\" x=\"238.289898\" xlink:href=\"#mb8492a67f9\" y=\"38.939706\"/>\r\n     <use style=\"fill:#add8e6;stroke:#add8e6;\" x=\"233.315083\" xlink:href=\"#mb8492a67f9\" y=\"42.153957\"/>\r\n     <use style=\"fill:#add8e6;stroke:#add8e6;\" x=\"228.329625\" xlink:href=\"#mb8492a67f9\" y=\"45.394338\"/>\r\n     <use style=\"fill:#add8e6;stroke:#add8e6;\" x=\"223.334105\" xlink:href=\"#mb8492a67f9\" y=\"48.619185\"/>\r\n     <use style=\"fill:#add8e6;stroke:#add8e6;\" x=\"218.348646\" xlink:href=\"#mb8492a67f9\" y=\"51.859566\"/>\r\n     <use style=\"fill:#add8e6;stroke:#add8e6;\" x=\"218.348646\" xlink:href=\"#mb8492a67f9\" y=\"51.859566\"/>\r\n     <use style=\"fill:#add8e6;stroke:#add8e6;\" x=\"213.353126\" xlink:href=\"#mb8492a67f9\" y=\"55.084413\"/>\r\n     <use style=\"fill:#add8e6;stroke:#add8e6;\" x=\"208.367668\" xlink:href=\"#mb8492a67f9\" y=\"58.324794\"/>\r\n     <use style=\"fill:#add8e6;stroke:#add8e6;\" x=\"208.367668\" xlink:href=\"#mb8492a67f9\" y=\"58.324794\"/>\r\n     <use style=\"fill:#add8e6;stroke:#add8e6;\" x=\"203.372147\" xlink:href=\"#mb8492a67f9\" y=\"61.549641\"/>\r\n     <use style=\"fill:#add8e6;stroke:#add8e6;\" x=\"198.386689\" xlink:href=\"#mb8492a67f9\" y=\"64.790022\"/>\r\n     <use style=\"fill:#add8e6;stroke:#add8e6;\" x=\"193.391168\" xlink:href=\"#mb8492a67f9\" y=\"68.014868\"/>\r\n     <use style=\"fill:#add8e6;stroke:#add8e6;\" x=\"188.40571\" xlink:href=\"#mb8492a67f9\" y=\"71.25525\"/>\r\n     <use style=\"fill:#add8e6;stroke:#add8e6;\" x=\"183.41019\" xlink:href=\"#mb8492a67f9\" y=\"74.480096\"/>\r\n     <use style=\"fill:#add8e6;stroke:#add8e6;\" x=\"183.41019\" xlink:href=\"#mb8492a67f9\" y=\"74.480096\"/>\r\n     <use style=\"fill:#add8e6;stroke:#add8e6;\" x=\"178.424732\" xlink:href=\"#mb8492a67f9\" y=\"77.720477\"/>\r\n     <use style=\"fill:#add8e6;stroke:#add8e6;\" x=\"173.429211\" xlink:href=\"#mb8492a67f9\" y=\"80.945324\"/>\r\n     <use style=\"fill:#add8e6;stroke:#add8e6;\" x=\"168.415531\" xlink:href=\"#mb8492a67f9\" y=\"84.184686\"/>\r\n     <use style=\"fill:#add8e6;stroke:#add8e6;\" x=\"168.415531\" xlink:href=\"#mb8492a67f9\" y=\"84.184686\"/>\r\n     <use style=\"fill:#add8e6;stroke:#add8e6;\" x=\"163.440716\" xlink:href=\"#mb8492a67f9\" y=\"87.398938\"/>\r\n     <use style=\"fill:#add8e6;stroke:#add8e6;\" x=\"158.455258\" xlink:href=\"#mb8492a67f9\" y=\"90.639319\"/>\r\n     <use style=\"fill:#add8e6;stroke:#add8e6;\" x=\"153.459737\" xlink:href=\"#mb8492a67f9\" y=\"93.864165\"/>\r\n     <use style=\"fill:#add8e6;stroke:#add8e6;\" x=\"148.446056\" xlink:href=\"#mb8492a67f9\" y=\"97.103528\"/>\r\n     <use style=\"fill:#add8e6;stroke:#add8e6;\" x=\"148.446056\" xlink:href=\"#mb8492a67f9\" y=\"97.103528\"/>\r\n     <use style=\"fill:#add8e6;stroke:#add8e6;\" x=\"143.471242\" xlink:href=\"#mb8492a67f9\" y=\"100.317779\"/>\r\n     <use style=\"fill:#add8e6;stroke:#add8e6;\" x=\"138.485784\" xlink:href=\"#mb8492a67f9\" y=\"103.55816\"/>\r\n     <use style=\"fill:#add8e6;stroke:#add8e6;\" x=\"133.490263\" xlink:href=\"#mb8492a67f9\" y=\"106.783007\"/>\r\n     <use style=\"fill:#add8e6;stroke:#add8e6;\" x=\"133.490263\" xlink:href=\"#mb8492a67f9\" y=\"106.783007\"/>\r\n     <use style=\"fill:#add8e6;stroke:#add8e6;\" x=\"128.504805\" xlink:href=\"#mb8492a67f9\" y=\"110.023388\"/>\r\n     <use style=\"fill:#add8e6;stroke:#add8e6;\" x=\"123.509284\" xlink:href=\"#mb8492a67f9\" y=\"113.248235\"/>\r\n     <use style=\"fill:#add8e6;stroke:#add8e6;\" x=\"118.495604\" xlink:href=\"#mb8492a67f9\" y=\"116.487597\"/>\r\n     <use style=\"fill:#add8e6;stroke:#add8e6;\" x=\"113.443057\" xlink:href=\"#mb8492a67f9\" y=\"119.752071\"/>\r\n     <use style=\"fill:#add8e6;stroke:#add8e6;\" x=\"113.443057\" xlink:href=\"#mb8492a67f9\" y=\"119.752071\"/>\r\n     <use style=\"fill:#add8e6;stroke:#add8e6;\" x=\"108.457599\" xlink:href=\"#mb8492a67f9\" y=\"122.992452\"/>\r\n     <use style=\"fill:#add8e6;stroke:#add8e6;\" x=\"103.462079\" xlink:href=\"#mb8492a67f9\" y=\"126.217299\"/>\r\n     <use style=\"fill:#add8e6;stroke:#add8e6;\" x=\"98.476621\" xlink:href=\"#mb8492a67f9\" y=\"129.45768\"/>\r\n     <use style=\"fill:#add8e6;stroke:#add8e6;\" x=\"98.476621\" xlink:href=\"#mb8492a67f9\" y=\"129.45768\"/>\r\n     <use style=\"fill:#add8e6;stroke:#add8e6;\" x=\"93.4811\" xlink:href=\"#mb8492a67f9\" y=\"132.682527\"/>\r\n     <use style=\"fill:#add8e6;stroke:#add8e6;\" x=\"88.495642\" xlink:href=\"#mb8492a67f9\" y=\"135.922908\"/>\r\n     <use style=\"fill:#add8e6;stroke:#add8e6;\" x=\"83.500121\" xlink:href=\"#mb8492a67f9\" y=\"139.147754\"/>\r\n     <use style=\"fill:#add8e6;stroke:#add8e6;\" x=\"83.500121\" xlink:href=\"#mb8492a67f9\" y=\"139.147754\"/>\r\n     <use style=\"fill:#add8e6;stroke:#add8e6;\" x=\"78.514663\" xlink:href=\"#mb8492a67f9\" y=\"142.388136\"/>\r\n     <use style=\"fill:#add8e6;stroke:#add8e6;\" x=\"73.519143\" xlink:href=\"#mb8492a67f9\" y=\"145.612982\"/>\r\n     <use style=\"fill:#add8e6;stroke:#add8e6;\" x=\"68.586989\" xlink:href=\"#mb8492a67f9\" y=\"148.934439\"/>\r\n     <use style=\"fill:#add8e6;stroke:#add8e6;\" x=\"64.094152\" xlink:href=\"#mb8492a67f9\" y=\"152.775047\"/>\r\n     <use style=\"fill:#add8e6;stroke:#add8e6;\" x=\"64.094152\" xlink:href=\"#mb8492a67f9\" y=\"152.775047\"/>\r\n     <use style=\"fill:#add8e6;stroke:#add8e6;\" x=\"59.944816\" xlink:href=\"#mb8492a67f9\" y=\"157.080403\"/>\r\n     <use style=\"fill:#add8e6;stroke:#add8e6;\" x=\"56.263205\" xlink:href=\"#mb8492a67f9\" y=\"161.763274\"/>\r\n     <use style=\"fill:#add8e6;stroke:#add8e6;\" x=\"53.068073\" xlink:href=\"#mb8492a67f9\" y=\"166.762712\"/>\r\n     <use style=\"fill:#add8e6;stroke:#add8e6;\" x=\"50.375952\" xlink:href=\"#mb8492a67f9\" y=\"172.050029\"/>\r\n     <use style=\"fill:#add8e6;stroke:#add8e6;\" x=\"50.375952\" xlink:href=\"#mb8492a67f9\" y=\"172.050029\"/>\r\n     <use style=\"fill:#add8e6;stroke:#add8e6;\" x=\"48.237178\" xlink:href=\"#mb8492a67f9\" y=\"177.560158\"/>\r\n     <use style=\"fill:#add8e6;stroke:#add8e6;\" x=\"46.628814\" xlink:href=\"#mb8492a67f9\" y=\"183.343639\"/>\r\n     <use style=\"fill:#add8e6;stroke:#add8e6;\" x=\"45.638793\" xlink:href=\"#mb8492a67f9\" y=\"189.123979\"/>\r\n     <use style=\"fill:#add8e6;stroke:#add8e6;\" x=\"45.186225\" xlink:href=\"#mb8492a67f9\" y=\"195.062584\"/>\r\n     <use style=\"fill:#add8e6;stroke:#add8e6;\" x=\"45.186225\" xlink:href=\"#mb8492a67f9\" y=\"195.062584\"/>\r\n     <use style=\"fill:#add8e6;stroke:#add8e6;\" x=\"45.915167\" xlink:href=\"#mb8492a67f9\" y=\"201.092758\"/>\r\n     <use style=\"fill:#add8e6;stroke:#add8e6;\" x=\"47.802156\" xlink:href=\"#mb8492a67f9\" y=\"206.72742\"/>\r\n     <use style=\"fill:#add8e6;stroke:#add8e6;\" x=\"50.638202\" xlink:href=\"#mb8492a67f9\" y=\"211.838023\"/>\r\n     <use style=\"fill:#add8e6;stroke:#add8e6;\" x=\"50.638202\" xlink:href=\"#mb8492a67f9\" y=\"211.838023\"/>\r\n     <use style=\"fill:#add8e6;stroke:#add8e6;\" x=\"54.010549\" xlink:href=\"#mb8492a67f9\" y=\"216.140586\"/>\r\n     <use style=\"fill:#add8e6;stroke:#add8e6;\" x=\"58.122776\" xlink:href=\"#mb8492a67f9\" y=\"219.951023\"/>\r\n     <use style=\"fill:#add8e6;stroke:#add8e6;\" x=\"62.682928\" xlink:href=\"#mb8492a67f9\" y=\"223.045393\"/>\r\n     <use style=\"fill:#add8e6;stroke:#add8e6;\" x=\"62.682928\" xlink:href=\"#mb8492a67f9\" y=\"223.045393\"/>\r\n     <use style=\"fill:#add8e6;stroke:#add8e6;\" x=\"67.645019\" xlink:href=\"#mb8492a67f9\" y=\"225.391556\"/>\r\n     <use style=\"fill:#add8e6;stroke:#add8e6;\" x=\"72.790593\" xlink:href=\"#mb8492a67f9\" y=\"227.002491\"/>\r\n     <use style=\"fill:#add8e6;stroke:#add8e6;\" x=\"78.36553\" xlink:href=\"#mb8492a67f9\" y=\"227.788484\"/>\r\n     <use style=\"fill:#add8e6;stroke:#add8e6;\" x=\"83.899764\" xlink:href=\"#mb8492a67f9\" y=\"227.714143\"/>\r\n     <use style=\"fill:#add8e6;stroke:#add8e6;\" x=\"83.899764\" xlink:href=\"#mb8492a67f9\" y=\"227.714143\"/>\r\n     <use style=\"fill:#add8e6;stroke:#add8e6;\" x=\"89.311352\" xlink:href=\"#mb8492a67f9\" y=\"226.796787\"/>\r\n     <use style=\"fill:#add8e6;stroke:#add8e6;\" x=\"94.555868\" xlink:href=\"#mb8492a67f9\" y=\"225.02266\"/>\r\n     <use style=\"fill:#add8e6;stroke:#add8e6;\" x=\"99.4683\" xlink:href=\"#mb8492a67f9\" y=\"222.472898\"/>\r\n     <use style=\"fill:#add8e6;stroke:#add8e6;\" x=\"99.4683\" xlink:href=\"#mb8492a67f9\" y=\"222.472898\"/>\r\n     <use style=\"fill:#add8e6;stroke:#add8e6;\" x=\"104.685927\" xlink:href=\"#mb8492a67f9\" y=\"219.716311\"/>\r\n     <use style=\"fill:#add8e6;stroke:#add8e6;\" x=\"109.952583\" xlink:href=\"#mb8492a67f9\" y=\"216.956384\"/>\r\n     <use style=\"fill:#add8e6;stroke:#add8e6;\" x=\"115.227805\" xlink:href=\"#mb8492a67f9\" y=\"214.212865\"/>\r\n     <use style=\"fill:#add8e6;stroke:#add8e6;\" x=\"120.440376\" xlink:href=\"#mb8492a67f9\" y=\"211.499324\"/>\r\n     <use style=\"fill:#add8e6;stroke:#add8e6;\" x=\"120.440376\" xlink:href=\"#mb8492a67f9\" y=\"211.499324\"/>\r\n     <use style=\"fill:#add8e6;stroke:#add8e6;\" x=\"125.707032\" xlink:href=\"#mb8492a67f9\" y=\"208.739397\"/>\r\n     <use style=\"fill:#add8e6;stroke:#add8e6;\" x=\"130.995265\" xlink:href=\"#mb8492a67f9\" y=\"205.970813\"/>\r\n     <use style=\"fill:#add8e6;stroke:#add8e6;\" x=\"136.324491\" xlink:href=\"#mb8492a67f9\" y=\"203.180766\"/>\r\n     <use style=\"fill:#add8e6;stroke:#add8e6;\" x=\"141.599713\" xlink:href=\"#mb8492a67f9\" y=\"200.437247\"/>\r\n     <use style=\"fill:#add8e6;stroke:#add8e6;\" x=\"141.599713\" xlink:href=\"#mb8492a67f9\" y=\"200.437247\"/>\r\n     <use style=\"fill:#add8e6;stroke:#add8e6;\" x=\"146.866369\" xlink:href=\"#mb8492a67f9\" y=\"197.67732\"/>\r\n     <use style=\"fill:#add8e6;stroke:#add8e6;\" x=\"152.072613\" xlink:href=\"#mb8492a67f9\" y=\"194.951659\"/>\r\n     <use style=\"fill:#add8e6;stroke:#add8e6;\" x=\"157.360845\" xlink:href=\"#mb8492a67f9\" y=\"192.183074\"/>\r\n     <use style=\"fill:#add8e6;stroke:#add8e6;\" x=\"157.360845\" xlink:href=\"#mb8492a67f9\" y=\"192.183074\"/>\r\n     <use style=\"fill:#add8e6;stroke:#add8e6;\" x=\"162.608084\" xlink:href=\"#mb8492a67f9\" y=\"189.435952\"/>\r\n     <use style=\"fill:#add8e6;stroke:#add8e6;\" x=\"167.896316\" xlink:href=\"#mb8492a67f9\" y=\"186.667367\"/>\r\n     <use style=\"fill:#add8e6;stroke:#add8e6;\" x=\"173.143554\" xlink:href=\"#mb8492a67f9\" y=\"183.920244\"/>\r\n     <use style=\"fill:#add8e6;stroke:#add8e6;\" x=\"178.431787\" xlink:href=\"#mb8492a67f9\" y=\"181.151659\"/>\r\n     <use style=\"fill:#add8e6;stroke:#add8e6;\" x=\"178.431787\" xlink:href=\"#mb8492a67f9\" y=\"181.151659\"/>\r\n     <use style=\"fill:#add8e6;stroke:#add8e6;\" x=\"183.590096\" xlink:href=\"#mb8492a67f9\" y=\"178.287366\"/>\r\n     <use style=\"fill:#add8e6;stroke:#add8e6;\" x=\"188.477256\" xlink:href=\"#mb8492a67f9\" y=\"174.801516\"/>\r\n     <use style=\"fill:#add8e6;stroke:#add8e6;\" x=\"192.584841\" xlink:href=\"#mb8492a67f9\" y=\"170.487582\"/>\r\n     <use style=\"fill:#add8e6;stroke:#add8e6;\" x=\"192.584841\" xlink:href=\"#mb8492a67f9\" y=\"170.487582\"/>\r\n     <use style=\"fill:#add8e6;stroke:#add8e6;\" x=\"195.766961\" xlink:href=\"#mb8492a67f9\" y=\"165.415049\"/>\r\n     <use style=\"fill:#add8e6;stroke:#add8e6;\" x=\"197.892135\" xlink:href=\"#mb8492a67f9\" y=\"160.27494\"/>\r\n     <use style=\"fill:#add8e6;stroke:#add8e6;\" x=\"199.240219\" xlink:href=\"#mb8492a67f9\" y=\"154.908627\"/>\r\n     <use style=\"fill:#add8e6;stroke:#add8e6;\" x=\"199.240219\" xlink:href=\"#mb8492a67f9\" y=\"154.908627\"/>\r\n     <use style=\"fill:#add8e6;stroke:#add8e6;\" x=\"199.747783\" xlink:href=\"#mb8492a67f9\" y=\"149.46729\"/>\r\n     <use style=\"fill:#add8e6;stroke:#add8e6;\" x=\"199.489444\" xlink:href=\"#mb8492a67f9\" y=\"144.057803\"/>\r\n     <use style=\"fill:#add8e6;stroke:#add8e6;\" x=\"198.381207\" xlink:href=\"#mb8492a67f9\" y=\"138.635157\"/>\r\n     <use style=\"fill:#add8e6;stroke:#add8e6;\" x=\"196.431536\" xlink:href=\"#mb8492a67f9\" y=\"134.084317\"/>\r\n     <use style=\"fill:#add8e6;stroke:#add8e6;\" x=\"196.431536\" xlink:href=\"#mb8492a67f9\" y=\"134.084317\"/>\r\n     <use style=\"fill:#add8e6;stroke:#add8e6;\" x=\"193.660273\" xlink:href=\"#mb8492a67f9\" y=\"130.031094\"/>\r\n     <use style=\"fill:#add8e6;stroke:#add8e6;\" x=\"190.193365\" xlink:href=\"#mb8492a67f9\" y=\"126.557633\"/>\r\n     <use style=\"fill:#add8e6;stroke:#add8e6;\" x=\"186.143541\" xlink:href=\"#mb8492a67f9\" y=\"123.785757\"/>\r\n     <use style=\"fill:#add8e6;stroke:#add8e6;\" x=\"186.143541\" xlink:href=\"#mb8492a67f9\" y=\"123.785757\"/>\r\n     <use style=\"fill:#add8e6;stroke:#add8e6;\" x=\"181.464541\" xlink:href=\"#mb8492a67f9\" y=\"121.817784\"/>\r\n     <use style=\"fill:#add8e6;stroke:#add8e6;\" x=\"176.58038\" xlink:href=\"#mb8492a67f9\" y=\"120.833981\"/>\r\n     <use style=\"fill:#add8e6;stroke:#add8e6;\" x=\"171.670489\" xlink:href=\"#mb8492a67f9\" y=\"120.79548\"/>\r\n     <use style=\"fill:#add8e6;stroke:#add8e6;\" x=\"166.442932\" xlink:href=\"#mb8492a67f9\" y=\"121.271025\"/>\r\n     <use style=\"fill:#add8e6;stroke:#add8e6;\" x=\"166.442932\" xlink:href=\"#mb8492a67f9\" y=\"121.271025\"/>\r\n     <use style=\"fill:#add8e6;stroke:#add8e6;\" x=\"160.459906\" xlink:href=\"#mb8492a67f9\" y=\"121.603698\"/>\r\n     <use style=\"fill:#add8e6;stroke:#add8e6;\" x=\"154.57033\" xlink:href=\"#mb8492a67f9\" y=\"121.949569\"/>\r\n     <use style=\"fill:#add8e6;stroke:#add8e6;\" x=\"148.657523\" xlink:href=\"#mb8492a67f9\" y=\"122.2944\"/>\r\n     <use style=\"fill:#add8e6;stroke:#add8e6;\" x=\"148.657523\" xlink:href=\"#mb8492a67f9\" y=\"122.2944\"/>\r\n     <use style=\"fill:#add8e6;stroke:#add8e6;\" x=\"142.6283\" xlink:href=\"#mb8492a67f9\" y=\"122.629713\"/>\r\n     <use style=\"fill:#add8e6;stroke:#add8e6;\" x=\"136.692527\" xlink:href=\"#mb8492a67f9\" y=\"122.978225\"/>\r\n     <use style=\"fill:#add8e6;stroke:#add8e6;\" x=\"130.755698\" xlink:href=\"#mb8492a67f9\" y=\"123.308258\"/>\r\n     <use style=\"fill:#add8e6;stroke:#add8e6;\" x=\"130.755698\" xlink:href=\"#mb8492a67f9\" y=\"123.308258\"/>\r\n     <use style=\"fill:#add8e6;stroke:#add8e6;\" x=\"124.888304\" xlink:href=\"#mb8492a67f9\" y=\"123.636744\"/>\r\n     <use style=\"fill:#add8e6;stroke:#add8e6;\" x=\"118.952531\" xlink:href=\"#mb8492a67f9\" y=\"123.985256\"/>\r\n     <use style=\"fill:#add8e6;stroke:#add8e6;\" x=\"113.015702\" xlink:href=\"#mb8492a67f9\" y=\"124.315288\"/>\r\n     <use style=\"fill:#add8e6;stroke:#add8e6;\" x=\"107.079929\" xlink:href=\"#mb8492a67f9\" y=\"124.6638\"/>\r\n     <use style=\"fill:#add8e6;stroke:#add8e6;\" x=\"101.1431\" xlink:href=\"#mb8492a67f9\" y=\"124.993833\"/>\r\n     <use style=\"fill:#add8e6;stroke:#add8e6;\" x=\"101.1431\" xlink:href=\"#mb8492a67f9\" y=\"124.993833\"/>\r\n     <use style=\"fill:#add8e6;stroke:#add8e6;\" x=\"95.183307\" xlink:href=\"#mb8492a67f9\" y=\"125.327492\"/>\r\n     <use style=\"fill:#add8e6;stroke:#add8e6;\" x=\"89.269714\" xlink:href=\"#mb8492a67f9\" y=\"125.658565\"/>\r\n     <use style=\"fill:#add8e6;stroke:#add8e6;\" x=\"83.309921\" xlink:href=\"#mb8492a67f9\" y=\"125.992224\"/>\r\n     <use style=\"fill:#add8e6;stroke:#add8e6;\" x=\"83.309921\" xlink:href=\"#mb8492a67f9\" y=\"125.992224\"/>\r\n     <use style=\"fill:#add8e6;stroke:#add8e6;\" x=\"77.354007\" xlink:href=\"#mb8492a67f9\" y=\"126.390561\"/>\r\n     <use style=\"fill:#add8e6;stroke:#add8e6;\" x=\"71.616051\" xlink:href=\"#mb8492a67f9\" y=\"127.989979\"/>\r\n     <use style=\"fill:#add8e6;stroke:#add8e6;\" x=\"67.064127\" xlink:href=\"#mb8492a67f9\" y=\"131.109358\"/>\r\n     <use style=\"fill:#add8e6;stroke:#add8e6;\" x=\"64.175501\" xlink:href=\"#mb8492a67f9\" y=\"134.545521\"/>\r\n     <use style=\"fill:#add8e6;stroke:#add8e6;\" x=\"64.175501\" xlink:href=\"#mb8492a67f9\" y=\"134.545521\"/>\r\n     <use style=\"fill:#add8e6;stroke:#add8e6;\" x=\"62.161086\" xlink:href=\"#mb8492a67f9\" y=\"138.661771\"/>\r\n     <use style=\"fill:#add8e6;stroke:#add8e6;\" x=\"61.211559\" xlink:href=\"#mb8492a67f9\" y=\"142.97458\"/>\r\n     <use style=\"fill:#add8e6;stroke:#add8e6;\" x=\"61.321753\" xlink:href=\"#mb8492a67f9\" y=\"147.462256\"/>\r\n     <use style=\"fill:#add8e6;stroke:#add8e6;\" x=\"61.321753\" xlink:href=\"#mb8492a67f9\" y=\"147.462256\"/>\r\n     <use style=\"fill:#add8e6;stroke:#add8e6;\" x=\"62.565972\" xlink:href=\"#mb8492a67f9\" y=\"151.876517\"/>\r\n     <use style=\"fill:#add8e6;stroke:#add8e6;\" x=\"64.747761\" xlink:href=\"#mb8492a67f9\" y=\"155.743948\"/>\r\n     <use style=\"fill:#add8e6;stroke:#add8e6;\" x=\"67.754258\" xlink:href=\"#mb8492a67f9\" y=\"158.978589\"/>\r\n     <use style=\"fill:#add8e6;stroke:#add8e6;\" x=\"71.329841\" xlink:href=\"#mb8492a67f9\" y=\"161.400922\"/>\r\n     <use style=\"fill:#add8e6;stroke:#add8e6;\" x=\"71.329841\" xlink:href=\"#mb8492a67f9\" y=\"161.400922\"/>\r\n     <use style=\"fill:#add8e6;stroke:#add8e6;\" x=\"75.434872\" xlink:href=\"#mb8492a67f9\" y=\"162.961859\"/>\r\n     <use style=\"fill:#add8e6;stroke:#add8e6;\" x=\"79.832688\" xlink:href=\"#mb8492a67f9\" y=\"163.549732\"/>\r\n     <use style=\"fill:#add8e6;stroke:#add8e6;\" x=\"85.526545\" xlink:href=\"#mb8492a67f9\" y=\"164.450912\"/>\r\n     <use style=\"fill:#add8e6;stroke:#add8e6;\" x=\"85.526545\" xlink:href=\"#mb8492a67f9\" y=\"164.450912\"/>\r\n     <use style=\"fill:#add8e6;stroke:#add8e6;\" x=\"91.345855\" xlink:href=\"#mb8492a67f9\" y=\"165.421666\"/>\r\n     <use style=\"fill:#add8e6;stroke:#add8e6;\" x=\"97.187584\" xlink:href=\"#mb8492a67f9\" y=\"166.398594\"/>\r\n     <use style=\"fill:#add8e6;stroke:#add8e6;\" x=\"103.074952\" xlink:href=\"#mb8492a67f9\" y=\"167.383154\"/>\r\n     <use style=\"fill:#add8e6;stroke:#add8e6;\" x=\"108.871044\" xlink:href=\"#mb8492a67f9\" y=\"168.35245\"/>\r\n     <use style=\"fill:#add8e6;stroke:#add8e6;\" x=\"108.871044\" xlink:href=\"#mb8492a67f9\" y=\"168.35245\"/>\r\n     <use style=\"fill:#add8e6;stroke:#add8e6;\" x=\"114.758412\" xlink:href=\"#mb8492a67f9\" y=\"169.33701\"/>\r\n     <use style=\"fill:#add8e6;stroke:#add8e6;\" x=\"120.64578\" xlink:href=\"#mb8492a67f9\" y=\"170.32157\"/>\r\n     <use style=\"fill:#add8e6;stroke:#add8e6;\" x=\"126.48751\" xlink:href=\"#mb8492a67f9\" y=\"171.298498\"/>\r\n     <use style=\"fill:#add8e6;stroke:#add8e6;\" x=\"132.374878\" xlink:href=\"#mb8492a67f9\" y=\"172.283058\"/>\r\n     <use style=\"fill:#add8e6;stroke:#add8e6;\" x=\"132.374878\" xlink:href=\"#mb8492a67f9\" y=\"172.283058\"/>\r\n     <use style=\"fill:#add8e6;stroke:#add8e6;\" x=\"138.389452\" xlink:href=\"#mb8492a67f9\" y=\"172.630515\"/>\r\n     <use style=\"fill:#add8e6;stroke:#add8e6;\" x=\"144.340436\" xlink:href=\"#mb8492a67f9\" y=\"172.367208\"/>\r\n     <use style=\"fill:#add8e6;stroke:#add8e6;\" x=\"150.235363\" xlink:href=\"#mb8492a67f9\" y=\"171.510834\"/>\r\n     <use style=\"fill:#add8e6;stroke:#add8e6;\" x=\"150.235363\" xlink:href=\"#mb8492a67f9\" y=\"171.510834\"/>\r\n     <use style=\"fill:#add8e6;stroke:#add8e6;\" x=\"155.995915\" xlink:href=\"#mb8492a67f9\" y=\"170.08982\"/>\r\n     <use style=\"fill:#add8e6;stroke:#add8e6;\" x=\"161.634872\" xlink:href=\"#mb8492a67f9\" y=\"168.101042\"/>\r\n     <use style=\"fill:#add8e6;stroke:#add8e6;\" x=\"166.981862\" xlink:href=\"#mb8492a67f9\" y=\"165.582\"/>\r\n     <use style=\"fill:#add8e6;stroke:#add8e6;\" x=\"166.981862\" xlink:href=\"#mb8492a67f9\" y=\"165.582\"/>\r\n     <use style=\"fill:#add8e6;stroke:#add8e6;\" x=\"172.03144\" xlink:href=\"#mb8492a67f9\" y=\"162.460681\"/>\r\n     <use style=\"fill:#add8e6;stroke:#add8e6;\" x=\"176.350921\" xlink:href=\"#mb8492a67f9\" y=\"158.313566\"/>\r\n     <use style=\"fill:#add8e6;stroke:#add8e6;\" x=\"179.740247\" xlink:href=\"#mb8492a67f9\" y=\"153.432725\"/>\r\n     <use style=\"fill:#add8e6;stroke:#add8e6;\" x=\"182.137132\" xlink:href=\"#mb8492a67f9\" y=\"148.441992\"/>\r\n     <use style=\"fill:#add8e6;stroke:#add8e6;\" x=\"182.137132\" xlink:href=\"#mb8492a67f9\" y=\"148.441992\"/>\r\n     <use style=\"fill:#add8e6;stroke:#add8e6;\" x=\"183.798144\" xlink:href=\"#mb8492a67f9\" y=\"143.264043\"/>\r\n     <use style=\"fill:#add8e6;stroke:#add8e6;\" x=\"184.688713\" xlink:href=\"#mb8492a67f9\" y=\"137.968737\"/>\r\n     <use style=\"fill:#add8e6;stroke:#add8e6;\" x=\"184.76422\" xlink:href=\"#mb8492a67f9\" y=\"132.434519\"/>\r\n     <use style=\"fill:#add8e6;stroke:#add8e6;\" x=\"184.620918\" xlink:href=\"#mb8492a67f9\" y=\"126.740615\"/>\r\n     <use style=\"fill:#add8e6;stroke:#add8e6;\" x=\"184.620918\" xlink:href=\"#mb8492a67f9\" y=\"126.740615\"/>\r\n     <use style=\"fill:#add8e6;stroke:#add8e6;\" x=\"184.542989\" xlink:href=\"#mb8492a67f9\" y=\"120.818274\"/>\r\n     <use style=\"fill:#add8e6;stroke:#add8e6;\" x=\"184.46506\" xlink:href=\"#mb8492a67f9\" y=\"114.895933\"/>\r\n     <use style=\"fill:#add8e6;stroke:#add8e6;\" x=\"184.38774\" xlink:href=\"#mb8492a67f9\" y=\"109.01986\"/>\r\n     <use style=\"fill:#add8e6;stroke:#add8e6;\" x=\"184.38774\" xlink:href=\"#mb8492a67f9\" y=\"109.01986\"/>\r\n     <use style=\"fill:#add8e6;stroke:#add8e6;\" x=\"184.292674\" xlink:href=\"#mb8492a67f9\" y=\"103.028347\"/>\r\n     <use style=\"fill:#add8e6;stroke:#add8e6;\" x=\"184.201683\" xlink:href=\"#mb8492a67f9\" y=\"97.15247\"/>\r\n     <use style=\"fill:#add8e6;stroke:#add8e6;\" x=\"184.109258\" xlink:href=\"#mb8492a67f9\" y=\"91.18406\"/>\r\n     <use style=\"fill:#add8e6;stroke:#add8e6;\" x=\"184.016834\" xlink:href=\"#mb8492a67f9\" y=\"85.21565\"/>\r\n     <use style=\"fill:#add8e6;stroke:#add8e6;\" x=\"184.016834\" xlink:href=\"#mb8492a67f9\" y=\"85.21565\"/>\r\n     <use style=\"fill:#add8e6;stroke:#add8e6;\" x=\"183.925126\" xlink:href=\"#mb8492a67f9\" y=\"79.293506\"/>\r\n     <use style=\"fill:#add8e6;stroke:#add8e6;\" x=\"183.26532\" xlink:href=\"#mb8492a67f9\" y=\"73.330548\"/>\r\n     <use style=\"fill:#add8e6;stroke:#add8e6;\" x=\"182.020885\" xlink:href=\"#mb8492a67f9\" y=\"67.529287\"/>\r\n     <use style=\"fill:#add8e6;stroke:#add8e6;\" x=\"182.020885\" xlink:href=\"#mb8492a67f9\" y=\"67.529287\"/>\r\n     <use style=\"fill:#add8e6;stroke:#add8e6;\" x=\"180.206478\" xlink:href=\"#mb8492a67f9\" y=\"61.904005\"/>\r\n     <use style=\"fill:#add8e6;stroke:#add8e6;\" x=\"177.808031\" xlink:href=\"#mb8492a67f9\" y=\"56.401011\"/>\r\n     <use style=\"fill:#add8e6;stroke:#add8e6;\" x=\"174.935961\" xlink:href=\"#mb8492a67f9\" y=\"51.262052\"/>\r\n     <use style=\"fill:#add8e6;stroke:#add8e6;\" x=\"174.935961\" xlink:href=\"#mb8492a67f9\" y=\"51.262052\"/>\r\n     <use style=\"fill:#add8e6;stroke:#add8e6;\" x=\"171.103397\" xlink:href=\"#mb8492a67f9\" y=\"46.644496\"/>\r\n     <use style=\"fill:#add8e6;stroke:#add8e6;\" x=\"166.458152\" xlink:href=\"#mb8492a67f9\" y=\"42.903806\"/>\r\n     <use style=\"fill:#add8e6;stroke:#add8e6;\" x=\"161.511742\" xlink:href=\"#mb8492a67f9\" y=\"40.161501\"/>\r\n     <use style=\"fill:#add8e6;stroke:#add8e6;\" x=\"156.381639\" xlink:href=\"#mb8492a67f9\" y=\"37.995083\"/>\r\n     <use style=\"fill:#add8e6;stroke:#add8e6;\" x=\"156.381639\" xlink:href=\"#mb8492a67f9\" y=\"37.995083\"/>\r\n     <use style=\"fill:#add8e6;stroke:#add8e6;\" x=\"150.942432\" xlink:href=\"#mb8492a67f9\" y=\"35.536326\"/>\r\n     <use style=\"fill:#add8e6;stroke:#add8e6;\" x=\"145.587554\" xlink:href=\"#mb8492a67f9\" y=\"33.115688\"/>\r\n     <use style=\"fill:#add8e6;stroke:#add8e6;\" x=\"139.97719\" xlink:href=\"#mb8492a67f9\" y=\"31.129347\"/>\r\n     <use style=\"fill:#add8e6;stroke:#add8e6;\" x=\"134.237616\" xlink:href=\"#mb8492a67f9\" y=\"29.721715\"/>\r\n     <use style=\"fill:#add8e6;stroke:#add8e6;\" x=\"134.237616\" xlink:href=\"#mb8492a67f9\" y=\"29.721715\"/>\r\n     <use style=\"fill:#add8e6;stroke:#add8e6;\" x=\"128.313866\" xlink:href=\"#mb8492a67f9\" y=\"28.900615\"/>\r\n     <use style=\"fill:#add8e6;stroke:#add8e6;\" x=\"122.315317\" xlink:href=\"#mb8492a67f9\" y=\"28.670618\"/>\r\n     <use style=\"fill:#add8e6;stroke:#add8e6;\" x=\"116.392683\" xlink:href=\"#mb8492a67f9\" y=\"29.02509\"/>\r\n     <use style=\"fill:#add8e6;stroke:#add8e6;\" x=\"116.392683\" xlink:href=\"#mb8492a67f9\" y=\"29.02509\"/>\r\n     <use style=\"fill:#add8e6;stroke:#add8e6;\" x=\"110.511921\" xlink:href=\"#mb8492a67f9\" y=\"29.973869\"/>\r\n     <use style=\"fill:#add8e6;stroke:#add8e6;\" x=\"104.819783\" xlink:href=\"#mb8492a67f9\" y=\"31.476284\"/>\r\n     <use style=\"fill:#add8e6;stroke:#add8e6;\" x=\"99.151447\" xlink:href=\"#mb8492a67f9\" y=\"33.588554\"/>\r\n     <use style=\"fill:#add8e6;stroke:#add8e6;\" x=\"93.908239\" xlink:href=\"#mb8492a67f9\" y=\"36.162499\"/>\r\n     <use style=\"fill:#add8e6;stroke:#add8e6;\" x=\"93.908239\" xlink:href=\"#mb8492a67f9\" y=\"36.162499\"/>\r\n     <use style=\"fill:#add8e6;stroke:#add8e6;\" x=\"88.818575\" xlink:href=\"#mb8492a67f9\" y=\"39.300714\"/>\r\n     <use style=\"fill:#add8e6;stroke:#add8e6;\" x=\"84.039751\" xlink:href=\"#mb8492a67f9\" y=\"42.972488\"/>\r\n     <use style=\"fill:#add8e6;stroke:#add8e6;\" x=\"79.675389\" xlink:href=\"#mb8492a67f9\" y=\"47.059715\"/>\r\n     <use style=\"fill:#add8e6;stroke:#add8e6;\" x=\"79.675389\" xlink:href=\"#mb8492a67f9\" y=\"47.059715\"/>\r\n     <use style=\"fill:#add8e6;stroke:#add8e6;\" x=\"75.791478\" xlink:href=\"#mb8492a67f9\" y=\"51.515172\"/>\r\n     <use style=\"fill:#add8e6;stroke:#add8e6;\" x=\"72.342762\" xlink:href=\"#mb8492a67f9\" y=\"56.372115\"/>\r\n     <use style=\"fill:#add8e6;stroke:#add8e6;\" x=\"69.369835\" xlink:href=\"#mb8492a67f9\" y=\"61.560061\"/>\r\n     <use style=\"fill:#add8e6;stroke:#add8e6;\" x=\"66.960597\" xlink:href=\"#mb8492a67f9\" y=\"66.931584\"/>\r\n     <use style=\"fill:#add8e6;stroke:#add8e6;\" x=\"66.960597\" xlink:href=\"#mb8492a67f9\" y=\"66.931584\"/>\r\n     <use style=\"fill:#add8e6;stroke:#add8e6;\" x=\"64.858569\" xlink:href=\"#mb8492a67f9\" y=\"72.473821\"/>\r\n     <use style=\"fill:#add8e6;stroke:#add8e6;\" x=\"62.673073\" xlink:href=\"#mb8492a67f9\" y=\"78.003601\"/>\r\n     <use style=\"fill:#add8e6;stroke:#add8e6;\" x=\"60.481258\" xlink:href=\"#mb8492a67f9\" y=\"83.555755\"/>\r\n     <use style=\"fill:#add8e6;stroke:#add8e6;\" x=\"60.481258\" xlink:href=\"#mb8492a67f9\" y=\"83.555755\"/>\r\n     <use style=\"fill:#add8e6;stroke:#add8e6;\" x=\"58.306434\" xlink:href=\"#mb8492a67f9\" y=\"89.064868\"/>\r\n     <use style=\"fill:#add8e6;stroke:#add8e6;\" x=\"56.138162\" xlink:href=\"#mb8492a67f9\" y=\"94.601425\"/>\r\n     <use style=\"fill:#add8e6;stroke:#add8e6;\" x=\"53.952667\" xlink:href=\"#mb8492a67f9\" y=\"100.131206\"/>\r\n     <use style=\"fill:#add8e6;stroke:#add8e6;\" x=\"51.743861\" xlink:href=\"#mb8492a67f9\" y=\"105.726399\"/>\r\n     <use style=\"fill:#add8e6;stroke:#add8e6;\" x=\"51.743861\" xlink:href=\"#mb8492a67f9\" y=\"105.726399\"/>\r\n     <use style=\"fill:#add8e6;stroke:#add8e6;\" x=\"50.155549\" xlink:href=\"#mb8492a67f9\" y=\"111.465561\"/>\r\n     <use style=\"fill:#add8e6;stroke:#add8e6;\" x=\"49.168403\" xlink:href=\"#mb8492a67f9\" y=\"117.222467\"/>\r\n     <use style=\"fill:#add8e6;stroke:#add8e6;\" x=\"48.741395\" xlink:href=\"#mb8492a67f9\" y=\"123.210217\"/>\r\n     <use style=\"fill:#add8e6;stroke:#add8e6;\" x=\"48.741395\" xlink:href=\"#mb8492a67f9\" y=\"123.210217\"/>\r\n     <use style=\"fill:#add8e6;stroke:#add8e6;\" x=\"48.89925\" xlink:href=\"#mb8492a67f9\" y=\"129.18752\"/>\r\n     <use style=\"fill:#add8e6;stroke:#add8e6;\" x=\"49.379317\" xlink:href=\"#mb8492a67f9\" y=\"135.094881\"/>\r\n     <use style=\"fill:#add8e6;stroke:#add8e6;\" x=\"49.783404\" xlink:href=\"#mb8492a67f9\" y=\"141.02713\"/>\r\n     <use style=\"fill:#add8e6;stroke:#add8e6;\" x=\"50.202738\" xlink:href=\"#mb8492a67f9\" y=\"146.911932\"/>\r\n     <use style=\"fill:#add8e6;stroke:#add8e6;\" x=\"50.202738\" xlink:href=\"#mb8492a67f9\" y=\"146.911932\"/>\r\n     <use style=\"fill:#add8e6;stroke:#add8e6;\" x=\"50.621323\" xlink:href=\"#mb8492a67f9\" y=\"152.819975\"/>\r\n     <use style=\"fill:#add8e6;stroke:#add8e6;\" x=\"51.02541\" xlink:href=\"#mb8492a67f9\" y=\"158.752224\"/>\r\n     <use style=\"fill:#add8e6;stroke:#add8e6;\" x=\"51.447961\" xlink:href=\"#mb8492a67f9\" y=\"164.683186\"/>\r\n     <use style=\"fill:#add8e6;stroke:#add8e6;\" x=\"51.447961\" xlink:href=\"#mb8492a67f9\" y=\"164.683186\"/>\r\n     <use style=\"fill:#add8e6;stroke:#add8e6;\" x=\"51.858481\" xlink:href=\"#mb8492a67f9\" y=\"170.707756\"/>\r\n     <use style=\"fill:#add8e6;stroke:#add8e6;\" x=\"52.260156\" xlink:href=\"#mb8492a67f9\" y=\"176.570593\"/>\r\n     <use style=\"fill:#add8e6;stroke:#add8e6;\" x=\"52.682707\" xlink:href=\"#mb8492a67f9\" y=\"182.501556\"/>\r\n     <use style=\"fill:#add8e6;stroke:#add8e6;\" x=\"52.682707\" xlink:href=\"#mb8492a67f9\" y=\"182.501556\"/>\r\n     <use style=\"fill:#add8e6;stroke:#add8e6;\" x=\"53.104561\" xlink:href=\"#mb8492a67f9\" y=\"188.455756\"/>\r\n     <use style=\"fill:#add8e6;stroke:#add8e6;\" x=\"53.508648\" xlink:href=\"#mb8492a67f9\" y=\"194.388005\"/>\r\n     <use style=\"fill:#add8e6;stroke:#add8e6;\" x=\"53.9312\" xlink:href=\"#mb8492a67f9\" y=\"200.318967\"/>\r\n     <use style=\"fill:#add8e6;stroke:#add8e6;\" x=\"54.319204\" xlink:href=\"#mb8492a67f9\" y=\"206.020414\"/>\r\n     <use style=\"fill:#add8e6;stroke:#add8e6;\" x=\"54.387942\" xlink:href=\"#mb8492a67f9\" y=\"206.873737\"/>\r\n     <use style=\"fill:#add8e6;stroke:#add8e6;\" x=\"54.387942\" xlink:href=\"#mb8492a67f9\" y=\"206.873737\"/>\r\n     <use style=\"fill:#add8e6;stroke:#add8e6;\" x=\"54.387942\" xlink:href=\"#mb8492a67f9\" y=\"206.873737\"/>\r\n     <use style=\"fill:#add8e6;stroke:#add8e6;\" x=\"54.387942\" xlink:href=\"#mb8492a67f9\" y=\"206.873737\"/>\r\n     <use style=\"fill:#add8e6;stroke:#add8e6;\" x=\"54.387942\" xlink:href=\"#mb8492a67f9\" y=\"206.873737\"/>\r\n     <use style=\"fill:#add8e6;stroke:#add8e6;\" x=\"54.387942\" xlink:href=\"#mb8492a67f9\" y=\"206.873737\"/>\r\n     <use style=\"fill:#add8e6;stroke:#add8e6;\" x=\"54.387942\" xlink:href=\"#mb8492a67f9\" y=\"206.873737\"/>\r\n     <use style=\"fill:#add8e6;stroke:#add8e6;\" x=\"54.387942\" xlink:href=\"#mb8492a67f9\" y=\"206.873737\"/>\r\n    </g>\r\n   </g>\r\n   <g id=\"PathCollection_2\">\r\n    <defs>\r\n     <path d=\"M 0 2.738613 \r\nC 0.726289 2.738613 1.422928 2.450055 1.936492 1.936492 \r\nC 2.450055 1.422928 2.738613 0.726289 2.738613 0 \r\nC 2.738613 -0.726289 2.450055 -1.422928 1.936492 -1.936492 \r\nC 1.422928 -2.450055 0.726289 -2.738613 0 -2.738613 \r\nC -0.726289 -2.738613 -1.422928 -2.450055 -1.936492 -1.936492 \r\nC -2.450055 -1.422928 -2.738613 -0.726289 -2.738613 0 \r\nC -2.738613 0.726289 -2.450055 1.422928 -1.936492 1.936492 \r\nC -1.422928 2.450055 -0.726289 2.738613 0 2.738613 \r\nz\r\n\" id=\"m67462df296\" style=\"stroke:#000000;\"/>\r\n    </defs>\r\n    <g clip-path=\"url(#p0194955262)\">\r\n     <use style=\"fill:#dc23c5;stroke:#000000;\" x=\"194.62242\" xlink:href=\"#m67462df296\" y=\"21.824166\"/>\r\n     <use style=\"fill:#dc23c5;stroke:#000000;\" x=\"65.258878\" xlink:href=\"#m67462df296\" y=\"78.371824\"/>\r\n     <use style=\"fill:#dc23c5;stroke:#000000;\" x=\"80.161473\" xlink:href=\"#m67462df296\" y=\"181.019415\"/>\r\n     <use style=\"fill:#dc23c5;stroke:#000000;\" x=\"171.194585\" xlink:href=\"#m67462df296\" y=\"171.924059\"/>\r\n     <use style=\"fill:#dc23c5;stroke:#000000;\" x=\"238.813122\" xlink:href=\"#m67462df296\" y=\"132.108673\"/>\r\n     <use style=\"fill:#dc23c5;stroke:#000000;\" x=\"251.435249\" xlink:href=\"#m67462df296\" y=\"238.720566\"/>\r\n    </g>\r\n   </g>\r\n   <g id=\"PathCollection_3\">\r\n    <defs>\r\n     <path d=\"M 0 2.236068 \r\nC 0.593012 2.236068 1.161816 2.000462 1.581139 1.581139 \r\nC 2.000462 1.161816 2.236068 0.593012 2.236068 0 \r\nC 2.236068 -0.593012 2.000462 -1.161816 1.581139 -1.581139 \r\nC 1.161816 -2.000462 0.593012 -2.236068 0 -2.236068 \r\nC -0.593012 -2.236068 -1.161816 -2.000462 -1.581139 -1.581139 \r\nC -2.000462 -1.161816 -2.236068 -0.593012 -2.236068 0 \r\nC -2.236068 0.593012 -2.000462 1.161816 -1.581139 1.581139 \r\nC -1.161816 2.000462 -0.593012 2.236068 0 2.236068 \r\nz\r\n\" id=\"me1c71a0f74\" style=\"stroke:#000000;\"/>\r\n    </defs>\r\n    <g clip-path=\"url(#p0194955262)\">\r\n     <use style=\"fill:#88ff88;stroke:#000000;\" x=\"194.618116\" xlink:href=\"#me1c71a0f74\" y=\"21.822228\"/>\r\n     <use style=\"fill:#88ff88;stroke:#000000;\" x=\"65.264206\" xlink:href=\"#me1c71a0f74\" y=\"78.365369\"/>\r\n     <use style=\"fill:#88ff88;stroke:#000000;\" x=\"80.164819\" xlink:href=\"#me1c71a0f74\" y=\"181.011673\"/>\r\n     <use style=\"fill:#88ff88;stroke:#000000;\" x=\"171.193582\" xlink:href=\"#me1c71a0f74\" y=\"171.932393\"/>\r\n     <use style=\"fill:#88ff88;stroke:#000000;\" x=\"238.806509\" xlink:href=\"#me1c71a0f74\" y=\"132.102794\"/>\r\n     <use style=\"fill:#88ff88;stroke:#000000;\" x=\"251.434357\" xlink:href=\"#me1c71a0f74\" y=\"238.722867\"/>\r\n    </g>\r\n   </g>\r\n   <g id=\"line2d_1\">\r\n    <path clip-path=\"url(#p0194955262)\" d=\"M 255.982927 27.485561 \r\nL 188.40571 71.25525 \r\nL 103.462079 126.217299 \r\nL 68.586989 148.934439 \r\nL 64.094152 152.775047 \r\nL 64.094152 152.775047 \r\nL 59.944816 157.080403 \r\nL 56.263205 161.763274 \r\nL 53.068073 166.762712 \r\nL 50.375952 172.050029 \r\nL 50.375952 172.050029 \r\nL 48.237178 177.560158 \r\nL 46.628814 183.343639 \r\nL 45.638793 189.123979 \r\nL 45.186225 195.062584 \r\nL 45.186225 195.062584 \r\nL 45.915167 201.092758 \r\nL 47.802156 206.72742 \r\nL 50.638202 211.838023 \r\nL 50.638202 211.838023 \r\nL 54.010549 216.140586 \r\nL 58.122776 219.951023 \r\nL 62.682928 223.045393 \r\nL 62.682928 223.045393 \r\nL 67.645019 225.391556 \r\nL 72.790593 227.002491 \r\nL 78.36553 227.788484 \r\nL 83.899764 227.714143 \r\nL 83.899764 227.714143 \r\nL 89.311352 226.796787 \r\nL 94.555868 225.02266 \r\nL 125.707032 208.739397 \r\nL 178.431787 181.151659 \r\nL 178.431787 181.151659 \r\nL 183.590096 178.287366 \r\nL 188.477256 174.801516 \r\nL 192.584841 170.487582 \r\nL 192.584841 170.487582 \r\nL 195.766961 165.415049 \r\nL 197.892135 160.27494 \r\nL 199.240219 154.908627 \r\nL 199.240219 154.908627 \r\nL 199.747783 149.46729 \r\nL 199.489444 144.057803 \r\nL 198.381207 138.635157 \r\nL 196.431536 134.084317 \r\nL 196.431536 134.084317 \r\nL 193.660273 130.031094 \r\nL 190.193365 126.557633 \r\nL 186.143541 123.785757 \r\nL 181.464541 121.817784 \r\nL 176.58038 120.833981 \r\nL 171.670489 120.79548 \r\nL 166.442932 121.271025 \r\nL 166.442932 121.271025 \r\nL 83.309921 125.992224 \r\nL 83.309921 125.992224 \r\nL 77.354007 126.390561 \r\nL 71.616051 127.989979 \r\nL 67.064127 131.109358 \r\nL 64.175501 134.545521 \r\nL 64.175501 134.545521 \r\nL 62.161086 138.661771 \r\nL 61.211559 142.97458 \r\nL 61.321753 147.462256 \r\nL 61.321753 147.462256 \r\nL 62.565972 151.876517 \r\nL 64.747761 155.743948 \r\nL 67.754258 158.978589 \r\nL 71.329841 161.400922 \r\nL 71.329841 161.400922 \r\nL 75.434872 162.961859 \r\nL 79.832688 163.549732 \r\nL 97.187584 166.398594 \r\nL 132.374878 172.283058 \r\nL 132.374878 172.283058 \r\nL 138.389452 172.630515 \r\nL 144.340436 172.367208 \r\nL 150.235363 171.510834 \r\nL 150.235363 171.510834 \r\nL 155.995915 170.08982 \r\nL 161.634872 168.101042 \r\nL 166.981862 165.582 \r\nL 166.981862 165.582 \r\nL 172.03144 162.460681 \r\nL 176.350921 158.313566 \r\nL 179.740247 153.432725 \r\nL 182.137132 148.441992 \r\nL 182.137132 148.441992 \r\nL 183.798144 143.264043 \r\nL 184.688713 137.968737 \r\nL 184.76422 132.434519 \r\nL 184.542989 120.818274 \r\nL 183.925126 79.293506 \r\nL 183.26532 73.330548 \r\nL 182.020885 67.529287 \r\nL 182.020885 67.529287 \r\nL 180.206478 61.904005 \r\nL 177.808031 56.401011 \r\nL 174.935961 51.262052 \r\nL 174.935961 51.262052 \r\nL 171.103397 46.644496 \r\nL 166.458152 42.903806 \r\nL 161.511742 40.161501 \r\nL 156.381639 37.995083 \r\nL 156.381639 37.995083 \r\nL 145.587554 33.115688 \r\nL 139.97719 31.129347 \r\nL 134.237616 29.721715 \r\nL 134.237616 29.721715 \r\nL 128.313866 28.900615 \r\nL 122.315317 28.670618 \r\nL 116.392683 29.02509 \r\nL 116.392683 29.02509 \r\nL 110.511921 29.973869 \r\nL 104.819783 31.476284 \r\nL 99.151447 33.588554 \r\nL 93.908239 36.162499 \r\nL 93.908239 36.162499 \r\nL 88.818575 39.300714 \r\nL 84.039751 42.972488 \r\nL 79.675389 47.059715 \r\nL 79.675389 47.059715 \r\nL 75.791478 51.515172 \r\nL 72.342762 56.372115 \r\nL 69.369835 61.560061 \r\nL 66.960597 66.931584 \r\nL 66.960597 66.931584 \r\nL 62.673073 78.003601 \r\nL 51.743861 105.726399 \r\nL 51.743861 105.726399 \r\nL 50.155549 111.465561 \r\nL 49.168403 117.222467 \r\nL 48.741395 123.210217 \r\nL 48.741395 123.210217 \r\nL 48.89925 129.18752 \r\nL 49.783404 141.02713 \r\nL 54.387942 206.873737 \r\nL 54.387942 206.873737 \r\n\" style=\"fill:none;stroke:#add8e6;stroke-linecap:square;stroke-width:0.5;\"/>\r\n   </g>\r\n   <g id=\"PathCollection_4\">\r\n    <defs>\r\n     <path d=\"M 0 1.414214 \r\nC 0.375054 1.414214 0.734797 1.265203 1 1 \r\nC 1.265203 0.734797 1.414214 0.375054 1.414214 0 \r\nC 1.414214 -0.375054 1.265203 -0.734797 1 -1 \r\nC 0.734797 -1.265203 0.375054 -1.414214 0 -1.414214 \r\nC -0.375054 -1.414214 -0.734797 -1.265203 -1 -1 \r\nC -1.265203 -0.734797 -1.414214 -0.375054 -1.414214 0 \r\nC -1.414214 0.375054 -1.265203 0.734797 -1 1 \r\nC -0.734797 1.265203 -0.375054 1.414214 0 1.414214 \r\nz\r\n\" id=\"mb5d20d27e2\" style=\"stroke:#0000ff;\"/>\r\n    </defs>\r\n    <g clip-path=\"url(#p0194955262)\">\r\n     <use style=\"fill:#0000ff;stroke:#0000ff;\" x=\"255.982927\" xlink:href=\"#mb5d20d27e2\" y=\"27.485561\"/>\r\n    </g>\r\n   </g>\r\n   <g id=\"line2d_2\">\r\n    <path clip-path=\"url(#p0194955262)\" d=\"M 255.982927 27.485561 \r\nL 233.743834 41.927787 \r\n\" style=\"fill:none;stroke:#0000ff;stroke-linecap:square;stroke-width:0.5;\"/>\r\n   </g>\r\n  </g>\r\n </g>\r\n <defs>\r\n  <clipPath id=\"p0194955262\">\r\n   <rect height=\"271.8\" width=\"271.8\" x=\"10.7\" y=\"7.2\"/>\r\n  </clipPath>\r\n </defs>\r\n</svg>\r\n",
      "text/plain": [
       "<Figure size 500x500 with 1 Axes>"
      ]
     },
     "metadata": {},
     "output_type": "display_data"
    }
   ],
   "source": [
    "import ipy_logfile_viewer as lfv\n",
    "v = lfv.IPYLogfileViewer(files=[\"project_landmarks.txt\", \"robot_arena_landmarks.txt\"])"
   ]
  },
  {
   "cell_type": "markdown",
   "metadata": {
    "deletable": false,
    "editable": false,
    "nbgrader": {
     "cell_type": "markdown",
     "checksum": "8d31ef3486e0ffda1bb55d174c709727",
     "grade": false,
     "grade_id": "cell-0fa541ccb364312b",
     "locked": true,
     "schema_version": 3,
     "solution": false,
     "task": false
    }
   },
   "source": [
    "## Assignment of cylinders\n",
    "In order to use the cylinders for localization, we must first find correspondences between the landmarks we extract from the laser scanner measurements, and the landmarks in our map. This will be our first programming assignment.\n",
    "### Programming assignment: landmark assignment (15 Points)."
   ]
  },
  {
   "cell_type": "code",
   "execution_count": 22,
   "metadata": {
    "deletable": false,
    "nbgrader": {
     "cell_type": "code",
     "checksum": "e0d93f41e9978c365ebfd9226db0b070",
     "grade": false,
     "grade_id": "cell-bea8a71574e200cd",
     "locked": false,
     "schema_version": 3,
     "solution": true,
     "task": false
    }
   },
   "outputs": [],
   "source": [
    "# Given a list of cylinders (points) and reference_cylinders:\n",
    "# For every cylinder, find the closest reference_cylinder and add\n",
    "# the index pair (i, j), where i is the index of the cylinder, and\n",
    "# j is the index of the reference_cylinder, to the result list.\n",
    "import math\n",
    "import numpy as np\n",
    "\n",
    "def find_dist(cy0,cy1):\n",
    "    return math.sqrt(((cy0[0]-cy1[0])**2+(cy0[1]-cy1[1])**2))\n",
    "\n",
    "\n",
    "def find_cylinder_pairs(cylinders, reference_cylinders, max_radius):\n",
    "    cylinder_pairs = []\n",
    "\n",
    "    # Make a loop over all cylinders and reference_cylinders.\n",
    "    # In the loop, if cylinders[i] is closest to reference_cylinders[j],\n",
    "    # and their distance is below max_radius, then add the\n",
    "    # tuple (i,j) to cylinder_pairs, i.e., cylinder_pairs.append( (i,j) ).\n",
    "    # YOUR CODE HERE\n",
    "    for i in range (len(cylinders)):\n",
    "        Distlist=[]\n",
    "        if len(reference_cylinders)!=0:\n",
    "\n",
    "            for j in range (len(reference_cylinders)):\n",
    "            #dist=math.sqrt((cylinders[i][0]-reference_cylinders[j][0])^2+(cylinders[i][1]-reference_cylinders[j][1])^2)\n",
    "                dist=find_dist(cylinders[i],reference_cylinders[j])\n",
    "                Distlist.append(dist)\n",
    "            index_min = np.argmin(Distlist)\n",
    "            \n",
    "            if Distlist[index_min]<max_radius:\n",
    "                cylinder_pairs.append((i,index_min))      \n",
    "\n",
    "    #raise NotImplementedError()\n",
    "\n",
    "    return cylinder_pairs"
   ]
  },
  {
   "cell_type": "markdown",
   "metadata": {
    "deletable": false,
    "editable": false,
    "nbgrader": {
     "cell_type": "markdown",
     "checksum": "3f8208430ca2f7bc4a5aac2bbabd5bff",
     "grade": false,
     "grade_id": "cell-12ee98cb6ac27bb7",
     "locked": true,
     "schema_version": 3,
     "solution": false,
     "task": false
    }
   },
   "source": [
    "### Let's test some cases."
   ]
  },
  {
   "cell_type": "code",
   "execution_count": 23,
   "metadata": {
    "deletable": false,
    "editable": false,
    "nbgrader": {
     "cell_type": "code",
     "checksum": "0e2a5641d4b8061cb664e956cc0768bb",
     "grade": true,
     "grade_id": "cell-6ce57b06c554c602",
     "locked": true,
     "points": 15,
     "schema_version": 3,
     "solution": false,
     "task": false
    }
   },
   "outputs": [],
   "source": [
    "def public_test(the_find_cylinder_pairs):\n",
    "    # Test cases: (cylinders, reference, radius, solution).\n",
    "    test_cases = [\n",
    "        # Test 0: (1, 1) should match (0, 0) when radius is 2.\n",
    "        ([(1,1)], [(0,0)], 2, [(0,0)]),\n",
    "\n",
    "        # Test 1: Three points, not in order: 0, 1, 2 matches 1, 2, 0.\n",
    "        ([(0,0), (10,0), (10,10)], [(11,9), (1,1), (9,-1)], 2,\n",
    "         [(0,1), (1,2), (2,0)]),\n",
    "\n",
    "        # Test 2: If there are several alternatives, take the closest one.\n",
    "        ([(0,0)], [(1,0), (1,1), (0,5), (10,1), (0.5,0.5), (0,1)], 6, [(0,4)]),\n",
    "\n",
    "        # Test 3: If all solutions are beyond the radius, the result is empty.\n",
    "        ([(101,102)], [(0,0), (1,1), (0,2)], 10, []),\n",
    "\n",
    "        # Test 4, 5, 6, 7: Test that radius is used, not radius squared etc.\n",
    "        ([(0,0)], [(0, 4.001)], 4, []),\n",
    "        ([(0,0)], [(0, 3.999)], 4, [(0,0)]),\n",
    "        ([(1.5,1.5)], [(1,1), (2,2)], 0.7, []), # sqrt(2)/2 = 0.7071 > 0.7.\n",
    "        ([(1.5,1.5)], [(1,0.999), (2,2)], 0.7072, [(0,1)]),\n",
    "\n",
    "        # Test 8, 9: If one of the lists is empty, the result is empty.\n",
    "        ([(0,0), (1,1)], [], 0.1, []),\n",
    "        ([], [(0,0), (1,1)], 0.1, []),\n",
    "    ]\n",
    "\n",
    "    # Run all tests.\n",
    "    for i, test in enumerate(test_cases):\n",
    "        try:\n",
    "            result = the_find_cylinder_pairs(*test[0:3])\n",
    "            if sorted(result) != sorted(test[3]):\n",
    "                print(\"Test number %d failed.\" % i)\n",
    "                return False\n",
    "        except Exception as e:\n",
    "            print(\"Test number %d crashed with exception:\" % i, repr(e))\n",
    "            return False\n",
    "    return True\n",
    "\n",
    "assert(public_test(find_cylinder_pairs))"
   ]
  },
  {
   "cell_type": "code",
   "execution_count": 24,
   "metadata": {},
   "outputs": [
    {
     "data": {
      "text/plain": [
       "[]"
      ]
     },
     "execution_count": 24,
     "metadata": {},
     "output_type": "execute_result"
    }
   ],
   "source": [
    "find_cylinder_pairs([(0,0), (1,1)], [], 0.1)\n",
    "#math.sqrt(4.001**2)"
   ]
  },
  {
   "cell_type": "markdown",
   "metadata": {
    "deletable": false,
    "editable": false,
    "nbgrader": {
     "cell_type": "markdown",
     "checksum": "18d0f9ae9f24c2c2d1b7f4cc11310e51",
     "grade": false,
     "grade_id": "cell-eae01e9b8a55ac0a",
     "locked": true,
     "schema_version": 3,
     "solution": false,
     "task": false
    }
   },
   "source": [
    "### Now we run it and then use the logfile viewer to visually check the assignment results.\n",
    "This should look like shown in the video. Whenever a landmark was successfully assigned to a measured cylinder, it is marked (by an extra dot in its center)."
   ]
  },
  {
   "cell_type": "code",
   "execution_count": 25,
   "metadata": {},
   "outputs": [],
   "source": [
    "# For each cylinder in the scan, find its cartesian coordinates,\n",
    "# in the world coordinate system. Then, find the closest point\n",
    "# in the reference cylinder dataset and output it.\n",
    "# 04_b_find_cylinder_pairs\n",
    "from lego_robot import *\n",
    "from slam_b_library import filter_step\n",
    "\n",
    "if __name__ == '__main__':\n",
    "    # The constants we used for the filter_step.\n",
    "    scanner_displacement = 30.0\n",
    "    ticks_to_mm = 0.349\n",
    "    robot_width = 150.0\n",
    "\n",
    "    # The constants we used for the cylinder detection in our scan.    \n",
    "    minimum_valid_distance = 20.0\n",
    "    depth_jump = 100.0\n",
    "    cylinder_offset = 90.0\n",
    "\n",
    "    # The maximum distance allowed for cylinder assignment.\n",
    "    max_cylinder_distance = 300.0\n",
    "\n",
    "    # The start pose we obtained miraculously.\n",
    "    pose = (1850.0, 1897.0, 3.717551306747922)\n",
    "\n",
    "    # Read the logfile which contains all scans.\n",
    "    logfile = LegoLogfile()\n",
    "    logfile.read(\"robot4_motors.txt\")\n",
    "    logfile.read(\"robot4_scan.txt\")\n",
    "\n",
    "    # Also read the reference cylinders (the map).\n",
    "    logfile.read(\"robot_arena_landmarks.txt\")\n",
    "    reference_cylinders = [l[1:3] for l in logfile.landmarks]\n",
    "\n",
    "    # Iterate over all positions.\n",
    "    out_file = open(\"find_cylinder_pairs.txt\", \"w\")\n",
    "    for i in range(len(logfile.scan_data)):\n",
    "        # Compute the new pose.\n",
    "        pose = filter_step(pose, logfile.motor_ticks[i],\n",
    "                           ticks_to_mm, robot_width,\n",
    "                           scanner_displacement)\n",
    "\n",
    "        # Extract cylinders, also convert them to world coordinates.\n",
    "        cartesian_cylinders = compute_scanner_cylinders(\n",
    "            logfile.scan_data[i],\n",
    "            depth_jump, minimum_valid_distance, cylinder_offset)\n",
    "        world_cylinders = [LegoLogfile.scanner_to_world(pose, c)\n",
    "                           for c in cartesian_cylinders]\n",
    "\n",
    "        # For every cylinder, find the closest reference cylinder.\n",
    "        cylinder_pairs = find_cylinder_pairs(\n",
    "            world_cylinders, reference_cylinders, max_cylinder_distance)\n",
    "\n",
    "        # Write to file.\n",
    "        # The pose.\n",
    "        print(\"F %f %f %f\" % pose, file=out_file)\n",
    "        # The detected cylinders in the scanner's coordinate system.\n",
    "        write_cylinders(out_file, \"D C\", cartesian_cylinders)\n",
    "        # The reference cylinders which were part of a cylinder pair.\n",
    "        write_cylinders(out_file, \"W C\",\n",
    "            [reference_cylinders[j[1]] for j in cylinder_pairs])\n",
    "\n",
    "    out_file.close()"
   ]
  },
  {
   "cell_type": "code",
   "execution_count": 2,
   "metadata": {},
   "outputs": [
    {
     "data": {
      "application/vnd.jupyter.widget-view+json": {
       "model_id": "ce47629ee0c24affbdd7cd6755f28fab",
       "version_major": 2,
       "version_minor": 0
      },
      "text/plain": [
       "VBox(children=(HBox(children=(Output(layout=Layout(width='600px')), Output(layout=Layout(width='600px')))), Ou…"
      ]
     },
     "metadata": {},
     "output_type": "display_data"
    }
   ],
   "source": [
    "import ipy_logfile_viewer as lfv\n",
    "v = lfv.IPYLogfileViewer(files=[\"find_cylinder_pairs.txt\", \"robot_arena_landmarks.txt\"])"
   ]
  },
  {
   "cell_type": "markdown",
   "metadata": {
    "deletable": false,
    "editable": false,
    "nbgrader": {
     "cell_type": "markdown",
     "checksum": "85892dd3f7cb2ae98f1060c27c9f0f89",
     "grade": false,
     "grade_id": "cell-14f118e621425f11",
     "locked": true,
     "schema_version": 3,
     "solution": false,
     "task": false
    }
   },
   "source": [
    "## Estimation of a similarity transform\n",
    "After we know the correspondences, we can use them to compute a transformation between the measured landmarks and the landmarks in the map. We will use a similarity transform for that. After we have found this transformation, we can align the measured landmarks to the landmarks in the map, and more importantly, we can use it to correct the position and orientation (pose) of the robot."
   ]
  },
  {
   "cell_type": "code",
   "execution_count": 27,
   "metadata": {
    "deletable": false,
    "editable": false,
    "nbgrader": {
     "cell_type": "code",
     "checksum": "e856022f4b76835fd4314bbbe7db0ca4",
     "grade": false,
     "grade_id": "cell-a16a71e79fa68e76",
     "locked": true,
     "schema_version": 3,
     "solution": false,
     "task": false
    }
   },
   "outputs": [
    {
     "data": {
      "text/html": [
       "\n",
       "        <iframe\n",
       "            width=\"560\"\n",
       "            height=\"315\"\n",
       "            src=\"//av.tib.eu/player/48984\"\n",
       "            frameborder=\"0\"\n",
       "            allowfullscreen\n",
       "        ></iframe>\n",
       "        "
      ],
      "text/plain": [
       "<IPython.lib.display.IFrame at 0x1594101da60>"
      ]
     },
     "execution_count": 27,
     "metadata": {},
     "output_type": "execute_result"
    }
   ],
   "source": [
    "# If you don't see a video below, run this cell.\n",
    "from IPython.display import IFrame\n",
    "IFrame(\"https://www.youtube.com/embed/2Zf7J6cKpOQ\" if \"YouTube\" in globals() else \"//av.tib.eu/player/48984\",\n",
    "       width=560, height=315)"
   ]
  },
  {
   "cell_type": "markdown",
   "metadata": {
    "deletable": false,
    "editable": false,
    "nbgrader": {
     "cell_type": "markdown",
     "checksum": "8604e245a48f99dbe88d9f738cd048d1",
     "grade": false,
     "grade_id": "cell-d47795e9d56224e0",
     "locked": true,
     "schema_version": 3,
     "solution": false,
     "task": false
    }
   },
   "source": [
    "###  Programming assignment: using the cylinder pairs, find the transformation (20 Points)."
   ]
  },
  {
   "cell_type": "code",
   "execution_count": 28,
   "metadata": {
    "deletable": false,
    "nbgrader": {
     "cell_type": "code",
     "checksum": "2dfc3d71392c8fc90546ec2ba95af36d",
     "grade": false,
     "grade_id": "cell-7617ae387f082093",
     "locked": false,
     "schema_version": 3,
     "solution": true,
     "task": false
    }
   },
   "outputs": [],
   "source": [
    "# NOTE: In this notebook you won't have to insert your implementation of find_cylinder_pairs()\n",
    "#       here, since your function from above is just taken. If this does not work, make sure\n",
    "#       to execute the cells above.\n",
    "import numpy as np\n",
    "# Given a point list, return the center of mass.\n",
    "def compute_center(point_list):\n",
    "    # Safeguard against empty list.\n",
    "    if not point_list:\n",
    "        return (0.0, 0.0)\n",
    "    # If not empty, sum up and divide.\n",
    "    sx = sum([p[0] for p in point_list])\n",
    "    sy = sum([p[1] for p in point_list])\n",
    "    return (float(sx) / len(point_list), float(sy) / len(point_list))\n",
    "\n",
    "# Given a similarity transformation:\n",
    "# trafo = (scale, cos(angle), sin(angle), x_translation, y_translation)\n",
    "# and a point p = (x, y), return the transformed point.\n",
    "def apply_transform(trafo, p):\n",
    "    la, c, s, tx, ty = trafo\n",
    "    lac = la * c\n",
    "    las = la * s\n",
    "    x = lac * p[0] - las * p[1] + tx\n",
    "    y = las * p[0] + lac * p[1] + ty\n",
    "    return (x, y)\n",
    "\n",
    "# Given a left_list of points and a right_list of points, compute\n",
    "# the parameters of a similarity transform: scale, rotation, translation.\n",
    "# If fix_scale is True, use the fixed scale of 1.0.\n",
    "# The returned value is a tuple of:\n",
    "# (scale, cos(angle), sin(angle), x_translation, y_translation)\n",
    "# i.e., the rotation angle is not given in radians, but rather in terms\n",
    "# of the cosine and sine.\n",
    "def estimate_transform(left_list, right_list, fix_scale = False):\n",
    "    # Compute left and right center.\n",
    "    lc = compute_center(left_list)\n",
    "    rc = compute_center(right_list)\n",
    "    \n",
    "    # if len(left_list) < 2 or len(right_list) < 2:\n",
    "    #     return None\n",
    "\n",
    "    # lc = compute_center(left_list)\n",
    "    # rc = compute_center(right_list)\n",
    "\n",
    "    # l_i = [tuple(np.subtract(l,lc)) for l in left_list]\n",
    "    # r_i = [tuple(np.subtract(r,rc)) for r in right_list]\n",
    "\n",
    "    # cs,ss,rr,ll = 0.0,0.0,0.0,0.0\n",
    "\n",
    "    # for i in range(len(left_list)):\n",
    "    #     cs += (r_i[i][0] * l_i[i][0]) + (r_i[i][1] * l_i[i][1])\n",
    "    #     ss += -(r_i[i][0] * l_i[i][1]) + (r_i[i][1] * l_i[i][0])\n",
    "    #     rr += (r_i[i][0] * r_i[i][0]) + (r_i[i][1] * r_i[i][1])\n",
    "    #     ll += (l_i[i][0] * l_i[i][0]) + (l_i[i][1] * l_i[i][1])\n",
    "\n",
    "    # if fix_scale:\n",
    "    #     la = 1.0\n",
    "    # else:\n",
    "    #     la = sqrt(rr/ll)\n",
    "    # if cs==0 and ss==0:\n",
    "    #     return None\n",
    "    # else:    \n",
    "    #     c = cs / sqrt((cs*cs) + (ss*ss))\n",
    "    #     s = ss / sqrt((cs*cs) + (ss*ss))\n",
    "\n",
    "    # tx = rc[0] - (la * ((c * lc[0]) - (s * lc[1])))\n",
    "    # ty = rc[1] - (la * ((s * lc[0]) + (c * lc[1])))\n",
    "\n",
    "    # Needs to compute: lambda, c, s, and tx, ty, where c and s are\n",
    "    # the cosine and sine of the rotation angle, i.e. (c, s) is a\n",
    "    # unit vector indicating the rotation (i.e. where the x-axis\n",
    "    # points to after rotation).\n",
    "    # YOUR CODE HERE\n",
    "    l_p=[]\n",
    "    r_p=[]\n",
    "    for i in range (len(left_list)):\n",
    "\n",
    "        # l_p.append(np.diff([left_list[i],lc]))\n",
    "        # r_p.append(np.diff([right_list[i],rc])) np.diff rechnet nur die absolute Differenz, stattdessen\n",
    "        # sollte die Substraktion eingeführt werden\n",
    "        l_p = [tuple(np.subtract(l,lc)) for l in left_list]\n",
    "        r_p = [tuple(np.subtract(r,rc)) for r in right_list]\n",
    "\n",
    "    cs, ss, rr, ll=0.0,0.0,0.0,0.0\n",
    "    for i in range (len(left_list)):\n",
    "\n",
    "        cs+=l_p[i][0]*r_p[i][0]+r_p[i][1]*l_p[i][1]\n",
    "        ss+=-r_p[i][0]*l_p[i][1]+r_p[i][1]*l_p[i][0]\n",
    "        rr+=r_p[i][0]**2+r_p[i][1]**2\n",
    "        ll+=l_p[i][0]**2+l_p[i][1]**2\n",
    "\n",
    "    if fix_scale:\n",
    "        la = 1.0\n",
    "    else:\n",
    "        la = sqrt(rr/ll)\n",
    "    if cs==0 and ss==0:\n",
    "        return None\n",
    "    else:    \n",
    "\n",
    "    # if cs==0 or ss==0:\n",
    "    #     return None\n",
    "    # else:    \n",
    "        c=cs/math.sqrt(cs**2+ss**2)\n",
    "        s=ss/math.sqrt(cs**2+ss**2)\n",
    "\n",
    "    tx=rc[0]-la*(c*lc[0]-s*lc[1])\n",
    "    ty=rc[1]-la*(s*lc[0]+c*lc[1])\n",
    "\n",
    "\n",
    "    #raise NotImplementedError()\n",
    "    return la, c, s, tx, ty"
   ]
  },
  {
   "cell_type": "markdown",
   "metadata": {
    "deletable": false,
    "editable": false,
    "nbgrader": {
     "cell_type": "markdown",
     "checksum": "5170b4315b487614f5ca441eeaa2521d",
     "grade": false,
     "grade_id": "cell-1e75eec751194f58",
     "locked": true,
     "schema_version": 3,
     "solution": false,
     "task": false
    }
   },
   "source": [
    "### Let's test this.\n",
    "Note that if you get test errors like *division by zero*, it may be the case that your code does not handle singular cases well. You may also get hints from the SLAM B 03 video below how to handle those cases properly."
   ]
  },
  {
   "cell_type": "code",
   "execution_count": 1,
   "metadata": {},
   "outputs": [
    {
     "ename": "NameError",
     "evalue": "name 'estimate_transform' is not defined",
     "output_type": "error",
     "traceback": [
      "\u001b[1;31m---------------------------------------------------------------------------\u001b[0m",
      "\u001b[1;31mNameError\u001b[0m                                 Traceback (most recent call last)",
      "\u001b[1;32m<ipython-input-1-98ef0cb18636>\u001b[0m in \u001b[0;36m<module>\u001b[1;34m\u001b[0m\n\u001b[1;32m----> 1\u001b[1;33m d=estimate_transform([(0.0,0.0), (1.0,0.0), (0.0, 1.0)],\n\u001b[0m\u001b[0;32m      2\u001b[0m          \u001b[1;33m[\u001b[0m\u001b[1;33m(\u001b[0m\u001b[1;36m0.1\u001b[0m\u001b[1;33m,\u001b[0m\u001b[1;36m0.0\u001b[0m\u001b[1;33m)\u001b[0m\u001b[1;33m,\u001b[0m \u001b[1;33m(\u001b[0m\u001b[1;36m1.0\u001b[0m\u001b[1;33m,\u001b[0m\u001b[1;36m0.1\u001b[0m\u001b[1;33m)\u001b[0m\u001b[1;33m,\u001b[0m \u001b[1;33m(\u001b[0m\u001b[1;36m0.1\u001b[0m\u001b[1;33m,\u001b[0m \u001b[1;36m1.0\u001b[0m\u001b[1;33m)\u001b[0m\u001b[1;33m]\u001b[0m\u001b[1;33m,\u001b[0m\u001b[1;33m\u001b[0m\u001b[1;33m\u001b[0m\u001b[0m\n\u001b[0;32m      3\u001b[0m          False)\n\u001b[0;32m      4\u001b[0m \u001b[0mprint\u001b[0m\u001b[1;33m(\u001b[0m\u001b[0md\u001b[0m\u001b[1;33m)\u001b[0m\u001b[1;33m\u001b[0m\u001b[1;33m\u001b[0m\u001b[0m\n",
      "\u001b[1;31mNameError\u001b[0m: name 'estimate_transform' is not defined"
     ]
    }
   ],
   "source": [
    "d=estimate_transform([(0.0,0.0), (1.0,0.0), (0.0, 1.0)],\n",
    "         [(0.1,0.0), (1.0,0.1), (0.1, 1.0)],\n",
    "         False)\n",
    "print(d)"
   ]
  },
  {
   "cell_type": "code",
   "execution_count": null,
   "metadata": {
    "deletable": false,
    "editable": false,
    "nbgrader": {
     "cell_type": "code",
     "checksum": "f42f8df2048b0e25925b488995834a3a",
     "grade": true,
     "grade_id": "cell-cda3b8bd3980ed7c",
     "locked": true,
     "points": 20,
     "schema_version": 3,
     "solution": false,
     "task": false
    }
   },
   "outputs": [],
   "source": [
    "from math import sqrt\n",
    "\n",
    "# A non-numpy parameter comparison function which tolerates small errors.\n",
    "def similar_transform_parameters(trafo_a, trafo_b):\n",
    "    if trafo_a == None or trafo_b == None:\n",
    "        return trafo_a == trafo_b\n",
    "    return len(trafo_a)== 5 and len(trafo_b)==5 and\\\n",
    "           max(abs(a-b) for (a,b) in zip(trafo_a, trafo_b)) < 0.0001\n",
    "\n",
    "# The test function.\n",
    "def public_test(the_estimate_transform):\n",
    "    # test_cases is a list of tuples. Each tuple is:\n",
    "    # (left_list, right_list, fix_scale, error text).\n",
    "    test_cases = [\n",
    "        # Test 0: 3 points which are perfectly aligned, no fixed scale.\n",
    "        ([(0.0,0.0), (1.0,0.0), (0.0, 1.0)],\n",
    "         [(0.0,0.0), (1.0,0.0), (0.0, 1.0)],\n",
    "         False, (1.0, 1.0, 0.0, 0.0, 0.0)),\n",
    "        \n",
    "        # Test 1: 3 points which are perfectly aligned, w/ fixed scale.\n",
    "        ([(0.0,0.0), (1.0,0.0), (0.0, 1.0)],\n",
    "         [(0.0,0.0), (1.0,0.0), (0.0, 1.0)],\n",
    "         True, (1.0, 1.0, 0.0, 0.0, 0.0)),\n",
    "        \n",
    "        # Test 2: 3 points, almost aligned, no fixed scale.\n",
    "        ([(0.0,0.0), (1.0,0.0), (0.0, 1.0)],\n",
    "         [(0.1,0.0), (1.0,0.1), (0.1, 1.0)],\n",
    "         False, (0.9273618495495702, 0.9996349698728535, 0.02701716134791493,\n",
    "                 0.09934378339382115, 0.049307326915700056)),\n",
    "        \n",
    "        # Test 3: 3 points, almost aligned, w/ fixed scale.\n",
    "        ([(0.0,0.0), (1.0,0.0), (0.0, 1.0)],\n",
    "         [(0.1,0.0), (1.0,0.1), (0.1, 1.0)],\n",
    "         True, (1.0, 0.9996349698728535, 0.02701716134791493,\n",
    "                0.07579406382502057, 0.02444928959307724)),\n",
    "\n",
    "        # Test 4, 5: 2 points still work.\n",
    "        ([(0.0,0.0), (1.0,1.0),],\n",
    "         [(0.0,0.0), (1.1,1.1)],\n",
    "         False, (1.1, 1.0, 0.0, 0.0, 0.0)),\n",
    "        ([(0.0,0.0), (1.0,1.0),],\n",
    "         [(0.0,0.0), (1.1,1.1)],\n",
    "         True, (1.0, 1.0, 0.0, 0.05, 0.05)),\n",
    "\n",
    "        # Test 6: 1 point always fails, because the transform cannot be\n",
    "        # estimated from a single point. Your code shouldn't crash.\n",
    "        ([(123.0, 234.0)],\n",
    "         [(234.0, 345.0)],\n",
    "         True, None),\n",
    "\n",
    "        # Test 7, 8: all identical points also fails, because the transform\n",
    "        # cannot be estimated from a single point. Your code shouldn't crash.\n",
    "        ([(123.0, 234.0), (123.0, 234.0), (123.0, 234.0)],\n",
    "         [(0.0,0.0), (1.1,1.1), (2.2,2.2)],\n",
    "         True, None),\n",
    "        ([(0.0,0.0), (1.1,1.1), (2.2,2.2)],\n",
    "         [(123.0, 234.0), (123.0, 234.0), (123.0, 234.0)],\n",
    "         True, None),\n",
    "    ]\n",
    "\n",
    "    for i, test in enumerate(test_cases):\n",
    "        l, r, fix, ref_result = test\n",
    "        try:\n",
    "            result = the_estimate_transform(l, r, fix)\n",
    "            if not similar_transform_parameters(result, ref_result):\n",
    "                print(\"Test number %d failed.\" % i)\n",
    "                return False\n",
    "        except Exception as e:\n",
    "            print(\"Test number %d crashed with exception:\" % i, repr(e))\n",
    "            return False\n",
    "    return True\n",
    "\n",
    "assert(public_test(estimate_transform))"
   ]
  },
  {
   "cell_type": "markdown",
   "metadata": {
    "deletable": false,
    "editable": false,
    "nbgrader": {
     "cell_type": "markdown",
     "checksum": "69ce10e8c3c12934945541a898bdc3c7",
     "grade": false,
     "grade_id": "cell-5c886d436f16631e",
     "locked": true,
     "schema_version": 3,
     "solution": false,
     "task": false
    }
   },
   "source": [
    "Now that you have implemented `estimate_transform`, you can run the following cell to produce the file `estimate_transform.txt` which we will look at below."
   ]
  },
  {
   "cell_type": "code",
   "execution_count": null,
   "metadata": {},
   "outputs": [],
   "source": [
    "# For each cylinder in the scan, find its cartesian coordinates,\n",
    "# in the world coordinate system.\n",
    "# Find the closest pairs of cylinders from the scanner and cylinders\n",
    "# from the reference, and the optimal transformation which aligns them.\n",
    "# Then, output the scanned cylinders, using this transform.\n",
    "# 04_c_estimate_transform\n",
    "from lego_robot import *\n",
    "from slam_b_library import filter_step, compute_scanner_cylinders,\\\n",
    "    write_cylinders\n",
    "\n",
    "# NOTE: In this notebook you won't have to insert your implementation of find_cylinder_pairs()\n",
    "#       here, since your function from above is just taken. If this does not work, make sure\n",
    "#       to execute the cells above.\n",
    "\n",
    "if __name__ == '__main__':\n",
    "    # The constants we used for the filter_step.\n",
    "    scanner_displacement = 30.0\n",
    "    ticks_to_mm = 0.349\n",
    "    robot_width = 150.0\n",
    "\n",
    "    # The constants we used for the cylinder detection in our scan.    \n",
    "    minimum_valid_distance = 20.0\n",
    "    depth_jump = 100.0\n",
    "    cylinder_offset = 90.0\n",
    "\n",
    "    # The maximum distance allowed for cylinder assignment.\n",
    "    max_cylinder_distance = 300.0\n",
    "\n",
    "    # The start pose we obtained miraculously.\n",
    "    pose = (1850.0, 1897.0, 3.717551306747922)\n",
    "\n",
    "    # Read the logfile which contains all scans.\n",
    "    logfile = LegoLogfile()\n",
    "    logfile.read(\"robot4_motors.txt\")\n",
    "    logfile.read(\"robot4_scan.txt\")\n",
    "\n",
    "    # Also read the reference cylinders (this is our map).\n",
    "    logfile.read(\"robot_arena_landmarks.txt\")\n",
    "    reference_cylinders = [l[1:3] for l in logfile.landmarks]\n",
    "\n",
    "    out_file = open(\"estimate_transform.txt\", \"w\")\n",
    "    for i in range(len(logfile.scan_data)):\n",
    "        # Compute the new pose.\n",
    "        pose = filter_step(pose, logfile.motor_ticks[i],\n",
    "                           ticks_to_mm, robot_width,\n",
    "                           scanner_displacement)\n",
    "\n",
    "        # Extract cylinders, also convert them to world coordinates.\n",
    "        cartesian_cylinders = compute_scanner_cylinders(\n",
    "            logfile.scan_data[i],\n",
    "            depth_jump, minimum_valid_distance, cylinder_offset)\n",
    "        world_cylinders = [LegoLogfile.scanner_to_world(pose, c)\n",
    "                           for c in cartesian_cylinders]\n",
    "\n",
    "        # For every cylinder, find the closest reference cylinder.\n",
    "        cylinder_pairs = find_cylinder_pairs(\n",
    "            world_cylinders, reference_cylinders, max_cylinder_distance)\n",
    "\n",
    "        # Estimate a transformation using the cylinder pairs.\n",
    "        trafo = estimate_transform(\n",
    "            [world_cylinders[pair[0]] for pair in cylinder_pairs],\n",
    "            [reference_cylinders[pair[1]] for pair in cylinder_pairs],\n",
    "            fix_scale = True)\n",
    "\n",
    "        # Transform the cylinders using the estimated transform.\n",
    "        transformed_world_cylinders = []\n",
    "        if trafo:\n",
    "            transformed_world_cylinders =\\\n",
    "                [apply_transform(trafo, c) for c in\n",
    "                 [world_cylinders[pair[0]] for pair in cylinder_pairs]]            \n",
    "\n",
    "        # Write to file.\n",
    "        # The pose.\n",
    "        print(\"F %f %f %f\" % pose, file=out_file)\n",
    "        # The detected cylinders in the scanner's coordinate system.\n",
    "        write_cylinders(out_file, \"D C\", cartesian_cylinders)\n",
    "        # The detected cylinders, transformed using the estimated trafo.\n",
    "        write_cylinders(out_file, \"W C\", transformed_world_cylinders)\n",
    "\n",
    "    out_file.close()"
   ]
  },
  {
   "cell_type": "markdown",
   "metadata": {
    "deletable": false,
    "editable": false,
    "nbgrader": {
     "cell_type": "markdown",
     "checksum": "bb19581f9bf03c23879137e9a901fafa",
     "grade": false,
     "grade_id": "cell-c5ad8dfcf65ae966",
     "locked": true,
     "schema_version": 3,
     "solution": false,
     "task": false
    }
   },
   "source": [
    "## Pose correction from measurement data\n",
    "In this section, we will use the estimated transform to correct the pose of our robot. This is our first step towards using measurement data to estimate the state of the robot."
   ]
  },
  {
   "cell_type": "code",
   "execution_count": null,
   "metadata": {
    "deletable": false,
    "editable": false,
    "nbgrader": {
     "cell_type": "code",
     "checksum": "dab081e17ac6933bf21091c15940d7d2",
     "grade": false,
     "grade_id": "cell-b8f6f7ca60491351",
     "locked": true,
     "schema_version": 3,
     "solution": false,
     "task": false
    }
   },
   "outputs": [
    {
     "data": {
      "text/html": [
       "\n",
       "        <iframe\n",
       "            width=\"560\"\n",
       "            height=\"315\"\n",
       "            src=\"//av.tib.eu/player/48985\"\n",
       "            frameborder=\"0\"\n",
       "            allowfullscreen\n",
       "        ></iframe>\n",
       "        "
      ],
      "text/plain": [
       "<IPython.lib.display.IFrame at 0x1fd61960760>"
      ]
     },
     "execution_count": 91,
     "metadata": {},
     "output_type": "execute_result"
    }
   ],
   "source": [
    "# If you don't see a video below, run this cell.\n",
    "from IPython.display import IFrame\n",
    "IFrame(\"https://www.youtube.com/embed/zSUoE-I9kkc\" if \"YouTube\" in globals() else \"//av.tib.eu/player/48985\",\n",
    "       width=560, height=315)"
   ]
  },
  {
   "cell_type": "markdown",
   "metadata": {
    "deletable": false,
    "editable": false,
    "nbgrader": {
     "cell_type": "markdown",
     "checksum": "7f2fac46058912cc69d2e3332b5a4a9c",
     "grade": false,
     "grade_id": "cell-fe98aef5ecf37db1",
     "locked": true,
     "schema_version": 3,
     "solution": false,
     "task": false
    }
   },
   "source": [
    "### First, as in the video, let's look at the results of the similarity transform estimation.\n",
    "The *assigned landmarks* are marked again, but this time, in a different way!\n",
    "\n",
    "*Previously,* every landmark in the map that was used in an assignment was marked by an extra dot in its center. Even if only one landmark could be assigned, this single landmark was marked (e.g., check above the robot position (step) 63, where only a single landmark is assigned).\n",
    "\n",
    "*Now,* the best transform of the measured landmarks to the map landmarks is computed and applied. So the dots are not in the center of the map landmarks anymore, but rather close to them $-$ as close as possible, in the least squares sense. Also, if less than two landmarks are assigned, the transformation will not be performed and no dots will appear (again, check robot position 63)."
   ]
  },
  {
   "cell_type": "code",
   "execution_count": null,
   "metadata": {},
   "outputs": [
    {
     "data": {
      "image/svg+xml": "<?xml version=\"1.0\" encoding=\"utf-8\" standalone=\"no\"?>\r\n<!DOCTYPE svg PUBLIC \"-//W3C//DTD SVG 1.1//EN\"\r\n  \"http://www.w3.org/Graphics/SVG/1.1/DTD/svg11.dtd\">\r\n<!-- Created with matplotlib (https://matplotlib.org/) -->\r\n<svg height=\"289.7pt\" version=\"1.1\" viewBox=\"0 0 289.7 289.7\" width=\"289.7pt\" xmlns=\"http://www.w3.org/2000/svg\" xmlns:xlink=\"http://www.w3.org/1999/xlink\">\r\n <metadata>\r\n  <rdf:RDF xmlns:cc=\"http://creativecommons.org/ns#\" xmlns:dc=\"http://purl.org/dc/elements/1.1/\" xmlns:rdf=\"http://www.w3.org/1999/02/22-rdf-syntax-ns#\">\r\n   <cc:Work>\r\n    <dc:type rdf:resource=\"http://purl.org/dc/dcmitype/StillImage\"/>\r\n    <dc:date>2021-11-09T17:03:19.192629</dc:date>\r\n    <dc:format>image/svg+xml</dc:format>\r\n    <dc:creator>\r\n     <cc:Agent>\r\n      <dc:title>Matplotlib v3.3.4, https://matplotlib.org/</dc:title>\r\n     </cc:Agent>\r\n    </dc:creator>\r\n   </cc:Work>\r\n  </rdf:RDF>\r\n </metadata>\r\n <defs>\r\n  <style type=\"text/css\">*{stroke-linecap:butt;stroke-linejoin:round;}</style>\r\n </defs>\r\n <g id=\"figure_1\">\r\n  <g id=\"patch_1\">\r\n   <path d=\"M 0 289.7 \r\nL 289.7 289.7 \r\nL 289.7 0 \r\nL 0 0 \r\nz\r\n\" style=\"fill:none;\"/>\r\n  </g>\r\n  <g id=\"axes_1\">\r\n   <g id=\"patch_2\">\r\n    <path d=\"M 10.7 279 \r\nL 282.5 279 \r\nL 282.5 7.2 \r\nL 10.7 7.2 \r\nz\r\n\" style=\"fill:#ffffff;\"/>\r\n   </g>\r\n   <g id=\"matplotlib.axis_1\"/>\r\n   <g id=\"matplotlib.axis_2\"/>\r\n   <g id=\"patch_3\">\r\n    <path d=\"M 10.7 279 \r\nL 10.7 7.2 \r\n\" style=\"fill:none;stroke:#000000;stroke-linecap:square;stroke-linejoin:miter;stroke-width:0.8;\"/>\r\n   </g>\r\n   <g id=\"patch_4\">\r\n    <path d=\"M 282.5 279 \r\nL 282.5 7.2 \r\n\" style=\"fill:none;stroke:#000000;stroke-linecap:square;stroke-linejoin:miter;stroke-width:0.8;\"/>\r\n   </g>\r\n   <g id=\"patch_5\">\r\n    <path d=\"M 10.7 279 \r\nL 282.5 279 \r\n\" style=\"fill:none;stroke:#000000;stroke-linecap:square;stroke-linejoin:miter;stroke-width:0.8;\"/>\r\n   </g>\r\n   <g id=\"patch_6\">\r\n    <path d=\"M 10.7 7.2 \r\nL 282.5 7.2 \r\n\" style=\"fill:none;stroke:#000000;stroke-linecap:square;stroke-linejoin:miter;stroke-width:0.8;\"/>\r\n   </g>\r\n   <g id=\"line2d_1\">\r\n    <path clip-path=\"url(#p326bed9cda)\" d=\"M 24.29 211.05 \r\nL 146.6 211.05 \r\nL 146.6 88.74 \r\n\" style=\"fill:none;stroke:#000000;stroke-linecap:square;\"/>\r\n   </g>\r\n   <g id=\"text_1\">\r\n    <!-- x -->\r\n    <g transform=\"translate(152.7155 88.74)scale(0.1 -0.1)\">\r\n     <defs>\r\n      <path d=\"M 54.890625 54.6875 \r\nL 35.109375 28.078125 \r\nL 55.90625 0 \r\nL 45.3125 0 \r\nL 29.390625 21.484375 \r\nL 13.484375 0 \r\nL 2.875 0 \r\nL 24.125 28.609375 \r\nL 4.6875 54.6875 \r\nL 15.28125 54.6875 \r\nL 29.78125 35.203125 \r\nL 44.28125 54.6875 \r\nz\r\n\" id=\"DejaVuSans-120\"/>\r\n     </defs>\r\n     <use xlink:href=\"#DejaVuSans-120\"/>\r\n    </g>\r\n   </g>\r\n   <g id=\"text_2\">\r\n    <!-- y -->\r\n    <g transform=\"translate(24.29 204.9345)scale(0.1 -0.1)\">\r\n     <defs>\r\n      <path d=\"M 32.171875 -5.078125 \r\nQ 28.375 -14.84375 24.75 -17.8125 \r\nQ 21.140625 -20.796875 15.09375 -20.796875 \r\nL 7.90625 -20.796875 \r\nL 7.90625 -13.28125 \r\nL 13.1875 -13.28125 \r\nQ 16.890625 -13.28125 18.9375 -11.515625 \r\nQ 21 -9.765625 23.484375 -3.21875 \r\nL 25.09375 0.875 \r\nL 2.984375 54.6875 \r\nL 12.5 54.6875 \r\nL 29.59375 11.921875 \r\nL 46.6875 54.6875 \r\nL 56.203125 54.6875 \r\nz\r\n\" id=\"DejaVuSans-121\"/>\r\n     </defs>\r\n     <use xlink:href=\"#DejaVuSans-121\"/>\r\n    </g>\r\n   </g>\r\n   <g id=\"patch_7\">\r\n    <path clip-path=\"url(#p326bed9cda)\" d=\"M 146.6 214.626316 \r\nC 147.54845 214.626316 148.458182 214.249493 149.128837 213.578837 \r\nC 149.799493 212.908182 150.176316 211.99845 150.176316 211.05 \r\nC 150.176316 210.10155 149.799493 209.191818 149.128837 208.521163 \r\nC 148.458182 207.850507 147.54845 207.473684 146.6 207.473684 \r\nC 145.65155 207.473684 144.741818 207.850507 144.071163 208.521163 \r\nC 143.400507 209.191818 143.023684 210.10155 143.023684 211.05 \r\nC 143.023684 211.99845 143.400507 212.908182 144.071163 213.578837 \r\nC 144.741818 214.249493 145.65155 214.626316 146.6 214.626316 \r\nz\r\n\" style=\"fill:#808080;stroke:#808080;stroke-linejoin:miter;\"/>\r\n   </g>\r\n  </g>\r\n </g>\r\n <defs>\r\n  <clipPath id=\"p326bed9cda\">\r\n   <rect height=\"271.8\" width=\"271.8\" x=\"10.7\" y=\"7.2\"/>\r\n  </clipPath>\r\n </defs>\r\n</svg>\r\n",
      "text/plain": [
       "<Figure size 500x500 with 1 Axes>"
      ]
     },
     "metadata": {},
     "output_type": "display_data"
    },
    {
     "data": {
      "application/vnd.jupyter.widget-view+json": {
       "model_id": "d357d8bdb4264b4a8a5039ecb2baedb8",
       "version_major": 2,
       "version_minor": 0
      },
      "text/plain": [
       "VBox(children=(HBox(children=(Output(layout=Layout(width='600px')), Output(layout=Layout(width='600px')))), Ou…"
      ]
     },
     "metadata": {},
     "output_type": "display_data"
    }
   ],
   "source": [
    "import ipy_logfile_viewer as lfv\n",
    "v = lfv.IPYLogfileViewer(files=[\"estimate_transform.txt\", \"robot_arena_landmarks.txt\"])"
   ]
  },
  {
   "cell_type": "markdown",
   "metadata": {
    "deletable": false,
    "editable": false,
    "nbgrader": {
     "cell_type": "markdown",
     "checksum": "7714cd6a361a2352a25adaa6471bb775",
     "grade": false,
     "grade_id": "cell-5f5efdba6900a850",
     "locked": true,
     "schema_version": 3,
     "solution": false,
     "task": false
    }
   },
   "source": [
    "### Next, we correct the pose, in the following assignment (10 Points).\n",
    "As shown in the above video, all there is to do is to implement the `correct_pose(pose, trafo)` function."
   ]
  },
  {
   "cell_type": "code",
   "execution_count": null,
   "metadata": {
    "deletable": false,
    "nbgrader": {
     "cell_type": "code",
     "checksum": "35a636aec4eee8df408b14c8d49be73d",
     "grade": false,
     "grade_id": "cell-1a6ed88741ed6a11",
     "locked": false,
     "schema_version": 3,
     "solution": true,
     "task": false
    }
   },
   "outputs": [],
   "source": [
    "# NOTE: In this notebook you won't have to insert your implementation of previous functions\n",
    "#       here, since your functions from above are just taken. If this does not work, make sure\n",
    "#       to execute the cells above.\n",
    "\n",
    "# Correct the pose = (x, y, heading) of the robot using the given\n",
    "# similarity transform. Note this changes the position as well as\n",
    "# the heading.\n",
    "def correct_pose(pose, trafo):\n",
    "    # YOUR CODE HERE\n",
    "\n",
    "    # die Transformation der Pose des Fahrzeugs ist nichts anders als die Landmarke, jede Abtastzeit haben sich die Rotationsparameter durch die left_list und right_list\n",
    "    # vollständig bestimmt, durch die Einsetzung in Korrekturfunktion ist die Position des Fahrzeugs auch zu filtern. Die Orientierungswinkel halten die Regel ein, dass die \n",
    "    # durch die Rotationswinkel alpha im gegenuhrzeiger Sinn zu addieren, um die neue Richtung zu korrigieren.\n",
    "    la, c, s, tx, ty =trafo\n",
    "    x, y ,t=pose\n",
    "    #raise NotImplementedError()\n",
    "    [x,y]=apply_transform(trafo, (x,y))\n",
    "    t=t+atan2(s,c)\n",
    "    \n",
    "    return (x, y, t)"
   ]
  },
  {
   "cell_type": "markdown",
   "metadata": {
    "deletable": false,
    "editable": false,
    "nbgrader": {
     "cell_type": "markdown",
     "checksum": "348e34618b9cb1335c28388b0420beb1",
     "grade": false,
     "grade_id": "cell-4fc0f33271b02201",
     "locked": true,
     "schema_version": 3,
     "solution": false,
     "task": false
    }
   },
   "source": [
    "### First, let's test your implementation."
   ]
  },
  {
   "cell_type": "code",
   "execution_count": null,
   "metadata": {
    "deletable": false,
    "editable": false,
    "nbgrader": {
     "cell_type": "code",
     "checksum": "fc4915eab57a7c89641073f0d573f2a2",
     "grade": true,
     "grade_id": "cell-5604d0b953fe0c0d",
     "locked": true,
     "points": 10,
     "schema_version": 3,
     "solution": false,
     "task": false
    }
   },
   "outputs": [],
   "source": [
    "from random import random\n",
    "from math import sin, cos, atan2, pi\n",
    "def public_test(the_correct_pose):\n",
    "    number_of_tests = 10\n",
    "    for test in range(number_of_tests):\n",
    "        # Choose a random robot position, in polar coordinates:\n",
    "        # vector lenght and angle.\n",
    "        old_len, old_phi = random()*5, random()*2*pi\n",
    "        # Also choose a random robot heading.\n",
    "        old_heading = random()*2*pi\n",
    "        # From this, define the old pose in Euclidean coordinates.\n",
    "        old_pose = (old_len*cos(old_phi), old_len*sin(old_phi), old_heading)\n",
    "\n",
    "        # Choose a random transformation.\n",
    "        trf_angle = random()*2*pi\n",
    "        trf_scale, trf_x, trf_y = random()+0.5, random()*4-2, random()*6-3\n",
    "        # Convert to our 5-element tuple specification of a trafo.\n",
    "        trf = (trf_scale, cos(trf_angle), sin(trf_angle), trf_x, trf_y)\n",
    "\n",
    "        # Compute the new pose, using polar coordinates.\n",
    "        new_len = old_len * trf_scale\n",
    "        new_phi = old_phi + trf_angle\n",
    "        # From this, define the new pose in Euclidean coordinates.\n",
    "        new_pose = (new_len*cos(new_phi)+trf_x, new_len*sin(new_phi)+trf_y,\n",
    "                    old_heading+trf_angle)\n",
    "\n",
    "        # Now we are ready to run the function to be tested.\n",
    "        # Note for heading, we test cos and sin to prevent mod 2pi ambiguities.\n",
    "        try:\n",
    "            pose = the_correct_pose(old_pose, trf)\n",
    "            if abs(new_pose[0]-pose[0]) > 0.0001 or\\\n",
    "               abs(new_pose[1]-pose[1]) > 0.0001 or\\\n",
    "               abs(cos(new_pose[2])-cos(pose[2])) > 0.0001 or\\\n",
    "               abs(sin(new_pose[2])-sin(pose[2])) > 0.0001:\n",
    "                print(\"Produced the wrong result for:\")\n",
    "                print(\"Initial pose:\", old_pose)\n",
    "                print(\"Transformation:\", trf)\n",
    "                print(\"Expected result:\", new_pose)\n",
    "                print(\"Your result:\", pose)\n",
    "                return False\n",
    "        except Exception as e:\n",
    "            print(\"Your code crashed with exception:\", repr(e))\n",
    "            return False\n",
    "    return True\n",
    "assert(public_test(correct_pose))"
   ]
  },
  {
   "cell_type": "markdown",
   "metadata": {
    "deletable": false,
    "editable": false,
    "nbgrader": {
     "cell_type": "markdown",
     "checksum": "7064d39de170e18fb4943111e5f25675",
     "grade": false,
     "grade_id": "cell-2a5a757150da73d0",
     "locked": true,
     "schema_version": 3,
     "solution": false,
     "task": false
    }
   },
   "source": [
    "After the test works, run the following cell to produce the file `apply_transform.txt` which we will look at below."
   ]
  },
  {
   "cell_type": "code",
   "execution_count": null,
   "metadata": {},
   "outputs": [],
   "source": [
    "# For each cylinder in the scan, find its cartesian coordinates,\n",
    "# in the world coordinate system.\n",
    "# Find the closest pairs of cylinders from the scanner and cylinders\n",
    "# from the reference, and the optimal transformation which aligns them.\n",
    "# Then, use this transform to correct the pose.\n",
    "# 04_d_apply_transform\n",
    "from lego_robot import *\n",
    "from slam_b_library import filter_step, compute_scanner_cylinders,\\\n",
    "    write_cylinders\n",
    "from math import sqrt, atan2\n",
    "\n",
    "if __name__ == '__main__':\n",
    "    # The constants we used for the filter_step.\n",
    "    scanner_displacement = 30.0\n",
    "    ticks_to_mm = 0.349\n",
    "    robot_width = 150.0\n",
    "\n",
    "    # The constants we used for the cylinder detection in our scan.    \n",
    "    minimum_valid_distance = 20.0\n",
    "    depth_jump = 100.0\n",
    "    cylinder_offset = 90.0\n",
    "\n",
    "    # The maximum distance allowed for cylinder assignment.\n",
    "    max_cylinder_distance = 400.0\n",
    "\n",
    "    # The start pose we obtained miraculously.\n",
    "    pose = (1850.0, 1897.0, 3.717551306747922)\n",
    "\n",
    "    # Read the logfile which contains all scans.\n",
    "    logfile = LegoLogfile()\n",
    "    logfile.read(\"robot4_motors.txt\")\n",
    "    logfile.read(\"robot4_scan.txt\")\n",
    "\n",
    "    # Also read the reference cylinders (this is our map).\n",
    "    logfile.read(\"robot_arena_landmarks.txt\")\n",
    "    reference_cylinders = [l[1:3] for l in logfile.landmarks]\n",
    "\n",
    "    out_file = open(\"apply_transform.txt\", \"w\")\n",
    "    for i in range(len(logfile.scan_data)):\n",
    "        # Compute the new pose.\n",
    "        pose = filter_step(pose, logfile.motor_ticks[i],\n",
    "                           ticks_to_mm, robot_width,\n",
    "                           scanner_displacement)\n",
    "\n",
    "        # Extract cylinders, also convert them to world coordinates.\n",
    "        cartesian_cylinders = compute_scanner_cylinders(\n",
    "            logfile.scan_data[i],\n",
    "            depth_jump, minimum_valid_distance, cylinder_offset)\n",
    "        world_cylinders = [LegoLogfile.scanner_to_world(pose, c)\n",
    "                           for c in cartesian_cylinders]\n",
    "\n",
    "        # For every cylinder, find the closest reference cylinder.\n",
    "        cylinder_pairs = find_cylinder_pairs(\n",
    "            world_cylinders, reference_cylinders, max_cylinder_distance)\n",
    "\n",
    "        # Estimate a transformation using the cylinder pairs.\n",
    "        trafo = estimate_transform(\n",
    "            [world_cylinders[pair[0]] for pair in cylinder_pairs],\n",
    "            [reference_cylinders[pair[1]] for pair in cylinder_pairs],\n",
    "            fix_scale = True)\n",
    "\n",
    "        # Transform the cylinders using the estimated transform.\n",
    "        transformed_world_cylinders = []\n",
    "        if trafo:\n",
    "            transformed_world_cylinders =\\\n",
    "                [apply_transform(trafo, c) for c in\n",
    "                 [world_cylinders[pair[0]] for pair in cylinder_pairs]]\n",
    "\n",
    "        # Also apply the trafo to correct the position and heading.\n",
    "        if trafo:\n",
    "            pose = correct_pose(pose, trafo)\n",
    "\n",
    "        # Write to file.\n",
    "        # The pose.\n",
    "        print(\"F %f %f %f\" % pose, file=out_file)\n",
    "        # The detected cylinders in the scanner's coordinate system.\n",
    "        write_cylinders(out_file, \"D C\", cartesian_cylinders)\n",
    "        # The detected cylinders, transformed using the estimated trafo.\n",
    "        write_cylinders(out_file, \"W C\", transformed_world_cylinders)\n",
    "\n",
    "    out_file.close()"
   ]
  },
  {
   "cell_type": "markdown",
   "metadata": {
    "deletable": false,
    "editable": false,
    "nbgrader": {
     "cell_type": "markdown",
     "checksum": "7968407bb4562073fa3a5fe14ca25d67",
     "grade": false,
     "grade_id": "cell-b88b295c45d9ce5e",
     "locked": true,
     "schema_version": 3,
     "solution": false,
     "task": false
    }
   },
   "source": [
    "### Finally, let's celebrate this amazing result!\n",
    "Now, for the first time, you managed to get rid of the drift introduced by the odometry, using the measurements! Comparing the trajectory to the *reference* (obtained by the overhead camera), you see that it fits the global shape quite well.\n",
    "\n",
    "You will also notice that the trajectory looks quite jagged. When you step through the single positions of the robot, you will see that jumps often occur when the set of observed landmarks changes. Sometimes we had quite some luck, for example, from step 69 on, the number of observed landmarks is less than two. From there on, the pose drifts quite a bit. When two landmark matches become available again in step 76, we are quite lucky that the observed landmarks are still close enough to match the landmarks in the map.\n",
    "\n",
    "So far, we did not use any error model. Whenever enough landmarks are matched, we overwrite the pose based on the motion model by the pose based on the transformation estimation. That is, whenever available, we trust our sensor data by a 100%. In later units, we will work on a more sophisticated error model, and we will obtain a less jagged trajectory. However, the basic succession of *predicting* a new pose, *matching* landmarks based on the predicted pose and measurements, and finally *correcting* the pose will stay the same. These are the basic ingredients of what is called a *filter* solution."
   ]
  },
  {
   "cell_type": "code",
   "execution_count": null,
   "metadata": {},
   "outputs": [
    {
     "data": {
      "application/vnd.jupyter.widget-view+json": {
       "model_id": "458611ffa56a4dc7a41efdc3f635a364",
       "version_major": 2,
       "version_minor": 0
      },
      "text/plain": [
       "VBox(children=(HBox(children=(Output(layout=Layout(width='600px')), Output(layout=Layout(width='600px')))), Ou…"
      ]
     },
     "metadata": {},
     "output_type": "display_data"
    }
   ],
   "source": [
    "import ipy_logfile_viewer as lfv\n",
    "v = lfv.IPYLogfileViewer(files=[\"apply_transform.txt\", \"robot4_reference.txt\", \"robot_arena_landmarks.txt\"])"
   ]
  }
 ],
 "metadata": {
  "copyright": "(c) Claus Brenner 2020",
  "interpreter": {
   "hash": "ecf5722fdaf1897a315d257d89d94520bfcaa453217d5becf09b39e73618b0de"
  },
  "kernelspec": {
   "display_name": "Python 3.8.5 64-bit ('base': conda)",
   "name": "python3"
  },
  "language_info": {
   "codemirror_mode": {
    "name": "ipython",
    "version": 3
   },
   "file_extension": ".py",
   "mimetype": "text/x-python",
   "name": "python",
   "nbconvert_exporter": "python",
   "pygments_lexer": "ipython3",
   "version": "3.8.5"
  }
 },
 "nbformat": 4,
 "nbformat_minor": 4
}
