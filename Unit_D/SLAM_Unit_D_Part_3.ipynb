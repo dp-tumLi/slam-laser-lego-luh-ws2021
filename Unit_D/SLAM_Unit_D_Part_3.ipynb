{
 "cells": [
  {
   "cell_type": "markdown",
   "metadata": {
    "deletable": false,
    "editable": false,
    "nbgrader": {
     "cell_type": "markdown",
     "checksum": "39b28360ffd8ff044ab70195304a1740",
     "grade": false,
     "grade_id": "cell-2f8a7ef962f10e57",
     "locked": true,
     "schema_version": 3,
     "solution": false,
     "task": false
    }
   },
   "source": [
    "# SLAM Unit D - Part 3\n",
    "Finally, building the Kalman filter for our robot. On our way, we will introduce the extended Kalman filter."
   ]
  },
  {
   "cell_type": "code",
   "execution_count": 77,
   "metadata": {},
   "outputs": [
    {
     "data": {
      "text/html": [
       "\n",
       "        <iframe\n",
       "            width=\"560\"\n",
       "            height=\"315\"\n",
       "            src=\"//av.tib.eu/player/49011\"\n",
       "            frameborder=\"0\"\n",
       "            allowfullscreen\n",
       "        ></iframe>\n",
       "        "
      ],
      "text/plain": [
       "<IPython.lib.display.IFrame at 0x23efdc14ee0>"
      ]
     },
     "execution_count": 77,
     "metadata": {},
     "output_type": "execute_result"
    }
   ],
   "source": [
    "# If you don't see a video below, run this cell.\n",
    "# YouTube = True  # Uncomment to get YouTube videos instead of TIB AV.\n",
    "from IPython.display import IFrame\n",
    "IFrame(\"https://www.youtube.com/embed/U2fE1AkmGmg\" if \"YouTube\" in globals() else \"//av.tib.eu/player/49011\",\n",
    "       width=560, height=315)"
   ]
  },
  {
   "cell_type": "markdown",
   "metadata": {
    "deletable": false,
    "editable": false,
    "nbgrader": {
     "cell_type": "markdown",
     "checksum": "fa6d375b681375e4288434dd33b40644",
     "grade": false,
     "grade_id": "cell-19a03ee5742f6bff",
     "locked": true,
     "schema_version": 3,
     "solution": false,
     "task": false
    }
   },
   "source": [
    "## First, the prediction step\n",
    "We need the following parts:\n",
    "\n",
    "- The transformation of the state itself. We will call it $g()$. This is just the implementation of the nonlinear motion model, as we learned it in Unit A (and as repeated in the video).\n",
    "- The Jacobian matrix of this transformation, the derivative with respect to the state. This is $G=\\partial g/\\partial(x,y,\\theta)$.\n",
    "- The Jacobian matrix, derivative with respect to control. This is $V=\\partial g/\\partial(l,r)$.\n",
    "\n",
    "Once we have all these components, we can put them together to obtain the prediction step of the Kalman filter.\n",
    "\n",
    "### Part 1: The transformation of the state.\n",
    "This is from Unit A and I have implemented it for you already. Run the cell below to reproduce the results from the above video, then run the next but one cell to view the results."
   ]
  },
  {
   "cell_type": "code",
   "execution_count": 78,
   "metadata": {},
   "outputs": [],
   "source": [
    "# This introduces the extended Kalman Filter class.\n",
    "# The computational steps are the same as in Unit A,\n",
    "# slam_02_b_filter_motor_file.\n",
    "#\n",
    "# slam_07_a_extended_kalman_filter_class\n",
    "from lego_robot import *\n",
    "from numpy import *\n",
    "\n",
    "class ExtendedKalmanFilter_1:\n",
    "\n",
    "    @staticmethod\n",
    "    def g(state, control, w):\n",
    "        x, y, theta = state\n",
    "        l, r = control\n",
    "        if r != l:\n",
    "            alpha = (r - l) / w\n",
    "            rad = l/alpha\n",
    "            g1 = x + (rad + w/2.)*(sin(theta+alpha) - sin(theta))\n",
    "            g2 = y + (rad + w/2.)*(-cos(theta+alpha) + cos(theta))\n",
    "            g3 = (theta + alpha + pi) % (2*pi) - pi\n",
    "        else:\n",
    "            g1 = x + l * cos(theta)\n",
    "            g2 = y + l * sin(theta)\n",
    "            g3 = theta\n",
    "\n",
    "        return array([g1, g2, g3])\n",
    "\n",
    "\n",
    "if __name__ == '__main__':\n",
    "    # Constants.\n",
    "    scanner_displacement = 30.0\n",
    "    ticks_to_mm = 0.349\n",
    "    robot_width = 155.0\n",
    "\n",
    "    # Measured start position.\n",
    "    state = array([1850.0, 1897.0, 213.0 / 180.0 * pi])\n",
    "\n",
    "    # Read data.\n",
    "    logfile = LegoLogfile()\n",
    "    logfile.read(\"robot4_motors.txt\")\n",
    "\n",
    "    # Loop over all motor tick records and generate a filtered position list.\n",
    "    states = []\n",
    "    for ticks in logfile.motor_ticks:\n",
    "        # Prediction (so far only predicts state, not covariance).\n",
    "        control = array(ticks) * ticks_to_mm\n",
    "        state = ExtendedKalmanFilter_1.g(state, control, robot_width)\n",
    "\n",
    "        # Log state.\n",
    "        states.append(state)\n",
    "\n",
    "    # Write all states to file.\n",
    "    f = open(\"states_from_ticks.txt\", \"w\")\n",
    "    for s in states:\n",
    "        # Output the center of the scanner, not the center of the robot.\n",
    "        print(\"F %f %f %f\" % \\\n",
    "            tuple(s + [scanner_displacement * cos(s[2]),\n",
    "                       scanner_displacement * sin(s[2]),\n",
    "                       0.0]), file=f)\n",
    "    f.close()"
   ]
  },
  {
   "cell_type": "code",
   "execution_count": 79,
   "metadata": {},
   "outputs": [
    {
     "data": {
      "image/svg+xml": "<?xml version=\"1.0\" encoding=\"utf-8\" standalone=\"no\"?>\r\n<!DOCTYPE svg PUBLIC \"-//W3C//DTD SVG 1.1//EN\"\r\n  \"http://www.w3.org/Graphics/SVG/1.1/DTD/svg11.dtd\">\r\n<!-- Created with matplotlib (https://matplotlib.org/) -->\r\n<svg height=\"289.7pt\" version=\"1.1\" viewBox=\"0 0 289.7 289.7\" width=\"289.7pt\" xmlns=\"http://www.w3.org/2000/svg\" xmlns:xlink=\"http://www.w3.org/1999/xlink\">\r\n <metadata>\r\n  <rdf:RDF xmlns:cc=\"http://creativecommons.org/ns#\" xmlns:dc=\"http://purl.org/dc/elements/1.1/\" xmlns:rdf=\"http://www.w3.org/1999/02/22-rdf-syntax-ns#\">\r\n   <cc:Work>\r\n    <dc:type rdf:resource=\"http://purl.org/dc/dcmitype/StillImage\"/>\r\n    <dc:date>2021-11-30T21:42:18.244351</dc:date>\r\n    <dc:format>image/svg+xml</dc:format>\r\n    <dc:creator>\r\n     <cc:Agent>\r\n      <dc:title>Matplotlib v3.3.4, https://matplotlib.org/</dc:title>\r\n     </cc:Agent>\r\n    </dc:creator>\r\n   </cc:Work>\r\n  </rdf:RDF>\r\n </metadata>\r\n <defs>\r\n  <style type=\"text/css\">*{stroke-linecap:butt;stroke-linejoin:round;}</style>\r\n </defs>\r\n <g id=\"figure_1\">\r\n  <g id=\"patch_1\">\r\n   <path d=\"M 0 289.7 \r\nL 289.7 289.7 \r\nL 289.7 0 \r\nL 0 0 \r\nz\r\n\" style=\"fill:none;\"/>\r\n  </g>\r\n  <g id=\"axes_1\">\r\n   <g id=\"patch_2\">\r\n    <path d=\"M 10.7 279 \r\nL 282.5 279 \r\nL 282.5 7.2 \r\nL 10.7 7.2 \r\nz\r\n\" style=\"fill:#ffffff;\"/>\r\n   </g>\r\n   <g id=\"patch_3\">\r\n    <path clip-path=\"url(#pd294a87cb1)\" d=\"M 181.867707 36.899122 \r\nC 183.80162 36.899122 185.656585 36.13077 187.024068 34.763287 \r\nC 188.391551 33.395805 189.159902 31.54084 189.159902 29.606927 \r\nC 189.159902 27.673014 188.391551 25.818049 187.024068 24.450566 \r\nC 185.656585 23.083083 183.80162 22.314732 181.867707 22.314732 \r\nC 179.933795 22.314732 178.07883 23.083083 176.711347 24.450566 \r\nC 175.343864 25.818049 174.575512 27.673014 174.575512 29.606927 \r\nC 174.575512 31.54084 175.343864 33.395805 176.711347 34.763287 \r\nC 178.07883 36.13077 179.933795 36.899122 181.867707 36.899122 \r\nz\r\n\" style=\"fill:#808080;stroke:#808080;stroke-linejoin:miter;\"/>\r\n   </g>\r\n   <g id=\"patch_4\">\r\n    <path clip-path=\"url(#pd294a87cb1)\" d=\"M 74.606146 195.868976 \r\nC 76.540059 195.868976 78.395024 195.100624 79.762507 193.733141 \r\nC 81.12999 192.365658 81.898341 190.510693 81.898341 188.57678 \r\nC 81.898341 186.642868 81.12999 184.787903 79.762507 183.42042 \r\nC 78.395024 182.052937 76.540059 181.284585 74.606146 181.284585 \r\nC 72.672234 181.284585 70.817269 182.052937 69.449786 183.42042 \r\nC 68.082303 184.787903 67.313951 186.642868 67.313951 188.57678 \r\nC 67.313951 190.510693 68.082303 192.365658 69.449786 193.733141 \r\nC 70.817269 195.100624 72.672234 195.868976 74.606146 195.868976 \r\nz\r\n\" style=\"fill:#808080;stroke:#808080;stroke-linejoin:miter;\"/>\r\n   </g>\r\n   <g id=\"patch_5\">\r\n    <path clip-path=\"url(#pd294a87cb1)\" d=\"M 168.609171 187.250927 \r\nC 170.543083 187.250927 172.398049 186.482575 173.765531 185.115092 \r\nC 175.133014 183.74761 175.901366 181.892644 175.901366 179.958732 \r\nC 175.901366 178.024819 175.133014 176.169854 173.765531 174.802371 \r\nC 172.398049 173.434888 170.543083 172.666537 168.609171 172.666537 \r\nC 166.675258 172.666537 164.820293 173.434888 163.45281 174.802371 \r\nC 162.085327 176.169854 161.316976 178.024819 161.316976 179.958732 \r\nC 161.316976 181.892644 162.085327 183.74761 163.45281 185.115092 \r\nC 164.820293 186.482575 166.675258 187.250927 168.609171 187.250927 \r\nz\r\n\" style=\"fill:#808080;stroke:#808080;stroke-linejoin:miter;\"/>\r\n   </g>\r\n   <g id=\"patch_6\">\r\n    <path clip-path=\"url(#pd294a87cb1)\" d=\"M 235.167024 148.005659 \r\nC 237.100937 148.005659 238.955902 147.237307 240.323385 145.869824 \r\nC 241.690868 144.502341 242.45922 142.647376 242.45922 140.713463 \r\nC 242.45922 138.779551 241.690868 136.924586 240.323385 135.557103 \r\nC 238.955902 134.18962 237.100937 133.421268 235.167024 133.421268 \r\nC 233.233112 133.421268 231.378147 134.18962 230.010664 135.557103 \r\nC 228.643181 136.924586 227.874829 138.779551 227.874829 140.713463 \r\nC 227.874829 142.647376 228.643181 144.502341 230.010664 145.869824 \r\nC 231.378147 147.237307 233.233112 148.005659 235.167024 148.005659 \r\nz\r\n\" style=\"fill:#808080;stroke:#808080;stroke-linejoin:miter;\"/>\r\n   </g>\r\n   <g id=\"patch_7\">\r\n    <path clip-path=\"url(#pd294a87cb1)\" d=\"M 61.480195 92.982732 \r\nC 63.414108 92.982732 65.269073 92.21438 66.636556 90.846897 \r\nC 68.004039 89.479414 68.77239 87.624449 68.77239 85.690537 \r\nC 68.77239 83.756624 68.004039 81.901659 66.636556 80.534176 \r\nC 65.269073 79.166693 63.414108 78.398341 61.480195 78.398341 \r\nC 59.546282 78.398341 57.691317 79.166693 56.323835 80.534176 \r\nC 54.956352 81.901659 54.188 83.756624 54.188 85.690537 \r\nC 54.188 87.624449 54.956352 89.479414 56.323835 90.846897 \r\nC 57.691317 92.21438 59.546282 92.982732 61.480195 92.982732 \r\nz\r\n\" style=\"fill:#808080;stroke:#808080;stroke-linejoin:miter;\"/>\r\n   </g>\r\n   <g id=\"patch_8\">\r\n    <path clip-path=\"url(#pd294a87cb1)\" d=\"M 250.016585 261.100976 \r\nC 251.950498 261.100976 253.805463 260.332624 255.172946 258.965141 \r\nC 256.540429 257.597658 257.30878 255.742693 257.30878 253.80878 \r\nC 257.30878 251.874868 256.540429 250.019903 255.172946 248.65242 \r\nC 253.805463 247.284937 251.950498 246.516585 250.016585 246.516585 \r\nC 248.082673 246.516585 246.227708 247.284937 244.860225 248.65242 \r\nC 243.492742 250.019903 242.72439 251.874868 242.72439 253.80878 \r\nC 242.72439 255.742693 243.492742 257.597658 244.860225 258.965141 \r\nC 246.227708 260.332624 248.082673 261.100976 250.016585 261.100976 \r\nz\r\n\" style=\"fill:#808080;stroke:#808080;stroke-linejoin:miter;\"/>\r\n   </g>\r\n   <g id=\"matplotlib.axis_1\"/>\r\n   <g id=\"matplotlib.axis_2\"/>\r\n   <g id=\"patch_9\">\r\n    <path d=\"M 10.7 279 \r\nL 10.7 7.2 \r\n\" style=\"fill:none;stroke:#000000;stroke-linecap:square;stroke-linejoin:miter;stroke-width:0.8;\"/>\r\n   </g>\r\n   <g id=\"patch_10\">\r\n    <path d=\"M 282.5 279 \r\nL 282.5 7.2 \r\n\" style=\"fill:none;stroke:#000000;stroke-linecap:square;stroke-linejoin:miter;stroke-width:0.8;\"/>\r\n   </g>\r\n   <g id=\"patch_11\">\r\n    <path d=\"M 10.7 279 \r\nL 282.5 279 \r\n\" style=\"fill:none;stroke:#000000;stroke-linecap:square;stroke-linejoin:miter;stroke-width:0.8;\"/>\r\n   </g>\r\n   <g id=\"patch_12\">\r\n    <path d=\"M 10.7 7.2 \r\nL 282.5 7.2 \r\n\" style=\"fill:none;stroke:#000000;stroke-linecap:square;stroke-linejoin:miter;stroke-width:0.8;\"/>\r\n   </g>\r\n   <g id=\"PathCollection_1\">\r\n    <defs>\r\n     <path d=\"M 0 1 \r\nC 0.265203 1 0.51958 0.894634 0.707107 0.707107 \r\nC 0.894634 0.51958 1 0.265203 1 0 \r\nC 1 -0.265203 0.894634 -0.51958 0.707107 -0.707107 \r\nC 0.51958 -0.894634 0.265203 -1 0 -1 \r\nC -0.265203 -1 -0.51958 -0.894634 -0.707107 -0.707107 \r\nC -0.894634 -0.51958 -1 -0.265203 -1 0 \r\nC -1 0.265203 -0.894634 0.51958 -0.707107 0.707107 \r\nC -0.51958 0.894634 -0.265203 1 0 1 \r\nz\r\n\" id=\"m1a30a2ed85\" style=\"stroke:#ffb4b4;\"/>\r\n    </defs>\r\n    <g clip-path=\"url(#pd294a87cb1)\">\r\n     <use style=\"fill:#ffb4b4;stroke:#ffb4b4;\" x=\"255.982927\" xlink:href=\"#m1a30a2ed85\" y=\"27.485561\"/>\r\n     <use style=\"fill:#ffb4b4;stroke:#ffb4b4;\" x=\"256.380683\" xlink:href=\"#m1a30a2ed85\" y=\"27.485561\"/>\r\n     <use style=\"fill:#ffb4b4;stroke:#ffb4b4;\" x=\"256.380683\" xlink:href=\"#m1a30a2ed85\" y=\"27.485561\"/>\r\n     <use style=\"fill:#ffb4b4;stroke:#ffb4b4;\" x=\"255.982927\" xlink:href=\"#m1a30a2ed85\" y=\"27.485561\"/>\r\n     <use style=\"fill:#ffb4b4;stroke:#ffb4b4;\" x=\"256.380683\" xlink:href=\"#m1a30a2ed85\" y=\"27.485561\"/>\r\n     <use style=\"fill:#ffb4b4;stroke:#ffb4b4;\" x=\"255.982927\" xlink:href=\"#m1a30a2ed85\" y=\"27.485561\"/>\r\n     <use style=\"fill:#ffb4b4;stroke:#ffb4b4;\" x=\"256.380683\" xlink:href=\"#m1a30a2ed85\" y=\"27.485561\"/>\r\n     <use style=\"fill:#ffb4b4;stroke:#ffb4b4;\" x=\"255.982927\" xlink:href=\"#m1a30a2ed85\" y=\"27.485561\"/>\r\n     <use style=\"fill:#ffb4b4;stroke:#ffb4b4;\" x=\"255.982927\" xlink:href=\"#m1a30a2ed85\" y=\"27.485561\"/>\r\n     <use style=\"fill:#ffb4b4;stroke:#ffb4b4;\" x=\"255.982927\" xlink:href=\"#m1a30a2ed85\" y=\"27.485561\"/>\r\n     <use style=\"fill:#ffb4b4;stroke:#ffb4b4;\" x=\"256.380683\" xlink:href=\"#m1a30a2ed85\" y=\"27.485561\"/>\r\n     <use style=\"fill:#ffb4b4;stroke:#ffb4b4;\" x=\"256.380683\" xlink:href=\"#m1a30a2ed85\" y=\"27.485561\"/>\r\n     <use style=\"fill:#ffb4b4;stroke:#ffb4b4;\" x=\"256.380683\" xlink:href=\"#m1a30a2ed85\" y=\"27.485561\"/>\r\n     <use style=\"fill:#ffb4b4;stroke:#ffb4b4;\" x=\"255.982927\" xlink:href=\"#m1a30a2ed85\" y=\"27.485561\"/>\r\n     <use style=\"fill:#ffb4b4;stroke:#ffb4b4;\" x=\"251.209854\" xlink:href=\"#m1a30a2ed85\" y=\"30.535024\"/>\r\n     <use style=\"fill:#ffb4b4;stroke:#ffb4b4;\" x=\"245.110927\" xlink:href=\"#m1a30a2ed85\" y=\"34.777756\"/>\r\n     <use style=\"fill:#ffb4b4;stroke:#ffb4b4;\" x=\"241.398537\" xlink:href=\"#m1a30a2ed85\" y=\"37.562049\"/>\r\n     <use style=\"fill:#ffb4b4;stroke:#ffb4b4;\" x=\"239.542341\" xlink:href=\"#m1a30a2ed85\" y=\"38.755317\"/>\r\n     <use style=\"fill:#ffb4b4;stroke:#ffb4b4;\" x=\"235.432195\" xlink:href=\"#m1a30a2ed85\" y=\"41.407024\"/>\r\n     <use style=\"fill:#ffb4b4;stroke:#ffb4b4;\" x=\"229.465854\" xlink:href=\"#m1a30a2ed85\" y=\"45.252\"/>\r\n     <use style=\"fill:#ffb4b4;stroke:#ffb4b4;\" x=\"227.211902\" xlink:href=\"#m1a30a2ed85\" y=\"46.843024\"/>\r\n     <use style=\"fill:#ffb4b4;stroke:#ffb4b4;\" x=\"223.234341\" xlink:href=\"#m1a30a2ed85\" y=\"49.627317\"/>\r\n     <use style=\"fill:#ffb4b4;stroke:#ffb4b4;\" x=\"216.870244\" xlink:href=\"#m1a30a2ed85\" y=\"53.472293\"/>\r\n     <use style=\"fill:#ffb4b4;stroke:#ffb4b4;\" x=\"213.157854\" xlink:href=\"#m1a30a2ed85\" y=\"55.726244\"/>\r\n     <use style=\"fill:#ffb4b4;stroke:#ffb4b4;\" x=\"211.301659\" xlink:href=\"#m1a30a2ed85\" y=\"57.317268\"/>\r\n     <use style=\"fill:#ffb4b4;stroke:#ffb4b4;\" x=\"206.793756\" xlink:href=\"#m1a30a2ed85\" y=\"59.968976\"/>\r\n     <use style=\"fill:#ffb4b4;stroke:#ffb4b4;\" x=\"202.418439\" xlink:href=\"#m1a30a2ed85\" y=\"62.753268\"/>\r\n     <use style=\"fill:#ffb4b4;stroke:#ffb4b4;\" x=\"198.308293\" xlink:href=\"#m1a30a2ed85\" y=\"65.404976\"/>\r\n     <use style=\"fill:#ffb4b4;stroke:#ffb4b4;\" x=\"192.341951\" xlink:href=\"#m1a30a2ed85\" y=\"69.249951\"/>\r\n     <use style=\"fill:#ffb4b4;stroke:#ffb4b4;\" x=\"190.088\" xlink:href=\"#m1a30a2ed85\" y=\"70.840976\"/>\r\n     <use style=\"fill:#ffb4b4;stroke:#ffb4b4;\" x=\"186.37561\" xlink:href=\"#m1a30a2ed85\" y=\"73.492683\"/>\r\n     <use style=\"fill:#ffb4b4;stroke:#ffb4b4;\" x=\"182.398049\" xlink:href=\"#m1a30a2ed85\" y=\"76.14439\"/>\r\n     <use style=\"fill:#ffb4b4;stroke:#ffb4b4;\" x=\"177.890146\" xlink:href=\"#m1a30a2ed85\" y=\"78.928683\"/>\r\n     <use style=\"fill:#ffb4b4;stroke:#ffb4b4;\" x=\"172.05639\" xlink:href=\"#m1a30a2ed85\" y=\"82.773659\"/>\r\n     <use style=\"fill:#ffb4b4;stroke:#ffb4b4;\" x=\"170.200195\" xlink:href=\"#m1a30a2ed85\" y=\"83.834341\"/>\r\n     <use style=\"fill:#ffb4b4;stroke:#ffb4b4;\" x=\"166.090049\" xlink:href=\"#m1a30a2ed85\" y=\"86.618634\"/>\r\n     <use style=\"fill:#ffb4b4;stroke:#ffb4b4;\" x=\"159.858537\" xlink:href=\"#m1a30a2ed85\" y=\"90.46361\"/>\r\n     <use style=\"fill:#ffb4b4;stroke:#ffb4b4;\" x=\"155.74839\" xlink:href=\"#m1a30a2ed85\" y=\"93.115317\"/>\r\n     <use style=\"fill:#ffb4b4;stroke:#ffb4b4;\" x=\"153.627024\" xlink:href=\"#m1a30a2ed85\" y=\"94.308585\"/>\r\n     <use style=\"fill:#ffb4b4;stroke:#ffb4b4;\" x=\"149.516878\" xlink:href=\"#m1a30a2ed85\" y=\"96.960293\"/>\r\n     <use style=\"fill:#ffb4b4;stroke:#ffb4b4;\" x=\"143.683122\" xlink:href=\"#m1a30a2ed85\" y=\"100.805268\"/>\r\n     <use style=\"fill:#ffb4b4;stroke:#ffb4b4;\" x=\"139.572976\" xlink:href=\"#m1a30a2ed85\" y=\"103.456976\"/>\r\n     <use style=\"fill:#ffb4b4;stroke:#ffb4b4;\" x=\"137.053854\" xlink:href=\"#m1a30a2ed85\" y=\"104.915415\"/>\r\n     <use style=\"fill:#ffb4b4;stroke:#ffb4b4;\" x=\"134.799902\" xlink:href=\"#m1a30a2ed85\" y=\"106.108683\"/>\r\n     <use style=\"fill:#ffb4b4;stroke:#ffb4b4;\" x=\"128.966146\" xlink:href=\"#m1a30a2ed85\" y=\"110.351415\"/>\r\n     <use style=\"fill:#ffb4b4;stroke:#ffb4b4;\" x=\"124.590829\" xlink:href=\"#m1a30a2ed85\" y=\"113.003122\"/>\r\n     <use style=\"fill:#ffb4b4;stroke:#ffb4b4;\" x=\"122.734634\" xlink:href=\"#m1a30a2ed85\" y=\"114.063805\"/>\r\n     <use style=\"fill:#ffb4b4;stroke:#ffb4b4;\" x=\"116.503122\" xlink:href=\"#m1a30a2ed85\" y=\"117.90878\"/>\r\n     <use style=\"fill:#ffb4b4;stroke:#ffb4b4;\" x=\"112.525561\" xlink:href=\"#m1a30a2ed85\" y=\"120.560488\"/>\r\n     <use style=\"fill:#ffb4b4;stroke:#ffb4b4;\" x=\"108.415415\" xlink:href=\"#m1a30a2ed85\" y=\"123.212195\"/>\r\n     <use style=\"fill:#ffb4b4;stroke:#ffb4b4;\" x=\"105.896293\" xlink:href=\"#m1a30a2ed85\" y=\"124.405463\"/>\r\n     <use style=\"fill:#ffb4b4;stroke:#ffb4b4;\" x=\"100.062537\" xlink:href=\"#m1a30a2ed85\" y=\"128.250439\"/>\r\n     <use style=\"fill:#ffb4b4;stroke:#ffb4b4;\" x=\"96.084976\" xlink:href=\"#m1a30a2ed85\" y=\"130.902146\"/>\r\n     <use style=\"fill:#ffb4b4;stroke:#ffb4b4;\" x=\"89.455707\" xlink:href=\"#m1a30a2ed85\" y=\"134.614537\"/>\r\n     <use style=\"fill:#ffb4b4;stroke:#ffb4b4;\" x=\"87.599512\" xlink:href=\"#m1a30a2ed85\" y=\"135.807805\"/>\r\n     <use style=\"fill:#ffb4b4;stroke:#ffb4b4;\" x=\"81.500585\" xlink:href=\"#m1a30a2ed85\" y=\"139.65278\"/>\r\n     <use style=\"fill:#ffb4b4;stroke:#ffb4b4;\" x=\"79.246634\" xlink:href=\"#m1a30a2ed85\" y=\"140.713463\"/>\r\n     <use style=\"fill:#ffb4b4;stroke:#ffb4b4;\" x=\"75.269073\" xlink:href=\"#m1a30a2ed85\" y=\"143.365171\"/>\r\n     <use style=\"fill:#ffb4b4;stroke:#ffb4b4;\" x=\"69.037561\" xlink:href=\"#m1a30a2ed85\" y=\"147.210146\"/>\r\n     <use style=\"fill:#ffb4b4;stroke:#ffb4b4;\" x=\"66.916195\" xlink:href=\"#m1a30a2ed85\" y=\"148.668585\"/>\r\n     <use style=\"fill:#ffb4b4;stroke:#ffb4b4;\" x=\"62.540878\" xlink:href=\"#m1a30a2ed85\" y=\"150.922537\"/>\r\n     <use style=\"fill:#ffb4b4;stroke:#ffb4b4;\" x=\"58.563317\" xlink:href=\"#m1a30a2ed85\" y=\"153.574244\"/>\r\n     <use style=\"fill:#ffb4b4;stroke:#ffb4b4;\" x=\"54.983512\" xlink:href=\"#m1a30a2ed85\" y=\"157.021463\"/>\r\n     <use style=\"fill:#ffb4b4;stroke:#ffb4b4;\" x=\"53.127317\" xlink:href=\"#m1a30a2ed85\" y=\"158.479902\"/>\r\n     <use style=\"fill:#ffb4b4;stroke:#ffb4b4;\" x=\"48.089073\" xlink:href=\"#m1a30a2ed85\" y=\"164.048488\"/>\r\n     <use style=\"fill:#ffb4b4;stroke:#ffb4b4;\" x=\"43.713756\" xlink:href=\"#m1a30a2ed85\" y=\"169.351902\"/>\r\n     <use style=\"fill:#ffb4b4;stroke:#ffb4b4;\" x=\"42.387902\" xlink:href=\"#m1a30a2ed85\" y=\"171.605854\"/>\r\n     <use style=\"fill:#ffb4b4;stroke:#ffb4b4;\" x=\"39.86878\" xlink:href=\"#m1a30a2ed85\" y=\"175.318244\"/>\r\n     <use style=\"fill:#ffb4b4;stroke:#ffb4b4;\" x=\"36.951902\" xlink:href=\"#m1a30a2ed85\" y=\"182.345268\"/>\r\n     <use style=\"fill:#ffb4b4;stroke:#ffb4b4;\" x=\"35.228293\" xlink:href=\"#m1a30a2ed85\" y=\"186.853171\"/>\r\n     <use style=\"fill:#ffb4b4;stroke:#ffb4b4;\" x=\"34.43278\" xlink:href=\"#m1a30a2ed85\" y=\"189.107122\"/>\r\n     <use style=\"fill:#ffb4b4;stroke:#ffb4b4;\" x=\"33.106927\" xlink:href=\"#m1a30a2ed85\" y=\"194.277951\"/>\r\n     <use style=\"fill:#ffb4b4;stroke:#ffb4b4;\" x=\"31.648488\" xlink:href=\"#m1a30a2ed85\" y=\"201.304976\"/>\r\n     <use style=\"fill:#ffb4b4;stroke:#ffb4b4;\" x=\"31.383317\" xlink:href=\"#m1a30a2ed85\" y=\"206.078049\"/>\r\n     <use style=\"fill:#ffb4b4;stroke:#ffb4b4;\" x=\"31.781073\" xlink:href=\"#m1a30a2ed85\" y=\"208.332\"/>\r\n     <use style=\"fill:#ffb4b4;stroke:#ffb4b4;\" x=\"32.576585\" xlink:href=\"#m1a30a2ed85\" y=\"215.226439\"/>\r\n     <use style=\"fill:#ffb4b4;stroke:#ffb4b4;\" x=\"33.239512\" xlink:href=\"#m1a30a2ed85\" y=\"217.48039\"/>\r\n     <use style=\"fill:#ffb4b4;stroke:#ffb4b4;\" x=\"34.697951\" xlink:href=\"#m1a30a2ed85\" y=\"221.855707\"/>\r\n     <use style=\"fill:#ffb4b4;stroke:#ffb4b4;\" x=\"36.951902\" xlink:href=\"#m1a30a2ed85\" y=\"225.965854\"/>\r\n     <use style=\"fill:#ffb4b4;stroke:#ffb4b4;\" x=\"39.60361\" xlink:href=\"#m1a30a2ed85\" y=\"229.943415\"/>\r\n     <use style=\"fill:#ffb4b4;stroke:#ffb4b4;\" x=\"40.664293\" xlink:href=\"#m1a30a2ed85\" y=\"231.401854\"/>\r\n     <use style=\"fill:#ffb4b4;stroke:#ffb4b4;\" x=\"45.437366\" xlink:href=\"#m1a30a2ed85\" y=\"236.572683\"/>\r\n     <use style=\"fill:#ffb4b4;stroke:#ffb4b4;\" x=\"50.47561\" xlink:href=\"#m1a30a2ed85\" y=\"240.948\"/>\r\n     <use style=\"fill:#ffb4b4;stroke:#ffb4b4;\" x=\"52.331805\" xlink:href=\"#m1a30a2ed85\" y=\"242.008683\"/>\r\n     <use style=\"fill:#ffb4b4;stroke:#ffb4b4;\" x=\"56.309366\" xlink:href=\"#m1a30a2ed85\" y=\"244.262634\"/>\r\n     <use style=\"fill:#ffb4b4;stroke:#ffb4b4;\" x=\"58.563317\" xlink:href=\"#m1a30a2ed85\" y=\"245.323317\"/>\r\n     <use style=\"fill:#ffb4b4;stroke:#ffb4b4;\" x=\"62.938634\" xlink:href=\"#m1a30a2ed85\" y=\"246.781756\"/>\r\n     <use style=\"fill:#ffb4b4;stroke:#ffb4b4;\" x=\"69.435317\" xlink:href=\"#m1a30a2ed85\" y=\"248.240195\"/>\r\n     <use style=\"fill:#ffb4b4;stroke:#ffb4b4;\" x=\"74.20839\" xlink:href=\"#m1a30a2ed85\" y=\"248.505366\"/>\r\n     <use style=\"fill:#ffb4b4;stroke:#ffb4b4;\" x=\"81.368\" xlink:href=\"#m1a30a2ed85\" y=\"248.10761\"/>\r\n     <use style=\"fill:#ffb4b4;stroke:#ffb4b4;\" x=\"83.621951\" xlink:href=\"#m1a30a2ed85\" y=\"248.10761\"/>\r\n     <use style=\"fill:#ffb4b4;stroke:#ffb4b4;\" x=\"89.455707\" xlink:href=\"#m1a30a2ed85\" y=\"247.709854\"/>\r\n     <use style=\"fill:#ffb4b4;stroke:#ffb4b4;\" x=\"97.410829\" xlink:href=\"#m1a30a2ed85\" y=\"247.312098\"/>\r\n     <use style=\"fill:#ffb4b4;stroke:#ffb4b4;\" x=\"99.66478\" xlink:href=\"#m1a30a2ed85\" y=\"246.914341\"/>\r\n     <use style=\"fill:#ffb4b4;stroke:#ffb4b4;\" x=\"104.305268\" xlink:href=\"#m1a30a2ed85\" y=\"246.914341\"/>\r\n     <use style=\"fill:#ffb4b4;stroke:#ffb4b4;\" x=\"106.956976\" xlink:href=\"#m1a30a2ed85\" y=\"246.914341\"/>\r\n     <use style=\"fill:#ffb4b4;stroke:#ffb4b4;\" x=\"114.249171\" xlink:href=\"#m1a30a2ed85\" y=\"246.118829\"/>\r\n     <use style=\"fill:#ffb4b4;stroke:#ffb4b4;\" x=\"119.287415\" xlink:href=\"#m1a30a2ed85\" y=\"245.721073\"/>\r\n     <use style=\"fill:#ffb4b4;stroke:#ffb4b4;\" x=\"126.57961\" xlink:href=\"#m1a30a2ed85\" y=\"245.323317\"/>\r\n     <use style=\"fill:#ffb4b4;stroke:#ffb4b4;\" x=\"129.098732\" xlink:href=\"#m1a30a2ed85\" y=\"244.925561\"/>\r\n     <use style=\"fill:#ffb4b4;stroke:#ffb4b4;\" x=\"134.269561\" xlink:href=\"#m1a30a2ed85\" y=\"244.925561\"/>\r\n     <use style=\"fill:#ffb4b4;stroke:#ffb4b4;\" x=\"136.788683\" xlink:href=\"#m1a30a2ed85\" y=\"244.527805\"/>\r\n     <use style=\"fill:#ffb4b4;stroke:#ffb4b4;\" x=\"144.080878\" xlink:href=\"#m1a30a2ed85\" y=\"244.130049\"/>\r\n     <use style=\"fill:#ffb4b4;stroke:#ffb4b4;\" x=\"149.251707\" xlink:href=\"#m1a30a2ed85\" y=\"243.732293\"/>\r\n     <use style=\"fill:#ffb4b4;stroke:#ffb4b4;\" x=\"154.02478\" xlink:href=\"#m1a30a2ed85\" y=\"243.334537\"/>\r\n     <use style=\"fill:#ffb4b4;stroke:#ffb4b4;\" x=\"158.797854\" xlink:href=\"#m1a30a2ed85\" y=\"243.334537\"/>\r\n     <use style=\"fill:#ffb4b4;stroke:#ffb4b4;\" x=\"163.570927\" xlink:href=\"#m1a30a2ed85\" y=\"242.93678\"/>\r\n     <use style=\"fill:#ffb4b4;stroke:#ffb4b4;\" x=\"168.344\" xlink:href=\"#m1a30a2ed85\" y=\"242.539024\"/>\r\n     <use style=\"fill:#ffb4b4;stroke:#ffb4b4;\" x=\"173.514829\" xlink:href=\"#m1a30a2ed85\" y=\"242.141268\"/>\r\n     <use style=\"fill:#ffb4b4;stroke:#ffb4b4;\" x=\"178.155317\" xlink:href=\"#m1a30a2ed85\" y=\"241.610927\"/>\r\n     <use style=\"fill:#ffb4b4;stroke:#ffb4b4;\" x=\"182.92839\" xlink:href=\"#m1a30a2ed85\" y=\"240.948\"/>\r\n     <use style=\"fill:#ffb4b4;stroke:#ffb4b4;\" x=\"188.09922\" xlink:href=\"#m1a30a2ed85\" y=\"239.754732\"/>\r\n     <use style=\"fill:#ffb4b4;stroke:#ffb4b4;\" x=\"192.607122\" xlink:href=\"#m1a30a2ed85\" y=\"237.898537\"/>\r\n     <use style=\"fill:#ffb4b4;stroke:#ffb4b4;\" x=\"196.584683\" xlink:href=\"#m1a30a2ed85\" y=\"235.644585\"/>\r\n     <use style=\"fill:#ffb4b4;stroke:#ffb4b4;\" x=\"198.838634\" xlink:href=\"#m1a30a2ed85\" y=\"234.451317\"/>\r\n     <use style=\"fill:#ffb4b4;stroke:#ffb4b4;\" x=\"202.418439\" xlink:href=\"#m1a30a2ed85\" y=\"231.534439\"/>\r\n     <use style=\"fill:#ffb4b4;stroke:#ffb4b4;\" x=\"209.047707\" xlink:href=\"#m1a30a2ed85\" y=\"224.772585\"/>\r\n     <use style=\"fill:#ffb4b4;stroke:#ffb4b4;\" x=\"210.240976\" xlink:href=\"#m1a30a2ed85\" y=\"222.91639\"/>\r\n     <use style=\"fill:#ffb4b4;stroke:#ffb4b4;\" x=\"212.760098\" xlink:href=\"#m1a30a2ed85\" y=\"218.806244\"/>\r\n     <use style=\"fill:#ffb4b4;stroke:#ffb4b4;\" x=\"215.014049\" xlink:href=\"#m1a30a2ed85\" y=\"214.696098\"/>\r\n     <use style=\"fill:#ffb4b4;stroke:#ffb4b4;\" x=\"215.676976\" xlink:href=\"#m1a30a2ed85\" y=\"212.442146\"/>\r\n     <use style=\"fill:#ffb4b4;stroke:#ffb4b4;\" x=\"217.533171\" xlink:href=\"#m1a30a2ed85\" y=\"206.078049\"/>\r\n     <use style=\"fill:#ffb4b4;stroke:#ffb4b4;\" x=\"217.533171\" xlink:href=\"#m1a30a2ed85\" y=\"203.558927\"/>\r\n     <use style=\"fill:#ffb4b4;stroke:#ffb4b4;\" x=\"217.533171\" xlink:href=\"#m1a30a2ed85\" y=\"199.44878\"/>\r\n     <use style=\"fill:#ffb4b4;stroke:#ffb4b4;\" x=\"216.870244\" xlink:href=\"#m1a30a2ed85\" y=\"193.482439\"/>\r\n     <use style=\"fill:#ffb4b4;stroke:#ffb4b4;\" x=\"216.074732\" xlink:href=\"#m1a30a2ed85\" y=\"191.228488\"/>\r\n     <use style=\"fill:#ffb4b4;stroke:#ffb4b4;\" x=\"213.55561\" xlink:href=\"#m1a30a2ed85\" y=\"184.86439\"/>\r\n     <use style=\"fill:#ffb4b4;stroke:#ffb4b4;\" x=\"210.903902\" xlink:href=\"#m1a30a2ed85\" y=\"181.152\"/>\r\n     <use style=\"fill:#ffb4b4;stroke:#ffb4b4;\" x=\"207.987024\" xlink:href=\"#m1a30a2ed85\" y=\"178.235122\"/>\r\n     <use style=\"fill:#ffb4b4;stroke:#ffb4b4;\" x=\"203.213951\" xlink:href=\"#m1a30a2ed85\" y=\"174.124976\"/>\r\n     <use style=\"fill:#ffb4b4;stroke:#ffb4b4;\" x=\"201.357756\" xlink:href=\"#m1a30a2ed85\" y=\"173.064293\"/>\r\n     <use style=\"fill:#ffb4b4;stroke:#ffb4b4;\" x=\"196.849854\" xlink:href=\"#m1a30a2ed85\" y=\"168.954146\"/>\r\n     <use style=\"fill:#ffb4b4;stroke:#ffb4b4;\" x=\"192.872293\" xlink:href=\"#m1a30a2ed85\" y=\"166.037268\"/>\r\n     <use style=\"fill:#ffb4b4;stroke:#ffb4b4;\" x=\"188.762146\" xlink:href=\"#m1a30a2ed85\" y=\"163.12039\"/>\r\n     <use style=\"fill:#ffb4b4;stroke:#ffb4b4;\" x=\"182.92839\" xlink:href=\"#m1a30a2ed85\" y=\"158.347317\"/>\r\n     <use style=\"fill:#ffb4b4;stroke:#ffb4b4;\" x=\"181.072195\" xlink:href=\"#m1a30a2ed85\" y=\"156.888878\"/>\r\n     <use style=\"fill:#ffb4b4;stroke:#ffb4b4;\" x=\"178.818244\" xlink:href=\"#m1a30a2ed85\" y=\"155.297854\"/>\r\n     <use style=\"fill:#ffb4b4;stroke:#ffb4b4;\" x=\"173.249659\" xlink:href=\"#m1a30a2ed85\" y=\"150.52478\"/>\r\n     <use style=\"fill:#ffb4b4;stroke:#ffb4b4;\" x=\"169.537268\" xlink:href=\"#m1a30a2ed85\" y=\"147.607902\"/>\r\n     <use style=\"fill:#ffb4b4;stroke:#ffb4b4;\" x=\"167.681073\" xlink:href=\"#m1a30a2ed85\" y=\"146.149463\"/>\r\n     <use style=\"fill:#ffb4b4;stroke:#ffb4b4;\" x=\"161.449561\" xlink:href=\"#m1a30a2ed85\" y=\"141.774146\"/>\r\n     <use style=\"fill:#ffb4b4;stroke:#ffb4b4;\" x=\"159.593366\" xlink:href=\"#m1a30a2ed85\" y=\"139.917951\"/>\r\n     <use style=\"fill:#ffb4b4;stroke:#ffb4b4;\" x=\"153.75961\" xlink:href=\"#m1a30a2ed85\" y=\"135.410049\"/>\r\n     <use style=\"fill:#ffb4b4;stroke:#ffb4b4;\" x=\"150.04722\" xlink:href=\"#m1a30a2ed85\" y=\"132.493171\"/>\r\n     <use style=\"fill:#ffb4b4;stroke:#ffb4b4;\" x=\"145.937073\" xlink:href=\"#m1a30a2ed85\" y=\"129.178537\"/>\r\n     <use style=\"fill:#ffb4b4;stroke:#ffb4b4;\" x=\"141.959512\" xlink:href=\"#m1a30a2ed85\" y=\"126.261659\"/>\r\n     <use style=\"fill:#ffb4b4;stroke:#ffb4b4;\" x=\"139.705561\" xlink:href=\"#m1a30a2ed85\" y=\"124.80322\"/>\r\n     <use style=\"fill:#ffb4b4;stroke:#ffb4b4;\" x=\"135.993171\" xlink:href=\"#m1a30a2ed85\" y=\"121.753756\"/>\r\n     <use style=\"fill:#ffb4b4;stroke:#ffb4b4;\" x=\"130.424585\" xlink:href=\"#m1a30a2ed85\" y=\"116.980683\"/>\r\n     <use style=\"fill:#ffb4b4;stroke:#ffb4b4;\" x=\"126.447024\" xlink:href=\"#m1a30a2ed85\" y=\"114.063805\"/>\r\n     <use style=\"fill:#ffb4b4;stroke:#ffb4b4;\" x=\"122.336878\" xlink:href=\"#m1a30a2ed85\" y=\"111.544683\"/>\r\n     <use style=\"fill:#ffb4b4;stroke:#ffb4b4;\" x=\"118.359317\" xlink:href=\"#m1a30a2ed85\" y=\"109.688488\"/>\r\n     <use style=\"fill:#ffb4b4;stroke:#ffb4b4;\" x=\"114.646927\" xlink:href=\"#m1a30a2ed85\" y=\"109.290732\"/>\r\n     <use style=\"fill:#ffb4b4;stroke:#ffb4b4;\" x=\"112.790732\" xlink:href=\"#m1a30a2ed85\" y=\"109.423317\"/>\r\n     <use style=\"fill:#ffb4b4;stroke:#ffb4b4;\" x=\"107.619902\" xlink:href=\"#m1a30a2ed85\" y=\"110.616585\"/>\r\n     <use style=\"fill:#ffb4b4;stroke:#ffb4b4;\" x=\"105.896293\" xlink:href=\"#m1a30a2ed85\" y=\"111.279512\"/>\r\n     <use style=\"fill:#ffb4b4;stroke:#ffb4b4;\" x=\"102.581659\" xlink:href=\"#m1a30a2ed85\" y=\"113.268293\"/>\r\n     <use style=\"fill:#ffb4b4;stroke:#ffb4b4;\" x=\"98.206341\" xlink:href=\"#m1a30a2ed85\" y=\"116.980683\"/>\r\n     <use style=\"fill:#ffb4b4;stroke:#ffb4b4;\" x=\"97.145659\" xlink:href=\"#m1a30a2ed85\" y=\"118.571707\"/>\r\n     <use style=\"fill:#ffb4b4;stroke:#ffb4b4;\" x=\"94.493951\" xlink:href=\"#m1a30a2ed85\" y=\"123.07961\"/>\r\n     <use style=\"fill:#ffb4b4;stroke:#ffb4b4;\" x=\"93.831024\" xlink:href=\"#m1a30a2ed85\" y=\"124.538049\"/>\r\n     <use style=\"fill:#ffb4b4;stroke:#ffb4b4;\" x=\"92.770341\" xlink:href=\"#m1a30a2ed85\" y=\"129.841463\"/>\r\n     <use style=\"fill:#ffb4b4;stroke:#ffb4b4;\" x=\"92.770341\" xlink:href=\"#m1a30a2ed85\" y=\"133.156098\"/>\r\n     <use style=\"fill:#ffb4b4;stroke:#ffb4b4;\" x=\"92.770341\" xlink:href=\"#m1a30a2ed85\" y=\"135.012293\"/>\r\n     <use style=\"fill:#ffb4b4;stroke:#ffb4b4;\" x=\"93.831024\" xlink:href=\"#m1a30a2ed85\" y=\"138.326927\"/>\r\n     <use style=\"fill:#ffb4b4;stroke:#ffb4b4;\" x=\"95.024293\" xlink:href=\"#m1a30a2ed85\" y=\"141.641561\"/>\r\n     <use style=\"fill:#ffb4b4;stroke:#ffb4b4;\" x=\"97.676\" xlink:href=\"#m1a30a2ed85\" y=\"148.005659\"/>\r\n     <use style=\"fill:#ffb4b4;stroke:#ffb4b4;\" x=\"99.134439\" xlink:href=\"#m1a30a2ed85\" y=\"153.176488\"/>\r\n     <use style=\"fill:#ffb4b4;stroke:#ffb4b4;\" x=\"99.797366\" xlink:href=\"#m1a30a2ed85\" y=\"155.828195\"/>\r\n     <use style=\"fill:#ffb4b4;stroke:#ffb4b4;\" x=\"101.38839\" xlink:href=\"#m1a30a2ed85\" y=\"160.601268\"/>\r\n     <use style=\"fill:#ffb4b4;stroke:#ffb4b4;\" x=\"102.846829\" xlink:href=\"#m1a30a2ed85\" y=\"165.374341\"/>\r\n     <use style=\"fill:#ffb4b4;stroke:#ffb4b4;\" x=\"103.509756\" xlink:href=\"#m1a30a2ed85\" y=\"168.026049\"/>\r\n     <use style=\"fill:#ffb4b4;stroke:#ffb4b4;\" x=\"106.161463\" xlink:href=\"#m1a30a2ed85\" y=\"177.307024\"/>\r\n     <use style=\"fill:#ffb4b4;stroke:#ffb4b4;\" x=\"106.55922\" xlink:href=\"#m1a30a2ed85\" y=\"179.560976\"/>\r\n     <use style=\"fill:#ffb4b4;stroke:#ffb4b4;\" x=\"108.813171\" xlink:href=\"#m1a30a2ed85\" y=\"186.588\"/>\r\n     <use style=\"fill:#ffb4b4;stroke:#ffb4b4;\" x=\"109.476098\" xlink:href=\"#m1a30a2ed85\" y=\"188.709366\"/>\r\n     <use style=\"fill:#ffb4b4;stroke:#ffb4b4;\" x=\"111.332293\" xlink:href=\"#m1a30a2ed85\" y=\"195.868976\"/>\r\n     <use style=\"fill:#ffb4b4;stroke:#ffb4b4;\" x=\"112.923317\" xlink:href=\"#m1a30a2ed85\" y=\"200.642049\"/>\r\n     <use style=\"fill:#ffb4b4;stroke:#ffb4b4;\" x=\"115.044683\" xlink:href=\"#m1a30a2ed85\" y=\"205.017366\"/>\r\n     <use style=\"fill:#ffb4b4;stroke:#ffb4b4;\" x=\"116.237951\" xlink:href=\"#m1a30a2ed85\" y=\"207.271317\"/>\r\n     <use style=\"fill:#ffb4b4;stroke:#ffb4b4;\" x=\"120.215512\" xlink:href=\"#m1a30a2ed85\" y=\"213.105073\"/>\r\n     <use style=\"fill:#ffb4b4;stroke:#ffb4b4;\" x=\"121.673951\" xlink:href=\"#m1a30a2ed85\" y=\"214.961268\"/>\r\n     <use style=\"fill:#ffb4b4;stroke:#ffb4b4;\" x=\"126.447024\" xlink:href=\"#m1a30a2ed85\" y=\"220.529854\"/>\r\n     <use style=\"fill:#ffb4b4;stroke:#ffb4b4;\" x=\"129.761659\" xlink:href=\"#m1a30a2ed85\" y=\"223.844488\"/>\r\n     <use style=\"fill:#ffb4b4;stroke:#ffb4b4;\" x=\"131.617854\" xlink:href=\"#m1a30a2ed85\" y=\"225.302927\"/>\r\n     <use style=\"fill:#ffb4b4;stroke:#ffb4b4;\" x=\"137.849366\" xlink:href=\"#m1a30a2ed85\" y=\"230.076\"/>\r\n     <use style=\"fill:#ffb4b4;stroke:#ffb4b4;\" x=\"139.705561\" xlink:href=\"#m1a30a2ed85\" y=\"231.534439\"/>\r\n     <use style=\"fill:#ffb4b4;stroke:#ffb4b4;\" x=\"143.683122\" xlink:href=\"#m1a30a2ed85\" y=\"232.992878\"/>\r\n     <use style=\"fill:#ffb4b4;stroke:#ffb4b4;\" x=\"145.937073\" xlink:href=\"#m1a30a2ed85\" y=\"234.053561\"/>\r\n     <use style=\"fill:#ffb4b4;stroke:#ffb4b4;\" x=\"152.566341\" xlink:href=\"#m1a30a2ed85\" y=\"235.512\"/>\r\n     <use style=\"fill:#ffb4b4;stroke:#ffb4b4;\" x=\"157.339415\" xlink:href=\"#m1a30a2ed85\" y=\"236.307512\"/>\r\n     <use style=\"fill:#ffb4b4;stroke:#ffb4b4;\" x=\"163.570927\" xlink:href=\"#m1a30a2ed85\" y=\"236.174927\"/>\r\n     <use style=\"fill:#ffb4b4;stroke:#ffb4b4;\" x=\"168.344\" xlink:href=\"#m1a30a2ed85\" y=\"235.379415\"/>\r\n     <use style=\"fill:#ffb4b4;stroke:#ffb4b4;\" x=\"172.719317\" xlink:href=\"#m1a30a2ed85\" y=\"234.716488\"/>\r\n     <use style=\"fill:#ffb4b4;stroke:#ffb4b4;\" x=\"174.840683\" xlink:href=\"#m1a30a2ed85\" y=\"233.920976\"/>\r\n     <use style=\"fill:#ffb4b4;stroke:#ffb4b4;\" x=\"182.66322\" xlink:href=\"#m1a30a2ed85\" y=\"231.667024\"/>\r\n     <use style=\"fill:#ffb4b4;stroke:#ffb4b4;\" x=\"185.580098\" xlink:href=\"#m1a30a2ed85\" y=\"230.871512\"/>\r\n     <use style=\"fill:#ffb4b4;stroke:#ffb4b4;\" x=\"190.750927\" xlink:href=\"#m1a30a2ed85\" y=\"229.413073\"/>\r\n     <use style=\"fill:#ffb4b4;stroke:#ffb4b4;\" x=\"198.043122\" xlink:href=\"#m1a30a2ed85\" y=\"227.822049\"/>\r\n     <use style=\"fill:#ffb4b4;stroke:#ffb4b4;\" x=\"200.694829\" xlink:href=\"#m1a30a2ed85\" y=\"227.026537\"/>\r\n     <use style=\"fill:#ffb4b4;stroke:#ffb4b4;\" x=\"202.816195\" xlink:href=\"#m1a30a2ed85\" y=\"226.62878\"/>\r\n     <use style=\"fill:#ffb4b4;stroke:#ffb4b4;\" x=\"207.324098\" xlink:href=\"#m1a30a2ed85\" y=\"225.170341\"/>\r\n     <use style=\"fill:#ffb4b4;stroke:#ffb4b4;\" x=\"214.616293\" xlink:href=\"#m1a30a2ed85\" y=\"223.579317\"/>\r\n     <use style=\"fill:#ffb4b4;stroke:#ffb4b4;\" x=\"222.041073\" xlink:href=\"#m1a30a2ed85\" y=\"221.723122\"/>\r\n     <use style=\"fill:#ffb4b4;stroke:#ffb4b4;\" x=\"224.560195\" xlink:href=\"#m1a30a2ed85\" y=\"220.92761\"/>\r\n     <use style=\"fill:#ffb4b4;stroke:#ffb4b4;\" x=\"231.984976\" xlink:href=\"#m1a30a2ed85\" y=\"219.469171\"/>\r\n     <use style=\"fill:#ffb4b4;stroke:#ffb4b4;\" x=\"236.360293\" xlink:href=\"#m1a30a2ed85\" y=\"217.082634\"/>\r\n     <use style=\"fill:#ffb4b4;stroke:#ffb4b4;\" x=\"238.614244\" xlink:href=\"#m1a30a2ed85\" y=\"216.021951\"/>\r\n     <use style=\"fill:#ffb4b4;stroke:#ffb4b4;\" x=\"242.72439\" xlink:href=\"#m1a30a2ed85\" y=\"213.768\"/>\r\n     <use style=\"fill:#ffb4b4;stroke:#ffb4b4;\" x=\"247.099707\" xlink:href=\"#m1a30a2ed85\" y=\"210.718537\"/>\r\n     <use style=\"fill:#ffb4b4;stroke:#ffb4b4;\" x=\"251.209854\" xlink:href=\"#m1a30a2ed85\" y=\"207.669073\"/>\r\n     <use style=\"fill:#ffb4b4;stroke:#ffb4b4;\" x=\"256.778439\" xlink:href=\"#m1a30a2ed85\" y=\"202.763415\"/>\r\n     <use style=\"fill:#ffb4b4;stroke:#ffb4b4;\" x=\"260.093073\" xlink:href=\"#m1a30a2ed85\" y=\"199.051024\"/>\r\n     <use style=\"fill:#ffb4b4;stroke:#ffb4b4;\" x=\"262.74478\" xlink:href=\"#m1a30a2ed85\" y=\"195.338634\"/>\r\n     <use style=\"fill:#ffb4b4;stroke:#ffb4b4;\" x=\"264.998732\" xlink:href=\"#m1a30a2ed85\" y=\"191.493659\"/>\r\n     <use style=\"fill:#ffb4b4;stroke:#ffb4b4;\" x=\"266.059415\" xlink:href=\"#m1a30a2ed85\" y=\"188.974537\"/>\r\n     <use style=\"fill:#ffb4b4;stroke:#ffb4b4;\" x=\"267.91561\" xlink:href=\"#m1a30a2ed85\" y=\"182.212683\"/>\r\n     <use style=\"fill:#ffb4b4;stroke:#ffb4b4;\" x=\"270.169561\" xlink:href=\"#m1a30a2ed85\" y=\"176.511512\"/>\r\n     <use style=\"fill:#ffb4b4;stroke:#ffb4b4;\" x=\"270.965073\" xlink:href=\"#m1a30a2ed85\" y=\"173.859805\"/>\r\n     <use style=\"fill:#ffb4b4;stroke:#ffb4b4;\" x=\"273.219024\" xlink:href=\"#m1a30a2ed85\" y=\"166.435024\"/>\r\n     <use style=\"fill:#ffb4b4;stroke:#ffb4b4;\" x=\"274.014537\" xlink:href=\"#m1a30a2ed85\" y=\"163.783317\"/>\r\n     <use style=\"fill:#ffb4b4;stroke:#ffb4b4;\" x=\"274.677463\" xlink:href=\"#m1a30a2ed85\" y=\"156.225951\"/>\r\n     <use style=\"fill:#ffb4b4;stroke:#ffb4b4;\" x=\"275.07522\" xlink:href=\"#m1a30a2ed85\" y=\"151.055122\"/>\r\n     <use style=\"fill:#ffb4b4;stroke:#ffb4b4;\" x=\"275.07522\" xlink:href=\"#m1a30a2ed85\" y=\"145.751707\"/>\r\n     <use style=\"fill:#ffb4b4;stroke:#ffb4b4;\" x=\"274.810049\" xlink:href=\"#m1a30a2ed85\" y=\"140.846049\"/>\r\n     <use style=\"fill:#ffb4b4;stroke:#ffb4b4;\" x=\"274.810049\" xlink:href=\"#m1a30a2ed85\" y=\"138.592098\"/>\r\n     <use style=\"fill:#ffb4b4;stroke:#ffb4b4;\" x=\"272.953854\" xlink:href=\"#m1a30a2ed85\" y=\"131.167317\"/>\r\n     <use style=\"fill:#ffb4b4;stroke:#ffb4b4;\" x=\"272.158341\" xlink:href=\"#m1a30a2ed85\" y=\"128.51561\"/>\r\n     <use style=\"fill:#ffb4b4;stroke:#ffb4b4;\" x=\"271.097659\" xlink:href=\"#m1a30a2ed85\" y=\"123.609951\"/>\r\n     <use style=\"fill:#ffb4b4;stroke:#ffb4b4;\" x=\"268.18078\" xlink:href=\"#m1a30a2ed85\" y=\"116.848098\"/>\r\n     <use style=\"fill:#ffb4b4;stroke:#ffb4b4;\" x=\"266.987512\" xlink:href=\"#m1a30a2ed85\" y=\"114.594146\"/>\r\n     <use style=\"fill:#ffb4b4;stroke:#ffb4b4;\" x=\"263.275122\" xlink:href=\"#m1a30a2ed85\" y=\"107.832293\"/>\r\n     <use style=\"fill:#ffb4b4;stroke:#ffb4b4;\" x=\"262.214439\" xlink:href=\"#m1a30a2ed85\" y=\"105.976098\"/>\r\n     <use style=\"fill:#ffb4b4;stroke:#ffb4b4;\" x=\"259.164976\" xlink:href=\"#m1a30a2ed85\" y=\"101.865951\"/>\r\n     <use style=\"fill:#ffb4b4;stroke:#ffb4b4;\" x=\"255.850341\" xlink:href=\"#m1a30a2ed85\" y=\"97.755805\"/>\r\n     <use style=\"fill:#ffb4b4;stroke:#ffb4b4;\" x=\"252.535707\" xlink:href=\"#m1a30a2ed85\" y=\"94.043415\"/>\r\n     <use style=\"fill:#ffb4b4;stroke:#ffb4b4;\" x=\"246.967122\" xlink:href=\"#m1a30a2ed85\" y=\"88.872585\"/>\r\n     <use style=\"fill:#ffb4b4;stroke:#ffb4b4;\" x=\"245.110927\" xlink:href=\"#m1a30a2ed85\" y=\"87.414146\"/>\r\n     <use style=\"fill:#ffb4b4;stroke:#ffb4b4;\" x=\"239.144585\" xlink:href=\"#m1a30a2ed85\" y=\"83.304\"/>\r\n     <use style=\"fill:#ffb4b4;stroke:#ffb4b4;\" x=\"236.890634\" xlink:href=\"#m1a30a2ed85\" y=\"82.243317\"/>\r\n     <use style=\"fill:#ffb4b4;stroke:#ffb4b4;\" x=\"232.117561\" xlink:href=\"#m1a30a2ed85\" y=\"79.989366\"/>\r\n     <use style=\"fill:#ffb4b4;stroke:#ffb4b4;\" x=\"227.609659\" xlink:href=\"#m1a30a2ed85\" y=\"78.133171\"/>\r\n     <use style=\"fill:#ffb4b4;stroke:#ffb4b4;\" x=\"223.101756\" xlink:href=\"#m1a30a2ed85\" y=\"75.614049\"/>\r\n     <use style=\"fill:#ffb4b4;stroke:#ffb4b4;\" x=\"216.870244\" xlink:href=\"#m1a30a2ed85\" y=\"71.901659\"/>\r\n     <use style=\"fill:#ffb4b4;stroke:#ffb4b4;\" x=\"212.760098\" xlink:href=\"#m1a30a2ed85\" y=\"69.382537\"/>\r\n     <use style=\"fill:#ffb4b4;stroke:#ffb4b4;\" x=\"210.506146\" xlink:href=\"#m1a30a2ed85\" y=\"68.189268\"/>\r\n     <use style=\"fill:#ffb4b4;stroke:#ffb4b4;\" x=\"208.252195\" xlink:href=\"#m1a30a2ed85\" y=\"67.128585\"/>\r\n     <use style=\"fill:#ffb4b4;stroke:#ffb4b4;\" x=\"201.622927\" xlink:href=\"#m1a30a2ed85\" y=\"63.416195\"/>\r\n     <use style=\"fill:#ffb4b4;stroke:#ffb4b4;\" x=\"195.258829\" xlink:href=\"#m1a30a2ed85\" y=\"59.83639\"/>\r\n     <use style=\"fill:#ffb4b4;stroke:#ffb4b4;\" x=\"190.883512\" xlink:href=\"#m1a30a2ed85\" y=\"57.980195\"/>\r\n     <use style=\"fill:#ffb4b4;stroke:#ffb4b4;\" x=\"188.629561\" xlink:href=\"#m1a30a2ed85\" y=\"57.317268\"/>\r\n     <use style=\"fill:#ffb4b4;stroke:#ffb4b4;\" x=\"181.602537\" xlink:href=\"#m1a30a2ed85\" y=\"55.063317\"/>\r\n     <use style=\"fill:#ffb4b4;stroke:#ffb4b4;\" x=\"178.950829\" xlink:href=\"#m1a30a2ed85\" y=\"54.798146\"/>\r\n     <use style=\"fill:#ffb4b4;stroke:#ffb4b4;\" x=\"171.658634\" xlink:href=\"#m1a30a2ed85\" y=\"53.737463\"/>\r\n     <use style=\"fill:#ffb4b4;stroke:#ffb4b4;\" x=\"166.752976\" xlink:href=\"#m1a30a2ed85\" y=\"53.870049\"/>\r\n     <use style=\"fill:#ffb4b4;stroke:#ffb4b4;\" x=\"164.233854\" xlink:href=\"#m1a30a2ed85\" y=\"53.472293\"/>\r\n     <use style=\"fill:#ffb4b4;stroke:#ffb4b4;\" x=\"159.725951\" xlink:href=\"#m1a30a2ed85\" y=\"52.809366\"/>\r\n     <use style=\"fill:#ffb4b4;stroke:#ffb4b4;\" x=\"154.952878\" xlink:href=\"#m1a30a2ed85\" y=\"52.544195\"/>\r\n     <use style=\"fill:#ffb4b4;stroke:#ffb4b4;\" x=\"150.179805\" xlink:href=\"#m1a30a2ed85\" y=\"51.748683\"/>\r\n     <use style=\"fill:#ffb4b4;stroke:#ffb4b4;\" x=\"145.008976\" xlink:href=\"#m1a30a2ed85\" y=\"51.483512\"/>\r\n     <use style=\"fill:#ffb4b4;stroke:#ffb4b4;\" x=\"142.357268\" xlink:href=\"#m1a30a2ed85\" y=\"51.218341\"/>\r\n     <use style=\"fill:#ffb4b4;stroke:#ffb4b4;\" x=\"135.330244\" xlink:href=\"#m1a30a2ed85\" y=\"50.555415\"/>\r\n     <use style=\"fill:#ffb4b4;stroke:#ffb4b4;\" x=\"127.640293\" xlink:href=\"#m1a30a2ed85\" y=\"49.494732\"/>\r\n     <use style=\"fill:#ffb4b4;stroke:#ffb4b4;\" x=\"125.386341\" xlink:href=\"#m1a30a2ed85\" y=\"49.229561\"/>\r\n     <use style=\"fill:#ffb4b4;stroke:#ffb4b4;\" x=\"123.13239\" xlink:href=\"#m1a30a2ed85\" y=\"49.229561\"/>\r\n     <use style=\"fill:#ffb4b4;stroke:#ffb4b4;\" x=\"115.840195\" xlink:href=\"#m1a30a2ed85\" y=\"48.168878\"/>\r\n     <use style=\"fill:#ffb4b4;stroke:#ffb4b4;\" x=\"108.415415\" xlink:href=\"#m1a30a2ed85\" y=\"47.505951\"/>\r\n     <use style=\"fill:#ffb4b4;stroke:#ffb4b4;\" x=\"106.294049\" xlink:href=\"#m1a30a2ed85\" y=\"47.24078\"/>\r\n     <use style=\"fill:#ffb4b4;stroke:#ffb4b4;\" x=\"98.869268\" xlink:href=\"#m1a30a2ed85\" y=\"46.180098\"/>\r\n     <use style=\"fill:#ffb4b4;stroke:#ffb4b4;\" x=\"94.096195\" xlink:href=\"#m1a30a2ed85\" y=\"45.517171\"/>\r\n     <use style=\"fill:#ffb4b4;stroke:#ffb4b4;\" x=\"91.842244\" xlink:href=\"#m1a30a2ed85\" y=\"45.119415\"/>\r\n     <use style=\"fill:#ffb4b4;stroke:#ffb4b4;\" x=\"89.323122\" xlink:href=\"#m1a30a2ed85\" y=\"44.854244\"/>\r\n     <use style=\"fill:#ffb4b4;stroke:#ffb4b4;\" x=\"89.323122\" xlink:href=\"#m1a30a2ed85\" y=\"44.854244\"/>\r\n     <use style=\"fill:#ffb4b4;stroke:#ffb4b4;\" x=\"89.323122\" xlink:href=\"#m1a30a2ed85\" y=\"44.854244\"/>\r\n     <use style=\"fill:#ffb4b4;stroke:#ffb4b4;\" x=\"89.323122\" xlink:href=\"#m1a30a2ed85\" y=\"44.854244\"/>\r\n     <use style=\"fill:#ffb4b4;stroke:#ffb4b4;\" x=\"89.323122\" xlink:href=\"#m1a30a2ed85\" y=\"44.854244\"/>\r\n     <use style=\"fill:#ffb4b4;stroke:#ffb4b4;\" x=\"89.323122\" xlink:href=\"#m1a30a2ed85\" y=\"44.854244\"/>\r\n     <use style=\"fill:#ffb4b4;stroke:#ffb4b4;\" x=\"89.323122\" xlink:href=\"#m1a30a2ed85\" y=\"44.854244\"/>\r\n    </g>\r\n   </g>\r\n   <g id=\"PathCollection_2\">\r\n    <defs>\r\n     <path d=\"M 0 1 \r\nC 0.265203 1 0.51958 0.894634 0.707107 0.707107 \r\nC 0.894634 0.51958 1 0.265203 1 0 \r\nC 1 -0.265203 0.894634 -0.51958 0.707107 -0.707107 \r\nC 0.51958 -0.894634 0.265203 -1 0 -1 \r\nC -0.265203 -1 -0.51958 -0.894634 -0.707107 -0.707107 \r\nC -0.894634 -0.51958 -1 -0.265203 -1 0 \r\nC -1 0.265203 -0.894634 0.51958 -0.707107 0.707107 \r\nC -0.51958 0.894634 -0.265203 1 0 1 \r\nz\r\n\" id=\"macff8d2ee4\" style=\"stroke:#add8e6;\"/>\r\n    </defs>\r\n    <g clip-path=\"url(#pd294a87cb1)\">\r\n     <use style=\"fill:#add8e6;stroke:#add8e6;\" x=\"252.647064\" xlink:href=\"#macff8d2ee4\" y=\"29.651896\"/>\r\n     <use style=\"fill:#add8e6;stroke:#add8e6;\" x=\"252.647064\" xlink:href=\"#macff8d2ee4\" y=\"29.651896\"/>\r\n     <use style=\"fill:#add8e6;stroke:#add8e6;\" x=\"252.647064\" xlink:href=\"#macff8d2ee4\" y=\"29.651896\"/>\r\n     <use style=\"fill:#add8e6;stroke:#add8e6;\" x=\"252.647064\" xlink:href=\"#macff8d2ee4\" y=\"29.651896\"/>\r\n     <use style=\"fill:#add8e6;stroke:#add8e6;\" x=\"252.647064\" xlink:href=\"#macff8d2ee4\" y=\"29.651896\"/>\r\n     <use style=\"fill:#add8e6;stroke:#add8e6;\" x=\"252.647064\" xlink:href=\"#macff8d2ee4\" y=\"29.651896\"/>\r\n     <use style=\"fill:#add8e6;stroke:#add8e6;\" x=\"252.647064\" xlink:href=\"#macff8d2ee4\" y=\"29.651896\"/>\r\n     <use style=\"fill:#add8e6;stroke:#add8e6;\" x=\"252.647064\" xlink:href=\"#macff8d2ee4\" y=\"29.651896\"/>\r\n     <use style=\"fill:#add8e6;stroke:#add8e6;\" x=\"252.647064\" xlink:href=\"#macff8d2ee4\" y=\"29.651896\"/>\r\n     <use style=\"fill:#add8e6;stroke:#add8e6;\" x=\"252.647064\" xlink:href=\"#macff8d2ee4\" y=\"29.651896\"/>\r\n     <use style=\"fill:#add8e6;stroke:#add8e6;\" x=\"252.647064\" xlink:href=\"#macff8d2ee4\" y=\"29.651896\"/>\r\n     <use style=\"fill:#add8e6;stroke:#add8e6;\" x=\"252.647064\" xlink:href=\"#macff8d2ee4\" y=\"29.651896\"/>\r\n     <use style=\"fill:#add8e6;stroke:#add8e6;\" x=\"252.647064\" xlink:href=\"#macff8d2ee4\" y=\"29.651896\"/>\r\n     <use style=\"fill:#add8e6;stroke:#add8e6;\" x=\"249.891752\" xlink:href=\"#macff8d2ee4\" y=\"31.441216\"/>\r\n     <use style=\"fill:#add8e6;stroke:#add8e6;\" x=\"244.963236\" xlink:href=\"#macff8d2ee4\" y=\"34.641832\"/>\r\n     <use style=\"fill:#add8e6;stroke:#add8e6;\" x=\"239.967999\" xlink:href=\"#macff8d2ee4\" y=\"37.867117\"/>\r\n     <use style=\"fill:#add8e6;stroke:#add8e6;\" x=\"234.954561\" xlink:href=\"#macff8d2ee4\" y=\"41.106855\"/>\r\n     <use style=\"fill:#add8e6;stroke:#add8e6;\" x=\"234.954561\" xlink:href=\"#macff8d2ee4\" y=\"41.106855\"/>\r\n     <use style=\"fill:#add8e6;stroke:#add8e6;\" x=\"229.979987\" xlink:href=\"#macff8d2ee4\" y=\"44.32148\"/>\r\n     <use style=\"fill:#add8e6;stroke:#add8e6;\" x=\"224.994489\" xlink:href=\"#macff8d2ee4\" y=\"47.561798\"/>\r\n     <use style=\"fill:#add8e6;stroke:#add8e6;\" x=\"219.999251\" xlink:href=\"#macff8d2ee4\" y=\"50.787082\"/>\r\n     <use style=\"fill:#add8e6;stroke:#add8e6;\" x=\"215.013753\" xlink:href=\"#macff8d2ee4\" y=\"54.0274\"/>\r\n     <use style=\"fill:#add8e6;stroke:#add8e6;\" x=\"215.013753\" xlink:href=\"#macff8d2ee4\" y=\"54.0274\"/>\r\n     <use style=\"fill:#add8e6;stroke:#add8e6;\" x=\"210.018515\" xlink:href=\"#macff8d2ee4\" y=\"57.252685\"/>\r\n     <use style=\"fill:#add8e6;stroke:#add8e6;\" x=\"205.033016\" xlink:href=\"#macff8d2ee4\" y=\"60.493003\"/>\r\n     <use style=\"fill:#add8e6;stroke:#add8e6;\" x=\"205.033016\" xlink:href=\"#macff8d2ee4\" y=\"60.493003\"/>\r\n     <use style=\"fill:#add8e6;stroke:#add8e6;\" x=\"200.037779\" xlink:href=\"#macff8d2ee4\" y=\"63.718287\"/>\r\n     <use style=\"fill:#add8e6;stroke:#add8e6;\" x=\"195.05228\" xlink:href=\"#macff8d2ee4\" y=\"66.958605\"/>\r\n     <use style=\"fill:#add8e6;stroke:#add8e6;\" x=\"190.057043\" xlink:href=\"#macff8d2ee4\" y=\"70.18389\"/>\r\n     <use style=\"fill:#add8e6;stroke:#add8e6;\" x=\"185.071544\" xlink:href=\"#macff8d2ee4\" y=\"73.424207\"/>\r\n     <use style=\"fill:#add8e6;stroke:#add8e6;\" x=\"180.076307\" xlink:href=\"#macff8d2ee4\" y=\"76.649492\"/>\r\n     <use style=\"fill:#add8e6;stroke:#add8e6;\" x=\"180.076307\" xlink:href=\"#macff8d2ee4\" y=\"76.649492\"/>\r\n     <use style=\"fill:#add8e6;stroke:#add8e6;\" x=\"175.090808\" xlink:href=\"#macff8d2ee4\" y=\"79.88981\"/>\r\n     <use style=\"fill:#add8e6;stroke:#add8e6;\" x=\"170.09557\" xlink:href=\"#macff8d2ee4\" y=\"83.115095\"/>\r\n     <use style=\"fill:#add8e6;stroke:#add8e6;\" x=\"165.082133\" xlink:href=\"#macff8d2ee4\" y=\"86.354833\"/>\r\n     <use style=\"fill:#add8e6;stroke:#add8e6;\" x=\"165.082133\" xlink:href=\"#macff8d2ee4\" y=\"86.354833\"/>\r\n     <use style=\"fill:#add8e6;stroke:#add8e6;\" x=\"160.107559\" xlink:href=\"#macff8d2ee4\" y=\"89.569458\"/>\r\n     <use style=\"fill:#add8e6;stroke:#add8e6;\" x=\"155.122061\" xlink:href=\"#macff8d2ee4\" y=\"92.809776\"/>\r\n     <use style=\"fill:#add8e6;stroke:#add8e6;\" x=\"150.126823\" xlink:href=\"#macff8d2ee4\" y=\"96.03506\"/>\r\n     <use style=\"fill:#add8e6;stroke:#add8e6;\" x=\"145.113386\" xlink:href=\"#macff8d2ee4\" y=\"99.274799\"/>\r\n     <use style=\"fill:#add8e6;stroke:#add8e6;\" x=\"145.113386\" xlink:href=\"#macff8d2ee4\" y=\"99.274799\"/>\r\n     <use style=\"fill:#add8e6;stroke:#add8e6;\" x=\"140.138812\" xlink:href=\"#macff8d2ee4\" y=\"102.489424\"/>\r\n     <use style=\"fill:#add8e6;stroke:#add8e6;\" x=\"135.153313\" xlink:href=\"#macff8d2ee4\" y=\"105.729741\"/>\r\n     <use style=\"fill:#add8e6;stroke:#add8e6;\" x=\"130.158076\" xlink:href=\"#macff8d2ee4\" y=\"108.955026\"/>\r\n     <use style=\"fill:#add8e6;stroke:#add8e6;\" x=\"130.158076\" xlink:href=\"#macff8d2ee4\" y=\"108.955026\"/>\r\n     <use style=\"fill:#add8e6;stroke:#add8e6;\" x=\"125.172577\" xlink:href=\"#macff8d2ee4\" y=\"112.195344\"/>\r\n     <use style=\"fill:#add8e6;stroke:#add8e6;\" x=\"120.17734\" xlink:href=\"#macff8d2ee4\" y=\"115.420628\"/>\r\n     <use style=\"fill:#add8e6;stroke:#add8e6;\" x=\"115.163902\" xlink:href=\"#macff8d2ee4\" y=\"118.660367\"/>\r\n     <use style=\"fill:#add8e6;stroke:#add8e6;\" x=\"110.111601\" xlink:href=\"#macff8d2ee4\" y=\"121.92522\"/>\r\n     <use style=\"fill:#add8e6;stroke:#add8e6;\" x=\"110.111601\" xlink:href=\"#macff8d2ee4\" y=\"121.92522\"/>\r\n     <use style=\"fill:#add8e6;stroke:#add8e6;\" x=\"105.126102\" xlink:href=\"#macff8d2ee4\" y=\"125.165538\"/>\r\n     <use style=\"fill:#add8e6;stroke:#add8e6;\" x=\"100.130865\" xlink:href=\"#macff8d2ee4\" y=\"128.390823\"/>\r\n     <use style=\"fill:#add8e6;stroke:#add8e6;\" x=\"95.145366\" xlink:href=\"#macff8d2ee4\" y=\"131.631141\"/>\r\n     <use style=\"fill:#add8e6;stroke:#add8e6;\" x=\"95.145366\" xlink:href=\"#macff8d2ee4\" y=\"131.631141\"/>\r\n     <use style=\"fill:#add8e6;stroke:#add8e6;\" x=\"90.150129\" xlink:href=\"#macff8d2ee4\" y=\"134.856425\"/>\r\n     <use style=\"fill:#add8e6;stroke:#add8e6;\" x=\"85.16463\" xlink:href=\"#macff8d2ee4\" y=\"138.096743\"/>\r\n     <use style=\"fill:#add8e6;stroke:#add8e6;\" x=\"80.169392\" xlink:href=\"#macff8d2ee4\" y=\"141.322028\"/>\r\n     <use style=\"fill:#add8e6;stroke:#add8e6;\" x=\"80.169392\" xlink:href=\"#macff8d2ee4\" y=\"141.322028\"/>\r\n     <use style=\"fill:#add8e6;stroke:#add8e6;\" x=\"75.183894\" xlink:href=\"#macff8d2ee4\" y=\"144.562346\"/>\r\n     <use style=\"fill:#add8e6;stroke:#add8e6;\" x=\"70.188656\" xlink:href=\"#macff8d2ee4\" y=\"147.78763\"/>\r\n     <use style=\"fill:#add8e6;stroke:#add8e6;\" x=\"65.254729\" xlink:href=\"#macff8d2ee4\" y=\"151.106417\"/>\r\n     <use style=\"fill:#add8e6;stroke:#add8e6;\" x=\"60.746213\" xlink:href=\"#macff8d2ee4\" y=\"154.927538\"/>\r\n     <use style=\"fill:#add8e6;stroke:#add8e6;\" x=\"60.746213\" xlink:href=\"#macff8d2ee4\" y=\"154.927538\"/>\r\n     <use style=\"fill:#add8e6;stroke:#add8e6;\" x=\"56.565819\" xlink:href=\"#macff8d2ee4\" y=\"159.201833\"/>\r\n     <use style=\"fill:#add8e6;stroke:#add8e6;\" x=\"52.835238\" xlink:href=\"#macff8d2ee4\" y=\"163.844908\"/>\r\n     <use style=\"fill:#add8e6;stroke:#add8e6;\" x=\"49.572072\" xlink:href=\"#macff8d2ee4\" y=\"168.799419\"/>\r\n     <use style=\"fill:#add8e6;stroke:#add8e6;\" x=\"46.791325\" xlink:href=\"#macff8d2ee4\" y=\"174.039924\"/>\r\n     <use style=\"fill:#add8e6;stroke:#add8e6;\" x=\"46.791325\" xlink:href=\"#macff8d2ee4\" y=\"174.039924\"/>\r\n     <use style=\"fill:#add8e6;stroke:#add8e6;\" x=\"44.542273\" xlink:href=\"#macff8d2ee4\" y=\"179.505218\"/>\r\n     <use style=\"fill:#add8e6;stroke:#add8e6;\" x=\"42.799594\" xlink:href=\"#macff8d2ee4\" y=\"185.248947\"/>\r\n     <use style=\"fill:#add8e6;stroke:#add8e6;\" x=\"41.656244\" xlink:href=\"#macff8d2ee4\" y=\"191.000208\"/>\r\n     <use style=\"fill:#add8e6;stroke:#add8e6;\" x=\"41.027989\" xlink:href=\"#macff8d2ee4\" y=\"196.922177\"/>\r\n     <use style=\"fill:#add8e6;stroke:#add8e6;\" x=\"41.027989\" xlink:href=\"#macff8d2ee4\" y=\"196.922177\"/>\r\n     <use style=\"fill:#add8e6;stroke:#add8e6;\" x=\"41.539615\" xlink:href=\"#macff8d2ee4\" y=\"202.972413\"/>\r\n     <use style=\"fill:#add8e6;stroke:#add8e6;\" x=\"43.184939\" xlink:href=\"#macff8d2ee4\" y=\"208.679532\"/>\r\n     <use style=\"fill:#add8e6;stroke:#add8e6;\" x=\"45.769389\" xlink:href=\"#macff8d2ee4\" y=\"213.919218\"/>\r\n     <use style=\"fill:#add8e6;stroke:#add8e6;\" x=\"45.769389\" xlink:href=\"#macff8d2ee4\" y=\"213.919218\"/>\r\n     <use style=\"fill:#add8e6;stroke:#add8e6;\" x=\"48.905728\" xlink:href=\"#macff8d2ee4\" y=\"218.394443\"/>\r\n     <use style=\"fill:#add8e6;stroke:#add8e6;\" x=\"52.786301\" xlink:href=\"#macff8d2ee4\" y=\"222.437887\"/>\r\n     <use style=\"fill:#add8e6;stroke:#add8e6;\" x=\"57.13951\" xlink:href=\"#macff8d2ee4\" y=\"225.814341\"/>\r\n     <use style=\"fill:#add8e6;stroke:#add8e6;\" x=\"57.13951\" xlink:href=\"#macff8d2ee4\" y=\"225.814341\"/>\r\n     <use style=\"fill:#add8e6;stroke:#add8e6;\" x=\"61.927831\" xlink:href=\"#macff8d2ee4\" y=\"228.493692\"/>\r\n     <use style=\"fill:#add8e6;stroke:#add8e6;\" x=\"66.940874\" xlink:href=\"#macff8d2ee4\" y=\"230.474828\"/>\r\n     <use style=\"fill:#add8e6;stroke:#add8e6;\" x=\"72.435437\" xlink:href=\"#macff8d2ee4\" y=\"231.69358\"/>\r\n     <use style=\"fill:#add8e6;stroke:#add8e6;\" x=\"77.954932\" xlink:href=\"#macff8d2ee4\" y=\"232.079113\"/>\r\n     <use style=\"fill:#add8e6;stroke:#add8e6;\" x=\"77.954932\" xlink:href=\"#macff8d2ee4\" y=\"232.079113\"/>\r\n     <use style=\"fill:#add8e6;stroke:#add8e6;\" x=\"83.424464\" xlink:href=\"#macff8d2ee4\" y=\"231.641883\"/>\r\n     <use style=\"fill:#add8e6;stroke:#add8e6;\" x=\"88.80955\" xlink:href=\"#macff8d2ee4\" y=\"230.364271\"/>\r\n     <use style=\"fill:#add8e6;stroke:#add8e6;\" x=\"93.946594\" xlink:href=\"#macff8d2ee4\" y=\"228.308975\"/>\r\n     <use style=\"fill:#add8e6;stroke:#add8e6;\" x=\"93.946594\" xlink:href=\"#macff8d2ee4\" y=\"228.308975\"/>\r\n     <use style=\"fill:#add8e6;stroke:#add8e6;\" x=\"99.409805\" xlink:href=\"#macff8d2ee4\" y=\"226.078565\"/>\r\n     <use style=\"fill:#add8e6;stroke:#add8e6;\" x=\"104.921973\" xlink:href=\"#macff8d2ee4\" y=\"223.849024\"/>\r\n     <use style=\"fill:#add8e6;stroke:#add8e6;\" x=\"110.440833\" xlink:href=\"#macff8d2ee4\" y=\"221.636097\"/>\r\n     <use style=\"fill:#add8e6;stroke:#add8e6;\" x=\"115.894433\" xlink:href=\"#macff8d2ee4\" y=\"219.44693\"/>\r\n     <use style=\"fill:#add8e6;stroke:#add8e6;\" x=\"115.894433\" xlink:href=\"#macff8d2ee4\" y=\"219.44693\"/>\r\n     <use style=\"fill:#add8e6;stroke:#add8e6;\" x=\"121.406602\" xlink:href=\"#macff8d2ee4\" y=\"217.217388\"/>\r\n     <use style=\"fill:#add8e6;stroke:#add8e6;\" x=\"126.941064\" xlink:href=\"#macff8d2ee4\" y=\"214.981278\"/>\r\n     <use style=\"fill:#add8e6;stroke:#add8e6;\" x=\"132.51843\" xlink:href=\"#macff8d2ee4\" y=\"212.727835\"/>\r\n     <use style=\"fill:#add8e6;stroke:#add8e6;\" x=\"138.037289\" xlink:href=\"#macff8d2ee4\" y=\"210.514908\"/>\r\n     <use style=\"fill:#add8e6;stroke:#add8e6;\" x=\"138.037289\" xlink:href=\"#macff8d2ee4\" y=\"210.514908\"/>\r\n     <use style=\"fill:#add8e6;stroke:#add8e6;\" x=\"143.549458\" xlink:href=\"#macff8d2ee4\" y=\"208.285366\"/>\r\n     <use style=\"fill:#add8e6;stroke:#add8e6;\" x=\"148.998115\" xlink:href=\"#macff8d2ee4\" y=\"206.083925\"/>\r\n     <use style=\"fill:#add8e6;stroke:#add8e6;\" x=\"154.532577\" xlink:href=\"#macff8d2ee4\" y=\"203.847815\"/>\r\n     <use style=\"fill:#add8e6;stroke:#add8e6;\" x=\"154.532577\" xlink:href=\"#macff8d2ee4\" y=\"203.847815\"/>\r\n     <use style=\"fill:#add8e6;stroke:#add8e6;\" x=\"160.024137\" xlink:href=\"#macff8d2ee4\" y=\"201.62904\"/>\r\n     <use style=\"fill:#add8e6;stroke:#add8e6;\" x=\"165.5586\" xlink:href=\"#macff8d2ee4\" y=\"199.39293\"/>\r\n     <use style=\"fill:#add8e6;stroke:#add8e6;\" x=\"171.050159\" xlink:href=\"#macff8d2ee4\" y=\"197.174155\"/>\r\n     <use style=\"fill:#add8e6;stroke:#add8e6;\" x=\"176.584622\" xlink:href=\"#macff8d2ee4\" y=\"194.938045\"/>\r\n     <use style=\"fill:#add8e6;stroke:#add8e6;\" x=\"176.584622\" xlink:href=\"#macff8d2ee4\" y=\"194.938045\"/>\r\n     <use style=\"fill:#add8e6;stroke:#add8e6;\" x=\"182.001013\" xlink:href=\"#macff8d2ee4\" y=\"192.598242\"/>\r\n     <use style=\"fill:#add8e6;stroke:#add8e6;\" x=\"187.219329\" xlink:href=\"#macff8d2ee4\" y=\"189.632347\"/>\r\n     <use style=\"fill:#add8e6;stroke:#add8e6;\" x=\"191.769632\" xlink:href=\"#macff8d2ee4\" y=\"185.79157\"/>\r\n     <use style=\"fill:#add8e6;stroke:#add8e6;\" x=\"191.769632\" xlink:href=\"#macff8d2ee4\" y=\"185.79157\"/>\r\n     <use style=\"fill:#add8e6;stroke:#add8e6;\" x=\"195.512598\" xlink:href=\"#macff8d2ee4\" y=\"181.120922\"/>\r\n     <use style=\"fill:#add8e6;stroke:#add8e6;\" x=\"198.240463\" xlink:href=\"#macff8d2ee4\" y=\"176.276032\"/>\r\n     <use style=\"fill:#add8e6;stroke:#add8e6;\" x=\"200.248877\" xlink:href=\"#macff8d2ee4\" y=\"171.122171\"/>\r\n     <use style=\"fill:#add8e6;stroke:#add8e6;\" x=\"200.248877\" xlink:href=\"#macff8d2ee4\" y=\"171.122171\"/>\r\n     <use style=\"fill:#add8e6;stroke:#add8e6;\" x=\"201.459311\" xlink:href=\"#macff8d2ee4\" y=\"165.79476\"/>\r\n     <use style=\"fill:#add8e6;stroke:#add8e6;\" x=\"201.930977\" xlink:href=\"#macff8d2ee4\" y=\"160.401269\"/>\r\n     <use style=\"fill:#add8e6;stroke:#add8e6;\" x=\"201.589883\" xlink:href=\"#macff8d2ee4\" y=\"154.87885\"/>\r\n     <use style=\"fill:#add8e6;stroke:#add8e6;\" x=\"200.325802\" xlink:href=\"#macff8d2ee4\" y=\"150.09505\"/>\r\n     <use style=\"fill:#add8e6;stroke:#add8e6;\" x=\"200.325802\" xlink:href=\"#macff8d2ee4\" y=\"150.09505\"/>\r\n     <use style=\"fill:#add8e6;stroke:#add8e6;\" x=\"198.204723\" xlink:href=\"#macff8d2ee4\" y=\"145.670376\"/>\r\n     <use style=\"fill:#add8e6;stroke:#add8e6;\" x=\"195.331988\" xlink:href=\"#macff8d2ee4\" y=\"141.695267\"/>\r\n     <use style=\"fill:#add8e6;stroke:#add8e6;\" x=\"191.793566\" xlink:href=\"#macff8d2ee4\" y=\"138.299142\"/>\r\n     <use style=\"fill:#add8e6;stroke:#add8e6;\" x=\"191.793566\" xlink:href=\"#macff8d2ee4\" y=\"138.299142\"/>\r\n     <use style=\"fill:#add8e6;stroke:#add8e6;\" x=\"187.521125\" xlink:href=\"#macff8d2ee4\" y=\"135.564774\"/>\r\n     <use style=\"fill:#add8e6;stroke:#add8e6;\" x=\"182.890793\" xlink:href=\"#macff8d2ee4\" y=\"133.734773\"/>\r\n     <use style=\"fill:#add8e6;stroke:#add8e6;\" x=\"178.073796\" xlink:href=\"#macff8d2ee4\" y=\"132.800291\"/>\r\n     <use style=\"fill:#add8e6;stroke:#add8e6;\" x=\"172.850255\" xlink:href=\"#macff8d2ee4\" y=\"132.295737\"/>\r\n     <use style=\"fill:#add8e6;stroke:#add8e6;\" x=\"172.850255\" xlink:href=\"#macff8d2ee4\" y=\"132.295737\"/>\r\n     <use style=\"fill:#add8e6;stroke:#add8e6;\" x=\"166.908823\" xlink:href=\"#macff8d2ee4\" y=\"131.516853\"/>\r\n     <use style=\"fill:#add8e6;stroke:#add8e6;\" x=\"161.056867\" xlink:href=\"#macff8d2ee4\" y=\"130.767625\"/>\r\n     <use style=\"fill:#add8e6;stroke:#add8e6;\" x=\"155.182264\" xlink:href=\"#macff8d2ee4\" y=\"130.013155\"/>\r\n     <use style=\"fill:#add8e6;stroke:#add8e6;\" x=\"155.182264\" xlink:href=\"#macff8d2ee4\" y=\"130.013155\"/>\r\n     <use style=\"fill:#add8e6;stroke:#add8e6;\" x=\"149.194944\" xlink:href=\"#macff8d2ee4\" y=\"129.228326\"/>\r\n     <use style=\"fill:#add8e6;stroke:#add8e6;\" x=\"143.297099\" xlink:href=\"#macff8d2ee4\" y=\"128.473151\"/>\r\n     <use style=\"fill:#add8e6;stroke:#add8e6;\" x=\"137.401556\" xlink:href=\"#macff8d2ee4\" y=\"127.700214\"/>\r\n     <use style=\"fill:#add8e6;stroke:#add8e6;\" x=\"137.401556\" xlink:href=\"#macff8d2ee4\" y=\"127.700214\"/>\r\n     <use style=\"fill:#add8e6;stroke:#add8e6;\" x=\"131.574548\" xlink:href=\"#macff8d2ee4\" y=\"126.938516\"/>\r\n     <use style=\"fill:#add8e6;stroke:#add8e6;\" x=\"125.676704\" xlink:href=\"#macff8d2ee4\" y=\"126.183342\"/>\r\n     <use style=\"fill:#add8e6;stroke:#add8e6;\" x=\"119.781161\" xlink:href=\"#macff8d2ee4\" y=\"125.410404\"/>\r\n     <use style=\"fill:#add8e6;stroke:#add8e6;\" x=\"113.883316\" xlink:href=\"#macff8d2ee4\" y=\"124.65523\"/>\r\n     <use style=\"fill:#add8e6;stroke:#add8e6;\" x=\"107.987774\" xlink:href=\"#macff8d2ee4\" y=\"123.882292\"/>\r\n     <use style=\"fill:#add8e6;stroke:#add8e6;\" x=\"107.987774\" xlink:href=\"#macff8d2ee4\" y=\"123.882292\"/>\r\n     <use style=\"fill:#add8e6;stroke:#add8e6;\" x=\"102.069002\" xlink:href=\"#macff8d2ee4\" y=\"123.108599\"/>\r\n     <use style=\"fill:#add8e6;stroke:#add8e6;\" x=\"96.196112\" xlink:href=\"#macff8d2ee4\" y=\"122.340904\"/>\r\n     <use style=\"fill:#add8e6;stroke:#add8e6;\" x=\"90.27734\" xlink:href=\"#macff8d2ee4\" y=\"121.567211\"/>\r\n     <use style=\"fill:#add8e6;stroke:#add8e6;\" x=\"90.27734\" xlink:href=\"#macff8d2ee4\" y=\"121.567211\"/>\r\n     <use style=\"fill:#add8e6;stroke:#add8e6;\" x=\"84.35068\" xlink:href=\"#macff8d2ee4\" y=\"120.855724\"/>\r\n     <use style=\"fill:#add8e6;stroke:#add8e6;\" x=\"78.41469\" xlink:href=\"#macff8d2ee4\" y=\"121.325667\"/>\r\n     <use style=\"fill:#add8e6;stroke:#add8e6;\" x=\"73.332728\" xlink:href=\"#macff8d2ee4\" y=\"123.459288\"/>\r\n     <use style=\"fill:#add8e6;stroke:#add8e6;\" x=\"69.790295\" xlink:href=\"#macff8d2ee4\" y=\"126.207062\"/>\r\n     <use style=\"fill:#add8e6;stroke:#add8e6;\" x=\"69.790295\" xlink:href=\"#macff8d2ee4\" y=\"126.207062\"/>\r\n     <use style=\"fill:#add8e6;stroke:#add8e6;\" x=\"66.93022\" xlink:href=\"#macff8d2ee4\" y=\"129.780201\"/>\r\n     <use style=\"fill:#add8e6;stroke:#add8e6;\" x=\"65.034495\" xlink:href=\"#macff8d2ee4\" y=\"133.762491\"/>\r\n     <use style=\"fill:#add8e6;stroke:#add8e6;\" x=\"64.096361\" xlink:href=\"#macff8d2ee4\" y=\"138.146438\"/>\r\n     <use style=\"fill:#add8e6;stroke:#add8e6;\" x=\"64.096361\" xlink:href=\"#macff8d2ee4\" y=\"138.146438\"/>\r\n     <use style=\"fill:#add8e6;stroke:#add8e6;\" x=\"64.239752\" xlink:href=\"#macff8d2ee4\" y=\"142.724337\"/>\r\n     <use style=\"fill:#add8e6;stroke:#add8e6;\" x=\"65.390511\" xlink:href=\"#macff8d2ee4\" y=\"147.007158\"/>\r\n     <use style=\"fill:#add8e6;stroke:#add8e6;\" x=\"67.466682\" xlink:href=\"#macff8d2ee4\" y=\"150.89842\"/>\r\n     <use style=\"fill:#add8e6;stroke:#add8e6;\" x=\"70.276107\" xlink:href=\"#macff8d2ee4\" y=\"154.171601\"/>\r\n     <use style=\"fill:#add8e6;stroke:#add8e6;\" x=\"70.276107\" xlink:href=\"#macff8d2ee4\" y=\"154.171601\"/>\r\n     <use style=\"fill:#add8e6;stroke:#add8e6;\" x=\"73.802412\" xlink:href=\"#macff8d2ee4\" y=\"156.780117\"/>\r\n     <use style=\"fill:#add8e6;stroke:#add8e6;\" x=\"77.859757\" xlink:href=\"#macff8d2ee4\" y=\"158.562207\"/>\r\n     <use style=\"fill:#add8e6;stroke:#add8e6;\" x=\"83.081673\" xlink:href=\"#macff8d2ee4\" y=\"161.003706\"/>\r\n     <use style=\"fill:#add8e6;stroke:#add8e6;\" x=\"83.081673\" xlink:href=\"#macff8d2ee4\" y=\"161.003706\"/>\r\n     <use style=\"fill:#add8e6;stroke:#add8e6;\" x=\"88.40579\" xlink:href=\"#macff8d2ee4\" y=\"163.545459\"/>\r\n     <use style=\"fill:#add8e6;stroke:#add8e6;\" x=\"93.749779\" xlink:href=\"#macff8d2ee4\" y=\"166.099274\"/>\r\n     <use style=\"fill:#add8e6;stroke:#add8e6;\" x=\"99.135519\" xlink:href=\"#macff8d2ee4\" y=\"168.673041\"/>\r\n     <use style=\"fill:#add8e6;stroke:#add8e6;\" x=\"104.437758\" xlink:href=\"#macff8d2ee4\" y=\"171.206904\"/>\r\n     <use style=\"fill:#add8e6;stroke:#add8e6;\" x=\"104.437758\" xlink:href=\"#macff8d2ee4\" y=\"171.206904\"/>\r\n     <use style=\"fill:#add8e6;stroke:#add8e6;\" x=\"109.823498\" xlink:href=\"#macff8d2ee4\" y=\"173.78067\"/>\r\n     <use style=\"fill:#add8e6;stroke:#add8e6;\" x=\"115.209237\" xlink:href=\"#macff8d2ee4\" y=\"176.354436\"/>\r\n     <use style=\"fill:#add8e6;stroke:#add8e6;\" x=\"120.553227\" xlink:href=\"#macff8d2ee4\" y=\"178.908251\"/>\r\n     <use style=\"fill:#add8e6;stroke:#add8e6;\" x=\"125.938966\" xlink:href=\"#macff8d2ee4\" y=\"181.482017\"/>\r\n     <use style=\"fill:#add8e6;stroke:#add8e6;\" x=\"125.938966\" xlink:href=\"#macff8d2ee4\" y=\"181.482017\"/>\r\n     <use style=\"fill:#add8e6;stroke:#add8e6;\" x=\"131.615553\" xlink:href=\"#macff8d2ee4\" y=\"183.498244\"/>\r\n     <use style=\"fill:#add8e6;stroke:#add8e6;\" x=\"137.397189\" xlink:href=\"#macff8d2ee4\" y=\"184.92935\"/>\r\n     <use style=\"fill:#add8e6;stroke:#add8e6;\" x=\"143.290089\" xlink:href=\"#macff8d2ee4\" y=\"185.794853\"/>\r\n     <use style=\"fill:#add8e6;stroke:#add8e6;\" x=\"143.290089\" xlink:href=\"#macff8d2ee4\" y=\"185.794853\"/>\r\n     <use style=\"fill:#add8e6;stroke:#add8e6;\" x=\"149.214831\" xlink:href=\"#macff8d2ee4\" y=\"186.099593\"/>\r\n     <use style=\"fill:#add8e6;stroke:#add8e6;\" x=\"155.188122\" xlink:href=\"#macff8d2ee4\" y=\"185.844454\"/>\r\n     <use style=\"fill:#add8e6;stroke:#add8e6;\" x=\"161.039741\" xlink:href=\"#macff8d2ee4\" y=\"185.016066\"/>\r\n     <use style=\"fill:#add8e6;stroke:#add8e6;\" x=\"161.039741\" xlink:href=\"#macff8d2ee4\" y=\"185.016066\"/>\r\n     <use style=\"fill:#add8e6;stroke:#add8e6;\" x=\"166.790249\" xlink:href=\"#macff8d2ee4\" y=\"183.545574\"/>\r\n     <use style=\"fill:#add8e6;stroke:#add8e6;\" x=\"172.166774\" xlink:href=\"#macff8d2ee4\" y=\"180.915417\"/>\r\n     <use style=\"fill:#add8e6;stroke:#add8e6;\" x=\"176.904703\" xlink:href=\"#macff8d2ee4\" y=\"177.333473\"/>\r\n     <use style=\"fill:#add8e6;stroke:#add8e6;\" x=\"180.755048\" xlink:href=\"#macff8d2ee4\" y=\"173.357761\"/>\r\n     <use style=\"fill:#add8e6;stroke:#add8e6;\" x=\"180.755048\" xlink:href=\"#macff8d2ee4\" y=\"173.357761\"/>\r\n     <use style=\"fill:#add8e6;stroke:#add8e6;\" x=\"183.986301\" xlink:href=\"#macff8d2ee4\" y=\"168.985962\"/>\r\n     <use style=\"fill:#add8e6;stroke:#add8e6;\" x=\"186.547352\" xlink:href=\"#macff8d2ee4\" y=\"164.2682\"/>\r\n     <use style=\"fill:#add8e6;stroke:#add8e6;\" x=\"188.440905\" xlink:href=\"#macff8d2ee4\" y=\"159.069362\"/>\r\n     <use style=\"fill:#add8e6;stroke:#add8e6;\" x=\"190.187916\" xlink:href=\"#macff8d2ee4\" y=\"153.648478\"/>\r\n     <use style=\"fill:#add8e6;stroke:#add8e6;\" x=\"190.187916\" xlink:href=\"#macff8d2ee4\" y=\"153.648478\"/>\r\n     <use style=\"fill:#add8e6;stroke:#add8e6;\" x=\"192.070059\" xlink:href=\"#macff8d2ee4\" y=\"148.032631\"/>\r\n     <use style=\"fill:#add8e6;stroke:#add8e6;\" x=\"193.952202\" xlink:href=\"#macff8d2ee4\" y=\"142.416785\"/>\r\n     <use style=\"fill:#add8e6;stroke:#add8e6;\" x=\"195.81964\" xlink:href=\"#macff8d2ee4\" y=\"136.844812\"/>\r\n     <use style=\"fill:#add8e6;stroke:#add8e6;\" x=\"195.81964\" xlink:href=\"#macff8d2ee4\" y=\"136.844812\"/>\r\n     <use style=\"fill:#add8e6;stroke:#add8e6;\" x=\"197.708947\" xlink:href=\"#macff8d2ee4\" y=\"131.15818\"/>\r\n     <use style=\"fill:#add8e6;stroke:#add8e6;\" x=\"199.563835\" xlink:href=\"#macff8d2ee4\" y=\"125.582017\"/>\r\n     <use style=\"fill:#add8e6;stroke:#add8e6;\" x=\"201.447934\" xlink:href=\"#macff8d2ee4\" y=\"119.91804\"/>\r\n     <use style=\"fill:#add8e6;stroke:#add8e6;\" x=\"203.332032\" xlink:href=\"#macff8d2ee4\" y=\"114.254063\"/>\r\n     <use style=\"fill:#add8e6;stroke:#add8e6;\" x=\"203.332032\" xlink:href=\"#macff8d2ee4\" y=\"114.254063\"/>\r\n     <use style=\"fill:#add8e6;stroke:#add8e6;\" x=\"205.201526\" xlink:href=\"#macff8d2ee4\" y=\"108.633993\"/>\r\n     <use style=\"fill:#add8e6;stroke:#add8e6;\" x=\"206.56602\" xlink:href=\"#macff8d2ee4\" y=\"102.792334\"/>\r\n     <use style=\"fill:#add8e6;stroke:#add8e6;\" x=\"207.344605\" xlink:href=\"#macff8d2ee4\" y=\"96.911071\"/>\r\n     <use style=\"fill:#add8e6;stroke:#add8e6;\" x=\"207.344605\" xlink:href=\"#macff8d2ee4\" y=\"96.911071\"/>\r\n     <use style=\"fill:#add8e6;stroke:#add8e6;\" x=\"207.54648\" xlink:href=\"#macff8d2ee4\" y=\"91.004556\"/>\r\n     <use style=\"fill:#add8e6;stroke:#add8e6;\" x=\"207.176673\" xlink:href=\"#macff8d2ee4\" y=\"85.01368\"/>\r\n     <use style=\"fill:#add8e6;stroke:#add8e6;\" x=\"206.255798\" xlink:href=\"#macff8d2ee4\" y=\"79.199745\"/>\r\n     <use style=\"fill:#add8e6;stroke:#add8e6;\" x=\"206.255798\" xlink:href=\"#macff8d2ee4\" y=\"79.199745\"/>\r\n     <use style=\"fill:#add8e6;stroke:#add8e6;\" x=\"204.287335\" xlink:href=\"#macff8d2ee4\" y=\"73.533046\"/>\r\n     <use style=\"fill:#add8e6;stroke:#add8e6;\" x=\"201.283995\" xlink:href=\"#macff8d2ee4\" y=\"68.383293\"/>\r\n     <use style=\"fill:#add8e6;stroke:#add8e6;\" x=\"197.667178\" xlink:href=\"#macff8d2ee4\" y=\"64.03797\"/>\r\n     <use style=\"fill:#add8e6;stroke:#add8e6;\" x=\"193.683471\" xlink:href=\"#macff8d2ee4\" y=\"60.148235\"/>\r\n     <use style=\"fill:#add8e6;stroke:#add8e6;\" x=\"193.683471\" xlink:href=\"#macff8d2ee4\" y=\"60.148235\"/>\r\n     <use style=\"fill:#add8e6;stroke:#add8e6;\" x=\"189.514665\" xlink:href=\"#macff8d2ee4\" y=\"55.876055\"/>\r\n     <use style=\"fill:#add8e6;stroke:#add8e6;\" x=\"185.410492\" xlink:href=\"#macff8d2ee4\" y=\"51.670111\"/>\r\n     <use style=\"fill:#add8e6;stroke:#add8e6;\" x=\"180.920974\" xlink:href=\"#macff8d2ee4\" y=\"47.763486\"/>\r\n     <use style=\"fill:#add8e6;stroke:#add8e6;\" x=\"176.110116\" xlink:href=\"#macff8d2ee4\" y=\"44.332403\"/>\r\n     <use style=\"fill:#add8e6;stroke:#add8e6;\" x=\"176.110116\" xlink:href=\"#macff8d2ee4\" y=\"44.332403\"/>\r\n     <use style=\"fill:#add8e6;stroke:#add8e6;\" x=\"170.921055\" xlink:href=\"#macff8d2ee4\" y=\"41.36085\"/>\r\n     <use style=\"fill:#add8e6;stroke:#add8e6;\" x=\"165.44995\" xlink:href=\"#macff8d2ee4\" y=\"38.892174\"/>\r\n     <use style=\"fill:#add8e6;stroke:#add8e6;\" x=\"159.835431\" xlink:href=\"#macff8d2ee4\" y=\"36.975765\"/>\r\n     <use style=\"fill:#add8e6;stroke:#add8e6;\" x=\"159.835431\" xlink:href=\"#macff8d2ee4\" y=\"36.975765\"/>\r\n     <use style=\"fill:#add8e6;stroke:#add8e6;\" x=\"154.038861\" xlink:href=\"#macff8d2ee4\" y=\"35.606403\"/>\r\n     <use style=\"fill:#add8e6;stroke:#add8e6;\" x=\"148.20764\" xlink:href=\"#macff8d2ee4\" y=\"34.802217\"/>\r\n     <use style=\"fill:#add8e6;stroke:#add8e6;\" x=\"142.16443\" xlink:href=\"#macff8d2ee4\" y=\"34.550766\"/>\r\n     <use style=\"fill:#add8e6;stroke:#add8e6;\" x=\"136.332959\" xlink:href=\"#macff8d2ee4\" y=\"34.870926\"/>\r\n     <use style=\"fill:#add8e6;stroke:#add8e6;\" x=\"136.332959\" xlink:href=\"#macff8d2ee4\" y=\"34.870926\"/>\r\n     <use style=\"fill:#add8e6;stroke:#add8e6;\" x=\"130.419512\" xlink:href=\"#macff8d2ee4\" y=\"35.752083\"/>\r\n     <use style=\"fill:#add8e6;stroke:#add8e6;\" x=\"124.576895\" xlink:href=\"#macff8d2ee4\" y=\"37.226675\"/>\r\n     <use style=\"fill:#add8e6;stroke:#add8e6;\" x=\"118.943529\" xlink:href=\"#macff8d2ee4\" y=\"39.229293\"/>\r\n     <use style=\"fill:#add8e6;stroke:#add8e6;\" x=\"118.943529\" xlink:href=\"#macff8d2ee4\" y=\"39.229293\"/>\r\n     <use style=\"fill:#add8e6;stroke:#add8e6;\" x=\"113.595229\" xlink:href=\"#macff8d2ee4\" y=\"41.743922\"/>\r\n     <use style=\"fill:#add8e6;stroke:#add8e6;\" x=\"108.473846\" xlink:href=\"#macff8d2ee4\" y=\"44.784779\"/>\r\n     <use style=\"fill:#add8e6;stroke:#add8e6;\" x=\"103.642037\" xlink:href=\"#macff8d2ee4\" y=\"48.305989\"/>\r\n     <use style=\"fill:#add8e6;stroke:#add8e6;\" x=\"99.237317\" xlink:href=\"#macff8d2ee4\" y=\"52.210896\"/>\r\n     <use style=\"fill:#add8e6;stroke:#add8e6;\" x=\"99.237317\" xlink:href=\"#macff8d2ee4\" y=\"52.210896\"/>\r\n     <use style=\"fill:#add8e6;stroke:#add8e6;\" x=\"95.034127\" xlink:href=\"#macff8d2ee4\" y=\"56.389967\"/>\r\n     <use style=\"fill:#add8e6;stroke:#add8e6;\" x=\"90.761702\" xlink:href=\"#macff8d2ee4\" y=\"60.525332\"/>\r\n     <use style=\"fill:#add8e6;stroke:#add8e6;\" x=\"86.474236\" xlink:href=\"#macff8d2ee4\" y=\"64.678415\"/>\r\n     <use style=\"fill:#add8e6;stroke:#add8e6;\" x=\"86.474236\" xlink:href=\"#macff8d2ee4\" y=\"64.678415\"/>\r\n     <use style=\"fill:#add8e6;stroke:#add8e6;\" x=\"82.220006\" xlink:href=\"#macff8d2ee4\" y=\"68.799303\"/>\r\n     <use style=\"fill:#add8e6;stroke:#add8e6;\" x=\"77.960057\" xlink:href=\"#macff8d2ee4\" y=\"72.947519\"/>\r\n     <use style=\"fill:#add8e6;stroke:#add8e6;\" x=\"73.687632\" xlink:href=\"#macff8d2ee4\" y=\"77.082884\"/>\r\n     <use style=\"fill:#add8e6;stroke:#add8e6;\" x=\"69.36693\" xlink:href=\"#macff8d2ee4\" y=\"81.268161\"/>\r\n     <use style=\"fill:#add8e6;stroke:#add8e6;\" x=\"69.36693\" xlink:href=\"#macff8d2ee4\" y=\"81.268161\"/>\r\n     <use style=\"fill:#add8e6;stroke:#add8e6;\" x=\"65.536804\" xlink:href=\"#macff8d2ee4\" y=\"85.827123\"/>\r\n     <use style=\"fill:#add8e6;stroke:#add8e6;\" x=\"62.230505\" xlink:href=\"#macff8d2ee4\" y=\"90.641367\"/>\r\n     <use style=\"fill:#add8e6;stroke:#add8e6;\" x=\"59.319475\" xlink:href=\"#macff8d2ee4\" y=\"95.890487\"/>\r\n     <use style=\"fill:#add8e6;stroke:#add8e6;\" x=\"59.319475\" xlink:href=\"#macff8d2ee4\" y=\"95.890487\"/>\r\n     <use style=\"fill:#add8e6;stroke:#add8e6;\" x=\"56.925872\" xlink:href=\"#macff8d2ee4\" y=\"101.369169\"/>\r\n     <use style=\"fill:#add8e6;stroke:#add8e6;\" x=\"54.843721\" xlink:href=\"#macff8d2ee4\" y=\"106.917956\"/>\r\n     <use style=\"fill:#add8e6;stroke:#add8e6;\" x=\"52.684467\" xlink:href=\"#macff8d2ee4\" y=\"112.458035\"/>\r\n     <use style=\"fill:#add8e6;stroke:#add8e6;\" x=\"50.558651\" xlink:href=\"#macff8d2ee4\" y=\"117.961455\"/>\r\n     <use style=\"fill:#add8e6;stroke:#add8e6;\" x=\"50.558651\" xlink:href=\"#macff8d2ee4\" y=\"117.961455\"/>\r\n     <use style=\"fill:#add8e6;stroke:#add8e6;\" x=\"48.422333\" xlink:href=\"#macff8d2ee4\" y=\"123.485615\"/>\r\n     <use style=\"fill:#add8e6;stroke:#add8e6;\" x=\"46.263079\" xlink:href=\"#macff8d2ee4\" y=\"129.025694\"/>\r\n     <use style=\"fill:#add8e6;stroke:#add8e6;\" x=\"44.120524\" xlink:href=\"#macff8d2ee4\" y=\"134.572253\"/>\r\n     <use style=\"fill:#add8e6;stroke:#add8e6;\" x=\"44.120524\" xlink:href=\"#macff8d2ee4\" y=\"134.572253\"/>\r\n     <use style=\"fill:#add8e6;stroke:#add8e6;\" x=\"41.927793\" xlink:href=\"#macff8d2ee4\" y=\"140.19861\"/>\r\n     <use style=\"fill:#add8e6;stroke:#add8e6;\" x=\"39.795829\" xlink:href=\"#macff8d2ee4\" y=\"145.674826\"/>\r\n     <use style=\"fill:#add8e6;stroke:#add8e6;\" x=\"37.653274\" xlink:href=\"#macff8d2ee4\" y=\"151.221384\"/>\r\n     <use style=\"fill:#add8e6;stroke:#add8e6;\" x=\"37.653274\" xlink:href=\"#macff8d2ee4\" y=\"151.221384\"/>\r\n     <use style=\"fill:#add8e6;stroke:#add8e6;\" x=\"35.500266\" xlink:href=\"#macff8d2ee4\" y=\"156.788702\"/>\r\n     <use style=\"fill:#add8e6;stroke:#add8e6;\" x=\"33.341012\" xlink:href=\"#macff8d2ee4\" y=\"162.328781\"/>\r\n     <use style=\"fill:#add8e6;stroke:#add8e6;\" x=\"31.198457\" xlink:href=\"#macff8d2ee4\" y=\"167.87534\"/>\r\n     <use style=\"fill:#add8e6;stroke:#add8e6;\" x=\"29.122896\" xlink:href=\"#macff8d2ee4\" y=\"173.199726\"/>\r\n     <use style=\"fill:#add8e6;stroke:#add8e6;\" x=\"28.821582\" xlink:href=\"#macff8d2ee4\" y=\"174.001031\"/>\r\n     <use style=\"fill:#add8e6;stroke:#add8e6;\" x=\"28.821582\" xlink:href=\"#macff8d2ee4\" y=\"174.001031\"/>\r\n     <use style=\"fill:#add8e6;stroke:#add8e6;\" x=\"28.821582\" xlink:href=\"#macff8d2ee4\" y=\"174.001031\"/>\r\n     <use style=\"fill:#add8e6;stroke:#add8e6;\" x=\"28.821582\" xlink:href=\"#macff8d2ee4\" y=\"174.001031\"/>\r\n     <use style=\"fill:#add8e6;stroke:#add8e6;\" x=\"28.821582\" xlink:href=\"#macff8d2ee4\" y=\"174.001031\"/>\r\n     <use style=\"fill:#add8e6;stroke:#add8e6;\" x=\"28.821582\" xlink:href=\"#macff8d2ee4\" y=\"174.001031\"/>\r\n     <use style=\"fill:#add8e6;stroke:#add8e6;\" x=\"28.821582\" xlink:href=\"#macff8d2ee4\" y=\"174.001031\"/>\r\n     <use style=\"fill:#add8e6;stroke:#add8e6;\" x=\"28.821582\" xlink:href=\"#macff8d2ee4\" y=\"174.001031\"/>\r\n    </g>\r\n   </g>\r\n   <g id=\"line2d_1\">\r\n    <path clip-path=\"url(#pd294a87cb1)\" d=\"M 255.982927 27.485561 \r\nL 256.380683 27.485561 \r\nL 255.982927 27.485561 \r\nL 251.209854 30.535024 \r\nL 245.110927 34.777756 \r\nL 241.398537 37.562049 \r\nL 229.465854 45.252 \r\nL 223.234341 49.627317 \r\nL 213.157854 55.726244 \r\nL 211.301659 57.317268 \r\nL 206.793756 59.968976 \r\nL 192.341951 69.249951 \r\nL 182.398049 76.14439 \r\nL 177.890146 78.928683 \r\nL 172.05639 82.773659 \r\nL 170.200195 83.834341 \r\nL 166.090049 86.618634 \r\nL 149.516878 96.960293 \r\nL 139.572976 103.456976 \r\nL 134.799902 106.108683 \r\nL 128.966146 110.351415 \r\nL 116.503122 117.90878 \r\nL 108.415415 123.212195 \r\nL 105.896293 124.405463 \r\nL 96.084976 130.902146 \r\nL 89.455707 134.614537 \r\nL 81.500585 139.65278 \r\nL 79.246634 140.713463 \r\nL 75.269073 143.365171 \r\nL 69.037561 147.210146 \r\nL 66.916195 148.668585 \r\nL 62.540878 150.922537 \r\nL 58.563317 153.574244 \r\nL 54.983512 157.021463 \r\nL 53.127317 158.479902 \r\nL 48.089073 164.048488 \r\nL 43.713756 169.351902 \r\nL 42.387902 171.605854 \r\nL 39.86878 175.318244 \r\nL 36.951902 182.345268 \r\nL 34.43278 189.107122 \r\nL 33.106927 194.277951 \r\nL 31.648488 201.304976 \r\nL 31.383317 206.078049 \r\nL 31.781073 208.332 \r\nL 32.576585 215.226439 \r\nL 33.239512 217.48039 \r\nL 34.697951 221.855707 \r\nL 36.951902 225.965854 \r\nL 40.664293 231.401854 \r\nL 45.437366 236.572683 \r\nL 50.47561 240.948 \r\nL 56.309366 244.262634 \r\nL 58.563317 245.323317 \r\nL 62.938634 246.781756 \r\nL 69.435317 248.240195 \r\nL 74.20839 248.505366 \r\nL 81.368 248.10761 \r\nL 83.621951 248.10761 \r\nL 89.455707 247.709854 \r\nL 97.410829 247.312098 \r\nL 99.66478 246.914341 \r\nL 106.956976 246.914341 \r\nL 114.249171 246.118829 \r\nL 119.287415 245.721073 \r\nL 126.57961 245.323317 \r\nL 129.098732 244.925561 \r\nL 134.269561 244.925561 \r\nL 136.788683 244.527805 \r\nL 144.080878 244.130049 \r\nL 154.02478 243.334537 \r\nL 158.797854 243.334537 \r\nL 178.155317 241.610927 \r\nL 182.92839 240.948 \r\nL 188.09922 239.754732 \r\nL 192.607122 237.898537 \r\nL 198.838634 234.451317 \r\nL 202.418439 231.534439 \r\nL 209.047707 224.772585 \r\nL 212.760098 218.806244 \r\nL 215.014049 214.696098 \r\nL 217.533171 206.078049 \r\nL 217.533171 199.44878 \r\nL 216.870244 193.482439 \r\nL 216.074732 191.228488 \r\nL 213.55561 184.86439 \r\nL 210.903902 181.152 \r\nL 207.987024 178.235122 \r\nL 203.213951 174.124976 \r\nL 201.357756 173.064293 \r\nL 196.849854 168.954146 \r\nL 188.762146 163.12039 \r\nL 181.072195 156.888878 \r\nL 178.818244 155.297854 \r\nL 173.249659 150.52478 \r\nL 167.681073 146.149463 \r\nL 161.449561 141.774146 \r\nL 159.593366 139.917951 \r\nL 150.04722 132.493171 \r\nL 145.937073 129.178537 \r\nL 141.959512 126.261659 \r\nL 139.705561 124.80322 \r\nL 135.993171 121.753756 \r\nL 130.424585 116.980683 \r\nL 126.447024 114.063805 \r\nL 122.336878 111.544683 \r\nL 118.359317 109.688488 \r\nL 114.646927 109.290732 \r\nL 112.790732 109.423317 \r\nL 107.619902 110.616585 \r\nL 105.896293 111.279512 \r\nL 102.581659 113.268293 \r\nL 98.206341 116.980683 \r\nL 97.145659 118.571707 \r\nL 94.493951 123.07961 \r\nL 93.831024 124.538049 \r\nL 92.770341 129.841463 \r\nL 92.770341 135.012293 \r\nL 93.831024 138.326927 \r\nL 95.024293 141.641561 \r\nL 97.676 148.005659 \r\nL 99.797366 155.828195 \r\nL 101.38839 160.601268 \r\nL 102.846829 165.374341 \r\nL 103.509756 168.026049 \r\nL 106.161463 177.307024 \r\nL 106.55922 179.560976 \r\nL 109.476098 188.709366 \r\nL 111.332293 195.868976 \r\nL 112.923317 200.642049 \r\nL 116.237951 207.271317 \r\nL 120.215512 213.105073 \r\nL 121.673951 214.961268 \r\nL 126.447024 220.529854 \r\nL 129.761659 223.844488 \r\nL 139.705561 231.534439 \r\nL 143.683122 232.992878 \r\nL 145.937073 234.053561 \r\nL 152.566341 235.512 \r\nL 157.339415 236.307512 \r\nL 163.570927 236.174927 \r\nL 172.719317 234.716488 \r\nL 174.840683 233.920976 \r\nL 190.750927 229.413073 \r\nL 198.043122 227.822049 \r\nL 200.694829 227.026537 \r\nL 202.816195 226.62878 \r\nL 207.324098 225.170341 \r\nL 214.616293 223.579317 \r\nL 222.041073 221.723122 \r\nL 224.560195 220.92761 \r\nL 231.984976 219.469171 \r\nL 236.360293 217.082634 \r\nL 238.614244 216.021951 \r\nL 242.72439 213.768 \r\nL 247.099707 210.718537 \r\nL 251.209854 207.669073 \r\nL 256.778439 202.763415 \r\nL 260.093073 199.051024 \r\nL 262.74478 195.338634 \r\nL 264.998732 191.493659 \r\nL 266.059415 188.974537 \r\nL 267.91561 182.212683 \r\nL 270.169561 176.511512 \r\nL 274.014537 163.783317 \r\nL 275.07522 151.055122 \r\nL 275.07522 145.751707 \r\nL 274.810049 140.846049 \r\nL 274.810049 138.592098 \r\nL 272.953854 131.167317 \r\nL 272.158341 128.51561 \r\nL 271.097659 123.609951 \r\nL 268.18078 116.848098 \r\nL 266.987512 114.594146 \r\nL 262.214439 105.976098 \r\nL 259.164976 101.865951 \r\nL 255.850341 97.755805 \r\nL 252.535707 94.043415 \r\nL 246.967122 88.872585 \r\nL 245.110927 87.414146 \r\nL 239.144585 83.304 \r\nL 232.117561 79.989366 \r\nL 227.609659 78.133171 \r\nL 223.101756 75.614049 \r\nL 210.506146 68.189268 \r\nL 208.252195 67.128585 \r\nL 195.258829 59.83639 \r\nL 190.883512 57.980195 \r\nL 188.629561 57.317268 \r\nL 181.602537 55.063317 \r\nL 178.950829 54.798146 \r\nL 171.658634 53.737463 \r\nL 166.752976 53.870049 \r\nL 159.725951 52.809366 \r\nL 154.952878 52.544195 \r\nL 150.179805 51.748683 \r\nL 145.008976 51.483512 \r\nL 135.330244 50.555415 \r\nL 125.386341 49.229561 \r\nL 123.13239 49.229561 \r\nL 115.840195 48.168878 \r\nL 106.294049 47.24078 \r\nL 89.323122 44.854244 \r\nL 89.323122 44.854244 \r\n\" style=\"fill:none;stroke:#ffb4b4;stroke-linecap:square;stroke-width:0.5;\"/>\r\n   </g>\r\n   <g id=\"line2d_2\">\r\n    <path clip-path=\"url(#pd294a87cb1)\" d=\"M 252.647064 29.651896 \r\nL 175.090808 79.88981 \r\nL 90.150129 134.856425 \r\nL 65.254729 151.106417 \r\nL 60.746213 154.927538 \r\nL 60.746213 154.927538 \r\nL 56.565819 159.201833 \r\nL 52.835238 163.844908 \r\nL 49.572072 168.799419 \r\nL 46.791325 174.039924 \r\nL 46.791325 174.039924 \r\nL 44.542273 179.505218 \r\nL 42.799594 185.248947 \r\nL 41.656244 191.000208 \r\nL 41.027989 196.922177 \r\nL 41.027989 196.922177 \r\nL 41.539615 202.972413 \r\nL 43.184939 208.679532 \r\nL 45.769389 213.919218 \r\nL 45.769389 213.919218 \r\nL 48.905728 218.394443 \r\nL 52.786301 222.437887 \r\nL 57.13951 225.814341 \r\nL 57.13951 225.814341 \r\nL 61.927831 228.493692 \r\nL 66.940874 230.474828 \r\nL 72.435437 231.69358 \r\nL 77.954932 232.079113 \r\nL 77.954932 232.079113 \r\nL 83.424464 231.641883 \r\nL 88.80955 230.364271 \r\nL 121.406602 217.217388 \r\nL 176.584622 194.938045 \r\nL 176.584622 194.938045 \r\nL 182.001013 192.598242 \r\nL 187.219329 189.632347 \r\nL 191.769632 185.79157 \r\nL 191.769632 185.79157 \r\nL 195.512598 181.120922 \r\nL 198.240463 176.276032 \r\nL 200.248877 171.122171 \r\nL 200.248877 171.122171 \r\nL 201.459311 165.79476 \r\nL 201.930977 160.401269 \r\nL 201.589883 154.87885 \r\nL 200.325802 150.09505 \r\nL 200.325802 150.09505 \r\nL 198.204723 145.670376 \r\nL 195.331988 141.695267 \r\nL 191.793566 138.299142 \r\nL 187.521125 135.564774 \r\nL 182.890793 133.734773 \r\nL 178.073796 132.800291 \r\nL 172.850255 132.295737 \r\nL 172.850255 132.295737 \r\nL 90.27734 121.567211 \r\nL 90.27734 121.567211 \r\nL 84.35068 120.855724 \r\nL 78.41469 121.325667 \r\nL 73.332728 123.459288 \r\nL 69.790295 126.207062 \r\nL 69.790295 126.207062 \r\nL 66.93022 129.780201 \r\nL 65.034495 133.762491 \r\nL 64.096361 138.146438 \r\nL 64.096361 138.146438 \r\nL 64.239752 142.724337 \r\nL 65.390511 147.007158 \r\nL 67.466682 150.89842 \r\nL 70.276107 154.171601 \r\nL 70.276107 154.171601 \r\nL 73.802412 156.780117 \r\nL 77.859757 158.562207 \r\nL 93.749779 166.099274 \r\nL 125.938966 181.482017 \r\nL 125.938966 181.482017 \r\nL 131.615553 183.498244 \r\nL 137.397189 184.92935 \r\nL 143.290089 185.794853 \r\nL 143.290089 185.794853 \r\nL 149.214831 186.099593 \r\nL 155.188122 185.844454 \r\nL 161.039741 185.016066 \r\nL 161.039741 185.016066 \r\nL 166.790249 183.545574 \r\nL 172.166774 180.915417 \r\nL 176.904703 177.333473 \r\nL 180.755048 173.357761 \r\nL 180.755048 173.357761 \r\nL 183.986301 168.985962 \r\nL 186.547352 164.2682 \r\nL 188.440905 159.069362 \r\nL 192.070059 148.032631 \r\nL 205.201526 108.633993 \r\nL 206.56602 102.792334 \r\nL 207.344605 96.911071 \r\nL 207.344605 96.911071 \r\nL 207.54648 91.004556 \r\nL 207.176673 85.01368 \r\nL 206.255798 79.199745 \r\nL 206.255798 79.199745 \r\nL 204.287335 73.533046 \r\nL 201.283995 68.383293 \r\nL 197.667178 64.03797 \r\nL 193.683471 60.148235 \r\nL 193.683471 60.148235 \r\nL 185.410492 51.670111 \r\nL 180.920974 47.763486 \r\nL 176.110116 44.332403 \r\nL 176.110116 44.332403 \r\nL 170.921055 41.36085 \r\nL 165.44995 38.892174 \r\nL 159.835431 36.975765 \r\nL 159.835431 36.975765 \r\nL 154.038861 35.606403 \r\nL 148.20764 34.802217 \r\nL 142.16443 34.550766 \r\nL 136.332959 34.870926 \r\nL 136.332959 34.870926 \r\nL 130.419512 35.752083 \r\nL 124.576895 37.226675 \r\nL 118.943529 39.229293 \r\nL 118.943529 39.229293 \r\nL 113.595229 41.743922 \r\nL 108.473846 44.784779 \r\nL 103.642037 48.305989 \r\nL 99.237317 52.210896 \r\nL 99.237317 52.210896 \r\nL 90.761702 60.525332 \r\nL 69.36693 81.268161 \r\nL 69.36693 81.268161 \r\nL 65.536804 85.827123 \r\nL 62.230505 90.641367 \r\nL 59.319475 95.890487 \r\nL 59.319475 95.890487 \r\nL 56.925872 101.369169 \r\nL 52.684467 112.458035 \r\nL 28.821582 174.001031 \r\nL 28.821582 174.001031 \r\n\" style=\"fill:none;stroke:#add8e6;stroke-linecap:square;stroke-width:0.5;\"/>\r\n   </g>\r\n   <g id=\"PathCollection_3\">\r\n    <defs>\r\n     <path d=\"M 0 1.414214 \r\nC 0.375054 1.414214 0.734797 1.265203 1 1 \r\nC 1.265203 0.734797 1.414214 0.375054 1.414214 0 \r\nC 1.414214 -0.375054 1.265203 -0.734797 1 -1 \r\nC 0.734797 -1.265203 0.375054 -1.414214 0 -1.414214 \r\nC -0.375054 -1.414214 -0.734797 -1.265203 -1 -1 \r\nC -1.265203 -0.734797 -1.414214 -0.375054 -1.414214 0 \r\nC -1.414214 0.375054 -1.265203 0.734797 -1 1 \r\nC -0.734797 1.265203 -0.375054 1.414214 0 1.414214 \r\nz\r\n\" id=\"m531f6ba36e\" style=\"stroke:#ff0000;\"/>\r\n    </defs>\r\n    <g clip-path=\"url(#pd294a87cb1)\">\r\n     <use style=\"fill:#ff0000;stroke:#ff0000;\" x=\"255.982927\" xlink:href=\"#m531f6ba36e\" y=\"27.485561\"/>\r\n    </g>\r\n   </g>\r\n   <g id=\"PathCollection_4\">\r\n    <defs>\r\n     <path d=\"M 0 1.414214 \r\nC 0.375054 1.414214 0.734797 1.265203 1 1 \r\nC 1.265203 0.734797 1.414214 0.375054 1.414214 0 \r\nC 1.414214 -0.375054 1.265203 -0.734797 1 -1 \r\nC 0.734797 -1.265203 0.375054 -1.414214 0 -1.414214 \r\nC -0.375054 -1.414214 -0.734797 -1.265203 -1 -1 \r\nC -1.265203 -0.734797 -1.414214 -0.375054 -1.414214 0 \r\nC -1.414214 0.375054 -1.265203 0.734797 -1 1 \r\nC -0.734797 1.265203 -0.375054 1.414214 0 1.414214 \r\nz\r\n\" id=\"me5fa57cff6\" style=\"stroke:#0000ff;\"/>\r\n    </defs>\r\n    <g clip-path=\"url(#pd294a87cb1)\">\r\n     <use style=\"fill:#0000ff;stroke:#0000ff;\" x=\"252.647064\" xlink:href=\"#me5fa57cff6\" y=\"29.651896\"/>\r\n    </g>\r\n   </g>\r\n   <g id=\"line2d_3\">\r\n    <path clip-path=\"url(#pd294a87cb1)\" d=\"M 252.647064 29.651896 \r\nL 230.40797 44.094122 \r\n\" style=\"fill:none;stroke:#0000ff;stroke-linecap:square;stroke-width:0.5;\"/>\r\n   </g>\r\n  </g>\r\n </g>\r\n <defs>\r\n  <clipPath id=\"pd294a87cb1\">\r\n   <rect height=\"271.8\" width=\"271.8\" x=\"10.7\" y=\"7.2\"/>\r\n  </clipPath>\r\n </defs>\r\n</svg>\r\n",
      "text/plain": [
       "<Figure size 500x500 with 1 Axes>"
      ]
     },
     "metadata": {},
     "output_type": "display_data"
    }
   ],
   "source": [
    "# Execute this to run the interactive viewer.\n",
    "import ipy_logfile_viewer as lfv\n",
    "v = lfv.IPYLogfileViewer(files=[\"states_from_ticks.txt\", \"robot4_reference.txt\", \"robot_arena_landmarks.txt\"])"
   ]
  },
  {
   "cell_type": "markdown",
   "metadata": {
    "deletable": false,
    "editable": false,
    "nbgrader": {
     "cell_type": "markdown",
     "checksum": "df049b71fc27da876baf6a8e6f1be26d",
     "grade": false,
     "grade_id": "cell-938320fa8256ab05",
     "locked": true,
     "schema_version": 3,
     "solution": false,
     "task": false
    }
   },
   "source": [
    "### Part 2: The derivative with respect to the state. Programming assignment (10 Points)."
   ]
  },
  {
   "cell_type": "code",
   "execution_count": 80,
   "metadata": {
    "deletable": false,
    "nbgrader": {
     "cell_type": "code",
     "checksum": "1aeaa9009eb603a6fb7d2c61fff837e2",
     "grade": false,
     "grade_id": "cell-d45b1cf8b1b7c3b3",
     "locked": false,
     "schema_version": 3,
     "solution": true,
     "task": false
    }
   },
   "outputs": [
    {
     "name": "stdout",
     "output_type": "stream",
     "text": [
      "Numeric differentiation dx, dy, dtheta:\n",
      "[[  1.00000001   0.         -30.52883876]\n",
      " [  0.           1.00000001  42.29027837]\n",
      " [  0.           0.           1.        ]]\n",
      "Analytic differentiation dx, dy, dtheta:\n",
      "[[  1.           0.         -30.52883711]\n",
      " [  0.           1.          42.29027852]\n",
      " [  0.           0.           1.        ]]\n",
      "Difference:\n",
      "[[ 1.16860974e-08  0.00000000e+00 -1.65049057e-06]\n",
      " [ 0.00000000e+00  1.16860974e-08 -1.47597937e-07]\n",
      " [ 0.00000000e+00  0.00000000e+00 -1.63657887e-09]]\n",
      "Seems correct: True\n"
     ]
    }
   ],
   "source": [
    "# This adds the derivative of g with respect to the state (x, y and heading)\n",
    "# to the class.\n",
    "#\n",
    "# slam_07_b_state_derivative\n",
    "from numpy import *\n",
    "\n",
    "class ExtendedKalmanFilter_2(ExtendedKalmanFilter_1):\n",
    "\n",
    "    @staticmethod\n",
    "    def dg_dstate(state, control, w):\n",
    "        theta = state[2]\n",
    "        l, r = control\n",
    "        alpha=(r-l)/w\n",
    "        R=l/alpha\n",
    "\n",
    "        if r != l:\n",
    "\n",
    "            # --->>> Put your code here.\n",
    "            # This is for the case r != l.\n",
    "            # g has 3 components and the state has 3 components, so the\n",
    "            # derivative of g with respect to all state variables is a\n",
    "            # 3x3 matrix. To construct such a matrix in Python/Numpy,\n",
    "            # use: m = array([[1, 2, 3], [4, 5, 6], [7, 8, 9]]),\n",
    "            # where 1, 2, 3 are the values of the first row of the matrix.\n",
    "            # Don't forget to return this matrix.\n",
    "            dg11=1\n",
    "            dg12=0\n",
    "            dg13=(R+w/2)*(cos(theta+alpha)-cos(theta))\n",
    "            dg21=0\n",
    "            dg22=1\n",
    "            dg23=(R+w/2)*(sin(theta+alpha)-sin(theta))\n",
    "            dg31=0\n",
    "            dg32=0\n",
    "            dg33=1\n",
    "\n",
    "            m = array([[dg11, dg12, dg13], [dg21, dg22, dg23], [dg31, dg32, dg33]])  # Replace this.\n",
    "\n",
    "        else:\n",
    "            dg11=1\n",
    "            dg12=0\n",
    "            dg13=-l*sin(theta)\n",
    "            dg21=0\n",
    "            dg22=1\n",
    "            dg23=l*cos(theta)\n",
    "            dg31=0\n",
    "            dg32=0\n",
    "            dg33=1\n",
    "\n",
    "            # --->>> Put your code here.\n",
    "            # This is for the special case r == l.\n",
    "            m = array([[dg11, dg12, dg13], [dg21, dg22, dg23], [dg31, dg32, dg33]]) # Replace this.\n",
    "\n",
    "        # YOUR CODE HERE\n",
    "        #raise NotImplementedError()\n",
    "\n",
    "        return m\n",
    "\n",
    "if __name__ == '__main__':\n",
    "    # If the partial derivative with respect to x, y and theta (the state)\n",
    "    # are correct, then the numerical derivative and the analytical\n",
    "    # derivative should be the same.\n",
    "\n",
    "    # Set some variables. Try other values as well.\n",
    "    # In particular, you should check cases with l == r and l != r.\n",
    "    x = 10.0\n",
    "    y = 20.0\n",
    "    theta = 35. / 180. * pi\n",
    "    state = array([x, y, theta])\n",
    "    l = 50.0\n",
    "    r = 54.32\n",
    "    control = array([l, r])\n",
    "    w = 150.0\n",
    "\n",
    "    # Compute derivative numerically.\n",
    "    print(\"Numeric differentiation dx, dy, dtheta:\")\n",
    "    delta = 1e-7\n",
    "    state_x = array([x + delta, y, theta])\n",
    "    state_y = array([x, y + delta, theta])\n",
    "    state_theta = array([x, y, theta + delta])\n",
    "    gval = ExtendedKalmanFilter_2.g(state, control, w)\n",
    "    dg_dx = (ExtendedKalmanFilter_2.g(state_x, control, w) - gval) / delta\n",
    "    dg_dy = (ExtendedKalmanFilter_2.g(state_y, control, w) - gval) / delta\n",
    "    dg_dtheta = (ExtendedKalmanFilter_2.g(state_theta, control, w) - gval) / delta\n",
    "    dg_dstate_numeric = column_stack([dg_dx, dg_dy, dg_dtheta])\n",
    "    print(dg_dstate_numeric)\n",
    "\n",
    "    # Use the above code to compute the derivative analytically.\n",
    "    print(\"Analytic differentiation dx, dy, dtheta:\")\n",
    "    dg_dstate_analytic = ExtendedKalmanFilter_2.dg_dstate(state, control, w)\n",
    "    print(dg_dstate_analytic)\n",
    "\n",
    "    # The difference should be close to zero (depending on the setting of\n",
    "    # delta, above).\n",
    "    print(\"Difference:\")\n",
    "    print(dg_dstate_numeric - dg_dstate_analytic)\n",
    "    print(\"Seems correct:\", allclose(dg_dstate_numeric, dg_dstate_analytic))"
   ]
  },
  {
   "cell_type": "code",
   "execution_count": 81,
   "metadata": {
    "deletable": false,
    "editable": false,
    "nbgrader": {
     "cell_type": "code",
     "checksum": "83434a4d0a890ea24be474560283cd93",
     "grade": true,
     "grade_id": "cell-eb66dabac1865f5b",
     "locked": true,
     "points": 10,
     "schema_version": 3,
     "solution": false,
     "task": false
    }
   },
   "outputs": [
    {
     "name": "stderr",
     "output_type": "stream",
     "text": [
      "<ipython-input-80-1219ba714060>:14: RuntimeWarning: divide by zero encountered in double_scalars\n",
      "  R=l/alpha\n"
     ]
    }
   ],
   "source": [
    "# Test of the derivative with respect to the state.\n",
    "from numpy import *\n",
    "class ExtendedKalmanFilterRef:\n",
    "    @staticmethod\n",
    "    def g(state, control, w):\n",
    "        x, y, theta = state\n",
    "        l, r = control\n",
    "        if r != l:\n",
    "            alpha = (r - l) / w\n",
    "            rad = l/alpha\n",
    "            g1 = x + (rad + w/2.)*(sin(theta+alpha) - sin(theta))\n",
    "            g2 = y + (rad + w/2.)*(-cos(theta+alpha) + cos(theta))\n",
    "            g3 = (theta + alpha + pi) % (2*pi) - pi\n",
    "        else:\n",
    "            g1 = x + l * cos(theta)\n",
    "            g2 = y + l * sin(theta)\n",
    "            g3 = theta\n",
    "        return array([g1, g2, g3])\n",
    "\n",
    "def public_test(the_kf_class):\n",
    "    for experiment in range(1000):\n",
    "        # If the partial derivative with respect to x, y and theta (the state)\n",
    "        # are correct, then the numerical derivative and the analytical\n",
    "        # derivative should be the same.\n",
    "\n",
    "        # Set variables randomly.\n",
    "        x = random.uniform(-10,10)\n",
    "        y = random.uniform(-10,10)\n",
    "        theta = random.uniform(-180, 180) / 180. * pi\n",
    "        state = array([x, y, theta])\n",
    "        l = random.uniform(-50, 50)\n",
    "        r = random.uniform(-50, 50)\n",
    "        if random.random() > 0.9: r = l  # Test r=l cases.\n",
    "        elif abs(r-l) < 0.1: r += 0.2  # Avoid numeric instabilities.\n",
    "        control = array([l, r])\n",
    "        w = 150.0\n",
    "\n",
    "        # Compute derivative numerically.\n",
    "        delta = 1e-7\n",
    "        state_x = array([x + delta, y, theta])\n",
    "        state_y = array([x, y + delta, theta])\n",
    "        state_theta = array([x, y, theta + delta])\n",
    "        gval = ExtendedKalmanFilterRef.g(state, control, w)\n",
    "        dg_dx = (ExtendedKalmanFilterRef.g(state_x, control, w) - gval) / delta\n",
    "        dg_dy = (ExtendedKalmanFilterRef.g(state_y, control, w) - gval) / delta\n",
    "        dg_dtheta = (ExtendedKalmanFilterRef.g(state_theta, control, w) - gval) / delta\n",
    "        dg_dstate_numeric = column_stack([dg_dx, dg_dy, dg_dtheta])\n",
    "\n",
    "        # Use the above code to compute the derivative analytically.\n",
    "        dg_dstate_analytic = the_kf_class.dg_dstate(state, control, w)\n",
    "\n",
    "        # The difference should be close to zero (depending on the setting of\n",
    "        # delta, above).\n",
    "        is_close = allclose(dg_dstate_numeric, dg_dstate_analytic, atol=1e-5)\n",
    "        if not is_close:\n",
    "            print(\"For state:\")\n",
    "            print(state)\n",
    "            print(\"...and control:\")\n",
    "            print(control)\n",
    "            print(\"...the result of the numeric differentiation is:\")\n",
    "            print(dg_dstate_numeric)\n",
    "            print(\"...your analytical result is:\")\n",
    "            print(dg_dstate_analytic)\n",
    "            print(\"...resulting in a difference of:\")\n",
    "            print(dg_dstate_numeric - dg_dstate_analytic)\n",
    "            return False\n",
    "    return True\n",
    "assert public_test(ExtendedKalmanFilter_2)"
   ]
  },
  {
   "cell_type": "markdown",
   "metadata": {
    "deletable": false,
    "editable": false,
    "nbgrader": {
     "cell_type": "markdown",
     "checksum": "f93bbf45e7a699a1c8648a08b22986c6",
     "grade": false,
     "grade_id": "cell-d9f762c81b56c00b",
     "locked": true,
     "schema_version": 3,
     "solution": false,
     "task": false
    }
   },
   "source": [
    "### Part 3: The derivative with respect to control."
   ]
  },
  {
   "cell_type": "code",
   "execution_count": 82,
   "metadata": {
    "deletable": false,
    "editable": false,
    "nbgrader": {
     "cell_type": "code",
     "checksum": "ca1a1331eb4649b882e4fa1092695eb6",
     "grade": false,
     "grade_id": "cell-c83f046066591399",
     "locked": true,
     "schema_version": 3,
     "solution": false,
     "task": false
    }
   },
   "outputs": [
    {
     "data": {
      "text/html": [
       "\n",
       "        <iframe\n",
       "            width=\"560\"\n",
       "            height=\"315\"\n",
       "            src=\"//av.tib.eu/player/49012\"\n",
       "            frameborder=\"0\"\n",
       "            allowfullscreen\n",
       "        ></iframe>\n",
       "        "
      ],
      "text/plain": [
       "<IPython.lib.display.IFrame at 0x23efdf43250>"
      ]
     },
     "execution_count": 82,
     "metadata": {},
     "output_type": "execute_result"
    }
   ],
   "source": [
    "# If you don't see a video below, run this cell.\n",
    "from IPython.display import IFrame\n",
    "IFrame(\"https://www.youtube.com/embed/QLslcjSF4GQ\" if \"YouTube\" in globals() else \"//av.tib.eu/player/49012\",\n",
    "       width=560, height=315)"
   ]
  },
  {
   "cell_type": "markdown",
   "metadata": {
    "deletable": false,
    "editable": false,
    "nbgrader": {
     "cell_type": "markdown",
     "checksum": "72b3c4fb143f1b76172bb31d6f87e64b",
     "grade": false,
     "grade_id": "cell-7900fffa03fd7b55",
     "locked": true,
     "schema_version": 3,
     "solution": false,
     "task": false
    }
   },
   "source": [
    "### Programming assignment. Implement the Jacobian matrix: derivative with respect to control (10 Points)."
   ]
  },
  {
   "cell_type": "code",
   "execution_count": 83,
   "metadata": {
    "deletable": false,
    "nbgrader": {
     "cell_type": "code",
     "checksum": "10b67009fcc9d5f05bc7ca9d8aa5d526",
     "grade": false,
     "grade_id": "cell-4475d05fbe265aef",
     "locked": false,
     "schema_version": 3,
     "solution": true,
     "task": false
    }
   },
   "outputs": [
    {
     "name": "stdout",
     "output_type": "stream",
     "text": [
      "Numeric differentiation dl, dr\n",
      "[[ 0.50782837  0.30294956]\n",
      " [ 0.15216777  0.43312447]\n",
      " [-0.00666667  0.00666666]]\n",
      "Analytic differentiation dl, dr:\n",
      "[[ 0.50782938  0.3029505 ]\n",
      " [ 0.15216693  0.43312519]\n",
      " [-0.00666667  0.00666667]]\n",
      "Difference:\n",
      "[[-1.00908249e-06 -9.36841854e-07]\n",
      " [ 8.37353119e-07 -7.18581610e-07]\n",
      " [-5.51602473e-10 -3.88928963e-09]]\n",
      "Seems correct: True\n"
     ]
    }
   ],
   "source": [
    "# This adds the derivative of g, this time with respect to the control\n",
    "# (left and right motor movement).\n",
    "#\n",
    "# slam_07_c_control_derivative\n",
    "from numpy import *\n",
    "\n",
    "class ExtendedKalmanFilter_3(ExtendedKalmanFilter_2):\n",
    "\n",
    "    @staticmethod\n",
    "    def dg_dcontrol(state, control, w):\n",
    "        theta = state[2]\n",
    "        l, r = tuple(control)\n",
    "        alpha=(r-l)/w\n",
    "        \n",
    "        if r != l:\n",
    "\n",
    "            # --->>> Put your code here.\n",
    "            # This is for the case l != r.\n",
    "            # Note g has 3 components and control has 2, so the result\n",
    "            # will be a 3x2 (rows x columns) matrix.\n",
    "            #pass  # Remove this.\n",
    "            dg11=w*r/((r-l)**2)*(sin(theta+alpha)-sin(theta))-(r+l)/2/(r-l)*cos(theta+alpha)\n",
    "            dg21=w*r/((r-l)**2)*(-cos(theta+alpha)+cos(theta))-(r+l)/2/(r-l)*sin(theta+alpha)\n",
    "            dg31=-1/w\n",
    "            dg12=-w*l/((r-l)**2)*(sin(theta+alpha)-sin(theta))+(r+l)/2/(r-l)*cos(theta+alpha)\n",
    "            dg22=-w*l/((r-l)**2)*(-cos(theta+alpha)+cos(theta))+(r+l)/2/(r-l)*sin(theta+alpha)\n",
    "            dg32=1/w\n",
    "        else:\n",
    "\n",
    "            # --->>> Put your code here.\n",
    "            # This is for the special case l == r.\n",
    "            #pass  # Remove this.       \n",
    "            dg11=1/2*(cos(theta)+l/w*sin(theta))\n",
    "            dg21=1/2*(sin(theta)-l/w*cos(theta))   \n",
    "            dg31=-1/w\n",
    "            dg12=1/2*(cos(theta)-l/w*sin(theta))  \n",
    "            dg22=1/2*(sin(theta)+l/w*cos(theta))\n",
    "            dg32=1/w\n",
    "\n",
    "        m = array([[dg11, dg12], [dg21, dg22], [dg31, dg32]])  # Remove this.\n",
    "\n",
    "        # YOUR CODE HERE\n",
    "        #raise NotImplementedError()\n",
    "            \n",
    "        return m\n",
    "\n",
    "\n",
    "if __name__ == '__main__':\n",
    "    # If the partial derivative with respect to l and r (the control)\n",
    "    # are correct, then the numerical derivative and the analytical\n",
    "    # derivative should be the same.\n",
    "\n",
    "    # Set some variables. Try other values as well.\n",
    "    x = 10.0\n",
    "    y = 20.0\n",
    "    theta = 35. / 180. * pi\n",
    "    state = array([x, y, theta])\n",
    "    l = 50.0\n",
    "    r = 54.32\n",
    "    control = array([l, r])\n",
    "    w = 150.0\n",
    "\n",
    "    # Compute derivative numerically.\n",
    "    print(\"Numeric differentiation dl, dr\")\n",
    "    delta = 1e-7\n",
    "    control_l = array([l + delta, r])\n",
    "    control_r = array([l, r + delta])\n",
    "    gval = ExtendedKalmanFilter_3.g(state, control, w)\n",
    "    dg_dl = (ExtendedKalmanFilter_3.g(state, control_l, w) - gval) / delta\n",
    "    dg_dr = (ExtendedKalmanFilter_3.g(state, control_r, w) - gval) / delta\n",
    "    dg_dcontrol_numeric = column_stack([dg_dl, dg_dr])\n",
    "    print(dg_dcontrol_numeric)\n",
    "\n",
    "    # Use the above code to compute the derivative analytically.\n",
    "    print(\"Analytic differentiation dl, dr:\")\n",
    "    dg_dcontrol_analytic = ExtendedKalmanFilter_3.dg_dcontrol(state, control, w)\n",
    "    print(dg_dcontrol_analytic)\n",
    "\n",
    "    # The difference should be close to zero (depending on the setting of\n",
    "    # delta, above).\n",
    "    print(\"Difference:\")\n",
    "    print(dg_dcontrol_numeric - dg_dcontrol_analytic)\n",
    "    print(\"Seems correct:\", allclose(dg_dcontrol_numeric, dg_dcontrol_analytic))"
   ]
  },
  {
   "cell_type": "code",
   "execution_count": 84,
   "metadata": {
    "deletable": false,
    "editable": false,
    "nbgrader": {
     "cell_type": "code",
     "checksum": "07e1b08de7e791361d5c4ad78ef76132",
     "grade": true,
     "grade_id": "cell-bc8b2e2e05720913",
     "locked": true,
     "points": 10,
     "schema_version": 3,
     "solution": false,
     "task": false
    }
   },
   "outputs": [],
   "source": [
    "# Test of the derivative with respect to control.\n",
    "from numpy import *\n",
    "class ExtendedKalmanFilterRef:\n",
    "    @staticmethod\n",
    "    def g(state, control, w):\n",
    "        x, y, theta = state\n",
    "        l, r = control\n",
    "        if r != l:\n",
    "            alpha = (r - l) / w\n",
    "            rad = l/alpha\n",
    "            g1 = x + (rad + w/2.)*(sin(theta+alpha) - sin(theta))\n",
    "            g2 = y + (rad + w/2.)*(-cos(theta+alpha) + cos(theta))\n",
    "            g3 = (theta + alpha + pi) % (2*pi) - pi\n",
    "        else:\n",
    "            g1 = x + l * cos(theta)\n",
    "            g2 = y + l * sin(theta)\n",
    "            g3 = theta\n",
    "        return array([g1, g2, g3])\n",
    "\n",
    "def public_test(the_kf_class):\n",
    "    for experiment in range(100):\n",
    "        # If the partial derivative with respect to l and r (the control)\n",
    "        # are correct, then the numerical derivative and the analytical\n",
    "        # derivative should be the same.\n",
    "\n",
    "        # Set variables randomly.\n",
    "        x = random.uniform(-10,10)\n",
    "        y = random.uniform(-10,10)\n",
    "        theta = random.uniform(-180, 180) / 180. * pi\n",
    "        state = array([x, y, theta])\n",
    "        l = random.uniform(-50, 50)\n",
    "        r = random.uniform(-50, 50)\n",
    "        if abs(r-l) < 0.5: r += 1.0  # Avoid numeric instabilities.\n",
    "        control = array([l, r])\n",
    "        w = 150.0\n",
    "\n",
    "        # Compute derivative numerically.\n",
    "        delta = 1e-6\n",
    "        control_l = array([l + delta, r])\n",
    "        control_r = array([l, r + delta])\n",
    "        gval = ExtendedKalmanFilterRef.g(state, control, w)\n",
    "        dg_dl = (ExtendedKalmanFilterRef.g(state, control_l, w) - gval) / delta\n",
    "        dg_dr = (ExtendedKalmanFilterRef.g(state, control_r, w) - gval) / delta\n",
    "        dg_dcontrol_numeric = column_stack([dg_dl, dg_dr])\n",
    "\n",
    "        # Use the above code to compute the derivative analytically.\n",
    "        dg_dcontrol_analytic = the_kf_class.dg_dcontrol(state, control, w)\n",
    "\n",
    "        # The difference should be close to zero (depending on the setting of\n",
    "        # delta, above).\n",
    "        is_close = allclose(dg_dcontrol_numeric, dg_dcontrol_analytic, rtol=1e-5, atol=1e-5)\n",
    "        if not is_close:\n",
    "            print(\"For state:\")\n",
    "            print(state)\n",
    "            print(\"...and control:\")\n",
    "            print(control)\n",
    "            print(\"...the result of the numeric differentiation is:\")\n",
    "            print(dg_dcontrol_numeric)\n",
    "            print(\"...your analytical result is:\")\n",
    "            print(dg_dcontrol_analytic)\n",
    "            print(\"...resulting in a difference of:\")\n",
    "            print(dg_dcontrol_numeric - dg_dcontrol_analytic)\n",
    "            return False\n",
    "    return True\n",
    "assert public_test(ExtendedKalmanFilter_3)"
   ]
  },
  {
   "cell_type": "markdown",
   "metadata": {
    "deletable": false,
    "editable": false,
    "nbgrader": {
     "cell_type": "markdown",
     "checksum": "ef9495c8822de29c0363dbb143ae30ef",
     "grade": false,
     "grade_id": "cell-53acb7f8762c69ad",
     "locked": true,
     "schema_version": 3,
     "solution": false,
     "task": false
    }
   },
   "source": [
    "### Putting together the prediction step."
   ]
  },
  {
   "cell_type": "code",
   "execution_count": 85,
   "metadata": {
    "deletable": false,
    "editable": false,
    "nbgrader": {
     "cell_type": "code",
     "checksum": "03b806e6594e6865e3e1d78fa3eee8c7",
     "grade": false,
     "grade_id": "cell-9ddb37287f29dfaa",
     "locked": true,
     "schema_version": 3,
     "solution": false,
     "task": false
    }
   },
   "outputs": [
    {
     "data": {
      "text/html": [
       "\n",
       "        <iframe\n",
       "            width=\"560\"\n",
       "            height=\"315\"\n",
       "            src=\"//av.tib.eu/player/49013\"\n",
       "            frameborder=\"0\"\n",
       "            allowfullscreen\n",
       "        ></iframe>\n",
       "        "
      ],
      "text/plain": [
       "<IPython.lib.display.IFrame at 0x23efdb372b0>"
      ]
     },
     "execution_count": 85,
     "metadata": {},
     "output_type": "execute_result"
    }
   ],
   "source": [
    "# If you don't see a video below, run this cell.\n",
    "from IPython.display import IFrame\n",
    "IFrame(\"https://www.youtube.com/embed/pc2EfZfQbCM\" if \"YouTube\" in globals() else \"//av.tib.eu/player/49013\",\n",
    "       width=560, height=315)"
   ]
  },
  {
   "cell_type": "markdown",
   "metadata": {
    "deletable": false,
    "editable": false,
    "nbgrader": {
     "cell_type": "markdown",
     "checksum": "638abad6de69bb7d90917d5ed7d7ca40",
     "grade": false,
     "grade_id": "cell-196c6b6ef1bb45c0",
     "locked": true,
     "schema_version": 3,
     "solution": false,
     "task": false
    }
   },
   "source": [
    "### Programming assignment: implement the predict function (10 Points)."
   ]
  },
  {
   "cell_type": "code",
   "execution_count": 86,
   "metadata": {
    "deletable": false,
    "nbgrader": {
     "cell_type": "code",
     "checksum": "b9174ef0f5edd93a690c1eec5c3e752e",
     "grade": false,
     "grade_id": "cell-adbce4f4f95ec3eb",
     "locked": false,
     "schema_version": 3,
     "solution": true,
     "task": false
    }
   },
   "outputs": [
    {
     "name": "stdout",
     "output_type": "stream",
     "text": [
      "\t  0: x=1850.00|y=1897.00|t= 3.718|10000.0|    0.0| 0.000|    0.0|10000.0| 0.000| 0.000| 0.000|0.030|\n",
      "\t  1: x=1850.00|y=1897.00|t= 3.718|10000.0|    0.0| 0.000|    0.0|10000.0| 0.000| 0.000| 0.000|0.030|\n",
      "\t  2: x=1850.00|y=1897.00|t= 3.718|10000.0|    0.0| 0.000|    0.0|10000.0| 0.000| 0.000| 0.000|0.030|\n",
      "\t  3: x=1850.00|y=1897.00|t= 3.718|10000.0|    0.0| 0.000|    0.0|10000.0| 0.000| 0.000| 0.000|0.030|\n",
      "\t  4: x=1850.00|y=1897.00|t= 3.718|10000.0|    0.0| 0.000|    0.0|10000.0| 0.000| 0.000| 0.000|0.030|\n",
      "\t  5: x=1850.00|y=1897.00|t= 3.718|10000.0|    0.0| 0.000|    0.0|10000.0| 0.000| 0.000| 0.000|0.030|\n",
      "\t  6: x=1850.00|y=1897.00|t= 3.718|10000.0|    0.0| 0.000|    0.0|10000.0| 0.000| 0.000| 0.000|0.030|\n",
      "\t  7: x=1850.00|y=1897.00|t= 3.718|10000.0|    0.0| 0.000|    0.0|10000.0| 0.000| 0.000| 0.000|0.030|\n",
      "\t  8: x=1850.00|y=1897.00|t= 3.718|10000.0|    0.0| 0.000|    0.0|10000.0| 0.000| 0.000| 0.000|0.030|\n",
      "\t  9: x=1850.00|y=1897.00|t= 3.718|10000.0|    0.0| 0.000|    0.0|10000.0| 0.000| 0.000| 0.000|0.030|\n",
      "\t 10: x=1850.00|y=1897.00|t= 3.718|10000.0|    0.0| 0.000|    0.0|10000.0| 0.000| 0.000| 0.000|0.030|\n",
      "\t 11: x=1850.00|y=1897.00|t= 3.718|10000.0|    0.0| 0.000|    0.0|10000.0| 0.000| 0.000| 0.000|0.030|\n",
      "\t 12: x=1850.00|y=1897.00|t= 3.718|10000.0|    0.0| 0.000|    0.0|10000.0| 0.000| 0.000| 0.000|0.030|\n",
      "\t 13: x=1829.22|y=1883.50|t= 3.718|10032.3|    8.2| 0.453|    8.2|10025.0|-0.698| 0.453|-0.698|0.037|\n",
      "\t 14: x=1792.05|y=1859.36|t= 3.718|10163.1|   -8.0| 1.582|   -8.0|10170.2|-2.436| 1.582|-2.436|0.057|\n",
      "\t 15: x=1754.41|y=1834.98|t=-2.568|10364.1| -127.6| 3.226| -127.6|10477.4|-4.951| 3.226|-4.951|0.077|\n",
      "\t 16: x=1716.59|y=1810.55|t=-2.568|10658.5| -390.1| 5.367| -390.1|11006.3|-8.264| 5.367|-8.264|0.098|\n",
      "\t 17: x=1716.59|y=1810.55|t=-2.568|10658.5| -390.1| 5.367| -390.1|11006.3|-8.264| 5.367|-8.264|0.098|\n",
      "\t 18: x=1679.07|y=1786.30|t=-2.568|11065.6| -829.9| 7.988| -829.9|11807.5|-12.320| 7.988|-12.320|0.118|\n",
      "\t 19: x=1641.44|y=1761.92|t=-2.566|11615.0|-1487.8|11.112|-1487.8|12946.4|-17.165|11.112|-17.165|0.139|\n",
      "\t 20: x=1603.80|y=1737.54|t=-2.568|12329.5|-2400.6|14.757|-2400.6|14478.7|-22.769|14.757|-22.769|0.159|\n",
      "\t 21: x=1566.16|y=1713.15|t=-2.566|13233.4|-3605.8|18.881|-3605.8|16462.3|-29.158|18.881|-29.158|0.180|\n",
      "\t 22: x=1566.16|y=1713.15|t=-2.566|13233.4|-3605.8|18.881|-3605.8|16462.3|-29.158|18.881|-29.158|0.180|\n",
      "\t 23: x=1528.52|y=1688.77|t=-2.568|14351.2|-5141.1|23.526|-5141.1|18955.5|-36.307|23.526|-36.307|0.200|\n",
      "\t 24: x=1490.88|y=1664.39|t=-2.566|15707.1|-7044.1|28.651|-7044.1|22016.4|-44.240|28.651|-44.240|0.221|\n",
      "\t 25: x=1490.88|y=1664.39|t=-2.566|15707.1|-7044.1|28.651|-7044.1|22016.4|-44.240|28.651|-44.240|0.221|\n",
      "\t 26: x=1453.24|y=1640.00|t=-2.568|17325.7|-9352.4|34.297|-9352.4|25703.0|-52.932|34.297|-52.932|0.241|\n",
      "\t 27: x=1415.60|y=1615.62|t=-2.566|19231.3|-12103.8|40.422|-12103.8|30073.5|-62.410|40.422|-62.410|0.262|\n",
      "\t 28: x=1377.96|y=1591.24|t=-2.568|21448.3|-15336.0|47.068|-15336.0|35186.0|-72.647|47.068|-72.647|0.282|\n",
      "\t 29: x=1340.32|y=1566.86|t=-2.566|24001.0|-19086.4|54.193|-19086.4|41098.7|-83.668|54.193|-83.668|0.303|\n"
     ]
    },
    {
     "name": "stderr",
     "output_type": "stream",
     "text": [
      "<ipython-input-80-1219ba714060>:14: RuntimeWarning: invalid value encountered in double_scalars\n",
      "  R=l/alpha\n",
      "<ipython-input-80-1219ba714060>:14: RuntimeWarning: divide by zero encountered in double_scalars\n",
      "  R=l/alpha\n"
     ]
    }
   ],
   "source": [
    "# The complete Kalman prediction step (without the correction step).\n",
    "#\n",
    "# slam_07_d_kalman_predict_solution\n",
    "from lego_robot import *\n",
    "from numpy import *\n",
    "\n",
    "\n",
    "class ExtendedKalmanFilter_4(ExtendedKalmanFilter_3):\n",
    "    def __init__(self, state, covariance,\n",
    "                 robot_width,\n",
    "                 control_motion_factor, control_turn_factor):\n",
    "        # The state. This is the core data of the Kalman filter.\n",
    "        self.state = state\n",
    "        self.covariance = covariance\n",
    "\n",
    "        # Some constants.\n",
    "        self.robot_width = robot_width\n",
    "        self.control_motion_factor = control_motion_factor\n",
    "        self.control_turn_factor = control_turn_factor\n",
    "\n",
    "    @staticmethod\n",
    "    def get_error_ellipse(covariance):\n",
    "        \"\"\"Return the position covariance (which is the upper 2x2 submatrix)\n",
    "           as a triple: (main_axis_angle, stddev_1, stddev_2), where\n",
    "           main_axis_angle is the angle (pointing direction) of the main axis,\n",
    "           along which the standard deviation is stddev_1, and stddev_2 is the\n",
    "           standard deviation along the other (orthogonal) axis.\"\"\"\n",
    "        eigenvals, eigenvects = linalg.eig(covariance[0:2,0:2])\n",
    "        angle = arctan2(eigenvects[1,0], eigenvects[0,0])\n",
    "        return (angle, sqrt(eigenvals[0]), sqrt(eigenvals[1]))        \n",
    "\n",
    "    def predict(self, control):\n",
    "        \"\"\"The prediction step of the Kalman filter.\"\"\"\n",
    "        # covariance' = G * covariance * GT + R\n",
    "        # where R = V * (covariance in control space) * VT.\n",
    "        # Covariance in control space depends on move distance.\n",
    "        left, right = control\n",
    "\n",
    "        # --->>> Put your code to compute the new self.covariance here.\n",
    "        # First, construct the control_covariance, which is a diagonal matrix.\n",
    "        # In Python/Numpy, you may use diag([a, b]) to get\n",
    "        # [[ a, 0 ],\n",
    "        #  [ 0, b ]].\n",
    "\n",
    "        sigma_l_sqaure=(self.control_motion_factor*left)**2+(self.control_turn_factor*(left-right))**2\n",
    "        sigma_r_sqaure=(self.control_motion_factor*right)**2+(self.control_turn_factor*(left-right))**2\n",
    "        sigma_control=diag([sigma_l_sqaure,sigma_r_sqaure])\n",
    "        R=(self.dg_dcontrol(self.state,control,self.robot_width)@sigma_control)@(self.dg_dcontrol(self.state,control,self.robot_width)).T\n",
    "        \n",
    "        # Then, compute G using dg_dstate and V using dg_dcontrol.\n",
    "        # Then, compute the new self.covariance.\n",
    "        self.covariance=(self.dg_dstate(self.state,control,self.robot_width)@self.covariance)@(self.dg_dstate(self.state,control,self.robot_width)).T+R\n",
    "        \n",
    "        # Note that the transpose of a Numpy array G is expressed as G.T,\n",
    "        # and the matrix product of A and B is written as A @ B, or dot(A, B).\n",
    "        # Writing A*B instead will give you the element-wise product, which\n",
    "        # is not intended here.\n",
    "\n",
    "        # state' = g(state, control)\n",
    "        self.state=self.g(self.state,control,self.robot_width)\n",
    "        \n",
    "        # --->>> Put your code to compute the new self.state here.\n",
    "\n",
    "        # YOUR CODE HERE\n",
    "        #raise NotImplementedError()\n",
    "\n",
    "\n",
    "if __name__ == '__main__':\n",
    "    # Robot constants.\n",
    "    scanner_displacement = 30.0\n",
    "    ticks_to_mm = 0.349\n",
    "    robot_width = 155.0\n",
    "\n",
    "    # Filter constants.\n",
    "    control_motion_factor = 0.35  # Error in motor control.\n",
    "    control_turn_factor = 0.6  # Additional error due to slip when turning.\n",
    "\n",
    "    # Measured start position.\n",
    "    initial_state = array([1850.0, 1897.0, 213.0 / 180.0 * pi])\n",
    "    # Covariance at start position.\n",
    "    initial_covariance = diag([100.0**2, 100.0**2, (10.0 / 180.0 * pi) ** 2])\n",
    "    # Setup filter.\n",
    "    kf = ExtendedKalmanFilter_4(initial_state, initial_covariance,\n",
    "                                robot_width,\n",
    "                                control_motion_factor, control_turn_factor)\n",
    "\n",
    "    # Read data.\n",
    "    logfile = LegoLogfile()\n",
    "    logfile.read(\"robot4_motors.txt\")\n",
    "\n",
    "    # Loop over all motor tick records and generate filtered positions and\n",
    "    # covariances.\n",
    "    # This is the Kalman filter loop, without the correction step.\n",
    "    states = []\n",
    "    covariances = []\n",
    "    for m in logfile.motor_ticks:\n",
    "        # Prediction.\n",
    "        control = array(m) * ticks_to_mm\n",
    "        kf.predict(control)\n",
    "\n",
    "        # Log state and covariance.\n",
    "        states.append(kf.state)\n",
    "        covariances.append(kf.covariance)\n",
    "\n",
    "    # Write all states, all state covariances, and matched cylinders to file.\n",
    "    with open(\"kalman_prediction.txt\", \"w\") as f:\n",
    "        for i in range(len(states)):\n",
    "            # Output the center of the scanner, not the center of the robot.\n",
    "            print(\"F %f %f %f\" % \\\n",
    "                tuple(states[i] + [scanner_displacement * cos(states[i][2]),\n",
    "                                   scanner_displacement * sin(states[i][2]),\n",
    "                                   0.0]), file=f)\n",
    "            # Convert covariance matrix to angle stddev1 stddev2 stddev-heading form\n",
    "            e = ExtendedKalmanFilter_4.get_error_ellipse(covariances[i])\n",
    "            print(\"E %f %f %f %f\" % (e + (sqrt(covariances[i][2,2]),)), file=f)\n",
    "\n",
    "            # You may use this to print out the first few steps and compare them with the values below.\n",
    "            if i<30:\n",
    "                print(\"\\t%3d: x=%7.2f|y=%7.2f|t=%6.3f\" % ((i,) + tuple(states[i])), end=\"|\")\n",
    "                print(\"%6.1f|%7.1f|%6.3f|%7.1f|%6.1f|%6.3f|%6.3f|%6.3f|%5.3f|\" % tuple(covariances[i].reshape(9)))\n",
    "        "
   ]
  },
  {
   "cell_type": "markdown",
   "metadata": {
    "deletable": false,
    "editable": false,
    "nbgrader": {
     "cell_type": "markdown",
     "checksum": "1ef17fb7aacc44bb0ea0aefd4ba59e0d",
     "grade": false,
     "grade_id": "cell-d1c2d95b95e34e3d",
     "locked": true,
     "schema_version": 3,
     "solution": false,
     "task": false
    }
   },
   "source": [
    "### Some numerical values to check your output:\n",
    "\n",
    "\t  0: x=1850.00|y=1897.00|t= 3.718|10000.0|    0.0| 0.000|    0.0|10000.0| 0.000| 0.000| 0.000|0.030|\n",
    "\t  1: x=1850.00|y=1897.00|t= 3.718|10000.0|    0.0| 0.000|    0.0|10000.0| 0.000| 0.000| 0.000|0.030|\n",
    "\t  2: x=1850.00|y=1897.00|t= 3.718|10000.0|    0.0| 0.000|    0.0|10000.0| 0.000| 0.000| 0.000|0.030|\n",
    "\t  3: x=1850.00|y=1897.00|t= 3.718|10000.0|    0.0| 0.000|    0.0|10000.0| 0.000| 0.000| 0.000|0.030|\n",
    "\t  4: x=1850.00|y=1897.00|t= 3.718|10000.0|    0.0| 0.000|    0.0|10000.0| 0.000| 0.000| 0.000|0.030|\n",
    "\t  5: x=1850.00|y=1897.00|t= 3.718|10000.0|    0.0| 0.000|    0.0|10000.0| 0.000| 0.000| 0.000|0.030|\n",
    "\t  6: x=1850.00|y=1897.00|t= 3.718|10000.0|    0.0| 0.000|    0.0|10000.0| 0.000| 0.000| 0.000|0.030|\n",
    "\t  7: x=1850.00|y=1897.00|t= 3.718|10000.0|    0.0| 0.000|    0.0|10000.0| 0.000| 0.000| 0.000|0.030|\n",
    "\t  8: x=1850.00|y=1897.00|t= 3.718|10000.0|    0.0| 0.000|    0.0|10000.0| 0.000| 0.000| 0.000|0.030|\n",
    "\t  9: x=1850.00|y=1897.00|t= 3.718|10000.0|    0.0| 0.000|    0.0|10000.0| 0.000| 0.000| 0.000|0.030|\n",
    "\t 10: x=1850.00|y=1897.00|t= 3.718|10000.0|    0.0| 0.000|    0.0|10000.0| 0.000| 0.000| 0.000|0.030|\n",
    "\t 11: x=1850.00|y=1897.00|t= 3.718|10000.0|    0.0| 0.000|    0.0|10000.0| 0.000| 0.000| 0.000|0.030|\n",
    "\t 12: x=1850.00|y=1897.00|t= 3.718|10000.0|    0.0| 0.000|    0.0|10000.0| 0.000| 0.000| 0.000|0.030|\n",
    "\t 13: x=1829.22|y=1883.50|t= 3.718|10032.3|    8.2| 0.453|    8.2|10025.0|-0.698| 0.453|-0.698|0.037|\n",
    "\t 14: x=1792.05|y=1859.36|t= 3.718|10163.1|   -8.0| 1.582|   -8.0|10170.2|-2.436| 1.582|-2.436|0.057|\n",
    "\t 15: x=1754.41|y=1834.98|t=-2.568|10364.1| -127.6| 3.226| -127.6|10477.4|-4.951| 3.226|-4.951|0.077|\n",
    "\t 16: x=1716.59|y=1810.55|t=-2.568|10658.5| -390.1| 5.367| -390.1|11006.3|-8.264| 5.367|-8.264|0.098|\n",
    "\t 17: x=1716.59|y=1810.55|t=-2.568|10658.5| -390.1| 5.367| -390.1|11006.3|-8.264| 5.367|-8.264|0.098|\n",
    "\t 18: x=1679.07|y=1786.30|t=-2.568|11065.6| -829.9| 7.988| -829.9|11807.5|-12.320| 7.988|-12.320|0.118|\n",
    "\t 19: x=1641.44|y=1761.92|t=-2.566|11615.0|-1487.8|11.112|-1487.8|12946.4|-17.165|11.112|-17.165|0.139|\n",
    "\t 20: x=1603.80|y=1737.54|t=-2.568|12329.5|-2400.6|14.757|-2400.6|14478.7|-22.769|14.757|-22.769|0.159|\n",
    "\t 21: x=1566.16|y=1713.15|t=-2.566|13233.4|-3605.8|18.881|-3605.8|16462.3|-29.158|18.881|-29.158|0.180|\n",
    "\t 22: x=1566.16|y=1713.15|t=-2.566|13233.4|-3605.8|18.881|-3605.8|16462.3|-29.158|18.881|-29.158|0.180|\n",
    "\t 23: x=1528.52|y=1688.77|t=-2.568|14351.2|-5141.1|23.526|-5141.1|18955.5|-36.307|23.526|-36.307|0.200|\n",
    "\t 24: x=1490.88|y=1664.39|t=-2.566|15707.1|-7044.1|28.651|-7044.1|22016.4|-44.240|28.651|-44.240|0.221|\n",
    "\t 25: x=1490.88|y=1664.39|t=-2.566|15707.1|-7044.1|28.651|-7044.1|22016.4|-44.240|28.651|-44.240|0.221|\n",
    "\t 26: x=1453.24|y=1640.00|t=-2.568|17325.7|-9352.4|34.297|-9352.4|25703.0|-52.932|34.297|-52.932|0.241|\n",
    "\t 27: x=1415.60|y=1615.62|t=-2.566|19231.3|-12103.8|40.422|-12103.8|30073.5|-62.410|40.422|-62.410|0.262|\n",
    "\t 28: x=1377.96|y=1591.24|t=-2.568|21448.3|-15336.0|47.068|-15336.0|35186.0|-72.647|47.068|-72.647|0.282|\n",
    "\t 29: x=1340.32|y=1566.86|t=-2.566|24001.0|-19086.4|54.193|-19086.4|41098.7|-83.668|54.193|-83.668|0.303|"
   ]
  },
  {
   "cell_type": "markdown",
   "metadata": {
    "deletable": false,
    "editable": false,
    "nbgrader": {
     "cell_type": "markdown",
     "checksum": "ff197766293eacd354cbffd0bec0a074",
     "grade": false,
     "grade_id": "cell-25fea1bb17fcaa67",
     "locked": true,
     "schema_version": 3,
     "solution": false,
     "task": false
    }
   },
   "source": [
    "### Have a look at the produced trajectory.\n",
    "It should look like the familiar, \"odometry only\" trajectory, plus an error ellipse indicating the position error and a wedge indicating the angle error. You may compare it with the one shown in the upcoming video."
   ]
  },
  {
   "cell_type": "code",
   "execution_count": 87,
   "metadata": {},
   "outputs": [
    {
     "data": {
      "image/svg+xml": "<?xml version=\"1.0\" encoding=\"utf-8\" standalone=\"no\"?>\r\n<!DOCTYPE svg PUBLIC \"-//W3C//DTD SVG 1.1//EN\"\r\n  \"http://www.w3.org/Graphics/SVG/1.1/DTD/svg11.dtd\">\r\n<!-- Created with matplotlib (https://matplotlib.org/) -->\r\n<svg height=\"289.7pt\" version=\"1.1\" viewBox=\"0 0 289.7 289.7\" width=\"289.7pt\" xmlns=\"http://www.w3.org/2000/svg\" xmlns:xlink=\"http://www.w3.org/1999/xlink\">\r\n <metadata>\r\n  <rdf:RDF xmlns:cc=\"http://creativecommons.org/ns#\" xmlns:dc=\"http://purl.org/dc/elements/1.1/\" xmlns:rdf=\"http://www.w3.org/1999/02/22-rdf-syntax-ns#\">\r\n   <cc:Work>\r\n    <dc:type rdf:resource=\"http://purl.org/dc/dcmitype/StillImage\"/>\r\n    <dc:date>2021-11-30T21:42:19.098177</dc:date>\r\n    <dc:format>image/svg+xml</dc:format>\r\n    <dc:creator>\r\n     <cc:Agent>\r\n      <dc:title>Matplotlib v3.3.4, https://matplotlib.org/</dc:title>\r\n     </cc:Agent>\r\n    </dc:creator>\r\n   </cc:Work>\r\n  </rdf:RDF>\r\n </metadata>\r\n <defs>\r\n  <style type=\"text/css\">*{stroke-linecap:butt;stroke-linejoin:round;}</style>\r\n </defs>\r\n <g id=\"figure_1\">\r\n  <g id=\"patch_1\">\r\n   <path d=\"M 0 289.7 \r\nL 289.7 289.7 \r\nL 289.7 0 \r\nL 0 0 \r\nz\r\n\" style=\"fill:none;\"/>\r\n  </g>\r\n  <g id=\"axes_1\">\r\n   <g id=\"patch_2\">\r\n    <path d=\"M 10.7 279 \r\nL 282.5 279 \r\nL 282.5 7.2 \r\nL 10.7 7.2 \r\nz\r\n\" style=\"fill:#ffffff;\"/>\r\n   </g>\r\n   <g id=\"matplotlib.axis_1\"/>\r\n   <g id=\"matplotlib.axis_2\"/>\r\n   <g id=\"patch_3\">\r\n    <path d=\"M 10.7 279 \r\nL 10.7 7.2 \r\n\" style=\"fill:none;stroke:#000000;stroke-linecap:square;stroke-linejoin:miter;stroke-width:0.8;\"/>\r\n   </g>\r\n   <g id=\"patch_4\">\r\n    <path d=\"M 282.5 279 \r\nL 282.5 7.2 \r\n\" style=\"fill:none;stroke:#000000;stroke-linecap:square;stroke-linejoin:miter;stroke-width:0.8;\"/>\r\n   </g>\r\n   <g id=\"patch_5\">\r\n    <path d=\"M 10.7 279 \r\nL 282.5 279 \r\n\" style=\"fill:none;stroke:#000000;stroke-linecap:square;stroke-linejoin:miter;stroke-width:0.8;\"/>\r\n   </g>\r\n   <g id=\"patch_6\">\r\n    <path d=\"M 10.7 7.2 \r\nL 282.5 7.2 \r\n\" style=\"fill:none;stroke:#000000;stroke-linecap:square;stroke-linejoin:miter;stroke-width:0.8;\"/>\r\n   </g>\r\n   <g id=\"PathCollection_1\">\r\n    <defs>\r\n     <path d=\"M 0 1 \r\nC 0.265203 1 0.51958 0.894634 0.707107 0.707107 \r\nC 0.894634 0.51958 1 0.265203 1 0 \r\nC 1 -0.265203 0.894634 -0.51958 0.707107 -0.707107 \r\nC 0.51958 -0.894634 0.265203 -1 0 -1 \r\nC -0.265203 -1 -0.51958 -0.894634 -0.707107 -0.707107 \r\nC -0.894634 -0.51958 -1 -0.265203 -1 0 \r\nC -1 0.265203 -0.894634 0.51958 -0.707107 0.707107 \r\nC -0.51958 0.894634 -0.265203 1 0 1 \r\nz\r\n\" id=\"meff5b66448\" style=\"stroke:#add8e6;\"/>\r\n    </defs>\r\n    <g clip-path=\"url(#pf003c5cd76)\">\r\n     <use style=\"fill:#add8e6;stroke:#add8e6;\" x=\"252.647064\" xlink:href=\"#meff5b66448\" y=\"29.651896\"/>\r\n     <use style=\"fill:#add8e6;stroke:#add8e6;\" x=\"252.647064\" xlink:href=\"#meff5b66448\" y=\"29.651896\"/>\r\n     <use style=\"fill:#add8e6;stroke:#add8e6;\" x=\"252.647064\" xlink:href=\"#meff5b66448\" y=\"29.651896\"/>\r\n     <use style=\"fill:#add8e6;stroke:#add8e6;\" x=\"252.647064\" xlink:href=\"#meff5b66448\" y=\"29.651896\"/>\r\n     <use style=\"fill:#add8e6;stroke:#add8e6;\" x=\"252.647064\" xlink:href=\"#meff5b66448\" y=\"29.651896\"/>\r\n     <use style=\"fill:#add8e6;stroke:#add8e6;\" x=\"252.647064\" xlink:href=\"#meff5b66448\" y=\"29.651896\"/>\r\n     <use style=\"fill:#add8e6;stroke:#add8e6;\" x=\"252.647064\" xlink:href=\"#meff5b66448\" y=\"29.651896\"/>\r\n     <use style=\"fill:#add8e6;stroke:#add8e6;\" x=\"252.647064\" xlink:href=\"#meff5b66448\" y=\"29.651896\"/>\r\n     <use style=\"fill:#add8e6;stroke:#add8e6;\" x=\"252.647064\" xlink:href=\"#meff5b66448\" y=\"29.651896\"/>\r\n     <use style=\"fill:#add8e6;stroke:#add8e6;\" x=\"252.647064\" xlink:href=\"#meff5b66448\" y=\"29.651896\"/>\r\n     <use style=\"fill:#add8e6;stroke:#add8e6;\" x=\"252.647064\" xlink:href=\"#meff5b66448\" y=\"29.651896\"/>\r\n     <use style=\"fill:#add8e6;stroke:#add8e6;\" x=\"252.647064\" xlink:href=\"#meff5b66448\" y=\"29.651896\"/>\r\n     <use style=\"fill:#add8e6;stroke:#add8e6;\" x=\"252.647064\" xlink:href=\"#meff5b66448\" y=\"29.651896\"/>\r\n     <use style=\"fill:#add8e6;stroke:#add8e6;\" x=\"249.891752\" xlink:href=\"#meff5b66448\" y=\"31.441216\"/>\r\n     <use style=\"fill:#add8e6;stroke:#add8e6;\" x=\"244.963236\" xlink:href=\"#meff5b66448\" y=\"34.641832\"/>\r\n     <use style=\"fill:#add8e6;stroke:#add8e6;\" x=\"239.967999\" xlink:href=\"#meff5b66448\" y=\"37.867117\"/>\r\n     <use style=\"fill:#add8e6;stroke:#add8e6;\" x=\"234.954561\" xlink:href=\"#meff5b66448\" y=\"41.106855\"/>\r\n     <use style=\"fill:#add8e6;stroke:#add8e6;\" x=\"234.954561\" xlink:href=\"#meff5b66448\" y=\"41.106855\"/>\r\n     <use style=\"fill:#add8e6;stroke:#add8e6;\" x=\"229.979987\" xlink:href=\"#meff5b66448\" y=\"44.32148\"/>\r\n     <use style=\"fill:#add8e6;stroke:#add8e6;\" x=\"224.994489\" xlink:href=\"#meff5b66448\" y=\"47.561798\"/>\r\n     <use style=\"fill:#add8e6;stroke:#add8e6;\" x=\"219.999251\" xlink:href=\"#meff5b66448\" y=\"50.787082\"/>\r\n     <use style=\"fill:#add8e6;stroke:#add8e6;\" x=\"215.013753\" xlink:href=\"#meff5b66448\" y=\"54.0274\"/>\r\n     <use style=\"fill:#add8e6;stroke:#add8e6;\" x=\"215.013753\" xlink:href=\"#meff5b66448\" y=\"54.0274\"/>\r\n     <use style=\"fill:#add8e6;stroke:#add8e6;\" x=\"210.018515\" xlink:href=\"#meff5b66448\" y=\"57.252685\"/>\r\n     <use style=\"fill:#add8e6;stroke:#add8e6;\" x=\"205.033016\" xlink:href=\"#meff5b66448\" y=\"60.493003\"/>\r\n     <use style=\"fill:#add8e6;stroke:#add8e6;\" x=\"205.033016\" xlink:href=\"#meff5b66448\" y=\"60.493003\"/>\r\n     <use style=\"fill:#add8e6;stroke:#add8e6;\" x=\"200.037779\" xlink:href=\"#meff5b66448\" y=\"63.718287\"/>\r\n     <use style=\"fill:#add8e6;stroke:#add8e6;\" x=\"195.05228\" xlink:href=\"#meff5b66448\" y=\"66.958605\"/>\r\n     <use style=\"fill:#add8e6;stroke:#add8e6;\" x=\"190.057043\" xlink:href=\"#meff5b66448\" y=\"70.18389\"/>\r\n     <use style=\"fill:#add8e6;stroke:#add8e6;\" x=\"185.071544\" xlink:href=\"#meff5b66448\" y=\"73.424207\"/>\r\n     <use style=\"fill:#add8e6;stroke:#add8e6;\" x=\"180.076307\" xlink:href=\"#meff5b66448\" y=\"76.649492\"/>\r\n     <use style=\"fill:#add8e6;stroke:#add8e6;\" x=\"180.076307\" xlink:href=\"#meff5b66448\" y=\"76.649492\"/>\r\n     <use style=\"fill:#add8e6;stroke:#add8e6;\" x=\"175.090808\" xlink:href=\"#meff5b66448\" y=\"79.88981\"/>\r\n     <use style=\"fill:#add8e6;stroke:#add8e6;\" x=\"170.09557\" xlink:href=\"#meff5b66448\" y=\"83.115095\"/>\r\n     <use style=\"fill:#add8e6;stroke:#add8e6;\" x=\"165.082133\" xlink:href=\"#meff5b66448\" y=\"86.354833\"/>\r\n     <use style=\"fill:#add8e6;stroke:#add8e6;\" x=\"165.082133\" xlink:href=\"#meff5b66448\" y=\"86.354833\"/>\r\n     <use style=\"fill:#add8e6;stroke:#add8e6;\" x=\"160.107559\" xlink:href=\"#meff5b66448\" y=\"89.569458\"/>\r\n     <use style=\"fill:#add8e6;stroke:#add8e6;\" x=\"155.122061\" xlink:href=\"#meff5b66448\" y=\"92.809776\"/>\r\n     <use style=\"fill:#add8e6;stroke:#add8e6;\" x=\"150.126823\" xlink:href=\"#meff5b66448\" y=\"96.03506\"/>\r\n     <use style=\"fill:#add8e6;stroke:#add8e6;\" x=\"145.113386\" xlink:href=\"#meff5b66448\" y=\"99.274799\"/>\r\n     <use style=\"fill:#add8e6;stroke:#add8e6;\" x=\"145.113386\" xlink:href=\"#meff5b66448\" y=\"99.274799\"/>\r\n     <use style=\"fill:#add8e6;stroke:#add8e6;\" x=\"140.138812\" xlink:href=\"#meff5b66448\" y=\"102.489424\"/>\r\n     <use style=\"fill:#add8e6;stroke:#add8e6;\" x=\"135.153313\" xlink:href=\"#meff5b66448\" y=\"105.729741\"/>\r\n     <use style=\"fill:#add8e6;stroke:#add8e6;\" x=\"130.158076\" xlink:href=\"#meff5b66448\" y=\"108.955026\"/>\r\n     <use style=\"fill:#add8e6;stroke:#add8e6;\" x=\"130.158076\" xlink:href=\"#meff5b66448\" y=\"108.955026\"/>\r\n     <use style=\"fill:#add8e6;stroke:#add8e6;\" x=\"125.172577\" xlink:href=\"#meff5b66448\" y=\"112.195344\"/>\r\n     <use style=\"fill:#add8e6;stroke:#add8e6;\" x=\"120.17734\" xlink:href=\"#meff5b66448\" y=\"115.420628\"/>\r\n     <use style=\"fill:#add8e6;stroke:#add8e6;\" x=\"115.163902\" xlink:href=\"#meff5b66448\" y=\"118.660367\"/>\r\n     <use style=\"fill:#add8e6;stroke:#add8e6;\" x=\"110.111601\" xlink:href=\"#meff5b66448\" y=\"121.92522\"/>\r\n     <use style=\"fill:#add8e6;stroke:#add8e6;\" x=\"110.111601\" xlink:href=\"#meff5b66448\" y=\"121.92522\"/>\r\n     <use style=\"fill:#add8e6;stroke:#add8e6;\" x=\"105.126102\" xlink:href=\"#meff5b66448\" y=\"125.165538\"/>\r\n     <use style=\"fill:#add8e6;stroke:#add8e6;\" x=\"100.130865\" xlink:href=\"#meff5b66448\" y=\"128.390823\"/>\r\n     <use style=\"fill:#add8e6;stroke:#add8e6;\" x=\"95.145366\" xlink:href=\"#meff5b66448\" y=\"131.631141\"/>\r\n     <use style=\"fill:#add8e6;stroke:#add8e6;\" x=\"95.145366\" xlink:href=\"#meff5b66448\" y=\"131.631141\"/>\r\n     <use style=\"fill:#add8e6;stroke:#add8e6;\" x=\"90.150129\" xlink:href=\"#meff5b66448\" y=\"134.856425\"/>\r\n     <use style=\"fill:#add8e6;stroke:#add8e6;\" x=\"85.16463\" xlink:href=\"#meff5b66448\" y=\"138.096743\"/>\r\n     <use style=\"fill:#add8e6;stroke:#add8e6;\" x=\"80.169392\" xlink:href=\"#meff5b66448\" y=\"141.322028\"/>\r\n     <use style=\"fill:#add8e6;stroke:#add8e6;\" x=\"80.169392\" xlink:href=\"#meff5b66448\" y=\"141.322028\"/>\r\n     <use style=\"fill:#add8e6;stroke:#add8e6;\" x=\"75.183894\" xlink:href=\"#meff5b66448\" y=\"144.562346\"/>\r\n     <use style=\"fill:#add8e6;stroke:#add8e6;\" x=\"70.188656\" xlink:href=\"#meff5b66448\" y=\"147.78763\"/>\r\n     <use style=\"fill:#add8e6;stroke:#add8e6;\" x=\"65.254729\" xlink:href=\"#meff5b66448\" y=\"151.106417\"/>\r\n     <use style=\"fill:#add8e6;stroke:#add8e6;\" x=\"60.746213\" xlink:href=\"#meff5b66448\" y=\"154.927538\"/>\r\n     <use style=\"fill:#add8e6;stroke:#add8e6;\" x=\"60.746213\" xlink:href=\"#meff5b66448\" y=\"154.927538\"/>\r\n     <use style=\"fill:#add8e6;stroke:#add8e6;\" x=\"56.565819\" xlink:href=\"#meff5b66448\" y=\"159.201833\"/>\r\n     <use style=\"fill:#add8e6;stroke:#add8e6;\" x=\"52.835238\" xlink:href=\"#meff5b66448\" y=\"163.844908\"/>\r\n     <use style=\"fill:#add8e6;stroke:#add8e6;\" x=\"49.572072\" xlink:href=\"#meff5b66448\" y=\"168.799419\"/>\r\n     <use style=\"fill:#add8e6;stroke:#add8e6;\" x=\"46.791325\" xlink:href=\"#meff5b66448\" y=\"174.039924\"/>\r\n     <use style=\"fill:#add8e6;stroke:#add8e6;\" x=\"46.791325\" xlink:href=\"#meff5b66448\" y=\"174.039924\"/>\r\n     <use style=\"fill:#add8e6;stroke:#add8e6;\" x=\"44.542273\" xlink:href=\"#meff5b66448\" y=\"179.505218\"/>\r\n     <use style=\"fill:#add8e6;stroke:#add8e6;\" x=\"42.799594\" xlink:href=\"#meff5b66448\" y=\"185.248947\"/>\r\n     <use style=\"fill:#add8e6;stroke:#add8e6;\" x=\"41.656244\" xlink:href=\"#meff5b66448\" y=\"191.000208\"/>\r\n     <use style=\"fill:#add8e6;stroke:#add8e6;\" x=\"41.027989\" xlink:href=\"#meff5b66448\" y=\"196.922177\"/>\r\n     <use style=\"fill:#add8e6;stroke:#add8e6;\" x=\"41.027989\" xlink:href=\"#meff5b66448\" y=\"196.922177\"/>\r\n     <use style=\"fill:#add8e6;stroke:#add8e6;\" x=\"41.539615\" xlink:href=\"#meff5b66448\" y=\"202.972413\"/>\r\n     <use style=\"fill:#add8e6;stroke:#add8e6;\" x=\"43.184939\" xlink:href=\"#meff5b66448\" y=\"208.679532\"/>\r\n     <use style=\"fill:#add8e6;stroke:#add8e6;\" x=\"45.769389\" xlink:href=\"#meff5b66448\" y=\"213.919218\"/>\r\n     <use style=\"fill:#add8e6;stroke:#add8e6;\" x=\"45.769389\" xlink:href=\"#meff5b66448\" y=\"213.919218\"/>\r\n     <use style=\"fill:#add8e6;stroke:#add8e6;\" x=\"48.905728\" xlink:href=\"#meff5b66448\" y=\"218.394443\"/>\r\n     <use style=\"fill:#add8e6;stroke:#add8e6;\" x=\"52.786301\" xlink:href=\"#meff5b66448\" y=\"222.437887\"/>\r\n     <use style=\"fill:#add8e6;stroke:#add8e6;\" x=\"57.13951\" xlink:href=\"#meff5b66448\" y=\"225.814341\"/>\r\n     <use style=\"fill:#add8e6;stroke:#add8e6;\" x=\"57.13951\" xlink:href=\"#meff5b66448\" y=\"225.814341\"/>\r\n     <use style=\"fill:#add8e6;stroke:#add8e6;\" x=\"61.927831\" xlink:href=\"#meff5b66448\" y=\"228.493692\"/>\r\n     <use style=\"fill:#add8e6;stroke:#add8e6;\" x=\"66.940874\" xlink:href=\"#meff5b66448\" y=\"230.474828\"/>\r\n     <use style=\"fill:#add8e6;stroke:#add8e6;\" x=\"72.435437\" xlink:href=\"#meff5b66448\" y=\"231.69358\"/>\r\n     <use style=\"fill:#add8e6;stroke:#add8e6;\" x=\"77.954932\" xlink:href=\"#meff5b66448\" y=\"232.079113\"/>\r\n     <use style=\"fill:#add8e6;stroke:#add8e6;\" x=\"77.954932\" xlink:href=\"#meff5b66448\" y=\"232.079113\"/>\r\n     <use style=\"fill:#add8e6;stroke:#add8e6;\" x=\"83.424464\" xlink:href=\"#meff5b66448\" y=\"231.641883\"/>\r\n     <use style=\"fill:#add8e6;stroke:#add8e6;\" x=\"88.80955\" xlink:href=\"#meff5b66448\" y=\"230.364271\"/>\r\n     <use style=\"fill:#add8e6;stroke:#add8e6;\" x=\"93.946594\" xlink:href=\"#meff5b66448\" y=\"228.308975\"/>\r\n     <use style=\"fill:#add8e6;stroke:#add8e6;\" x=\"93.946594\" xlink:href=\"#meff5b66448\" y=\"228.308975\"/>\r\n     <use style=\"fill:#add8e6;stroke:#add8e6;\" x=\"99.409805\" xlink:href=\"#meff5b66448\" y=\"226.078565\"/>\r\n     <use style=\"fill:#add8e6;stroke:#add8e6;\" x=\"104.921973\" xlink:href=\"#meff5b66448\" y=\"223.849024\"/>\r\n     <use style=\"fill:#add8e6;stroke:#add8e6;\" x=\"110.440833\" xlink:href=\"#meff5b66448\" y=\"221.636097\"/>\r\n     <use style=\"fill:#add8e6;stroke:#add8e6;\" x=\"115.894433\" xlink:href=\"#meff5b66448\" y=\"219.44693\"/>\r\n     <use style=\"fill:#add8e6;stroke:#add8e6;\" x=\"115.894433\" xlink:href=\"#meff5b66448\" y=\"219.44693\"/>\r\n     <use style=\"fill:#add8e6;stroke:#add8e6;\" x=\"121.406602\" xlink:href=\"#meff5b66448\" y=\"217.217388\"/>\r\n     <use style=\"fill:#add8e6;stroke:#add8e6;\" x=\"126.941064\" xlink:href=\"#meff5b66448\" y=\"214.981278\"/>\r\n     <use style=\"fill:#add8e6;stroke:#add8e6;\" x=\"132.51843\" xlink:href=\"#meff5b66448\" y=\"212.727835\"/>\r\n     <use style=\"fill:#add8e6;stroke:#add8e6;\" x=\"138.037289\" xlink:href=\"#meff5b66448\" y=\"210.514908\"/>\r\n     <use style=\"fill:#add8e6;stroke:#add8e6;\" x=\"138.037289\" xlink:href=\"#meff5b66448\" y=\"210.514908\"/>\r\n     <use style=\"fill:#add8e6;stroke:#add8e6;\" x=\"143.549458\" xlink:href=\"#meff5b66448\" y=\"208.285366\"/>\r\n     <use style=\"fill:#add8e6;stroke:#add8e6;\" x=\"148.998115\" xlink:href=\"#meff5b66448\" y=\"206.083925\"/>\r\n     <use style=\"fill:#add8e6;stroke:#add8e6;\" x=\"154.532577\" xlink:href=\"#meff5b66448\" y=\"203.847815\"/>\r\n     <use style=\"fill:#add8e6;stroke:#add8e6;\" x=\"154.532577\" xlink:href=\"#meff5b66448\" y=\"203.847815\"/>\r\n     <use style=\"fill:#add8e6;stroke:#add8e6;\" x=\"160.024137\" xlink:href=\"#meff5b66448\" y=\"201.62904\"/>\r\n     <use style=\"fill:#add8e6;stroke:#add8e6;\" x=\"165.5586\" xlink:href=\"#meff5b66448\" y=\"199.39293\"/>\r\n     <use style=\"fill:#add8e6;stroke:#add8e6;\" x=\"171.050159\" xlink:href=\"#meff5b66448\" y=\"197.174155\"/>\r\n     <use style=\"fill:#add8e6;stroke:#add8e6;\" x=\"176.584622\" xlink:href=\"#meff5b66448\" y=\"194.938045\"/>\r\n     <use style=\"fill:#add8e6;stroke:#add8e6;\" x=\"176.584622\" xlink:href=\"#meff5b66448\" y=\"194.938045\"/>\r\n     <use style=\"fill:#add8e6;stroke:#add8e6;\" x=\"182.001013\" xlink:href=\"#meff5b66448\" y=\"192.598242\"/>\r\n     <use style=\"fill:#add8e6;stroke:#add8e6;\" x=\"187.219329\" xlink:href=\"#meff5b66448\" y=\"189.632347\"/>\r\n     <use style=\"fill:#add8e6;stroke:#add8e6;\" x=\"191.769632\" xlink:href=\"#meff5b66448\" y=\"185.79157\"/>\r\n     <use style=\"fill:#add8e6;stroke:#add8e6;\" x=\"191.769632\" xlink:href=\"#meff5b66448\" y=\"185.79157\"/>\r\n     <use style=\"fill:#add8e6;stroke:#add8e6;\" x=\"195.512598\" xlink:href=\"#meff5b66448\" y=\"181.120922\"/>\r\n     <use style=\"fill:#add8e6;stroke:#add8e6;\" x=\"198.240463\" xlink:href=\"#meff5b66448\" y=\"176.276032\"/>\r\n     <use style=\"fill:#add8e6;stroke:#add8e6;\" x=\"200.248877\" xlink:href=\"#meff5b66448\" y=\"171.122171\"/>\r\n     <use style=\"fill:#add8e6;stroke:#add8e6;\" x=\"200.248877\" xlink:href=\"#meff5b66448\" y=\"171.122171\"/>\r\n     <use style=\"fill:#add8e6;stroke:#add8e6;\" x=\"201.459311\" xlink:href=\"#meff5b66448\" y=\"165.79476\"/>\r\n     <use style=\"fill:#add8e6;stroke:#add8e6;\" x=\"201.930977\" xlink:href=\"#meff5b66448\" y=\"160.401269\"/>\r\n     <use style=\"fill:#add8e6;stroke:#add8e6;\" x=\"201.589883\" xlink:href=\"#meff5b66448\" y=\"154.87885\"/>\r\n     <use style=\"fill:#add8e6;stroke:#add8e6;\" x=\"200.325802\" xlink:href=\"#meff5b66448\" y=\"150.09505\"/>\r\n     <use style=\"fill:#add8e6;stroke:#add8e6;\" x=\"200.325802\" xlink:href=\"#meff5b66448\" y=\"150.09505\"/>\r\n     <use style=\"fill:#add8e6;stroke:#add8e6;\" x=\"198.204723\" xlink:href=\"#meff5b66448\" y=\"145.670376\"/>\r\n     <use style=\"fill:#add8e6;stroke:#add8e6;\" x=\"195.331988\" xlink:href=\"#meff5b66448\" y=\"141.695267\"/>\r\n     <use style=\"fill:#add8e6;stroke:#add8e6;\" x=\"191.793566\" xlink:href=\"#meff5b66448\" y=\"138.299142\"/>\r\n     <use style=\"fill:#add8e6;stroke:#add8e6;\" x=\"191.793566\" xlink:href=\"#meff5b66448\" y=\"138.299142\"/>\r\n     <use style=\"fill:#add8e6;stroke:#add8e6;\" x=\"187.521125\" xlink:href=\"#meff5b66448\" y=\"135.564774\"/>\r\n     <use style=\"fill:#add8e6;stroke:#add8e6;\" x=\"182.890793\" xlink:href=\"#meff5b66448\" y=\"133.734773\"/>\r\n     <use style=\"fill:#add8e6;stroke:#add8e6;\" x=\"178.073796\" xlink:href=\"#meff5b66448\" y=\"132.800291\"/>\r\n     <use style=\"fill:#add8e6;stroke:#add8e6;\" x=\"172.850255\" xlink:href=\"#meff5b66448\" y=\"132.295737\"/>\r\n     <use style=\"fill:#add8e6;stroke:#add8e6;\" x=\"172.850255\" xlink:href=\"#meff5b66448\" y=\"132.295737\"/>\r\n     <use style=\"fill:#add8e6;stroke:#add8e6;\" x=\"166.908823\" xlink:href=\"#meff5b66448\" y=\"131.516853\"/>\r\n     <use style=\"fill:#add8e6;stroke:#add8e6;\" x=\"161.056867\" xlink:href=\"#meff5b66448\" y=\"130.767625\"/>\r\n     <use style=\"fill:#add8e6;stroke:#add8e6;\" x=\"155.182264\" xlink:href=\"#meff5b66448\" y=\"130.013155\"/>\r\n     <use style=\"fill:#add8e6;stroke:#add8e6;\" x=\"155.182264\" xlink:href=\"#meff5b66448\" y=\"130.013155\"/>\r\n     <use style=\"fill:#add8e6;stroke:#add8e6;\" x=\"149.194944\" xlink:href=\"#meff5b66448\" y=\"129.228326\"/>\r\n     <use style=\"fill:#add8e6;stroke:#add8e6;\" x=\"143.297099\" xlink:href=\"#meff5b66448\" y=\"128.473151\"/>\r\n     <use style=\"fill:#add8e6;stroke:#add8e6;\" x=\"137.401556\" xlink:href=\"#meff5b66448\" y=\"127.700214\"/>\r\n     <use style=\"fill:#add8e6;stroke:#add8e6;\" x=\"137.401556\" xlink:href=\"#meff5b66448\" y=\"127.700214\"/>\r\n     <use style=\"fill:#add8e6;stroke:#add8e6;\" x=\"131.574548\" xlink:href=\"#meff5b66448\" y=\"126.938516\"/>\r\n     <use style=\"fill:#add8e6;stroke:#add8e6;\" x=\"125.676704\" xlink:href=\"#meff5b66448\" y=\"126.183342\"/>\r\n     <use style=\"fill:#add8e6;stroke:#add8e6;\" x=\"119.781161\" xlink:href=\"#meff5b66448\" y=\"125.410404\"/>\r\n     <use style=\"fill:#add8e6;stroke:#add8e6;\" x=\"113.883316\" xlink:href=\"#meff5b66448\" y=\"124.65523\"/>\r\n     <use style=\"fill:#add8e6;stroke:#add8e6;\" x=\"107.987774\" xlink:href=\"#meff5b66448\" y=\"123.882292\"/>\r\n     <use style=\"fill:#add8e6;stroke:#add8e6;\" x=\"107.987774\" xlink:href=\"#meff5b66448\" y=\"123.882292\"/>\r\n     <use style=\"fill:#add8e6;stroke:#add8e6;\" x=\"102.069002\" xlink:href=\"#meff5b66448\" y=\"123.108599\"/>\r\n     <use style=\"fill:#add8e6;stroke:#add8e6;\" x=\"96.196112\" xlink:href=\"#meff5b66448\" y=\"122.340904\"/>\r\n     <use style=\"fill:#add8e6;stroke:#add8e6;\" x=\"90.27734\" xlink:href=\"#meff5b66448\" y=\"121.567211\"/>\r\n     <use style=\"fill:#add8e6;stroke:#add8e6;\" x=\"90.27734\" xlink:href=\"#meff5b66448\" y=\"121.567211\"/>\r\n     <use style=\"fill:#add8e6;stroke:#add8e6;\" x=\"84.35068\" xlink:href=\"#meff5b66448\" y=\"120.855724\"/>\r\n     <use style=\"fill:#add8e6;stroke:#add8e6;\" x=\"78.41469\" xlink:href=\"#meff5b66448\" y=\"121.325667\"/>\r\n     <use style=\"fill:#add8e6;stroke:#add8e6;\" x=\"73.332728\" xlink:href=\"#meff5b66448\" y=\"123.459288\"/>\r\n     <use style=\"fill:#add8e6;stroke:#add8e6;\" x=\"69.790295\" xlink:href=\"#meff5b66448\" y=\"126.207062\"/>\r\n     <use style=\"fill:#add8e6;stroke:#add8e6;\" x=\"69.790295\" xlink:href=\"#meff5b66448\" y=\"126.207062\"/>\r\n     <use style=\"fill:#add8e6;stroke:#add8e6;\" x=\"66.93022\" xlink:href=\"#meff5b66448\" y=\"129.780201\"/>\r\n     <use style=\"fill:#add8e6;stroke:#add8e6;\" x=\"65.034495\" xlink:href=\"#meff5b66448\" y=\"133.762491\"/>\r\n     <use style=\"fill:#add8e6;stroke:#add8e6;\" x=\"64.096361\" xlink:href=\"#meff5b66448\" y=\"138.146438\"/>\r\n     <use style=\"fill:#add8e6;stroke:#add8e6;\" x=\"64.096361\" xlink:href=\"#meff5b66448\" y=\"138.146438\"/>\r\n     <use style=\"fill:#add8e6;stroke:#add8e6;\" x=\"64.239752\" xlink:href=\"#meff5b66448\" y=\"142.724337\"/>\r\n     <use style=\"fill:#add8e6;stroke:#add8e6;\" x=\"65.390511\" xlink:href=\"#meff5b66448\" y=\"147.007158\"/>\r\n     <use style=\"fill:#add8e6;stroke:#add8e6;\" x=\"67.466682\" xlink:href=\"#meff5b66448\" y=\"150.89842\"/>\r\n     <use style=\"fill:#add8e6;stroke:#add8e6;\" x=\"70.276107\" xlink:href=\"#meff5b66448\" y=\"154.171601\"/>\r\n     <use style=\"fill:#add8e6;stroke:#add8e6;\" x=\"70.276107\" xlink:href=\"#meff5b66448\" y=\"154.171601\"/>\r\n     <use style=\"fill:#add8e6;stroke:#add8e6;\" x=\"73.802412\" xlink:href=\"#meff5b66448\" y=\"156.780117\"/>\r\n     <use style=\"fill:#add8e6;stroke:#add8e6;\" x=\"77.859757\" xlink:href=\"#meff5b66448\" y=\"158.562207\"/>\r\n     <use style=\"fill:#add8e6;stroke:#add8e6;\" x=\"83.081673\" xlink:href=\"#meff5b66448\" y=\"161.003706\"/>\r\n     <use style=\"fill:#add8e6;stroke:#add8e6;\" x=\"83.081673\" xlink:href=\"#meff5b66448\" y=\"161.003706\"/>\r\n     <use style=\"fill:#add8e6;stroke:#add8e6;\" x=\"88.40579\" xlink:href=\"#meff5b66448\" y=\"163.545459\"/>\r\n     <use style=\"fill:#add8e6;stroke:#add8e6;\" x=\"93.749779\" xlink:href=\"#meff5b66448\" y=\"166.099274\"/>\r\n     <use style=\"fill:#add8e6;stroke:#add8e6;\" x=\"99.135519\" xlink:href=\"#meff5b66448\" y=\"168.673041\"/>\r\n     <use style=\"fill:#add8e6;stroke:#add8e6;\" x=\"104.437758\" xlink:href=\"#meff5b66448\" y=\"171.206904\"/>\r\n     <use style=\"fill:#add8e6;stroke:#add8e6;\" x=\"104.437758\" xlink:href=\"#meff5b66448\" y=\"171.206904\"/>\r\n     <use style=\"fill:#add8e6;stroke:#add8e6;\" x=\"109.823498\" xlink:href=\"#meff5b66448\" y=\"173.78067\"/>\r\n     <use style=\"fill:#add8e6;stroke:#add8e6;\" x=\"115.209237\" xlink:href=\"#meff5b66448\" y=\"176.354436\"/>\r\n     <use style=\"fill:#add8e6;stroke:#add8e6;\" x=\"120.553227\" xlink:href=\"#meff5b66448\" y=\"178.908251\"/>\r\n     <use style=\"fill:#add8e6;stroke:#add8e6;\" x=\"125.938966\" xlink:href=\"#meff5b66448\" y=\"181.482017\"/>\r\n     <use style=\"fill:#add8e6;stroke:#add8e6;\" x=\"125.938966\" xlink:href=\"#meff5b66448\" y=\"181.482017\"/>\r\n     <use style=\"fill:#add8e6;stroke:#add8e6;\" x=\"131.615553\" xlink:href=\"#meff5b66448\" y=\"183.498244\"/>\r\n     <use style=\"fill:#add8e6;stroke:#add8e6;\" x=\"137.397189\" xlink:href=\"#meff5b66448\" y=\"184.92935\"/>\r\n     <use style=\"fill:#add8e6;stroke:#add8e6;\" x=\"143.290089\" xlink:href=\"#meff5b66448\" y=\"185.794853\"/>\r\n     <use style=\"fill:#add8e6;stroke:#add8e6;\" x=\"143.290089\" xlink:href=\"#meff5b66448\" y=\"185.794853\"/>\r\n     <use style=\"fill:#add8e6;stroke:#add8e6;\" x=\"149.214831\" xlink:href=\"#meff5b66448\" y=\"186.099593\"/>\r\n     <use style=\"fill:#add8e6;stroke:#add8e6;\" x=\"155.188122\" xlink:href=\"#meff5b66448\" y=\"185.844454\"/>\r\n     <use style=\"fill:#add8e6;stroke:#add8e6;\" x=\"161.039741\" xlink:href=\"#meff5b66448\" y=\"185.016066\"/>\r\n     <use style=\"fill:#add8e6;stroke:#add8e6;\" x=\"161.039741\" xlink:href=\"#meff5b66448\" y=\"185.016066\"/>\r\n     <use style=\"fill:#add8e6;stroke:#add8e6;\" x=\"166.790249\" xlink:href=\"#meff5b66448\" y=\"183.545574\"/>\r\n     <use style=\"fill:#add8e6;stroke:#add8e6;\" x=\"172.166774\" xlink:href=\"#meff5b66448\" y=\"180.915417\"/>\r\n     <use style=\"fill:#add8e6;stroke:#add8e6;\" x=\"176.904703\" xlink:href=\"#meff5b66448\" y=\"177.333473\"/>\r\n     <use style=\"fill:#add8e6;stroke:#add8e6;\" x=\"180.755048\" xlink:href=\"#meff5b66448\" y=\"173.357761\"/>\r\n     <use style=\"fill:#add8e6;stroke:#add8e6;\" x=\"180.755048\" xlink:href=\"#meff5b66448\" y=\"173.357761\"/>\r\n     <use style=\"fill:#add8e6;stroke:#add8e6;\" x=\"183.986301\" xlink:href=\"#meff5b66448\" y=\"168.985962\"/>\r\n     <use style=\"fill:#add8e6;stroke:#add8e6;\" x=\"186.547352\" xlink:href=\"#meff5b66448\" y=\"164.2682\"/>\r\n     <use style=\"fill:#add8e6;stroke:#add8e6;\" x=\"188.440905\" xlink:href=\"#meff5b66448\" y=\"159.069362\"/>\r\n     <use style=\"fill:#add8e6;stroke:#add8e6;\" x=\"190.187916\" xlink:href=\"#meff5b66448\" y=\"153.648478\"/>\r\n     <use style=\"fill:#add8e6;stroke:#add8e6;\" x=\"190.187916\" xlink:href=\"#meff5b66448\" y=\"153.648478\"/>\r\n     <use style=\"fill:#add8e6;stroke:#add8e6;\" x=\"192.070059\" xlink:href=\"#meff5b66448\" y=\"148.032631\"/>\r\n     <use style=\"fill:#add8e6;stroke:#add8e6;\" x=\"193.952202\" xlink:href=\"#meff5b66448\" y=\"142.416785\"/>\r\n     <use style=\"fill:#add8e6;stroke:#add8e6;\" x=\"195.81964\" xlink:href=\"#meff5b66448\" y=\"136.844812\"/>\r\n     <use style=\"fill:#add8e6;stroke:#add8e6;\" x=\"195.81964\" xlink:href=\"#meff5b66448\" y=\"136.844812\"/>\r\n     <use style=\"fill:#add8e6;stroke:#add8e6;\" x=\"197.708947\" xlink:href=\"#meff5b66448\" y=\"131.15818\"/>\r\n     <use style=\"fill:#add8e6;stroke:#add8e6;\" x=\"199.563835\" xlink:href=\"#meff5b66448\" y=\"125.582017\"/>\r\n     <use style=\"fill:#add8e6;stroke:#add8e6;\" x=\"201.447934\" xlink:href=\"#meff5b66448\" y=\"119.91804\"/>\r\n     <use style=\"fill:#add8e6;stroke:#add8e6;\" x=\"203.332032\" xlink:href=\"#meff5b66448\" y=\"114.254063\"/>\r\n     <use style=\"fill:#add8e6;stroke:#add8e6;\" x=\"203.332032\" xlink:href=\"#meff5b66448\" y=\"114.254063\"/>\r\n     <use style=\"fill:#add8e6;stroke:#add8e6;\" x=\"205.201526\" xlink:href=\"#meff5b66448\" y=\"108.633993\"/>\r\n     <use style=\"fill:#add8e6;stroke:#add8e6;\" x=\"206.56602\" xlink:href=\"#meff5b66448\" y=\"102.792334\"/>\r\n     <use style=\"fill:#add8e6;stroke:#add8e6;\" x=\"207.344605\" xlink:href=\"#meff5b66448\" y=\"96.911071\"/>\r\n     <use style=\"fill:#add8e6;stroke:#add8e6;\" x=\"207.344605\" xlink:href=\"#meff5b66448\" y=\"96.911071\"/>\r\n     <use style=\"fill:#add8e6;stroke:#add8e6;\" x=\"207.54648\" xlink:href=\"#meff5b66448\" y=\"91.004556\"/>\r\n     <use style=\"fill:#add8e6;stroke:#add8e6;\" x=\"207.176673\" xlink:href=\"#meff5b66448\" y=\"85.01368\"/>\r\n     <use style=\"fill:#add8e6;stroke:#add8e6;\" x=\"206.255798\" xlink:href=\"#meff5b66448\" y=\"79.199745\"/>\r\n     <use style=\"fill:#add8e6;stroke:#add8e6;\" x=\"206.255798\" xlink:href=\"#meff5b66448\" y=\"79.199745\"/>\r\n     <use style=\"fill:#add8e6;stroke:#add8e6;\" x=\"204.287335\" xlink:href=\"#meff5b66448\" y=\"73.533046\"/>\r\n     <use style=\"fill:#add8e6;stroke:#add8e6;\" x=\"201.283995\" xlink:href=\"#meff5b66448\" y=\"68.383293\"/>\r\n     <use style=\"fill:#add8e6;stroke:#add8e6;\" x=\"197.667178\" xlink:href=\"#meff5b66448\" y=\"64.03797\"/>\r\n     <use style=\"fill:#add8e6;stroke:#add8e6;\" x=\"193.683471\" xlink:href=\"#meff5b66448\" y=\"60.148235\"/>\r\n     <use style=\"fill:#add8e6;stroke:#add8e6;\" x=\"193.683471\" xlink:href=\"#meff5b66448\" y=\"60.148235\"/>\r\n     <use style=\"fill:#add8e6;stroke:#add8e6;\" x=\"189.514665\" xlink:href=\"#meff5b66448\" y=\"55.876055\"/>\r\n     <use style=\"fill:#add8e6;stroke:#add8e6;\" x=\"185.410492\" xlink:href=\"#meff5b66448\" y=\"51.670111\"/>\r\n     <use style=\"fill:#add8e6;stroke:#add8e6;\" x=\"180.920974\" xlink:href=\"#meff5b66448\" y=\"47.763486\"/>\r\n     <use style=\"fill:#add8e6;stroke:#add8e6;\" x=\"176.110116\" xlink:href=\"#meff5b66448\" y=\"44.332403\"/>\r\n     <use style=\"fill:#add8e6;stroke:#add8e6;\" x=\"176.110116\" xlink:href=\"#meff5b66448\" y=\"44.332403\"/>\r\n     <use style=\"fill:#add8e6;stroke:#add8e6;\" x=\"170.921055\" xlink:href=\"#meff5b66448\" y=\"41.36085\"/>\r\n     <use style=\"fill:#add8e6;stroke:#add8e6;\" x=\"165.44995\" xlink:href=\"#meff5b66448\" y=\"38.892174\"/>\r\n     <use style=\"fill:#add8e6;stroke:#add8e6;\" x=\"159.835431\" xlink:href=\"#meff5b66448\" y=\"36.975765\"/>\r\n     <use style=\"fill:#add8e6;stroke:#add8e6;\" x=\"159.835431\" xlink:href=\"#meff5b66448\" y=\"36.975765\"/>\r\n     <use style=\"fill:#add8e6;stroke:#add8e6;\" x=\"154.038861\" xlink:href=\"#meff5b66448\" y=\"35.606403\"/>\r\n     <use style=\"fill:#add8e6;stroke:#add8e6;\" x=\"148.20764\" xlink:href=\"#meff5b66448\" y=\"34.802217\"/>\r\n     <use style=\"fill:#add8e6;stroke:#add8e6;\" x=\"142.16443\" xlink:href=\"#meff5b66448\" y=\"34.550766\"/>\r\n     <use style=\"fill:#add8e6;stroke:#add8e6;\" x=\"136.332959\" xlink:href=\"#meff5b66448\" y=\"34.870926\"/>\r\n     <use style=\"fill:#add8e6;stroke:#add8e6;\" x=\"136.332959\" xlink:href=\"#meff5b66448\" y=\"34.870926\"/>\r\n     <use style=\"fill:#add8e6;stroke:#add8e6;\" x=\"130.419512\" xlink:href=\"#meff5b66448\" y=\"35.752083\"/>\r\n     <use style=\"fill:#add8e6;stroke:#add8e6;\" x=\"124.576895\" xlink:href=\"#meff5b66448\" y=\"37.226675\"/>\r\n     <use style=\"fill:#add8e6;stroke:#add8e6;\" x=\"118.943529\" xlink:href=\"#meff5b66448\" y=\"39.229293\"/>\r\n     <use style=\"fill:#add8e6;stroke:#add8e6;\" x=\"118.943529\" xlink:href=\"#meff5b66448\" y=\"39.229293\"/>\r\n     <use style=\"fill:#add8e6;stroke:#add8e6;\" x=\"113.595229\" xlink:href=\"#meff5b66448\" y=\"41.743922\"/>\r\n     <use style=\"fill:#add8e6;stroke:#add8e6;\" x=\"108.473846\" xlink:href=\"#meff5b66448\" y=\"44.784779\"/>\r\n     <use style=\"fill:#add8e6;stroke:#add8e6;\" x=\"103.642037\" xlink:href=\"#meff5b66448\" y=\"48.305989\"/>\r\n     <use style=\"fill:#add8e6;stroke:#add8e6;\" x=\"99.237317\" xlink:href=\"#meff5b66448\" y=\"52.210896\"/>\r\n     <use style=\"fill:#add8e6;stroke:#add8e6;\" x=\"99.237317\" xlink:href=\"#meff5b66448\" y=\"52.210896\"/>\r\n     <use style=\"fill:#add8e6;stroke:#add8e6;\" x=\"95.034127\" xlink:href=\"#meff5b66448\" y=\"56.389967\"/>\r\n     <use style=\"fill:#add8e6;stroke:#add8e6;\" x=\"90.761702\" xlink:href=\"#meff5b66448\" y=\"60.525332\"/>\r\n     <use style=\"fill:#add8e6;stroke:#add8e6;\" x=\"86.474236\" xlink:href=\"#meff5b66448\" y=\"64.678415\"/>\r\n     <use style=\"fill:#add8e6;stroke:#add8e6;\" x=\"86.474236\" xlink:href=\"#meff5b66448\" y=\"64.678415\"/>\r\n     <use style=\"fill:#add8e6;stroke:#add8e6;\" x=\"82.220006\" xlink:href=\"#meff5b66448\" y=\"68.799303\"/>\r\n     <use style=\"fill:#add8e6;stroke:#add8e6;\" x=\"77.960057\" xlink:href=\"#meff5b66448\" y=\"72.947519\"/>\r\n     <use style=\"fill:#add8e6;stroke:#add8e6;\" x=\"73.687632\" xlink:href=\"#meff5b66448\" y=\"77.082884\"/>\r\n     <use style=\"fill:#add8e6;stroke:#add8e6;\" x=\"69.36693\" xlink:href=\"#meff5b66448\" y=\"81.268161\"/>\r\n     <use style=\"fill:#add8e6;stroke:#add8e6;\" x=\"69.36693\" xlink:href=\"#meff5b66448\" y=\"81.268161\"/>\r\n     <use style=\"fill:#add8e6;stroke:#add8e6;\" x=\"65.536804\" xlink:href=\"#meff5b66448\" y=\"85.827123\"/>\r\n     <use style=\"fill:#add8e6;stroke:#add8e6;\" x=\"62.230505\" xlink:href=\"#meff5b66448\" y=\"90.641367\"/>\r\n     <use style=\"fill:#add8e6;stroke:#add8e6;\" x=\"59.319475\" xlink:href=\"#meff5b66448\" y=\"95.890487\"/>\r\n     <use style=\"fill:#add8e6;stroke:#add8e6;\" x=\"59.319475\" xlink:href=\"#meff5b66448\" y=\"95.890487\"/>\r\n     <use style=\"fill:#add8e6;stroke:#add8e6;\" x=\"56.925872\" xlink:href=\"#meff5b66448\" y=\"101.369169\"/>\r\n     <use style=\"fill:#add8e6;stroke:#add8e6;\" x=\"54.843721\" xlink:href=\"#meff5b66448\" y=\"106.917956\"/>\r\n     <use style=\"fill:#add8e6;stroke:#add8e6;\" x=\"52.684467\" xlink:href=\"#meff5b66448\" y=\"112.458035\"/>\r\n     <use style=\"fill:#add8e6;stroke:#add8e6;\" x=\"50.558651\" xlink:href=\"#meff5b66448\" y=\"117.961455\"/>\r\n     <use style=\"fill:#add8e6;stroke:#add8e6;\" x=\"50.558651\" xlink:href=\"#meff5b66448\" y=\"117.961455\"/>\r\n     <use style=\"fill:#add8e6;stroke:#add8e6;\" x=\"48.422333\" xlink:href=\"#meff5b66448\" y=\"123.485615\"/>\r\n     <use style=\"fill:#add8e6;stroke:#add8e6;\" x=\"46.263079\" xlink:href=\"#meff5b66448\" y=\"129.025694\"/>\r\n     <use style=\"fill:#add8e6;stroke:#add8e6;\" x=\"44.120524\" xlink:href=\"#meff5b66448\" y=\"134.572253\"/>\r\n     <use style=\"fill:#add8e6;stroke:#add8e6;\" x=\"44.120524\" xlink:href=\"#meff5b66448\" y=\"134.572253\"/>\r\n     <use style=\"fill:#add8e6;stroke:#add8e6;\" x=\"41.927793\" xlink:href=\"#meff5b66448\" y=\"140.19861\"/>\r\n     <use style=\"fill:#add8e6;stroke:#add8e6;\" x=\"39.795829\" xlink:href=\"#meff5b66448\" y=\"145.674826\"/>\r\n     <use style=\"fill:#add8e6;stroke:#add8e6;\" x=\"37.653274\" xlink:href=\"#meff5b66448\" y=\"151.221384\"/>\r\n     <use style=\"fill:#add8e6;stroke:#add8e6;\" x=\"37.653274\" xlink:href=\"#meff5b66448\" y=\"151.221384\"/>\r\n     <use style=\"fill:#add8e6;stroke:#add8e6;\" x=\"35.500266\" xlink:href=\"#meff5b66448\" y=\"156.788702\"/>\r\n     <use style=\"fill:#add8e6;stroke:#add8e6;\" x=\"33.341012\" xlink:href=\"#meff5b66448\" y=\"162.328781\"/>\r\n     <use style=\"fill:#add8e6;stroke:#add8e6;\" x=\"31.198457\" xlink:href=\"#meff5b66448\" y=\"167.87534\"/>\r\n     <use style=\"fill:#add8e6;stroke:#add8e6;\" x=\"29.122896\" xlink:href=\"#meff5b66448\" y=\"173.199726\"/>\r\n     <use style=\"fill:#add8e6;stroke:#add8e6;\" x=\"28.821582\" xlink:href=\"#meff5b66448\" y=\"174.001031\"/>\r\n     <use style=\"fill:#add8e6;stroke:#add8e6;\" x=\"28.821582\" xlink:href=\"#meff5b66448\" y=\"174.001031\"/>\r\n     <use style=\"fill:#add8e6;stroke:#add8e6;\" x=\"28.821582\" xlink:href=\"#meff5b66448\" y=\"174.001031\"/>\r\n     <use style=\"fill:#add8e6;stroke:#add8e6;\" x=\"28.821582\" xlink:href=\"#meff5b66448\" y=\"174.001031\"/>\r\n     <use style=\"fill:#add8e6;stroke:#add8e6;\" x=\"28.821582\" xlink:href=\"#meff5b66448\" y=\"174.001031\"/>\r\n     <use style=\"fill:#add8e6;stroke:#add8e6;\" x=\"28.821582\" xlink:href=\"#meff5b66448\" y=\"174.001031\"/>\r\n     <use style=\"fill:#add8e6;stroke:#add8e6;\" x=\"28.821582\" xlink:href=\"#meff5b66448\" y=\"174.001031\"/>\r\n     <use style=\"fill:#add8e6;stroke:#add8e6;\" x=\"28.821582\" xlink:href=\"#meff5b66448\" y=\"174.001031\"/>\r\n    </g>\r\n   </g>\r\n   <g id=\"line2d_1\">\r\n    <path clip-path=\"url(#pf003c5cd76)\" d=\"M 252.647064 29.651896 \r\nL 175.090808 79.88981 \r\nL 90.150129 134.856425 \r\nL 65.254729 151.106417 \r\nL 60.746213 154.927538 \r\nL 60.746213 154.927538 \r\nL 56.565819 159.201833 \r\nL 52.835238 163.844908 \r\nL 49.572072 168.799419 \r\nL 46.791325 174.039924 \r\nL 46.791325 174.039924 \r\nL 44.542273 179.505218 \r\nL 42.799594 185.248947 \r\nL 41.656244 191.000208 \r\nL 41.027989 196.922177 \r\nL 41.027989 196.922177 \r\nL 41.539615 202.972413 \r\nL 43.184939 208.679532 \r\nL 45.769389 213.919218 \r\nL 45.769389 213.919218 \r\nL 48.905728 218.394443 \r\nL 52.786301 222.437887 \r\nL 57.13951 225.814341 \r\nL 57.13951 225.814341 \r\nL 61.927831 228.493692 \r\nL 66.940874 230.474828 \r\nL 72.435437 231.69358 \r\nL 77.954932 232.079113 \r\nL 77.954932 232.079113 \r\nL 83.424464 231.641883 \r\nL 88.80955 230.364271 \r\nL 121.406602 217.217388 \r\nL 176.584622 194.938045 \r\nL 176.584622 194.938045 \r\nL 182.001013 192.598242 \r\nL 187.219329 189.632347 \r\nL 191.769632 185.79157 \r\nL 191.769632 185.79157 \r\nL 195.512598 181.120922 \r\nL 198.240463 176.276032 \r\nL 200.248877 171.122171 \r\nL 200.248877 171.122171 \r\nL 201.459311 165.79476 \r\nL 201.930977 160.401269 \r\nL 201.589883 154.87885 \r\nL 200.325802 150.09505 \r\nL 200.325802 150.09505 \r\nL 198.204723 145.670376 \r\nL 195.331988 141.695267 \r\nL 191.793566 138.299142 \r\nL 187.521125 135.564774 \r\nL 182.890793 133.734773 \r\nL 178.073796 132.800291 \r\nL 172.850255 132.295737 \r\nL 172.850255 132.295737 \r\nL 90.27734 121.567211 \r\nL 90.27734 121.567211 \r\nL 84.35068 120.855724 \r\nL 78.41469 121.325667 \r\nL 73.332728 123.459288 \r\nL 69.790295 126.207062 \r\nL 69.790295 126.207062 \r\nL 66.93022 129.780201 \r\nL 65.034495 133.762491 \r\nL 64.096361 138.146438 \r\nL 64.096361 138.146438 \r\nL 64.239752 142.724337 \r\nL 65.390511 147.007158 \r\nL 67.466682 150.89842 \r\nL 70.276107 154.171601 \r\nL 70.276107 154.171601 \r\nL 73.802412 156.780117 \r\nL 77.859757 158.562207 \r\nL 93.749779 166.099274 \r\nL 125.938966 181.482017 \r\nL 125.938966 181.482017 \r\nL 131.615553 183.498244 \r\nL 137.397189 184.92935 \r\nL 143.290089 185.794853 \r\nL 143.290089 185.794853 \r\nL 149.214831 186.099593 \r\nL 155.188122 185.844454 \r\nL 161.039741 185.016066 \r\nL 161.039741 185.016066 \r\nL 166.790249 183.545574 \r\nL 172.166774 180.915417 \r\nL 176.904703 177.333473 \r\nL 180.755048 173.357761 \r\nL 180.755048 173.357761 \r\nL 183.986301 168.985962 \r\nL 186.547352 164.2682 \r\nL 188.440905 159.069362 \r\nL 192.070059 148.032631 \r\nL 205.201526 108.633993 \r\nL 206.56602 102.792334 \r\nL 207.344605 96.911071 \r\nL 207.344605 96.911071 \r\nL 207.54648 91.004556 \r\nL 207.176673 85.01368 \r\nL 206.255798 79.199745 \r\nL 206.255798 79.199745 \r\nL 204.287335 73.533046 \r\nL 201.283995 68.383293 \r\nL 197.667178 64.03797 \r\nL 193.683471 60.148235 \r\nL 193.683471 60.148235 \r\nL 185.410492 51.670111 \r\nL 180.920974 47.763486 \r\nL 176.110116 44.332403 \r\nL 176.110116 44.332403 \r\nL 170.921055 41.36085 \r\nL 165.44995 38.892174 \r\nL 159.835431 36.975765 \r\nL 159.835431 36.975765 \r\nL 154.038861 35.606403 \r\nL 148.20764 34.802217 \r\nL 142.16443 34.550766 \r\nL 136.332959 34.870926 \r\nL 136.332959 34.870926 \r\nL 130.419512 35.752083 \r\nL 124.576895 37.226675 \r\nL 118.943529 39.229293 \r\nL 118.943529 39.229293 \r\nL 113.595229 41.743922 \r\nL 108.473846 44.784779 \r\nL 103.642037 48.305989 \r\nL 99.237317 52.210896 \r\nL 99.237317 52.210896 \r\nL 90.761702 60.525332 \r\nL 69.36693 81.268161 \r\nL 69.36693 81.268161 \r\nL 65.536804 85.827123 \r\nL 62.230505 90.641367 \r\nL 59.319475 95.890487 \r\nL 59.319475 95.890487 \r\nL 56.925872 101.369169 \r\nL 52.684467 112.458035 \r\nL 28.821582 174.001031 \r\nL 28.821582 174.001031 \r\n\" style=\"fill:none;stroke:#add8e6;stroke-linecap:square;stroke-width:0.5;\"/>\r\n   </g>\r\n   <g id=\"patch_7\">\r\n    <path clip-path=\"url(#pf003c5cd76)\" d=\"M 252.647064 42.910433 \r\nC 256.163269 42.910433 259.535932 41.513429 262.022265 39.027097 \r\nC 264.508597 36.540765 265.9056 33.168101 265.9056 29.651896 \r\nC 265.9056 26.135691 264.508597 22.763027 262.022265 20.276695 \r\nC 259.535932 17.790362 256.163269 16.393359 252.647064 16.393359 \r\nC 249.130859 16.393359 245.758195 17.790362 243.271862 20.276695 \r\nC 240.78553 22.763027 239.388527 26.135691 239.388527 29.651896 \r\nC 239.388527 33.168101 240.78553 36.540765 243.271862 39.027097 \r\nC 245.758195 41.513429 249.130859 42.910433 252.647064 42.910433 \r\nz\r\n\" style=\"fill:none;stroke:#8080ff;stroke-linejoin:miter;\"/>\r\n   </g>\r\n   <g id=\"patch_8\">\r\n    <path clip-path=\"url(#pf003c5cd76)\" d=\"M 234.34024 37.422673 \r\nC 234.792612 38.488397 235.337183 39.512586 235.967744 40.483566 \r\nC 236.598304 41.454545 237.312451 42.368611 238.102041 43.215343 \r\nL 252.647064 29.651896 \r\nL 234.34024 37.422673 \r\nz\r\n\" style=\"fill:#c0c0ff;stroke:#c0c0ff;stroke-linejoin:miter;\"/>\r\n   </g>\r\n   <g id=\"PathCollection_2\">\r\n    <defs>\r\n     <path d=\"M 0 1.414214 \r\nC 0.375054 1.414214 0.734797 1.265203 1 1 \r\nC 1.265203 0.734797 1.414214 0.375054 1.414214 0 \r\nC 1.414214 -0.375054 1.265203 -0.734797 1 -1 \r\nC 0.734797 -1.265203 0.375054 -1.414214 0 -1.414214 \r\nC -0.375054 -1.414214 -0.734797 -1.265203 -1 -1 \r\nC -1.265203 -0.734797 -1.414214 -0.375054 -1.414214 0 \r\nC -1.414214 0.375054 -1.265203 0.734797 -1 1 \r\nC -0.734797 1.265203 -0.375054 1.414214 0 1.414214 \r\nz\r\n\" id=\"ma68bf71440\" style=\"stroke:#0000ff;\"/>\r\n    </defs>\r\n    <g clip-path=\"url(#pf003c5cd76)\">\r\n     <use style=\"fill:#0000ff;stroke:#0000ff;\" x=\"252.647064\" xlink:href=\"#ma68bf71440\" y=\"29.651896\"/>\r\n    </g>\r\n   </g>\r\n   <g id=\"line2d_2\">\r\n    <path clip-path=\"url(#pf003c5cd76)\" d=\"M 252.647064 29.651896 \r\nL 230.40797 44.094122 \r\n\" style=\"fill:none;stroke:#0000ff;stroke-linecap:square;stroke-width:0.5;\"/>\r\n   </g>\r\n  </g>\r\n </g>\r\n <defs>\r\n  <clipPath id=\"pf003c5cd76\">\r\n   <rect height=\"271.8\" width=\"271.8\" x=\"10.7\" y=\"7.2\"/>\r\n  </clipPath>\r\n </defs>\r\n</svg>\r\n",
      "text/plain": [
       "<Figure size 500x500 with 1 Axes>"
      ]
     },
     "metadata": {},
     "output_type": "display_data"
    }
   ],
   "source": [
    "# Execute this to run the interactive viewer.\n",
    "import ipy_logfile_viewer as lfv\n",
    "v = lfv.IPYLogfileViewer(files=[\"kalman_prediction.txt\"])"
   ]
  },
  {
   "cell_type": "markdown",
   "metadata": {
    "deletable": false,
    "editable": false,
    "nbgrader": {
     "cell_type": "markdown",
     "checksum": "b3dae9223cc68c639244ff11c9718fa9",
     "grade": false,
     "grade_id": "cell-d225a2af09a08474",
     "locked": true,
     "schema_version": 3,
     "solution": false,
     "task": false
    }
   },
   "source": [
    "### Finally, the test.\n",
    "This will fail even if there are small errors in your program above. However it should not fail if your output of the first 30 steps matches the reference output above."
   ]
  },
  {
   "cell_type": "code",
   "execution_count": 88,
   "metadata": {
    "deletable": false,
    "editable": false,
    "nbgrader": {
     "cell_type": "code",
     "checksum": "15d5da0391e3cb8345acb84d64e8543e",
     "grade": true,
     "grade_id": "cell-dee62427e2238aa4",
     "locked": true,
     "points": 10,
     "schema_version": 3,
     "solution": false,
     "task": false
    }
   },
   "outputs": [
    {
     "name": "stderr",
     "output_type": "stream",
     "text": [
      "<ipython-input-80-1219ba714060>:14: RuntimeWarning: invalid value encountered in double_scalars\n",
      "  R=l/alpha\n",
      "<ipython-input-80-1219ba714060>:14: RuntimeWarning: divide by zero encountered in double_scalars\n",
      "  R=l/alpha\n"
     ]
    }
   ],
   "source": [
    "# Test of the prediction step, compares to hardcoded reference solution.\n",
    "from hashlib import shake_128\n",
    "from lego_robot import *\n",
    "from numpy import *\n",
    "ref_result = \"2785c91792ca746dccbcc861e1ee603ba9e104dfb1a2ec6c6dd12df045cb816859a8ee071a34e73f\"\\\n",
    "\"7d277483b66057be541bd40fe99f4fe92620a6381a4ae7d2c61c915b3a7c8d5e043360c8af26f9aa\"\\\n",
    "\"f3208886ce8e1c8e88cb14da9dbf523884163f2922473ecd755982f050dd001dcabd4ce75ed68197\"\\\n",
    "\"10252bc7e109c1aed03d3d2dfe65c5e3d5c58f487bdc0ac82e290d305e8e9be957c17f261c21f0e6\"\\\n",
    "\"67dde9ddb29434b3885bfb37636be3f79e843cde803033b3d8c3e2301578829999df315c20c59fa7\"\\\n",
    "\"ea76ec3f3bff7b4a26de96c3ebed4ef920e2f7ba0792d90fe95b9db8b79be61e131f4eb5ba3e3571\"\\\n",
    "\"89f407d656a74fec2d12a9fed72e2b872febebb087537fd63c21ddfa53253d0f1d768ac5499f594c\"\\\n",
    "\"7f805aa0a394c77adc21843dedeb9ac9e6d08d3f13536ba72a58d773c83373727b85c866abd0eac9\"\\\n",
    "\"9b4d7eeb74670f72cb514aa95c25492579b8ba2a05c1a9445901c106eb63abb042c1d8d4b5b89d2f\"\\\n",
    "\"d7487c644ac2e5d63e42739b0ab29829ed067b16fc5a0a1b21a5cb7210ed35543bdf1c4daf8c86ff\"\\\n",
    "\"edd26faaf2b0aa02cf874f1d6683e81d3aaf0172183b92f91f2e9d9e24a9c15a767ebd3151afb448\"\\\n",
    "\"3bdd3c1ee2de1c3eec99c8f5d3efd52810d48568d6793f47e692575472c44cfb4d1a6240936e414c\"\\\n",
    "\"6ae5898351c7a28f3b7f9fa9ca0b06d323f7a5f0010e17e4e5fa0b4b56a703af5d98c7f29b3567d9\"\\\n",
    "\"9054255f434a4a2a7cfe061e8d346e30346becae2962a7e84f56dad09c2f5591521555a2\"\n",
    "\n",
    "def public_test(the_kf_class):\n",
    "    # Robot constants.\n",
    "    scanner_displacement = 30.0\n",
    "    ticks_to_mm = 0.349\n",
    "    robot_width = 155.0\n",
    "\n",
    "    # Filter constants.\n",
    "    control_motion_factor = 0.35  # Error in motor control.\n",
    "    control_turn_factor = 0.6  # Additional error due to slip when turning.\n",
    "\n",
    "    # Measured start position.\n",
    "    initial_state = array([1850.0, 1897.0, 213.0 / 180.0 * pi])\n",
    "    # Covariance at start position.\n",
    "    initial_covariance = diag([100.0**2, 100.0**2, (10.0 / 180.0 * pi) ** 2])\n",
    "    # Setup filter.\n",
    "    kf = the_kf_class(initial_state, initial_covariance,\n",
    "                              robot_width,\n",
    "                              control_motion_factor, control_turn_factor)\n",
    "\n",
    "    # Read data.\n",
    "    logfile = LegoLogfile()\n",
    "    logfile.read(\"robot4_motors.txt\")\n",
    "\n",
    "    # This is the Kalman filter loop, without the correction step.\n",
    "    h, c = shake_128(), \"\"\n",
    "    for i, m in enumerate(logfile.motor_ticks):\n",
    "        # Prediction.\n",
    "        control = array(m) * ticks_to_mm\n",
    "        kf.predict(control)\n",
    "        s = \"x=%7.2f|y=%7.2f|t=%6.3f|%6.1f|%7.1f|%6.3f|%7.1f|%6.1f|%6.3f|%6.3f|%6.3f|%5.3f|\" %\\\n",
    "            (tuple(kf.state)+tuple(kf.covariance.reshape(9)))\n",
    "        h.update(s.encode())\n",
    "        #print(i, s)\n",
    "        c += h.hexdigest(2)\n",
    "    #for s in [c[j:j+80] for j in range(0,len(c),80)]: print('\"'+s+'\"\\\\')\n",
    "    if c != ref_result:\n",
    "        print(\"Your result does not match the reference result.\")\n",
    "        print(\"First mismatch at index\",\n",
    "             min(i for i in range(len(ref_result)) if c[i] != ref_result[i]) // 4)\n",
    "        return False\n",
    "    return True\n",
    "\n",
    "assert(public_test(ExtendedKalmanFilter_4))"
   ]
  },
  {
   "cell_type": "markdown",
   "metadata": {
    "deletable": false,
    "editable": false,
    "nbgrader": {
     "cell_type": "markdown",
     "checksum": "f74f34b6c164559cb87ad5785db273ff",
     "grade": false,
     "grade_id": "cell-1360f9d2d9b6e686",
     "locked": true,
     "schema_version": 3,
     "solution": false,
     "task": false
    }
   },
   "source": [
    "## Second, the correction step\n",
    "Similarly to our approach for the prediction step, we will need for the correction step:\n",
    "\n",
    "- The measurement function itself, we will call it $h()$.\n",
    "- The Jacobian of the measurement function with respect to the state, $H = \\partial h/\\partial(x,y,\\theta) = \\partial(r,\\alpha)/\\partial(x,y,\\theta)$.\n",
    "\n",
    "Once we have these two components, we can put them together to obtain the correction step."
   ]
  },
  {
   "cell_type": "code",
   "execution_count": 89,
   "metadata": {
    "deletable": false,
    "editable": false,
    "nbgrader": {
     "cell_type": "code",
     "checksum": "acec7b298d87fa7b0212a149264543ef",
     "grade": false,
     "grade_id": "cell-11a20b38d9f075db",
     "locked": true,
     "schema_version": 3,
     "solution": false,
     "task": false
    }
   },
   "outputs": [
    {
     "data": {
      "text/html": [
       "\n",
       "        <iframe\n",
       "            width=\"560\"\n",
       "            height=\"315\"\n",
       "            src=\"//av.tib.eu/player/49014\"\n",
       "            frameborder=\"0\"\n",
       "            allowfullscreen\n",
       "        ></iframe>\n",
       "        "
      ],
      "text/plain": [
       "<IPython.lib.display.IFrame at 0x23efdbb4b80>"
      ]
     },
     "execution_count": 89,
     "metadata": {},
     "output_type": "execute_result"
    }
   ],
   "source": [
    "# If you don't see a video below, run this cell.\n",
    "from IPython.display import IFrame\n",
    "IFrame(\"https://www.youtube.com/embed/4gtNda-OD4Y\" if \"YouTube\" in globals() else \"//av.tib.eu/player/49014\",\n",
    "       width=560, height=315)"
   ]
  },
  {
   "cell_type": "markdown",
   "metadata": {
    "deletable": false,
    "editable": false,
    "nbgrader": {
     "cell_type": "markdown",
     "checksum": "2a1835453828874714b6f8253c70b671",
     "grade": false,
     "grade_id": "cell-c6391a5d11872f25",
     "locked": true,
     "schema_version": 3,
     "solution": false,
     "task": false
    }
   },
   "source": [
    "### Programming assignment. Implement the Jacobian matrix: derivative of measurement function with respect to the state (10 Points)."
   ]
  },
  {
   "cell_type": "code",
   "execution_count": 90,
   "metadata": {
    "deletable": false,
    "nbgrader": {
     "cell_type": "code",
     "checksum": "f4bf8e38347448f8fdd28dc02d6ec0c8",
     "grade": false,
     "grade_id": "cell-f8aa0824c7dfbdea",
     "locked": false,
     "schema_version": 3,
     "solution": true,
     "task": false
    }
   },
   "outputs": [
    {
     "name": "stdout",
     "output_type": "stream",
     "text": [
      "Numeric differentiation dx, dy, dtheta:\n",
      "[[-9.92028504e-01  1.26012480e-01  2.22103350e+01]\n",
      " [-5.97530914e-04 -4.70404604e-03 -9.04372008e-01]]\n",
      "Analytic differentiation dx, dy, dtheta:\n",
      "[[-9.92028658e-01  1.26012464e-01  2.22103357e+01]\n",
      " [-5.97531632e-04 -4.70404662e-03 -9.04372013e-01]]\n",
      "Difference:\n",
      "[[ 1.54567504e-07  1.67745947e-08 -7.33399226e-07]\n",
      " [ 7.18408326e-10  5.73908717e-10  5.04587983e-09]]\n",
      "Seems correct: True\n"
     ]
    }
   ],
   "source": [
    "# This adds the derivative of the measurement function h,\n",
    "# with respect to the state.\n",
    "#\n",
    "# slam_07_e_measurement_derivative\n",
    "from lego_robot import *\n",
    "from numpy import *\n",
    "\n",
    "class ExtendedKalmanFilter_5(ExtendedKalmanFilter_4):\n",
    "    @staticmethod\n",
    "    def h(state, landmark, scanner_displacement):\n",
    "        \"\"\"Takes a (x, y, theta) state and a (x, y) landmark, and returns the\n",
    "           measurement (range, bearing).\"\"\"\n",
    "        dx = landmark[0] - (state[0] + scanner_displacement * cos(state[2]))\n",
    "        dy = landmark[1] - (state[1] + scanner_displacement * sin(state[2]))\n",
    "        r = sqrt(dx * dx + dy * dy)\n",
    "        alpha = (arctan2(dy, dx) - state[2] + pi) % (2*pi) - pi\n",
    "\n",
    "        return array([r, alpha])\n",
    "\n",
    "    @staticmethod\n",
    "    def dh_dstate(state, landmark, scanner_displacement):\n",
    "\n",
    "        # --->>> Insert your code here.\n",
    "        # Note that:\n",
    "        # x y theta is state[0] state[1] state[2]\n",
    "        # x_m y_m is landmark[0] landmark[1]\n",
    "        # The Jacobian of h is a 2x3 matrix.\n",
    "\n",
    "        #m = array([[1, 2, 3], [4, 5, 6]]) # Replace this.\n",
    "        # YOUR CODE HERE\n",
    "        #raise NotImplementedError()\n",
    "        theta=state[2]\n",
    "        dx = landmark[0] - (state[0] + scanner_displacement * cos(state[2]))\n",
    "        dy = landmark[1] - (state[1] + scanner_displacement * sin(state[2]))\n",
    "        q=dx * dx + dy * dy\n",
    "        r=sqrt(q)\n",
    "        \n",
    "        dr_dx=-dx/r\n",
    "        dr_dy=-dy/r\n",
    "        dr_dt=scanner_displacement/r*(dx*sin(theta)-dy*cos(theta))\n",
    "\n",
    "        da_dx=dy/q\n",
    "        da_dy=-dx/q\n",
    "        da_dt=-scanner_displacement/q*(dx*cos(theta)+dy*sin(theta))-1\n",
    "\n",
    "        m=array([[dr_dx,dr_dy,dr_dt],[da_dx,da_dy,da_dt]])\n",
    "\n",
    "        return m\n",
    "\n",
    "if __name__ == '__main__':\n",
    "    # If the partial derivative with respect to x, y, theta (the state)\n",
    "    # are correct, then the numerical derivative and the analytical\n",
    "    # derivative should be the same.\n",
    "\n",
    "    # Set some variables. You should try other variables as well.\n",
    "    x = 11.0\n",
    "    y = 22.0\n",
    "    theta = 125. / 180. * pi\n",
    "    state = array([x, y, theta])\n",
    "    landmark = (203.0, 20.0)\n",
    "    scanner_displacement = 30.0\n",
    "    w = 150.0\n",
    "\n",
    "    # Compute derivative numerically.\n",
    "    print(\"Numeric differentiation dx, dy, dtheta:\")\n",
    "    delta = 1e-7\n",
    "    state_x = array([x + delta, y, theta])\n",
    "    state_y = array([x, y + delta, theta])\n",
    "    state_theta = array([x, y, theta + delta])\n",
    "    hval = ExtendedKalmanFilter_5.h(state, landmark, scanner_displacement)\n",
    "    dh_dx = (ExtendedKalmanFilter_5.h(state_x, landmark, scanner_displacement) - hval) / delta\n",
    "    dh_dy = (ExtendedKalmanFilter_5.h(state_y, landmark, scanner_displacement) - hval) / delta\n",
    "    dh_dtheta = (ExtendedKalmanFilter_5.h(state_theta, landmark, scanner_displacement) - hval) / delta\n",
    "    dh_dstate_numeric = column_stack([dh_dx, dh_dy, dh_dtheta])\n",
    "    print(dh_dstate_numeric)\n",
    "\n",
    "    # Use the above code to compute the derivative analytically.\n",
    "    print(\"Analytic differentiation dx, dy, dtheta:\")\n",
    "    dh_dstate_analytic = ExtendedKalmanFilter_5.dh_dstate(\n",
    "        state, landmark, scanner_displacement)\n",
    "    print(dh_dstate_analytic)\n",
    "\n",
    "    # The difference should be close to zero (depending on the setting of\n",
    "    # delta, above).\n",
    "    print(\"Difference:\")\n",
    "    print(dh_dstate_numeric - dh_dstate_analytic)\n",
    "    print(\"Seems correct:\", allclose(dh_dstate_numeric, dh_dstate_analytic))"
   ]
  },
  {
   "cell_type": "code",
   "execution_count": 91,
   "metadata": {
    "deletable": false,
    "editable": false,
    "nbgrader": {
     "cell_type": "code",
     "checksum": "978d8298ce944a7af45792f027630d91",
     "grade": true,
     "grade_id": "cell-bb9819d4d6dbde92",
     "locked": true,
     "points": 10,
     "schema_version": 3,
     "solution": false,
     "task": false
    }
   },
   "outputs": [],
   "source": [
    "# Test of the derivative of the measurement function with respect to the state.\n",
    "from numpy import *\n",
    "class ExtendedKalmanFilterRef:\n",
    "    @staticmethod\n",
    "    def h(state, landmark, scanner_displacement):\n",
    "        \"\"\"Takes a (x, y, theta) state and a (x, y) landmark, and returns the\n",
    "           measurement (range, bearing).\"\"\"\n",
    "        dx = landmark[0] - (state[0] + scanner_displacement * cos(state[2]))\n",
    "        dy = landmark[1] - (state[1] + scanner_displacement * sin(state[2]))\n",
    "        r = sqrt(dx * dx + dy * dy)\n",
    "        alpha = (arctan2(dy, dx) - state[2] + pi) % (2*pi) - pi\n",
    "\n",
    "        return array([r, alpha])\n",
    "\n",
    "def public_test(the_kf_class):\n",
    "    for experiment in range(1000):\n",
    "        # Choose random state.\n",
    "        x = random.uniform(-10,10)\n",
    "        y = random.uniform(-10,10)\n",
    "        theta = random.uniform(-180, 180) / 180. * pi\n",
    "        state = array([x, y, theta])\n",
    "        \n",
    "        # Choose random landmark. Avoid zero and +/-pi angle\n",
    "        # with robot heading since that is numerically unstable.\n",
    "        l_r = random.uniform(1, 200)\n",
    "        l_a = random.uniform(1e-2, pi-1e-2)\n",
    "        if random.random() > 0.5: l_a *= -1\n",
    "        landmark = (x + l_r*cos(theta+l_a), y + l_r*sin(theta+l_a))\n",
    "        \n",
    "        scanner_displacement = 30.0\n",
    "        w = 150.0\n",
    "\n",
    "        # Compute derivative numerically.\n",
    "        delta = 1e-7\n",
    "        state_x = array([x + delta, y, theta])\n",
    "        state_y = array([x, y + delta, theta])\n",
    "        state_theta = array([x, y, theta + delta])\n",
    "        hval = ExtendedKalmanFilterRef.h(state, landmark, scanner_displacement)\n",
    "        dh_dx = (ExtendedKalmanFilterRef.h(state_x, landmark, scanner_displacement) - hval) / delta\n",
    "        dh_dy = (ExtendedKalmanFilterRef.h(state_y, landmark, scanner_displacement) - hval) / delta\n",
    "        dh_dtheta = (ExtendedKalmanFilterRef.h(state_theta, landmark, scanner_displacement) - hval) / delta\n",
    "        dh_dstate_numeric = column_stack([dh_dx, dh_dy, dh_dtheta])\n",
    "\n",
    "        # Use the above code to compute the derivative analytically.\n",
    "        dh_dstate_analytic = the_kf_class.dh_dstate(state, landmark, scanner_displacement)\n",
    "    \n",
    "        # The difference should be close to zero (depending on the setting of\n",
    "        # delta, above).\n",
    "        is_close = allclose(dh_dstate_numeric, dh_dstate_analytic, rtol=1e-5, atol=1e-5)\n",
    "        if not is_close:\n",
    "            print(\"For state:\")\n",
    "            print(state)\n",
    "            print(\"...and landmark:\")\n",
    "            print(landmark)\n",
    "            print(\"...the result of the numeric differentiation is:\")\n",
    "            print(dh_dstate_numeric)\n",
    "            print(\"...your analytical result is:\")\n",
    "            print(dh_dstate_analytic)\n",
    "            print(\"...resulting in a difference of:\")\n",
    "            print(dh_dstate_numeric - dh_dstate_analytic)\n",
    "            return False\n",
    "    return True\n",
    "assert public_test(ExtendedKalmanFilter_5)"
   ]
  },
  {
   "cell_type": "markdown",
   "metadata": {
    "deletable": false,
    "editable": false,
    "nbgrader": {
     "cell_type": "markdown",
     "checksum": "a9576d9cb7494a7ab6d5043054966bca",
     "grade": false,
     "grade_id": "cell-469eb680300b7436",
     "locked": true,
     "schema_version": 3,
     "solution": false,
     "task": false
    }
   },
   "source": [
    "### The correction step\n",
    "Now that we have the measurement function $h()$ and the Jacobian of $h()$, the matrix $H$, we can program the correction step."
   ]
  },
  {
   "cell_type": "code",
   "execution_count": 92,
   "metadata": {
    "deletable": false,
    "editable": false,
    "nbgrader": {
     "cell_type": "code",
     "checksum": "2c7b01bef773bab0ffefd621e9330a49",
     "grade": false,
     "grade_id": "cell-ad858f59c9b0c715",
     "locked": true,
     "schema_version": 3,
     "solution": false,
     "task": false
    }
   },
   "outputs": [
    {
     "data": {
      "text/html": [
       "\n",
       "        <iframe\n",
       "            width=\"560\"\n",
       "            height=\"315\"\n",
       "            src=\"//av.tib.eu/player/49015\"\n",
       "            frameborder=\"0\"\n",
       "            allowfullscreen\n",
       "        ></iframe>\n",
       "        "
      ],
      "text/plain": [
       "<IPython.lib.display.IFrame at 0x23efdbb4130>"
      ]
     },
     "execution_count": 92,
     "metadata": {},
     "output_type": "execute_result"
    }
   ],
   "source": [
    "# If you don't see a video below, run this cell.\n",
    "from IPython.display import IFrame\n",
    "IFrame(\"https://www.youtube.com/embed/Idb05ZsD2t0\" if \"YouTube\" in globals() else \"//av.tib.eu/player/49015\",\n",
    "       width=560, height=315)"
   ]
  },
  {
   "cell_type": "markdown",
   "metadata": {
    "deletable": false,
    "editable": false,
    "nbgrader": {
     "cell_type": "markdown",
     "checksum": "5f247e63e87ee6493ffcc2106b7da3cd",
     "grade": false,
     "grade_id": "cell-0a04cbd7d0c718ee",
     "locked": true,
     "schema_version": 3,
     "solution": false,
     "task": false
    }
   },
   "source": [
    "### Final programming assignment: The correction step (15 Points)."
   ]
  },
  {
   "cell_type": "code",
   "execution_count": 97,
   "metadata": {
    "deletable": false,
    "nbgrader": {
     "cell_type": "code",
     "checksum": "27852a9836ec83660262615418e37b34",
     "grade": false,
     "grade_id": "cell-52b2e8186b8bb61e",
     "locked": false,
     "schema_version": 3,
     "solution": true,
     "task": false
    }
   },
   "outputs": [
    {
     "name": "stderr",
     "output_type": "stream",
     "text": [
      "<ipython-input-80-1219ba714060>:14: RuntimeWarning: invalid value encountered in double_scalars\n",
      "  R=l/alpha\n",
      "<ipython-input-80-1219ba714060>:14: RuntimeWarning: divide by zero encountered in double_scalars\n",
      "  R=l/alpha\n"
     ]
    },
    {
     "name": "stdout",
     "output_type": "stream",
     "text": [
      "\t  0: x=1836.23|y=1868.00|t= 3.730|5582.7|-1067.6|-2.503|-1067.6|4739.6| 2.450|-2.503| 2.450|0.010|\n",
      "\t  1: x=1832.76|y=1861.56|t= 3.730|4053.0|-1103.6|-2.240|-1103.6|3282.7| 2.115|-2.240| 2.115|0.007|\n",
      "\t  2: x=1831.35|y=1858.99|t= 3.730|3206.7|-1007.9|-1.932|-1007.9|2541.0| 1.795|-1.932| 1.795|0.005|\n",
      "\t  3: x=1830.47|y=1857.03|t= 3.730|2659.7| -904.0|-1.681| -904.0|2081.2| 1.547|-1.681| 1.547|0.004|\n",
      "\t  4: x=1830.06|y=1855.64|t= 3.729|2274.2| -812.2|-1.482| -812.2|1765.6| 1.356|-1.482| 1.356|0.003|\n",
      "\t  5: x=1829.59|y=1854.71|t= 3.729|1987.2| -734.4|-1.322| -734.4|1534.5| 1.205|-1.322| 1.205|0.003|\n",
      "\t  6: x=1829.29|y=1854.11|t= 3.729|1764.9| -668.7|-1.192| -668.7|1357.6| 1.084|-1.192| 1.084|0.003|\n",
      "\t  7: x=1829.07|y=1853.71|t= 3.729|1587.5| -613.1|-1.085| -613.1|1217.7| 0.985|-1.085| 0.985|0.002|\n",
      "\t  8: x=1828.93|y=1853.42|t= 3.729|1442.6| -565.7|-0.996| -565.7|1104.1| 0.902|-0.996| 0.902|0.002|\n",
      "\t  9: x=1828.85|y=1853.07|t= 3.729|1322.1| -524.8|-0.919| -524.8|1010.0| 0.832|-0.919| 0.832|0.002|\n",
      "\t 10: x=1828.74|y=1852.91|t= 3.729|1220.1| -489.2|-0.854| -489.2| 930.8| 0.772|-0.854| 0.772|0.002|\n",
      "\t 11: x=1828.72|y=1852.72|t= 3.729|1132.8| -458.1|-0.797| -458.1| 863.1| 0.720|-0.797| 0.720|0.002|\n",
      "\t 12: x=1828.80|y=1852.55|t= 3.729|1057.2| -430.6|-0.747| -430.6| 804.7| 0.674|-0.747| 0.674|0.002|\n",
      "\t 13: x=1809.61|y=1839.71|t= 3.729| 994.3| -369.2|-0.664| -369.2| 738.3| 0.577|-0.664| 0.577|0.005|\n",
      "\t 14: x=1775.99|y=1817.00|t= 3.727| 974.9| -271.4|-0.519| -271.4| 688.5| 0.398|-0.519| 0.398|0.008|\n",
      "\t 15: x=1742.96|y=1794.71|t=-2.553| 957.4| -192.1|-0.416| -192.1| 649.3| 0.296|-0.416| 0.296|0.008|\n",
      "\t 16: x=1710.19|y=1772.95|t=-2.560| 938.4| -130.6|-0.309| -130.6| 626.4| 0.258|-0.309| 0.258|0.009|\n",
      "\t 17: x=1711.92|y=1774.65|t=-2.559| 867.5| -141.5|-0.360| -141.5| 592.4| 0.358|-0.360| 0.358|0.006|\n",
      "\t 18: x=1675.96|y=1751.64|t=-2.561| 856.6|  -87.2|-0.245|  -87.2| 570.7| 0.248|-0.245| 0.248|0.009|\n",
      "\t 19: x=1641.49|y=1729.37|t=-2.562| 839.7|  -47.1|-0.149|  -47.1| 552.6| 0.174|-0.149| 0.174|0.009|\n",
      "\t 20: x=1608.65|y=1707.96|t=-2.564| 815.5|  -18.2|-0.068|  -18.2| 536.4| 0.133|-0.068| 0.133|0.009|\n",
      "\t 21: x=1576.78|y=1687.07|t=-2.566| 785.1|    2.6|-0.007|    2.6| 522.3| 0.093|-0.007| 0.093|0.009|\n",
      "\t 22: x=1579.03|y=1688.79|t=-2.566| 700.4|  -23.9|-0.082|  -23.9| 488.5| 0.202|-0.082| 0.202|0.005|\n",
      "\t 23: x=1543.01|y=1665.65|t=-2.565| 687.8|    4.1| 0.014|    4.1| 479.5| 0.097| 0.014| 0.097|0.009|\n",
      "\t 24: x=1506.98|y=1641.49|t=-2.550| 723.7|   49.8|-0.189|   49.8| 496.1|-0.140|-0.189|-0.140|0.010|\n",
      "\t 25: x=1506.01|y=1641.02|t=-2.556| 687.6|   38.7|-0.312|   38.7| 475.1|-0.034|-0.312|-0.034|0.007|\n",
      "\t 26: x=1468.48|y=1615.44|t=-2.556| 716.4|   87.9|-0.317|   87.9| 490.6|-0.178|-0.317|-0.178|0.009|\n",
      "\t 27: x=1433.43|y=1591.74|t=-2.560| 662.9|   97.0|-0.025|   97.0| 488.8|-0.122|-0.025|-0.122|0.008|\n",
      "\t 28: x=1399.50|y=1568.69|t=-2.562| 632.5|  108.5| 0.040|  108.5| 488.6|-0.135| 0.040|-0.135|0.008|\n",
      "\t 29: x=1362.78|y=1543.96|t=-2.555| 667.0|  143.8|-0.189|  143.8| 505.0|-0.268|-0.189|-0.268|0.009|\n"
     ]
    }
   ],
   "source": [
    "# The full Kalman filter, consisting of prediction and correction step.\n",
    "#\n",
    "# slam_07_f_kalman_filter\n",
    "from lego_robot import *\n",
    "from numpy import *\n",
    "from slam_d_library import get_observations, write_cylinders\n",
    "\n",
    "class ExtendedKalmanFilter(ExtendedKalmanFilter_5):\n",
    "    def __init__(self, state, covariance,\n",
    "                 robot_width, scanner_displacement,\n",
    "                 control_motion_factor, control_turn_factor,\n",
    "                 measurement_distance_stddev, measurement_angle_stddev):\n",
    "        # The state. This is the core data of the Kalman filter.\n",
    "        self.state = state\n",
    "        self.covariance = covariance\n",
    "\n",
    "        # Some constants.\n",
    "        self.robot_width = robot_width\n",
    "        self.scanner_displacement = scanner_displacement\n",
    "        self.control_motion_factor = control_motion_factor\n",
    "        self.control_turn_factor = control_turn_factor\n",
    "        self.measurement_distance_stddev = measurement_distance_stddev\n",
    "        self.measurement_angle_stddev = measurement_angle_stddev\n",
    "    \n",
    "    # ***********************************************************\n",
    "    # Note: You do not have to copy/paste your previous functions\n",
    "    # here (as explained in the video), because in this Notebook,\n",
    "    # they are automatically included.\n",
    "    # ***********************************************************\n",
    "\n",
    "    def correct(self, measurement, landmark):\n",
    "        \"\"\"The correction step of the Kalman filter.\"\"\"\n",
    "        # --->>> Put your new code here.\n",
    "        #\n",
    "        # You will have to compute:\n",
    "        # H, using dh_dstate(...).\n",
    "        H=self.dh_dstate(self.state, landmark, scanner_displacement)\n",
    "\n",
    "        # Q, a diagonal matrix, from self.measurement_distance_stddev and\n",
    "        Q=diag([self.measurement_distance_stddev**2, self.measurement_angle_stddev**2])\n",
    "\n",
    "        #  self.measurement_angle_stddev (remember: Q contains variances).\n",
    "        # K, from self.covariance, H, and Q.\n",
    "        #  Use linalg.inv(...) to compute the inverse of a matrix.\n",
    "        K=self.covariance@H.T@linalg.inv(H@self.covariance@H.T+Q)\n",
    "\n",
    "        # The innovation: it is easy to make an error here, because the\n",
    "        #  predicted measurement and the actual measurement of theta may have\n",
    "        #  an offset of +/- 2 pi. So here is a suggestion:\n",
    "        innovation = array(measurement) -self.h(self.state, landmark, self.scanner_displacement)\n",
    "        innovation[1] = (innovation[1] + pi) % (2*pi) - pi\n",
    "\n",
    "        self.state=self.state+K@innovation\n",
    "        \n",
    "        self.covariance=(eye(3)-K@H)@self.covariance\n",
    "        # Then, you'll have to compute the new self.state.\n",
    "        # And finally, compute the new self.covariance. Use eye(3) to get a 3x3\n",
    "        #  identity matrix.\n",
    "        #\n",
    "        # Hints:\n",
    "        # dot(A, B) or A @ B is the 'normal' matrix product (do not use: A*B).\n",
    "        # A.T is the transposed of a matrix A (A itself is not modified).\n",
    "        # linalg.inv(A) returns the inverse of A (A itself is not modified).\n",
    "        # eye(3) returns a 3x3 identity matrix.\n",
    "\n",
    "        # YOUR CODE HERE\n",
    "        #raise NotImplementedError()\n",
    "\n",
    "if __name__ == '__main__':\n",
    "    # Robot constants.\n",
    "    scanner_displacement = 30.0\n",
    "    ticks_to_mm = 0.349\n",
    "    robot_width = 155.0\n",
    "\n",
    "    # Cylinder extraction and matching constants.\n",
    "    minimum_valid_distance = 20.0\n",
    "    depth_jump = 100.0\n",
    "    cylinder_offset = 90.0\n",
    "    max_cylinder_distance = 300.0\n",
    "\n",
    "    # Filter constants.\n",
    "    control_motion_factor = 0.35  # Error in motor control.\n",
    "    control_turn_factor = 0.6  # Additional error due to slip when turning.\n",
    "    measurement_distance_stddev = 200.0  # Distance measurement error of cylinders.\n",
    "    measurement_angle_stddev = 15.0 / 180.0 * pi  # Angle measurement error.\n",
    "\n",
    "    # Measured start position.\n",
    "    initial_state = array([1850.0, 1897.0, 213.0 / 180.0 * pi])\n",
    "    # Covariance at start position.\n",
    "    initial_covariance = diag([100.0**2, 100.0**2, (10.0 / 180.0 * pi) ** 2])\n",
    "    # Setup filter.\n",
    "    kf = ExtendedKalmanFilter(initial_state, initial_covariance,\n",
    "                              robot_width, scanner_displacement,\n",
    "                              control_motion_factor, control_turn_factor,\n",
    "                              measurement_distance_stddev,\n",
    "                              measurement_angle_stddev)\n",
    "\n",
    "    # Read data.\n",
    "    logfile = LegoLogfile()\n",
    "    logfile.read(\"robot4_motors.txt\")\n",
    "    logfile.read(\"robot4_scan.txt\")\n",
    "    logfile.read(\"robot_arena_landmarks.txt\")\n",
    "    reference_cylinders = [l[1:3] for l in logfile.landmarks]\n",
    "\n",
    "    # Loop over all motor tick records and all measurements and generate\n",
    "    # filtered positions and covariances.\n",
    "    # This is the Kalman filter loop, with prediction and correction.\n",
    "    states = []\n",
    "    covariances = []\n",
    "    matched_ref_cylinders = []\n",
    "    for i in range(len(logfile.motor_ticks)):\n",
    "        # Prediction.\n",
    "        control = array(logfile.motor_ticks[i]) * ticks_to_mm\n",
    "        kf.predict(control)\n",
    "\n",
    "        # Correction.\n",
    "        observations = get_observations(\n",
    "            logfile.scan_data[i],\n",
    "            depth_jump, minimum_valid_distance, cylinder_offset,\n",
    "            kf.state, scanner_displacement,\n",
    "            reference_cylinders, max_cylinder_distance)\n",
    "        for j in range(len(observations)):\n",
    "            kf.correct(*observations[j])\n",
    "\n",
    "        # Log state, covariance, and matched cylinders for later output.\n",
    "        states.append(kf.state)\n",
    "        covariances.append(kf.covariance)\n",
    "        matched_ref_cylinders.append([m[1] for m in observations])\n",
    "\n",
    "    # Write all states, all state covariances, and matched cylinders to file.\n",
    "    with open(\"kalman_prediction_and_correction.txt\", \"w\") as f:\n",
    "        for i in range(len(states)):\n",
    "            # Output the center of the scanner, not the center of the robot.\n",
    "            print(\"F %f %f %f\" % \\\n",
    "                tuple(states[i] + [scanner_displacement * cos(states[i][2]),\n",
    "                                   scanner_displacement * sin(states[i][2]),\n",
    "                                   0.0]), file=f)\n",
    "            # Convert covariance matrix to angle stddev1 stddev2 stddev-heading form\n",
    "            e = ExtendedKalmanFilter.get_error_ellipse(covariances[i])\n",
    "            print(\"E %f %f %f %f\" % (e + (sqrt(covariances[i][2,2]),)), file=f)\n",
    "            # Also, write matched cylinders.\n",
    "            write_cylinders(f, \"W C\", matched_ref_cylinders[i])\n",
    "            \n",
    "            # You may use this to print out the first few steps and compare them with the values below.\n",
    "            if i<30:\n",
    "                print(\"\\t%3d: x=%7.2f|y=%7.2f|t=%6.3f\" % ((i,) + tuple(states[i])), end=\"|\")\n",
    "                print(\"%6.1f|%7.1f|%6.3f|%7.1f|%6.1f|%6.3f|%6.3f|%6.3f|%5.3f|\" % tuple(covariances[i].reshape(9)))"
   ]
  },
  {
   "cell_type": "markdown",
   "metadata": {
    "deletable": false,
    "editable": false,
    "nbgrader": {
     "cell_type": "markdown",
     "checksum": "78d380d4c2f6e0ea26ccd98a9f5df8b0",
     "grade": false,
     "grade_id": "cell-37a7d2057a02b201",
     "locked": true,
     "schema_version": 3,
     "solution": false,
     "task": false
    }
   },
   "source": [
    "### Some numerical values to check your output:\n",
    "\n",
    "\t  0: x=1836.23|y=1868.00|t= 3.730|5582.7|-1067.6|-2.503|-1067.6|4739.6| 2.450|-2.503| 2.450|0.010|\n",
    "\t  1: x=1832.76|y=1861.56|t= 3.730|4053.0|-1103.6|-2.240|-1103.6|3282.7| 2.115|-2.240| 2.115|0.007|\n",
    "\t  2: x=1831.35|y=1858.99|t= 3.730|3206.7|-1007.9|-1.932|-1007.9|2541.0| 1.795|-1.932| 1.795|0.005|\n",
    "\t  3: x=1830.47|y=1857.03|t= 3.730|2659.7| -904.0|-1.681| -904.0|2081.3| 1.547|-1.681| 1.547|0.004|\n",
    "\t  4: x=1830.06|y=1855.64|t= 3.729|2274.2| -812.2|-1.482| -812.2|1765.6| 1.356|-1.482| 1.356|0.003|\n",
    "\t  5: x=1829.59|y=1854.71|t= 3.729|1987.2| -734.4|-1.322| -734.4|1534.5| 1.205|-1.322| 1.205|0.003|\n",
    "\t  6: x=1829.29|y=1854.11|t= 3.729|1764.9| -668.7|-1.192| -668.7|1357.6| 1.084|-1.192| 1.084|0.003|\n",
    "\t  7: x=1829.07|y=1853.71|t= 3.729|1587.5| -613.1|-1.085| -613.1|1217.7| 0.985|-1.085| 0.985|0.002|\n",
    "\t  8: x=1828.93|y=1853.42|t= 3.729|1442.6| -565.7|-0.996| -565.7|1104.1| 0.902|-0.996| 0.902|0.002|\n",
    "\t  9: x=1828.85|y=1853.07|t= 3.729|1322.1| -524.8|-0.919| -524.8|1010.0| 0.832|-0.919| 0.832|0.002|\n",
    "\t 10: x=1828.74|y=1852.91|t= 3.729|1220.1| -489.2|-0.854| -489.2| 930.8| 0.772|-0.854| 0.772|0.002|\n",
    "\t 11: x=1828.72|y=1852.72|t= 3.729|1132.8| -458.1|-0.797| -458.1| 863.1| 0.720|-0.797| 0.720|0.002|\n",
    "\t 12: x=1828.80|y=1852.55|t= 3.729|1057.2| -430.6|-0.747| -430.6| 804.7| 0.674|-0.747| 0.674|0.002|\n",
    "\t 13: x=1809.61|y=1839.71|t= 3.729| 994.3| -369.2|-0.664| -369.2| 738.3| 0.577|-0.664| 0.577|0.005|\n",
    "\t 14: x=1775.99|y=1817.00|t= 3.727| 974.9| -271.4|-0.519| -271.4| 688.5| 0.398|-0.519| 0.398|0.008|\n",
    "\t 15: x=1742.96|y=1794.71|t=-2.553| 957.4| -192.1|-0.416| -192.1| 649.3| 0.296|-0.416| 0.296|0.008|\n",
    "\t 16: x=1710.19|y=1772.95|t=-2.560| 938.4| -130.6|-0.309| -130.6| 626.4| 0.258|-0.309| 0.258|0.009|\n",
    "\t 17: x=1711.92|y=1774.65|t=-2.559| 867.5| -141.5|-0.360| -141.5| 592.4| 0.358|-0.360| 0.358|0.006|\n",
    "\t 18: x=1675.96|y=1751.64|t=-2.561| 856.6|  -87.2|-0.245|  -87.2| 570.7| 0.248|-0.245| 0.248|0.009|\n",
    "\t 19: x=1641.49|y=1729.37|t=-2.562| 839.7|  -47.1|-0.149|  -47.1| 552.6| 0.174|-0.149| 0.174|0.009|\n",
    "\t 20: x=1608.65|y=1707.96|t=-2.564| 815.5|  -18.2|-0.068|  -18.2| 536.4| 0.133|-0.068| 0.133|0.009|\n",
    "\t 21: x=1576.78|y=1687.07|t=-2.566| 785.1|    2.6|-0.007|    2.6| 522.3| 0.093|-0.007| 0.093|0.009|\n",
    "\t 22: x=1579.03|y=1688.79|t=-2.566| 700.4|  -23.9|-0.082|  -23.9| 488.5| 0.202|-0.082| 0.202|0.005|\n",
    "\t 23: x=1543.01|y=1665.65|t=-2.565| 687.8|    4.1| 0.014|    4.1| 479.5| 0.097| 0.014| 0.097|0.009|\n",
    "\t 24: x=1506.98|y=1641.49|t=-2.550| 723.7|   49.8|-0.189|   49.8| 496.1|-0.140|-0.189|-0.140|0.010|\n",
    "\t 25: x=1506.01|y=1641.02|t=-2.556| 687.6|   38.7|-0.312|   38.7| 475.1|-0.034|-0.312|-0.034|0.007|\n",
    "\t 26: x=1468.48|y=1615.44|t=-2.556| 716.4|   87.9|-0.317|   87.9| 490.6|-0.178|-0.317|-0.178|0.009|\n",
    "\t 27: x=1433.43|y=1591.74|t=-2.560| 662.9|   97.0|-0.025|   97.0| 488.8|-0.122|-0.025|-0.122|0.008|\n",
    "\t 28: x=1399.50|y=1568.69|t=-2.562| 632.5|  108.5| 0.040|  108.5| 488.6|-0.135| 0.040|-0.135|0.008|\n",
    "\t 29: x=1362.78|y=1543.96|t=-2.555| 667.0|  143.8|-0.189|  143.8| 505.0|-0.268|-0.189|-0.268|0.009|"
   ]
  },
  {
   "cell_type": "markdown",
   "metadata": {
    "deletable": false,
    "editable": false,
    "nbgrader": {
     "cell_type": "markdown",
     "checksum": "c3db4d2de3659c7dd6d4302be8503954",
     "grade": false,
     "grade_id": "cell-f0d125b26c31dff4",
     "locked": true,
     "schema_version": 3,
     "solution": false,
     "task": false
    }
   },
   "source": [
    "### Finally, the test.\n",
    "This will fail even if there are small errors in your program above. However it should not fail if your output of the first 30 steps matches the reference output above."
   ]
  },
  {
   "cell_type": "code",
   "execution_count": 98,
   "metadata": {
    "deletable": false,
    "editable": false,
    "nbgrader": {
     "cell_type": "code",
     "checksum": "ccda88875d2ef095457bf8bee8789b02",
     "grade": true,
     "grade_id": "cell-305568de892a4e01",
     "locked": true,
     "points": 15,
     "schema_version": 3,
     "solution": false,
     "task": false
    }
   },
   "outputs": [
    {
     "name": "stderr",
     "output_type": "stream",
     "text": [
      "<ipython-input-80-1219ba714060>:14: RuntimeWarning: invalid value encountered in double_scalars\n",
      "  R=l/alpha\n",
      "<ipython-input-80-1219ba714060>:14: RuntimeWarning: divide by zero encountered in double_scalars\n",
      "  R=l/alpha\n"
     ]
    }
   ],
   "source": [
    "# Test of the full Kalman filter, compares to hardcoded reference solution.\n",
    "from hashlib import shake_128\n",
    "from lego_robot import *\n",
    "from numpy import *\n",
    "from slam_d_library import get_observations, write_cylinders\n",
    "\n",
    "ref_result = \"d99d512c61f4d287b48f686ac3afe20ea8e5404171fc2be619716b2c21bc0687b60debab34521240\"\\\n",
    "\"98ec15ff2d63b301cb919e062f2228ab8d5a7d1ab722d778162ff8d3cf1acc934fe6949732a58994\"\\\n",
    "\"b8d67ecf125150588d03f6339a901d986378b6e5d970349b32470784b3bff8af7ad5d1f5ae3b4eaf\"\\\n",
    "\"f1e6bb7a587833d8ec625b64b57a167965809a2a4f743f81277b153b4785b5b246c2fa6033699b19\"\\\n",
    "\"f580881713b3e5accede26fc13f033f13dd4421368a8568a0a965e8584c91abb6b4e9bdec451b8f0\"\\\n",
    "\"b37dfa54758ce851d39e2061259edca4fde9a39ddf7e771131a98fd23ed38036abaaa43c9e2999c5\"\\\n",
    "\"da6f67041ec59d2ff413852cac2617755308539f241c73d47bced6e209dc3d4ae52b5550dbad1e1e\"\\\n",
    "\"efa8fe8adb69b9211bc6c8f3d249049b047a53d10664254695eee5f5726dada5866f942d1a69a2e7\"\\\n",
    "\"439883dc5d4a85e8a6b97f74f7b34e26636904337a609d3050676d0d0bd39710d26e99d02f82d7d6\"\\\n",
    "\"7c5bb0f000f2cdf677d238575a2d8e478e903a5143070ca5424a7aa64de28e5045bbdcf88ec190b5\"\\\n",
    "\"bfb277f766a48264cb5d04de531e8bdf733dda9c29bf99675fdbbd10e50b364437cc9c90be334c33\"\\\n",
    "\"a858e3827d6e43ca98330150379d39653f368429848a0f1844b5539571589203d3ee0bb13113701f\"\\\n",
    "\"c3a5719bd6314f73990f81dec738430e09868d5c72a580f840fb01d371978bb615911b57aa1f5672\"\\\n",
    "\"aa96ec69cf06ad97fbf3a1d4be5569f6ebfd15485354a4ab3e2708887fee05111b3cc238\"\n",
    "\n",
    "def public_test(the_kf_class):\n",
    "    # Robot constants.\n",
    "    scanner_displacement = 30.0\n",
    "    ticks_to_mm = 0.349\n",
    "    robot_width = 155.0\n",
    "    # Cylinder extraction and matching constants.\n",
    "    minimum_valid_distance = 20.0\n",
    "    depth_jump = 100.0\n",
    "    cylinder_offset = 90.0\n",
    "    max_cylinder_distance = 300.0\n",
    "    # Filter constants.\n",
    "    control_motion_factor = 0.35  # Error in motor control.\n",
    "    control_turn_factor = 0.6  # Additional error due to slip when turning.\n",
    "    measurement_distance_stddev = 200.0  # Distance measurement error of cylinders.\n",
    "    measurement_angle_stddev = 15.0 / 180.0 * pi  # Angle measurement error.\n",
    "\n",
    "    # Measured start position.\n",
    "    initial_state = array([1850.0, 1897.0, 213.0 / 180.0 * pi])\n",
    "    # Covariance at start position.\n",
    "    initial_covariance = diag([100.0**2, 100.0**2, (10.0 / 180.0 * pi) ** 2])\n",
    "    # Setup filter.\n",
    "    kf = the_kf_class(initial_state, initial_covariance, robot_width, scanner_displacement,\n",
    "        control_motion_factor, control_turn_factor,\n",
    "        measurement_distance_stddev, measurement_angle_stddev)\n",
    "\n",
    "    # Read data.\n",
    "    logfile = LegoLogfile()\n",
    "    logfile.read(\"robot4_motors.txt\")\n",
    "    logfile.read(\"robot4_scan.txt\")\n",
    "    logfile.read(\"robot_arena_landmarks.txt\")\n",
    "    reference_cylinders = [l[1:3] for l in logfile.landmarks]\n",
    "\n",
    "    # This is the Kalman filter loop, without the correction step.\n",
    "    h, c = shake_128(), \"\"\n",
    "    for i, m in enumerate(logfile.motor_ticks):\n",
    "        # Prediction.\n",
    "        control = array(m) * ticks_to_mm\n",
    "        kf.predict(control)\n",
    "        # Correction.\n",
    "        observations = get_observations(\n",
    "            logfile.scan_data[i],\n",
    "            depth_jump, minimum_valid_distance, cylinder_offset,\n",
    "            kf.state, scanner_displacement,\n",
    "            reference_cylinders, max_cylinder_distance)\n",
    "        for j in range(len(observations)):\n",
    "            kf.correct(*observations[j])\n",
    "        s = \"x=%7.2f|y=%7.2f|t=%6.3f|%6.1f|%7.1f|%6.3f|%7.1f|%6.1f|%6.3f|%6.3f|%6.3f|%5.3f|\" %\\\n",
    "            (tuple(kf.state)+tuple(kf.covariance.reshape(9)))\n",
    "        h.update(s.encode())\n",
    "        #print(i, s)\n",
    "        c += h.hexdigest(2)\n",
    "    #for s in [c[j:j+80] for j in range(0,len(c),80)]: print('\"'+s+'\"\\\\')\n",
    "    if c != ref_result:\n",
    "        print(\"Your result does not match the reference result.\")\n",
    "        print(\"First mismatch at index\",\n",
    "             min(i for i in range(len(ref_result)) if c[i] != ref_result[i]) // 4)\n",
    "        return False\n",
    "    return True\n",
    "\n",
    "assert(public_test(ExtendedKalmanFilter))"
   ]
  },
  {
   "cell_type": "markdown",
   "metadata": {
    "deletable": false,
    "editable": false,
    "nbgrader": {
     "cell_type": "markdown",
     "checksum": "eb3cd661da375e6bf41ad7f75c5c00be",
     "grade": false,
     "grade_id": "cell-1e2f31e6cca65307",
     "locked": true,
     "schema_version": 3,
     "solution": false,
     "task": false
    }
   },
   "source": [
    "## Congratulations! Let's have a look at the results\n",
    "The trajectory is both: quite smooth *and* globally correct. As the video shows, our Kalman filter solution even works if we take only a maximum of one observed cylinder in each step (i.e., even if we observe multiple cylinders, we pick only one of them). If you compare this to our earlier approach from Unit B, using the estimation of a similarity transform, you will note that this had led to a much more jagged trajectory, and it would not have worked at all when using only a single observed landmark in each step."
   ]
  },
  {
   "cell_type": "code",
   "execution_count": 99,
   "metadata": {
    "deletable": false,
    "editable": false,
    "nbgrader": {
     "cell_type": "code",
     "checksum": "a57685c6a0ac25dd972bbd60011065c7",
     "grade": false,
     "grade_id": "cell-572fe7c384a113bc",
     "locked": true,
     "schema_version": 3,
     "solution": false,
     "task": false
    }
   },
   "outputs": [
    {
     "data": {
      "text/html": [
       "\n",
       "        <iframe\n",
       "            width=\"560\"\n",
       "            height=\"315\"\n",
       "            src=\"//av.tib.eu/player/49016\"\n",
       "            frameborder=\"0\"\n",
       "            allowfullscreen\n",
       "        ></iframe>\n",
       "        "
      ],
      "text/plain": [
       "<IPython.lib.display.IFrame at 0x23efdd732e0>"
      ]
     },
     "execution_count": 99,
     "metadata": {},
     "output_type": "execute_result"
    }
   ],
   "source": [
    "# If you don't see a video below, run this cell.\n",
    "from IPython.display import IFrame\n",
    "IFrame(\"https://www.youtube.com/embed/0bZNOfs4Tmg\" if \"YouTube\" in globals() else \"//av.tib.eu/player/49016\",\n",
    "       width=560, height=315)"
   ]
  },
  {
   "cell_type": "code",
   "execution_count": 100,
   "metadata": {},
   "outputs": [
    {
     "data": {
      "application/vnd.jupyter.widget-view+json": {
       "model_id": "d90df1febdcf4e1fa748963638b98b13",
       "version_major": 2,
       "version_minor": 0
      },
      "text/plain": [
       "VBox(children=(HBox(children=(Output(layout=Layout(width='600px')), Output(layout=Layout(width='600px')))), Ou…"
      ]
     },
     "metadata": {},
     "output_type": "display_data"
    }
   ],
   "source": [
    "# Execute this to run the interactive viewer.\n",
    "import ipy_logfile_viewer as lfv\n",
    "v = lfv.IPYLogfileViewer(files=[\"kalman_prediction_and_correction.txt\", \"robot4_reference.txt\",\n",
    "                                \"robot_arena_landmarks.txt\"])"
   ]
  },
  {
   "cell_type": "code",
   "execution_count": null,
   "metadata": {},
   "outputs": [],
   "source": []
  }
 ],
 "metadata": {
  "copyright": "(c) Claus Brenner 2020",
  "kernelspec": {
   "display_name": "Python 3",
   "language": "python",
   "name": "python3"
  },
  "language_info": {
   "codemirror_mode": {
    "name": "ipython",
    "version": 3
   },
   "file_extension": ".py",
   "mimetype": "text/x-python",
   "name": "python",
   "nbconvert_exporter": "python",
   "pygments_lexer": "ipython3",
   "version": "3.8.5"
  }
 },
 "nbformat": 4,
 "nbformat_minor": 4
}
