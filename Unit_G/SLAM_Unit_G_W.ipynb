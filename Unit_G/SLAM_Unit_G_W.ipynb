{
 "cells": [
  {
   "cell_type": "markdown",
   "metadata": {
    "deletable": false,
    "editable": false,
    "nbgrader": {
     "cell_type": "markdown",
     "checksum": "aeb06a465638c37f281beb32e9989038",
     "grade": false,
     "grade_id": "cell-4b3cb5444846bd01",
     "locked": true,
     "schema_version": 3,
     "solution": false,
     "task": false
    }
   },
   "source": [
    "# SLAM Unit G\n",
    "This unit is about the particle filter SLAM."
   ]
  },
  {
   "cell_type": "markdown",
   "metadata": {
    "deletable": false,
    "editable": false,
    "nbgrader": {
     "cell_type": "markdown",
     "checksum": "d1c46363e587313670a7a571b5171eb8",
     "grade": false,
     "grade_id": "cell-17edd3f047278dcc",
     "locked": true,
     "schema_version": 3,
     "solution": false,
     "task": false
    }
   },
   "source": [
    "## The Rao-Blackwellized particle filter\n",
    "We first recap a few of our earlier results: the particle filter (for localization only) and the extended Kalman filter (EKF) SLAM (for localization *and* mapping). Starting from there, we think about how a particle filter SLAM would look like and introduce a special way to realize it, named the Rao-Blackwellized particle filter."
   ]
  },
  {
   "cell_type": "code",
   "execution_count": 164,
   "metadata": {},
   "outputs": [
    {
     "data": {
      "text/html": [
       "\n",
       "        <iframe\n",
       "            width=\"560\"\n",
       "            height=\"315\"\n",
       "            src=\"//av.tib.eu/player/49032\"\n",
       "            frameborder=\"0\"\n",
       "            allowfullscreen\n",
       "        ></iframe>\n",
       "        "
      ],
      "text/plain": [
       "<IPython.lib.display.IFrame at 0x2274f12eb80>"
      ]
     },
     "execution_count": 164,
     "metadata": {},
     "output_type": "execute_result"
    }
   ],
   "source": [
    "# If you don't see a video below, run this cell.\n",
    "# YouTube = True  # Uncomment to get YouTube videos instead of TIB AV.\n",
    "from IPython.display import IFrame\n",
    "IFrame(\"https://www.youtube.com/embed/9WyrWJcvneE\" if \"YouTube\" in globals() else \"//av.tib.eu/player/49032\",\n",
    "       width=560, height=315)"
   ]
  },
  {
   "cell_type": "markdown",
   "metadata": {
    "deletable": false,
    "editable": false,
    "nbgrader": {
     "cell_type": "markdown",
     "checksum": "2de8ce385e1a4bf4e25e6948ced6e8ee",
     "grade": false,
     "grade_id": "cell-10db7e35b3486095",
     "locked": true,
     "schema_version": 3,
     "solution": false,
     "task": false
    }
   },
   "source": [
    "### A first question (2 Points).\n",
    "I have to admit there is a bug in the video. If you have a normal distributed random variable $X$, then the probability for $X$ being between $\\mu-\\sigma$ and $\\mu+\\sigma$ is 0.68 (the number stated in the video). However, if $X$ is a multivariate distribution, the probability for being inside the \"one-sigma error ellipsoid\" will be smaller. For example, in our case $X=(x, y, \\theta)\\in\\mathbb{R}^3$, so $X$ is a three-dimensional (multivariate) random variable. For simplicity, assume the covariance matrix to be the identity matrix, so the error ellipsoid would be a ball of radius 1. Can you figure out what the probability is for $X$ being inside this ball? (Hint: *Inside the ball* means $x^2 + y^2 + \\theta^2 \\leq 1$, so you could define $Y=x^2 + y^2 + \\theta^2$ and determine the probability $\\mbox{Pr}(Y\\leq 1)$.)"
   ]
  },
  {
   "cell_type": "code",
   "execution_count": 165,
   "metadata": {
    "deletable": false,
    "nbgrader": {
     "cell_type": "code",
     "checksum": "902a3580808e080fef2cf5a7dc5b20a2",
     "grade": false,
     "grade_id": "cell-2aa80984f08cf37f",
     "locked": false,
     "schema_version": 3,
     "solution": true,
     "task": false
    }
   },
   "outputs": [],
   "source": [
    "# What is the probability for X being inside a ball of radius 1, when X is a\n",
    "# 3D standard normal distributed variable? Give it as an integer percentage (rounded to the nearest integer).\n",
    "percentage_inside_ball = 20  # That would be true for 1D, replace by your guess for the 3D case.\n",
    "# YOUR CODE HERE\n"
   ]
  },
  {
   "cell_type": "code",
   "execution_count": 166,
   "metadata": {
    "deletable": false,
    "editable": false,
    "nbgrader": {
     "cell_type": "code",
     "checksum": "0ca7c0b415640f7cc3f5f2f8e87e3dd2",
     "grade": true,
     "grade_id": "cell-3bf7cebfd0764c46",
     "locked": true,
     "points": 2,
     "schema_version": 3,
     "solution": false,
     "task": false
    }
   },
   "outputs": [],
   "source": [
    "from hashlib import shake_128\n",
    "def public_string_test(the_answer_string, reference):\n",
    "    m = shake_128()\n",
    "    m.update(the_answer_string.encode())\n",
    "    return m.hexdigest(4) == reference\n",
    "assert public_string_test((\"percentage=%d\" % percentage_inside_ball), '437038cf'), \"Oh no, your answer is wrong!\""
   ]
  },
  {
   "cell_type": "markdown",
   "metadata": {
    "deletable": false,
    "editable": false,
    "nbgrader": {
     "cell_type": "markdown",
     "checksum": "a5fe9fdc862896a2ec8b8d8d349edbd1",
     "grade": false,
     "grade_id": "cell-57c7769bca52898a",
     "locked": true,
     "schema_version": 3,
     "solution": false,
     "task": false
    }
   },
   "source": [
    "### A second question (2 Points).\n",
    "What is the *space* complexity of the EKF SLAM and the presented Particle Filter (PF) SLAM with respect to the number of landmarks $N$?\n",
    "- A: Both are linear in $N$\n",
    "- B: Both are quadratic in $N$\n",
    "- C: EKF is quadratic, PF is linear in $N$\n",
    "- D: EKF is linear, PF is quadratic in $N$."
   ]
  },
  {
   "cell_type": "code",
   "execution_count": 167,
   "metadata": {
    "deletable": false,
    "nbgrader": {
     "cell_type": "code",
     "checksum": "fa9ea6ab736e6b1d7041c2071df2790d",
     "grade": false,
     "grade_id": "cell-f58b9401f3879883",
     "locked": false,
     "schema_version": 3,
     "solution": true,
     "task": false
    }
   },
   "outputs": [],
   "source": [
    "the_space_complexity_is = \"C\"  # Replace by your answer.\n",
    "# YOUR CODE HERE\n"
   ]
  },
  {
   "cell_type": "code",
   "execution_count": 168,
   "metadata": {
    "deletable": false,
    "editable": false,
    "nbgrader": {
     "cell_type": "code",
     "checksum": "d253bf9013dd5e98a821e24883473775",
     "grade": true,
     "grade_id": "cell-79a0dc30c18141c0",
     "locked": true,
     "points": 2,
     "schema_version": 3,
     "solution": false,
     "task": false
    }
   },
   "outputs": [],
   "source": [
    "from hashlib import shake_128\n",
    "def public_string_test(the_answer_string, reference):\n",
    "    m = shake_128()\n",
    "    m.update(the_answer_string.encode())\n",
    "    return m.hexdigest(4) == reference\n",
    "assert public_string_test(\"cplx=\"+the_space_complexity_is.strip().lower(), '7debab5a'), \"Oh no, your answer is wrong!\""
   ]
  },
  {
   "cell_type": "markdown",
   "metadata": {
    "deletable": false,
    "editable": false,
    "nbgrader": {
     "cell_type": "markdown",
     "checksum": "d1c3737f1c8840a8b84c99a14e742116",
     "grade": false,
     "grade_id": "cell-f72b1c7fffd5d1ee",
     "locked": true,
     "schema_version": 3,
     "solution": false,
     "task": false
    }
   },
   "source": [
    "## Computing the correspondence likelihood"
   ]
  },
  {
   "cell_type": "code",
   "execution_count": 169,
   "metadata": {
    "deletable": false,
    "editable": false,
    "nbgrader": {
     "cell_type": "code",
     "checksum": "4f68fda076deea7496b871f3c1e7c8ce",
     "grade": false,
     "grade_id": "cell-f13e5c6d553ef6ef",
     "locked": true,
     "schema_version": 3,
     "solution": false,
     "task": false
    }
   },
   "outputs": [
    {
     "data": {
      "text/html": [
       "\n",
       "        <iframe\n",
       "            width=\"560\"\n",
       "            height=\"315\"\n",
       "            src=\"//av.tib.eu/player/49033\"\n",
       "            frameborder=\"0\"\n",
       "            allowfullscreen\n",
       "        ></iframe>\n",
       "        "
      ],
      "text/plain": [
       "<IPython.lib.display.IFrame at 0x2274f12e580>"
      ]
     },
     "execution_count": 169,
     "metadata": {},
     "output_type": "execute_result"
    }
   ],
   "source": [
    "# If you don't see a video below, run this cell.\n",
    "IFrame(\"https://www.youtube.com/embed/HfBqPi-ydrc\" if \"YouTube\" in globals() else \"//av.tib.eu/player/49033\",\n",
    "       width=560, height=315)"
   ]
  },
  {
   "cell_type": "markdown",
   "metadata": {
    "deletable": false,
    "editable": false,
    "nbgrader": {
     "cell_type": "markdown",
     "checksum": "74c7fc812c4e90eef7a3dcb0abd15113",
     "grade": false,
     "grade_id": "cell-df1a5e3932fbcbda",
     "locked": true,
     "schema_version": 3,
     "solution": false,
     "task": false
    }
   },
   "source": [
    "### The particle class.\n",
    "First, we define a class that represents a single particle. Our filter (defined below) will have many particles to represent the belief. Using a class for the particle makes sense since, as we will learn, there is quite some data and functionality associated with a single particle.\n",
    "\n",
    "In the beginning, however, our particle has only $(x,y,\\theta)$ as member variables, and the only functionality (member functions) are the state transition `g()` (which we know from earlier units) and a `move()` function which simply applies `g()` to itself."
   ]
  },
  {
   "cell_type": "code",
   "execution_count": 170,
   "metadata": {},
   "outputs": [],
   "source": [
    "# FastSLAM, first version: prediciton only.\n",
    "#\n",
    "# slam_10_a_prediction\n",
    "from lego_robot import *\n",
    "from slam_g_library import get_mean, get_error_ellipse_and_heading_variance,\\\n",
    "     print_particles\n",
    "from math import sin, cos, atan2, exp, pi, sqrt\n",
    "import random\n",
    "import numpy as np\n",
    "\n",
    "class Particle_1:\n",
    "    def __init__(self, pose):\n",
    "        self.pose = pose\n",
    "\n",
    "    @staticmethod\n",
    "    def g(state, control, w):\n",
    "        \"\"\"State transition. This is exactly the same method as in the Kalman\n",
    "           filter.\"\"\"\n",
    "        x, y, theta = state\n",
    "        l, r = control\n",
    "        if r != l:\n",
    "            alpha = (r - l) / w\n",
    "            rad = l/alpha\n",
    "            g1 = x + (rad + w/2.)*(sin(theta+alpha) - sin(theta))\n",
    "            g2 = y + (rad + w/2.)*(-cos(theta+alpha) + cos(theta))\n",
    "            g3 = (theta + alpha + pi) % (2*pi) - pi\n",
    "        else:\n",
    "            g1 = x + l * cos(theta)\n",
    "            g2 = y + l * sin(theta)\n",
    "            g3 = theta\n",
    "        return np.array([g1, g2, g3])\n",
    "\n",
    "    def move(self, left, right, w):\n",
    "        \"\"\"Given left, right control and robot width, move the robot.\"\"\"\n",
    "        self.pose = self.g(self.pose, (left, right), w)"
   ]
  },
  {
   "cell_type": "markdown",
   "metadata": {
    "deletable": false,
    "editable": false,
    "nbgrader": {
     "cell_type": "markdown",
     "checksum": "f8ea877cc9711d0eccebd7c67c6cd5a4",
     "grade": false,
     "grade_id": "cell-a7cc5a4b200f254f",
     "locked": true,
     "schema_version": 3,
     "solution": false,
     "task": false
    }
   },
   "source": [
    "### The particle filter class.\n",
    "We call this class `FastSLAM`. So far, we only implement the prediction step. This is identical to the prediction step we had earlier in Unit E."
   ]
  },
  {
   "cell_type": "code",
   "execution_count": 171,
   "metadata": {},
   "outputs": [],
   "source": [
    "class FastSLAM_1:\n",
    "    def __init__(self, initial_particles,\n",
    "                 robot_width, scanner_displacement,\n",
    "                 control_motion_factor, control_turn_factor):\n",
    "        # The particles.\n",
    "        self.particles = initial_particles\n",
    "\n",
    "        # Some constants.\n",
    "        self.robot_width = robot_width\n",
    "        self.scanner_displacement = scanner_displacement\n",
    "        self.control_motion_factor = control_motion_factor\n",
    "        self.control_turn_factor = control_turn_factor\n",
    "\n",
    "    def predict(self, control):\n",
    "        \"\"\"The prediction step of the particle filter.\"\"\"\n",
    "        left, right = control\n",
    "        left_std  = sqrt((self.control_motion_factor * left)**2 +\\\n",
    "                        (self.control_turn_factor * (left-right))**2)\n",
    "        right_std = sqrt((self.control_motion_factor * right)**2 +\\\n",
    "                         (self.control_turn_factor * (left-right))**2)\n",
    "        # Modify list of particles: for each particle, predict its new position.\n",
    "        for p in self.particles:\n",
    "            l = random.gauss(left, left_std)\n",
    "            r = random.gauss(right, right_std)\n",
    "            p.move(l, r, self.robot_width)"
   ]
  },
  {
   "cell_type": "markdown",
   "metadata": {
    "deletable": false,
    "editable": false,
    "nbgrader": {
     "cell_type": "markdown",
     "checksum": "c91b658ceb61c6209fd289b84b64fbfd",
     "grade": false,
     "grade_id": "cell-fa9c7b3334fa7e06",
     "locked": true,
     "schema_version": 3,
     "solution": false,
     "task": false
    }
   },
   "source": [
    "### The main function.\n",
    "Here is the remaining main function. Run it to produce the results from the video."
   ]
  },
  {
   "cell_type": "code",
   "execution_count": 172,
   "metadata": {},
   "outputs": [],
   "source": [
    "if __name__ == '__main__':\n",
    "    # Robot constants.\n",
    "    scanner_displacement = 30.0\n",
    "    ticks_to_mm = 0.349\n",
    "    robot_width = 155.0\n",
    "\n",
    "    # Filter constants.\n",
    "    control_motion_factor = 0.35  # Error in motor control.\n",
    "    control_turn_factor = 0.6  # Additional error due to slip when turning.\n",
    "\n",
    "    # Generate initial particles. Each particle is (x, y, theta).\n",
    "    number_of_particles = 25\n",
    "    start_state = np.array([500.0, 0.0, 45.0 / 180.0 * pi])\n",
    "    initial_particles = [Particle_1(start_state.copy())\n",
    "                         for _ in range(number_of_particles)]\n",
    "\n",
    "    # Setup filter.\n",
    "    fs = FastSLAM_1(initial_particles,\n",
    "                    robot_width, scanner_displacement,\n",
    "                    control_motion_factor, control_turn_factor)\n",
    "\n",
    "    # Read data.\n",
    "    logfile = LegoLogfile()\n",
    "    logfile.read(\"robot4_motors.txt\")\n",
    "\n",
    "    # Loop over all motor tick records.\n",
    "    # This is the FastSLAM filter loop, prediction only.\n",
    "    f = open(\"fast_slam_prediction.txt\", \"w\")\n",
    "    for i in range(len(logfile.motor_ticks)):\n",
    "        # Prediction.\n",
    "        control = [x * ticks_to_mm for x in logfile.motor_ticks[i]]\n",
    "        fs.predict(control)\n",
    "\n",
    "        # Output particles.\n",
    "        print_particles(fs.particles, f)\n",
    "\n",
    "        # Output state estimated from all particles.\n",
    "        mean = get_mean(fs.particles)\n",
    "        print(\"F %.0f %.0f %.3f\" %\\\n",
    "              (mean[0] + scanner_displacement * cos(mean[2]),\n",
    "               mean[1] + scanner_displacement * sin(mean[2]),\n",
    "               mean[2]), file=f)\n",
    "\n",
    "        # Output error ellipse and standard deviation of heading.\n",
    "        errors = get_error_ellipse_and_heading_variance(fs.particles, mean)\n",
    "        print(\"E %.3f %.0f %.0f %.3f\" % errors, file=f)\n",
    "\n",
    "    f.close()"
   ]
  },
  {
   "cell_type": "markdown",
   "metadata": {
    "deletable": false,
    "editable": false,
    "nbgrader": {
     "cell_type": "markdown",
     "checksum": "285828f17a796fe2978df109f8b584e8",
     "grade": false,
     "grade_id": "cell-e132646d3fc97de4",
     "locked": true,
     "schema_version": 3,
     "solution": false,
     "task": false
    }
   },
   "source": [
    "### Let's have a look at the prediction.\n",
    "As there is no landmark handling so far, there is no correction, and the result is the same as the prediction-only solution of Unit E.\n",
    "\n",
    "You may run the following cell to compare with the results in the video. Note that each time you run the cell above (main), you will get a different result, because of the random sampling going on in `FastSLAM_1.predict()`. So it may fit more or less to the results shown in the video."
   ]
  },
  {
   "cell_type": "code",
   "execution_count": 173,
   "metadata": {},
   "outputs": [
    {
     "data": {
      "image/svg+xml": "<?xml version=\"1.0\" encoding=\"utf-8\" standalone=\"no\"?>\r\n<!DOCTYPE svg PUBLIC \"-//W3C//DTD SVG 1.1//EN\"\r\n  \"http://www.w3.org/Graphics/SVG/1.1/DTD/svg11.dtd\">\r\n<!-- Created with matplotlib (https://matplotlib.org/) -->\r\n<svg height=\"289.7pt\" version=\"1.1\" viewBox=\"0 0 289.7 289.7\" width=\"289.7pt\" xmlns=\"http://www.w3.org/2000/svg\" xmlns:xlink=\"http://www.w3.org/1999/xlink\">\r\n <metadata>\r\n  <rdf:RDF xmlns:cc=\"http://creativecommons.org/ns#\" xmlns:dc=\"http://purl.org/dc/elements/1.1/\" xmlns:rdf=\"http://www.w3.org/1999/02/22-rdf-syntax-ns#\">\r\n   <cc:Work>\r\n    <dc:type rdf:resource=\"http://purl.org/dc/dcmitype/StillImage\"/>\r\n    <dc:date>2022-01-21T15:58:00.007204</dc:date>\r\n    <dc:format>image/svg+xml</dc:format>\r\n    <dc:creator>\r\n     <cc:Agent>\r\n      <dc:title>Matplotlib v3.3.4, https://matplotlib.org/</dc:title>\r\n     </cc:Agent>\r\n    </dc:creator>\r\n   </cc:Work>\r\n  </rdf:RDF>\r\n </metadata>\r\n <defs>\r\n  <style type=\"text/css\">*{stroke-linecap:butt;stroke-linejoin:round;}</style>\r\n </defs>\r\n <g id=\"figure_1\">\r\n  <g id=\"patch_1\">\r\n   <path d=\"M 0 289.7 \r\nL 289.7 289.7 \r\nL 289.7 0 \r\nL 0 0 \r\nz\r\n\" style=\"fill:none;\"/>\r\n  </g>\r\n  <g id=\"axes_1\">\r\n   <g id=\"patch_2\">\r\n    <path d=\"M 10.7 279 \r\nL 282.5 279 \r\nL 282.5 7.2 \r\nL 10.7 7.2 \r\nz\r\n\" style=\"fill:#ffffff;\"/>\r\n   </g>\r\n   <g id=\"matplotlib.axis_1\"/>\r\n   <g id=\"matplotlib.axis_2\"/>\r\n   <g id=\"patch_3\">\r\n    <path d=\"M 10.7 279 \r\nL 10.7 7.2 \r\n\" style=\"fill:none;stroke:#000000;stroke-linecap:square;stroke-linejoin:miter;stroke-width:0.8;\"/>\r\n   </g>\r\n   <g id=\"patch_4\">\r\n    <path d=\"M 282.5 279 \r\nL 282.5 7.2 \r\n\" style=\"fill:none;stroke:#000000;stroke-linecap:square;stroke-linejoin:miter;stroke-width:0.8;\"/>\r\n   </g>\r\n   <g id=\"patch_5\">\r\n    <path d=\"M 10.7 279 \r\nL 282.5 279 \r\n\" style=\"fill:none;stroke:#000000;stroke-linecap:square;stroke-linejoin:miter;stroke-width:0.8;\"/>\r\n   </g>\r\n   <g id=\"patch_6\">\r\n    <path d=\"M 10.7 7.2 \r\nL 282.5 7.2 \r\n\" style=\"fill:none;stroke:#000000;stroke-linecap:square;stroke-linejoin:miter;stroke-width:0.8;\"/>\r\n   </g>\r\n   <g id=\"PathCollection_1\">\r\n    <defs>\r\n     <path d=\"M 0 1 \r\nC 0.265203 1 0.51958 0.894634 0.707107 0.707107 \r\nC 0.894634 0.51958 1 0.265203 1 0 \r\nC 1 -0.265203 0.894634 -0.51958 0.707107 -0.707107 \r\nC 0.51958 -0.894634 0.265203 -1 0 -1 \r\nC -0.265203 -1 -0.51958 -0.894634 -0.707107 -0.707107 \r\nC -0.894634 -0.51958 -1 -0.265203 -1 0 \r\nC -1 0.265203 -0.894634 0.51958 -0.707107 0.707107 \r\nC -0.51958 0.894634 -0.265203 1 0 1 \r\nz\r\n\" id=\"mb3c61264aa\" style=\"stroke:#add8e6;\"/>\r\n    </defs>\r\n    <g clip-path=\"url(#pd2f33941c4)\">\r\n     <use style=\"fill:#add8e6;stroke:#add8e6;\" x=\"79.776976\" xlink:href=\"#mb3c61264aa\" y=\"276.215707\"/>\r\n     <use style=\"fill:#add8e6;stroke:#add8e6;\" x=\"79.776976\" xlink:href=\"#mb3c61264aa\" y=\"276.215707\"/>\r\n     <use style=\"fill:#add8e6;stroke:#add8e6;\" x=\"79.776976\" xlink:href=\"#mb3c61264aa\" y=\"276.215707\"/>\r\n     <use style=\"fill:#add8e6;stroke:#add8e6;\" x=\"79.776976\" xlink:href=\"#mb3c61264aa\" y=\"276.215707\"/>\r\n     <use style=\"fill:#add8e6;stroke:#add8e6;\" x=\"79.776976\" xlink:href=\"#mb3c61264aa\" y=\"276.215707\"/>\r\n     <use style=\"fill:#add8e6;stroke:#add8e6;\" x=\"79.776976\" xlink:href=\"#mb3c61264aa\" y=\"276.215707\"/>\r\n     <use style=\"fill:#add8e6;stroke:#add8e6;\" x=\"79.776976\" xlink:href=\"#mb3c61264aa\" y=\"276.215707\"/>\r\n     <use style=\"fill:#add8e6;stroke:#add8e6;\" x=\"79.776976\" xlink:href=\"#mb3c61264aa\" y=\"276.215707\"/>\r\n     <use style=\"fill:#add8e6;stroke:#add8e6;\" x=\"79.776976\" xlink:href=\"#mb3c61264aa\" y=\"276.215707\"/>\r\n     <use style=\"fill:#add8e6;stroke:#add8e6;\" x=\"79.776976\" xlink:href=\"#mb3c61264aa\" y=\"276.215707\"/>\r\n     <use style=\"fill:#add8e6;stroke:#add8e6;\" x=\"79.776976\" xlink:href=\"#mb3c61264aa\" y=\"276.215707\"/>\r\n     <use style=\"fill:#add8e6;stroke:#add8e6;\" x=\"79.776976\" xlink:href=\"#mb3c61264aa\" y=\"276.215707\"/>\r\n     <use style=\"fill:#add8e6;stroke:#add8e6;\" x=\"79.776976\" xlink:href=\"#mb3c61264aa\" y=\"276.215707\"/>\r\n     <use style=\"fill:#add8e6;stroke:#add8e6;\" x=\"82.296098\" xlink:href=\"#mb3c61264aa\" y=\"273.961756\"/>\r\n     <use style=\"fill:#add8e6;stroke:#add8e6;\" x=\"86.538829\" xlink:href=\"#mb3c61264aa\" y=\"269.85161\"/>\r\n     <use style=\"fill:#add8e6;stroke:#add8e6;\" x=\"90.781561\" xlink:href=\"#mb3c61264aa\" y=\"266.006634\"/>\r\n     <use style=\"fill:#add8e6;stroke:#add8e6;\" x=\"95.156878\" xlink:href=\"#mb3c61264aa\" y=\"262.294244\"/>\r\n     <use style=\"fill:#add8e6;stroke:#add8e6;\" x=\"95.156878\" xlink:href=\"#mb3c61264aa\" y=\"262.294244\"/>\r\n     <use style=\"fill:#add8e6;stroke:#add8e6;\" x=\"99.66478\" xlink:href=\"#mb3c61264aa\" y=\"258.051512\"/>\r\n     <use style=\"fill:#add8e6;stroke:#add8e6;\" x=\"103.774927\" xlink:href=\"#mb3c61264aa\" y=\"254.604293\"/>\r\n     <use style=\"fill:#add8e6;stroke:#add8e6;\" x=\"107.885073\" xlink:href=\"#mb3c61264aa\" y=\"250.891902\"/>\r\n     <use style=\"fill:#add8e6;stroke:#add8e6;\" x=\"111.862634\" xlink:href=\"#mb3c61264aa\" y=\"247.312098\"/>\r\n     <use style=\"fill:#add8e6;stroke:#add8e6;\" x=\"111.862634\" xlink:href=\"#mb3c61264aa\" y=\"247.312098\"/>\r\n     <use style=\"fill:#add8e6;stroke:#add8e6;\" x=\"115.575024\" xlink:href=\"#mb3c61264aa\" y=\"243.732293\"/>\r\n     <use style=\"fill:#add8e6;stroke:#add8e6;\" x=\"119.42\" xlink:href=\"#mb3c61264aa\" y=\"240.550244\"/>\r\n     <use style=\"fill:#add8e6;stroke:#add8e6;\" x=\"119.42\" xlink:href=\"#mb3c61264aa\" y=\"240.550244\"/>\r\n     <use style=\"fill:#add8e6;stroke:#add8e6;\" x=\"123.13239\" xlink:href=\"#mb3c61264aa\" y=\"237.765951\"/>\r\n     <use style=\"fill:#add8e6;stroke:#add8e6;\" x=\"127.905463\" xlink:href=\"#mb3c61264aa\" y=\"234.451317\"/>\r\n     <use style=\"fill:#add8e6;stroke:#add8e6;\" x=\"132.01561\" xlink:href=\"#mb3c61264aa\" y=\"231.269268\"/>\r\n     <use style=\"fill:#add8e6;stroke:#add8e6;\" x=\"136.523512\" xlink:href=\"#mb3c61264aa\" y=\"227.556878\"/>\r\n     <use style=\"fill:#add8e6;stroke:#add8e6;\" x=\"140.633659\" xlink:href=\"#mb3c61264aa\" y=\"224.64\"/>\r\n     <use style=\"fill:#add8e6;stroke:#add8e6;\" x=\"140.633659\" xlink:href=\"#mb3c61264aa\" y=\"224.64\"/>\r\n     <use style=\"fill:#add8e6;stroke:#add8e6;\" x=\"144.87639\" xlink:href=\"#mb3c61264aa\" y=\"221.723122\"/>\r\n     <use style=\"fill:#add8e6;stroke:#add8e6;\" x=\"148.721366\" xlink:href=\"#mb3c61264aa\" y=\"218.673659\"/>\r\n     <use style=\"fill:#add8e6;stroke:#add8e6;\" x=\"152.698927\" xlink:href=\"#mb3c61264aa\" y=\"215.624195\"/>\r\n     <use style=\"fill:#add8e6;stroke:#add8e6;\" x=\"152.698927\" xlink:href=\"#mb3c61264aa\" y=\"215.624195\"/>\r\n     <use style=\"fill:#add8e6;stroke:#add8e6;\" x=\"156.543902\" xlink:href=\"#mb3c61264aa\" y=\"212.442146\"/>\r\n     <use style=\"fill:#add8e6;stroke:#add8e6;\" x=\"159.858537\" xlink:href=\"#mb3c61264aa\" y=\"209.657854\"/>\r\n     <use style=\"fill:#add8e6;stroke:#add8e6;\" x=\"163.305756\" xlink:href=\"#mb3c61264aa\" y=\"206.60839\"/>\r\n     <use style=\"fill:#add8e6;stroke:#add8e6;\" x=\"166.885561\" xlink:href=\"#mb3c61264aa\" y=\"203.028585\"/>\r\n     <use style=\"fill:#add8e6;stroke:#add8e6;\" x=\"166.885561\" xlink:href=\"#mb3c61264aa\" y=\"203.028585\"/>\r\n     <use style=\"fill:#add8e6;stroke:#add8e6;\" x=\"170.200195\" xlink:href=\"#mb3c61264aa\" y=\"200.244293\"/>\r\n     <use style=\"fill:#add8e6;stroke:#add8e6;\" x=\"173.647415\" xlink:href=\"#mb3c61264aa\" y=\"196.531902\"/>\r\n     <use style=\"fill:#add8e6;stroke:#add8e6;\" x=\"176.962049\" xlink:href=\"#mb3c61264aa\" y=\"193.084683\"/>\r\n     <use style=\"fill:#add8e6;stroke:#add8e6;\" x=\"176.962049\" xlink:href=\"#mb3c61264aa\" y=\"193.084683\"/>\r\n     <use style=\"fill:#add8e6;stroke:#add8e6;\" x=\"180.144098\" xlink:href=\"#mb3c61264aa\" y=\"189.637463\"/>\r\n     <use style=\"fill:#add8e6;stroke:#add8e6;\" x=\"183.060976\" xlink:href=\"#mb3c61264aa\" y=\"186.057659\"/>\r\n     <use style=\"fill:#add8e6;stroke:#add8e6;\" x=\"186.243024\" xlink:href=\"#mb3c61264aa\" y=\"182.345268\"/>\r\n     <use style=\"fill:#add8e6;stroke:#add8e6;\" x=\"189.557659\" xlink:href=\"#mb3c61264aa\" y=\"179.030634\"/>\r\n     <use style=\"fill:#add8e6;stroke:#add8e6;\" x=\"189.557659\" xlink:href=\"#mb3c61264aa\" y=\"179.030634\"/>\r\n     <use style=\"fill:#add8e6;stroke:#add8e6;\" x=\"192.209366\" xlink:href=\"#mb3c61264aa\" y=\"175.185659\"/>\r\n     <use style=\"fill:#add8e6;stroke:#add8e6;\" x=\"194.595902\" xlink:href=\"#mb3c61264aa\" y=\"171.473268\"/>\r\n     <use style=\"fill:#add8e6;stroke:#add8e6;\" x=\"197.115024\" xlink:href=\"#mb3c61264aa\" y=\"167.893463\"/>\r\n     <use style=\"fill:#add8e6;stroke:#add8e6;\" x=\"197.115024\" xlink:href=\"#mb3c61264aa\" y=\"167.893463\"/>\r\n     <use style=\"fill:#add8e6;stroke:#add8e6;\" x=\"199.368976\" xlink:href=\"#mb3c61264aa\" y=\"163.915902\"/>\r\n     <use style=\"fill:#add8e6;stroke:#add8e6;\" x=\"201.622927\" xlink:href=\"#mb3c61264aa\" y=\"160.203512\"/>\r\n     <use style=\"fill:#add8e6;stroke:#add8e6;\" x=\"204.274634\" xlink:href=\"#mb3c61264aa\" y=\"156.225951\"/>\r\n     <use style=\"fill:#add8e6;stroke:#add8e6;\" x=\"204.274634\" xlink:href=\"#mb3c61264aa\" y=\"156.225951\"/>\r\n     <use style=\"fill:#add8e6;stroke:#add8e6;\" x=\"206.528585\" xlink:href=\"#mb3c61264aa\" y=\"152.380976\"/>\r\n     <use style=\"fill:#add8e6;stroke:#add8e6;\" x=\"209.047707\" xlink:href=\"#mb3c61264aa\" y=\"148.933756\"/>\r\n     <use style=\"fill:#add8e6;stroke:#add8e6;\" x=\"211.169073\" xlink:href=\"#mb3c61264aa\" y=\"145.353951\"/>\r\n     <use style=\"fill:#add8e6;stroke:#add8e6;\" x=\"212.229756\" xlink:href=\"#mb3c61264aa\" y=\"141.37639\"/>\r\n     <use style=\"fill:#add8e6;stroke:#add8e6;\" x=\"212.229756\" xlink:href=\"#mb3c61264aa\" y=\"141.37639\"/>\r\n     <use style=\"fill:#add8e6;stroke:#add8e6;\" x=\"213.290439\" xlink:href=\"#mb3c61264aa\" y=\"136.868488\"/>\r\n     <use style=\"fill:#add8e6;stroke:#add8e6;\" x=\"214.218537\" xlink:href=\"#mb3c61264aa\" y=\"132.625756\"/>\r\n     <use style=\"fill:#add8e6;stroke:#add8e6;\" x=\"213.82078\" xlink:href=\"#mb3c61264aa\" y=\"127.985268\"/>\r\n     <use style=\"fill:#add8e6;stroke:#add8e6;\" x=\"213.423024\" xlink:href=\"#mb3c61264aa\" y=\"124.007707\"/>\r\n     <use style=\"fill:#add8e6;stroke:#add8e6;\" x=\"213.423024\" xlink:href=\"#mb3c61264aa\" y=\"124.007707\"/>\r\n     <use style=\"fill:#add8e6;stroke:#add8e6;\" x=\"213.157854\" xlink:href=\"#mb3c61264aa\" y=\"120.295317\"/>\r\n     <use style=\"fill:#add8e6;stroke:#add8e6;\" x=\"212.097171\" xlink:href=\"#mb3c61264aa\" y=\"116.715512\"/>\r\n     <use style=\"fill:#add8e6;stroke:#add8e6;\" x=\"211.036488\" xlink:href=\"#mb3c61264aa\" y=\"113.798634\"/>\r\n     <use style=\"fill:#add8e6;stroke:#add8e6;\" x=\"209.975805\" xlink:href=\"#mb3c61264aa\" y=\"110.616585\"/>\r\n     <use style=\"fill:#add8e6;stroke:#add8e6;\" x=\"209.975805\" xlink:href=\"#mb3c61264aa\" y=\"110.616585\"/>\r\n     <use style=\"fill:#add8e6;stroke:#add8e6;\" x=\"207.589268\" xlink:href=\"#mb3c61264aa\" y=\"108.230049\"/>\r\n     <use style=\"fill:#add8e6;stroke:#add8e6;\" x=\"205.070146\" xlink:href=\"#mb3c61264aa\" y=\"105.976098\"/>\r\n     <use style=\"fill:#add8e6;stroke:#add8e6;\" x=\"202.020683\" xlink:href=\"#mb3c61264aa\" y=\"104.915415\"/>\r\n     <use style=\"fill:#add8e6;stroke:#add8e6;\" x=\"202.020683\" xlink:href=\"#mb3c61264aa\" y=\"104.915415\"/>\r\n     <use style=\"fill:#add8e6;stroke:#add8e6;\" x=\"198.706049\" xlink:href=\"#mb3c61264aa\" y=\"104.252488\"/>\r\n     <use style=\"fill:#add8e6;stroke:#add8e6;\" x=\"196.186927\" xlink:href=\"#mb3c61264aa\" y=\"104.385073\"/>\r\n     <use style=\"fill:#add8e6;stroke:#add8e6;\" x=\"193.667805\" xlink:href=\"#mb3c61264aa\" y=\"104.915415\"/>\r\n     <use style=\"fill:#add8e6;stroke:#add8e6;\" x=\"193.667805\" xlink:href=\"#mb3c61264aa\" y=\"104.915415\"/>\r\n     <use style=\"fill:#add8e6;stroke:#add8e6;\" x=\"191.413854\" xlink:href=\"#mb3c61264aa\" y=\"106.108683\"/>\r\n     <use style=\"fill:#add8e6;stroke:#add8e6;\" x=\"189.557659\" xlink:href=\"#mb3c61264aa\" y=\"107.169366\"/>\r\n     <use style=\"fill:#add8e6;stroke:#add8e6;\" x=\"187.171122\" xlink:href=\"#mb3c61264aa\" y=\"108.76039\"/>\r\n     <use style=\"fill:#add8e6;stroke:#add8e6;\" x=\"184.784585\" xlink:href=\"#mb3c61264aa\" y=\"110.351415\"/>\r\n     <use style=\"fill:#add8e6;stroke:#add8e6;\" x=\"184.784585\" xlink:href=\"#mb3c61264aa\" y=\"110.351415\"/>\r\n     <use style=\"fill:#add8e6;stroke:#add8e6;\" x=\"183.458732\" xlink:href=\"#mb3c61264aa\" y=\"112.20761\"/>\r\n     <use style=\"fill:#add8e6;stroke:#add8e6;\" x=\"181.735122\" xlink:href=\"#mb3c61264aa\" y=\"114.328976\"/>\r\n     <use style=\"fill:#add8e6;stroke:#add8e6;\" x=\"181.337366\" xlink:href=\"#mb3c61264aa\" y=\"116.848098\"/>\r\n     <use style=\"fill:#add8e6;stroke:#add8e6;\" x=\"181.337366\" xlink:href=\"#mb3c61264aa\" y=\"116.848098\"/>\r\n     <use style=\"fill:#add8e6;stroke:#add8e6;\" x=\"180.144098\" xlink:href=\"#mb3c61264aa\" y=\"119.63239\"/>\r\n     <use style=\"fill:#add8e6;stroke:#add8e6;\" x=\"178.420488\" xlink:href=\"#mb3c61264aa\" y=\"122.549268\"/>\r\n     <use style=\"fill:#add8e6;stroke:#add8e6;\" x=\"176.962049\" xlink:href=\"#mb3c61264aa\" y=\"125.06839\"/>\r\n     <use style=\"fill:#add8e6;stroke:#add8e6;\" x=\"175.371024\" xlink:href=\"#mb3c61264aa\" y=\"127.720098\"/>\r\n     <use style=\"fill:#add8e6;stroke:#add8e6;\" x=\"175.371024\" xlink:href=\"#mb3c61264aa\" y=\"127.720098\"/>\r\n     <use style=\"fill:#add8e6;stroke:#add8e6;\" x=\"174.045171\" xlink:href=\"#mb3c61264aa\" y=\"130.50439\"/>\r\n     <use style=\"fill:#add8e6;stroke:#add8e6;\" x=\"172.719317\" xlink:href=\"#mb3c61264aa\" y=\"133.288683\"/>\r\n     <use style=\"fill:#add8e6;stroke:#add8e6;\" x=\"171.260878\" xlink:href=\"#mb3c61264aa\" y=\"135.94039\"/>\r\n     <use style=\"fill:#add8e6;stroke:#add8e6;\" x=\"169.669854\" xlink:href=\"#mb3c61264aa\" y=\"138.724683\"/>\r\n     <use style=\"fill:#add8e6;stroke:#add8e6;\" x=\"169.669854\" xlink:href=\"#mb3c61264aa\" y=\"138.724683\"/>\r\n     <use style=\"fill:#add8e6;stroke:#add8e6;\" x=\"168.476585\" xlink:href=\"#mb3c61264aa\" y=\"140.713463\"/>\r\n     <use style=\"fill:#add8e6;stroke:#add8e6;\" x=\"167.415902\" xlink:href=\"#mb3c61264aa\" y=\"143.365171\"/>\r\n     <use style=\"fill:#add8e6;stroke:#add8e6;\" x=\"165.692293\" xlink:href=\"#mb3c61264aa\" y=\"145.884293\"/>\r\n     <use style=\"fill:#add8e6;stroke:#add8e6;\" x=\"165.692293\" xlink:href=\"#mb3c61264aa\" y=\"145.884293\"/>\r\n     <use style=\"fill:#add8e6;stroke:#add8e6;\" x=\"164.499024\" xlink:href=\"#mb3c61264aa\" y=\"148.403415\"/>\r\n     <use style=\"fill:#add8e6;stroke:#add8e6;\" x=\"163.040585\" xlink:href=\"#mb3c61264aa\" y=\"151.055122\"/>\r\n     <use style=\"fill:#add8e6;stroke:#add8e6;\" x=\"161.449561\" xlink:href=\"#mb3c61264aa\" y=\"153.309073\"/>\r\n     <use style=\"fill:#add8e6;stroke:#add8e6;\" x=\"160.123707\" xlink:href=\"#mb3c61264aa\" y=\"155.96078\"/>\r\n     <use style=\"fill:#add8e6;stroke:#add8e6;\" x=\"160.123707\" xlink:href=\"#mb3c61264aa\" y=\"155.96078\"/>\r\n     <use style=\"fill:#add8e6;stroke:#add8e6;\" x=\"158.797854\" xlink:href=\"#mb3c61264aa\" y=\"158.479902\"/>\r\n     <use style=\"fill:#add8e6;stroke:#add8e6;\" x=\"157.869756\" xlink:href=\"#mb3c61264aa\" y=\"160.733854\"/>\r\n     <use style=\"fill:#add8e6;stroke:#add8e6;\" x=\"157.472\" xlink:href=\"#mb3c61264aa\" y=\"163.650732\"/>\r\n     <use style=\"fill:#add8e6;stroke:#add8e6;\" x=\"157.472\" xlink:href=\"#mb3c61264aa\" y=\"163.650732\"/>\r\n     <use style=\"fill:#add8e6;stroke:#add8e6;\" x=\"157.869756\" xlink:href=\"#mb3c61264aa\" y=\"166.435024\"/>\r\n     <use style=\"fill:#add8e6;stroke:#add8e6;\" x=\"159.063024\" xlink:href=\"#mb3c61264aa\" y=\"168.954146\"/>\r\n     <use style=\"fill:#add8e6;stroke:#add8e6;\" x=\"159.991122\" xlink:href=\"#mb3c61264aa\" y=\"170.942927\"/>\r\n     <use style=\"fill:#add8e6;stroke:#add8e6;\" x=\"159.991122\" xlink:href=\"#mb3c61264aa\" y=\"170.942927\"/>\r\n     <use style=\"fill:#add8e6;stroke:#add8e6;\" x=\"160.786634\" xlink:href=\"#mb3c61264aa\" y=\"172.136195\"/>\r\n     <use style=\"fill:#add8e6;stroke:#add8e6;\" x=\"161.979902\" xlink:href=\"#mb3c61264aa\" y=\"173.462049\"/>\r\n     <use style=\"fill:#add8e6;stroke:#add8e6;\" x=\"163.173171\" xlink:href=\"#mb3c61264aa\" y=\"174.124976\"/>\r\n     <use style=\"fill:#add8e6;stroke:#add8e6;\" x=\"163.836098\" xlink:href=\"#mb3c61264aa\" y=\"174.920488\"/>\r\n     <use style=\"fill:#add8e6;stroke:#add8e6;\" x=\"163.836098\" xlink:href=\"#mb3c61264aa\" y=\"174.920488\"/>\r\n     <use style=\"fill:#add8e6;stroke:#add8e6;\" x=\"165.029366\" xlink:href=\"#mb3c61264aa\" y=\"175.185659\"/>\r\n     <use style=\"fill:#add8e6;stroke:#add8e6;\" x=\"166.090049\" xlink:href=\"#mb3c61264aa\" y=\"175.848585\"/>\r\n     <use style=\"fill:#add8e6;stroke:#add8e6;\" x=\"168.476585\" xlink:href=\"#mb3c61264aa\" y=\"176.378927\"/>\r\n     <use style=\"fill:#add8e6;stroke:#add8e6;\" x=\"168.476585\" xlink:href=\"#mb3c61264aa\" y=\"176.378927\"/>\r\n     <use style=\"fill:#add8e6;stroke:#add8e6;\" x=\"170.200195\" xlink:href=\"#mb3c61264aa\" y=\"176.644098\"/>\r\n     <use style=\"fill:#add8e6;stroke:#add8e6;\" x=\"171.526049\" xlink:href=\"#mb3c61264aa\" y=\"176.113756\"/>\r\n     <use style=\"fill:#add8e6;stroke:#add8e6;\" x=\"173.514829\" xlink:href=\"#mb3c61264aa\" y=\"175.185659\"/>\r\n     <use style=\"fill:#add8e6;stroke:#add8e6;\" x=\"174.708098\" xlink:href=\"#mb3c61264aa\" y=\"174.655317\"/>\r\n     <use style=\"fill:#add8e6;stroke:#add8e6;\" x=\"174.708098\" xlink:href=\"#mb3c61264aa\" y=\"174.655317\"/>\r\n     <use style=\"fill:#add8e6;stroke:#add8e6;\" x=\"176.696878\" xlink:href=\"#mb3c61264aa\" y=\"173.859805\"/>\r\n     <use style=\"fill:#add8e6;stroke:#add8e6;\" x=\"178.287902\" xlink:href=\"#mb3c61264aa\" y=\"172.931707\"/>\r\n     <use style=\"fill:#add8e6;stroke:#add8e6;\" x=\"179.481171\" xlink:href=\"#mb3c61264aa\" y=\"171.738439\"/>\r\n     <use style=\"fill:#add8e6;stroke:#add8e6;\" x=\"179.481171\" xlink:href=\"#mb3c61264aa\" y=\"171.738439\"/>\r\n     <use style=\"fill:#add8e6;stroke:#add8e6;\" x=\"180.93961\" xlink:href=\"#mb3c61264aa\" y=\"171.075512\"/>\r\n     <use style=\"fill:#add8e6;stroke:#add8e6;\" x=\"182.000293\" xlink:href=\"#mb3c61264aa\" y=\"169.882244\"/>\r\n     <use style=\"fill:#add8e6;stroke:#add8e6;\" x=\"183.458732\" xlink:href=\"#mb3c61264aa\" y=\"168.423805\"/>\r\n     <use style=\"fill:#add8e6;stroke:#add8e6;\" x=\"183.458732\" xlink:href=\"#mb3c61264aa\" y=\"168.423805\"/>\r\n     <use style=\"fill:#add8e6;stroke:#add8e6;\" x=\"185.049756\" xlink:href=\"#mb3c61264aa\" y=\"167.628293\"/>\r\n     <use style=\"fill:#add8e6;stroke:#add8e6;\" x=\"186.64078\" xlink:href=\"#mb3c61264aa\" y=\"167.097951\"/>\r\n     <use style=\"fill:#add8e6;stroke:#add8e6;\" x=\"188.496976\" xlink:href=\"#mb3c61264aa\" y=\"167.230537\"/>\r\n     <use style=\"fill:#add8e6;stroke:#add8e6;\" x=\"190.220585\" xlink:href=\"#mb3c61264aa\" y=\"166.700195\"/>\r\n     <use style=\"fill:#add8e6;stroke:#add8e6;\" x=\"191.546439\" xlink:href=\"#mb3c61264aa\" y=\"166.169854\"/>\r\n     <use style=\"fill:#add8e6;stroke:#add8e6;\" x=\"191.546439\" xlink:href=\"#mb3c61264aa\" y=\"166.169854\"/>\r\n     <use style=\"fill:#add8e6;stroke:#add8e6;\" x=\"193.004878\" xlink:href=\"#mb3c61264aa\" y=\"166.169854\"/>\r\n     <use style=\"fill:#add8e6;stroke:#add8e6;\" x=\"194.728488\" xlink:href=\"#mb3c61264aa\" y=\"166.169854\"/>\r\n     <use style=\"fill:#add8e6;stroke:#add8e6;\" x=\"195.921756\" xlink:href=\"#mb3c61264aa\" y=\"165.772098\"/>\r\n     <use style=\"fill:#add8e6;stroke:#add8e6;\" x=\"195.921756\" xlink:href=\"#mb3c61264aa\" y=\"165.772098\"/>\r\n     <use style=\"fill:#add8e6;stroke:#add8e6;\" x=\"197.645366\" xlink:href=\"#mb3c61264aa\" y=\"165.109171\"/>\r\n     <use style=\"fill:#add8e6;stroke:#add8e6;\" x=\"199.103805\" xlink:href=\"#mb3c61264aa\" y=\"164.578829\"/>\r\n     <use style=\"fill:#add8e6;stroke:#add8e6;\" x=\"199.103805\" xlink:href=\"#mb3c61264aa\" y=\"162.85522\"/>\r\n     <use style=\"fill:#add8e6;stroke:#add8e6;\" x=\"199.899317\" xlink:href=\"#mb3c61264aa\" y=\"161.661951\"/>\r\n     <use style=\"fill:#add8e6;stroke:#add8e6;\" x=\"199.899317\" xlink:href=\"#mb3c61264aa\" y=\"161.661951\"/>\r\n     <use style=\"fill:#add8e6;stroke:#add8e6;\" x=\"199.501561\" xlink:href=\"#mb3c61264aa\" y=\"160.070927\"/>\r\n     <use style=\"fill:#add8e6;stroke:#add8e6;\" x=\"198.440878\" xlink:href=\"#mb3c61264aa\" y=\"159.275415\"/>\r\n     <use style=\"fill:#add8e6;stroke:#add8e6;\" x=\"198.043122\" xlink:href=\"#mb3c61264aa\" y=\"158.214732\"/>\r\n     <use style=\"fill:#add8e6;stroke:#add8e6;\" x=\"198.043122\" xlink:href=\"#mb3c61264aa\" y=\"158.214732\"/>\r\n     <use style=\"fill:#add8e6;stroke:#add8e6;\" x=\"197.645366\" xlink:href=\"#mb3c61264aa\" y=\"157.41922\"/>\r\n     <use style=\"fill:#add8e6;stroke:#add8e6;\" x=\"196.584683\" xlink:href=\"#mb3c61264aa\" y=\"157.021463\"/>\r\n     <use style=\"fill:#add8e6;stroke:#add8e6;\" x=\"194.595902\" xlink:href=\"#mb3c61264aa\" y=\"156.756293\"/>\r\n     <use style=\"fill:#add8e6;stroke:#add8e6;\" x=\"193.402634\" xlink:href=\"#mb3c61264aa\" y=\"157.154049\"/>\r\n     <use style=\"fill:#add8e6;stroke:#add8e6;\" x=\"193.402634\" xlink:href=\"#mb3c61264aa\" y=\"157.154049\"/>\r\n     <use style=\"fill:#add8e6;stroke:#add8e6;\" x=\"192.474537\" xlink:href=\"#mb3c61264aa\" y=\"156.888878\"/>\r\n     <use style=\"fill:#add8e6;stroke:#add8e6;\" x=\"190.618341\" xlink:href=\"#mb3c61264aa\" y=\"157.816976\"/>\r\n     <use style=\"fill:#add8e6;stroke:#add8e6;\" x=\"189.027317\" xlink:href=\"#mb3c61264aa\" y=\"157.68439\"/>\r\n     <use style=\"fill:#add8e6;stroke:#add8e6;\" x=\"189.027317\" xlink:href=\"#mb3c61264aa\" y=\"157.68439\"/>\r\n     <use style=\"fill:#add8e6;stroke:#add8e6;\" x=\"187.568878\" xlink:href=\"#mb3c61264aa\" y=\"157.154049\"/>\r\n     <use style=\"fill:#add8e6;stroke:#add8e6;\" x=\"186.37561\" xlink:href=\"#mb3c61264aa\" y=\"156.756293\"/>\r\n     <use style=\"fill:#add8e6;stroke:#add8e6;\" x=\"185.182341\" xlink:href=\"#mb3c61264aa\" y=\"155.96078\"/>\r\n     <use style=\"fill:#add8e6;stroke:#add8e6;\" x=\"183.723902\" xlink:href=\"#mb3c61264aa\" y=\"156.093366\"/>\r\n     <use style=\"fill:#add8e6;stroke:#add8e6;\" x=\"183.723902\" xlink:href=\"#mb3c61264aa\" y=\"156.093366\"/>\r\n     <use style=\"fill:#add8e6;stroke:#add8e6;\" x=\"182.398049\" xlink:href=\"#mb3c61264aa\" y=\"155.96078\"/>\r\n     <use style=\"fill:#add8e6;stroke:#add8e6;\" x=\"181.469951\" xlink:href=\"#mb3c61264aa\" y=\"155.297854\"/>\r\n     <use style=\"fill:#add8e6;stroke:#add8e6;\" x=\"180.011512\" xlink:href=\"#mb3c61264aa\" y=\"154.900098\"/>\r\n     <use style=\"fill:#add8e6;stroke:#add8e6;\" x=\"177.757561\" xlink:href=\"#mb3c61264aa\" y=\"155.297854\"/>\r\n     <use style=\"fill:#add8e6;stroke:#add8e6;\" x=\"177.757561\" xlink:href=\"#mb3c61264aa\" y=\"155.297854\"/>\r\n     <use style=\"fill:#add8e6;stroke:#add8e6;\" x=\"176.166537\" xlink:href=\"#mb3c61264aa\" y=\"155.69561\"/>\r\n     <use style=\"fill:#add8e6;stroke:#add8e6;\" x=\"174.442927\" xlink:href=\"#mb3c61264aa\" y=\"155.69561\"/>\r\n     <use style=\"fill:#add8e6;stroke:#add8e6;\" x=\"172.984488\" xlink:href=\"#mb3c61264aa\" y=\"156.093366\"/>\r\n     <use style=\"fill:#add8e6;stroke:#add8e6;\" x=\"172.984488\" xlink:href=\"#mb3c61264aa\" y=\"156.093366\"/>\r\n     <use style=\"fill:#add8e6;stroke:#add8e6;\" x=\"171.923805\" xlink:href=\"#mb3c61264aa\" y=\"156.491122\"/>\r\n     <use style=\"fill:#add8e6;stroke:#add8e6;\" x=\"170.863122\" xlink:href=\"#mb3c61264aa\" y=\"156.623707\"/>\r\n     <use style=\"fill:#add8e6;stroke:#add8e6;\" x=\"169.537268\" xlink:href=\"#mb3c61264aa\" y=\"157.551805\"/>\r\n     <use style=\"fill:#add8e6;stroke:#add8e6;\" x=\"169.537268\" xlink:href=\"#mb3c61264aa\" y=\"157.551805\"/>\r\n     <use style=\"fill:#add8e6;stroke:#add8e6;\" x=\"167.946244\" xlink:href=\"#mb3c61264aa\" y=\"157.949561\"/>\r\n     <use style=\"fill:#add8e6;stroke:#add8e6;\" x=\"167.018146\" xlink:href=\"#mb3c61264aa\" y=\"159.275415\"/>\r\n     <use style=\"fill:#add8e6;stroke:#add8e6;\" x=\"166.35522\" xlink:href=\"#mb3c61264aa\" y=\"160.866439\"/>\r\n     <use style=\"fill:#add8e6;stroke:#add8e6;\" x=\"165.559707\" xlink:href=\"#mb3c61264aa\" y=\"162.324878\"/>\r\n     <use style=\"fill:#add8e6;stroke:#add8e6;\" x=\"165.559707\" xlink:href=\"#mb3c61264aa\" y=\"162.324878\"/>\r\n     <use style=\"fill:#add8e6;stroke:#add8e6;\" x=\"165.161951\" xlink:href=\"#mb3c61264aa\" y=\"163.12039\"/>\r\n     <use style=\"fill:#add8e6;stroke:#add8e6;\" x=\"165.029366\" xlink:href=\"#mb3c61264aa\" y=\"164.578829\"/>\r\n     <use style=\"fill:#add8e6;stroke:#add8e6;\" x=\"165.294537\" xlink:href=\"#mb3c61264aa\" y=\"166.037268\"/>\r\n     <use style=\"fill:#add8e6;stroke:#add8e6;\" x=\"165.427122\" xlink:href=\"#mb3c61264aa\" y=\"167.230537\"/>\r\n     <use style=\"fill:#add8e6;stroke:#add8e6;\" x=\"165.427122\" xlink:href=\"#mb3c61264aa\" y=\"167.230537\"/>\r\n     <use style=\"fill:#add8e6;stroke:#add8e6;\" x=\"164.101268\" xlink:href=\"#mb3c61264aa\" y=\"168.29122\"/>\r\n     <use style=\"fill:#add8e6;stroke:#add8e6;\" x=\"164.366439\" xlink:href=\"#mb3c61264aa\" y=\"169.484488\"/>\r\n     <use style=\"fill:#add8e6;stroke:#add8e6;\" x=\"164.764195\" xlink:href=\"#mb3c61264aa\" y=\"170.545171\"/>\r\n     <use style=\"fill:#add8e6;stroke:#add8e6;\" x=\"164.764195\" xlink:href=\"#mb3c61264aa\" y=\"170.545171\"/>\r\n     <use style=\"fill:#add8e6;stroke:#add8e6;\" x=\"164.233854\" xlink:href=\"#mb3c61264aa\" y=\"171.605854\"/>\r\n     <use style=\"fill:#add8e6;stroke:#add8e6;\" x=\"163.305756\" xlink:href=\"#mb3c61264aa\" y=\"172.26878\"/>\r\n     <use style=\"fill:#add8e6;stroke:#add8e6;\" x=\"163.836098\" xlink:href=\"#mb3c61264aa\" y=\"172.931707\"/>\r\n     <use style=\"fill:#add8e6;stroke:#add8e6;\" x=\"163.570927\" xlink:href=\"#mb3c61264aa\" y=\"173.72722\"/>\r\n     <use style=\"fill:#add8e6;stroke:#add8e6;\" x=\"163.570927\" xlink:href=\"#mb3c61264aa\" y=\"173.72722\"/>\r\n     <use style=\"fill:#add8e6;stroke:#add8e6;\" x=\"162.642829\" xlink:href=\"#mb3c61264aa\" y=\"173.99239\"/>\r\n     <use style=\"fill:#add8e6;stroke:#add8e6;\" x=\"162.775415\" xlink:href=\"#mb3c61264aa\" y=\"174.787902\"/>\r\n     <use style=\"fill:#add8e6;stroke:#add8e6;\" x=\"163.438341\" xlink:href=\"#mb3c61264aa\" y=\"175.318244\"/>\r\n     <use style=\"fill:#add8e6;stroke:#add8e6;\" x=\"163.438341\" xlink:href=\"#mb3c61264aa\" y=\"175.318244\"/>\r\n     <use style=\"fill:#add8e6;stroke:#add8e6;\" x=\"163.968683\" xlink:href=\"#mb3c61264aa\" y=\"176.246341\"/>\r\n     <use style=\"fill:#add8e6;stroke:#add8e6;\" x=\"164.89678\" xlink:href=\"#mb3c61264aa\" y=\"176.776683\"/>\r\n     <use style=\"fill:#add8e6;stroke:#add8e6;\" x=\"164.63161\" xlink:href=\"#mb3c61264aa\" y=\"177.174439\"/>\r\n     <use style=\"fill:#add8e6;stroke:#add8e6;\" x=\"164.63161\" xlink:href=\"#mb3c61264aa\" y=\"177.174439\"/>\r\n     <use style=\"fill:#add8e6;stroke:#add8e6;\" x=\"165.029366\" xlink:href=\"#mb3c61264aa\" y=\"176.776683\"/>\r\n     <use style=\"fill:#add8e6;stroke:#add8e6;\" x=\"164.764195\" xlink:href=\"#mb3c61264aa\" y=\"177.174439\"/>\r\n     <use style=\"fill:#add8e6;stroke:#add8e6;\" x=\"166.090049\" xlink:href=\"#mb3c61264aa\" y=\"177.572195\"/>\r\n     <use style=\"fill:#add8e6;stroke:#add8e6;\" x=\"167.415902\" xlink:href=\"#mb3c61264aa\" y=\"177.307024\"/>\r\n     <use style=\"fill:#add8e6;stroke:#add8e6;\" x=\"167.415902\" xlink:href=\"#mb3c61264aa\" y=\"177.307024\"/>\r\n     <use style=\"fill:#add8e6;stroke:#add8e6;\" x=\"167.150732\" xlink:href=\"#mb3c61264aa\" y=\"178.102537\"/>\r\n     <use style=\"fill:#add8e6;stroke:#add8e6;\" x=\"161.316976\" xlink:href=\"#mb3c61264aa\" y=\"173.859805\"/>\r\n     <use style=\"fill:#add8e6;stroke:#add8e6;\" x=\"168.344\" xlink:href=\"#mb3c61264aa\" y=\"177.174439\"/>\r\n     <use style=\"fill:#add8e6;stroke:#add8e6;\" x=\"169.139512\" xlink:href=\"#mb3c61264aa\" y=\"173.594634\"/>\r\n     <use style=\"fill:#add8e6;stroke:#add8e6;\" x=\"169.139512\" xlink:href=\"#mb3c61264aa\" y=\"173.594634\"/>\r\n     <use style=\"fill:#add8e6;stroke:#add8e6;\" x=\"169.272098\" xlink:href=\"#mb3c61264aa\" y=\"174.787902\"/>\r\n     <use style=\"fill:#add8e6;stroke:#add8e6;\" x=\"169.139512\" xlink:href=\"#mb3c61264aa\" y=\"175.583415\"/>\r\n     <use style=\"fill:#add8e6;stroke:#add8e6;\" x=\"168.741756\" xlink:href=\"#mb3c61264aa\" y=\"171.738439\"/>\r\n     <use style=\"fill:#add8e6;stroke:#add8e6;\" x=\"168.741756\" xlink:href=\"#mb3c61264aa\" y=\"171.738439\"/>\r\n     <use style=\"fill:#add8e6;stroke:#add8e6;\" x=\"168.609171\" xlink:href=\"#mb3c61264aa\" y=\"170.545171\"/>\r\n     <use style=\"fill:#add8e6;stroke:#add8e6;\" x=\"168.344\" xlink:href=\"#mb3c61264aa\" y=\"169.882244\"/>\r\n     <use style=\"fill:#add8e6;stroke:#add8e6;\" x=\"167.946244\" xlink:href=\"#mb3c61264aa\" y=\"169.617073\"/>\r\n     <use style=\"fill:#add8e6;stroke:#add8e6;\" x=\"168.741756\" xlink:href=\"#mb3c61264aa\" y=\"169.749659\"/>\r\n     <use style=\"fill:#add8e6;stroke:#add8e6;\" x=\"168.741756\" xlink:href=\"#mb3c61264aa\" y=\"169.749659\"/>\r\n     <use style=\"fill:#add8e6;stroke:#add8e6;\" x=\"168.609171\" xlink:href=\"#mb3c61264aa\" y=\"169.219317\"/>\r\n     <use style=\"fill:#add8e6;stroke:#add8e6;\" x=\"168.874341\" xlink:href=\"#mb3c61264aa\" y=\"168.55639\"/>\r\n     <use style=\"fill:#add8e6;stroke:#add8e6;\" x=\"168.874341\" xlink:href=\"#mb3c61264aa\" y=\"167.893463\"/>\r\n     <use style=\"fill:#add8e6;stroke:#add8e6;\" x=\"168.874341\" xlink:href=\"#mb3c61264aa\" y=\"167.893463\"/>\r\n     <use style=\"fill:#add8e6;stroke:#add8e6;\" x=\"168.344\" xlink:href=\"#mb3c61264aa\" y=\"166.965366\"/>\r\n     <use style=\"fill:#add8e6;stroke:#add8e6;\" x=\"169.404683\" xlink:href=\"#mb3c61264aa\" y=\"166.965366\"/>\r\n     <use style=\"fill:#add8e6;stroke:#add8e6;\" x=\"168.874341\" xlink:href=\"#mb3c61264aa\" y=\"165.904683\"/>\r\n     <use style=\"fill:#add8e6;stroke:#add8e6;\" x=\"169.669854\" xlink:href=\"#mb3c61264aa\" y=\"165.506927\"/>\r\n     <use style=\"fill:#add8e6;stroke:#add8e6;\" x=\"169.669854\" xlink:href=\"#mb3c61264aa\" y=\"165.506927\"/>\r\n     <use style=\"fill:#add8e6;stroke:#add8e6;\" x=\"169.802439\" xlink:href=\"#mb3c61264aa\" y=\"164.578829\"/>\r\n     <use style=\"fill:#add8e6;stroke:#add8e6;\" x=\"170.465366\" xlink:href=\"#mb3c61264aa\" y=\"163.783317\"/>\r\n     <use style=\"fill:#add8e6;stroke:#add8e6;\" x=\"170.200195\" xlink:href=\"#mb3c61264aa\" y=\"163.12039\"/>\r\n     <use style=\"fill:#add8e6;stroke:#add8e6;\" x=\"170.200195\" xlink:href=\"#mb3c61264aa\" y=\"163.12039\"/>\r\n     <use style=\"fill:#add8e6;stroke:#add8e6;\" x=\"169.935024\" xlink:href=\"#mb3c61264aa\" y=\"162.324878\"/>\r\n     <use style=\"fill:#add8e6;stroke:#add8e6;\" x=\"167.946244\" xlink:href=\"#mb3c61264aa\" y=\"162.192293\"/>\r\n     <use style=\"fill:#add8e6;stroke:#add8e6;\" x=\"167.150732\" xlink:href=\"#mb3c61264aa\" y=\"161.39678\"/>\r\n     <use style=\"fill:#add8e6;stroke:#add8e6;\" x=\"169.404683\" xlink:href=\"#mb3c61264aa\" y=\"160.999024\"/>\r\n     <use style=\"fill:#add8e6;stroke:#add8e6;\" x=\"169.404683\" xlink:href=\"#mb3c61264aa\" y=\"160.999024\"/>\r\n     <use style=\"fill:#add8e6;stroke:#add8e6;\" x=\"167.813659\" xlink:href=\"#mb3c61264aa\" y=\"160.468683\"/>\r\n     <use style=\"fill:#add8e6;stroke:#add8e6;\" x=\"166.222634\" xlink:href=\"#mb3c61264aa\" y=\"160.601268\"/>\r\n     <use style=\"fill:#add8e6;stroke:#add8e6;\" x=\"166.222634\" xlink:href=\"#mb3c61264aa\" y=\"160.070927\"/>\r\n     <use style=\"fill:#add8e6;stroke:#add8e6;\" x=\"166.222634\" xlink:href=\"#mb3c61264aa\" y=\"160.070927\"/>\r\n     <use style=\"fill:#add8e6;stroke:#add8e6;\" x=\"164.89678\" xlink:href=\"#mb3c61264aa\" y=\"159.805756\"/>\r\n     <use style=\"fill:#add8e6;stroke:#add8e6;\" x=\"163.968683\" xlink:href=\"#mb3c61264aa\" y=\"161.264195\"/>\r\n     <use style=\"fill:#add8e6;stroke:#add8e6;\" x=\"163.305756\" xlink:href=\"#mb3c61264aa\" y=\"161.39678\"/>\r\n     <use style=\"fill:#add8e6;stroke:#add8e6;\" x=\"163.836098\" xlink:href=\"#mb3c61264aa\" y=\"159.673171\"/>\r\n     <use style=\"fill:#add8e6;stroke:#add8e6;\" x=\"163.836098\" xlink:href=\"#mb3c61264aa\" y=\"159.673171\"/>\r\n     <use style=\"fill:#add8e6;stroke:#add8e6;\" x=\"162.775415\" xlink:href=\"#mb3c61264aa\" y=\"161.794537\"/>\r\n     <use style=\"fill:#add8e6;stroke:#add8e6;\" x=\"162.245073\" xlink:href=\"#mb3c61264aa\" y=\"162.987805\"/>\r\n     <use style=\"fill:#add8e6;stroke:#add8e6;\" x=\"162.510244\" xlink:href=\"#mb3c61264aa\" y=\"164.711415\"/>\r\n     <use style=\"fill:#add8e6;stroke:#add8e6;\" x=\"162.510244\" xlink:href=\"#mb3c61264aa\" y=\"164.711415\"/>\r\n     <use style=\"fill:#add8e6;stroke:#add8e6;\" x=\"162.510244\" xlink:href=\"#mb3c61264aa\" y=\"165.506927\"/>\r\n     <use style=\"fill:#add8e6;stroke:#add8e6;\" x=\"162.775415\" xlink:href=\"#mb3c61264aa\" y=\"166.169854\"/>\r\n     <use style=\"fill:#add8e6;stroke:#add8e6;\" x=\"161.714732\" xlink:href=\"#mb3c61264aa\" y=\"165.506927\"/>\r\n     <use style=\"fill:#add8e6;stroke:#add8e6;\" x=\"161.714732\" xlink:href=\"#mb3c61264aa\" y=\"165.506927\"/>\r\n     <use style=\"fill:#add8e6;stroke:#add8e6;\" x=\"161.316976\" xlink:href=\"#mb3c61264aa\" y=\"165.772098\"/>\r\n     <use style=\"fill:#add8e6;stroke:#add8e6;\" x=\"159.858537\" xlink:href=\"#mb3c61264aa\" y=\"164.181073\"/>\r\n     <use style=\"fill:#add8e6;stroke:#add8e6;\" x=\"159.593366\" xlink:href=\"#mb3c61264aa\" y=\"163.12039\"/>\r\n     <use style=\"fill:#add8e6;stroke:#add8e6;\" x=\"159.593366\" xlink:href=\"#mb3c61264aa\" y=\"161.39678\"/>\r\n     <use style=\"fill:#add8e6;stroke:#add8e6;\" x=\"159.725951\" xlink:href=\"#mb3c61264aa\" y=\"161.13161\"/>\r\n     <use style=\"fill:#add8e6;stroke:#add8e6;\" x=\"159.725951\" xlink:href=\"#mb3c61264aa\" y=\"161.13161\"/>\r\n     <use style=\"fill:#add8e6;stroke:#add8e6;\" x=\"159.725951\" xlink:href=\"#mb3c61264aa\" y=\"161.13161\"/>\r\n     <use style=\"fill:#add8e6;stroke:#add8e6;\" x=\"159.725951\" xlink:href=\"#mb3c61264aa\" y=\"161.13161\"/>\r\n     <use style=\"fill:#add8e6;stroke:#add8e6;\" x=\"159.725951\" xlink:href=\"#mb3c61264aa\" y=\"161.13161\"/>\r\n     <use style=\"fill:#add8e6;stroke:#add8e6;\" x=\"159.725951\" xlink:href=\"#mb3c61264aa\" y=\"161.13161\"/>\r\n     <use style=\"fill:#add8e6;stroke:#add8e6;\" x=\"159.725951\" xlink:href=\"#mb3c61264aa\" y=\"161.13161\"/>\r\n     <use style=\"fill:#add8e6;stroke:#add8e6;\" x=\"159.725951\" xlink:href=\"#mb3c61264aa\" y=\"161.13161\"/>\r\n    </g>\r\n   </g>\r\n   <g id=\"line2d_1\">\r\n    <path clip-path=\"url(#pd2f33941c4)\" d=\"M 79.776976 276.215707 \r\nL 82.296098 273.961756 \r\nL 86.538829 269.85161 \r\nL 90.781561 266.006634 \r\nL 95.156878 262.294244 \r\nL 95.156878 262.294244 \r\nL 99.66478 258.051512 \r\nL 103.774927 254.604293 \r\nL 111.862634 247.312098 \r\nL 111.862634 247.312098 \r\nL 115.575024 243.732293 \r\nL 119.42 240.550244 \r\nL 119.42 240.550244 \r\nL 123.13239 237.765951 \r\nL 127.905463 234.451317 \r\nL 132.01561 231.269268 \r\nL 136.523512 227.556878 \r\nL 144.87639 221.723122 \r\nL 156.543902 212.442146 \r\nL 159.858537 209.657854 \r\nL 163.305756 206.60839 \r\nL 166.885561 203.028585 \r\nL 166.885561 203.028585 \r\nL 170.200195 200.244293 \r\nL 180.144098 189.637463 \r\nL 183.060976 186.057659 \r\nL 186.243024 182.345268 \r\nL 189.557659 179.030634 \r\nL 189.557659 179.030634 \r\nL 192.209366 175.185659 \r\nL 194.595902 171.473268 \r\nL 197.115024 167.893463 \r\nL 197.115024 167.893463 \r\nL 199.368976 163.915902 \r\nL 201.622927 160.203512 \r\nL 204.274634 156.225951 \r\nL 204.274634 156.225951 \r\nL 206.528585 152.380976 \r\nL 209.047707 148.933756 \r\nL 211.169073 145.353951 \r\nL 212.229756 141.37639 \r\nL 212.229756 141.37639 \r\nL 214.218537 132.625756 \r\nL 213.157854 120.295317 \r\nL 212.097171 116.715512 \r\nL 209.975805 110.616585 \r\nL 209.975805 110.616585 \r\nL 207.589268 108.230049 \r\nL 205.070146 105.976098 \r\nL 202.020683 104.915415 \r\nL 202.020683 104.915415 \r\nL 198.706049 104.252488 \r\nL 196.186927 104.385073 \r\nL 193.667805 104.915415 \r\nL 193.667805 104.915415 \r\nL 189.557659 107.169366 \r\nL 184.784585 110.351415 \r\nL 184.784585 110.351415 \r\nL 183.458732 112.20761 \r\nL 181.735122 114.328976 \r\nL 181.337366 116.848098 \r\nL 181.337366 116.848098 \r\nL 180.144098 119.63239 \r\nL 175.371024 127.720098 \r\nL 175.371024 127.720098 \r\nL 172.719317 133.288683 \r\nL 169.669854 138.724683 \r\nL 169.669854 138.724683 \r\nL 168.476585 140.713463 \r\nL 167.415902 143.365171 \r\nL 165.692293 145.884293 \r\nL 165.692293 145.884293 \r\nL 164.499024 148.403415 \r\nL 163.040585 151.055122 \r\nL 161.449561 153.309073 \r\nL 158.797854 158.479902 \r\nL 157.869756 160.733854 \r\nL 157.472 163.650732 \r\nL 157.472 163.650732 \r\nL 157.869756 166.435024 \r\nL 159.991122 170.942927 \r\nL 159.991122 170.942927 \r\nL 160.786634 172.136195 \r\nL 161.979902 173.462049 \r\nL 163.173171 174.124976 \r\nL 163.836098 174.920488 \r\nL 163.836098 174.920488 \r\nL 165.029366 175.185659 \r\nL 166.090049 175.848585 \r\nL 168.476585 176.378927 \r\nL 168.476585 176.378927 \r\nL 170.200195 176.644098 \r\nL 171.526049 176.113756 \r\nL 174.708098 174.655317 \r\nL 174.708098 174.655317 \r\nL 176.696878 173.859805 \r\nL 178.287902 172.931707 \r\nL 179.481171 171.738439 \r\nL 179.481171 171.738439 \r\nL 180.93961 171.075512 \r\nL 182.000293 169.882244 \r\nL 183.458732 168.423805 \r\nL 183.458732 168.423805 \r\nL 185.049756 167.628293 \r\nL 186.64078 167.097951 \r\nL 188.496976 167.230537 \r\nL 190.220585 166.700195 \r\nL 191.546439 166.169854 \r\nL 191.546439 166.169854 \r\nL 194.728488 166.169854 \r\nL 197.645366 165.109171 \r\nL 199.103805 164.578829 \r\nL 199.103805 162.85522 \r\nL 199.899317 161.661951 \r\nL 199.899317 161.661951 \r\nL 199.501561 160.070927 \r\nL 198.440878 159.275415 \r\nL 197.645366 157.41922 \r\nL 196.584683 157.021463 \r\nL 194.595902 156.756293 \r\nL 193.402634 157.154049 \r\nL 193.402634 157.154049 \r\nL 192.474537 156.888878 \r\nL 190.618341 157.816976 \r\nL 189.027317 157.68439 \r\nL 189.027317 157.68439 \r\nL 186.37561 156.756293 \r\nL 185.182341 155.96078 \r\nL 183.723902 156.093366 \r\nL 183.723902 156.093366 \r\nL 182.398049 155.96078 \r\nL 181.469951 155.297854 \r\nL 180.011512 154.900098 \r\nL 177.757561 155.297854 \r\nL 177.757561 155.297854 \r\nL 176.166537 155.69561 \r\nL 174.442927 155.69561 \r\nL 170.863122 156.623707 \r\nL 169.537268 157.551805 \r\nL 169.537268 157.551805 \r\nL 167.946244 157.949561 \r\nL 167.018146 159.275415 \r\nL 166.35522 160.866439 \r\nL 165.161951 163.12039 \r\nL 165.029366 164.578829 \r\nL 165.427122 167.230537 \r\nL 165.427122 167.230537 \r\nL 164.101268 168.29122 \r\nL 164.366439 169.484488 \r\nL 164.764195 170.545171 \r\nL 164.764195 170.545171 \r\nL 164.233854 171.605854 \r\nL 163.305756 172.26878 \r\nL 163.836098 172.931707 \r\nL 163.570927 173.72722 \r\nL 163.570927 173.72722 \r\nL 162.642829 173.99239 \r\nL 162.775415 174.787902 \r\nL 163.438341 175.318244 \r\nL 163.438341 175.318244 \r\nL 163.968683 176.246341 \r\nL 164.89678 176.776683 \r\nL 164.63161 177.174439 \r\nL 165.029366 176.776683 \r\nL 164.764195 177.174439 \r\nL 166.090049 177.572195 \r\nL 167.415902 177.307024 \r\nL 167.415902 177.307024 \r\nL 167.150732 178.102537 \r\nL 161.316976 173.859805 \r\nL 168.344 177.174439 \r\nL 169.139512 173.594634 \r\nL 169.139512 173.594634 \r\nL 169.272098 174.787902 \r\nL 169.139512 175.583415 \r\nL 168.609171 170.545171 \r\nL 168.344 169.882244 \r\nL 167.946244 169.617073 \r\nL 168.741756 169.749659 \r\nL 168.609171 169.219317 \r\nL 168.874341 168.55639 \r\nL 168.874341 167.893463 \r\nL 168.874341 167.893463 \r\nL 168.344 166.965366 \r\nL 169.404683 166.965366 \r\nL 168.874341 165.904683 \r\nL 169.669854 165.506927 \r\nL 169.669854 165.506927 \r\nL 169.802439 164.578829 \r\nL 170.465366 163.783317 \r\nL 169.935024 162.324878 \r\nL 167.946244 162.192293 \r\nL 167.150732 161.39678 \r\nL 169.404683 160.999024 \r\nL 169.404683 160.999024 \r\nL 167.813659 160.468683 \r\nL 166.222634 160.601268 \r\nL 166.222634 160.070927 \r\nL 166.222634 160.070927 \r\nL 164.89678 159.805756 \r\nL 163.968683 161.264195 \r\nL 163.305756 161.39678 \r\nL 163.836098 159.673171 \r\nL 163.836098 159.673171 \r\nL 162.245073 162.987805 \r\nL 162.510244 164.711415 \r\nL 162.510244 165.506927 \r\nL 162.775415 166.169854 \r\nL 161.714732 165.506927 \r\nL 161.714732 165.506927 \r\nL 161.316976 165.772098 \r\nL 159.858537 164.181073 \r\nL 159.593366 163.12039 \r\nL 159.593366 161.39678 \r\nL 159.725951 161.13161 \r\nL 159.725951 161.13161 \r\n\" style=\"fill:none;stroke:#add8e6;stroke-linecap:square;stroke-width:0.5;\"/>\r\n   </g>\r\n   <g id=\"PathCollection_2\">\r\n    <defs>\r\n     <path d=\"M 0 1 \r\nC 0.265203 1 0.51958 0.894634 0.707107 0.707107 \r\nC 0.894634 0.51958 1 0.265203 1 0 \r\nC 1 -0.265203 0.894634 -0.51958 0.707107 -0.707107 \r\nC 0.51958 -0.894634 0.265203 -1 0 -1 \r\nC -0.265203 -1 -0.51958 -0.894634 -0.707107 -0.707107 \r\nC -0.894634 -0.51958 -1 -0.265203 -1 0 \r\nC -1 0.265203 -0.894634 0.51958 -0.707107 0.707107 \r\nC -0.51958 0.894634 -0.265203 1 0 1 \r\nz\r\n\" id=\"m2edeb98a3b\" style=\"stroke:#80e080;\"/>\r\n    </defs>\r\n    <g clip-path=\"url(#pd2f33941c4)\">\r\n     <use style=\"fill:#80e080;stroke:#80e080;\" x=\"76.992683\" xlink:href=\"#m2edeb98a3b\" y=\"279\"/>\r\n     <use style=\"fill:#80e080;stroke:#80e080;\" x=\"76.992683\" xlink:href=\"#m2edeb98a3b\" y=\"279\"/>\r\n     <use style=\"fill:#80e080;stroke:#80e080;\" x=\"76.992683\" xlink:href=\"#m2edeb98a3b\" y=\"279\"/>\r\n     <use style=\"fill:#80e080;stroke:#80e080;\" x=\"76.992683\" xlink:href=\"#m2edeb98a3b\" y=\"279\"/>\r\n     <use style=\"fill:#80e080;stroke:#80e080;\" x=\"76.992683\" xlink:href=\"#m2edeb98a3b\" y=\"279\"/>\r\n     <use style=\"fill:#80e080;stroke:#80e080;\" x=\"76.992683\" xlink:href=\"#m2edeb98a3b\" y=\"279\"/>\r\n     <use style=\"fill:#80e080;stroke:#80e080;\" x=\"76.992683\" xlink:href=\"#m2edeb98a3b\" y=\"279\"/>\r\n     <use style=\"fill:#80e080;stroke:#80e080;\" x=\"76.992683\" xlink:href=\"#m2edeb98a3b\" y=\"279\"/>\r\n     <use style=\"fill:#80e080;stroke:#80e080;\" x=\"76.992683\" xlink:href=\"#m2edeb98a3b\" y=\"279\"/>\r\n     <use style=\"fill:#80e080;stroke:#80e080;\" x=\"76.992683\" xlink:href=\"#m2edeb98a3b\" y=\"279\"/>\r\n     <use style=\"fill:#80e080;stroke:#80e080;\" x=\"76.992683\" xlink:href=\"#m2edeb98a3b\" y=\"279\"/>\r\n     <use style=\"fill:#80e080;stroke:#80e080;\" x=\"76.992683\" xlink:href=\"#m2edeb98a3b\" y=\"279\"/>\r\n     <use style=\"fill:#80e080;stroke:#80e080;\" x=\"76.992683\" xlink:href=\"#m2edeb98a3b\" y=\"279\"/>\r\n     <use style=\"fill:#80e080;stroke:#80e080;\" x=\"76.992683\" xlink:href=\"#m2edeb98a3b\" y=\"279\"/>\r\n     <use style=\"fill:#80e080;stroke:#80e080;\" x=\"76.992683\" xlink:href=\"#m2edeb98a3b\" y=\"279\"/>\r\n     <use style=\"fill:#80e080;stroke:#80e080;\" x=\"76.992683\" xlink:href=\"#m2edeb98a3b\" y=\"279\"/>\r\n     <use style=\"fill:#80e080;stroke:#80e080;\" x=\"76.992683\" xlink:href=\"#m2edeb98a3b\" y=\"279\"/>\r\n     <use style=\"fill:#80e080;stroke:#80e080;\" x=\"76.992683\" xlink:href=\"#m2edeb98a3b\" y=\"279\"/>\r\n     <use style=\"fill:#80e080;stroke:#80e080;\" x=\"76.992683\" xlink:href=\"#m2edeb98a3b\" y=\"279\"/>\r\n     <use style=\"fill:#80e080;stroke:#80e080;\" x=\"76.992683\" xlink:href=\"#m2edeb98a3b\" y=\"279\"/>\r\n     <use style=\"fill:#80e080;stroke:#80e080;\" x=\"76.992683\" xlink:href=\"#m2edeb98a3b\" y=\"279\"/>\r\n     <use style=\"fill:#80e080;stroke:#80e080;\" x=\"76.992683\" xlink:href=\"#m2edeb98a3b\" y=\"279\"/>\r\n     <use style=\"fill:#80e080;stroke:#80e080;\" x=\"76.992683\" xlink:href=\"#m2edeb98a3b\" y=\"279\"/>\r\n     <use style=\"fill:#80e080;stroke:#80e080;\" x=\"76.992683\" xlink:href=\"#m2edeb98a3b\" y=\"279\"/>\r\n     <use style=\"fill:#80e080;stroke:#80e080;\" x=\"76.992683\" xlink:href=\"#m2edeb98a3b\" y=\"279\"/>\r\n    </g>\r\n   </g>\r\n   <g id=\"LineCollection_1\">\r\n    <path clip-path=\"url(#pd2f33941c4)\" d=\"M 76.992683 279 \r\nL 81.68215 274.314266 \r\n\" style=\"fill:none;stroke:#80e080;stroke-width:0.5;\"/>\r\n    <path clip-path=\"url(#pd2f33941c4)\" d=\"M 76.992683 279 \r\nL 81.68215 274.314266 \r\n\" style=\"fill:none;stroke:#80e080;stroke-width:0.5;\"/>\r\n    <path clip-path=\"url(#pd2f33941c4)\" d=\"M 76.992683 279 \r\nL 81.68215 274.314266 \r\n\" style=\"fill:none;stroke:#80e080;stroke-width:0.5;\"/>\r\n    <path clip-path=\"url(#pd2f33941c4)\" d=\"M 76.992683 279 \r\nL 81.68215 274.314266 \r\n\" style=\"fill:none;stroke:#80e080;stroke-width:0.5;\"/>\r\n    <path clip-path=\"url(#pd2f33941c4)\" d=\"M 76.992683 279 \r\nL 81.68215 274.314266 \r\n\" style=\"fill:none;stroke:#80e080;stroke-width:0.5;\"/>\r\n    <path clip-path=\"url(#pd2f33941c4)\" d=\"M 76.992683 279 \r\nL 81.68215 274.314266 \r\n\" style=\"fill:none;stroke:#80e080;stroke-width:0.5;\"/>\r\n    <path clip-path=\"url(#pd2f33941c4)\" d=\"M 76.992683 279 \r\nL 81.68215 274.314266 \r\n\" style=\"fill:none;stroke:#80e080;stroke-width:0.5;\"/>\r\n    <path clip-path=\"url(#pd2f33941c4)\" d=\"M 76.992683 279 \r\nL 81.68215 274.314266 \r\n\" style=\"fill:none;stroke:#80e080;stroke-width:0.5;\"/>\r\n    <path clip-path=\"url(#pd2f33941c4)\" d=\"M 76.992683 279 \r\nL 81.68215 274.314266 \r\n\" style=\"fill:none;stroke:#80e080;stroke-width:0.5;\"/>\r\n    <path clip-path=\"url(#pd2f33941c4)\" d=\"M 76.992683 279 \r\nL 81.68215 274.314266 \r\n\" style=\"fill:none;stroke:#80e080;stroke-width:0.5;\"/>\r\n    <path clip-path=\"url(#pd2f33941c4)\" d=\"M 76.992683 279 \r\nL 81.68215 274.314266 \r\n\" style=\"fill:none;stroke:#80e080;stroke-width:0.5;\"/>\r\n    <path clip-path=\"url(#pd2f33941c4)\" d=\"M 76.992683 279 \r\nL 81.68215 274.314266 \r\n\" style=\"fill:none;stroke:#80e080;stroke-width:0.5;\"/>\r\n    <path clip-path=\"url(#pd2f33941c4)\" d=\"M 76.992683 279 \r\nL 81.68215 274.314266 \r\n\" style=\"fill:none;stroke:#80e080;stroke-width:0.5;\"/>\r\n    <path clip-path=\"url(#pd2f33941c4)\" d=\"M 76.992683 279 \r\nL 81.68215 274.314266 \r\n\" style=\"fill:none;stroke:#80e080;stroke-width:0.5;\"/>\r\n    <path clip-path=\"url(#pd2f33941c4)\" d=\"M 76.992683 279 \r\nL 81.68215 274.314266 \r\n\" style=\"fill:none;stroke:#80e080;stroke-width:0.5;\"/>\r\n    <path clip-path=\"url(#pd2f33941c4)\" d=\"M 76.992683 279 \r\nL 81.68215 274.314266 \r\n\" style=\"fill:none;stroke:#80e080;stroke-width:0.5;\"/>\r\n    <path clip-path=\"url(#pd2f33941c4)\" d=\"M 76.992683 279 \r\nL 81.68215 274.314266 \r\n\" style=\"fill:none;stroke:#80e080;stroke-width:0.5;\"/>\r\n    <path clip-path=\"url(#pd2f33941c4)\" d=\"M 76.992683 279 \r\nL 81.68215 274.314266 \r\n\" style=\"fill:none;stroke:#80e080;stroke-width:0.5;\"/>\r\n    <path clip-path=\"url(#pd2f33941c4)\" d=\"M 76.992683 279 \r\nL 81.68215 274.314266 \r\n\" style=\"fill:none;stroke:#80e080;stroke-width:0.5;\"/>\r\n    <path clip-path=\"url(#pd2f33941c4)\" d=\"M 76.992683 279 \r\nL 81.68215 274.314266 \r\n\" style=\"fill:none;stroke:#80e080;stroke-width:0.5;\"/>\r\n    <path clip-path=\"url(#pd2f33941c4)\" d=\"M 76.992683 279 \r\nL 81.68215 274.314266 \r\n\" style=\"fill:none;stroke:#80e080;stroke-width:0.5;\"/>\r\n    <path clip-path=\"url(#pd2f33941c4)\" d=\"M 76.992683 279 \r\nL 81.68215 274.314266 \r\n\" style=\"fill:none;stroke:#80e080;stroke-width:0.5;\"/>\r\n    <path clip-path=\"url(#pd2f33941c4)\" d=\"M 76.992683 279 \r\nL 81.68215 274.314266 \r\n\" style=\"fill:none;stroke:#80e080;stroke-width:0.5;\"/>\r\n    <path clip-path=\"url(#pd2f33941c4)\" d=\"M 76.992683 279 \r\nL 81.68215 274.314266 \r\n\" style=\"fill:none;stroke:#80e080;stroke-width:0.5;\"/>\r\n    <path clip-path=\"url(#pd2f33941c4)\" d=\"M 76.992683 279 \r\nL 81.68215 274.314266 \r\n\" style=\"fill:none;stroke:#80e080;stroke-width:0.5;\"/>\r\n   </g>\r\n   <g id=\"patch_7\">\r\n    <path clip-path=\"url(#pd2f33941c4)\" d=\"M 79.776976 276.215707 \r\nC 79.776976 276.215707 79.776976 276.215707 79.776976 276.215707 \r\nC 79.776976 276.215707 79.776976 276.215707 79.776976 276.215707 \r\nC 79.776976 276.215707 79.776976 276.215707 79.776976 276.215707 \r\nC 79.776976 276.215707 79.776976 276.215707 79.776976 276.215707 \r\nC 79.776976 276.215707 79.776976 276.215707 79.776976 276.215707 \r\nC 79.776976 276.215707 79.776976 276.215707 79.776976 276.215707 \r\nC 79.776976 276.215707 79.776976 276.215707 79.776976 276.215707 \r\nC 79.776976 276.215707 79.776976 276.215707 79.776976 276.215707 \r\nz\r\n\" style=\"fill:none;stroke:#8080ff;stroke-linejoin:miter;\"/>\r\n   </g>\r\n   <g id=\"patch_8\">\r\n    <path clip-path=\"url(#pd2f33941c4)\" d=\"M 93.845375 262.158506 \r\nC 93.845375 262.158506 93.845375 262.158506 93.845375 262.158506 \r\nL 79.776976 276.215707 \r\nL 93.845375 262.158506 \r\nz\r\n\" style=\"fill:#c0c0ff;stroke:#c0c0ff;stroke-linejoin:miter;\"/>\r\n   </g>\r\n   <g id=\"PathCollection_3\">\r\n    <defs>\r\n     <path d=\"M 0 1.414214 \r\nC 0.375054 1.414214 0.734797 1.265203 1 1 \r\nC 1.265203 0.734797 1.414214 0.375054 1.414214 0 \r\nC 1.414214 -0.375054 1.265203 -0.734797 1 -1 \r\nC 0.734797 -1.265203 0.375054 -1.414214 0 -1.414214 \r\nC -0.375054 -1.414214 -0.734797 -1.265203 -1 -1 \r\nC -1.265203 -0.734797 -1.414214 -0.375054 -1.414214 0 \r\nC -1.414214 0.375054 -1.265203 0.734797 -1 1 \r\nC -0.734797 1.265203 -0.375054 1.414214 0 1.414214 \r\nz\r\n\" id=\"m21920fab1f\" style=\"stroke:#0000ff;\"/>\r\n    </defs>\r\n    <g clip-path=\"url(#pd2f33941c4)\">\r\n     <use style=\"fill:#0000ff;stroke:#0000ff;\" x=\"79.776976\" xlink:href=\"#m21920fab1f\" y=\"276.215707\"/>\r\n    </g>\r\n   </g>\r\n   <g id=\"line2d_2\">\r\n    <path clip-path=\"url(#pd2f33941c4)\" d=\"M 79.776976 276.215707 \r\nL 98.534842 257.472772 \r\n\" style=\"fill:none;stroke:#0000ff;stroke-linecap:square;stroke-width:0.5;\"/>\r\n   </g>\r\n  </g>\r\n </g>\r\n <defs>\r\n  <clipPath id=\"pd2f33941c4\">\r\n   <rect height=\"271.8\" width=\"271.8\" x=\"10.7\" y=\"7.2\"/>\r\n  </clipPath>\r\n </defs>\r\n</svg>\r\n",
      "text/plain": [
       "<Figure size 500x500 with 1 Axes>"
      ]
     },
     "metadata": {},
     "output_type": "display_data"
    }
   ],
   "source": [
    "# Execute this to run the interactive viewer.\n",
    "import ipy_logfile_viewer as lfv\n",
    "v = lfv.IPYLogfileViewer(files=[\"fast_slam_prediction.txt\"])"
   ]
  },
  {
   "cell_type": "markdown",
   "metadata": {
    "deletable": false,
    "editable": false,
    "nbgrader": {
     "cell_type": "markdown",
     "checksum": "d6f6a0377115f424366753d8e0962560",
     "grade": false,
     "grade_id": "cell-3446817631cabe40",
     "locked": true,
     "schema_version": 3,
     "solution": false,
     "task": false
    }
   },
   "source": [
    "### Programming assignment: compute the correspondence likelihood (10 Points).\n",
    "Now we move on to the parts you'll have to program.\n",
    "\n",
    "In the following cell, you will have to implement the functions `h_expected_measurement_for_landmark`, `H_Ql_jacobian_and_measurement_covariance_for_landmark`, and `wl_likelihood_of_correspondence`, as indicated. Note each of those is only very few lines of code, as explained in the above video."
   ]
  },
  {
   "cell_type": "code",
   "execution_count": 174,
   "metadata": {
    "deletable": false,
    "nbgrader": {
     "cell_type": "code",
     "checksum": "e1474f26c4dd36dc8fa88e6fd509110d",
     "grade": false,
     "grade_id": "cell-4c25e6213b2a09bf",
     "locked": false,
     "schema_version": 3,
     "solution": true,
     "task": false
    }
   },
   "outputs": [],
   "source": [
    "# slam_10_b_correspondence_likelihood\n",
    "class Particle_2(Particle_1):\n",
    "    def __init__(self, pose):\n",
    "        super().__init__(pose)\n",
    "        self.landmark_positions = []\n",
    "        self.landmark_covariances = []\n",
    "\n",
    "    def number_of_landmarks(self):\n",
    "        \"\"\"Utility: return current number of landmarks in this particle.\"\"\"\n",
    "        return len(self.landmark_positions)\n",
    "\n",
    "    @staticmethod\n",
    "    def h(state, landmark, scanner_displacement):\n",
    "        \"\"\"Measurement function. Takes a (x, y, theta) state and a (x, y)\n",
    "           landmark, and returns the corresponding (range, bearing).\"\"\"\n",
    "        dx = landmark[0] - (state[0] + scanner_displacement * cos(state[2]))\n",
    "        dy = landmark[1] - (state[1] + scanner_displacement * sin(state[2]))\n",
    "        r = sqrt(dx * dx + dy * dy)\n",
    "        alpha = (atan2(dy, dx) - state[2] + pi) % (2*pi) - pi\n",
    "        return np.array([r, alpha])\n",
    "\n",
    "    @staticmethod\n",
    "    def dh_dlandmark(state, landmark, scanner_displacement):\n",
    "        \"\"\"Derivative with respect to the landmark coordinates. This is related\n",
    "           to the dh_dstate function we used earlier (it is:\n",
    "           -dh_dstate[0:2,0:2]).\"\"\"\n",
    "        theta = state[2]\n",
    "        cost, sint = cos(theta), sin(theta)\n",
    "        dx = landmark[0] - (state[0] + scanner_displacement * cost)\n",
    "        dy = landmark[1] - (state[1] + scanner_displacement * sint)\n",
    "        q = dx * dx + dy * dy\n",
    "        sqrtq = sqrt(q)\n",
    "        dr_dmx = dx / sqrtq\n",
    "        dr_dmy = dy / sqrtq\n",
    "        dalpha_dmx = -dy / q\n",
    "        dalpha_dmy =  dx / q\n",
    "\n",
    "        return np.array([[dr_dmx, dr_dmy],\n",
    "                         [dalpha_dmx, dalpha_dmy]])\n",
    "\n",
    "    def h_expected_measurement_for_landmark(self, landmark_number,\n",
    "                                            scanner_displacement):\n",
    "        \"\"\"Returns the expected distance and bearing measurement for a given\n",
    "           landmark number and the pose of this particle.\"\"\"\n",
    "        # Note: This is just one line of code!\n",
    "        # Hints:\n",
    "        # - the static function h() computes the desired value\n",
    "        # - the state is the robot's pose\n",
    "        # - the landmark is taken from self.landmark_positions.\n",
    "        # YOUR CODE HERE\n",
    "\n",
    "        return self.h(self.pose,self.landmark_positions[landmark_number], scanner_displacement)\n",
    "\n",
    "    def H_Ql_jacobian_and_measurement_covariance_for_landmark(\n",
    "        self, landmark_number, Qt_measurement_covariance, scanner_displacement):\n",
    "        \"\"\"Computes Jacobian H of measurement function at the particle's\n",
    "           position and the landmark given by landmark_number. Also computes the\n",
    "           measurement covariance matrix.\"\"\"\n",
    "        # Hints:\n",
    "        # - H is computed using dh_dlandmark.\n",
    "        # - To compute Ql, you will need the product of two matrices,\n",
    "        #   which is A @ B (or alternatively, np.dot(A, B)).\n",
    "#         H = np.eye(2)  # Replace this.\n",
    "#         Ql = np.eye(2)  # Replace this.\n",
    "        # YOUR CODE HERE\n",
    "        H = self.dh_dlandmark(self.pose,self.landmark_positions[landmark_number], scanner_displacement)\n",
    "        Sigma_k = self.landmark_covariances[landmark_number]\n",
    "        Ql = np.dot(H, np.dot(Sigma_k,H.T)) + Qt_measurement_covariance\n",
    "        return (H, Ql)\n",
    "\n",
    "    def wl_likelihood_of_correspondence(self, measurement,\n",
    "                                        landmark_number,\n",
    "                                        Qt_measurement_covariance,\n",
    "                                        scanner_displacement):\n",
    "        \"\"\"For a given measurement and landmark_number, returns the likelihood\n",
    "           that the measurement corresponds to the landmark.\"\"\"\n",
    "        # Hints:\n",
    "        # - You will need delta_z, which is the measurement minus the\n",
    "        #   expected_measurement_for_landmark()\n",
    "        \n",
    "        delta_z = measurement - self.h_expected_measurement_for_landmark( landmark_number, scanner_displacement )\n",
    "        delta_z[1] = (delta_z[1]+np.pi) % (2*np.pi) - np.pi\n",
    "   \n",
    "        # - IMPORTANT: Correct the angle component of delta_z to prevent\n",
    "        #   multiples of 2 pi! Use something like:\n",
    "        #   delta_z[1] = (delta_z[1]+np.pi) % (2*np.pi) - np.pi\n",
    "        # - Ql is obtained using a call to\n",
    "        #   H_Ql_jacobian_and_measurement_covariance_for_landmark(). You\n",
    "        #   will only need Ql, not H\n",
    "        \n",
    "        H,Ql = self.H_Ql_jacobian_and_measurement_covariance_for_landmark( landmark_number,Qt_measurement_covariance,scanner_displacement )\n",
    "\n",
    "        \n",
    "        # - np.linalg.det(A) computes the determinant of A\n",
    "        # - np.linalg.inv(A) computes the inverse of A.\n",
    "        # YOUR CODE HERE\n",
    "        \n",
    "        detQl = np.linalg.det(Ql)\n",
    "        e_factor = -0.5 * np.dot(delta_z.T, np.dot(np.linalg.inv(Ql),delta_z ))\n",
    "        l = exp(e_factor)/(2*pi*sqrt(detQl))\n",
    "\n",
    "        return l\n",
    "\n",
    "\n",
    "        \n",
    "    def compute_correspondence_likelihoods(self, measurement,\n",
    "                                           number_of_landmarks,\n",
    "                                           Qt_measurement_covariance,\n",
    "                                           scanner_displacement):\n",
    "        \"\"\"For a given measurement, returns a list of all correspondence\n",
    "           likelihoods (from index 0 to number_of_landmarks-1).\"\"\"\n",
    "        likelihoods = []\n",
    "        for i in range(number_of_landmarks):\n",
    "            likelihoods.append(\n",
    "                self.wl_likelihood_of_correspondence(\n",
    "                    measurement, i, Qt_measurement_covariance,\n",
    "                    scanner_displacement))\n",
    "        return likelihoods"
   ]
  },
  {
   "cell_type": "markdown",
   "metadata": {
    "deletable": false,
    "editable": false,
    "nbgrader": {
     "cell_type": "markdown",
     "checksum": "abee75304ed201b33440b94fcce3e28d",
     "grade": false,
     "grade_id": "cell-5de1b9cddc8b4a49",
     "locked": true,
     "schema_version": 3,
     "solution": false,
     "task": false
    }
   },
   "source": [
    "Run the following cell and compare the output to the one shown in the video."
   ]
  },
  {
   "cell_type": "code",
   "execution_count": 175,
   "metadata": {},
   "outputs": [
    {
     "name": "stdout",
     "output_type": "stream",
     "text": [
      "Landmark 0 ----------\n",
      " Expected range: 707.1067811865476 bearing [deg] -45.0\n",
      " Covariance of measurement:\n",
      " [[5.00000000e+04 0.00000000e+00]\n",
      " [3.07551183e-16 8.85389195e-02]]\n",
      "Landmark 1 ----------\n",
      " Expected range: 1000.0 bearing [deg] 0.0\n",
      " Covariance of measurement:\n",
      " [[5.00000000e+04 0.00000000e+00]\n",
      " [0.00000000e+00 7.85389195e-02]]\n",
      "Landmark 2 ----------\n",
      " Expected range: 2000.0 bearing [deg] 0.0\n",
      " Covariance of measurement:\n",
      " [[ 8.00000000e+04 -5.00000000e+00]\n",
      " [-5.00000000e+00  7.85389195e-02]]\n",
      "Measurement likelihoods ----------\n",
      "Likelihoods for measurement close to landmark 0\n",
      "[0.0023920377034520276, 2.1219589862494533e-05, 4.82626177148495e-10]\n",
      "Likelihoods for measurement exactly between landmark 1 and 2\n",
      "[1.366416382435823e-07, 0.00020847619108492658, 0.00041908533374704956]\n"
     ]
    }
   ],
   "source": [
    "def add_landmarks(particle):\n",
    "    \"\"\"Helper function to add some landmarks and their covariances.\"\"\"\n",
    "    # Add a landmark, at (500,-500), with standard deviation 100.\n",
    "    particle.landmark_positions.append(np.array([500.0, -500.0]))\n",
    "    particle.landmark_covariances.append(np.array(\n",
    "        [[ 100.0**2,   0.0 ],\n",
    "         [   0.0, 100.0**2 ]]))\n",
    "    # Add two landmarks along the x axis, at 1000 and 2000, with\n",
    "    # different covariances.\n",
    "    particle.landmark_positions.append(np.array([1000.0, 0.0]))\n",
    "    particle.landmark_covariances.append(np.array(\n",
    "        [[ 100.0**2,   0.0 ],\n",
    "         [   0.0, 100.0**2 ]]))\n",
    "    particle.landmark_positions.append(np.array([2000.0, 0.0]))\n",
    "    particle.landmark_covariances.append(np.array(\n",
    "        [[ 200.0**2, -100.0**2 ],\n",
    "         [-100.0**2,  200.0**2 ]]))\n",
    "\n",
    "if __name__ == '__main__':\n",
    "    # Robot constants.\n",
    "    scanner_displacement = 30.0\n",
    "\n",
    "    # Filter constants.\n",
    "    measurement_distance_stddev = 200.0  # Distance measurement error of cylinders.\n",
    "    measurement_angle_stddev = 15.0 / 180.0 * pi  # Angle measurement error.\n",
    "    Qt_measurement_covariance = \\\n",
    "        np.diag([measurement_distance_stddev**2,\n",
    "                 measurement_angle_stddev**2])\n",
    "\n",
    "    # Define a particle: position (x, y) and orientation.\n",
    "    p = Particle_2(np.array([-scanner_displacement, 0.0, 0.0]))\n",
    "    add_landmarks(p)\n",
    "    N = p.number_of_landmarks()\n",
    "\n",
    "    # Compute expected measurements.\n",
    "    for i in range(N):\n",
    "        print(\"Landmark\", i, \"----------\")\n",
    "        em = p.h_expected_measurement_for_landmark(i, scanner_displacement)\n",
    "        print(\" Expected range:\", em[0], \"bearing [deg]\", em[1]/pi*180)           \n",
    "        H, Ql = p.H_Ql_jacobian_and_measurement_covariance_for_landmark(\n",
    "            i, Qt_measurement_covariance, scanner_displacement)\n",
    "        print(\" Covariance of measurement:\\n\", Ql)\n",
    "\n",
    "    # Compute correspondence likelihoods.\n",
    "    # Define a set of measurements: (range, bearing).\n",
    "    print(\"Measurement likelihoods ----------\")\n",
    "    measurements = [\n",
    "        (\"close to landmark 0\", np.array([500*sqrt(2), -pi/4])),\n",
    "        (\"exactly between landmark 1 and 2\", np.array([1500.0, 0.0]))\n",
    "        ]\n",
    "    for (text, m) in measurements:\n",
    "        print(\"Likelihoods for measurement\", text)\n",
    "        likelihoods = p.compute_correspondence_likelihoods(\n",
    "            m, N, Qt_measurement_covariance, scanner_displacement)\n",
    "        print(likelihoods)"
   ]
  },
  {
   "cell_type": "markdown",
   "metadata": {
    "deletable": false,
    "editable": false,
    "nbgrader": {
     "cell_type": "markdown",
     "checksum": "58d114e1a7ff8b67a7e42c5f540c340b",
     "grade": false,
     "grade_id": "cell-276b1b871b384197",
     "locked": true,
     "schema_version": 3,
     "solution": false,
     "task": false
    }
   },
   "source": [
    "Now, the test. If the above values are like in the video, this should pass."
   ]
  },
  {
   "cell_type": "code",
   "execution_count": 176,
   "metadata": {
    "deletable": false,
    "editable": false,
    "nbgrader": {
     "cell_type": "code",
     "checksum": "67284784e938933457b4b4cfb2a57d97",
     "grade": true,
     "grade_id": "cell-437ea563ad8e5915",
     "locked": true,
     "points": 10,
     "schema_version": 3,
     "solution": false,
     "task": false
    }
   },
   "outputs": [],
   "source": [
    "from math import pi, sqrt\n",
    "import numpy as np\n",
    "from hashlib import shake_128\n",
    "\n",
    "def test(the_particle_class):\n",
    "    # Robot constants.\n",
    "    scanner_displacement = 30.0\n",
    "\n",
    "    # Filter constants.\n",
    "    measurement_distance_stddev = 200.0  # Distance measurement error of cylinders.\n",
    "    measurement_angle_stddev = 15.0 / 180.0 * pi  # Angle measurement error.\n",
    "    Qt_measurement_covariance = \\\n",
    "        np.diag([measurement_distance_stddev**2,\n",
    "                 measurement_angle_stddev**2])\n",
    "\n",
    "    # Define a particle: position (x, y) and orientation.\n",
    "    p = the_particle_class(np.array([-scanner_displacement, 0.0, 0.0]))\n",
    "    p.landmark_positions.append(np.array([501.0, -502.0]))\n",
    "    p.landmark_covariances.append(np.array(\n",
    "        [[ 102.0**2,   0.0 ],\n",
    "         [   0.0, 104.0**2 ]]))\n",
    "    p.landmark_positions.append(np.array([1010.0, 0.0]))\n",
    "    p.landmark_covariances.append(np.array(\n",
    "        [[ 106.0**2,   0.0 ],\n",
    "         [   0.0, 108.0**2 ]]))\n",
    "    p.landmark_positions.append(np.array([2011.0, 0.0]))\n",
    "    p.landmark_covariances.append(np.array(\n",
    "        [[ 210.0**2, -105.0**2 ],\n",
    "         [-105.0**2,  220.0**2 ]]))\n",
    "    N = p.number_of_landmarks()\n",
    "\n",
    "    # Define a set of measurements: (range, bearing).\n",
    "    measurements = [\n",
    "        np.array([495*sqrt(2), -pi/4]),\n",
    "        np.array([1502.0, 0.123])]\n",
    "    # Compute correspondence likelihoods.\n",
    "    hsh = shake_128()\n",
    "    for m in measurements:\n",
    "        likelihoods = p.compute_correspondence_likelihoods(\n",
    "            m, N, Qt_measurement_covariance, scanner_displacement)\n",
    "        hsh.update((\"%.3e,%.3e,%.3e\" % tuple(likelihoods)).encode())\n",
    "    return hsh.hexdigest(8) == \"b5c9b9793d358adb\"\n",
    "assert test(Particle_2), \"Oh no, it's wrong!\""
   ]
  },
  {
   "cell_type": "markdown",
   "metadata": {
    "deletable": false,
    "editable": false,
    "nbgrader": {
     "cell_type": "markdown",
     "checksum": "06e7c708fe2c269d471f02c7081b7666",
     "grade": false,
     "grade_id": "cell-1eec8fb3876c78d8",
     "locked": true,
     "schema_version": 3,
     "solution": false,
     "task": false
    }
   },
   "source": [
    "## Insertion of a new landmark"
   ]
  },
  {
   "cell_type": "code",
   "execution_count": 177,
   "metadata": {
    "deletable": false,
    "editable": false,
    "nbgrader": {
     "cell_type": "code",
     "checksum": "f4d608ba26a3cec0d591aa8171a993b6",
     "grade": false,
     "grade_id": "cell-1bfa13686e7808af",
     "locked": true,
     "schema_version": 3,
     "solution": false,
     "task": false
    }
   },
   "outputs": [
    {
     "data": {
      "text/html": [
       "\n",
       "        <iframe\n",
       "            width=\"560\"\n",
       "            height=\"315\"\n",
       "            src=\"//av.tib.eu/player/49034\"\n",
       "            frameborder=\"0\"\n",
       "            allowfullscreen\n",
       "        ></iframe>\n",
       "        "
      ],
      "text/plain": [
       "<IPython.lib.display.IFrame at 0x2274e0bdb20>"
      ]
     },
     "execution_count": 177,
     "metadata": {},
     "output_type": "execute_result"
    }
   ],
   "source": [
    "# If you don't see a video below, run this cell.\n",
    "IFrame(\"https://www.youtube.com/embed/Hk5s-8-0RlM\" if \"YouTube\" in globals() else \"//av.tib.eu/player/49034\",\n",
    "       width=560, height=315)"
   ]
  },
  {
   "cell_type": "markdown",
   "metadata": {
    "deletable": false,
    "editable": false,
    "nbgrader": {
     "cell_type": "markdown",
     "checksum": "5ff0a106ed7b33f5ce2d97013d5839a0",
     "grade": false,
     "grade_id": "cell-30aebbf14cec4d20",
     "locked": true,
     "schema_version": 3,
     "solution": false,
     "task": false
    }
   },
   "source": [
    "### Programming assignment: insertion of a new landmark (10 Points).\n",
    "Note that you don't have to copy any previous code from above into your solution, neither here nor in any other cells of this notebook."
   ]
  },
  {
   "cell_type": "code",
   "execution_count": 178,
   "metadata": {
    "deletable": false,
    "nbgrader": {
     "cell_type": "code",
     "checksum": "f4f3c031495cc7ebb644d15c7375985e",
     "grade": false,
     "grade_id": "cell-6991ddcd98a61979",
     "locked": false,
     "schema_version": 3,
     "solution": true,
     "task": false
    }
   },
   "outputs": [
    {
     "name": "stdout",
     "output_type": "stream",
     "text": [
      "Landmark 0 ----------\n",
      "Position: [1000.    0.]\n",
      "Landmark covariance:\n",
      " [[40000.             0.        ]\n",
      " [    0.         68538.91945201]]\n",
      "This corresponds to the error ellipse:\n",
      "Angle [deg]: 0.0\n",
      "Axis 1: 200.0\n",
      "Axis 2: 261.79938779914943\n",
      "Landmark 1 ----------\n",
      "Position: [2000.    0.]\n",
      "Landmark covariance:\n",
      " [[ 40000.              0.        ]\n",
      " [     0.         274155.67780804]]\n",
      "This corresponds to the error ellipse:\n",
      "Angle [deg]: 0.0\n",
      "Axis 1: 200.0\n",
      "Axis 2: 523.5987755982989\n",
      "Landmark 2 ----------\n",
      "Position: [707.10678119 707.10678119]\n",
      "Landmark covariance:\n",
      " [[ 54269.459726 -14269.459726]\n",
      " [-14269.459726  54269.459726]]\n",
      "This corresponds to the error ellipse:\n",
      "Angle [deg]: -45.0\n",
      "Axis 1: 261.7993877991494\n",
      "Axis 2: 199.99999999999997\n"
     ]
    }
   ],
   "source": [
    "# slam_10_c_new_landmark\n",
    "from lego_robot import *\n",
    "from math import sin, cos, pi, atan2, sqrt\n",
    "import numpy as np\n",
    "\n",
    "class Particle_3(Particle_2):\n",
    "    def initialize_new_landmark(self, measurement_in_scanner_system,\n",
    "                                Qt_measurement_covariance,\n",
    "                                scanner_displacement):\n",
    "        \"\"\"Given a (x, y) measurement in the scanner's system, initializes a\n",
    "           new landmark and its covariance.\"\"\"\n",
    "        scanner_pose = (self.pose[0] + cos(self.pose[2]) * scanner_displacement,\n",
    "                        self.pose[1] + sin(self.pose[2]) * scanner_displacement,\n",
    "                        self.pose[2])\n",
    "        # Hints:\n",
    "        # - LegoLogfile.scanner_to_world() (from lego_robot.py) will return\n",
    "        #   the world coordinate, given the scanner pose and the coordinate in\n",
    "        #   the scanner's system.\n",
    "        \n",
    "        # m = LegoLogfile.scanner_to_world(scanner_pose,measurement_in_scanner_system)\n",
    "        \n",
    "        # # - H is obtained from dh_dlandmark()\n",
    "        \n",
    "        # H = self.dh_dlandmark(self.pose, m, scanner_displacement)\n",
    "        \n",
    "        # # - Use np.linalg.inv(A) to invert a matrix A\n",
    "        \n",
    "        # H_inv = np.linalg.inv(H)\n",
    "        # Qt = Qt_measurement_covariance\n",
    "        \n",
    "        # # - Remember the matrix product is A @ B, or np.dot(A,B).\n",
    "        # # YOUR CODE HERE\n",
    "        # landmark_pos= m\n",
    "        # landmark_cov= np.dot(H_inv,np.dot(Qt,H_inv.T))\n",
    "        \n",
    "        # self.landmark_positions.append(np.array(landmark_pos))\n",
    "        # self.landmark_covariances.append(landmark_cov)\n",
    "\n",
    "\n",
    "        m = LegoLogfile.scanner_to_world(scanner_pose,measurement_in_scanner_system)\n",
    "        H = self.dh_dlandmark(self.pose,m,scanner_displacement)\n",
    "        sigma = np.linalg.inv(H) @ (Qt_measurement_covariance @ (np.linalg.inv(H).T))\n",
    "\n",
    "        landmark_pos=m\n",
    "        landmark_cov=sigma\n",
    "\n",
    "        self.landmark_positions.append(np.array(landmark_pos))\n",
    "        self.landmark_covariances.append(landmark_cov)\n",
    "        \n",
    "if __name__ == '__main__':\n",
    "    # Robot constants.\n",
    "    scanner_displacement = 30.0\n",
    "\n",
    "    # Filter constants.\n",
    "    measurement_distance_stddev = 200.0  # Distance measurement error of cylinders.\n",
    "    measurement_angle_stddev = 15.0 / 180.0 * pi  # Angle measurement error.\n",
    "    Qt_measurement_covariance = \\\n",
    "        np.diag([measurement_distance_stddev**2,\n",
    "                 measurement_angle_stddev**2])\n",
    "\n",
    "    # Define a particle: position (x, y) and orientation.\n",
    "    p = Particle_3(np.array([-scanner_displacement, 0.0, 0.0]))\n",
    "\n",
    "    # Add a landmark along the x axis.\n",
    "    measurement_in_scanner_system = (1000.0, 0.0)\n",
    "    p.initialize_new_landmark(measurement_in_scanner_system,\n",
    "                              Qt_measurement_covariance,\n",
    "                              scanner_displacement)\n",
    "    # Add another landmark at twice the distance.\n",
    "    measurement_in_scanner_system = (2000.0, 0.0)\n",
    "    p.initialize_new_landmark(measurement_in_scanner_system,\n",
    "                              Qt_measurement_covariance,\n",
    "                              scanner_displacement)\n",
    "    # Add another landmark at the distance of the first landmark, but at\n",
    "    # a bearing angle of 45 degrees.\n",
    "    measurement_in_scanner_system = np.array([1000.0, 1000.0]) / sqrt(2)\n",
    "    p.initialize_new_landmark(measurement_in_scanner_system,\n",
    "                              Qt_measurement_covariance,\n",
    "                              scanner_displacement)\n",
    "\n",
    "    # Print all landmarks.\n",
    "    for i in range(p.number_of_landmarks()):\n",
    "        print(\"Landmark\", i, \"----------\")\n",
    "        print(\"Position:\", p.landmark_positions[i])\n",
    "        print(\"Landmark covariance:\\n\", p.landmark_covariances[i])\n",
    "        print(\"This corresponds to the error ellipse:\")\n",
    "        eigenvals, eigenvects = np.linalg.eig(p.landmark_covariances[i])\n",
    "        angle = atan2(eigenvects[1,0], eigenvects[0,0])\n",
    "        print(\"Angle [deg]:\", angle / pi * 180.0)\n",
    "        print(\"Axis 1:\", sqrt(eigenvals[0]))\n",
    "        print(\"Axis 2:\", sqrt(eigenvals[1]))"
   ]
  },
  {
   "cell_type": "markdown",
   "metadata": {
    "deletable": false,
    "editable": false,
    "nbgrader": {
     "cell_type": "markdown",
     "checksum": "fea61c41f4cfef156f6027537e7b4875",
     "grade": false,
     "grade_id": "cell-70a964f882b1763d",
     "locked": true,
     "schema_version": 3,
     "solution": false,
     "task": false
    }
   },
   "source": [
    "Now the test. If the values above are all good, this should also pass easily."
   ]
  },
  {
   "cell_type": "code",
   "execution_count": 179,
   "metadata": {
    "deletable": false,
    "editable": false,
    "nbgrader": {
     "cell_type": "code",
     "checksum": "38721b1639aa0fd18fe8222f8de623ae",
     "grade": true,
     "grade_id": "cell-bb53a6d2d8103317",
     "locked": true,
     "points": 10,
     "schema_version": 3,
     "solution": false,
     "task": false
    }
   },
   "outputs": [],
   "source": [
    "from math import pi, sqrt\n",
    "import numpy as np\n",
    "from hashlib import shake_128\n",
    "\n",
    "def test(the_particle_class):\n",
    "    # Robot constants.\n",
    "    scanner_displacement = 30.0\n",
    "    # Filter constants.\n",
    "    measurement_distance_stddev = 200.0  # Distance measurement error of cylinders.\n",
    "    measurement_angle_stddev = 15.0 / 180.0 * pi  # Angle measurement error.\n",
    "    Qt_measurement_covariance = \\\n",
    "        np.diag([measurement_distance_stddev**2,\n",
    "                 measurement_angle_stddev**2])\n",
    "    # Define a particle: position (x, y) and orientation.\n",
    "    p = the_particle_class(np.array([-25.0, 12.0, 0.123]))\n",
    "    # Add landmarks.\n",
    "    measurements_in_scanner_system = [(1005.0, 6.7), (2012.0, -8.9),\n",
    "        np.array([1006.0, 1006.0]) / sqrt(2)]\n",
    "    for m in measurements_in_scanner_system:\n",
    "        p.initialize_new_landmark(m, Qt_measurement_covariance,\n",
    "                                  scanner_displacement)\n",
    "    # Check.\n",
    "    hsh = shake_128()\n",
    "    for pos in p.landmark_positions:\n",
    "        hsh.update((\"%.3e,%.3e\" % tuple(pos)).encode())\n",
    "    for cov in p.landmark_covariances:\n",
    "        hsh.update((\"%.3e,%.3e,%.3e,%.3e\" % tuple(cov.flatten())).encode())\n",
    "    return hsh.hexdigest(8) == \"3b2cd61d10476d29\"\n",
    "assert test(Particle_3), \"Oh no, it's wrong!\""
   ]
  },
  {
   "cell_type": "markdown",
   "metadata": {
    "deletable": false,
    "editable": false,
    "nbgrader": {
     "cell_type": "markdown",
     "checksum": "3860a5da44dfcdf50931563ceb43fba8",
     "grade": false,
     "grade_id": "cell-9d39b413c2a39767",
     "locked": true,
     "schema_version": 3,
     "solution": false,
     "task": false
    }
   },
   "source": [
    "## Update of an existing landmark"
   ]
  },
  {
   "cell_type": "code",
   "execution_count": 180,
   "metadata": {
    "deletable": false,
    "editable": false,
    "nbgrader": {
     "cell_type": "code",
     "checksum": "1687d1c6a10a4b6053c1ef3186d88e0f",
     "grade": false,
     "grade_id": "cell-6c52970890f16c1c",
     "locked": true,
     "schema_version": 3,
     "solution": false,
     "task": false
    }
   },
   "outputs": [
    {
     "data": {
      "text/html": [
       "\n",
       "        <iframe\n",
       "            width=\"560\"\n",
       "            height=\"315\"\n",
       "            src=\"//av.tib.eu/player/49035\"\n",
       "            frameborder=\"0\"\n",
       "            allowfullscreen\n",
       "        ></iframe>\n",
       "        "
      ],
      "text/plain": [
       "<IPython.lib.display.IFrame at 0x2274f12e3a0>"
      ]
     },
     "execution_count": 180,
     "metadata": {},
     "output_type": "execute_result"
    }
   ],
   "source": [
    "# If you don't see a video below, run this cell.\n",
    "IFrame(\"https://www.youtube.com/embed/PZe_aAgIxHA\" if \"YouTube\" in globals() else \"//av.tib.eu/player/49035\",\n",
    "       width=560, height=315)"
   ]
  },
  {
   "cell_type": "markdown",
   "metadata": {
    "deletable": false,
    "editable": false,
    "nbgrader": {
     "cell_type": "markdown",
     "checksum": "4b45f8405b701dce17790259fe345653",
     "grade": false,
     "grade_id": "cell-1b620dfe893c8e05",
     "locked": true,
     "schema_version": 3,
     "solution": false,
     "task": false
    }
   },
   "source": [
    "### Program assignment: update of an existing landmark (10 Points).\n",
    "Note again that while the video explains that you'll have to copy old code from above, this is not necessary in this notebook version of the course."
   ]
  },
  {
   "cell_type": "code",
   "execution_count": 181,
   "metadata": {
    "deletable": false,
    "nbgrader": {
     "cell_type": "code",
     "checksum": "5c40ec63f9c41c7583b7d6d2c51c18a7",
     "grade": false,
     "grade_id": "cell-ca1a2f890430c9b1",
     "locked": false,
     "schema_version": 3,
     "solution": true,
     "task": false
    }
   },
   "outputs": [
    {
     "name": "stdout",
     "output_type": "stream",
     "text": [
      "Landmarks - before update:\n",
      "Landmark 0 ----------\n",
      " Position: [1000.    0.]\n",
      " Error ellipse:\n",
      "  Angle [deg]: 0.0\n",
      "  Axis 1: 200.0\n",
      "  Axis 2: 261.7993877991505\n",
      "Landmark 1 ----------\n",
      " Position: [2000.    0.]\n",
      " Error ellipse:\n",
      "  Angle [deg]: 0.0\n",
      "  Axis 1: 200.0\n",
      "  Axis 2: 523.598775598301\n",
      "Landmark 2 ----------\n",
      " Position: [707.10678119 707.10678119]\n",
      " Error ellipse:\n",
      "  Angle [deg]: -45.0\n",
      "  Axis 1: 261.7993877991314\n",
      "  Axis 2: 200.0\n",
      "\n",
      "Landmarks - after update:\n",
      "Landmark 0 ----------\n",
      " Position: [1000.    0.]\n",
      " Error ellipse:\n",
      "  Angle [deg]: 0.0\n",
      "  Axis 1: 141.4213562373095\n",
      "  Axis 2: 185.12012242326563\n",
      "Landmark 1 ----------\n",
      " Position: [2050.    0.]\n",
      " Error ellipse:\n",
      "  Angle [deg]: 0.0\n",
      "  Axis 1: 141.4213562373095\n",
      "  Axis 2: 370.24024484653125\n",
      "Landmark 2 ----------\n",
      " Position: [707.10678119 707.10678119]\n",
      " Error ellipse:\n",
      "  Angle [deg]: -45.0\n",
      "  Axis 1: 261.7993877991314\n",
      "  Axis 2: 200.0\n"
     ]
    }
   ],
   "source": [
    "# slam_10_d_update_landmark\n",
    "from math import pi, atan2, sqrt\n",
    "import numpy as np\n",
    "\n",
    "class Particle_4(Particle_3):\n",
    "    def update_landmark(self, landmark_number, measurement,\n",
    "                        Qt_measurement_covariance, scanner_displacement):\n",
    "        \"\"\"Update a landmark's estimated position and covariance.\"\"\"\n",
    "        # Hints:\n",
    "        # - H and Ql can be computed using\n",
    "        #   H_Ql_jacobian_and_measurement_covariance_for_landmark()\n",
    "        # - Use np.linalg.inv(A) to compute the inverse of A\n",
    "        # - delta_z is measurement minus expected measurement\n",
    "        # - IMPORTANT: Correct the angle component of delta_z to prevent\n",
    "        #   multiples of 2 pi! Use something like:\n",
    "        #   delta_z[1] = (delta_z[1]+np.pi) % (2*np.pi) - np.pi\n",
    "        # - Expected measurement can be computed using\n",
    "        #   h_expected_measurement_for_landmark()\n",
    "        # - Remember to update landmark_positions[landmark_number] as well\n",
    "        #   as landmark_covariances[landmark_number].\n",
    "        # YOUR CODE HERE\n",
    "        # H, Ql = self.H_Ql_jacobian_and_measurement_covariance_for_landmark(landmark_number,Qt_measurement_covariance,scanner_displacement)\n",
    "        \n",
    "        # Ql_inv = np.linalg.inv(Ql)\n",
    "        \n",
    "        # h = self.h_expected_measurement_for_landmark( landmark_number, scanner_displacement )\n",
    "        \n",
    "        # delta_z = measurement - h\n",
    "        \n",
    "        # delta_z[1] = (delta_z[1]+np.pi) % (2*np.pi) - np.pi\n",
    "        \n",
    "        # Sigma_old = self.landmark_covariances[landmark_number]\n",
    "        \n",
    "        # K = np.dot(np.dot(Sigma_old,H.T),Ql_inv)\n",
    "        # KH = np.dot(K,H)\n",
    "        \n",
    "        # self.landmark_positions[landmark_number] += np.dot(K, delta_z)\n",
    "        # self.landmark_covariances[landmark_number] = np.dot((np.eye(KH.shape[0]) - KH), Sigma_old)\n",
    "        sigma_old = self.landmark_covariances[landmark_number]\n",
    "        H, Ql = self.H_Ql_jacobian_and_measurement_covariance_for_landmark(landmark_number, Qt_measurement_covariance, scanner_displacement)\n",
    "        K = sigma_old @ (H.T @ (np.linalg.inv(Ql)))\n",
    "        z = measurement\n",
    "        delta_z= z - self.h_expected_measurement_for_landmark(landmark_number,scanner_displacement)\n",
    "        delta_z[1] = (delta_z[1]+np.pi) % (2*np.pi) - np.pi\n",
    "        miu_new =  self.landmark_positions[landmark_number] + K @ (delta_z)\n",
    "        sigma_new = (np.eye(2) - K @ H) @ sigma_old\n",
    "\n",
    "        # update into tuple\n",
    "        self.landmark_positions[landmark_number] = miu_new\n",
    "        self.landmark_covariances[landmark_number] = sigma_new\n",
    "        \n",
    "def insert_landmarks(particle):\n",
    "    \"\"\"Insert the landmarks from the slam_10_c_new_landmark exercise.\"\"\"\n",
    "    positions = [\n",
    "        np.array([1000.0, 0.0]),\n",
    "        np.array([2000.0, 0.0]),\n",
    "        np.array([707.10678118654744, 707.10678118654744])\n",
    "        ]\n",
    "    covariances = [\n",
    "        np.array([[ 40000., 0.],\n",
    "                  [ 0., 68538.91945201]]),\n",
    "        np.array([[ 40000., 0.],\n",
    "                  [ 0., 274155.67780804]]),\n",
    "        np.array([[ 54269.459726, -14269.459726],\n",
    "                  [ -14269.459726,54269.459726]])\n",
    "        ]\n",
    "    particle.landmark_positions.extend(positions)\n",
    "    particle.landmark_covariances.extend(covariances)\n",
    "\n",
    "def print_landmarks(particle):\n",
    "    for i in range(particle.number_of_landmarks()):\n",
    "        print(\"Landmark\", i, \"----------\")\n",
    "        print(\" Position:\", particle.landmark_positions[i])\n",
    "        print(\" Error ellipse:\")\n",
    "        eigenvals, eigenvects = np.linalg.eig(particle.landmark_covariances[i])\n",
    "        angle = atan2(eigenvects[1,0], eigenvects[0,0])\n",
    "        print(\"  Angle [deg]:\", angle / pi * 180.0)\n",
    "        print(\"  Axis 1:\", sqrt(eigenvals[0]))\n",
    "        print(\"  Axis 2:\", sqrt(eigenvals[1]))\n",
    "\n",
    "if __name__ == '__main__':\n",
    "    # Robot constants.\n",
    "    scanner_displacement = 30.0\n",
    "\n",
    "    # Filter constants.\n",
    "    measurement_distance_stddev = 200.0  # Distance measurement error of cylinders.\n",
    "    measurement_angle_stddev = 15.0 / 180.0 * pi  # Angle measurement error.\n",
    "    Qt_measurement_covariance = \\\n",
    "        np.diag([measurement_distance_stddev**2,\n",
    "                 measurement_angle_stddev**2])\n",
    "\n",
    "    # Define a particle: position (x, y) and orientation.\n",
    "    p = Particle_4(np.array([-scanner_displacement, 0.0, 0.0]))\n",
    "\n",
    "    # Insert the landmarks from the slam_10_c_new_landmark exercise.\n",
    "    insert_landmarks(p)\n",
    "\n",
    "    # Print all landmarks (before update).\n",
    "    print(\"Landmarks - before update:\")\n",
    "    print_landmarks(p)\n",
    "\n",
    "    # Measure first landmark.\n",
    "    # Assume we would measure the exact distance (1000) and bearing (0.0).\n",
    "    measurement = np.array([1000.0, 0.0])\n",
    "    p.update_landmark(0, measurement, Qt_measurement_covariance,\n",
    "                      scanner_displacement)\n",
    "\n",
    "    # Measure second landmark.\n",
    "    # Assume we would measure a slightly different range.\n",
    "    measurement = np.array([2000.0 + 100.0, 0.0])\n",
    "    p.update_landmark(1, measurement, Qt_measurement_covariance,\n",
    "                      scanner_displacement)\n",
    "\n",
    "    # Print all landmarks (after update).\n",
    "    print(\"\\nLandmarks - after update:\")\n",
    "    print_landmarks(p)"
   ]
  },
  {
   "cell_type": "markdown",
   "metadata": {
    "deletable": false,
    "editable": false,
    "nbgrader": {
     "cell_type": "markdown",
     "checksum": "2fc35b9f1caddc3a912851f0ce357752",
     "grade": false,
     "grade_id": "cell-fd1ac0046969e7eb",
     "locked": true,
     "schema_version": 3,
     "solution": false,
     "task": false
    }
   },
   "source": [
    "Now the test. If the values above are all like in the video, this should also pass easily."
   ]
  },
  {
   "cell_type": "code",
   "execution_count": 182,
   "metadata": {
    "deletable": false,
    "editable": false,
    "nbgrader": {
     "cell_type": "code",
     "checksum": "90ac0c2a97e5dbdce1f163da93fe8db0",
     "grade": true,
     "grade_id": "cell-c328cfcf2b8431b3",
     "locked": true,
     "points": 10,
     "schema_version": 3,
     "solution": false,
     "task": false
    }
   },
   "outputs": [],
   "source": [
    "from math import pi, sqrt\n",
    "import numpy as np\n",
    "from hashlib import shake_128\n",
    "\n",
    "def test(the_particle_class):\n",
    "    # Robot constants.\n",
    "    scanner_displacement = 30.0\n",
    "    # Filter constants.\n",
    "    measurement_distance_stddev = 200.0  # Distance measurement error of cylinders.\n",
    "    measurement_angle_stddev = 15.0 / 180.0 * pi  # Angle measurement error.\n",
    "    Qt_measurement_covariance = \\\n",
    "        np.diag([measurement_distance_stddev**2,\n",
    "                 measurement_angle_stddev**2])\n",
    "    # Define a particle: position (x, y) and orientation.\n",
    "    p = the_particle_class(np.array([-27, 1.23, -0.123]))\n",
    "    # Insert the landmarks from the slam_10_c_new_landmark exercise.\n",
    "    p.landmark_positions.extend(np.array(l) for l in [(1000.0, 0.0),\n",
    "        (2000.0, 0.0), (707.10678118654744, 707.10678118654744)])\n",
    "    p.landmark_covariances.extend(np.array(l) for l in [\n",
    "        [[ 40000., 0.],\n",
    "         [ 0., 68538.91945201]],\n",
    "        [[ 40000., 0.],\n",
    "         [ 0., 274155.67780804]],\n",
    "        [[ 54269.459726, -14269.459726],\n",
    "         [ -14269.459726, 54269.459726]] ])\n",
    "    # Measurements.\n",
    "    measurements = [np.array(m) for m in [\n",
    "        (1000.0, 12.3), (2000.0 + 100.0, 0.0),\n",
    "        (1034.0, 45.0 / 180.0 * pi)]]\n",
    "    for i, m in enumerate(measurements):\n",
    "        p.update_landmark(i, m, Qt_measurement_covariance,\n",
    "                          scanner_displacement)\n",
    "    # Check.\n",
    "    hsh = shake_128()\n",
    "    for pos in p.landmark_positions:\n",
    "        hsh.update((\"%.3e,%.3e\" % tuple(pos)).encode())\n",
    "    for cov in p.landmark_covariances:\n",
    "        eigenvals, eigenvects = np.linalg.eig(cov)\n",
    "        angle = np.arctan2(eigenvects[1,0], eigenvects[0,0]) / pi * 180.0\n",
    "        hsh.update((\"%.3e,%.3e,%.3e\" % ((angle,) + tuple(np.sqrt(eigenvals)))).\n",
    "                   encode())\n",
    "    return hsh.hexdigest(8) == \"ca295d0daf3f08cc\"\n",
    "assert test(Particle_4), \"Oh no, it's wrong!\""
   ]
  },
  {
   "cell_type": "markdown",
   "metadata": {
    "deletable": false,
    "editable": false,
    "nbgrader": {
     "cell_type": "markdown",
     "checksum": "bb04cbcfade413ab025864431a6acfc8",
     "grade": false,
     "grade_id": "cell-0425ebcfc0e8c6ab",
     "locked": true,
     "schema_version": 3,
     "solution": false,
     "task": false
    }
   },
   "source": [
    "## Putting it together: prediction and correction"
   ]
  },
  {
   "cell_type": "code",
   "execution_count": 183,
   "metadata": {
    "deletable": false,
    "editable": false,
    "nbgrader": {
     "cell_type": "code",
     "checksum": "25074e78f0e4b21904e19cb0fed4ccd5",
     "grade": false,
     "grade_id": "cell-4a8b3c59bc28a4b0",
     "locked": true,
     "schema_version": 3,
     "solution": false,
     "task": false
    }
   },
   "outputs": [
    {
     "data": {
      "text/html": [
       "\n",
       "        <iframe\n",
       "            width=\"560\"\n",
       "            height=\"315\"\n",
       "            src=\"//av.tib.eu/player/49036\"\n",
       "            frameborder=\"0\"\n",
       "            allowfullscreen\n",
       "        ></iframe>\n",
       "        "
      ],
      "text/plain": [
       "<IPython.lib.display.IFrame at 0x2274f5924c0>"
      ]
     },
     "execution_count": 183,
     "metadata": {},
     "output_type": "execute_result"
    }
   ],
   "source": [
    "# If you don't see a video below, run this cell.\n",
    "IFrame(\"https://www.youtube.com/embed/50NqWjiMnnE\" if \"YouTube\" in globals() else \"//av.tib.eu/player/49036\",\n",
    "       width=560, height=315)"
   ]
  },
  {
   "cell_type": "markdown",
   "metadata": {
    "deletable": false,
    "editable": false,
    "nbgrader": {
     "cell_type": "markdown",
     "checksum": "b5471b91bf7e63e040381a5afd324dab",
     "grade": false,
     "grade_id": "cell-f192c1fc7af2117b",
     "locked": true,
     "schema_version": 3,
     "solution": false,
     "task": false
    }
   },
   "source": [
    "### Programming assignment: the `update_particle` function (10 Points).\n",
    "When given a particle and a measurement, this implements the functionality of either inserting a new landmark in the particle's list of landmarks, or updating the EKF for an existing landmark. Note that, as explained above, there is a list of landmarks *for each particle*, because in SLAM, each particle describes the robot's state *and* the map. Therefore, given a measurement at a certain time step, this may lead to the update of a landmark in one particle, while at the same time forcing the creation of a new landmark in another particle."
   ]
  },
  {
   "cell_type": "code",
   "execution_count": 184,
   "metadata": {
    "deletable": false,
    "nbgrader": {
     "cell_type": "code",
     "checksum": "a4e82d3041fd5bf052b0e4a4d96096fb",
     "grade": false,
     "grade_id": "cell-b20e5fd8d453d2a2",
     "locked": false,
     "schema_version": 3,
     "solution": true,
     "task": false
    }
   },
   "outputs": [],
   "source": [
    "# slam_10_e_correction\n",
    "class Particle_5(Particle_4):\n",
    "    def update_particle(self, measurement, measurement_in_scanner_system,\n",
    "                        number_of_landmarks,\n",
    "                        minimum_correspondence_likelihood,\n",
    "                        Qt_measurement_covariance, scanner_displacement):\n",
    "        \"\"\"Given a measurement, computes the likelihood that it belongs to any\n",
    "           of the landmarks in the particle. If there are none, or if all\n",
    "           likelihoods are below the minimum_correspondence_likelihood\n",
    "           threshold, add a landmark to the particle. Otherwise, update the\n",
    "           (existing) landmark with the largest likelihood.\"\"\"\n",
    "        # Here is a hint on the overall structure.\n",
    "        \n",
    "        # First, compute likelihood of correspondence of measurement to all\n",
    "        # landmarks (from 0 to number_of_landmarks-1).\n",
    "        # likelihoods = ... --->>> use: compute_correspondence_likelihoods().\n",
    "        \n",
    "        likelihoods = self.compute_correspondence_likelihoods(measurement, number_of_landmarks, Qt_measurement_covariance, scanner_displacement)\n",
    "\n",
    "        # If the likelihood list is empty, or the max correspondence likelihood\n",
    "        # is still smaller than minimum_correspondence_likelihood, setup\n",
    "        # a new landmark. Return minimum_correspondence_likelihood in this case.\n",
    "        #if not likelihoods or\\\n",
    "           #max(likelihoods) < minimum_correspondence_likelihood:\n",
    "                # --->>> Add code to insert a new landmark.\n",
    "            #return minimum_correspondence_likelihood\n",
    "        if not likelihoods or max(likelihoods)< minimum_correspondence_likelihood:\n",
    "            self.initialize_new_landmark(measurement_in_scanner_system, Qt_measurement_covariance, scanner_displacement)\n",
    "\n",
    "            return minimum_correspondence_likelihood\n",
    "\n",
    "        # Else update the particle's EKF for the corresponding landmark, and\n",
    "        # return the likelihood of this landmark.\n",
    "        #else:\n",
    "            # --->>> Add code to find the landmark with the maximum\n",
    "            #        likelihood w and its index.\n",
    "            #        Then, use update_landmark() to update it.\n",
    "            #        Finally, return the likelihood, w.\n",
    "            #return w\n",
    "        else: \n",
    "            w = max(likelihoods)\n",
    "            index = likelihoods.index(w)\n",
    "\n",
    "            self.update_landmark(index,measurement, Qt_measurement_covariance, scanner_displacement)\n",
    "\n",
    "            return w\n",
    "\n",
    "        # YOUR CODE HERE\n"
   ]
  },
  {
   "cell_type": "code",
   "execution_count": 185,
   "metadata": {
    "deletable": false,
    "editable": false,
    "nbgrader": {
     "cell_type": "code",
     "checksum": "6de235b72e462fd4fefc280e63a2d3d5",
     "grade": true,
     "grade_id": "cell-36aac3f0493a4b6e",
     "locked": true,
     "points": 10,
     "schema_version": 3,
     "solution": false,
     "task": false
    }
   },
   "outputs": [],
   "source": [
    "import numpy as np\n",
    "rng = np.random.default_rng()\n",
    "\n",
    "def test(the_particle_class):\n",
    "    pose = (68.32884208008977, 76.96542519718776, -2.0080322820184113)\n",
    "    ranges = [948,951,762,746,1263,1263,948,944,1261,746,1259,952,757,751,\n",
    "              944,757,961,949,751,762,955,1249,747,1264,952,960,1263,1254,\n",
    "              945,1253,]\n",
    "    bearings = [2532,2594,-5763,-5615,-1459,-1579,2611,2608,-1528,-5656,-1616,\n",
    "                2489,-5725,-5582,2659,-5749,2521,2665,-5688,-5697,2603,-1545,\n",
    "                -5596,-1587,2492,2488,-1590,-1548,2538,-1555,]\n",
    "    measurements = np.vstack((np.array(ranges),np.array(bearings)/1000.0)).T\n",
    "    landmarks = [\n",
    "    [860.7850186495331, 551.186586663526] ,\n",
    "    [183.08593109670122, -695.7721891748381] ,\n",
    "    [-1094.8945193216762, 563.6871990612207] ,\n",
    "    ]\n",
    "    covariances = [\n",
    "    [4533.008592218122, -1307.6823229452978,\n",
    "     -1307.6823229452978, 5789.986659543876] ,\n",
    "    [5574.2701540879625, 90.89120931942583,\n",
    "     90.89120931942574, 4960.68159631367] ,\n",
    "    [6485.57330717526, 3729.0301012931295,\n",
    "     3729.030101293129, 14015.330427706336] ,\n",
    "    ]\n",
    "    # Feed data to particle class.\n",
    "    p = the_particle_class(pose)\n",
    "    scanner_displacement = 33.0\n",
    "    measurement_distance_stddev = 211.0\n",
    "    measurement_angle_stddev = 17.0 / 180.0 * np.pi\n",
    "    Qt_measurement_covariance = \\\n",
    "        np.diag([measurement_distance_stddev**2,\n",
    "                 measurement_angle_stddev**2])\n",
    "    minimum_correspondence_likelihood = 0.001\n",
    "    for m in measurements:\n",
    "        m_scanner = m[0]*np.cos(m[1]), m[0]*np.sin(m[1])\n",
    "        p.update_particle(m, m_scanner, p.number_of_landmarks(),\n",
    "            minimum_correspondence_likelihood, Qt_measurement_covariance,\n",
    "            scanner_displacement)\n",
    "\n",
    "    # Compare landmark positions and covariances.\n",
    "    for i, pos in enumerate(landmarks):\n",
    "        if not np.allclose(pos, p.landmark_positions[i]):\n",
    "            return False\n",
    "    for i, cov in enumerate(covariances):\n",
    "        if not np.allclose(cov, p.landmark_covariances[i].flatten()):\n",
    "            return False\n",
    "    return True\n",
    "assert test(Particle_5), \"Oh no, it's wrong!\""
   ]
  },
  {
   "cell_type": "markdown",
   "metadata": {
    "deletable": false,
    "editable": false,
    "nbgrader": {
     "cell_type": "markdown",
     "checksum": "1f7ac8a5cb14af51943e6b5353ca8557",
     "grade": false,
     "grade_id": "cell-ed7f8adb127f97ea",
     "locked": true,
     "schema_version": 3,
     "solution": false,
     "task": false
    }
   },
   "source": [
    "Run the following cell to produce the output, which can then be viewed using the logfile viewer.\n",
    "\n",
    "Note that running this make a short while, depending on the number of particles (the default `number_of_particles` is 25, you may (and should!) play with it).\n",
    "\n",
    "Also note that each time you run it, you will of course get a different result."
   ]
  },
  {
   "cell_type": "code",
   "execution_count": 186,
   "metadata": {},
   "outputs": [],
   "source": [
    "from lego_robot import *\n",
    "from slam_g_library import get_cylinders_from_scan, write_cylinders,\\\n",
    "     write_error_ellipses, get_mean, get_error_ellipse_and_heading_variance,\\\n",
    "     print_particles\n",
    "from math import sin, cos, pi\n",
    "import copy\n",
    "import random\n",
    "import numpy as np\n",
    "\n",
    "class FastSLAM_2(FastSLAM_1):\n",
    "    def __init__(self, initial_particles,\n",
    "                 robot_width, scanner_displacement,\n",
    "                 control_motion_factor, control_turn_factor,\n",
    "                 measurement_distance_stddev, measurement_angle_stddev,\n",
    "                 minimum_correspondence_likelihood):\n",
    "        super().__init__(initial_particles, robot_width,\n",
    "            scanner_displacement, control_motion_factor, control_turn_factor)\n",
    "        # Some constants.\n",
    "        self.measurement_distance_stddev = measurement_distance_stddev\n",
    "        self.measurement_angle_stddev = measurement_angle_stddev\n",
    "        self.minimum_correspondence_likelihood = \\\n",
    "            minimum_correspondence_likelihood\n",
    "\n",
    "    def update_and_compute_weights(self, cylinders):\n",
    "        \"\"\"Updates all particles and returns a list of their weights.\"\"\"\n",
    "        Qt_measurement_covariance = \\\n",
    "            np.diag([self.measurement_distance_stddev**2,\n",
    "                     self.measurement_angle_stddev**2])\n",
    "        weights = []\n",
    "        for p in self.particles:\n",
    "            # Loop over all measurements.\n",
    "            number_of_landmarks = p.number_of_landmarks()\n",
    "            weight = 1.0\n",
    "            for measurement, measurement_in_scanner_system in cylinders:\n",
    "                weight *= p.update_particle(\n",
    "                    measurement, measurement_in_scanner_system,\n",
    "                    number_of_landmarks,\n",
    "                    self.minimum_correspondence_likelihood,\n",
    "                    Qt_measurement_covariance, self.scanner_displacement)\n",
    "\n",
    "            # Append overall weight of this particle to weight list.\n",
    "            weights.append(weight)\n",
    "\n",
    "        return weights\n",
    "\n",
    "    def resample(self, weights):\n",
    "        \"\"\"Return a list of particles which have been resampled, proportional\n",
    "           to the given weights.\"\"\"\n",
    "        new_particles = []\n",
    "        max_weight = max(weights)\n",
    "        index = random.randint(0, len(self.particles) - 1)\n",
    "        offset = 0.0\n",
    "        for i in range(len(self.particles)):\n",
    "            offset += random.uniform(0, 2.0 * max_weight)\n",
    "            while offset > weights[index]:\n",
    "                offset -= weights[index]\n",
    "                index = (index + 1) % len(weights)\n",
    "            new_particles.append(copy.deepcopy(self.particles[index]))\n",
    "        return new_particles\n",
    "\n",
    "    def correct(self, cylinders):\n",
    "        \"\"\"The correction step of FastSLAM.\"\"\"\n",
    "        # Update all particles and compute their weights.\n",
    "        weights = self.update_and_compute_weights(cylinders)\n",
    "        # Then resample, based on the weight array.\n",
    "        self.particles = self.resample(weights)\n",
    "\n",
    "if __name__ == '__main__':\n",
    "    # Robot constants.\n",
    "    scanner_displacement = 30.0\n",
    "    ticks_to_mm = 0.349\n",
    "    robot_width = 155.0\n",
    "\n",
    "    # Cylinder extraction and matching constants.\n",
    "    minimum_valid_distance = 20.0\n",
    "    depth_jump = 100.0\n",
    "    cylinder_offset = 90.0\n",
    "\n",
    "    # Filter constants.\n",
    "    control_motion_factor = 0.35  # Error in motor control.\n",
    "    control_turn_factor = 0.6  # Additional error due to slip when turning.\n",
    "    measurement_distance_stddev = 200.0  # Distance measurement error of cylinders.\n",
    "    measurement_angle_stddev = 15.0 / 180.0 * pi  # Angle measurement error.\n",
    "    minimum_correspondence_likelihood = 0.001  # Min likelihood of correspondence.\n",
    "\n",
    "    # Generate initial particles. Each particle is (x, y, theta).\n",
    "    number_of_particles = 25\n",
    "    start_state = np.array([500.0, 0.0, 45.0 / 180.0 * pi])\n",
    "    initial_particles = [ Particle_5(start_state.copy())\n",
    "                          for _ in range(number_of_particles)]\n",
    "\n",
    "    # Setup filter.\n",
    "    fs = FastSLAM_2(initial_particles,\n",
    "                    robot_width, scanner_displacement,\n",
    "                    control_motion_factor, control_turn_factor,\n",
    "                    measurement_distance_stddev,\n",
    "                    measurement_angle_stddev,\n",
    "                    minimum_correspondence_likelihood)\n",
    "\n",
    "    # Read data.\n",
    "    logfile = LegoLogfile()\n",
    "    logfile.read(\"robot4_motors.txt\")\n",
    "    logfile.read(\"robot4_scan.txt\")\n",
    "\n",
    "    # Loop over all motor tick records.\n",
    "    # This is the FastSLAM filter loop, with prediction and correction.\n",
    "    f = open(\"fast_slam_correction.txt\", \"w\")\n",
    "    for i in range(len(logfile.motor_ticks)):\n",
    "        # Prediction.\n",
    "        control = [x * ticks_to_mm for x in logfile.motor_ticks[i]]\n",
    "        fs.predict(control)\n",
    "\n",
    "        # Correction.\n",
    "        cylinders = get_cylinders_from_scan(logfile.scan_data[i], depth_jump,\n",
    "            minimum_valid_distance, cylinder_offset)\n",
    "        fs.correct(cylinders)\n",
    "\n",
    "        # Output particles.\n",
    "        print_particles(fs.particles, f)\n",
    "\n",
    "        # Output state estimated from all particles.\n",
    "        mean = get_mean(fs.particles)\n",
    "        print(\"F %.0f %.0f %.3f\" %\\\n",
    "              (mean[0] + scanner_displacement * cos(mean[2]),\n",
    "               mean[1] + scanner_displacement * sin(mean[2]),\n",
    "               mean[2]), file=f)\n",
    "\n",
    "        # Output error ellipse and standard deviation of heading.\n",
    "        errors = get_error_ellipse_and_heading_variance(fs.particles, mean)\n",
    "        print(\"E %.3f %.0f %.0f %.3f\" % errors, file=f)\n",
    "\n",
    "        # Output landmarks of particle which is closest to the mean position.\n",
    "        output_particle = min([\n",
    "            (np.linalg.norm(mean[0:2] - fs.particles[i].pose[0:2]),i)\n",
    "            for i in range(len(fs.particles)) ])[1]\n",
    "        # Write estimates of landmarks.\n",
    "        write_cylinders(f, \"W C\",\n",
    "                        fs.particles[output_particle].landmark_positions)\n",
    "        # Write covariance matrices.\n",
    "        write_error_ellipses(f, \"W E\",\n",
    "                             fs.particles[output_particle].landmark_covariances)\n",
    "\n",
    "    f.close()"
   ]
  },
  {
   "cell_type": "code",
   "execution_count": 187,
   "metadata": {},
   "outputs": [
    {
     "data": {
      "image/svg+xml": "<?xml version=\"1.0\" encoding=\"utf-8\" standalone=\"no\"?>\r\n<!DOCTYPE svg PUBLIC \"-//W3C//DTD SVG 1.1//EN\"\r\n  \"http://www.w3.org/Graphics/SVG/1.1/DTD/svg11.dtd\">\r\n<!-- Created with matplotlib (https://matplotlib.org/) -->\r\n<svg height=\"289.7pt\" version=\"1.1\" viewBox=\"0 0 289.7 289.7\" width=\"289.7pt\" xmlns=\"http://www.w3.org/2000/svg\" xmlns:xlink=\"http://www.w3.org/1999/xlink\">\r\n <metadata>\r\n  <rdf:RDF xmlns:cc=\"http://creativecommons.org/ns#\" xmlns:dc=\"http://purl.org/dc/elements/1.1/\" xmlns:rdf=\"http://www.w3.org/1999/02/22-rdf-syntax-ns#\">\r\n   <cc:Work>\r\n    <dc:type rdf:resource=\"http://purl.org/dc/dcmitype/StillImage\"/>\r\n    <dc:date>2022-01-21T15:58:10.930876</dc:date>\r\n    <dc:format>image/svg+xml</dc:format>\r\n    <dc:creator>\r\n     <cc:Agent>\r\n      <dc:title>Matplotlib v3.3.4, https://matplotlib.org/</dc:title>\r\n     </cc:Agent>\r\n    </dc:creator>\r\n   </cc:Work>\r\n  </rdf:RDF>\r\n </metadata>\r\n <defs>\r\n  <style type=\"text/css\">*{stroke-linecap:butt;stroke-linejoin:round;}</style>\r\n </defs>\r\n <g id=\"figure_1\">\r\n  <g id=\"patch_1\">\r\n   <path d=\"M 0 289.7 \r\nL 289.7 289.7 \r\nL 289.7 0 \r\nL 0 0 \r\nz\r\n\" style=\"fill:none;\"/>\r\n  </g>\r\n  <g id=\"axes_1\">\r\n   <g id=\"patch_2\">\r\n    <path d=\"M 10.7 279 \r\nL 282.5 279 \r\nL 282.5 7.2 \r\nL 10.7 7.2 \r\nz\r\n\" style=\"fill:#ffffff;\"/>\r\n   </g>\r\n   <g id=\"matplotlib.axis_1\"/>\r\n   <g id=\"matplotlib.axis_2\"/>\r\n   <g id=\"patch_3\">\r\n    <path d=\"M 10.7 279 \r\nL 10.7 7.2 \r\n\" style=\"fill:none;stroke:#000000;stroke-linecap:square;stroke-linejoin:miter;stroke-width:0.8;\"/>\r\n   </g>\r\n   <g id=\"patch_4\">\r\n    <path d=\"M 282.5 279 \r\nL 282.5 7.2 \r\n\" style=\"fill:none;stroke:#000000;stroke-linecap:square;stroke-linejoin:miter;stroke-width:0.8;\"/>\r\n   </g>\r\n   <g id=\"patch_5\">\r\n    <path d=\"M 10.7 279 \r\nL 282.5 279 \r\n\" style=\"fill:none;stroke:#000000;stroke-linecap:square;stroke-linejoin:miter;stroke-width:0.8;\"/>\r\n   </g>\r\n   <g id=\"patch_6\">\r\n    <path d=\"M 10.7 7.2 \r\nL 282.5 7.2 \r\n\" style=\"fill:none;stroke:#000000;stroke-linecap:square;stroke-linejoin:miter;stroke-width:0.8;\"/>\r\n   </g>\r\n   <g id=\"PathCollection_1\">\r\n    <defs>\r\n     <path d=\"M 0 1 \r\nC 0.265203 1 0.51958 0.894634 0.707107 0.707107 \r\nC 0.894634 0.51958 1 0.265203 1 0 \r\nC 1 -0.265203 0.894634 -0.51958 0.707107 -0.707107 \r\nC 0.51958 -0.894634 0.265203 -1 0 -1 \r\nC -0.265203 -1 -0.51958 -0.894634 -0.707107 -0.707107 \r\nC -0.894634 -0.51958 -1 -0.265203 -1 0 \r\nC -1 0.265203 -0.894634 0.51958 -0.707107 0.707107 \r\nC -0.51958 0.894634 -0.265203 1 0 1 \r\nz\r\n\" id=\"m79b0f3e447\" style=\"stroke:#add8e6;\"/>\r\n    </defs>\r\n    <g clip-path=\"url(#p83a05f84d0)\">\r\n     <use style=\"fill:#add8e6;stroke:#add8e6;\" x=\"79.776976\" xlink:href=\"#m79b0f3e447\" y=\"276.215707\"/>\r\n     <use style=\"fill:#add8e6;stroke:#add8e6;\" x=\"79.776976\" xlink:href=\"#m79b0f3e447\" y=\"276.215707\"/>\r\n     <use style=\"fill:#add8e6;stroke:#add8e6;\" x=\"79.776976\" xlink:href=\"#m79b0f3e447\" y=\"276.215707\"/>\r\n     <use style=\"fill:#add8e6;stroke:#add8e6;\" x=\"79.776976\" xlink:href=\"#m79b0f3e447\" y=\"276.215707\"/>\r\n     <use style=\"fill:#add8e6;stroke:#add8e6;\" x=\"79.776976\" xlink:href=\"#m79b0f3e447\" y=\"276.215707\"/>\r\n     <use style=\"fill:#add8e6;stroke:#add8e6;\" x=\"79.776976\" xlink:href=\"#m79b0f3e447\" y=\"276.215707\"/>\r\n     <use style=\"fill:#add8e6;stroke:#add8e6;\" x=\"79.776976\" xlink:href=\"#m79b0f3e447\" y=\"276.215707\"/>\r\n     <use style=\"fill:#add8e6;stroke:#add8e6;\" x=\"79.776976\" xlink:href=\"#m79b0f3e447\" y=\"276.215707\"/>\r\n     <use style=\"fill:#add8e6;stroke:#add8e6;\" x=\"79.776976\" xlink:href=\"#m79b0f3e447\" y=\"276.215707\"/>\r\n     <use style=\"fill:#add8e6;stroke:#add8e6;\" x=\"79.776976\" xlink:href=\"#m79b0f3e447\" y=\"276.215707\"/>\r\n     <use style=\"fill:#add8e6;stroke:#add8e6;\" x=\"79.776976\" xlink:href=\"#m79b0f3e447\" y=\"276.215707\"/>\r\n     <use style=\"fill:#add8e6;stroke:#add8e6;\" x=\"79.776976\" xlink:href=\"#m79b0f3e447\" y=\"276.215707\"/>\r\n     <use style=\"fill:#add8e6;stroke:#add8e6;\" x=\"79.776976\" xlink:href=\"#m79b0f3e447\" y=\"276.215707\"/>\r\n     <use style=\"fill:#add8e6;stroke:#add8e6;\" x=\"81.898341\" xlink:href=\"#m79b0f3e447\" y=\"274.094341\"/>\r\n     <use style=\"fill:#add8e6;stroke:#add8e6;\" x=\"86.008488\" xlink:href=\"#m79b0f3e447\" y=\"269.719024\"/>\r\n     <use style=\"fill:#add8e6;stroke:#add8e6;\" x=\"89.455707\" xlink:href=\"#m79b0f3e447\" y=\"266.802146\"/>\r\n     <use style=\"fill:#add8e6;stroke:#add8e6;\" x=\"94.096195\" xlink:href=\"#m79b0f3e447\" y=\"262.161659\"/>\r\n     <use style=\"fill:#add8e6;stroke:#add8e6;\" x=\"93.565854\" xlink:href=\"#m79b0f3e447\" y=\"262.957171\"/>\r\n     <use style=\"fill:#add8e6;stroke:#add8e6;\" x=\"97.676\" xlink:href=\"#m79b0f3e447\" y=\"258.847024\"/>\r\n     <use style=\"fill:#add8e6;stroke:#add8e6;\" x=\"102.714244\" xlink:href=\"#m79b0f3e447\" y=\"254.339122\"/>\r\n     <use style=\"fill:#add8e6;stroke:#add8e6;\" x=\"106.161463\" xlink:href=\"#m79b0f3e447\" y=\"250.228976\"/>\r\n     <use style=\"fill:#add8e6;stroke:#add8e6;\" x=\"110.669366\" xlink:href=\"#m79b0f3e447\" y=\"246.118829\"/>\r\n     <use style=\"fill:#add8e6;stroke:#add8e6;\" x=\"110.801951\" xlink:href=\"#m79b0f3e447\" y=\"246.118829\"/>\r\n     <use style=\"fill:#add8e6;stroke:#add8e6;\" x=\"114.116585\" xlink:href=\"#m79b0f3e447\" y=\"242.93678\"/>\r\n     <use style=\"fill:#add8e6;stroke:#add8e6;\" x=\"118.624488\" xlink:href=\"#m79b0f3e447\" y=\"238.694049\"/>\r\n     <use style=\"fill:#add8e6;stroke:#add8e6;\" x=\"118.624488\" xlink:href=\"#m79b0f3e447\" y=\"238.561463\"/>\r\n     <use style=\"fill:#add8e6;stroke:#add8e6;\" x=\"122.469463\" xlink:href=\"#m79b0f3e447\" y=\"234.849073\"/>\r\n     <use style=\"fill:#add8e6;stroke:#add8e6;\" x=\"127.905463\" xlink:href=\"#m79b0f3e447\" y=\"230.341171\"/>\r\n     <use style=\"fill:#add8e6;stroke:#add8e6;\" x=\"130.954927\" xlink:href=\"#m79b0f3e447\" y=\"227.026537\"/>\r\n     <use style=\"fill:#add8e6;stroke:#add8e6;\" x=\"135.197659\" xlink:href=\"#m79b0f3e447\" y=\"222.518634\"/>\r\n     <use style=\"fill:#add8e6;stroke:#add8e6;\" x=\"139.042634\" xlink:href=\"#m79b0f3e447\" y=\"218.806244\"/>\r\n     <use style=\"fill:#add8e6;stroke:#add8e6;\" x=\"139.572976\" xlink:href=\"#m79b0f3e447\" y=\"218.143317\"/>\r\n     <use style=\"fill:#add8e6;stroke:#add8e6;\" x=\"143.815707\" xlink:href=\"#m79b0f3e447\" y=\"214.033171\"/>\r\n     <use style=\"fill:#add8e6;stroke:#add8e6;\" x=\"147.660683\" xlink:href=\"#m79b0f3e447\" y=\"211.116293\"/>\r\n     <use style=\"fill:#add8e6;stroke:#add8e6;\" x=\"152.168585\" xlink:href=\"#m79b0f3e447\" y=\"206.475805\"/>\r\n     <use style=\"fill:#add8e6;stroke:#add8e6;\" x=\"151.770829\" xlink:href=\"#m79b0f3e447\" y=\"206.60839\"/>\r\n     <use style=\"fill:#add8e6;stroke:#add8e6;\" x=\"157.074244\" xlink:href=\"#m79b0f3e447\" y=\"201.835317\"/>\r\n     <use style=\"fill:#add8e6;stroke:#add8e6;\" x=\"160.521463\" xlink:href=\"#m79b0f3e447\" y=\"198.520683\"/>\r\n     <use style=\"fill:#add8e6;stroke:#add8e6;\" x=\"164.63161\" xlink:href=\"#m79b0f3e447\" y=\"193.74761\"/>\r\n     <use style=\"fill:#add8e6;stroke:#add8e6;\" x=\"168.609171\" xlink:href=\"#m79b0f3e447\" y=\"189.902634\"/>\r\n     <use style=\"fill:#add8e6;stroke:#add8e6;\" x=\"168.609171\" xlink:href=\"#m79b0f3e447\" y=\"190.167805\"/>\r\n     <use style=\"fill:#add8e6;stroke:#add8e6;\" x=\"173.647415\" xlink:href=\"#m79b0f3e447\" y=\"185.925073\"/>\r\n     <use style=\"fill:#add8e6;stroke:#add8e6;\" x=\"178.553073\" xlink:href=\"#m79b0f3e447\" y=\"181.284585\"/>\r\n     <use style=\"fill:#add8e6;stroke:#add8e6;\" x=\"182.530634\" xlink:href=\"#m79b0f3e447\" y=\"177.307024\"/>\r\n     <use style=\"fill:#add8e6;stroke:#add8e6;\" x=\"182.265463\" xlink:href=\"#m79b0f3e447\" y=\"177.307024\"/>\r\n     <use style=\"fill:#add8e6;stroke:#add8e6;\" x=\"185.580098\" xlink:href=\"#m79b0f3e447\" y=\"173.99239\"/>\r\n     <use style=\"fill:#add8e6;stroke:#add8e6;\" x=\"189.690244\" xlink:href=\"#m79b0f3e447\" y=\"169.882244\"/>\r\n     <use style=\"fill:#add8e6;stroke:#add8e6;\" x=\"193.270049\" xlink:href=\"#m79b0f3e447\" y=\"166.302439\"/>\r\n     <use style=\"fill:#add8e6;stroke:#add8e6;\" x=\"196.584683\" xlink:href=\"#m79b0f3e447\" y=\"163.12039\"/>\r\n     <use style=\"fill:#add8e6;stroke:#add8e6;\" x=\"194.993659\" xlink:href=\"#m79b0f3e447\" y=\"164.313659\"/>\r\n     <use style=\"fill:#add8e6;stroke:#add8e6;\" x=\"199.103805\" xlink:href=\"#m79b0f3e447\" y=\"159.540585\"/>\r\n     <use style=\"fill:#add8e6;stroke:#add8e6;\" x=\"203.213951\" xlink:href=\"#m79b0f3e447\" y=\"154.767512\"/>\r\n     <use style=\"fill:#add8e6;stroke:#add8e6;\" x=\"206.396\" xlink:href=\"#m79b0f3e447\" y=\"152.646146\"/>\r\n     <use style=\"fill:#add8e6;stroke:#add8e6;\" x=\"206.130829\" xlink:href=\"#m79b0f3e447\" y=\"153.176488\"/>\r\n     <use style=\"fill:#add8e6;stroke:#add8e6;\" x=\"210.10839\" xlink:href=\"#m79b0f3e447\" y=\"149.464098\"/>\r\n     <use style=\"fill:#add8e6;stroke:#add8e6;\" x=\"214.218537\" xlink:href=\"#m79b0f3e447\" y=\"145.486537\"/>\r\n     <use style=\"fill:#add8e6;stroke:#add8e6;\" x=\"218.063512\" xlink:href=\"#m79b0f3e447\" y=\"142.171902\"/>\r\n     <use style=\"fill:#add8e6;stroke:#add8e6;\" x=\"218.063512\" xlink:href=\"#m79b0f3e447\" y=\"142.437073\"/>\r\n     <use style=\"fill:#add8e6;stroke:#add8e6;\" x=\"223.234341\" xlink:href=\"#m79b0f3e447\" y=\"138.857268\"/>\r\n     <use style=\"fill:#add8e6;stroke:#add8e6;\" x=\"227.344488\" xlink:href=\"#m79b0f3e447\" y=\"134.21678\"/>\r\n     <use style=\"fill:#add8e6;stroke:#add8e6;\" x=\"230.261366\" xlink:href=\"#m79b0f3e447\" y=\"129.974049\"/>\r\n     <use style=\"fill:#add8e6;stroke:#add8e6;\" x=\"234.106341\" xlink:href=\"#m79b0f3e447\" y=\"126.924585\"/>\r\n     <use style=\"fill:#add8e6;stroke:#add8e6;\" x=\"234.106341\" xlink:href=\"#m79b0f3e447\" y=\"126.526829\"/>\r\n     <use style=\"fill:#add8e6;stroke:#add8e6;\" x=\"237.420976\" xlink:href=\"#m79b0f3e447\" y=\"122.151512\"/>\r\n     <use style=\"fill:#add8e6;stroke:#add8e6;\" x=\"241.265951\" xlink:href=\"#m79b0f3e447\" y=\"117.245854\"/>\r\n     <use style=\"fill:#add8e6;stroke:#add8e6;\" x=\"243.917659\" xlink:href=\"#m79b0f3e447\" y=\"113.666049\"/>\r\n     <use style=\"fill:#add8e6;stroke:#add8e6;\" x=\"248.027805\" xlink:href=\"#m79b0f3e447\" y=\"107.301951\"/>\r\n     <use style=\"fill:#add8e6;stroke:#add8e6;\" x=\"247.364878\" xlink:href=\"#m79b0f3e447\" y=\"106.506439\"/>\r\n     <use style=\"fill:#add8e6;stroke:#add8e6;\" x=\"249.884\" xlink:href=\"#m79b0f3e447\" y=\"101.070439\"/>\r\n     <use style=\"fill:#add8e6;stroke:#add8e6;\" x=\"250.944683\" xlink:href=\"#m79b0f3e447\" y=\"95.369268\"/>\r\n     <use style=\"fill:#add8e6;stroke:#add8e6;\" x=\"251.077268\" xlink:href=\"#m79b0f3e447\" y=\"88.872585\"/>\r\n     <use style=\"fill:#add8e6;stroke:#add8e6;\" x=\"251.475024\" xlink:href=\"#m79b0f3e447\" y=\"82.641073\"/>\r\n     <use style=\"fill:#add8e6;stroke:#add8e6;\" x=\"251.740195\" xlink:href=\"#m79b0f3e447\" y=\"83.304\"/>\r\n     <use style=\"fill:#add8e6;stroke:#add8e6;\" x=\"251.209854\" xlink:href=\"#m79b0f3e447\" y=\"77.868\"/>\r\n     <use style=\"fill:#add8e6;stroke:#add8e6;\" x=\"248.823317\" xlink:href=\"#m79b0f3e447\" y=\"72.697171\"/>\r\n     <use style=\"fill:#add8e6;stroke:#add8e6;\" x=\"247.232293\" xlink:href=\"#m79b0f3e447\" y=\"67.924098\"/>\r\n     <use style=\"fill:#add8e6;stroke:#add8e6;\" x=\"246.967122\" xlink:href=\"#m79b0f3e447\" y=\"68.71961\"/>\r\n     <use style=\"fill:#add8e6;stroke:#add8e6;\" x=\"244.182829\" xlink:href=\"#m79b0f3e447\" y=\"63.151024\"/>\r\n     <use style=\"fill:#add8e6;stroke:#add8e6;\" x=\"241.531122\" xlink:href=\"#m79b0f3e447\" y=\"59.968976\"/>\r\n     <use style=\"fill:#add8e6;stroke:#add8e6;\" x=\"237.553561\" xlink:href=\"#m79b0f3e447\" y=\"55.726244\"/>\r\n     <use style=\"fill:#add8e6;stroke:#add8e6;\" x=\"235.697366\" xlink:href=\"#m79b0f3e447\" y=\"53.737463\"/>\r\n     <use style=\"fill:#add8e6;stroke:#add8e6;\" x=\"230.659122\" xlink:href=\"#m79b0f3e447\" y=\"49.494732\"/>\r\n     <use style=\"fill:#add8e6;stroke:#add8e6;\" x=\"225.355707\" xlink:href=\"#m79b0f3e447\" y=\"46.180098\"/>\r\n     <use style=\"fill:#add8e6;stroke:#add8e6;\" x=\"220.71522\" xlink:href=\"#m79b0f3e447\" y=\"44.191317\"/>\r\n     <use style=\"fill:#add8e6;stroke:#add8e6;\" x=\"214.218537\" xlink:href=\"#m79b0f3e447\" y=\"40.478927\"/>\r\n     <use style=\"fill:#add8e6;stroke:#add8e6;\" x=\"213.157854\" xlink:href=\"#m79b0f3e447\" y=\"39.418244\"/>\r\n     <use style=\"fill:#add8e6;stroke:#add8e6;\" x=\"208.517366\" xlink:href=\"#m79b0f3e447\" y=\"37.959805\"/>\r\n     <use style=\"fill:#add8e6;stroke:#add8e6;\" x=\"202.153268\" xlink:href=\"#m79b0f3e447\" y=\"38.357561\"/>\r\n     <use style=\"fill:#add8e6;stroke:#add8e6;\" x=\"197.24761\" xlink:href=\"#m79b0f3e447\" y=\"38.622732\"/>\r\n     <use style=\"fill:#add8e6;stroke:#add8e6;\" x=\"196.319512\" xlink:href=\"#m79b0f3e447\" y=\"37.296878\"/>\r\n     <use style=\"fill:#add8e6;stroke:#add8e6;\" x=\"189.822829\" xlink:href=\"#m79b0f3e447\" y=\"38.490146\"/>\r\n     <use style=\"fill:#add8e6;stroke:#add8e6;\" x=\"185.182341\" xlink:href=\"#m79b0f3e447\" y=\"40.876683\"/>\r\n     <use style=\"fill:#add8e6;stroke:#add8e6;\" x=\"181.735122\" xlink:href=\"#m79b0f3e447\" y=\"43.130634\"/>\r\n     <use style=\"fill:#add8e6;stroke:#add8e6;\" x=\"176.033951\" xlink:href=\"#m79b0f3e447\" y=\"44.986829\"/>\r\n     <use style=\"fill:#add8e6;stroke:#add8e6;\" x=\"175.901366\" xlink:href=\"#m79b0f3e447\" y=\"44.323902\"/>\r\n     <use style=\"fill:#add8e6;stroke:#add8e6;\" x=\"170.33278\" xlink:href=\"#m79b0f3e447\" y=\"45.517171\"/>\r\n     <use style=\"fill:#add8e6;stroke:#add8e6;\" x=\"163.968683\" xlink:href=\"#m79b0f3e447\" y=\"47.373366\"/>\r\n     <use style=\"fill:#add8e6;stroke:#add8e6;\" x=\"158.002341\" xlink:href=\"#m79b0f3e447\" y=\"49.759902\"/>\r\n     <use style=\"fill:#add8e6;stroke:#add8e6;\" x=\"153.361854\" xlink:href=\"#m79b0f3e447\" y=\"51.616098\"/>\r\n     <use style=\"fill:#add8e6;stroke:#add8e6;\" x=\"153.096683\" xlink:href=\"#m79b0f3e447\" y=\"52.013854\"/>\r\n     <use style=\"fill:#add8e6;stroke:#add8e6;\" x=\"148.191024\" xlink:href=\"#m79b0f3e447\" y=\"53.870049\"/>\r\n     <use style=\"fill:#add8e6;stroke:#add8e6;\" x=\"142.489854\" xlink:href=\"#m79b0f3e447\" y=\"55.593659\"/>\r\n     <use style=\"fill:#add8e6;stroke:#add8e6;\" x=\"137.849366\" xlink:href=\"#m79b0f3e447\" y=\"58.245366\"/>\r\n     <use style=\"fill:#add8e6;stroke:#add8e6;\" x=\"138.512293\" xlink:href=\"#m79b0f3e447\" y=\"57.582439\"/>\r\n     <use style=\"fill:#add8e6;stroke:#add8e6;\" x=\"134.00439\" xlink:href=\"#m79b0f3e447\" y=\"58.908293\"/>\r\n     <use style=\"fill:#add8e6;stroke:#add8e6;\" x=\"126.049268\" xlink:href=\"#m79b0f3e447\" y=\"62.885854\"/>\r\n     <use style=\"fill:#add8e6;stroke:#add8e6;\" x=\"121.14361\" xlink:href=\"#m79b0f3e447\" y=\"64.476878\"/>\r\n     <use style=\"fill:#add8e6;stroke:#add8e6;\" x=\"115.70761\" xlink:href=\"#m79b0f3e447\" y=\"66.730829\"/>\r\n     <use style=\"fill:#add8e6;stroke:#add8e6;\" x=\"114.116585\" xlink:href=\"#m79b0f3e447\" y=\"67.128585\"/>\r\n     <use style=\"fill:#add8e6;stroke:#add8e6;\" x=\"110.53678\" xlink:href=\"#m79b0f3e447\" y=\"67.791512\"/>\r\n     <use style=\"fill:#add8e6;stroke:#add8e6;\" x=\"102.714244\" xlink:href=\"#m79b0f3e447\" y=\"71.503902\"/>\r\n     <use style=\"fill:#add8e6;stroke:#add8e6;\" x=\"99.267024\" xlink:href=\"#m79b0f3e447\" y=\"73.094927\"/>\r\n     <use style=\"fill:#add8e6;stroke:#add8e6;\" x=\"99.001854\" xlink:href=\"#m79b0f3e447\" y=\"73.094927\"/>\r\n     <use style=\"fill:#add8e6;stroke:#add8e6;\" x=\"96.350146\" xlink:href=\"#m79b0f3e447\" y=\"75.481463\"/>\r\n     <use style=\"fill:#add8e6;stroke:#add8e6;\" x=\"92.637756\" xlink:href=\"#m79b0f3e447\" y=\"79.061268\"/>\r\n     <use style=\"fill:#add8e6;stroke:#add8e6;\" x=\"88.79278\" xlink:href=\"#m79b0f3e447\" y=\"83.304\"/>\r\n     <use style=\"fill:#add8e6;stroke:#add8e6;\" x=\"87.864683\" xlink:href=\"#m79b0f3e447\" y=\"84.364683\"/>\r\n     <use style=\"fill:#add8e6;stroke:#add8e6;\" x=\"85.08039\" xlink:href=\"#m79b0f3e447\" y=\"89.402927\"/>\r\n     <use style=\"fill:#add8e6;stroke:#add8e6;\" x=\"80.970244\" xlink:href=\"#m79b0f3e447\" y=\"94.838927\"/>\r\n     <use style=\"fill:#add8e6;stroke:#add8e6;\" x=\"79.114049\" xlink:href=\"#m79b0f3e447\" y=\"99.214244\"/>\r\n     <use style=\"fill:#add8e6;stroke:#add8e6;\" x=\"78.981463\" xlink:href=\"#m79b0f3e447\" y=\"102.794049\"/>\r\n     <use style=\"fill:#add8e6;stroke:#add8e6;\" x=\"78.053366\" xlink:href=\"#m79b0f3e447\" y=\"102.926634\"/>\r\n     <use style=\"fill:#add8e6;stroke:#add8e6;\" x=\"78.318537\" xlink:href=\"#m79b0f3e447\" y=\"106.241268\"/>\r\n     <use style=\"fill:#add8e6;stroke:#add8e6;\" x=\"79.114049\" xlink:href=\"#m79b0f3e447\" y=\"111.544683\"/>\r\n     <use style=\"fill:#add8e6;stroke:#add8e6;\" x=\"80.970244\" xlink:href=\"#m79b0f3e447\" y=\"116.052585\"/>\r\n     <use style=\"fill:#add8e6;stroke:#add8e6;\" x=\"80.970244\" xlink:href=\"#m79b0f3e447\" y=\"114.594146\"/>\r\n     <use style=\"fill:#add8e6;stroke:#add8e6;\" x=\"84.284878\" xlink:href=\"#m79b0f3e447\" y=\"118.439122\"/>\r\n     <use style=\"fill:#add8e6;stroke:#add8e6;\" x=\"88.52761\" xlink:href=\"#m79b0f3e447\" y=\"124.80322\"/>\r\n     <use style=\"fill:#add8e6;stroke:#add8e6;\" x=\"91.577073\" xlink:href=\"#m79b0f3e447\" y=\"129.576293\"/>\r\n     <use style=\"fill:#add8e6;stroke:#add8e6;\" x=\"93.831024\" xlink:href=\"#m79b0f3e447\" y=\"131.167317\"/>\r\n     <use style=\"fill:#add8e6;stroke:#add8e6;\" x=\"96.350146\" xlink:href=\"#m79b0f3e447\" y=\"132.625756\"/>\r\n     <use style=\"fill:#add8e6;stroke:#add8e6;\" x=\"102.581659\" xlink:href=\"#m79b0f3e447\" y=\"134.349366\"/>\r\n     <use style=\"fill:#add8e6;stroke:#add8e6;\" x=\"107.222146\" xlink:href=\"#m79b0f3e447\" y=\"137.531415\"/>\r\n     <use style=\"fill:#add8e6;stroke:#add8e6;\" x=\"110.801951\" xlink:href=\"#m79b0f3e447\" y=\"140.978634\"/>\r\n     <use style=\"fill:#add8e6;stroke:#add8e6;\" x=\"111.332293\" xlink:href=\"#m79b0f3e447\" y=\"140.050537\"/>\r\n     <use style=\"fill:#add8e6;stroke:#add8e6;\" x=\"115.575024\" xlink:href=\"#m79b0f3e447\" y=\"143.232585\"/>\r\n     <use style=\"fill:#add8e6;stroke:#add8e6;\" x=\"121.011024\" xlink:href=\"#m79b0f3e447\" y=\"145.619122\"/>\r\n     <use style=\"fill:#add8e6;stroke:#add8e6;\" x=\"126.57961\" xlink:href=\"#m79b0f3e447\" y=\"147.342732\"/>\r\n     <use style=\"fill:#add8e6;stroke:#add8e6;\" x=\"126.977366\" xlink:href=\"#m79b0f3e447\" y=\"146.944976\"/>\r\n     <use style=\"fill:#add8e6;stroke:#add8e6;\" x=\"132.01561\" xlink:href=\"#m79b0f3e447\" y=\"149.994439\"/>\r\n     <use style=\"fill:#add8e6;stroke:#add8e6;\" x=\"137.45161\" xlink:href=\"#m79b0f3e447\" y=\"152.380976\"/>\r\n     <use style=\"fill:#add8e6;stroke:#add8e6;\" x=\"143.285366\" xlink:href=\"#m79b0f3e447\" y=\"154.502341\"/>\r\n     <use style=\"fill:#add8e6;stroke:#add8e6;\" x=\"149.384293\" xlink:href=\"#m79b0f3e447\" y=\"156.756293\"/>\r\n     <use style=\"fill:#add8e6;stroke:#add8e6;\" x=\"155.74839\" xlink:href=\"#m79b0f3e447\" y=\"159.408\"/>\r\n     <use style=\"fill:#add8e6;stroke:#add8e6;\" x=\"155.74839\" xlink:href=\"#m79b0f3e447\" y=\"159.805756\"/>\r\n     <use style=\"fill:#add8e6;stroke:#add8e6;\" x=\"159.991122\" xlink:href=\"#m79b0f3e447\" y=\"162.85522\"/>\r\n     <use style=\"fill:#add8e6;stroke:#add8e6;\" x=\"165.029366\" xlink:href=\"#m79b0f3e447\" y=\"165.109171\"/>\r\n     <use style=\"fill:#add8e6;stroke:#add8e6;\" x=\"170.06761\" xlink:href=\"#m79b0f3e447\" y=\"167.760878\"/>\r\n     <use style=\"fill:#add8e6;stroke:#add8e6;\" x=\"169.537268\" xlink:href=\"#m79b0f3e447\" y=\"167.495707\"/>\r\n     <use style=\"fill:#add8e6;stroke:#add8e6;\" x=\"175.636195\" xlink:href=\"#m79b0f3e447\" y=\"170.147415\"/>\r\n     <use style=\"fill:#add8e6;stroke:#add8e6;\" x=\"180.011512\" xlink:href=\"#m79b0f3e447\" y=\"171.340683\"/>\r\n     <use style=\"fill:#add8e6;stroke:#add8e6;\" x=\"184.917171\" xlink:href=\"#m79b0f3e447\" y=\"173.329463\"/>\r\n     <use style=\"fill:#add8e6;stroke:#add8e6;\" x=\"187.038537\" xlink:href=\"#m79b0f3e447\" y=\"173.329463\"/>\r\n     <use style=\"fill:#add8e6;stroke:#add8e6;\" x=\"187.568878\" xlink:href=\"#m79b0f3e447\" y=\"172.666537\"/>\r\n     <use style=\"fill:#add8e6;stroke:#add8e6;\" x=\"192.607122\" xlink:href=\"#m79b0f3e447\" y=\"171.871024\"/>\r\n     <use style=\"fill:#add8e6;stroke:#add8e6;\" x=\"197.777951\" xlink:href=\"#m79b0f3e447\" y=\"170.810341\"/>\r\n     <use style=\"fill:#add8e6;stroke:#add8e6;\" x=\"201.755512\" xlink:href=\"#m79b0f3e447\" y=\"168.423805\"/>\r\n     <use style=\"fill:#add8e6;stroke:#add8e6;\" x=\"201.225171\" xlink:href=\"#m79b0f3e447\" y=\"168.688976\"/>\r\n     <use style=\"fill:#add8e6;stroke:#add8e6;\" x=\"204.009463\" xlink:href=\"#m79b0f3e447\" y=\"165.639512\"/>\r\n     <use style=\"fill:#add8e6;stroke:#add8e6;\" x=\"206.396\" xlink:href=\"#m79b0f3e447\" y=\"162.324878\"/>\r\n     <use style=\"fill:#add8e6;stroke:#add8e6;\" x=\"207.589268\" xlink:href=\"#m79b0f3e447\" y=\"158.347317\"/>\r\n     <use style=\"fill:#add8e6;stroke:#add8e6;\" x=\"205.733073\" xlink:href=\"#m79b0f3e447\" y=\"155.96078\"/>\r\n     <use style=\"fill:#add8e6;stroke:#add8e6;\" x=\"204.539805\" xlink:href=\"#m79b0f3e447\" y=\"155.96078\"/>\r\n     <use style=\"fill:#add8e6;stroke:#add8e6;\" x=\"204.142049\" xlink:href=\"#m79b0f3e447\" y=\"151.055122\"/>\r\n     <use style=\"fill:#add8e6;stroke:#add8e6;\" x=\"203.346537\" xlink:href=\"#m79b0f3e447\" y=\"147.873073\"/>\r\n     <use style=\"fill:#add8e6;stroke:#add8e6;\" x=\"200.96\" xlink:href=\"#m79b0f3e447\" y=\"142.304488\"/>\r\n     <use style=\"fill:#add8e6;stroke:#add8e6;\" x=\"199.634146\" xlink:href=\"#m79b0f3e447\" y=\"142.304488\"/>\r\n     <use style=\"fill:#add8e6;stroke:#add8e6;\" x=\"197.115024\" xlink:href=\"#m79b0f3e447\" y=\"136.603317\"/>\r\n     <use style=\"fill:#add8e6;stroke:#add8e6;\" x=\"194.861073\" xlink:href=\"#m79b0f3e447\" y=\"132.493171\"/>\r\n     <use style=\"fill:#add8e6;stroke:#add8e6;\" x=\"191.413854\" xlink:href=\"#m79b0f3e447\" y=\"127.189756\"/>\r\n     <use style=\"fill:#add8e6;stroke:#add8e6;\" x=\"188.36439\" xlink:href=\"#m79b0f3e447\" y=\"121.488585\"/>\r\n     <use style=\"fill:#add8e6;stroke:#add8e6;\" x=\"189.557659\" xlink:href=\"#m79b0f3e447\" y=\"122.814439\"/>\r\n     <use style=\"fill:#add8e6;stroke:#add8e6;\" x=\"186.508195\" xlink:href=\"#m79b0f3e447\" y=\"117.90878\"/>\r\n     <use style=\"fill:#add8e6;stroke:#add8e6;\" x=\"183.193561\" xlink:href=\"#m79b0f3e447\" y=\"112.47278\"/>\r\n     <use style=\"fill:#add8e6;stroke:#add8e6;\" x=\"179.746341\" xlink:href=\"#m79b0f3e447\" y=\"107.964878\"/>\r\n     <use style=\"fill:#add8e6;stroke:#add8e6;\" x=\"177.094634\" xlink:href=\"#m79b0f3e447\" y=\"103.854732\"/>\r\n     <use style=\"fill:#add8e6;stroke:#add8e6;\" x=\"177.22722\" xlink:href=\"#m79b0f3e447\" y=\"103.854732\"/>\r\n     <use style=\"fill:#add8e6;stroke:#add8e6;\" x=\"174.708098\" xlink:href=\"#m79b0f3e447\" y=\"99.877171\"/>\r\n     <use style=\"fill:#add8e6;stroke:#add8e6;\" x=\"171.79122\" xlink:href=\"#m79b0f3e447\" y=\"95.104098\"/>\r\n     <use style=\"fill:#add8e6;stroke:#add8e6;\" x=\"167.018146\" xlink:href=\"#m79b0f3e447\" y=\"88.872585\"/>\r\n     <use style=\"fill:#add8e6;stroke:#add8e6;\" x=\"168.078829\" xlink:href=\"#m79b0f3e447\" y=\"89.402927\"/>\r\n     <use style=\"fill:#add8e6;stroke:#add8e6;\" x=\"163.173171\" xlink:href=\"#m79b0f3e447\" y=\"84.497268\"/>\r\n     <use style=\"fill:#add8e6;stroke:#add8e6;\" x=\"159.19561\" xlink:href=\"#m79b0f3e447\" y=\"80.784878\"/>\r\n     <use style=\"fill:#add8e6;stroke:#add8e6;\" x=\"154.422537\" xlink:href=\"#m79b0f3e447\" y=\"78.530927\"/>\r\n     <use style=\"fill:#add8e6;stroke:#add8e6;\" x=\"154.820293\" xlink:href=\"#m79b0f3e447\" y=\"77.868\"/>\r\n     <use style=\"fill:#add8e6;stroke:#add8e6;\" x=\"149.119122\" xlink:href=\"#m79b0f3e447\" y=\"74.553366\"/>\r\n     <use style=\"fill:#add8e6;stroke:#add8e6;\" x=\"144.743805\" xlink:href=\"#m79b0f3e447\" y=\"72.299415\"/>\r\n     <use style=\"fill:#add8e6;stroke:#add8e6;\" x=\"140.103317\" xlink:href=\"#m79b0f3e447\" y=\"70.44322\"/>\r\n     <use style=\"fill:#add8e6;stroke:#add8e6;\" x=\"134.402146\" xlink:href=\"#m79b0f3e447\" y=\"70.045463\"/>\r\n     <use style=\"fill:#add8e6;stroke:#add8e6;\" x=\"133.474049\" xlink:href=\"#m79b0f3e447\" y=\"70.045463\"/>\r\n     <use style=\"fill:#add8e6;stroke:#add8e6;\" x=\"127.905463\" xlink:href=\"#m79b0f3e447\" y=\"71.371317\"/>\r\n     <use style=\"fill:#add8e6;stroke:#add8e6;\" x=\"122.071707\" xlink:href=\"#m79b0f3e447\" y=\"72.166829\"/>\r\n     <use style=\"fill:#add8e6;stroke:#add8e6;\" x=\"117.033463\" xlink:href=\"#m79b0f3e447\" y=\"72.829756\"/>\r\n     <use style=\"fill:#add8e6;stroke:#add8e6;\" x=\"112.127805\" xlink:href=\"#m79b0f3e447\" y=\"74.818537\"/>\r\n     <use style=\"fill:#add8e6;stroke:#add8e6;\" x=\"111.464878\" xlink:href=\"#m79b0f3e447\" y=\"75.348878\"/>\r\n     <use style=\"fill:#add8e6;stroke:#add8e6;\" x=\"106.55922\" xlink:href=\"#m79b0f3e447\" y=\"77.602829\"/>\r\n     <use style=\"fill:#add8e6;stroke:#add8e6;\" x=\"103.509756\" xlink:href=\"#m79b0f3e447\" y=\"79.989366\"/>\r\n     <use style=\"fill:#add8e6;stroke:#add8e6;\" x=\"98.206341\" xlink:href=\"#m79b0f3e447\" y=\"83.038829\"/>\r\n     <use style=\"fill:#add8e6;stroke:#add8e6;\" x=\"99.001854\" xlink:href=\"#m79b0f3e447\" y=\"82.906244\"/>\r\n     <use style=\"fill:#add8e6;stroke:#add8e6;\" x=\"93.035512\" xlink:href=\"#m79b0f3e447\" y=\"86.486049\"/>\r\n     <use style=\"fill:#add8e6;stroke:#add8e6;\" x=\"87.864683\" xlink:href=\"#m79b0f3e447\" y=\"89.668098\"/>\r\n     <use style=\"fill:#add8e6;stroke:#add8e6;\" x=\"82.826439\" xlink:href=\"#m79b0f3e447\" y=\"92.319805\"/>\r\n     <use style=\"fill:#add8e6;stroke:#add8e6;\" x=\"78.185951\" xlink:href=\"#m79b0f3e447\" y=\"94.838927\"/>\r\n     <use style=\"fill:#add8e6;stroke:#add8e6;\" x=\"78.583707\" xlink:href=\"#m79b0f3e447\" y=\"94.308585\"/>\r\n     <use style=\"fill:#add8e6;stroke:#add8e6;\" x=\"73.678049\" xlink:href=\"#m79b0f3e447\" y=\"96.297366\"/>\r\n     <use style=\"fill:#add8e6;stroke:#add8e6;\" x=\"68.374634\" xlink:href=\"#m79b0f3e447\" y=\"99.081659\"/>\r\n     <use style=\"fill:#add8e6;stroke:#add8e6;\" x=\"63.07122\" xlink:href=\"#m79b0f3e447\" y=\"102.131122\"/>\r\n     <use style=\"fill:#add8e6;stroke:#add8e6;\" x=\"63.734146\" xlink:href=\"#m79b0f3e447\" y=\"101.998537\"/>\r\n     <use style=\"fill:#add8e6;stroke:#add8e6;\" x=\"58.563317\" xlink:href=\"#m79b0f3e447\" y=\"105.578341\"/>\r\n     <use style=\"fill:#add8e6;stroke:#add8e6;\" x=\"55.116098\" xlink:href=\"#m79b0f3e447\" y=\"110.218829\"/>\r\n     <use style=\"fill:#add8e6;stroke:#add8e6;\" x=\"50.077854\" xlink:href=\"#m79b0f3e447\" y=\"113.003122\"/>\r\n     <use style=\"fill:#add8e6;stroke:#add8e6;\" x=\"50.47561\" xlink:href=\"#m79b0f3e447\" y=\"113.400878\"/>\r\n     <use style=\"fill:#add8e6;stroke:#add8e6;\" x=\"46.630634\" xlink:href=\"#m79b0f3e447\" y=\"119.102049\"/>\r\n     <use style=\"fill:#add8e6;stroke:#add8e6;\" x=\"42.918244\" xlink:href=\"#m79b0f3e447\" y=\"124.140293\"/>\r\n     <use style=\"fill:#add8e6;stroke:#add8e6;\" x=\"40.399122\" xlink:href=\"#m79b0f3e447\" y=\"129.708878\"/>\r\n     <use style=\"fill:#add8e6;stroke:#add8e6;\" x=\"39.205854\" xlink:href=\"#m79b0f3e447\" y=\"133.819024\"/>\r\n     <use style=\"fill:#add8e6;stroke:#add8e6;\" x=\"40.399122\" xlink:href=\"#m79b0f3e447\" y=\"133.686439\"/>\r\n     <use style=\"fill:#add8e6;stroke:#add8e6;\" x=\"40.929463\" xlink:href=\"#m79b0f3e447\" y=\"137.531415\"/>\r\n     <use style=\"fill:#add8e6;stroke:#add8e6;\" x=\"39.86878\" xlink:href=\"#m79b0f3e447\" y=\"141.906732\"/>\r\n     <use style=\"fill:#add8e6;stroke:#add8e6;\" x=\"39.736195\" xlink:href=\"#m79b0f3e447\" y=\"147.607902\"/>\r\n     <use style=\"fill:#add8e6;stroke:#add8e6;\" x=\"39.338439\" xlink:href=\"#m79b0f3e447\" y=\"153.972\"/>\r\n     <use style=\"fill:#add8e6;stroke:#add8e6;\" x=\"39.205854\" xlink:href=\"#m79b0f3e447\" y=\"153.176488\"/>\r\n     <use style=\"fill:#add8e6;stroke:#add8e6;\" x=\"39.86878\" xlink:href=\"#m79b0f3e447\" y=\"160.203512\"/>\r\n     <use style=\"fill:#add8e6;stroke:#add8e6;\" x=\"40.664293\" xlink:href=\"#m79b0f3e447\" y=\"168.158634\"/>\r\n     <use style=\"fill:#add8e6;stroke:#add8e6;\" x=\"40.531707\" xlink:href=\"#m79b0f3e447\" y=\"174.787902\"/>\r\n     <use style=\"fill:#add8e6;stroke:#add8e6;\" x=\"41.32722\" xlink:href=\"#m79b0f3e447\" y=\"175.318244\"/>\r\n     <use style=\"fill:#add8e6;stroke:#add8e6;\" x=\"42.653073\" xlink:href=\"#m79b0f3e447\" y=\"181.682341\"/>\r\n     <use style=\"fill:#add8e6;stroke:#add8e6;\" x=\"46.630634\" xlink:href=\"#m79b0f3e447\" y=\"183.936293\"/>\r\n     <use style=\"fill:#add8e6;stroke:#add8e6;\" x=\"49.414927\" xlink:href=\"#m79b0f3e447\" y=\"186.720585\"/>\r\n     <use style=\"fill:#add8e6;stroke:#add8e6;\" x=\"52.46439\" xlink:href=\"#m79b0f3e447\" y=\"191.493659\"/>\r\n     <use style=\"fill:#add8e6;stroke:#add8e6;\" x=\"51.801463\" xlink:href=\"#m79b0f3e447\" y=\"192.156585\"/>\r\n     <use style=\"fill:#add8e6;stroke:#add8e6;\" x=\"57.370049\" xlink:href=\"#m79b0f3e447\" y=\"196.929659\"/>\r\n     <use style=\"fill:#add8e6;stroke:#add8e6;\" x=\"61.082439\" xlink:href=\"#m79b0f3e447\" y=\"200.90722\"/>\r\n     <use style=\"fill:#add8e6;stroke:#add8e6;\" x=\"64.662244\" xlink:href=\"#m79b0f3e447\" y=\"203.293756\"/>\r\n     <use style=\"fill:#add8e6;stroke:#add8e6;\" x=\"65.06\" xlink:href=\"#m79b0f3e447\" y=\"204.88478\"/>\r\n     <use style=\"fill:#add8e6;stroke:#add8e6;\" x=\"69.833073\" xlink:href=\"#m79b0f3e447\" y=\"207.138732\"/>\r\n     <use style=\"fill:#add8e6;stroke:#add8e6;\" x=\"74.20839\" xlink:href=\"#m79b0f3e447\" y=\"209.127512\"/>\r\n     <use style=\"fill:#add8e6;stroke:#add8e6;\" x=\"80.174732\" xlink:href=\"#m79b0f3e447\" y=\"212.309561\"/>\r\n     <use style=\"fill:#add8e6;stroke:#add8e6;\" x=\"83.754537\" xlink:href=\"#m79b0f3e447\" y=\"215.359024\"/>\r\n     <use style=\"fill:#add8e6;stroke:#add8e6;\" x=\"83.621951\" xlink:href=\"#m79b0f3e447\" y=\"215.889366\"/>\r\n     <use style=\"fill:#add8e6;stroke:#add8e6;\" x=\"90.383805\" xlink:href=\"#m79b0f3e447\" y=\"218.010732\"/>\r\n     <use style=\"fill:#add8e6;stroke:#add8e6;\" x=\"96.615317\" xlink:href=\"#m79b0f3e447\" y=\"218.806244\"/>\r\n     <use style=\"fill:#add8e6;stroke:#add8e6;\" x=\"100.592878\" xlink:href=\"#m79b0f3e447\" y=\"219.204\"/>\r\n     <use style=\"fill:#add8e6;stroke:#add8e6;\" x=\"100.327707\" xlink:href=\"#m79b0f3e447\" y=\"219.336585\"/>\r\n     <use style=\"fill:#add8e6;stroke:#add8e6;\" x=\"106.82439\" xlink:href=\"#m79b0f3e447\" y=\"220.92761\"/>\r\n     <use style=\"fill:#add8e6;stroke:#add8e6;\" x=\"111.730049\" xlink:href=\"#m79b0f3e447\" y=\"222.120878\"/>\r\n     <use style=\"fill:#add8e6;stroke:#add8e6;\" x=\"115.442439\" xlink:href=\"#m79b0f3e447\" y=\"222.91639\"/>\r\n     <use style=\"fill:#add8e6;stroke:#add8e6;\" x=\"120.082927\" xlink:href=\"#m79b0f3e447\" y=\"223.314146\"/>\r\n     <use style=\"fill:#add8e6;stroke:#add8e6;\" x=\"122.071707\" xlink:href=\"#m79b0f3e447\" y=\"223.844488\"/>\r\n     <use style=\"fill:#add8e6;stroke:#add8e6;\" x=\"126.712195\" xlink:href=\"#m79b0f3e447\" y=\"225.302927\"/>\r\n     <use style=\"fill:#add8e6;stroke:#add8e6;\" x=\"131.750439\" xlink:href=\"#m79b0f3e447\" y=\"226.761366\"/>\r\n     <use style=\"fill:#add8e6;stroke:#add8e6;\" x=\"138.910049\" xlink:href=\"#m79b0f3e447\" y=\"227.954634\"/>\r\n     <use style=\"fill:#add8e6;stroke:#add8e6;\" x=\"141.164\" xlink:href=\"#m79b0f3e447\" y=\"227.822049\"/>\r\n     <use style=\"fill:#add8e6;stroke:#add8e6;\" x=\"148.191024\" xlink:href=\"#m79b0f3e447\" y=\"228.08722\"/>\r\n     <use style=\"fill:#add8e6;stroke:#add8e6;\" x=\"153.892195\" xlink:href=\"#m79b0f3e447\" y=\"227.424293\"/>\r\n     <use style=\"fill:#add8e6;stroke:#add8e6;\" x=\"162.377659\" xlink:href=\"#m79b0f3e447\" y=\"225.965854\"/>\r\n     <use style=\"fill:#add8e6;stroke:#add8e6;\" x=\"164.499024\" xlink:href=\"#m79b0f3e447\" y=\"226.098439\"/>\r\n     <use style=\"fill:#add8e6;stroke:#add8e6;\" x=\"162.642829\" xlink:href=\"#m79b0f3e447\" y=\"226.36361\"/>\r\n     <use style=\"fill:#add8e6;stroke:#add8e6;\" x=\"167.813659\" xlink:href=\"#m79b0f3e447\" y=\"224.772585\"/>\r\n     <use style=\"fill:#add8e6;stroke:#add8e6;\" x=\"173.647415\" xlink:href=\"#m79b0f3e447\" y=\"224.109659\"/>\r\n     <use style=\"fill:#add8e6;stroke:#add8e6;\" x=\"178.155317\" xlink:href=\"#m79b0f3e447\" y=\"223.181561\"/>\r\n     <use style=\"fill:#add8e6;stroke:#add8e6;\" x=\"181.20478\" xlink:href=\"#m79b0f3e447\" y=\"222.518634\"/>\r\n     <use style=\"fill:#add8e6;stroke:#add8e6;\" x=\"184.652\" xlink:href=\"#m79b0f3e447\" y=\"223.048976\"/>\r\n     <use style=\"fill:#add8e6;stroke:#add8e6;\" x=\"189.690244\" xlink:href=\"#m79b0f3e447\" y=\"223.314146\"/>\r\n     <use style=\"fill:#add8e6;stroke:#add8e6;\" x=\"193.932976\" xlink:href=\"#m79b0f3e447\" y=\"223.977073\"/>\r\n     <use style=\"fill:#add8e6;stroke:#add8e6;\" x=\"194.330732\" xlink:href=\"#m79b0f3e447\" y=\"223.579317\"/>\r\n     <use style=\"fill:#add8e6;stroke:#add8e6;\" x=\"199.766732\" xlink:href=\"#m79b0f3e447\" y=\"223.977073\"/>\r\n     <use style=\"fill:#add8e6;stroke:#add8e6;\" x=\"206.263415\" xlink:href=\"#m79b0f3e447\" y=\"223.181561\"/>\r\n     <use style=\"fill:#add8e6;stroke:#add8e6;\" x=\"211.699415\" xlink:href=\"#m79b0f3e447\" y=\"223.048976\"/>\r\n     <use style=\"fill:#add8e6;stroke:#add8e6;\" x=\"217.002829\" xlink:href=\"#m79b0f3e447\" y=\"222.253463\"/>\r\n     <use style=\"fill:#add8e6;stroke:#add8e6;\" x=\"217.002829\" xlink:href=\"#m79b0f3e447\" y=\"223.048976\"/>\r\n     <use style=\"fill:#add8e6;stroke:#add8e6;\" x=\"217.930927\" xlink:href=\"#m79b0f3e447\" y=\"222.65122\"/>\r\n     <use style=\"fill:#add8e6;stroke:#add8e6;\" x=\"216.737659\" xlink:href=\"#m79b0f3e447\" y=\"223.579317\"/>\r\n     <use style=\"fill:#add8e6;stroke:#add8e6;\" x=\"217.135415\" xlink:href=\"#m79b0f3e447\" y=\"223.048976\"/>\r\n     <use style=\"fill:#add8e6;stroke:#add8e6;\" x=\"216.339902\" xlink:href=\"#m79b0f3e447\" y=\"223.314146\"/>\r\n     <use style=\"fill:#add8e6;stroke:#add8e6;\" x=\"216.207317\" xlink:href=\"#m79b0f3e447\" y=\"223.446732\"/>\r\n     <use style=\"fill:#add8e6;stroke:#add8e6;\" x=\"216.074732\" xlink:href=\"#m79b0f3e447\" y=\"223.579317\"/>\r\n     <use style=\"fill:#add8e6;stroke:#add8e6;\" x=\"216.472488\" xlink:href=\"#m79b0f3e447\" y=\"223.314146\"/>\r\n    </g>\r\n   </g>\r\n   <g id=\"PathCollection_2\">\r\n    <defs>\r\n     <path d=\"M 0 2.738613 \r\nC 0.726289 2.738613 1.422928 2.450055 1.936492 1.936492 \r\nC 2.450055 1.422928 2.738613 0.726289 2.738613 0 \r\nC 2.738613 -0.726289 2.450055 -1.422928 1.936492 -1.936492 \r\nC 1.422928 -2.450055 0.726289 -2.738613 0 -2.738613 \r\nC -0.726289 -2.738613 -1.422928 -2.450055 -1.936492 -1.936492 \r\nC -2.450055 -1.422928 -2.738613 -0.726289 -2.738613 0 \r\nC -2.738613 0.726289 -2.450055 1.422928 -1.936492 1.936492 \r\nC -1.422928 2.450055 -0.726289 2.738613 0 2.738613 \r\nz\r\n\" id=\"m42fc447321\" style=\"stroke:#000000;\"/>\r\n    </defs>\r\n    <g clip-path=\"url(#p83a05f84d0)\">\r\n     <use style=\"fill:#dc23c5;stroke:#000000;\" x=\"141.004898\" xlink:href=\"#m42fc447321\" y=\"268.976546\"/>\r\n     <use style=\"fill:#dc23c5;stroke:#000000;\" x=\"255.784049\" xlink:href=\"#m42fc447321\" y=\"186.760361\"/>\r\n     <use style=\"fill:#dc23c5;stroke:#000000;\" x=\"219.853415\" xlink:href=\"#m42fc447321\" y=\"89.455961\"/>\r\n     <use style=\"fill:#dc23c5;stroke:#000000;\" x=\"132.718312\" xlink:href=\"#m42fc447321\" y=\"117.272371\"/>\r\n     <use style=\"fill:#dc23c5;stroke:#000000;\" x=\"74.8448\" xlink:href=\"#m42fc447321\" y=\"170.28\"/>\r\n     <use style=\"fill:#dc23c5;stroke:#000000;\" x=\"40.332829\" xlink:href=\"#m42fc447321\" y=\"68.6268\"/>\r\n    </g>\r\n   </g>\r\n   <g id=\"line2d_1\">\r\n    <path clip-path=\"url(#p83a05f84d0)\" d=\"M 79.776976 276.215707 \r\nL 81.898341 274.094341 \r\nL 86.008488 269.719024 \r\nL 89.455707 266.802146 \r\nL 94.096195 262.161659 \r\nL 93.565854 262.957171 \r\nL 97.676 258.847024 \r\nL 102.714244 254.339122 \r\nL 106.161463 250.228976 \r\nL 114.116585 242.93678 \r\nL 118.624488 238.561463 \r\nL 122.469463 234.849073 \r\nL 127.905463 230.341171 \r\nL 135.197659 222.518634 \r\nL 139.572976 218.143317 \r\nL 143.815707 214.033171 \r\nL 147.660683 211.116293 \r\nL 152.168585 206.475805 \r\nL 151.770829 206.60839 \r\nL 157.074244 201.835317 \r\nL 160.521463 198.520683 \r\nL 164.63161 193.74761 \r\nL 168.609171 189.902634 \r\nL 168.609171 190.167805 \r\nL 173.647415 185.925073 \r\nL 178.553073 181.284585 \r\nL 182.530634 177.307024 \r\nL 182.265463 177.307024 \r\nL 196.584683 163.12039 \r\nL 194.993659 164.313659 \r\nL 203.213951 154.767512 \r\nL 206.396 152.646146 \r\nL 206.130829 153.176488 \r\nL 218.063512 142.171902 \r\nL 218.063512 142.437073 \r\nL 223.234341 138.857268 \r\nL 227.344488 134.21678 \r\nL 230.261366 129.974049 \r\nL 234.106341 126.924585 \r\nL 234.106341 126.526829 \r\nL 243.917659 113.666049 \r\nL 248.027805 107.301951 \r\nL 247.364878 106.506439 \r\nL 249.884 101.070439 \r\nL 250.944683 95.369268 \r\nL 251.077268 88.872585 \r\nL 251.475024 82.641073 \r\nL 251.740195 83.304 \r\nL 251.209854 77.868 \r\nL 248.823317 72.697171 \r\nL 247.232293 67.924098 \r\nL 246.967122 68.71961 \r\nL 244.182829 63.151024 \r\nL 241.531122 59.968976 \r\nL 235.697366 53.737463 \r\nL 230.659122 49.494732 \r\nL 225.355707 46.180098 \r\nL 220.71522 44.191317 \r\nL 214.218537 40.478927 \r\nL 213.157854 39.418244 \r\nL 208.517366 37.959805 \r\nL 197.24761 38.622732 \r\nL 196.319512 37.296878 \r\nL 189.822829 38.490146 \r\nL 185.182341 40.876683 \r\nL 181.735122 43.130634 \r\nL 176.033951 44.986829 \r\nL 175.901366 44.323902 \r\nL 170.33278 45.517171 \r\nL 163.968683 47.373366 \r\nL 153.361854 51.616098 \r\nL 153.096683 52.013854 \r\nL 148.191024 53.870049 \r\nL 142.489854 55.593659 \r\nL 137.849366 58.245366 \r\nL 138.512293 57.582439 \r\nL 134.00439 58.908293 \r\nL 126.049268 62.885854 \r\nL 121.14361 64.476878 \r\nL 115.70761 66.730829 \r\nL 114.116585 67.128585 \r\nL 110.53678 67.791512 \r\nL 99.267024 73.094927 \r\nL 99.001854 73.094927 \r\nL 96.350146 75.481463 \r\nL 92.637756 79.061268 \r\nL 87.864683 84.364683 \r\nL 85.08039 89.402927 \r\nL 80.970244 94.838927 \r\nL 79.114049 99.214244 \r\nL 78.981463 102.794049 \r\nL 78.053366 102.926634 \r\nL 78.318537 106.241268 \r\nL 79.114049 111.544683 \r\nL 80.970244 116.052585 \r\nL 80.970244 114.594146 \r\nL 84.284878 118.439122 \r\nL 91.577073 129.576293 \r\nL 93.831024 131.167317 \r\nL 96.350146 132.625756 \r\nL 102.581659 134.349366 \r\nL 107.222146 137.531415 \r\nL 110.801951 140.978634 \r\nL 111.332293 140.050537 \r\nL 115.575024 143.232585 \r\nL 121.011024 145.619122 \r\nL 126.57961 147.342732 \r\nL 126.977366 146.944976 \r\nL 132.01561 149.994439 \r\nL 137.45161 152.380976 \r\nL 149.384293 156.756293 \r\nL 155.74839 159.408 \r\nL 155.74839 159.805756 \r\nL 159.991122 162.85522 \r\nL 165.029366 165.109171 \r\nL 170.06761 167.760878 \r\nL 169.537268 167.495707 \r\nL 175.636195 170.147415 \r\nL 180.011512 171.340683 \r\nL 184.917171 173.329463 \r\nL 187.038537 173.329463 \r\nL 187.568878 172.666537 \r\nL 192.607122 171.871024 \r\nL 197.777951 170.810341 \r\nL 201.755512 168.423805 \r\nL 201.225171 168.688976 \r\nL 204.009463 165.639512 \r\nL 206.396 162.324878 \r\nL 207.589268 158.347317 \r\nL 205.733073 155.96078 \r\nL 204.539805 155.96078 \r\nL 204.142049 151.055122 \r\nL 203.346537 147.873073 \r\nL 200.96 142.304488 \r\nL 199.634146 142.304488 \r\nL 197.115024 136.603317 \r\nL 194.861073 132.493171 \r\nL 191.413854 127.189756 \r\nL 188.36439 121.488585 \r\nL 189.557659 122.814439 \r\nL 183.193561 112.47278 \r\nL 179.746341 107.964878 \r\nL 177.094634 103.854732 \r\nL 177.22722 103.854732 \r\nL 171.79122 95.104098 \r\nL 167.018146 88.872585 \r\nL 168.078829 89.402927 \r\nL 163.173171 84.497268 \r\nL 159.19561 80.784878 \r\nL 154.422537 78.530927 \r\nL 154.820293 77.868 \r\nL 149.119122 74.553366 \r\nL 144.743805 72.299415 \r\nL 140.103317 70.44322 \r\nL 133.474049 70.045463 \r\nL 127.905463 71.371317 \r\nL 117.033463 72.829756 \r\nL 112.127805 74.818537 \r\nL 111.464878 75.348878 \r\nL 106.55922 77.602829 \r\nL 103.509756 79.989366 \r\nL 98.206341 83.038829 \r\nL 99.001854 82.906244 \r\nL 87.864683 89.668098 \r\nL 78.185951 94.838927 \r\nL 78.583707 94.308585 \r\nL 73.678049 96.297366 \r\nL 68.374634 99.081659 \r\nL 63.07122 102.131122 \r\nL 63.734146 101.998537 \r\nL 58.563317 105.578341 \r\nL 55.116098 110.218829 \r\nL 50.077854 113.003122 \r\nL 50.47561 113.400878 \r\nL 46.630634 119.102049 \r\nL 42.918244 124.140293 \r\nL 40.399122 129.708878 \r\nL 39.205854 133.819024 \r\nL 40.399122 133.686439 \r\nL 40.929463 137.531415 \r\nL 39.86878 141.906732 \r\nL 39.736195 147.607902 \r\nL 39.338439 153.972 \r\nL 39.205854 153.176488 \r\nL 40.664293 168.158634 \r\nL 40.531707 174.787902 \r\nL 41.32722 175.318244 \r\nL 42.653073 181.682341 \r\nL 46.630634 183.936293 \r\nL 49.414927 186.720585 \r\nL 52.46439 191.493659 \r\nL 51.801463 192.156585 \r\nL 57.370049 196.929659 \r\nL 61.082439 200.90722 \r\nL 64.662244 203.293756 \r\nL 65.06 204.88478 \r\nL 74.20839 209.127512 \r\nL 80.174732 212.309561 \r\nL 83.754537 215.359024 \r\nL 83.621951 215.889366 \r\nL 90.383805 218.010732 \r\nL 100.592878 219.204 \r\nL 100.327707 219.336585 \r\nL 111.730049 222.120878 \r\nL 115.442439 222.91639 \r\nL 120.082927 223.314146 \r\nL 122.071707 223.844488 \r\nL 126.712195 225.302927 \r\nL 131.750439 226.761366 \r\nL 138.910049 227.954634 \r\nL 141.164 227.822049 \r\nL 148.191024 228.08722 \r\nL 153.892195 227.424293 \r\nL 162.377659 225.965854 \r\nL 164.499024 226.098439 \r\nL 162.642829 226.36361 \r\nL 167.813659 224.772585 \r\nL 173.647415 224.109659 \r\nL 181.20478 222.518634 \r\nL 184.652 223.048976 \r\nL 189.690244 223.314146 \r\nL 193.932976 223.977073 \r\nL 194.330732 223.579317 \r\nL 199.766732 223.977073 \r\nL 206.263415 223.181561 \r\nL 211.699415 223.048976 \r\nL 217.002829 222.253463 \r\nL 217.002829 223.048976 \r\nL 217.930927 222.65122 \r\nL 216.737659 223.579317 \r\nL 217.135415 223.048976 \r\nL 216.207317 223.446732 \r\nL 216.074732 223.579317 \r\nL 216.472488 223.314146 \r\nL 216.472488 223.314146 \r\n\" style=\"fill:none;stroke:#add8e6;stroke-linecap:square;stroke-width:0.5;\"/>\r\n   </g>\r\n   <g id=\"PathCollection_3\">\r\n    <defs>\r\n     <path d=\"M 0 1 \r\nC 0.265203 1 0.51958 0.894634 0.707107 0.707107 \r\nC 0.894634 0.51958 1 0.265203 1 0 \r\nC 1 -0.265203 0.894634 -0.51958 0.707107 -0.707107 \r\nC 0.51958 -0.894634 0.265203 -1 0 -1 \r\nC -0.265203 -1 -0.51958 -0.894634 -0.707107 -0.707107 \r\nC -0.894634 -0.51958 -1 -0.265203 -1 0 \r\nC -1 0.265203 -0.894634 0.51958 -0.707107 0.707107 \r\nC -0.51958 0.894634 -0.265203 1 0 1 \r\nz\r\n\" id=\"ma2c3f02fd9\" style=\"stroke:#80e080;\"/>\r\n    </defs>\r\n    <g clip-path=\"url(#p83a05f84d0)\">\r\n     <use style=\"fill:#80e080;stroke:#80e080;\" x=\"76.992683\" xlink:href=\"#ma2c3f02fd9\" y=\"279\"/>\r\n     <use style=\"fill:#80e080;stroke:#80e080;\" x=\"76.992683\" xlink:href=\"#ma2c3f02fd9\" y=\"279\"/>\r\n     <use style=\"fill:#80e080;stroke:#80e080;\" x=\"76.992683\" xlink:href=\"#ma2c3f02fd9\" y=\"279\"/>\r\n     <use style=\"fill:#80e080;stroke:#80e080;\" x=\"76.992683\" xlink:href=\"#ma2c3f02fd9\" y=\"279\"/>\r\n     <use style=\"fill:#80e080;stroke:#80e080;\" x=\"76.992683\" xlink:href=\"#ma2c3f02fd9\" y=\"279\"/>\r\n     <use style=\"fill:#80e080;stroke:#80e080;\" x=\"76.992683\" xlink:href=\"#ma2c3f02fd9\" y=\"279\"/>\r\n     <use style=\"fill:#80e080;stroke:#80e080;\" x=\"76.992683\" xlink:href=\"#ma2c3f02fd9\" y=\"279\"/>\r\n     <use style=\"fill:#80e080;stroke:#80e080;\" x=\"76.992683\" xlink:href=\"#ma2c3f02fd9\" y=\"279\"/>\r\n     <use style=\"fill:#80e080;stroke:#80e080;\" x=\"76.992683\" xlink:href=\"#ma2c3f02fd9\" y=\"279\"/>\r\n     <use style=\"fill:#80e080;stroke:#80e080;\" x=\"76.992683\" xlink:href=\"#ma2c3f02fd9\" y=\"279\"/>\r\n     <use style=\"fill:#80e080;stroke:#80e080;\" x=\"76.992683\" xlink:href=\"#ma2c3f02fd9\" y=\"279\"/>\r\n     <use style=\"fill:#80e080;stroke:#80e080;\" x=\"76.992683\" xlink:href=\"#ma2c3f02fd9\" y=\"279\"/>\r\n     <use style=\"fill:#80e080;stroke:#80e080;\" x=\"76.992683\" xlink:href=\"#ma2c3f02fd9\" y=\"279\"/>\r\n     <use style=\"fill:#80e080;stroke:#80e080;\" x=\"76.992683\" xlink:href=\"#ma2c3f02fd9\" y=\"279\"/>\r\n     <use style=\"fill:#80e080;stroke:#80e080;\" x=\"76.992683\" xlink:href=\"#ma2c3f02fd9\" y=\"279\"/>\r\n     <use style=\"fill:#80e080;stroke:#80e080;\" x=\"76.992683\" xlink:href=\"#ma2c3f02fd9\" y=\"279\"/>\r\n     <use style=\"fill:#80e080;stroke:#80e080;\" x=\"76.992683\" xlink:href=\"#ma2c3f02fd9\" y=\"279\"/>\r\n     <use style=\"fill:#80e080;stroke:#80e080;\" x=\"76.992683\" xlink:href=\"#ma2c3f02fd9\" y=\"279\"/>\r\n     <use style=\"fill:#80e080;stroke:#80e080;\" x=\"76.992683\" xlink:href=\"#ma2c3f02fd9\" y=\"279\"/>\r\n     <use style=\"fill:#80e080;stroke:#80e080;\" x=\"76.992683\" xlink:href=\"#ma2c3f02fd9\" y=\"279\"/>\r\n     <use style=\"fill:#80e080;stroke:#80e080;\" x=\"76.992683\" xlink:href=\"#ma2c3f02fd9\" y=\"279\"/>\r\n     <use style=\"fill:#80e080;stroke:#80e080;\" x=\"76.992683\" xlink:href=\"#ma2c3f02fd9\" y=\"279\"/>\r\n     <use style=\"fill:#80e080;stroke:#80e080;\" x=\"76.992683\" xlink:href=\"#ma2c3f02fd9\" y=\"279\"/>\r\n     <use style=\"fill:#80e080;stroke:#80e080;\" x=\"76.992683\" xlink:href=\"#ma2c3f02fd9\" y=\"279\"/>\r\n     <use style=\"fill:#80e080;stroke:#80e080;\" x=\"76.992683\" xlink:href=\"#ma2c3f02fd9\" y=\"279\"/>\r\n    </g>\r\n   </g>\r\n   <g id=\"LineCollection_1\">\r\n    <path clip-path=\"url(#p83a05f84d0)\" d=\"M 76.992683 279 \r\nL 81.68215 274.314266 \r\n\" style=\"fill:none;stroke:#80e080;stroke-width:0.5;\"/>\r\n    <path clip-path=\"url(#p83a05f84d0)\" d=\"M 76.992683 279 \r\nL 81.68215 274.314266 \r\n\" style=\"fill:none;stroke:#80e080;stroke-width:0.5;\"/>\r\n    <path clip-path=\"url(#p83a05f84d0)\" d=\"M 76.992683 279 \r\nL 81.68215 274.314266 \r\n\" style=\"fill:none;stroke:#80e080;stroke-width:0.5;\"/>\r\n    <path clip-path=\"url(#p83a05f84d0)\" d=\"M 76.992683 279 \r\nL 81.68215 274.314266 \r\n\" style=\"fill:none;stroke:#80e080;stroke-width:0.5;\"/>\r\n    <path clip-path=\"url(#p83a05f84d0)\" d=\"M 76.992683 279 \r\nL 81.68215 274.314266 \r\n\" style=\"fill:none;stroke:#80e080;stroke-width:0.5;\"/>\r\n    <path clip-path=\"url(#p83a05f84d0)\" d=\"M 76.992683 279 \r\nL 81.68215 274.314266 \r\n\" style=\"fill:none;stroke:#80e080;stroke-width:0.5;\"/>\r\n    <path clip-path=\"url(#p83a05f84d0)\" d=\"M 76.992683 279 \r\nL 81.68215 274.314266 \r\n\" style=\"fill:none;stroke:#80e080;stroke-width:0.5;\"/>\r\n    <path clip-path=\"url(#p83a05f84d0)\" d=\"M 76.992683 279 \r\nL 81.68215 274.314266 \r\n\" style=\"fill:none;stroke:#80e080;stroke-width:0.5;\"/>\r\n    <path clip-path=\"url(#p83a05f84d0)\" d=\"M 76.992683 279 \r\nL 81.68215 274.314266 \r\n\" style=\"fill:none;stroke:#80e080;stroke-width:0.5;\"/>\r\n    <path clip-path=\"url(#p83a05f84d0)\" d=\"M 76.992683 279 \r\nL 81.68215 274.314266 \r\n\" style=\"fill:none;stroke:#80e080;stroke-width:0.5;\"/>\r\n    <path clip-path=\"url(#p83a05f84d0)\" d=\"M 76.992683 279 \r\nL 81.68215 274.314266 \r\n\" style=\"fill:none;stroke:#80e080;stroke-width:0.5;\"/>\r\n    <path clip-path=\"url(#p83a05f84d0)\" d=\"M 76.992683 279 \r\nL 81.68215 274.314266 \r\n\" style=\"fill:none;stroke:#80e080;stroke-width:0.5;\"/>\r\n    <path clip-path=\"url(#p83a05f84d0)\" d=\"M 76.992683 279 \r\nL 81.68215 274.314266 \r\n\" style=\"fill:none;stroke:#80e080;stroke-width:0.5;\"/>\r\n    <path clip-path=\"url(#p83a05f84d0)\" d=\"M 76.992683 279 \r\nL 81.68215 274.314266 \r\n\" style=\"fill:none;stroke:#80e080;stroke-width:0.5;\"/>\r\n    <path clip-path=\"url(#p83a05f84d0)\" d=\"M 76.992683 279 \r\nL 81.68215 274.314266 \r\n\" style=\"fill:none;stroke:#80e080;stroke-width:0.5;\"/>\r\n    <path clip-path=\"url(#p83a05f84d0)\" d=\"M 76.992683 279 \r\nL 81.68215 274.314266 \r\n\" style=\"fill:none;stroke:#80e080;stroke-width:0.5;\"/>\r\n    <path clip-path=\"url(#p83a05f84d0)\" d=\"M 76.992683 279 \r\nL 81.68215 274.314266 \r\n\" style=\"fill:none;stroke:#80e080;stroke-width:0.5;\"/>\r\n    <path clip-path=\"url(#p83a05f84d0)\" d=\"M 76.992683 279 \r\nL 81.68215 274.314266 \r\n\" style=\"fill:none;stroke:#80e080;stroke-width:0.5;\"/>\r\n    <path clip-path=\"url(#p83a05f84d0)\" d=\"M 76.992683 279 \r\nL 81.68215 274.314266 \r\n\" style=\"fill:none;stroke:#80e080;stroke-width:0.5;\"/>\r\n    <path clip-path=\"url(#p83a05f84d0)\" d=\"M 76.992683 279 \r\nL 81.68215 274.314266 \r\n\" style=\"fill:none;stroke:#80e080;stroke-width:0.5;\"/>\r\n    <path clip-path=\"url(#p83a05f84d0)\" d=\"M 76.992683 279 \r\nL 81.68215 274.314266 \r\n\" style=\"fill:none;stroke:#80e080;stroke-width:0.5;\"/>\r\n    <path clip-path=\"url(#p83a05f84d0)\" d=\"M 76.992683 279 \r\nL 81.68215 274.314266 \r\n\" style=\"fill:none;stroke:#80e080;stroke-width:0.5;\"/>\r\n    <path clip-path=\"url(#p83a05f84d0)\" d=\"M 76.992683 279 \r\nL 81.68215 274.314266 \r\n\" style=\"fill:none;stroke:#80e080;stroke-width:0.5;\"/>\r\n    <path clip-path=\"url(#p83a05f84d0)\" d=\"M 76.992683 279 \r\nL 81.68215 274.314266 \r\n\" style=\"fill:none;stroke:#80e080;stroke-width:0.5;\"/>\r\n    <path clip-path=\"url(#p83a05f84d0)\" d=\"M 76.992683 279 \r\nL 81.68215 274.314266 \r\n\" style=\"fill:none;stroke:#80e080;stroke-width:0.5;\"/>\r\n   </g>\r\n   <g id=\"patch_7\">\r\n    <path clip-path=\"url(#p83a05f84d0)\" d=\"M 142.888463 285.001871 \r\nC 149.872795 284.180955 156.373542 281.705022 160.958991 278.119367 \r\nC 165.54444 274.533712 167.840209 270.131088 167.340682 265.881122 \r\nC 166.841154 261.631157 163.587114 257.88084 158.295227 255.456135 \r\nC 153.00334 253.031431 146.105664 252.130306 139.121332 252.951222 \r\nC 132.137 253.772138 125.636253 256.248071 121.050804 259.833726 \r\nC 116.465355 263.419381 114.169586 267.822005 114.669114 272.07197 \r\nC 115.168641 276.321936 118.422681 280.072253 123.714568 282.496957 \r\nC 129.006455 284.921662 135.904132 285.822787 142.888463 285.001871 \r\nz\r\n\" style=\"fill:none;stroke:#dc23c5;stroke-linejoin:miter;\"/>\r\n   </g>\r\n   <g id=\"patch_8\">\r\n    <path clip-path=\"url(#p83a05f84d0)\" d=\"M 232.350777 140.696408 \r\nC 226.082792 143.885006 222.539761 151.797024 222.501995 162.689934 \r\nC 222.464229 173.582843 225.934812 186.567286 232.149389 198.783589 \r\nC 238.363965 210.999892 246.815142 221.450648 255.641646 227.8342 \r\nC 264.468149 234.217752 272.949335 236.012911 279.21732 232.824313 \r\nC 285.485305 229.635716 289.028337 221.723698 289.066102 210.830788 \r\nC 289.103868 199.937879 285.633285 186.953436 279.418709 174.737133 \r\nC 273.204133 162.52083 264.752956 152.070074 255.926452 145.686522 \r\nC 247.099948 139.30297 238.618762 137.507811 232.350777 140.696408 \r\nz\r\n\" style=\"fill:none;stroke:#dc23c5;stroke-linejoin:miter;\"/>\r\n   </g>\r\n   <g id=\"patch_9\">\r\n    <path clip-path=\"url(#p83a05f84d0)\" d=\"M 203.932589 110.661679 \r\nC 216.892688 120.39186 231.001237 127.490458 243.150994 130.394092 \r\nC 255.300751 133.297726 264.499741 131.769325 268.721993 126.145503 \r\nC 272.944245 120.52168 271.845031 111.261597 265.666441 100.404677 \r\nC 259.487851 89.547758 248.734338 77.980423 235.77424 68.250243 \r\nC 222.814141 58.520062 208.705592 51.421463 196.555835 48.51783 \r\nC 184.406079 45.614196 175.207089 47.142597 170.984837 52.766419 \r\nC 166.762584 58.390241 167.861798 67.650325 174.040388 78.507245 \r\nC 180.218978 89.364164 190.972491 100.931499 203.932589 110.661679 \r\nz\r\n\" style=\"fill:none;stroke:#dc23c5;stroke-linejoin:miter;\"/>\r\n   </g>\r\n   <g id=\"patch_10\">\r\n    <path clip-path=\"url(#p83a05f84d0)\" d=\"M 124.351761 142.434962 \r\nC 135.385892 146.103806 146.851133 146.971588 156.222395 144.84719 \r\nC 165.593658 142.722792 172.105821 137.77966 174.324657 131.106463 \r\nC 176.543492 124.433266 174.287841 116.57484 168.054486 109.261913 \r\nC 161.82113 101.948985 152.118995 95.778624 141.084863 92.10978 \r\nC 130.050732 88.440935 118.585492 87.573153 109.214229 89.697551 \r\nC 99.842966 91.82195 93.330803 96.765081 91.111968 103.438278 \r\nC 88.893133 110.111475 91.148783 117.969901 97.382139 125.282829 \r\nC 103.615495 132.595756 113.317629 138.766118 124.351761 142.434962 \r\nz\r\n\" style=\"fill:none;stroke:#dc23c5;stroke-linejoin:miter;\"/>\r\n   </g>\r\n   <g id=\"patch_11\">\r\n    <path clip-path=\"url(#p83a05f84d0)\" d=\"M 76.090644 196.76779 \r\nC 83.441934 196.422025 90.361854 193.299454 95.326372 188.087788 \r\nC 100.290889 182.876121 102.894674 176.000869 102.564273 168.976225 \r\nC 102.233871 161.95158 98.996259 155.351076 93.564483 150.628395 \r\nC 88.132706 145.905715 80.950246 143.446444 73.598956 143.79221 \r\nC 66.247666 144.137975 59.327746 147.260546 54.363228 152.472212 \r\nC 49.398711 157.683879 46.794926 164.559131 47.125327 171.583775 \r\nC 47.455729 178.60842 50.693341 185.208924 56.125117 189.931605 \r\nC 61.556894 194.654285 68.739354 197.113556 76.090644 196.76779 \r\nz\r\n\" style=\"fill:none;stroke:#dc23c5;stroke-linejoin:miter;\"/>\r\n   </g>\r\n   <g id=\"patch_12\">\r\n    <path clip-path=\"url(#p83a05f84d0)\" d=\"M 45.288725 94.676642 \r\nC 59.699853 91.934973 73.000495 86.560451 82.261338 79.736752 \r\nC 91.522181 72.913052 95.987119 65.197301 94.6728 58.288802 \r\nC 93.358481 51.380303 86.372214 45.843105 75.252644 42.896712 \r\nC 64.133073 39.950318 49.788062 39.835289 35.376934 42.576958 \r\nC 20.965805 45.318627 7.665163 50.693149 -1.59568 57.516848 \r\nC -10.856523 64.340548 -15.32146 72.056299 -14.007141 78.964798 \r\nC -12.692822 85.873297 -5.706556 91.410495 5.413015 94.356888 \r\nC 16.532585 97.303282 30.877596 97.418311 45.288725 94.676642 \r\nz\r\n\" style=\"fill:none;stroke:#dc23c5;stroke-linejoin:miter;\"/>\r\n   </g>\r\n   <g id=\"patch_13\">\r\n    <path clip-path=\"url(#p83a05f84d0)\" d=\"M 79.776976 276.215707 \r\nC 79.776976 276.215707 79.776976 276.215707 79.776976 276.215707 \r\nC 79.776976 276.215707 79.776976 276.215707 79.776976 276.215707 \r\nC 79.776976 276.215707 79.776976 276.215707 79.776976 276.215707 \r\nC 79.776976 276.215707 79.776976 276.215707 79.776976 276.215707 \r\nC 79.776976 276.215707 79.776976 276.215707 79.776976 276.215707 \r\nC 79.776976 276.215707 79.776976 276.215707 79.776976 276.215707 \r\nC 79.776976 276.215707 79.776976 276.215707 79.776976 276.215707 \r\nC 79.776976 276.215707 79.776976 276.215707 79.776976 276.215707 \r\nz\r\n\" style=\"fill:none;stroke:#8080ff;stroke-linejoin:miter;\"/>\r\n   </g>\r\n   <g id=\"patch_14\">\r\n    <path clip-path=\"url(#p83a05f84d0)\" d=\"M 93.845375 262.158506 \r\nC 93.845375 262.158506 93.845375 262.158506 93.845375 262.158506 \r\nL 79.776976 276.215707 \r\nL 93.845375 262.158506 \r\nz\r\n\" style=\"fill:#c0c0ff;stroke:#c0c0ff;stroke-linejoin:miter;\"/>\r\n   </g>\r\n   <g id=\"PathCollection_4\">\r\n    <defs>\r\n     <path d=\"M 0 1.414214 \r\nC 0.375054 1.414214 0.734797 1.265203 1 1 \r\nC 1.265203 0.734797 1.414214 0.375054 1.414214 0 \r\nC 1.414214 -0.375054 1.265203 -0.734797 1 -1 \r\nC 0.734797 -1.265203 0.375054 -1.414214 0 -1.414214 \r\nC -0.375054 -1.414214 -0.734797 -1.265203 -1 -1 \r\nC -1.265203 -0.734797 -1.414214 -0.375054 -1.414214 0 \r\nC -1.414214 0.375054 -1.265203 0.734797 -1 1 \r\nC -0.734797 1.265203 -0.375054 1.414214 0 1.414214 \r\nz\r\n\" id=\"mfeb1795b01\" style=\"stroke:#0000ff;\"/>\r\n    </defs>\r\n    <g clip-path=\"url(#p83a05f84d0)\">\r\n     <use style=\"fill:#0000ff;stroke:#0000ff;\" x=\"79.776976\" xlink:href=\"#mfeb1795b01\" y=\"276.215707\"/>\r\n    </g>\r\n   </g>\r\n   <g id=\"line2d_2\">\r\n    <path clip-path=\"url(#p83a05f84d0)\" d=\"M 79.776976 276.215707 \r\nL 98.534842 257.472772 \r\n\" style=\"fill:none;stroke:#0000ff;stroke-linecap:square;stroke-width:0.5;\"/>\r\n   </g>\r\n  </g>\r\n </g>\r\n <defs>\r\n  <clipPath id=\"p83a05f84d0\">\r\n   <rect height=\"271.8\" width=\"271.8\" x=\"10.7\" y=\"7.2\"/>\r\n  </clipPath>\r\n </defs>\r\n</svg>\r\n",
      "text/plain": [
       "<Figure size 500x500 with 1 Axes>"
      ]
     },
     "metadata": {},
     "output_type": "display_data"
    }
   ],
   "source": [
    "# Execute this to run the interactive viewer.\n",
    "import ipy_logfile_viewer as lfv\n",
    "v = lfv.IPYLogfileViewer(files=[\"fast_slam_correction.txt\"])"
   ]
  },
  {
   "cell_type": "markdown",
   "metadata": {
    "deletable": false,
    "editable": false,
    "nbgrader": {
     "cell_type": "markdown",
     "checksum": "9cb2bfc876b0277be428cf961db9fce1",
     "grade": false,
     "grade_id": "cell-0a422947fff52d65",
     "locked": true,
     "schema_version": 3,
     "solution": false,
     "task": false
    }
   },
   "source": [
    "## Removing spurious landmarks"
   ]
  },
  {
   "cell_type": "code",
   "execution_count": 188,
   "metadata": {
    "deletable": false,
    "editable": false,
    "nbgrader": {
     "cell_type": "code",
     "checksum": "8bdbeff7e2fb9fc5fa143d41b8720c45",
     "grade": false,
     "grade_id": "cell-49d4991000f8bb8b",
     "locked": true,
     "schema_version": 3,
     "solution": false,
     "task": false
    }
   },
   "outputs": [
    {
     "data": {
      "text/html": [
       "\n",
       "        <iframe\n",
       "            width=\"560\"\n",
       "            height=\"315\"\n",
       "            src=\"//av.tib.eu/player/49037\"\n",
       "            frameborder=\"0\"\n",
       "            allowfullscreen\n",
       "        ></iframe>\n",
       "        "
      ],
      "text/plain": [
       "<IPython.lib.display.IFrame at 0x2274efc0760>"
      ]
     },
     "execution_count": 188,
     "metadata": {},
     "output_type": "execute_result"
    }
   ],
   "source": [
    "# If you don't see a video below, run this cell.\n",
    "IFrame(\"https://www.youtube.com/embed/1lXD7nHDBxg\" if \"YouTube\" in globals() else \"//av.tib.eu/player/49037\",\n",
    "       width=560, height=315)"
   ]
  },
  {
   "cell_type": "markdown",
   "metadata": {
    "deletable": false,
    "editable": false,
    "nbgrader": {
     "cell_type": "markdown",
     "checksum": "1be6f77d38fc11954a81a13caed68984",
     "grade": false,
     "grade_id": "cell-3159d6b723a36844",
     "locked": true,
     "schema_version": 3,
     "solution": false,
     "task": false
    }
   },
   "source": [
    "### Programming assignment: modify the previous code to remove spurious landmarks (10 Points)."
   ]
  },
  {
   "cell_type": "code",
   "execution_count": 189,
   "metadata": {
    "deletable": false,
    "nbgrader": {
     "cell_type": "code",
     "checksum": "51239cf7ae77eda3e6478046afcca54d",
     "grade": false,
     "grade_id": "cell-6173610b8850f9f1",
     "locked": false,
     "schema_version": 3,
     "solution": true,
     "task": false
    }
   },
   "outputs": [
    {
     "ename": "NotImplementedError",
     "evalue": "",
     "output_type": "error",
     "traceback": [
      "\u001b[1;31m---------------------------------------------------------------------------\u001b[0m",
      "\u001b[1;31mNotImplementedError\u001b[0m                       Traceback (most recent call last)",
      "\u001b[1;32m<ipython-input-189-329bbb1d6957>\u001b[0m in \u001b[0;36m<module>\u001b[1;34m\u001b[0m\n\u001b[0;32m    147\u001b[0m         cylinders = get_cylinders_from_scan(logfile.scan_data[i], depth_jump,\n\u001b[0;32m    148\u001b[0m             minimum_valid_distance, cylinder_offset)\n\u001b[1;32m--> 149\u001b[1;33m         \u001b[0mfs\u001b[0m\u001b[1;33m.\u001b[0m\u001b[0mcorrect\u001b[0m\u001b[1;33m(\u001b[0m\u001b[0mcylinders\u001b[0m\u001b[1;33m)\u001b[0m\u001b[1;33m\u001b[0m\u001b[1;33m\u001b[0m\u001b[0m\n\u001b[0m\u001b[0;32m    150\u001b[0m \u001b[1;33m\u001b[0m\u001b[0m\n\u001b[0;32m    151\u001b[0m         \u001b[1;31m# Output particles.\u001b[0m\u001b[1;33m\u001b[0m\u001b[1;33m\u001b[0m\u001b[1;33m\u001b[0m\u001b[0m\n",
      "\u001b[1;32m<ipython-input-186-a56ddc5725c5>\u001b[0m in \u001b[0;36mcorrect\u001b[1;34m(self, cylinders)\u001b[0m\n\u001b[0;32m     62\u001b[0m         \u001b[1;34m\"\"\"The correction step of FastSLAM.\"\"\"\u001b[0m\u001b[1;33m\u001b[0m\u001b[1;33m\u001b[0m\u001b[0m\n\u001b[0;32m     63\u001b[0m         \u001b[1;31m# Update all particles and compute their weights.\u001b[0m\u001b[1;33m\u001b[0m\u001b[1;33m\u001b[0m\u001b[1;33m\u001b[0m\u001b[0m\n\u001b[1;32m---> 64\u001b[1;33m         \u001b[0mweights\u001b[0m \u001b[1;33m=\u001b[0m \u001b[0mself\u001b[0m\u001b[1;33m.\u001b[0m\u001b[0mupdate_and_compute_weights\u001b[0m\u001b[1;33m(\u001b[0m\u001b[0mcylinders\u001b[0m\u001b[1;33m)\u001b[0m\u001b[1;33m\u001b[0m\u001b[1;33m\u001b[0m\u001b[0m\n\u001b[0m\u001b[0;32m     65\u001b[0m         \u001b[1;31m# Then resample, based on the weight array.\u001b[0m\u001b[1;33m\u001b[0m\u001b[1;33m\u001b[0m\u001b[1;33m\u001b[0m\u001b[0m\n\u001b[0;32m     66\u001b[0m         \u001b[0mself\u001b[0m\u001b[1;33m.\u001b[0m\u001b[0mparticles\u001b[0m \u001b[1;33m=\u001b[0m \u001b[0mself\u001b[0m\u001b[1;33m.\u001b[0m\u001b[0mresample\u001b[0m\u001b[1;33m(\u001b[0m\u001b[0mweights\u001b[0m\u001b[1;33m)\u001b[0m\u001b[1;33m\u001b[0m\u001b[1;33m\u001b[0m\u001b[0m\n",
      "\u001b[1;32m<ipython-input-189-329bbb1d6957>\u001b[0m in \u001b[0;36mupdate_and_compute_weights\u001b[1;34m(self, cylinders)\u001b[0m\n\u001b[0;32m     78\u001b[0m         \u001b[1;32mfor\u001b[0m \u001b[0mp\u001b[0m \u001b[1;32min\u001b[0m \u001b[0mself\u001b[0m\u001b[1;33m.\u001b[0m\u001b[0mparticles\u001b[0m\u001b[1;33m:\u001b[0m\u001b[1;33m\u001b[0m\u001b[1;33m\u001b[0m\u001b[0m\n\u001b[0;32m     79\u001b[0m             \u001b[1;31m# Added: decrement landmark counter for any visible landmark.\u001b[0m\u001b[1;33m\u001b[0m\u001b[1;33m\u001b[0m\u001b[1;33m\u001b[0m\u001b[0m\n\u001b[1;32m---> 80\u001b[1;33m             \u001b[0mp\u001b[0m\u001b[1;33m.\u001b[0m\u001b[0mdecrement_visible_landmark_counters\u001b[0m\u001b[1;33m(\u001b[0m\u001b[0mself\u001b[0m\u001b[1;33m.\u001b[0m\u001b[0mscanner_displacement\u001b[0m\u001b[1;33m)\u001b[0m\u001b[1;33m\u001b[0m\u001b[1;33m\u001b[0m\u001b[0m\n\u001b[0m\u001b[0;32m     81\u001b[0m \u001b[1;33m\u001b[0m\u001b[0m\n\u001b[0;32m     82\u001b[0m             \u001b[1;31m# Loop over all measurements.\u001b[0m\u001b[1;33m\u001b[0m\u001b[1;33m\u001b[0m\u001b[1;33m\u001b[0m\u001b[0m\n",
      "\u001b[1;32m<ipython-input-189-329bbb1d6957>\u001b[0m in \u001b[0;36mdecrement_visible_landmark_counters\u001b[1;34m(self, scanner_displacement)\u001b[0m\n\u001b[0;32m     50\u001b[0m \u001b[1;33m\u001b[0m\u001b[0m\n\u001b[0;32m     51\u001b[0m         \u001b[1;31m# YOUR CODE HERE\u001b[0m\u001b[1;33m\u001b[0m\u001b[1;33m\u001b[0m\u001b[1;33m\u001b[0m\u001b[0m\n\u001b[1;32m---> 52\u001b[1;33m         \u001b[1;32mraise\u001b[0m \u001b[0mNotImplementedError\u001b[0m\u001b[1;33m(\u001b[0m\u001b[1;33m)\u001b[0m\u001b[1;33m\u001b[0m\u001b[1;33m\u001b[0m\u001b[0m\n\u001b[0m\u001b[0;32m     53\u001b[0m \u001b[1;33m\u001b[0m\u001b[0m\n\u001b[0;32m     54\u001b[0m     \u001b[1;31m# New: Removal of landmarks with negative counter.\u001b[0m\u001b[1;33m\u001b[0m\u001b[1;33m\u001b[0m\u001b[1;33m\u001b[0m\u001b[0m\n",
      "\u001b[1;31mNotImplementedError\u001b[0m: "
     ]
    }
   ],
   "source": [
    "# slam_10_f_counter\n",
    "from lego_robot import *\n",
    "from slam_g_library import get_cylinders_from_scan, write_cylinders,\\\n",
    "     write_error_ellipses, get_mean, get_error_ellipse_and_heading_variance,\\\n",
    "     print_particles\n",
    "from math import sin, cos, pi\n",
    "import copy\n",
    "import random\n",
    "import numpy as np\n",
    "\n",
    "class Particle(Particle_5):\n",
    "    def __init__(self, pose):\n",
    "        super().__init__(pose)\n",
    "        self.landmark_counters = []  # Added: counter for each landmark.\n",
    "\n",
    "    # Solution from above, but modification is required.\n",
    "    def update_particle(self, measurement, measurement_in_scanner_system,\n",
    "                        number_of_landmarks,\n",
    "                        minimum_correspondence_likelihood,\n",
    "                        Qt_measurement_covariance, scanner_displacement):\n",
    "        \"\"\"Given a measurement, computes the likelihood that it belongs to any\n",
    "           of the landmarks in the particle. If there are none, or if all\n",
    "           likelihoods are below the minimum_correspondence_likelihood\n",
    "           threshold, add a landmark to the particle. Otherwise, update the\n",
    "           (existing) landmark with the largest likelihood.\"\"\"\n",
    "        # --->>> Copy & paste your code from above here.\n",
    "        #        Then, modify as follows:\n",
    "        #        - If a new landmark is initialized, append 1 to\n",
    "        #          landmark_counters.\n",
    "        #        - If an existing landmark is updated, add 2 to the\n",
    "        #          corresponding landmark counter.\n",
    "\n",
    "        # YOUR CODE HERE\n",
    "        raise NotImplementedError()\n",
    "\n",
    "    # New: Counter decrement for visible landmarks.\n",
    "    def decrement_visible_landmark_counters(self, scanner_displacement):\n",
    "        \"\"\"Decrements the counter for every landmark which is potentially\n",
    "           visible. This uses a simplified test: it is only checked if the\n",
    "           bearing of the expected measurement is within the laser scanners\n",
    "           range.\"\"\"\n",
    "        # Hints:\n",
    "        # - We only check the bearing angle of the landmarks.\n",
    "        # - Min and max bearing can be obtained from\n",
    "        #   LegoLogfile.min_max_bearing()\n",
    "        # - The bearing for any landmark can be computed using\n",
    "        #   h_expected_measurement_for_landmark()\n",
    "        # - If the bearing is within the range, decrement the corresponding\n",
    "        #   self.landmark_counters[].\n",
    "\n",
    "        # YOUR CODE HERE\n",
    "        raise NotImplementedError()\n",
    "\n",
    "    # New: Removal of landmarks with negative counter.\n",
    "    def remove_spurious_landmarks(self):\n",
    "        \"\"\"Remove all landmarks which have a counter less than zero.\"\"\"\n",
    "        # Remove any landmark for which the landmark_counters[] is (strictly)\n",
    "        # smaller than zero.\n",
    "        # Note: deleting elements of a list while iterating over the list\n",
    "        # will not work properly. One relatively simple and elegant solution is\n",
    "        # to make a new list which contains all required elements.\n",
    "        # (A compact way to do this is \"list comprehensions with if clause\",\n",
    "        # but you may also use a for loop).\n",
    "        # Remember to process landmark_positions, landmark_covariances and\n",
    "        # landmark_counters.\n",
    "\n",
    "        # YOUR CODE HERE\n",
    "        raise NotImplementedError()\n",
    "\n",
    "class FastSLAM(FastSLAM_2):\n",
    "    # Modification of previous update_and_compute_weights() function.\n",
    "    def update_and_compute_weights(self, cylinders):\n",
    "        \"\"\"Updates all particles and returns a list of their weights.\"\"\"\n",
    "        Qt_measurement_covariance = \\\n",
    "            np.diag([self.measurement_distance_stddev**2,\n",
    "                     self.measurement_angle_stddev**2])\n",
    "        weights = []\n",
    "        for p in self.particles:\n",
    "            # Added: decrement landmark counter for any visible landmark.\n",
    "            p.decrement_visible_landmark_counters(self.scanner_displacement)\n",
    "\n",
    "            # Loop over all measurements.\n",
    "            number_of_landmarks = p.number_of_landmarks()\n",
    "            weight = 1.0\n",
    "            for measurement, measurement_in_scanner_system in cylinders:\n",
    "                weight *= p.update_particle(\n",
    "                    measurement, measurement_in_scanner_system,\n",
    "                    number_of_landmarks,\n",
    "                    self.minimum_correspondence_likelihood,\n",
    "                    Qt_measurement_covariance, self.scanner_displacement)\n",
    "\n",
    "            # Append overall weight of this particle to weight list.\n",
    "            weights.append(weight)\n",
    "            \n",
    "            # Added: remove spurious landmarks (with negative counter).\n",
    "            p.remove_spurious_landmarks()\n",
    "\n",
    "        return weights\n",
    "\n",
    "\n",
    "if __name__ == '__main__':\n",
    "    # Robot constants.\n",
    "    scanner_displacement = 30.0\n",
    "    ticks_to_mm = 0.349\n",
    "    robot_width = 155.0\n",
    "\n",
    "    # Cylinder extraction and matching constants.\n",
    "    minimum_valid_distance = 20.0\n",
    "    depth_jump = 100.0\n",
    "    cylinder_offset = 90.0\n",
    "\n",
    "    # Filter constants.\n",
    "    control_motion_factor = 0.35  # Error in motor control.\n",
    "    control_turn_factor = 0.6  # Additional error due to slip when turning.\n",
    "    measurement_distance_stddev = 200.0  # Distance measurement error of cylinders.\n",
    "    measurement_angle_stddev = 15.0 / 180.0 * pi  # Angle measurement error.\n",
    "    minimum_correspondence_likelihood = 0.001  # Min likelihood of correspondence.\n",
    "\n",
    "    # Generate initial particles. Each particle is (x, y, theta).\n",
    "    number_of_particles = 25\n",
    "    start_state = np.array([500.0, 0.0, 45.0 / 180.0 * pi])\n",
    "    initial_particles = [ Particle(start_state.copy())\n",
    "                          for _ in range(number_of_particles)]\n",
    "\n",
    "    # Setup filter.\n",
    "    fs = FastSLAM(initial_particles,\n",
    "                  robot_width, scanner_displacement,\n",
    "                  control_motion_factor, control_turn_factor,\n",
    "                  measurement_distance_stddev,\n",
    "                  measurement_angle_stddev,\n",
    "                  minimum_correspondence_likelihood)\n",
    "\n",
    "    # Read data.\n",
    "    logfile = LegoLogfile()\n",
    "    logfile.read(\"robot4_motors.txt\")\n",
    "    logfile.read(\"robot4_scan.txt\")\n",
    "\n",
    "    # Loop over all motor tick records.\n",
    "    # This is the FastSLAM filter loop, with prediction and correction.\n",
    "    f = open(\"fast_slam_counter.txt\", \"w\")\n",
    "    for i in range(len(logfile.motor_ticks)):\n",
    "        # Prediction.\n",
    "        control = [x * ticks_to_mm for x in logfile.motor_ticks[i]]\n",
    "        fs.predict(control)\n",
    "\n",
    "        # Correction.\n",
    "        cylinders = get_cylinders_from_scan(logfile.scan_data[i], depth_jump,\n",
    "            minimum_valid_distance, cylinder_offset)\n",
    "        fs.correct(cylinders)\n",
    "\n",
    "        # Output particles.\n",
    "        print_particles(fs.particles, f)\n",
    "\n",
    "        # Output state estimated from all particles.\n",
    "        mean = get_mean(fs.particles)\n",
    "        print(\"F %.0f %.0f %.3f\" %\\\n",
    "              (mean[0] + scanner_displacement * cos(mean[2]),\n",
    "               mean[1] + scanner_displacement * sin(mean[2]),\n",
    "               mean[2]), file=f)\n",
    "\n",
    "        # Output error ellipse and standard deviation of heading.\n",
    "        errors = get_error_ellipse_and_heading_variance(fs.particles, mean)\n",
    "        print(\"E %.3f %.0f %.0f %.3f\" % errors, file=f)\n",
    "\n",
    "        # Output landmarks of particle which is closest to the mean position.\n",
    "        output_particle = min([\n",
    "            (np.linalg.norm(mean[0:2] - fs.particles[i].pose[0:2]),i)\n",
    "            for i in range(len(fs.particles)) ])[1]\n",
    "        # Write estimates of landmarks.\n",
    "        write_cylinders(f, \"W C\",\n",
    "                        fs.particles[output_particle].landmark_positions)\n",
    "        # Write covariance matrices.\n",
    "        write_error_ellipses(f, \"W E\",\n",
    "                             fs.particles[output_particle].landmark_covariances)\n",
    "\n",
    "    f.close()"
   ]
  },
  {
   "cell_type": "code",
   "execution_count": null,
   "metadata": {},
   "outputs": [],
   "source": [
    "# Execute this to run the interactive viewer.\n",
    "import ipy_logfile_viewer as lfv\n",
    "v = lfv.IPYLogfileViewer(files=[\"fast_slam_counter.txt\"])"
   ]
  },
  {
   "cell_type": "code",
   "execution_count": null,
   "metadata": {
    "deletable": false,
    "editable": false,
    "nbgrader": {
     "cell_type": "code",
     "checksum": "24bfc876bc8f2bd6fbbae234b24f53fd",
     "grade": true,
     "grade_id": "cell-47a8d6da5e5426ce",
     "locked": true,
     "points": 10,
     "schema_version": 3,
     "solution": false,
     "task": false
    }
   },
   "outputs": [],
   "source": [
    "from lego_robot import *\n",
    "from slam_g_library import get_cylinders_from_scan, get_mean\n",
    "from math import sin, cos, pi\n",
    "import numpy as np\n",
    "def generate_poses(the_particle_class, the_filter_class, n_particles):\n",
    "\n",
    "    # Robot constants.\n",
    "    scanner_displacement = 30.0\n",
    "    ticks_to_mm = 0.349\n",
    "    robot_width = 155.0\n",
    "\n",
    "    # Cylinder extraction and matching constants.\n",
    "    minimum_valid_distance = 20.0\n",
    "    depth_jump = 100.0\n",
    "    cylinder_offset = 90.0\n",
    "\n",
    "    # Filter constants.\n",
    "    control_motion_factor = 0.35\n",
    "    control_turn_factor = 0.6\n",
    "    measurement_distance_stddev = 200.0\n",
    "    measurement_angle_stddev = 15.0 / 180.0 * pi\n",
    "    minimum_correspondence_likelihood = 0.001\n",
    "\n",
    "    # Generate initial particles. Each particle is (x, y, theta).\n",
    "    number_of_particles = n_particles\n",
    "    start_state = np.array([500.0, 0.0, 45.0 / 180.0 * pi])\n",
    "    initial_particles = [ the_particle_class(start_state.copy())\n",
    "                          for _ in range(number_of_particles)]\n",
    "    # Setup filter.\n",
    "    fs = the_filter_class(initial_particles,\n",
    "                  robot_width, scanner_displacement,\n",
    "                  control_motion_factor, control_turn_factor,\n",
    "                  measurement_distance_stddev,\n",
    "                  measurement_angle_stddev,\n",
    "                  minimum_correspondence_likelihood)\n",
    "    # Read data.\n",
    "    logfile = LegoLogfile()\n",
    "    logfile.read(\"robot4_motors.txt\")\n",
    "    logfile.read(\"robot4_scan.txt\")\n",
    "    # Loop over all motor tick records.\n",
    "    poses = []\n",
    "    for i in range(len(logfile.motor_ticks)):\n",
    "        # Prediction.\n",
    "        control = [x * ticks_to_mm for x in logfile.motor_ticks[i]]\n",
    "        fs.predict(control)\n",
    "        # Correction.\n",
    "        cylinders = get_cylinders_from_scan(logfile.scan_data[i], depth_jump,\n",
    "            minimum_valid_distance, cylinder_offset)\n",
    "        fs.correct(cylinders)\n",
    "        mean = get_mean(fs.particles)\n",
    "        poses.append(mean)\n",
    "    return poses\n",
    "\n",
    "def test(the_particle_class, the_filter_class):\n",
    "    ref_poses = np.array([\n",
    "500,0,0.785,500,0,0.785,500,0,0.785,500,0,0.785,500,0,0.785,500,0,0.785,\n",
    "500,0,0.785,500,0,0.785,500,0,0.785,500,0,0.785,500,0,0.785,500,0,0.785,\n",
    "500,0,0.785,517,17,0.786,548,48,0.779,578,77,0.781,608,107,0.780,607,106,0.779,\n",
    "637,135,0.773,668,165,0.770,698,194,0.770,725,221,0.773,723,219,0.770,\n",
    "755,249,0.768,786,281,0.793,787,282,0.790,819,314,0.793,848,343,0.778,\n",
    "878,373,0.770,909,402,0.778,940,431,0.791,940,432,0.787,973,462,0.774,\n",
    "1003,492,0.782,1035,523,0.785,1034,522,0.783,1065,553,0.788,1096,584,0.785,\n",
    "1127,614,0.786,1157,642,0.780,1156,638,0.775,1187,666,0.780,1217,694,0.782,\n",
    "1247,722,0.772,1246,721,0.776,1278,751,0.762,1308,779,0.772,1338,806,0.770,\n",
    "1369,835,0.777,1369,834,0.767,1400,860,0.752,1431,891,0.759,1459,920,0.762,\n",
    "1459,919,0.761,1492,951,0.753,1523,978,0.737,1554,1008,0.732,1554,1007,0.726,\n",
    "1584,1035,0.717,1616,1063,0.722,1644,1090,0.730,1676,1117,0.757,1676,1116,0.741,\n",
    "1705,1147,0.852,1734,1183,0.956,1757,1219,1.044,1776,1259,1.151,1778,1258,1.146,\n",
    "1793,1299,1.223,1804,1342,1.335,1809,1384,1.463,1813,1427,1.563,1815,1426,1.566,\n",
    "1816,1467,1.747,1809,1506,1.930,1797,1542,2.069,1804,1545,2.002,1790,1580,2.096,\n",
    "1778,1613,2.176,1756,1644,2.302,1757,1645,2.287,1729,1674,2.444,1699,1697,2.533,\n",
    "1665,1715,2.668,1632,1731,2.793,1632,1728,2.794,1592,1740,2.947,1552,1747,3.060,\n",
    "1514,1748,-3.083,1509,1746,-3.059,1467,1747,-3.024,1425,1742,-2.967,\n",
    "1384,1731,-2.926,1345,1718,-2.890,1346,1712,-2.883,1306,1700,-2.880,\n",
    "1264,1688,-2.875,1227,1679,-2.872,1186,1670,-2.873,1186,1671,-2.877,\n",
    "1144,1660,-2.888,1105,1649,-2.892,1067,1637,-2.871,1064,1638,-2.880,\n",
    "1021,1627,-2.878,982,1615,-2.880,942,1604,-2.886,906,1592,-2.871,\n",
    "904,1592,-2.879,865,1582,-2.886,822,1571,-2.856,781,1561,-2.783,782,1562,-2.798,\n",
    "745,1544,-2.638,711,1522,-2.506,682,1500,-2.429,682,1498,-2.409,655,1469,-2.271,\n",
    "631,1438,-2.144,611,1408,-2.077,597,1377,-1.941,599,1375,-1.902,593,1339,-1.716,\n",
    "594,1304,-1.569,598,1268,-1.402,600,1262,-1.368,612,1222,-1.181,630,1188,-1.044,\n",
    "650,1159,-0.905,670,1136,-0.830,674,1135,-0.775,711,1107,-0.659,747,1084,-0.580,\n",
    "784,1061,-0.518,788,1060,-0.516,829,1039,-0.504,869,1018,-0.489,909,999,-0.485,\n",
    "910,998,-0.487,949,977,-0.480,988,956,-0.479,1027,934,-0.483,1068,913,-0.479,\n",
    "1105,894,-0.474,1107,892,-0.479,1148,871,-0.484,1188,851,-0.475,1227,832,-0.458,\n",
    "1225,832,-0.470,1265,812,-0.466,1297,794,-0.421,1329,783,-0.307,1352,776,-0.240,\n",
    "1349,776,-0.216,1380,773,0.010,1411,774,0.207,1438,785,0.451,1436,785,0.471,\n",
    "1461,803,0.693,1481,823,0.851,1496,845,0.999,1511,869,1.214,1508,867,1.253,\n",
    "1516,899,1.510,1519,929,1.648,1514,969,1.747,1510,967,1.818,1496,1010,1.894,\n",
    "1477,1048,1.970,1459,1084,2.006,1441,1119,2.017,1439,1122,2.016,1421,1161,2.018,\n",
    "1403,1202,2.019,1384,1241,2.020,1366,1273,2.021,1366,1273,2.012,1348,1311,2.052,\n",
    "1329,1348,2.089,1308,1385,2.178,1307,1385,2.190,1277,1422,2.281,1245,1455,2.369,\n",
    "1215,1484,2.455,1217,1485,2.459,1181,1511,2.558,1144,1533,2.667,1107,1550,2.773,\n",
    "1068,1563,2.900,1066,1564,2.918,1027,1570,3.049,991,1571,-3.133,953,1568,-3.053,\n",
    "911,1560,-2.950,908,1558,-2.907,867,1544,-2.859,825,1529,-2.792,784,1511,-2.741,\n",
    "783,1511,-2.729,745,1492,-2.720,703,1472,-2.717,666,1455,-2.710,627,1438,-2.718,\n",
    "625,1438,-2.719,588,1419,-2.717,550,1403,-2.686,512,1383,-2.657,513,1381,-2.649,\n",
    "475,1359,-2.559,439,1332,-2.470,407,1305,-2.428,407,1305,-2.429,373,1276,-2.286,\n",
    "346,1241,-2.154,323,1206,-2.046,305,1171,-1.954,304,1170,-1.949,289,1126,-1.882,\n",
    "276,1084,-1.837,268,1039,-1.718,261,994,-1.674,260,988,-1.673,256,939,-1.578,\n",
    "258,892,-1.499,261,848,-1.420,266,844,-1.404,276,796,-1.314,290,750,-1.205,\n",
    "309,708,-1.096,328,673,-1.033,329,671,-1.032,356,633,-0.933,384,600,-0.866,\n",
    "414,567,-0.795,414,568,-0.784,446,539,-0.694,482,513,-0.597,516,491,-0.539,\n",
    "553,472,-0.473,554,472,-0.455,595,455,-0.371,641,441,-0.321,684,429,-0.303,\n",
    "687,430,-0.303,730,417,-0.306,773,404,-0.308,817,391,-0.310,857,378,-0.295,\n",
    "856,377,-0.304,899,363,-0.258,941,354,-0.214,980,345,-0.150,979,345,-0.142,\n",
    "1024,341,-0.036,1069,340,0.028,1110,345,0.074,1152,349,0.091,1150,349,0.090,\n",
    "1196,353,0.086,1239,356,0.095,1282,361,0.102,1284,358,0.091,1329,362,0.088,\n",
    "1372,365,0.092,1414,369,0.087,1415,369,0.094,1461,373,0.083,1505,376,0.089,\n",
    "1545,380,0.098,1585,386,0.106,1591,384,0.098,1592,383,0.085,1594,382,0.077,\n",
    "1595,382,0.075,1595,382,0.073,1595,382,0.072,1595,382,0.072,1594,382,0.071,])\n",
    "    ref_poses = ref_poses.reshape(ref_poses.shape[0]//3,3)\n",
    "\n",
    "    for experiment in range(10):\n",
    "        # Generate poses.\n",
    "        poses = np.array(generate_poses(the_particle_class,\n",
    "                                        the_filter_class, 25))\n",
    "        # Compare.\n",
    "        diff = ref_poses-poses\n",
    "        diff[:,2] = (diff[:,2] + np.pi) % (2*np.pi) - np.pi\n",
    "        d = np.max(np.abs(diff), axis=0)\n",
    "\n",
    "        # Quit if close.\n",
    "        if (d < (150, 150, 0.3)).all():\n",
    "            return True\n",
    "    return False\n",
    "assert test(Particle, FastSLAM), \"Oh no, it's wrong!\""
   ]
  },
  {
   "cell_type": "markdown",
   "metadata": {
    "deletable": false,
    "editable": false,
    "nbgrader": {
     "cell_type": "markdown",
     "checksum": "59f7aa55658a748ae0b9850ab80d361c",
     "grade": false,
     "grade_id": "cell-86af570493140618",
     "locked": true,
     "schema_version": 3,
     "solution": false,
     "task": false
    }
   },
   "source": [
    "## Conclusions and final remarks"
   ]
  },
  {
   "cell_type": "code",
   "execution_count": null,
   "metadata": {
    "deletable": false,
    "editable": false,
    "nbgrader": {
     "cell_type": "code",
     "checksum": "178ea0c22551a9226a25688a7ee8ea35",
     "grade": false,
     "grade_id": "cell-6ac74cb092fd6c4b",
     "locked": true,
     "schema_version": 3,
     "solution": false,
     "task": false
    }
   },
   "outputs": [
    {
     "data": {
      "text/html": [
       "\n",
       "        <iframe\n",
       "            width=\"560\"\n",
       "            height=\"315\"\n",
       "            src=\"//av.tib.eu/player/49038\"\n",
       "            frameborder=\"0\"\n",
       "            allowfullscreen\n",
       "        ></iframe>\n",
       "        "
      ],
      "text/plain": [
       "<IPython.lib.display.IFrame at 0x7f187a785a10>"
      ]
     },
     "execution_count": 288,
     "metadata": {},
     "output_type": "execute_result"
    }
   ],
   "source": [
    "# If you don't see a video below, run this cell.\n",
    "IFrame(\"https://www.youtube.com/embed/gwxBrE-aYmc\" if \"YouTube\" in globals() else \"//av.tib.eu/player/49038\",\n",
    "       width=560, height=315)"
   ]
  }
 ],
 "metadata": {
  "copyright": "(c) Claus Brenner 2021",
  "kernelspec": {
   "display_name": "Python 3",
   "language": "python",
   "name": "python3"
  },
  "language_info": {
   "codemirror_mode": {
    "name": "ipython",
    "version": 3
   },
   "file_extension": ".py",
   "mimetype": "text/x-python",
   "name": "python",
   "nbconvert_exporter": "python",
   "pygments_lexer": "ipython3",
   "version": "3.7.8"
  }
 },
 "nbformat": 4,
 "nbformat_minor": 4
}
